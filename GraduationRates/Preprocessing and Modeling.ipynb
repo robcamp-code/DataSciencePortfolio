{
 "cells": [
  {
   "cell_type": "markdown",
   "id": "0757659b-c373-4ff4-a9f2-773422c036ba",
   "metadata": {},
   "source": [
    "# Preprocessing and Modeling"
   ]
  },
  {
   "cell_type": "code",
   "execution_count": 1,
   "id": "d41f0318-9b53-4cfb-a147-0c3d2f5dd124",
   "metadata": {},
   "outputs": [],
   "source": [
    "import pandas as pd\n",
    "import numpy as np"
   ]
  },
  {
   "cell_type": "code",
   "execution_count": 2,
   "id": "1965b95c-0666-4a77-8e70-dc1b794cda56",
   "metadata": {},
   "outputs": [],
   "source": [
    "from sklearn.model_selection import train_test_split\n",
    "from sklearn.pipeline import Pipeline, FeatureUnion\n",
    "import xgboost as xgb\n",
    "from sklearn.ensemble import RandomForestRegressor\n",
    "from sklearn.linear_model import ElasticNet\n",
    "from sklearn.metrics import mean_squared_error, mean_absolute_error\n",
    "from sklearn.compose import ColumnTransformer, make_column_selector\n",
    "from sklearn.preprocessing import StandardScaler, OneHotEncoder, PolynomialFeatures\n",
    "from sklearn.impute import KNNImputer\n",
    "import category_encoders as ce"
   ]
  },
  {
   "cell_type": "code",
   "execution_count": 3,
   "id": "e9953668-c463-42d9-9265-6d6a96dc0a08",
   "metadata": {},
   "outputs": [],
   "source": [
    "from joblib import load, dump\n",
    "from Logger import RegressionLogger"
   ]
  },
  {
   "cell_type": "code",
   "execution_count": 4,
   "id": "0a1da50a-9b22-44fc-9c93-8c1af4024190",
   "metadata": {},
   "outputs": [],
   "source": [
    "import plotly.express as px"
   ]
  },
  {
   "cell_type": "code",
   "execution_count": null,
   "id": "a75f0bd5-f767-40d7-80f1-9be7ea2047d3",
   "metadata": {},
   "outputs": [],
   "source": []
  },
  {
   "cell_type": "code",
   "execution_count": 5,
   "id": "edfbcf67-5bcb-4b3c-9993-8f63eac37b63",
   "metadata": {},
   "outputs": [],
   "source": [
    "black = 'graduation_rate_black_non-hispanic'\n",
    "total = 'graduation_rate_total_cohort'"
   ]
  },
  {
   "cell_type": "code",
   "execution_count": null,
   "id": "8048132c-96d9-412e-830a-b4c215456662",
   "metadata": {},
   "outputs": [],
   "source": []
  },
  {
   "cell_type": "code",
   "execution_count": 6,
   "id": "3773c355-ab90-4ea7-bde4-151fe58faa48",
   "metadata": {},
   "outputs": [],
   "source": [
    "df = pd.read_csv(\"data/4_year/aggregate.csv\", index_col=[\"UnitID\", \"institution_name\"])\n",
    "df.drop('Unnamed: 0', axis=1, inplace=True)"
   ]
  },
  {
   "cell_type": "markdown",
   "id": "dee3fd93-0e84-43a0-ab4e-63935d767e2c",
   "metadata": {},
   "source": [
    "# Define X and Y"
   ]
  },
  {
   "cell_type": "code",
   "execution_count": 7,
   "id": "d5059c79-d0d0-4772-9325-0f948c9721f0",
   "metadata": {},
   "outputs": [],
   "source": [
    "df['cohort'] = df['cohort'].astype(str)\n",
    "categorical = df.select_dtypes('object').copy(deep=True)\n",
    "numeric = df.select_dtypes(float).copy(deep=True)\n",
    "ints = df.select_dtypes(int).copy(deep=True)"
   ]
  },
  {
   "cell_type": "code",
   "execution_count": 8,
   "id": "562387ec-59ef-4d18-8d77-ebfd2b930dc2",
   "metadata": {},
   "outputs": [],
   "source": [
    "grad_rates = numeric.filter(regex=\"_rate\").columns"
   ]
  },
  {
   "cell_type": "code",
   "execution_count": 9,
   "id": "a2de6239-ad41-4fb9-bffc-9b049dc2c666",
   "metadata": {
    "tags": []
   },
   "outputs": [],
   "source": [
    "y = numeric.loc[:,grad_rates]\n",
    "numeric.drop(grad_rates, axis=1, inplace=True)"
   ]
  },
  {
   "cell_type": "code",
   "execution_count": 10,
   "id": "3c46d359-cfde-4099-a58d-2bc240cf4837",
   "metadata": {
    "tags": []
   },
   "outputs": [],
   "source": [
    "X = pd.concat([categorical, numeric, ints], axis=1)"
   ]
  },
  {
   "cell_type": "markdown",
   "id": "57fb22ab-5486-4293-8600-30e1042b7acf",
   "metadata": {},
   "source": [
    "# Train Test Split"
   ]
  },
  {
   "cell_type": "code",
   "execution_count": 11,
   "id": "1b47f40e-e3a3-4b4b-83c9-caee943b1ac4",
   "metadata": {},
   "outputs": [],
   "source": [
    "model_log = list()"
   ]
  },
  {
   "cell_type": "markdown",
   "id": "7686bff6-3889-45ba-b2f3-f0f818f7f5c6",
   "metadata": {},
   "source": [
    "# Categorical Pipeline"
   ]
  },
  {
   "cell_type": "code",
   "execution_count": 12,
   "id": "d4f35886-80e6-41e4-8930-4decf185f9f8",
   "metadata": {},
   "outputs": [],
   "source": [
    "categorical_preprocess = Pipeline([\n",
    "    ('target_encode', ColumnTransformer([\n",
    "        (\"Encode\", ce.TargetEncoder(), make_column_selector(dtype_include=\"object\")),\n",
    "    ], remainder='drop')),\n",
    "    \n",
    "    ('Scale', ColumnTransformer([\n",
    "        (\"Scaler\", StandardScaler(), slice(200))\n",
    "    ], remainder='passthrough'))\n",
    "])"
   ]
  },
  {
   "cell_type": "markdown",
   "id": "d55b800d-bcc3-4114-8c2f-2cd48de602ca",
   "metadata": {},
   "source": [
    "# Float Pipeline"
   ]
  },
  {
   "cell_type": "code",
   "execution_count": 13,
   "id": "d83b3e2f-c8f0-4eb1-81ac-0abfa17b5224",
   "metadata": {},
   "outputs": [],
   "source": [
    "numeric_preprocess = Pipeline([\n",
    "    ('Impute', ColumnTransformer([\n",
    "        (\"Impute\", KNNImputer(), make_column_selector(dtype_include=float)),\n",
    "        \n",
    "    ], remainder='drop')),\n",
    "    \n",
    "    ('Scale', ColumnTransformer([\n",
    "        (\"Scaler\", StandardScaler(), slice(200))\n",
    "    ], remainder='passthrough'),)\n",
    "])"
   ]
  },
  {
   "cell_type": "markdown",
   "id": "3aabd353-aa62-40dc-9b29-755f21a9c02f",
   "metadata": {},
   "source": [
    "# Int Pipeline"
   ]
  },
  {
   "cell_type": "code",
   "execution_count": 14,
   "id": "23faebcd-0322-4046-a4e3-62e0fcf2d856",
   "metadata": {},
   "outputs": [],
   "source": [
    "int_preprocess = ColumnTransformer([\n",
    "        (\"pass\", \"passthrough\", make_column_selector(dtype_include=int)),\n",
    "    ], remainder='drop')"
   ]
  },
  {
   "cell_type": "code",
   "execution_count": 15,
   "id": "4b3e12e5-f6b7-4982-a270-a1e77261d00b",
   "metadata": {},
   "outputs": [],
   "source": [
    "feature_union = FeatureUnion([\n",
    "    ('categorical_preprocess', categorical_preprocess),\n",
    "    ('numeric_preprocess', numeric_preprocess),\n",
    "])\n",
    "\n",
    "feature_union2 = FeatureUnion([\n",
    "    ('int', int_preprocess),\n",
    "    ('union1', feature_union),\n",
    "    \n",
    "])"
   ]
  },
  {
   "cell_type": "markdown",
   "id": "93c32ba3-98c6-4569-ba7f-71331ba4e21d",
   "metadata": {},
   "source": [
    "## Final Pipelines"
   ]
  },
  {
   "cell_type": "code",
   "execution_count": 16,
   "id": "474a2942-fd87-482a-ac8a-c8b2667bef94",
   "metadata": {},
   "outputs": [],
   "source": [
    "logger = RegressionLogger({\n",
    "    \"model_name\": \"Elastic Net\",\n",
    "    \"alpha\": 0.1,\n",
    "    \"l1_ratio\": 0.5,\n",
    "})"
   ]
  },
  {
   "cell_type": "markdown",
   "id": "541ea8b4-9bd4-4a5d-a814-ee4c845b27ec",
   "metadata": {},
   "source": [
    "### ElasticNet"
   ]
  },
  {
   "cell_type": "code",
   "execution_count": 17,
   "id": "2d229339-064d-455a-83bc-0114116139bf",
   "metadata": {},
   "outputs": [],
   "source": [
    "pipeline = Pipeline([\n",
    "    ('preprocess', feature_union2),\n",
    "    ('regressor', ElasticNet(alpha=0.1, l1_ratio=0.5))\n",
    "])"
   ]
  },
  {
   "cell_type": "code",
   "execution_count": 18,
   "id": "c3e6321e-90be-43e0-98e4-95e580e57fd4",
   "metadata": {
    "tags": []
   },
   "outputs": [
    {
     "name": "stderr",
     "output_type": "stream",
     "text": [
      "/Users/robertcampbell/opt/anaconda3/lib/python3.8/site-packages/category_encoders/utils.py:21: FutureWarning: is_categorical is deprecated and will be removed in a future version.  Use is_categorical_dtype instead\n",
      "  elif pd.api.types.is_categorical(cols):\n"
     ]
    }
   ],
   "source": [
    "logger.train_update(pipeline, X, y[total])\n",
    "logger.save_log(\"Elastic Net Baseline\")\n",
    "model_log.append(logger.record())"
   ]
  },
  {
   "cell_type": "code",
   "execution_count": 19,
   "id": "b2967f25-7f3e-42d3-932a-65910a547dc4",
   "metadata": {},
   "outputs": [
    {
     "data": {
      "text/plain": [
       "11.602174414998046"
      ]
     },
     "execution_count": 19,
     "metadata": {},
     "output_type": "execute_result"
    }
   ],
   "source": [
    "logger.mae"
   ]
  },
  {
   "cell_type": "code",
   "execution_count": null,
   "id": "63ca00d6-0616-427c-b414-a5ea15bafe04",
   "metadata": {},
   "outputs": [],
   "source": []
  },
  {
   "cell_type": "markdown",
   "id": "e2d387cb-4e09-4413-9d5d-90f80bf868d1",
   "metadata": {},
   "source": [
    "### Random Forest"
   ]
  },
  {
   "cell_type": "code",
   "execution_count": 20,
   "id": "4caab684-99bc-4564-b55a-e65c4836b08a",
   "metadata": {},
   "outputs": [],
   "source": [
    "logger.__init__({\n",
    "    'model_name': 'Random Forest',\n",
    "    'n_estimators': 100,\n",
    "    'min_samples_split': 2,\n",
    "    'min_samples_leaf': 1,\n",
    "    'max_depth': None\n",
    "})"
   ]
  },
  {
   "cell_type": "code",
   "execution_count": 21,
   "id": "0f1ed9b4-6127-4fba-aed2-2d242c85849a",
   "metadata": {},
   "outputs": [],
   "source": [
    "pipeline = Pipeline([\n",
    "    ('preprocess', feature_union2),\n",
    "    ('regressor', RandomForestRegressor())\n",
    "])"
   ]
  },
  {
   "cell_type": "code",
   "execution_count": 22,
   "id": "a0e51f99-684c-4147-8f0d-67230687ce92",
   "metadata": {
    "tags": []
   },
   "outputs": [
    {
     "name": "stderr",
     "output_type": "stream",
     "text": [
      "/Users/robertcampbell/opt/anaconda3/lib/python3.8/site-packages/category_encoders/utils.py:21: FutureWarning: is_categorical is deprecated and will be removed in a future version.  Use is_categorical_dtype instead\n",
      "  elif pd.api.types.is_categorical(cols):\n"
     ]
    }
   ],
   "source": [
    "logger.train_update(pipeline, X, y[total])\n",
    "logger.save_log(\"Random Forest Baseline\")\n",
    "model_log.append(logger.record())"
   ]
  },
  {
   "cell_type": "code",
   "execution_count": 23,
   "id": "445ff6da-3a9d-44d0-848e-bd0e24f2d1b0",
   "metadata": {},
   "outputs": [
    {
     "data": {
      "text/plain": [
       "8.753506493506494"
      ]
     },
     "execution_count": 23,
     "metadata": {},
     "output_type": "execute_result"
    }
   ],
   "source": [
    "logger.mae"
   ]
  },
  {
   "cell_type": "markdown",
   "id": "addb1e26-394d-41d2-b93d-f304f8498716",
   "metadata": {},
   "source": [
    "### XGB Regressor"
   ]
  },
  {
   "cell_type": "code",
   "execution_count": 24,
   "id": "a6d52784-843a-4953-bd7b-ca56541190e3",
   "metadata": {},
   "outputs": [],
   "source": [
    "logger.__init__({\n",
    "    'model_name': 'XGBRegressor',\n",
    "    'objective': 'reg:squarrederror',\n",
    "    'min_samples_split': 2,\n",
    "    'min_samples_leaf': 1,\n",
    "    'max_depth': None\n",
    "})"
   ]
  },
  {
   "cell_type": "code",
   "execution_count": 25,
   "id": "c5de93b5-d58e-42b3-a2c6-34087efd3c77",
   "metadata": {},
   "outputs": [],
   "source": [
    "pipeline = Pipeline([\n",
    "    ('preprocess', feature_union2),\n",
    "    ('regressor', xgb.XGBRegressor())\n",
    "])"
   ]
  },
  {
   "cell_type": "code",
   "execution_count": 26,
   "id": "df2d17b6-fa7f-4b71-a1e1-90154cf1d606",
   "metadata": {
    "tags": []
   },
   "outputs": [
    {
     "name": "stderr",
     "output_type": "stream",
     "text": [
      "/Users/robertcampbell/opt/anaconda3/lib/python3.8/site-packages/category_encoders/utils.py:21: FutureWarning: is_categorical is deprecated and will be removed in a future version.  Use is_categorical_dtype instead\n",
      "  elif pd.api.types.is_categorical(cols):\n"
     ]
    }
   ],
   "source": [
    "logger.train_update(pipeline, X, y[total])\n",
    "logger.save_log(\"Random Forest Baseline\")\n",
    "model_log.append(logger.record())"
   ]
  },
  {
   "cell_type": "code",
   "execution_count": 27,
   "id": "4f82da3b-be32-4c2d-b868-2037616c9b8d",
   "metadata": {},
   "outputs": [
    {
     "data": {
      "text/plain": [
       "8.299643784890444"
      ]
     },
     "execution_count": 27,
     "metadata": {},
     "output_type": "execute_result"
    }
   ],
   "source": [
    "logger.mae"
   ]
  },
  {
   "cell_type": "markdown",
   "id": "4bf2ca5f-35e5-4edf-a4f3-002bfa93e33a",
   "metadata": {},
   "source": [
    "# Dump Objects"
   ]
  },
  {
   "cell_type": "markdown",
   "id": "3c05e4aa-f4da-46aa-96cc-2a1be8d80ef6",
   "metadata": {},
   "source": [
    "## Dump Model Log"
   ]
  },
  {
   "cell_type": "code",
   "execution_count": 28,
   "id": "73441955-0a77-471e-b1c0-0f01d14825c2",
   "metadata": {},
   "outputs": [
    {
     "data": {
      "text/html": [
       "<div>\n",
       "<style scoped>\n",
       "    .dataframe tbody tr th:only-of-type {\n",
       "        vertical-align: middle;\n",
       "    }\n",
       "\n",
       "    .dataframe tbody tr th {\n",
       "        vertical-align: top;\n",
       "    }\n",
       "\n",
       "    .dataframe thead th {\n",
       "        text-align: right;\n",
       "    }\n",
       "</style>\n",
       "<table border=\"1\" class=\"dataframe\">\n",
       "  <thead>\n",
       "    <tr style=\"text-align: right;\">\n",
       "      <th></th>\n",
       "      <th>model_name</th>\n",
       "      <th>alpha</th>\n",
       "      <th>l1_ratio</th>\n",
       "      <th>rsquared</th>\n",
       "      <th>rmse</th>\n",
       "      <th>mae</th>\n",
       "      <th>train_rsquared</th>\n",
       "      <th>train_rmse</th>\n",
       "      <th>train_mae</th>\n",
       "      <th>model</th>\n",
       "      <th>notes</th>\n",
       "      <th>n_estimators</th>\n",
       "      <th>min_samples_split</th>\n",
       "      <th>min_samples_leaf</th>\n",
       "      <th>max_depth</th>\n",
       "      <th>objective</th>\n",
       "    </tr>\n",
       "  </thead>\n",
       "  <tbody>\n",
       "    <tr>\n",
       "      <th>0</th>\n",
       "      <td>Elastic Net</td>\n",
       "      <td>0.1</td>\n",
       "      <td>0.5</td>\n",
       "      <td>0.524093</td>\n",
       "      <td>15.302038</td>\n",
       "      <td>11.602174</td>\n",
       "      <td>0.656159</td>\n",
       "      <td>12.793345</td>\n",
       "      <td>9.022771</td>\n",
       "      <td>(FeatureUnion(transformer_list=[('int',\\n     ...</td>\n",
       "      <td>Elastic Net Baseline</td>\n",
       "      <td>NaN</td>\n",
       "      <td>NaN</td>\n",
       "      <td>NaN</td>\n",
       "      <td>NaN</td>\n",
       "      <td>NaN</td>\n",
       "    </tr>\n",
       "    <tr>\n",
       "      <th>1</th>\n",
       "      <td>Random Forest</td>\n",
       "      <td>NaN</td>\n",
       "      <td>NaN</td>\n",
       "      <td>0.659580</td>\n",
       "      <td>12.941831</td>\n",
       "      <td>8.753506</td>\n",
       "      <td>0.959222</td>\n",
       "      <td>4.405721</td>\n",
       "      <td>2.788089</td>\n",
       "      <td>(FeatureUnion(transformer_list=[('int',\\n     ...</td>\n",
       "      <td>Random Forest Baseline</td>\n",
       "      <td>100.0</td>\n",
       "      <td>2.0</td>\n",
       "      <td>1.0</td>\n",
       "      <td>NaN</td>\n",
       "      <td>NaN</td>\n",
       "    </tr>\n",
       "    <tr>\n",
       "      <th>2</th>\n",
       "      <td>XGBRegressor</td>\n",
       "      <td>NaN</td>\n",
       "      <td>NaN</td>\n",
       "      <td>0.694745</td>\n",
       "      <td>12.255180</td>\n",
       "      <td>8.299644</td>\n",
       "      <td>0.989975</td>\n",
       "      <td>2.184504</td>\n",
       "      <td>1.598105</td>\n",
       "      <td>(FeatureUnion(transformer_list=[('int',\\n     ...</td>\n",
       "      <td>Random Forest Baseline</td>\n",
       "      <td>NaN</td>\n",
       "      <td>2.0</td>\n",
       "      <td>1.0</td>\n",
       "      <td>NaN</td>\n",
       "      <td>reg:squarrederror</td>\n",
       "    </tr>\n",
       "  </tbody>\n",
       "</table>\n",
       "</div>"
      ],
      "text/plain": [
       "      model_name  alpha  l1_ratio  rsquared       rmse        mae  \\\n",
       "0    Elastic Net    0.1       0.5  0.524093  15.302038  11.602174   \n",
       "1  Random Forest    NaN       NaN  0.659580  12.941831   8.753506   \n",
       "2   XGBRegressor    NaN       NaN  0.694745  12.255180   8.299644   \n",
       "\n",
       "   train_rsquared  train_rmse  train_mae  \\\n",
       "0        0.656159   12.793345   9.022771   \n",
       "1        0.959222    4.405721   2.788089   \n",
       "2        0.989975    2.184504   1.598105   \n",
       "\n",
       "                                               model                   notes  \\\n",
       "0  (FeatureUnion(transformer_list=[('int',\\n     ...    Elastic Net Baseline   \n",
       "1  (FeatureUnion(transformer_list=[('int',\\n     ...  Random Forest Baseline   \n",
       "2  (FeatureUnion(transformer_list=[('int',\\n     ...  Random Forest Baseline   \n",
       "\n",
       "   n_estimators  min_samples_split  min_samples_leaf  max_depth  \\\n",
       "0           NaN                NaN               NaN        NaN   \n",
       "1         100.0                2.0               1.0        NaN   \n",
       "2           NaN                2.0               1.0        NaN   \n",
       "\n",
       "           objective  \n",
       "0                NaN  \n",
       "1                NaN  \n",
       "2  reg:squarrederror  "
      ]
     },
     "execution_count": 28,
     "metadata": {},
     "output_type": "execute_result"
    }
   ],
   "source": [
    "pd.DataFrame.from_dict(model_log)"
   ]
  },
  {
   "cell_type": "code",
   "execution_count": 29,
   "id": "d52116cf-8ee1-4bb6-8dcf-e434b63aeeb7",
   "metadata": {},
   "outputs": [
    {
     "data": {
      "text/plain": [
       "['objects/model_log.joblib']"
      ]
     },
     "execution_count": 29,
     "metadata": {},
     "output_type": "execute_result"
    }
   ],
   "source": [
    "dump(model_log, \"objects/model_log.joblib\")"
   ]
  },
  {
   "cell_type": "code",
   "execution_count": null,
   "id": "b394e229-05cc-4295-bf96-0941333019ca",
   "metadata": {},
   "outputs": [],
   "source": []
  }
 ],
 "metadata": {
  "hide_input": false,
  "kernelspec": {
   "display_name": "Python 3 (ipykernel)",
   "language": "python",
   "name": "python3"
  },
  "language_info": {
   "codemirror_mode": {
    "name": "ipython",
    "version": 3
   },
   "file_extension": ".py",
   "mimetype": "text/x-python",
   "name": "python",
   "nbconvert_exporter": "python",
   "pygments_lexer": "ipython3",
   "version": "3.8.5"
  },
  "toc": {
   "base_numbering": 1,
   "nav_menu": {},
   "number_sections": true,
   "sideBar": true,
   "skip_h1_title": false,
   "title_cell": "Table of Contents",
   "title_sidebar": "Contents",
   "toc_cell": false,
   "toc_position": {},
   "toc_section_display": true,
   "toc_window_display": false
  }
 },
 "nbformat": 4,
 "nbformat_minor": 5
}
