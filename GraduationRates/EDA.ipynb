{
 "cells": [
  {
   "cell_type": "code",
   "execution_count": 1,
   "id": "c836b254-3317-4dfa-b96a-d80a0757750c",
   "metadata": {
    "slideshow": {
     "slide_type": "skip"
    }
   },
   "outputs": [],
   "source": [
    "import pandas as pd\n",
    "import numpy as np\n",
    "from sklearn.model_selection import train_test_split\n",
    "from sklearn.metrics import mean_absolute_error\n",
    "from sklearn.pipeline import Pipeline\n",
    "from category_encoders import TargetEncoder\n",
    "from sklearn.linear_model import ElasticNet\n",
    "import plotly.graph_objects as go\n",
    "import plotly.express as px\n",
    "from plotly.subplots import make_subplots\n",
    "from sklearn.preprocessing import MinMaxScaler\n",
    "import copy"
   ]
  },
  {
   "cell_type": "code",
   "execution_count": 2,
   "id": "89e36401-13db-45f5-a8c6-f5e52e2676fc",
   "metadata": {
    "slideshow": {
     "slide_type": "skip"
    }
   },
   "outputs": [],
   "source": [
    "import matplotlib.pyplot as plt\n",
    "import seaborn as sns\n",
    "import re\n",
    "from joblib import load, dump"
   ]
  },
  {
   "cell_type": "code",
   "execution_count": 3,
   "id": "8155abeb-1803-4225-9903-156582f77fb6",
   "metadata": {
    "slideshow": {
     "slide_type": "skip"
    }
   },
   "outputs": [],
   "source": [
    "#We will be using total cohort and african american cohort graduation rates a lot in this eda\n",
    "black = \"graduation_rate_black_non-hispanic\"\n",
    "total = \"graduation_rate_total_cohort\"\n",
    "price = 'total_price_for_out-of-state_students_living_on_campus'\n",
    "revenue = 'core_revenues_total_dollars'\n",
    "act_nan = 'act_composite_75th_percentile_score_isnan'\n",
    "act = 'act_composite_75th_percentile_score'\n",
    "hbcu = 'historically_black_college_or_university'\n"
   ]
  },
  {
   "cell_type": "code",
   "execution_count": 4,
   "id": "675f2e0a",
   "metadata": {
    "slideshow": {
     "slide_type": "skip"
    }
   },
   "outputs": [],
   "source": [
    "def convert_residential(x):\n",
    "    if 'highly' in x:\n",
    "        return 1\n",
    "    elif 'nonresidential' in x:\n",
    "        return 2\n",
    "    elif 'primarily residential' in x:\n",
    "        return 3\n",
    "    else:\n",
    "        return 2\n",
    "    "
   ]
  },
  {
   "cell_type": "code",
   "execution_count": 5,
   "id": "bc58b84d",
   "metadata": {
    "slideshow": {
     "slide_type": "skip"
    }
   },
   "outputs": [],
   "source": [
    "def size_ordinal(x):\n",
    "    if 'Under' in x:\n",
    "        return 1\n",
    "    elif '1,000 - 4,999' in x:\n",
    "        return 2\n",
    "    elif '5,000 - 9,999' in x:\n",
    "        return 3\n",
    "    elif '10,000 - 19,999' in x:\n",
    "        return 4\n",
    "    elif 'above' in x:\n",
    "        return 5\n",
    "    else:\n",
    "        return 3"
   ]
  },
  {
   "cell_type": "code",
   "execution_count": null,
   "id": "5e5134cd-1130-41e8-bf2d-47a7d5c41c5d",
   "metadata": {
    "slideshow": {
     "slide_type": "skip"
    }
   },
   "outputs": [],
   "source": []
  },
  {
   "cell_type": "markdown",
   "id": "2b414d97",
   "metadata": {
    "slideshow": {
     "slide_type": "skip"
    }
   },
   "source": [
    "**Retrain Model Keeping Target University as holdout**"
   ]
  },
  {
   "cell_type": "code",
   "execution_count": 6,
   "id": "5ad26b51",
   "metadata": {
    "slideshow": {
     "slide_type": "skip"
    }
   },
   "outputs": [],
   "source": [
    "# features.reset_index()[features.reset_index()[\"institution_name\"].str.contains(\"Delaware\")]['institution_name']"
   ]
  },
  {
   "cell_type": "code",
   "execution_count": 7,
   "id": "45fe2bf6",
   "metadata": {
    "slideshow": {
     "slide_type": "skip"
    }
   },
   "outputs": [],
   "source": [
    "# define a list of universities that you want to analyze\n",
    "universities = ['University of North Carolina at Asheville']"
   ]
  },
  {
   "cell_type": "code",
   "execution_count": 8,
   "id": "c9375243",
   "metadata": {
    "slideshow": {
     "slide_type": "skip"
    }
   },
   "outputs": [],
   "source": [
    "# load in model_log and features\n",
    "model_log = load(\"objects/model_log.joblib\")\n",
    "features = load(\"objects/features.joblib\")\n",
    "features_xgb = load(\"objects/engineered_features.joblib\")\n",
    "targets = load(\"objects/targets.joblib\")"
   ]
  },
  {
   "cell_type": "code",
   "execution_count": null,
   "id": "069acd2e-af9f-42ba-9692-81fd2d83aa6b",
   "metadata": {
    "slideshow": {
     "slide_type": "skip"
    }
   },
   "outputs": [],
   "source": []
  },
  {
   "cell_type": "code",
   "execution_count": 9,
   "id": "cacb83f2",
   "metadata": {
    "slideshow": {
     "slide_type": "skip"
    }
   },
   "outputs": [],
   "source": [
    "features_xgb = features_xgb.swaplevel()\n",
    "features.index = features.index.swaplevel()\n",
    "targets.index = targets.index.swaplevel()"
   ]
  },
  {
   "cell_type": "markdown",
   "id": "5e9e016c-dcad-484c-a3ca-d2e2601cbdfb",
   "metadata": {
    "slideshow": {
     "slide_type": "skip"
    }
   },
   "source": [
    "**Features**"
   ]
  },
  {
   "cell_type": "code",
   "execution_count": 10,
   "id": "4195567b-4dea-4e80-914b-50b113933814",
   "metadata": {
    "slideshow": {
     "slide_type": "skip"
    },
    "tags": []
   },
   "outputs": [],
   "source": [
    "# defining holdout schools that we want to use for prediction\n",
    "my_schools = features.loc[universities]\n",
    "my_targets = targets.loc[universities]"
   ]
  },
  {
   "cell_type": "code",
   "execution_count": 11,
   "id": "36ba30b4-9650-422d-8c5b-e7d6457b5aaf",
   "metadata": {
    "slideshow": {
     "slide_type": "skip"
    }
   },
   "outputs": [],
   "source": [
    "# Holdout universities with advanced feature interactions\n",
    "my_schools_xgb = features_xgb.loc[universities]\n",
    "features_xgb.drop(universities, inplace=True)\n",
    "targets.drop(universities, inplace=True)"
   ]
  },
  {
   "cell_type": "code",
   "execution_count": 12,
   "id": "53093757-6b0e-4571-8493-835f34129d0b",
   "metadata": {
    "slideshow": {
     "slide_type": "skip"
    }
   },
   "outputs": [],
   "source": [
    "xgb_model = model_log[-1]['model']"
   ]
  },
  {
   "cell_type": "code",
   "execution_count": 13,
   "id": "d5ef0b85-d65c-4d3e-af40-91dbb1dcbd00",
   "metadata": {
    "slideshow": {
     "slide_type": "skip"
    }
   },
   "outputs": [],
   "source": [
    "x_train_xgb, x_test_xgb, y_train_xgb, y_test_xgb =  train_test_split(features_xgb, targets[total], test_size=0.05, random_state=0)"
   ]
  },
  {
   "cell_type": "markdown",
   "id": "58b94ab4",
   "metadata": {
    "slideshow": {
     "slide_type": "skip"
    }
   },
   "source": [
    "**Elastic Net**"
   ]
  },
  {
   "cell_type": "code",
   "execution_count": 14,
   "id": "6769504f-f2ce-429f-9368-3d6a518fc7e1",
   "metadata": {
    "slideshow": {
     "slide_type": "skip"
    }
   },
   "outputs": [],
   "source": [
    "# Use MinMax Scaler instead of standard scaler\n",
    "elasticNet = Pipeline([\n",
    "    ('encoder', TargetEncoder()),\n",
    "    ('scaler', MinMaxScaler()),\n",
    "    ('regressor', ElasticNet(alpha=0.1, l1_ratio=0.5))\n",
    "])\n"
   ]
  },
  {
   "cell_type": "code",
   "execution_count": 15,
   "id": "6f326026",
   "metadata": {
    "hide_input": false,
    "scrolled": true,
    "slideshow": {
     "slide_type": "skip"
    }
   },
   "outputs": [
    {
     "name": "stderr",
     "output_type": "stream",
     "text": [
      "/Users/robertcampbell/opt/anaconda3/lib/python3.8/site-packages/category_encoders/utils.py:21: FutureWarning: is_categorical is deprecated and will be removed in a future version.  Use is_categorical_dtype instead\n",
      "  elif pd.api.types.is_categorical(cols):\n"
     ]
    }
   ],
   "source": [
    "_ = elasticNet.fit(x_train_xgb, y_train_xgb)"
   ]
  },
  {
   "cell_type": "code",
   "execution_count": 16,
   "id": "ee6592b4",
   "metadata": {
    "slideshow": {
     "slide_type": "skip"
    }
   },
   "outputs": [],
   "source": [
    "enet_pred = elasticNet.predict(x_test_xgb)"
   ]
  },
  {
   "cell_type": "code",
   "execution_count": 17,
   "id": "9c73b5e0",
   "metadata": {
    "slideshow": {
     "slide_type": "skip"
    }
   },
   "outputs": [],
   "source": [
    "# holdout predictions\n",
    "my_schools_pred = elasticNet.predict(my_schools_xgb)"
   ]
  },
  {
   "cell_type": "code",
   "execution_count": 18,
   "id": "f8ea0469",
   "metadata": {
    "slideshow": {
     "slide_type": "skip"
    }
   },
   "outputs": [
    {
     "data": {
      "text/plain": [
       "10.42503115335121"
      ]
     },
     "execution_count": 18,
     "metadata": {},
     "output_type": "execute_result"
    }
   ],
   "source": [
    "mean_absolute_error(enet_pred, y_test_xgb)"
   ]
  },
  {
   "cell_type": "code",
   "execution_count": 19,
   "id": "c26d1fb9",
   "metadata": {
    "slideshow": {
     "slide_type": "skip"
    }
   },
   "outputs": [],
   "source": [
    "# Getting Coefficients\n",
    "model_coefs = list(zip(elasticNet['regressor'].coef_, x_train_xgb.columns))"
   ]
  },
  {
   "cell_type": "code",
   "execution_count": 20,
   "id": "1a0c1605",
   "metadata": {
    "slideshow": {
     "slide_type": "skip"
    }
   },
   "outputs": [],
   "source": [
    "model_coefs = sorted(model_coefs)"
   ]
  },
  {
   "cell_type": "markdown",
   "id": "bd445396",
   "metadata": {
    "slideshow": {
     "slide_type": "skip"
    }
   },
   "source": [
    "**XGB**"
   ]
  },
  {
   "cell_type": "code",
   "execution_count": null,
   "id": "95277a54",
   "metadata": {
    "scrolled": true,
    "slideshow": {
     "slide_type": "skip"
    }
   },
   "outputs": [],
   "source": [
    "_ = xgb_model.fit(x_train_xgb, y_train_xgb)"
   ]
  },
  {
   "cell_type": "code",
   "execution_count": null,
   "id": "0712bacf",
   "metadata": {
    "slideshow": {
     "slide_type": "skip"
    }
   },
   "outputs": [],
   "source": [
    "xgb_pred = xgb_model.predict(x_test_xgb)"
   ]
  },
  {
   "cell_type": "code",
   "execution_count": null,
   "id": "bac5ef96",
   "metadata": {
    "slideshow": {
     "slide_type": "skip"
    }
   },
   "outputs": [],
   "source": [
    "mean_absolute_error(xgb_pred, y_test_xgb)"
   ]
  },
  {
   "cell_type": "code",
   "execution_count": null,
   "id": "f9c96964",
   "metadata": {
    "slideshow": {
     "slide_type": "skip"
    }
   },
   "outputs": [],
   "source": [
    "my_schools_pred_xgb = xgb_model.predict(my_schools_xgb)"
   ]
  },
  {
   "cell_type": "code",
   "execution_count": null,
   "id": "82cc7e5c",
   "metadata": {
    "slideshow": {
     "slide_type": "skip"
    }
   },
   "outputs": [],
   "source": [
    "my_schools_pred_xgb - my_targets[total].to_numpy()"
   ]
  },
  {
   "cell_type": "code",
   "execution_count": null,
   "id": "19169831",
   "metadata": {
    "slideshow": {
     "slide_type": "skip"
    }
   },
   "outputs": [],
   "source": [
    "def interact(df):\n",
    "    df['log_core_revenues_total_dollars'] = df['core_revenues_total_dollars'].apply(lambda x: np.log(x) if x > 0 else 0.01 * x)\n",
    "    df['log_core_expenses_total_dollars'] = df['core_expenses_total_dollars'].apply(lambda x: np.log(x) if x > 0 else 0.01 * x)\n",
    "    df['log_staff'] = df[\"grand_total_instructional_staff\"].apply(lambda x: np.log(x) if x > 0 else 0.01 * x)\n",
    "    df[\"residential_level\"] = df['carnegie_classification_2018:_size_and_setting'].apply(lambda x: convert_residential(x))\n",
    "    df[\"ordinal_institution_size_category\"] = df['institution_size_category'].apply(lambda x: size_ordinal(x))\n",
    "    df[\"approximate_incoming_class_grand_total\"] = df['grand_total_age_25_and_over'] + df['grand_total_age_25_and_under']\n",
    "    df[\"age_ratio\"] = df['grand_total_age_25_and_over'] / df['grand_total_age_25_and_under']\n",
    "    df[\"percent_of_women_age_25_and_over\"] = df['total_women_age_25_and_over'] / df[\"approximate_incoming_class_grand_total\"]\n",
    "    df[\"percent_of_women_age_25_and_under\"] = df['total_women_age_25_and_under'] / df[\"approximate_incoming_class_grand_total\"]\n",
    "    df[\"price * revenue\"] = df['total_price_for_out-of-state_students_living_off_campus'] * df['log_core_revenues_total_dollars']\n",
    "    df[\"log_expenses * residential leve\"] = df['log_core_expenses_total_dollars'] * df[\"residential_level\"]\n",
    "    df['log_staff * price'] = df['log_staff'] * df['total_price_for_out-of-state_students_living_on_campus']\n",
    "    return df"
   ]
  },
  {
   "cell_type": "code",
   "execution_count": null,
   "id": "b31518f2",
   "metadata": {
    "slideshow": {
     "slide_type": "skip"
    }
   },
   "outputs": [],
   "source": [
    "original_df = pd.read_csv(\"data/4_year/aggregate.csv\", index_col=[\"UnitID\", \"institution_name\"])\n",
    "original_df.drop('Unnamed: 0', axis=1, inplace=True)\n",
    "grad_rates = original_df.filter(regex=\"_rate\").columns\n",
    "original_df.drop(grad_rates, axis=1, inplace=True)\n",
    "original_df.index = original_df.index.swaplevel()"
   ]
  },
  {
   "cell_type": "code",
   "execution_count": null,
   "id": "7b220ed3",
   "metadata": {
    "slideshow": {
     "slide_type": "skip"
    }
   },
   "outputs": [],
   "source": [
    "index = 0\n",
    "year = 2019\n",
    "schools = [i[0] for i in my_schools.index.unique()]"
   ]
  },
  {
   "cell_type": "code",
   "execution_count": null,
   "id": "1863be63",
   "metadata": {
    "slideshow": {
     "slide_type": "skip"
    }
   },
   "outputs": [],
   "source": [
    "university_x = schools[0]"
   ]
  },
  {
   "cell_type": "markdown",
   "id": "16535145-25f6-46c0-bade-8057aa9b230c",
   "metadata": {
    "slideshow": {
     "slide_type": "slide"
    },
    "tags": []
   },
   "source": [
    "# University Graduation Rate Prediction"
   ]
  },
  {
   "cell_type": "markdown",
   "id": "f0162b92-7be1-4285-9285-fa6aa00ca3c3",
   "metadata": {
    "slideshow": {
     "slide_type": "fragment"
    }
   },
   "source": [
    "- By: Robert Campbell"
   ]
  },
  {
   "cell_type": "markdown",
   "id": "ff81c5ef",
   "metadata": {
    "slideshow": {
     "slide_type": "skip"
    }
   },
   "source": [
    "Finding a good real world data set is difficult at first. As a rookie data scientist, a lot of doubts come into your mind when choosing a project. Is my target variable forecastable? Does predicting X or Y actually solve a real world problem? Or will all the time spent be waisted on a failed project? All of these things I hoped to overcome by the end of this first project. Here I will tell the story of my first data science project and some of the hurtles that I overcame during the process. The data set that I found was data for over 2000 4-year Universities. The most obvious target variable for a predictive model about Universities is the graduation rates. In the following article, I will uncover some of the disparities between African American graduation rates and the rest of the population while demonstrating how to use the Data Science Process to solve a problem for a specific University.  "
   ]
  },
  {
   "cell_type": "code",
   "execution_count": null,
   "id": "764f365b",
   "metadata": {
    "slideshow": {
     "slide_type": "skip"
    }
   },
   "outputs": [],
   "source": [
    "colors = ['rgba(38, 24, 74, 0.8)', 'rgba(71, 58, 131, 0.8)',\n",
    "          'rgba(122, 120, 168, 0.8)', 'rgba(164, 163, 204, 0.85)',\n",
    "          'rgba(190, 192, 213, 1)', 'rgba(195, 197, 222, 1)']"
   ]
  },
  {
   "cell_type": "code",
   "execution_count": null,
   "id": "f997f0ae",
   "metadata": {
    "slideshow": {
     "slide_type": "skip"
    }
   },
   "outputs": [],
   "source": [
    "from sklearn.metrics import mean_squared_error, mean_absolute_error"
   ]
  },
  {
   "cell_type": "code",
   "execution_count": null,
   "id": "ecdabff6-97f8-4e37-a392-515876ba8bc4",
   "metadata": {
    "slideshow": {
     "slide_type": "skip"
    },
    "tags": []
   },
   "outputs": [],
   "source": [
    "df = pd.read_csv(\"data/4_year/eda.csv\")"
   ]
  },
  {
   "cell_type": "code",
   "execution_count": null,
   "id": "416a6213-fc8a-4721-a15d-f7f900485920",
   "metadata": {
    "slideshow": {
     "slide_type": "skip"
    }
   },
   "outputs": [],
   "source": [
    "describe = df.filter(regex=\"graduation\").describe().loc[\"mean\", :].sort_values()"
   ]
  },
  {
   "cell_type": "code",
   "execution_count": null,
   "id": "e1b0e66c-212f-44e7-8f6d-b14f3d93ecb0",
   "metadata": {
    "cell_style": "center",
    "hide_input": false,
    "scrolled": false,
    "slideshow": {
     "slide_type": "fragment"
    }
   },
   "outputs": [],
   "source": [
    "fig = px.bar(describe, y='mean', text=np.round(describe, 2))\n",
    "fig.data[0].marker = {\n",
    "    'color': colors[-1],\n",
    "    'line': {\n",
    "        'color': colors[-2],\n",
    "        'width': 3\n",
    "    }\n",
    "}\n",
    "fig.update_layout(\n",
    "    title='Mean Graduation Rates by Gender and Ethnicity',\n",
    "    title_x=0.5,\n",
    "    height=650,\n",
    ")"
   ]
  },
  {
   "cell_type": "markdown",
   "id": "daf47935",
   "metadata": {},
   "source": [
    "During my initial inspection, their were already many alarming statistics. The first being that graduation rates are very low, 51.14% of students graduate from 4-year universities. It is worth noting that there are some 2-year colleges in this study; however, they were only included because they reported data with their parent institution and were therefore not excluded when extracting data from the [ipeds data center](\"https://nces.ed.gov/ipeds/datacenter/SelectVariables.aspx\") And if that isn't alarming enough, the two most marginalized communities in the country, African Americans and American Indians, have a significantly lower graduation rate than the total cohort. African Americans and American Indians graduate at a rate of 38.6% and 41.1% respectfully. Additionally, these are completions within 150% of the time (6 years in the 4-year case). The plot above and the statistics it revealed really inspired how I went about shaping my problem statement for this project."
   ]
  },
  {
   "cell_type": "markdown",
   "id": "cc286fbc",
   "metadata": {
    "slideshow": {
     "slide_type": "slide"
    }
   },
   "source": [
    "# Problem Statement"
   ]
  },
  {
   "cell_type": "markdown",
   "id": "340a1ad2",
   "metadata": {
    "cell_style": "split",
    "slideshow": {
     "slide_type": "notes"
    },
    "variables": {
     "university_x": {}
    }
   },
   "source": [
    "## Problem\n",
    "**{{university_x}}** has very low graduation rates and even lower amongst students of color. They are facing immmence pressure from the community and board members and the leadership of the school needs to respond with a data backed explanation for their poor performance along with a data **driven plan** for **improving** their future **graduation rates**"
   ]
  },
  {
   "cell_type": "markdown",
   "id": "1b4f5a97",
   "metadata": {
    "cell_style": "split",
    "slideshow": {
     "slide_type": "notes"
    }
   },
   "source": [
    "## Criteria for success\n",
    "<br>\n",
    "If we can predict graduation rates within 5% Mean Absolute Error, then we would consider the model accurate enough to implement suggested improvements, whether it be to increase admissions standards or reallocate revenues.\n",
    "<br>\n",
    "<br>\n",
    "<br>"
   ]
  },
  {
   "cell_type": "markdown",
   "id": "9968e2c9",
   "metadata": {
    "cell_style": "split",
    "slideshow": {
     "slide_type": "notes"
    }
   },
   "source": [
    "### Source of Data\n",
    "\n",
    "The DataScience team has access to the publically available [Ipeds Data Center](\"https://nces.ed.gov/ipeds/datacenter/SelectVariables.aspx\") which has all of the required information to predict graduation rates. For this project I manually selected variables from this link to incorporate into a prediction"
   ]
  },
  {
   "cell_type": "markdown",
   "id": "3630a1f3",
   "metadata": {
    "cell_style": "split",
    "hide_input": true,
    "slideshow": {
     "slide_type": "notes"
    },
    "variables": {
     "university_x": {}
    }
   },
   "source": [
    "### Stakeholders to Provide Key Insights\n",
    "The leadership at {{university_x}} will be providing these insights to the community and will be working with the data science team to ensure a sustainable solution\n",
    "<br> <br> "
   ]
  },
  {
   "cell_type": "code",
   "execution_count": null,
   "id": "affc6fdd",
   "metadata": {
    "hide_input": true,
    "slideshow": {
     "slide_type": "fragment"
    }
   },
   "outputs": [],
   "source": [
    "fig = go.Figure()\n",
    "fig.add_trace(\n",
    "    go.Bar(\n",
    "        x=[\"Total Cohort\"], y=[my_targets.iloc[0][total]], name=\"Total Cohort Graduation Rates\",\n",
    "        text=[my_targets.iloc[0][total]]\n",
    "    )\n",
    ")\n",
    "fig.add_trace(\n",
    "    go.Bar(\n",
    "        x=[\"African American\"], y=[my_targets.iloc[0][black]], name=\"African American Graduation Rates\",\n",
    "        text=[my_targets.iloc[0][total]]\n",
    "    )\n",
    ")\n",
    "\n",
    "fig.update_layout(\n",
    "    title=university_x + \" Graduation Rate (African American vs Total)\",\n",
    "    yaxis=dict(title='Graduation Rates')\n",
    ")"
   ]
  },
  {
   "cell_type": "code",
   "execution_count": null,
   "id": "8638e6dd",
   "metadata": {},
   "outputs": [],
   "source": []
  },
  {
   "cell_type": "markdown",
   "id": "7707348d-a7b1-49e7-add4-a7b717bfd5f7",
   "metadata": {
    "slideshow": {
     "slide_type": "slide"
    },
    "tags": []
   },
   "source": [
    "## So Where Do African Americans Go to School?"
   ]
  },
  {
   "cell_type": "code",
   "execution_count": null,
   "id": "aa574684-1e5e-4391-9c94-2d33f6a9d98d",
   "metadata": {
    "slideshow": {
     "slide_type": "skip"
    }
   },
   "outputs": [],
   "source": [
    "percent_cols = df.filter(regex=\"percent_of_total_enrollment(?!_isnan)\").columns\n",
    "percent_cols"
   ]
  },
  {
   "cell_type": "code",
   "execution_count": null,
   "id": "90dd1092-2e28-4e76-96d9-3f07644eb258",
   "metadata": {
    "slideshow": {
     "slide_type": "skip"
    }
   },
   "outputs": [],
   "source": [
    "grand_total_enrollment_cols = df.filter(regex=\"grand\").columns[0:2]"
   ]
  },
  {
   "cell_type": "code",
   "execution_count": null,
   "id": "11ff31e0-ef5f-4e5b-9bdb-e0ababfa0fc2",
   "metadata": {
    "slideshow": {
     "slide_type": "skip"
    }
   },
   "outputs": [],
   "source": [
    "df[\"total_enrollment\"] = df[grand_total_enrollment_cols[0]] + df[grand_total_enrollment_cols[1]] "
   ]
  },
  {
   "cell_type": "code",
   "execution_count": null,
   "id": "fcf2756e-9039-438d-8c94-51761e567cf9",
   "metadata": {
    "slideshow": {
     "slide_type": "skip"
    }
   },
   "outputs": [],
   "source": [
    "for i in percent_cols:\n",
    "    col_name = re.sub(r'percent_of_total_enrollment_that_are_', '', i)\n",
    "    col_name = col_name + \"_total\"\n",
    "    df[col_name] = df[\"total_enrollment\"] * (df[i] / 100)\n"
   ]
  },
  {
   "cell_type": "code",
   "execution_count": null,
   "id": "fdfeec66-739f-402d-8748-48b965ccddcb",
   "metadata": {
    "hide_input": true,
    "slideshow": {
     "slide_type": "skip"
    }
   },
   "outputs": [],
   "source": [
    "percentages = list(percent_cols)\n",
    "_ = percentages.pop()"
   ]
  },
  {
   "cell_type": "code",
   "execution_count": null,
   "id": "6575b73c-7397-4270-afd4-5684723d3fce",
   "metadata": {
    "hide_input": false,
    "slideshow": {
     "slide_type": "skip"
    }
   },
   "outputs": [],
   "source": [
    "df_2019 = df[df.cohort == 2019]"
   ]
  },
  {
   "cell_type": "code",
   "execution_count": null,
   "id": "08c52cd5",
   "metadata": {
    "hide_input": false,
    "slideshow": {
     "slide_type": "skip"
    }
   },
   "outputs": [],
   "source": [
    "my_schools\n",
    "my_targets"
   ]
  },
  {
   "cell_type": "code",
   "execution_count": null,
   "id": "8f66bd09-e977-456c-84cb-782aeb2fba59",
   "metadata": {
    "slideshow": {
     "slide_type": "skip"
    }
   },
   "outputs": [],
   "source": [
    "cat_groups = []\n",
    "for i in df_2019.select_dtypes(\"object\").columns:\n",
    "    cat_groups.append(df_2019.groupby(i))"
   ]
  },
  {
   "cell_type": "code",
   "execution_count": null,
   "id": "83abe071-6f9a-4717-b770-dab3a45a498d",
   "metadata": {
    "slideshow": {
     "slide_type": "skip"
    }
   },
   "outputs": [],
   "source": [
    "df_2019.select_dtypes(\"object\").columns"
   ]
  },
  {
   "cell_type": "code",
   "execution_count": null,
   "id": "7edcb9fb-370a-49d4-b3df-d5965c4145dc",
   "metadata": {
    "slideshow": {
     "slide_type": "skip"
    },
    "tags": []
   },
   "outputs": [],
   "source": [
    "enrollment_by_race = cat_groups[-2].agg('mean')[percentages]"
   ]
  },
  {
   "cell_type": "code",
   "execution_count": null,
   "id": "e396fe4b-4e16-46e6-a5fc-005b34bd59dd",
   "metadata": {
    "slideshow": {
     "slide_type": "skip"
    },
    "tags": []
   },
   "outputs": [],
   "source": [
    "enrollment_by_race.drop(['Private for-profit, 2-year', 'Private not-for-profit, 2-year', 'Public, 2-year', 'Private for-profit, less-than 2-year','isMissing'], inplace=True)"
   ]
  },
  {
   "cell_type": "code",
   "execution_count": null,
   "id": "87f894d6",
   "metadata": {
    "slideshow": {
     "slide_type": "skip"
    }
   },
   "outputs": [],
   "source": [
    "enrollment_by_race.loc[university_x] = my_schools.loc[:, percentages].iloc[0, :]"
   ]
  },
  {
   "cell_type": "code",
   "execution_count": null,
   "id": "ee297066-fe56-461f-900d-3e597faaf5cd",
   "metadata": {
    "slideshow": {
     "slide_type": "skip"
    }
   },
   "outputs": [],
   "source": [
    "race_cols = enrollment_by_race.columns.to_list()"
   ]
  },
  {
   "cell_type": "code",
   "execution_count": null,
   "id": "46d56d5a-5ce5-4c5d-a300-fb7c3b5ce25c",
   "metadata": {
    "slideshow": {
     "slide_type": "skip"
    }
   },
   "outputs": [],
   "source": [
    "enrollment_by_race['Other'] = 100 - (enrollment_by_race.iloc[:, [3,4,9]].sum(axis=1))"
   ]
  },
  {
   "cell_type": "code",
   "execution_count": null,
   "id": "33450985-f466-425b-8b04-14e7d515d066",
   "metadata": {
    "slideshow": {
     "slide_type": "skip"
    }
   },
   "outputs": [],
   "source": [
    "enrollment_by_race.drop(enrollment_by_race.iloc[:, [0,1,2,5,6,7, 8]].columns.to_list(), axis=1, inplace=True)"
   ]
  },
  {
   "cell_type": "code",
   "execution_count": null,
   "id": "5e7f45f8-3348-452a-b70b-85794d272669",
   "metadata": {
    "slideshow": {
     "slide_type": "skip"
    }
   },
   "outputs": [],
   "source": [
    "race_cols = enrollment_by_race.columns.to_list()"
   ]
  },
  {
   "cell_type": "code",
   "execution_count": null,
   "id": "928ff9b2",
   "metadata": {
    "slideshow": {
     "slide_type": "skip"
    }
   },
   "outputs": [],
   "source": [
    "enrollment_by_race = enrollment_by_race.reindex([university_x, enrollment_by_race.index[0], enrollment_by_race.index[1], enrollment_by_race.index[2]])"
   ]
  },
  {
   "cell_type": "code",
   "execution_count": null,
   "id": "bbc8dd81",
   "metadata": {
    "slideshow": {
     "slide_type": "skip"
    }
   },
   "outputs": [],
   "source": [
    "enrollment_by_race"
   ]
  },
  {
   "cell_type": "code",
   "execution_count": null,
   "id": "70361184-b8c4-42a7-ab40-c7fe20eac452",
   "metadata": {},
   "outputs": [],
   "source": [
    "ai = 'percent_of_total_enrollment_that_are_american_indian_or_alaska_native'"
   ]
  },
  {
   "cell_type": "code",
   "execution_count": null,
   "id": "4dc1a511-a273-4854-a032-f7759895d827",
   "metadata": {
    "code_folding": [],
    "hide_input": false,
    "slideshow": {
     "slide_type": "fragment"
    },
    "tags": []
   },
   "outputs": [],
   "source": [
    "fig = go.Figure()\n",
    "half = university_x.index(\" \")\n",
    "races = [\"Black\", \"Hispanic\", \"White\", \"Other\"]\n",
    "sectors = [university_x[:half] + '<br>' + university_x[half:],\n",
    "           'Private for-profit<br>4-year or above','Private not-for-profit<br>4-year or above', \n",
    "           'Public<br>4-year or above']\n",
    "\n",
    "for i, v in enumerate(race_cols):\n",
    "    \n",
    "    for j, x in enumerate(enrollment_by_race.index.to_list()):\n",
    "        \n",
    "        value = np.round(enrollment_by_race[v].values[j], 1)\n",
    "        if value > 3:\n",
    "            fig.add_trace(go.Bar(\n",
    "                x=[value],\n",
    "                y=[enrollment_by_race.index[j]],\n",
    "                text=[str(value) + '%'],\n",
    "                orientation='h', marker={'color': colors[i]}\n",
    "            ))\n",
    "        else:\n",
    "            fig.add_trace(go.Bar(\n",
    "                x=[value],\n",
    "                y=[enrollment_by_race.index[j]],\n",
    "                orientation='h', marker={'color': colors[i]}\n",
    "            ))\n",
    "\n",
    "locs = [5,20, 60, 95]\n",
    "for i, v in enumerate(races):\n",
    "    fig.add_annotation(text=v,\n",
    "                      xref=\"x\", yref=\"y\",\n",
    "                      x=locs[i] , y=3.6, showarrow=False)  \n",
    "for i, v in enumerate(enrollment_by_race.index):\n",
    "    fig.add_annotation(\n",
    "        text=sectors[i], xref='x', yref='y', x=-14, \n",
    "        y=enrollment_by_race.index[i], showarrow=False\n",
    "    )\n",
    "\n",
    "    \n",
    "fig.update_layout(\n",
    "    title='Race Distribution By Sector',\n",
    "    title_x=0.5,\n",
    "    height=600,\n",
    "    width=700,\n",
    "    font={\n",
    "            'size': 10\n",
    "        },\n",
    "    violinmode='group',\n",
    "    xaxis={\n",
    "        'title': 'Mean race distribution',\n",
    "    },\n",
    "    \n",
    "    barmode='stack',\n",
    "    showlegend=False\n",
    "    \n",
    ")\n",
    "fig.update_yaxes(showticklabels=False)\n",
    "\n",
    "fig.update_traces(\n",
    "    marker={\n",
    "        'line': {'width': 0.5},\n",
    "        \n",
    "    }, \n",
    ")"
   ]
  },
  {
   "cell_type": "markdown",
   "id": "d68567a7",
   "metadata": {},
   "source": [
    "The variables used to create this plot were the percentage of enrollment that are African American, percentage of enrollment that are white, the percentage of enrollemnt that are Hispanic and an aggregation of all of the other races. As you can see African Americans are highly represented at Private for-profit schools, which you will see in the following plot has the lowest average graduation rate. On the other hand, private not for profit schools and public schools tend to perform much better and are the same schools where African Americans are under represented"
   ]
  },
  {
   "cell_type": "code",
   "execution_count": null,
   "id": "83416e19-0aa7-4aeb-8c4c-af29bb82f770",
   "metadata": {
    "slideshow": {
     "slide_type": "skip"
    }
   },
   "outputs": [],
   "source": [
    "df_2019.select_dtypes(\"object\").columns #view groupby groups"
   ]
  },
  {
   "cell_type": "code",
   "execution_count": null,
   "id": "84f88521-3fa7-487f-a6f8-2e1205eb0b18",
   "metadata": {
    "slideshow": {
     "slide_type": "skip"
    },
    "tags": []
   },
   "outputs": [],
   "source": [
    "df_2019.filter(regex=\"graduation_rate\") #find col names"
   ]
  },
  {
   "cell_type": "code",
   "execution_count": null,
   "id": "b9aa4b94-5f34-47be-9f39-407245aa3173",
   "metadata": {
    "slideshow": {
     "slide_type": "skip"
    }
   },
   "outputs": [],
   "source": [
    "sector_grad = cat_groups[-2].agg('mean')[[total, black]].sort_values(by=total)\n",
    "sector_grad.drop(['Private not-for-profit, 2-year', 'Private for-profit, less-than 2-year', 'Public, 2-year', 'Private for-profit, 2-year', 'isMissing'], inplace=True)"
   ]
  },
  {
   "cell_type": "markdown",
   "id": "78fe32e2",
   "metadata": {
    "slideshow": {
     "slide_type": "skip"
    }
   },
   "source": [
    "### Computing Confidence Intervals"
   ]
  },
  {
   "cell_type": "code",
   "execution_count": null,
   "id": "690342a9",
   "metadata": {
    "slideshow": {
     "slide_type": "skip"
    }
   },
   "outputs": [],
   "source": [
    "private_for_profit = df_2019[total][df_2019.sector_of_institution == 'Private for-profit, 4-year or above']\n",
    "replicate = np.array([private_for_profit.sample(len(private_for_profit), replace=True).mean() for i in range(10000)])\n",
    "private_for_profit_percentile = np.percentile(replicate, [2.5, 97.5])\n",
    "private_for_profit_error = (private_for_profit_percentile[1] - private_for_profit_percentile[0]) / 2"
   ]
  },
  {
   "cell_type": "code",
   "execution_count": null,
   "id": "5839b496",
   "metadata": {
    "slideshow": {
     "slide_type": "skip"
    }
   },
   "outputs": [],
   "source": [
    "private_non_profit = df_2019[total][df_2019.sector_of_institution == 'Private not-for-profit, 4-year or above']\n",
    "replicate = np.array([private_non_profit.sample(len(private_non_profit), replace=True).mean() for i in range(10000)])\n",
    "private_non_profit_percentile = np.percentile(replicate, [2.5, 97.5])\n",
    "private_non_profit_error = (private_non_profit_percentile[1] - private_non_profit_percentile[0]) / 2"
   ]
  },
  {
   "cell_type": "code",
   "execution_count": null,
   "id": "608bed67",
   "metadata": {
    "slideshow": {
     "slide_type": "skip"
    }
   },
   "outputs": [],
   "source": [
    "public = df_2019[total][df_2019.sector_of_institution == 'Public, 4-year or above']\n",
    "replicate = np.array([public.sample(len(public), replace=True).mean() for i in range(10000)])\n",
    "public_percentile = np.percentile(replicate, [2.5, 97.5])\n",
    "public_error = (public_percentile[1] - public_percentile[0]) / 2"
   ]
  },
  {
   "cell_type": "code",
   "execution_count": null,
   "id": "dd6c03d4-68f7-46d2-ad92-09b5dba594b0",
   "metadata": {
    "cell_style": "center",
    "hide_input": true,
    "scrolled": false,
    "slideshow": {
     "slide_type": "slide"
    },
    "tags": [
     "margin"
    ]
   },
   "outputs": [],
   "source": [
    "y_black = sector_grad[black]\n",
    "y_total = sector_grad[total]\n",
    "\n",
    "fig = go.Figure()\n",
    "\n",
    "fig.add_trace(go.Bar(\n",
    "    x=sector_grad.index, y=y_total, name=\"Total Cohort\", \n",
    "    text=np.round(y_total, 2), \n",
    "    marker=dict(color=colors[0], line=dict(width=3, color=colors[3])),\n",
    "    error_y=dict(\n",
    "        type='data', color=colors[3],\n",
    "        array=[private_for_profit_error, public_error, private_non_profit_error])\n",
    "))\n",
    "\n",
    "fig.add_trace(go.Bar(\n",
    "    x=sector_grad.index, y=y_black, name=\"African American\", \n",
    "    text=np.round(y_black, 2), marker=dict(color=colors[4], line=dict(width=3, color=colors[3])), \n",
    "))\n",
    "\n",
    "fig.update_layout(\n",
    "    title=\"Mean Graduation Rate By Sector\",\n",
    "    yaxis={\n",
    "        'title': \"Mean Graduation Rate\"\n",
    "    },\n",
    "    title_x=0.5,\n",
    "    height=600,\n",
    "    \n",
    "    font={\n",
    "        'size': 10\n",
    "    },\n",
    "    legend=dict(xanchor='left', yanchor='top', x=0.01, y=1.0),\n",
    "    barmode='group'\n",
    ")"
   ]
  },
  {
   "cell_type": "markdown",
   "id": "b4d05a0e",
   "metadata": {
    "slideshow": {
     "slide_type": "skip"
    },
    "variables": {
     "university_x": {}
    }
   },
   "source": [
    "The graph above reiterates the point. African Americans are represented the most at the sector that performs the worst. So, the problem of representation is not just an issue at {{university_x}}, but a persistent problem accross schools throughout the public and private non-profit sectors."
   ]
  },
  {
   "cell_type": "code",
   "execution_count": null,
   "id": "e2496cc0",
   "metadata": {},
   "outputs": [],
   "source": [
    "df_2019.select_dtypes(\"object\")"
   ]
  },
  {
   "cell_type": "code",
   "execution_count": null,
   "id": "d2a3839d",
   "metadata": {},
   "outputs": [],
   "source": []
  },
  {
   "cell_type": "markdown",
   "id": "80e9e230",
   "metadata": {
    "cell_style": "center",
    "slideshow": {
     "slide_type": "slide"
    }
   },
   "source": [
    "# Do African Americans Perform Better at HBCU Schools?"
   ]
  },
  {
   "cell_type": "code",
   "execution_count": null,
   "id": "1a8080c7-e3a3-4b8a-9a2d-11ddbb43a100",
   "metadata": {
    "slideshow": {
     "slide_type": "skip"
    }
   },
   "outputs": [],
   "source": [
    "hbcu_grad = cat_groups[4]\n",
    "hbcu_grad = hbcu_grad.agg('mean')[[total, black]].drop(\"isMissing\")"
   ]
  },
  {
   "cell_type": "code",
   "execution_count": null,
   "id": "3a3b52f1-5683-45e6-95b9-ab1c801423aa",
   "metadata": {
    "cell_style": "split",
    "hide_input": true,
    "slideshow": {
     "slide_type": "fragment"
    }
   },
   "outputs": [],
   "source": [
    "\n",
    "fig = go.Figure()\n",
    "\n",
    "fig.add_trace(go.Bar(\n",
    "    x=hbcu_grad.index, y=hbcu_grad[total],name=\"Total Cohort\", \n",
    "    text=np.round(hbcu_grad[total], 2), marker=dict(color=colors[0], line=dict(width=3, color=colors[3]))\n",
    "))\n",
    "fig.add_trace(go.Bar(\n",
    "    x=hbcu_grad.index, y=hbcu_grad[black], \n",
    "    name=\"African American\", text=np.round(hbcu_grad[black], 2),\n",
    "    marker=dict(color=colors[4], line=dict(width=3, color=colors[3]))\n",
    "))\n",
    "\n",
    "fig.update_layout(\n",
    "    \n",
    "    title=\"HBCU vs Non-HBCU: Mean Graduation Rate\",\n",
    "    title_x= 0.5,\n",
    "    xaxis={\n",
    "        'title': 'HBCU'\n",
    "    },\n",
    "    yaxis={\n",
    "        'title': 'Mean Graduation Rate'\n",
    "    },\n",
    "    legend={\n",
    "        'title': 'Legend',\n",
    "        'xanchor': 'right',\n",
    "        'yanchor':'top'\n",
    "    },\n",
    "    height=500,\n",
    "    width=600\n",
    ")"
   ]
  },
  {
   "cell_type": "markdown",
   "id": "61b3ba40",
   "metadata": {
    "cell_style": "split",
    "slideshow": {
     "slide_type": "notes"
    }
   },
   "source": [
    "If you view HBCU vs non HBCU graduation rates you might get the impressions that HBCU's perform worse than non HBCUs even for African Americans. However, viewing univariate plots like this can be quite misleading. If you don't control for other variables like revenues, price, sat scores, and other things that have a proven impact on graduation rates then you can't say much about the true effect of being an HBCU school. To demonstrate this lets first control for price. "
   ]
  },
  {
   "cell_type": "markdown",
   "id": "c514d806-12bf-4878-8a96-43232ad317f2",
   "metadata": {
    "slideshow": {
     "slide_type": "slide"
    }
   },
   "source": [
    "# Controling For Price"
   ]
  },
  {
   "cell_type": "code",
   "execution_count": null,
   "id": "61f066f8",
   "metadata": {},
   "outputs": [],
   "source": [
    "my_schools = my_schools.reset_index()"
   ]
  },
  {
   "cell_type": "code",
   "execution_count": null,
   "id": "3860c7bc-4b4b-4299-84c1-1705ee8cb766",
   "metadata": {
    "hide_input": true,
    "slideshow": {
     "slide_type": "fragment"
    }
   },
   "outputs": [],
   "source": [
    "fig = go.Figure()\n",
    "\n",
    "fig.add_trace(go.Scatter(\n",
    "    x=df_2019[price][df_2019[hbcu] == \"No\"], y=df_2019[total][df_2019[hbcu] == 'No'], \n",
    "    mode='markers', name=\"Non-HBCU\", hovertext=df_2019[\"institution_name\"]\n",
    "))\n",
    "fig.add_trace(go.Scatter(\n",
    "    x=df_2019[price][df_2019[hbcu] == \"Yes\"], y=df_2019[total][df_2019[hbcu] == 'Yes'], \n",
    "    mode='markers', name=\"HBCU\", hovertext=df_2019[\"institution_name\"]\n",
    "))\n",
    "\n",
    "fig.add_trace(go.Scatter(\n",
    "    x=my_schools[price], y=my_targets[total], \n",
    "    mode='markers', name=university_x, \n",
    "    hovertext=my_schools[\"institution_name\"]\n",
    "))\n",
    "\n",
    "\n",
    "fig.update_layout(\n",
    "    title='Price vs Graduation Rate',\n",
    "    title_x=0.5,\n",
    "    xaxis={\n",
    "        'title': 'Price'\n",
    "    },\n",
    "    yaxis={\n",
    "        'title': 'Graduation Rate Total Cohort',\n",
    "    },\n",
    "    height=600\n",
    ")\n",
    "\n",
    "fig.update_traces(\n",
    "    marker=dict(size=12, line=dict(width=2, color=colors[0]))\n",
    ")"
   ]
  },
  {
   "cell_type": "markdown",
   "id": "1508ac82",
   "metadata": {
    "variables": {
     "university_x": {}
    }
   },
   "source": [
    "As you can see if you control for revenues, HBCUs dont perform any worse or better than other institutions. This also probes one to think about the socio economic class that the enrollment class. This plot shows that higher priced schools tend to have higher graduation rates. Perhaps students of higher socio economic class are able to afford higher priced schools. I would tell my stakeholders at this point that socio economic class might be something worth collecting to improve our data driven explanation for {{university_x}}'s graduation rates. Now Lets have a look at how revenues effect graduation rates."
   ]
  },
  {
   "cell_type": "code",
   "execution_count": null,
   "id": "ced93f7a-4199-4327-8206-a4a000e12f72",
   "metadata": {},
   "outputs": [],
   "source": []
  },
  {
   "cell_type": "markdown",
   "id": "41fe88ba-5056-4470-85d6-903d07d439e0",
   "metadata": {
    "slideshow": {
     "slide_type": "slide"
    },
    "tags": []
   },
   "source": [
    "## Revenues Vs Graduation Rate"
   ]
  },
  {
   "cell_type": "code",
   "execution_count": null,
   "id": "5899777c-c6d3-4448-b312-3bebd4a630db",
   "metadata": {
    "hide_input": false,
    "scrolled": false,
    "slideshow": {
     "slide_type": "fragment"
    }
   },
   "outputs": [],
   "source": [
    "fig = px.scatter(df_2019.sample(2315, random_state=42), x=revenue, y=total, color=hbcu)\n",
    "\n",
    "\n",
    "\n",
    "fig.update_layout(\n",
    "    title='Revenue vs Graduation Rate',\n",
    "    title_x=0.5,\n",
    "    xaxis={\n",
    "        'title': 'Revenues',\n",
    "        'range': [-300000000, 8000000000]\n",
    "    },\n",
    "    yaxis={\n",
    "        'title': 'Graduation Rate Total Cohort',\n",
    "        'range': [-10, 110]\n",
    "    },\n",
    "    height=700,\n",
    "    \n",
    "    legend={\n",
    "        'xanchor':'right',\n",
    "        'yanchor':'top',\n",
    "        'bgcolor': 'rgba(176,196,222,0.7)',\n",
    "        'borderwidth': 2,\n",
    "        'bordercolor': 'black'\n",
    "    }\n",
    "    \n",
    ")\n",
    "\n",
    "fig.update_traces(\n",
    "    marker=dict(size=10,line=dict(width=1.5))\n",
    ")"
   ]
  },
  {
   "cell_type": "code",
   "execution_count": null,
   "id": "a36c0bb8",
   "metadata": {},
   "outputs": [],
   "source": []
  },
  {
   "cell_type": "code",
   "execution_count": null,
   "id": "9a89fac0",
   "metadata": {
    "hide_input": false
   },
   "outputs": [],
   "source": [
    "features.filter('log')"
   ]
  },
  {
   "cell_type": "markdown",
   "id": "487d7d95-6d06-49bf-a454-e1ce2ba3424f",
   "metadata": {
    "slideshow": {
     "slide_type": "slide"
    },
    "tags": []
   },
   "source": [
    "## Elastic Net Model"
   ]
  },
  {
   "cell_type": "code",
   "execution_count": null,
   "id": "2325eec1",
   "metadata": {
    "hide_input": true,
    "slideshow": {
     "slide_type": "skip"
    }
   },
   "outputs": [],
   "source": [
    "bottom = [i[0] for i in model_coefs][0:5]\n",
    "bottom_labels = [i[1] for i in model_coefs][0:5]\n",
    "\n",
    "top = [i[0] for i in model_coefs][-5:]\n",
    "top_labels = [i[1] for i in model_coefs][-5:]"
   ]
  },
  {
   "cell_type": "code",
   "execution_count": null,
   "id": "2fa8e004",
   "metadata": {
    "slideshow": {
     "slide_type": "skip"
    }
   },
   "outputs": [],
   "source": [
    "# add <br> tags to the labels\n",
    "\n",
    "new_bottom = []\n",
    "for i in bottom_labels:\n",
    "    if len(i) > 50:\n",
    "        as_list = i.split('_')\n",
    "        index =  len(as_list) // 3\n",
    "        index2 = 4 * len(as_list) // 5 \n",
    "        as_list.insert(index, '<br>')\n",
    "        as_list.insert(index2, '<br>')\n",
    "        new_string = \" \".join(as_list)\n",
    "        new_bottom.append(new_string)\n",
    "     \n",
    "    else:   \n",
    "        as_list = i.split('_')\n",
    "        index =  len(as_list) // 2\n",
    "        as_list.insert(index, '<br>')\n",
    "        new_string = \" \".join(as_list)\n",
    "        new_bottom.append(new_string)\n",
    "\n",
    "new_top = []\n",
    "for i in top_labels:\n",
    "    as_list = i.split('_')\n",
    "    index =  len(as_list) // 2\n",
    "    as_list.insert(index, '<br>')\n",
    "    new_string = \" \".join(as_list)\n",
    "    new_top.append(new_string) "
   ]
  },
  {
   "cell_type": "code",
   "execution_count": null,
   "id": "be83c2f0-b41b-4788-bddf-c3fa202c4ad1",
   "metadata": {
    "hide_input": true,
    "slideshow": {
     "slide_type": "skip"
    }
   },
   "outputs": [],
   "source": [
    "new_bottom"
   ]
  },
  {
   "cell_type": "code",
   "execution_count": null,
   "id": "67aa971f",
   "metadata": {
    "slideshow": {
     "slide_type": "skip"
    }
   },
   "outputs": [],
   "source": [
    "new_top"
   ]
  },
  {
   "cell_type": "code",
   "execution_count": null,
   "id": "fbfb51b1",
   "metadata": {
    "cell_style": "center",
    "hide_input": true,
    "slideshow": {
     "slide_type": "slide"
    },
    "tags": []
   },
   "outputs": [],
   "source": [
    "fig = go.Figure()\n",
    "\n",
    "fig.add_trace(go.Bar(\n",
    "    x=bottom + top,\n",
    "    y=new_bottom + new_top,\n",
    "    text = new_bottom + new_top,\n",
    "    orientation='h'\n",
    "))\n",
    "fig.update_layout(\n",
    "    height=800,\n",
    "    yaxis={\n",
    "        'showticklabels': False\n",
    "    },\n",
    "    title=\"Elastic Net Coefficients\",\n",
    "    title_x=0.5\n",
    ")"
   ]
  },
  {
   "cell_type": "markdown",
   "id": "f38c56d6",
   "metadata": {
    "slideshow": {
     "slide_type": "slide"
    },
    "variables": {
     "feature": {}
    }
   },
   "source": [
    "**<center>Lets interperate {{feature}}</center>**"
   ]
  },
  {
   "cell_type": "code",
   "execution_count": null,
   "id": "b39e57fc",
   "metadata": {},
   "outputs": [],
   "source": [
    "spelman = my_schools_xgb.loc[universities[0]].iloc[[1], :]\n",
    "feature = model_coefs[-1][1]"
   ]
  },
  {
   "cell_type": "code",
   "execution_count": null,
   "id": "5302cda0-a5bb-48ca-a313-6ad92f2cbc57",
   "metadata": {
    "hide_input": false,
    "slideshow": {
     "slide_type": "skip"
    }
   },
   "outputs": [],
   "source": [
    "model_coefs[-1][1]"
   ]
  },
  {
   "cell_type": "code",
   "execution_count": null,
   "id": "4dcfc532",
   "metadata": {},
   "outputs": [],
   "source": [
    "# 1 % change in graduation rate calculation\n",
    "\n",
    "#the amount any feature needs to change to have a 1% increase in graduation rates\n",
    "delta = (x_train_xgb[feature].max() - x_train_xgb[feature].min()) / model_coefs[-1][0]\n",
    "\n",
    "pred1 = elasticNet.predict(spelman)\n",
    "\n",
    "spelman[feature] += delta\n",
    "\n",
    "pred2 = elasticNet.predict(spelman)"
   ]
  },
  {
   "cell_type": "code",
   "execution_count": null,
   "id": "33384284",
   "metadata": {},
   "outputs": [],
   "source": [
    "delta = np.round(delta, 2)"
   ]
  },
  {
   "cell_type": "code",
   "execution_count": null,
   "id": "732fd608",
   "metadata": {
    "cell_style": "center",
    "hide_input": true,
    "slideshow": {
     "slide_type": "fragment"
    }
   },
   "outputs": [],
   "source": [
    "fig = go.Figure()\n",
    "try:\n",
    "    fig.add_trace(go.Scatter(\n",
    "        x=df_2019[feature][df_2019[feature + \"_isnan\"] == 0] , \n",
    "        y=df_2019[total][df_2019[feature + \"_isnan\"] == 0], mode='markers',\n",
    "        marker=dict(size=10, color='rgba(70, 70, 250, 1.0)', line=dict(width=1)),\n",
    "        name=\"SAT scores\"\n",
    "    ))\n",
    "    fig.add_trace(go.Scatter(\n",
    "        x=df_2019[feature][df_2019[feature + \"_isnan\"] == 1] , \n",
    "        y=df_2019[total][df_2019[feature + \"_isnan\"] == 1],\n",
    "        marker=dict(size=10, color='rgba(255, 40, 40, 0.6)', line=dict(width=1)),\n",
    "        mode='markers', name=\"Imputed\"\n",
    "    ))\n",
    "except:\n",
    "    fig.add_trace(go.Scatter(\n",
    "        x=df_2019[feature], y=df_2019[total], mode='markers'\n",
    "    ))\n",
    "    fig.add_trace(go.Scatter(\n",
    "        x=df_2019[feature], y=df_2019[total], mode='markers'\n",
    "    ))\n",
    "    \n",
    "fig.update_layout(\n",
    "    xaxis=dict(\n",
    "        range=[375, 810],\n",
    "        title=feature\n",
    "    ),\n",
    "    yaxis=dict(\n",
    "        title='Graduation Rate',\n",
    "        range=[-10, 110]\n",
    "    ),\n",
    "    legend=dict(xanchor=\"left\", x=0.01),\n",
    "    height=650,\n",
    "    width=950\n",
    ")\n",
    "fig.show()    \n",
    "    "
   ]
  },
  {
   "cell_type": "markdown",
   "id": "b49e0642",
   "metadata": {
    "cell_style": "split",
    "hide_input": true
   },
   "source": [
    "- In red are the missing values"
   ]
  },
  {
   "cell_type": "markdown",
   "id": "328d14bf",
   "metadata": {
    "cell_style": "split",
    "slideshow": {
     "slide_type": "fragment"
    },
    "variables": {
     "delta": {},
     "model_coefs[-1][1]": {}
    }
   },
   "source": [
    "<ul><li> A {{delta}} increase in {{model_coefs[-1][1]}} will cause a 1 % increase in graduation rates'</li></ul>"
   ]
  },
  {
   "cell_type": "markdown",
   "id": "34ed63ff",
   "metadata": {
    "cell_style": "split",
    "slideshow": {
     "slide_type": "fragment"
    }
   },
   "source": [
    "- The Coeficient Should be less steep than the observed trend because we are controlling for all other variables"
   ]
  },
  {
   "cell_type": "markdown",
   "id": "08fae64b",
   "metadata": {
    "cell_style": "split",
    "slideshow": {
     "slide_type": "fragment"
    }
   },
   "source": [
    "- Some of the effect can be explained by other features"
   ]
  },
  {
   "cell_type": "markdown",
   "id": "3c92ca90-46ea-4acc-a85e-e1c944cd5a2e",
   "metadata": {
    "slideshow": {
     "slide_type": "slide"
    }
   },
   "source": [
    "## Advantages and Disadvantages of ElasticNet"
   ]
  },
  {
   "cell_type": "markdown",
   "id": "a8375110",
   "metadata": {
    "cell_style": "split",
    "slideshow": {
     "slide_type": "fragment"
    }
   },
   "source": [
    "## Advantages"
   ]
  },
  {
   "cell_type": "markdown",
   "id": "bb7c44ca",
   "metadata": {
    "cell_style": "split",
    "slideshow": {
     "slide_type": "fragment"
    }
   },
   "source": [
    "## Disadvantages"
   ]
  },
  {
   "cell_type": "markdown",
   "id": "6b573e49",
   "metadata": {
    "cell_style": "split",
    "slideshow": {
     "slide_type": "fragment"
    }
   },
   "source": [
    "- Simple Linear Interpretation"
   ]
  },
  {
   "cell_type": "markdown",
   "id": "693193f3",
   "metadata": {
    "cell_style": "split",
    "slideshow": {
     "slide_type": "fragment"
    }
   },
   "source": [
    "- No Feature Interactions"
   ]
  },
  {
   "cell_type": "markdown",
   "id": "4f5fc9fe",
   "metadata": {
    "cell_style": "split",
    "slideshow": {
     "slide_type": "fragment"
    },
    "variables": {
     "delta": {},
     "model_coefs[-1][1]": {}
    }
   },
   "source": [
    "<ul><li> A {{delta}} increase in {{model_coefs[-1][1]}} will cause a 1 % increase in graduation rates'</li></ul>"
   ]
  },
  {
   "cell_type": "markdown",
   "id": "a804e65c",
   "metadata": {
    "cell_style": "split",
    "slideshow": {
     "slide_type": "fragment"
    }
   },
   "source": [
    "- This statement can be misleading if you have many highly correlated features"
   ]
  },
  {
   "cell_type": "code",
   "execution_count": null,
   "id": "838aff28",
   "metadata": {
    "slideshow": {
     "slide_type": "skip"
    }
   },
   "outputs": [],
   "source": [
    "residential = df_2019.filter(regex='carnegie').columns[2]"
   ]
  },
  {
   "cell_type": "code",
   "execution_count": null,
   "id": "1d5d4b70",
   "metadata": {
    "slideshow": {
     "slide_type": "skip"
    }
   },
   "outputs": [],
   "source": [
    "highly_res = df_2019[df_2019[residential].str.contains(\"highly\")]\n",
    "primarily = df_2019[df_2019[residential].str.contains(\"primarily residential\")]\n",
    "non = df_2019[df_2019[residential].str.contains(\"nonresidential\")]"
   ]
  },
  {
   "cell_type": "code",
   "execution_count": null,
   "id": "d4810865",
   "metadata": {
    "slideshow": {
     "slide_type": "skip"
    }
   },
   "outputs": [],
   "source": [
    "p_high = np.polyfit(np.log(highly_res[revenue]), highly_res[total], 1)\n",
    "p_prim = np.polyfit(np.log(primarily[revenue]), primarily[total], 1)\n",
    "p_non = np.polyfit(np.log(non[revenue]), non[total], 1)"
   ]
  },
  {
   "cell_type": "markdown",
   "id": "217cb686",
   "metadata": {
    "slideshow": {
     "slide_type": "slide"
    }
   },
   "source": [
    "## <center>Elastic Net Feature Interactions Example</center>"
   ]
  },
  {
   "cell_type": "code",
   "execution_count": null,
   "id": "b0b21fa6",
   "metadata": {
    "hide_input": false,
    "slideshow": {
     "slide_type": "fragment"
    }
   },
   "outputs": [],
   "source": [
    "fig = go.Figure()\n",
    "x = np.linspace(12, 24, 100)\n",
    "# Highly Residential\n",
    "fig.add_trace(go.Scatter(\n",
    "    x=np.log(highly_res[revenue]),\n",
    "    y=highly_res[total], mode='markers', \n",
    "    legendgroup=\"Highly Residential\", name=\"Highly Residential\"\n",
    "))\n",
    "# Line of Best Fit\n",
    "fig.add_trace(go.Scatter(\n",
    "    x=x,\n",
    "    y=np.polyval(p_high, x), mode='lines',\n",
    "    legendgroup=\"Hgihly Residential\", name= \"Highly Residential\"\n",
    "))\n",
    "\n",
    "# Primarily Residential\n",
    "fig.add_trace(go.Scatter(\n",
    "    x=np.log(highly_res[revenue]),\n",
    "    y=primarily[total], mode='markers',\n",
    "    legendgroup=\"Primarily Residential\", name= \"Primarily Residential\"\n",
    "))\n",
    "#Primarily Residential Line of best fit\n",
    "fig.add_trace(go.Scatter(\n",
    "    x=x,\n",
    "    y=np.polyval(p_prim, x), mode='lines',\n",
    "    legendgroup=\"Primarily Residential\", name= \"Primarily Residential\", \n",
    "))\n",
    "\n",
    "# nonresidential\n",
    "fig.add_trace(go.Scatter(\n",
    "    x=np.log(highly_res[revenue]),\n",
    "    y=non[total], mode='markers',\n",
    "    legendgroup=\"Non Residential\", name=\"Non Residential\"\n",
    "))\n",
    "# nonresidential line of best fit\n",
    "fig.add_trace(go.Scatter(\n",
    "    x=x,\n",
    "    y=np.polyval(p_non, x), mode='lines',\n",
    "    legendgroup=\"Non Residential\", name=\"Non Residential\"\n",
    "))\n",
    "\n",
    "#update colors\n",
    "fig.data[1].line.color = 'blue' \n",
    "fig.data[3].line.color = 'green' \n",
    "fig.data[5].line.color = 'orange' \n",
    "\n",
    "fig.update_layout(\n",
    "    height=600,\n",
    "    yaxis={\n",
    "        'showticklabels': False,\n",
    "        'range': [-10, 110],\n",
    "        'title': 'Graduation Rate'\n",
    "    },\n",
    "    title=\"Residential Level and Revenues Feature Interaction\",\n",
    "    xaxis=dict(title='Revenues', range=[12,24]),\n",
    "    font=dict(size=20),\n",
    "    title_x=0.5\n",
    ")"
   ]
  },
  {
   "cell_type": "code",
   "execution_count": null,
   "id": "f85d25ea",
   "metadata": {},
   "outputs": [],
   "source": []
  },
  {
   "cell_type": "markdown",
   "id": "2591f993-d2d9-42bc-8f1f-cb8f5ce0989c",
   "metadata": {
    "slideshow": {
     "slide_type": "skip"
    },
    "tags": []
   },
   "source": [
    "## Model Performance"
   ]
  },
  {
   "cell_type": "markdown",
   "id": "b9a259ed-7298-43d3-8ed2-c0c4d6a6676e",
   "metadata": {
    "slideshow": {
     "slide_type": "slide"
    }
   },
   "source": [
    "# <center>Elastic Net Model Performance</center>"
   ]
  },
  {
   "cell_type": "code",
   "execution_count": null,
   "id": "2fdc30d8-db05-4ba8-90a5-1bc2d185ab80",
   "metadata": {
    "cell_style": "center",
    "slideshow": {
     "slide_type": "fragment"
    },
    "tags": []
   },
   "outputs": [],
   "source": [
    "fig = go.Figure()\n",
    "\n",
    "fig.add_trace(go.Scatter(x=enet_pred, y=y_test_xgb, mode='markers', name='(y_pred, y_test)'))\n",
    "fig.add_trace(go.Scatter(x=np.linspace(0,100,100), y=np.linspace(0,100,100), name=\"100% Accuracy\"))\n",
    "fig.update_layout(\n",
    "    title= 'Elastic Net Accuracy',\n",
    "    xaxis={'title':\"Predicted\"},\n",
    "    yaxis={'title':\"Observed\"},\n",
    "    font=dict(size=16),\n",
    "    height=550\n",
    ")"
   ]
  },
  {
   "cell_type": "code",
   "execution_count": null,
   "id": "4ffcfca3-ed0d-4d4c-a90f-8ef4c59c6c9c",
   "metadata": {
    "cell_style": "center",
    "slideshow": {
     "slide_type": "subslide"
    },
    "tags": []
   },
   "outputs": [],
   "source": [
    "fig = go.Figure()\n",
    "\n",
    "fig.add_trace(go.Scatter(x=enet_pred, y=enet_pred - y_test_xgb, mode='markers', name='(y_pred, y_test)'))\n",
    "fig.update_layout(\n",
    "    title= 'Elastic Net Residuals',\n",
    "    xaxis={'title':\"Observed Graduation Rate\"},\n",
    "    yaxis={'title':\"Residuals\"},\n",
    "    title_x=0.5,\n",
    "    font=dict(size=20),\n",
    "    height=550\n",
    ")"
   ]
  },
  {
   "cell_type": "markdown",
   "id": "ce69b3d8-e593-4e95-9d38-90ff03090253",
   "metadata": {
    "jupyter": {
     "outputs_hidden": true
    },
    "slideshow": {
     "slide_type": "skip"
    },
    "tags": []
   },
   "source": [
    "# <center> XGB Model Performance </center>"
   ]
  },
  {
   "cell_type": "code",
   "execution_count": null,
   "id": "811ecd2c",
   "metadata": {},
   "outputs": [],
   "source": [
    "y_test = y_test_xgb.reset_index()"
   ]
  },
  {
   "cell_type": "code",
   "execution_count": null,
   "id": "8d5a22aa",
   "metadata": {
    "cell_style": "center",
    "slideshow": {
     "slide_type": "fragment"
    },
    "tags": []
   },
   "outputs": [],
   "source": [
    "fig = go.Figure()\n",
    "\n",
    "fig.add_trace(go.Scatter(\n",
    "    x=xgb_pred, y=y_test[total], mode='markers', \n",
    "    hovertext=y_test[\"institution_name\"], name='(y_pred, y_test)'\n",
    "))\n",
    "fig.add_trace(go.Scatter(x=np.linspace(0,100,100), y=np.linspace(0,100,100), name=\"100% Accuracy\"))\n",
    "fig.update_layout(\n",
    "    title= 'XGB Model Performance',\n",
    "    title_x=0.5,\n",
    "    font=dict(size=16),\n",
    "    height=700,\n",
    "    \n",
    "    legend={\n",
    "        'xanchor': 'left',\n",
    "        'x': 0.01,\n",
    "        'yanchor': 'top',\n",
    "        'y': 0.99, \n",
    "        'bgcolor': 'rgba(150, 160, 160, 0.6)'\n",
    "    }\n",
    ")"
   ]
  },
  {
   "cell_type": "code",
   "execution_count": null,
   "id": "94f574ab",
   "metadata": {
    "cell_style": "center",
    "slideshow": {
     "slide_type": "subslide"
    },
    "tags": []
   },
   "outputs": [],
   "source": [
    "fig = go.Figure()\n",
    "\n",
    "fig.add_trace(go.Scatter(x=y_test_xgb, y=xgb_pred - y_test_xgb, mode='markers', name='(y_pred, y_test)'))\n",
    "\n",
    "fig.update_layout(\n",
    "    title= 'XGB Residuals',\n",
    "    title_x=0.5,\n",
    "    xaxis={'title':\"Observed Graduation Rate\"},\n",
    "    yaxis={'title':\"Residuals\"},\n",
    "    font=dict(size=20),\n",
    "    height=700\n",
    ")"
   ]
  },
  {
   "cell_type": "code",
   "execution_count": null,
   "id": "6d63dbbd-6e1c-4a9d-a719-e9d2adfd92bb",
   "metadata": {
    "cell_style": "center",
    "slideshow": {
     "slide_type": "skip"
    }
   },
   "outputs": [],
   "source": [
    "my_schools_xgb['predicted'] = xgb_model.predict(my_schools_xgb)"
   ]
  },
  {
   "cell_type": "code",
   "execution_count": null,
   "id": "bc06eb34-6d02-44cc-99c5-c7d22026dfe7",
   "metadata": {
    "slideshow": {
     "slide_type": "skip"
    }
   },
   "outputs": [],
   "source": [
    "my_schools_xgb['actual'] = my_targets[total]"
   ]
  },
  {
   "cell_type": "code",
   "execution_count": null,
   "id": "b667cf1d-2c4b-41a3-94b9-217ee86eb532",
   "metadata": {
    "slideshow": {
     "slide_type": "skip"
    }
   },
   "outputs": [],
   "source": [
    "school = my_schools_xgb.index.to_list()[0]"
   ]
  },
  {
   "cell_type": "code",
   "execution_count": null,
   "id": "687d81b8-9ef3-4b63-8343-6a0745afb482",
   "metadata": {
    "slideshow": {
     "slide_type": "skip"
    }
   },
   "outputs": [],
   "source": [
    "school"
   ]
  },
  {
   "cell_type": "code",
   "execution_count": null,
   "id": "81670fb4-f81f-423b-9b02-570a6313726b",
   "metadata": {
    "slideshow": {
     "slide_type": "slide"
    },
    "tags": []
   },
   "outputs": [],
   "source": [
    "#show predicted and actual graduation rates from 2018-2019 for university of asheville\n",
    "fig = go.Figure()\n",
    "\n",
    "fig.add_trace(go.Scatter(\n",
    "    x=my_schools_xgb.loc[school,'cohort'],\n",
    "    y=my_schools_xgb.loc[school, 'predicted'],\n",
    "    name=\"Predicted Graduation Rates\",\n",
    "\n",
    "))\n",
    "fig.add_trace(go.Scatter(\n",
    "   x=my_schools_xgb.loc[school,'cohort'],\n",
    "    y=my_schools_xgb.loc[school, 'actual'],\n",
    "    name=\"Actual Graduation Rates\",\n",
    " \n",
    "))\n",
    "\n",
    "fig.update_layout(\n",
    "    title=school[0],\n",
    "    title_x=0.5,\n",
    "    xaxis={'title':\"Year\"},\n",
    "    yaxis={'title':\"Residuals\"},\n",
    "    font=dict(size=20),\n",
    "    height=600\n",
    ")"
   ]
  },
  {
   "cell_type": "markdown",
   "id": "fc7aafb5-85bb-403c-a93e-4d8edd60b845",
   "metadata": {
    "slideshow": {
     "slide_type": "slide"
    }
   },
   "source": [
    "## <center>Future Work</center>"
   ]
  },
  {
   "cell_type": "markdown",
   "id": "7cc7237f",
   "metadata": {
    "cell_style": "split",
    "slideshow": {
     "slide_type": "fragment"
    }
   },
   "source": [
    "- #### Collect all historical graduation rates and create a time series forecast for graduation rates"
   ]
  },
  {
   "cell_type": "markdown",
   "id": "38307fd0",
   "metadata": {
    "cell_style": "split",
    "slideshow": {
     "slide_type": "skip"
    }
   },
   "source": [
    "- #### Deploy web application where you can pick your school and get a dashboard report"
   ]
  },
  {
   "cell_type": "code",
   "execution_count": null,
   "id": "debc9975",
   "metadata": {},
   "outputs": [],
   "source": []
  }
 ],
 "metadata": {
  "celltoolbar": "Slideshow",
  "hide_input": false,
  "kernelspec": {
   "display_name": "Python 3 (ipykernel)",
   "language": "python",
   "name": "python3"
  },
  "language_info": {
   "codemirror_mode": {
    "name": "ipython",
    "version": 3
   },
   "file_extension": ".py",
   "mimetype": "text/x-python",
   "name": "python",
   "nbconvert_exporter": "python",
   "pygments_lexer": "ipython3",
   "version": "3.8.5"
  },
  "toc": {
   "base_numbering": 1,
   "nav_menu": {
    "height": "517px",
    "width": "558px"
   },
   "number_sections": true,
   "sideBar": false,
   "skip_h1_title": false,
   "title_cell": "Table of Contents",
   "title_sidebar": "Contents",
   "toc_cell": false,
   "toc_position": {
    "height": "47.2167px",
    "left": "1901.17px",
    "top": "109.633px",
    "width": "158.833px"
   },
   "toc_section_display": false,
   "toc_window_display": true
  }
 },
 "nbformat": 4,
 "nbformat_minor": 5
}
