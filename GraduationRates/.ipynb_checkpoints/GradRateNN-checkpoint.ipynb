{
 "cells": [
  {
   "cell_type": "code",
   "execution_count": 2,
   "id": "d698df75-5162-4bdf-bcbb-4c6684edfad6",
   "metadata": {},
   "outputs": [],
   "source": [
    "import tensorflow as tf\n",
    "import pandas as pd\n",
    "import numpy as np\n",
    "from joblib import load, dump\n",
    "from category_encoders import TargetEncoder\n",
    "from sklearn.preprocessing import StandardScaler, MinMaxScaler\n",
    "from sklearn.pipeline import Pipeline\n",
    "from sklearn.model_selection import train_test_split"
   ]
  },
  {
   "cell_type": "code",
   "execution_count": 3,
   "id": "fc2fc949-768a-484c-a1a1-59720def886d",
   "metadata": {},
   "outputs": [],
   "source": [
    "from tensorflow.keras import Sequential\n",
    "from tensorflow.keras.layers import Dense, Activation, Input, Dropout\n",
    "from tensorflow.keras import backend as K"
   ]
  },
  {
   "cell_type": "code",
   "execution_count": 4,
   "id": "415510d9-22df-4841-b0f7-f4767abd28d1",
   "metadata": {},
   "outputs": [],
   "source": [
    "from sklearn.metrics import mean_squared_error, mean_absolute_error"
   ]
  },
  {
   "cell_type": "code",
   "execution_count": null,
   "id": "1d8814c1-84f2-4ec0-9b54-ac47f4aec284",
   "metadata": {},
   "outputs": [],
   "source": []
  },
  {
   "cell_type": "code",
   "execution_count": 5,
   "id": "11da5c5c-6561-4739-a2be-53ac8db73e0a",
   "metadata": {},
   "outputs": [],
   "source": [
    "features = load(\"objects/features.joblib\")\n",
    "y = load(\"objects/targets.joblib\")"
   ]
  },
  {
   "cell_type": "code",
   "execution_count": 6,
   "id": "11042374-7564-4027-8c15-647956c85f6f",
   "metadata": {},
   "outputs": [],
   "source": [
    "features.index = features.index.swaplevel()\n",
    "y.index = y.index.swaplevel()"
   ]
  },
  {
   "cell_type": "code",
   "execution_count": 7,
   "id": "66dfd474-5755-4ff0-a7c9-142ceea0471d",
   "metadata": {
    "tags": []
   },
   "outputs": [],
   "source": [
    "preprocess = Pipeline([\n",
    "    ('encode', TargetEncoder()),\n",
    "    ('scaler', MinMaxScaler())\n",
    "])\n",
    "    "
   ]
  },
  {
   "cell_type": "code",
   "execution_count": 8,
   "id": "c4f9f513-d107-48d7-b065-cccb9f562004",
   "metadata": {},
   "outputs": [],
   "source": [
    "x_train, x_test, y_train, y_test = train_test_split(features, y.iloc[:, 9], test_size=0.25, shuffle=False)"
   ]
  },
  {
   "cell_type": "code",
   "execution_count": 9,
   "id": "329b71eb-ed6f-4c49-b5b1-5b2b5dcd7e5f",
   "metadata": {},
   "outputs": [],
   "source": [
    "x_train = preprocess.fit_transform(x_train, y_train)"
   ]
  },
  {
   "cell_type": "code",
   "execution_count": 10,
   "id": "24442886-cfd4-4ce1-ba30-dee448007eff",
   "metadata": {},
   "outputs": [
    {
     "data": {
      "text/plain": [
       "(3450, 105)"
      ]
     },
     "execution_count": 10,
     "metadata": {},
     "output_type": "execute_result"
    }
   ],
   "source": [
    "x_train.shape"
   ]
  },
  {
   "cell_type": "code",
   "execution_count": 11,
   "id": "404078aa-fe2a-4512-93de-77c1227fe065",
   "metadata": {},
   "outputs": [],
   "source": [
    "x_test = preprocess.transform(x_test)"
   ]
  },
  {
   "cell_type": "markdown",
   "id": "9a12ebfa-6962-4633-9c69-2f7a9bf6eb65",
   "metadata": {},
   "source": [
    "# Training a Neural Network to Predict Graduation Rates"
   ]
  },
  {
   "cell_type": "code",
   "execution_count": 12,
   "id": "167b5211-ed33-48ec-a304-7e4c41252d2c",
   "metadata": {},
   "outputs": [],
   "source": [
    "# defining custom activation function\n",
    "\n",
    "def custom_activation(x):\n",
    "    \n",
    "    return 100 * K.tanh(x)"
   ]
  },
  {
   "cell_type": "code",
   "execution_count": null,
   "id": "d607c163-6885-4b4c-b6df-215b45206543",
   "metadata": {},
   "outputs": [],
   "source": []
  },
  {
   "cell_type": "code",
   "execution_count": 42,
   "id": "46369e57-864b-4224-84ba-b9188b39579d",
   "metadata": {},
   "outputs": [],
   "source": [
    "model = Sequential([\n",
    "    Dense(105, input_dim=105, activation='relu'),\n",
    "    Dropout(0.5),\n",
    "    Dense(1, activation=custom_activation)\n",
    "])"
   ]
  },
  {
   "cell_type": "code",
   "execution_count": 43,
   "id": "600b0f03-1248-4c7b-84d8-21703599a11d",
   "metadata": {},
   "outputs": [],
   "source": [
    "model.compile(loss=tf.keras.losses.MeanAbsoluteError(), optimizer='adam', metrics=['mean_absolute_error'])"
   ]
  },
  {
   "cell_type": "code",
   "execution_count": 44,
   "id": "db9a5efb-8ec7-4209-960d-9e8f739ccd34",
   "metadata": {
    "tags": []
   },
   "outputs": [
    {
     "name": "stdout",
     "output_type": "stream",
     "text": [
      "Train on 3450 samples\n",
      "Epoch 1/100\n",
      "3450/3450 [==============================] - 2s 536us/sample - loss: 24.8583 - mean_absolute_error: 24.8583\n",
      "Epoch 2/100\n",
      "3450/3450 [==============================] - 1s 262us/sample - loss: 14.1331 - mean_absolute_error: 14.1331\n",
      "Epoch 3/100\n",
      "3450/3450 [==============================] - 1s 378us/sample - loss: 12.3308 - mean_absolute_error: 12.3308\n",
      "Epoch 4/100\n",
      "3450/3450 [==============================] - 1s 383us/sample - loss: 11.3348 - mean_absolute_error: 11.3348\n",
      "Epoch 5/100\n",
      "3450/3450 [==============================] - 1s 321us/sample - loss: 10.5820 - mean_absolute_error: 10.5820\n",
      "Epoch 6/100\n",
      "3450/3450 [==============================] - 1s 256us/sample - loss: 9.9773 - mean_absolute_error: 9.9773\n",
      "Epoch 7/100\n",
      "3450/3450 [==============================] - 1s 251us/sample - loss: 9.8617 - mean_absolute_error: 9.8617\n",
      "Epoch 8/100\n",
      "3450/3450 [==============================] - 1s 249us/sample - loss: 9.5387 - mean_absolute_error: 9.5387\n",
      "Epoch 9/100\n",
      "3450/3450 [==============================] - 1s 249us/sample - loss: 9.2451 - mean_absolute_error: 9.2451\n",
      "Epoch 10/100\n",
      "3450/3450 [==============================] - 1s 251us/sample - loss: 9.1882 - mean_absolute_error: 9.1882\n",
      "Epoch 11/100\n",
      "3450/3450 [==============================] - 1s 291us/sample - loss: 8.9932 - mean_absolute_error: 8.9932\n",
      "Epoch 12/100\n",
      "3450/3450 [==============================] - 1s 287us/sample - loss: 9.0690 - mean_absolute_error: 9.0690\n",
      "Epoch 13/100\n",
      "3450/3450 [==============================] - 1s 353us/sample - loss: 8.7362 - mean_absolute_error: 8.7362\n",
      "Epoch 14/100\n",
      "3450/3450 [==============================] - 1s 342us/sample - loss: 8.7283 - mean_absolute_error: 8.7283\n",
      "Epoch 15/100\n",
      "3450/3450 [==============================] - 1s 351us/sample - loss: 8.7670 - mean_absolute_error: 8.7670\n",
      "Epoch 16/100\n",
      "3450/3450 [==============================] - 1s 266us/sample - loss: 8.5439 - mean_absolute_error: 8.5440\n",
      "Epoch 17/100\n",
      "3450/3450 [==============================] - 1s 253us/sample - loss: 8.4131 - mean_absolute_error: 8.4131\n",
      "Epoch 18/100\n",
      "3450/3450 [==============================] - 1s 248us/sample - loss: 8.4162 - mean_absolute_error: 8.4162\n",
      "Epoch 19/100\n",
      "3450/3450 [==============================] - 1s 249us/sample - loss: 8.3809 - mean_absolute_error: 8.3809\n",
      "Epoch 20/100\n",
      "3450/3450 [==============================] - 1s 251us/sample - loss: 8.2973 - mean_absolute_error: 8.2973\n",
      "Epoch 21/100\n",
      "3450/3450 [==============================] - 1s 283us/sample - loss: 8.2320 - mean_absolute_error: 8.2320\n",
      "Epoch 22/100\n",
      "3450/3450 [==============================] - 1s 271us/sample - loss: 8.3828 - mean_absolute_error: 8.3828\n",
      "Epoch 23/100\n",
      "3450/3450 [==============================] - 1s 342us/sample - loss: 8.0616 - mean_absolute_error: 8.0616\n",
      "Epoch 24/100\n",
      "3450/3450 [==============================] - 1s 355us/sample - loss: 8.0947 - mean_absolute_error: 8.0947\n",
      "Epoch 25/100\n",
      "3450/3450 [==============================] - 1s 323us/sample - loss: 7.9892 - mean_absolute_error: 7.9892\n",
      "Epoch 26/100\n",
      "3450/3450 [==============================] - 1s 280us/sample - loss: 8.0547 - mean_absolute_error: 8.0547\n",
      "Epoch 27/100\n",
      "3450/3450 [==============================] - 1s 288us/sample - loss: 8.0784 - mean_absolute_error: 8.0784\n",
      "Epoch 28/100\n",
      "3450/3450 [==============================] - 1s 247us/sample - loss: 8.0040 - mean_absolute_error: 8.0040\n",
      "Epoch 29/100\n",
      "3450/3450 [==============================] - 1s 258us/sample - loss: 8.0225 - mean_absolute_error: 8.0225\n",
      "Epoch 30/100\n",
      "3450/3450 [==============================] - 1s 250us/sample - loss: 7.9686 - mean_absolute_error: 7.9686\n",
      "Epoch 31/100\n",
      "3450/3450 [==============================] - 1s 275us/sample - loss: 7.8273 - mean_absolute_error: 7.8273\n",
      "Epoch 32/100\n",
      "3450/3450 [==============================] - 1s 260us/sample - loss: 7.8462 - mean_absolute_error: 7.8462\n",
      "Epoch 33/100\n",
      "3450/3450 [==============================] - 1s 323us/sample - loss: 7.7002 - mean_absolute_error: 7.7002\n",
      "Epoch 34/100\n",
      "3450/3450 [==============================] - 1s 384us/sample - loss: 7.8039 - mean_absolute_error: 7.8038\n",
      "Epoch 35/100\n",
      "3450/3450 [==============================] - 1s 357us/sample - loss: 7.7229 - mean_absolute_error: 7.7229\n",
      "Epoch 36/100\n",
      "3450/3450 [==============================] - 1s 303us/sample - loss: 7.7660 - mean_absolute_error: 7.7660\n",
      "Epoch 37/100\n",
      "3450/3450 [==============================] - 1s 246us/sample - loss: 7.5988 - mean_absolute_error: 7.5988\n",
      "Epoch 38/100\n",
      "3450/3450 [==============================] - 1s 247us/sample - loss: 7.6770 - mean_absolute_error: 7.6770\n",
      "Epoch 39/100\n",
      "3450/3450 [==============================] - 1s 249us/sample - loss: 7.6269 - mean_absolute_error: 7.6269\n",
      "Epoch 40/100\n",
      "3450/3450 [==============================] - 1s 248us/sample - loss: 7.5457 - mean_absolute_error: 7.5457\n",
      "Epoch 41/100\n",
      "3450/3450 [==============================] - 1s 266us/sample - loss: 7.4263 - mean_absolute_error: 7.4263\n",
      "Epoch 42/100\n",
      "3450/3450 [==============================] - 1s 275us/sample - loss: 7.5041 - mean_absolute_error: 7.5041\n",
      "Epoch 43/100\n",
      "3450/3450 [==============================] - 1s 331us/sample - loss: 7.5206 - mean_absolute_error: 7.5206\n",
      "Epoch 44/100\n",
      "3450/3450 [==============================] - 1s 339us/sample - loss: 7.5983 - mean_absolute_error: 7.5983\n",
      "Epoch 45/100\n",
      "3450/3450 [==============================] - 1s 345us/sample - loss: 7.3919 - mean_absolute_error: 7.3919\n",
      "Epoch 46/100\n",
      "3450/3450 [==============================] - 1s 292us/sample - loss: 7.5303 - mean_absolute_error: 7.5303\n",
      "Epoch 47/100\n",
      "3450/3450 [==============================] - 1s 251us/sample - loss: 7.3298 - mean_absolute_error: 7.3298\n",
      "Epoch 48/100\n",
      "3450/3450 [==============================] - 1s 248us/sample - loss: 7.3645 - mean_absolute_error: 7.3645\n",
      "Epoch 49/100\n",
      "3450/3450 [==============================] - 1s 250us/sample - loss: 7.4396 - mean_absolute_error: 7.4396\n",
      "Epoch 50/100\n",
      "3450/3450 [==============================] - 1s 247us/sample - loss: 7.3243 - mean_absolute_error: 7.3243\n",
      "Epoch 51/100\n",
      "3450/3450 [==============================] - 1s 252us/sample - loss: 7.2581 - mean_absolute_error: 7.2581\n",
      "Epoch 52/100\n",
      "3450/3450 [==============================] - 1s 276us/sample - loss: 7.3695 - mean_absolute_error: 7.3695\n",
      "Epoch 53/100\n",
      "3450/3450 [==============================] - 1s 278us/sample - loss: 7.2558 - mean_absolute_error: 7.2558\n",
      "Epoch 54/100\n",
      "3450/3450 [==============================] - 1s 369us/sample - loss: 7.3082 - mean_absolute_error: 7.3082\n",
      "Epoch 55/100\n",
      "3450/3450 [==============================] - 1s 336us/sample - loss: 7.2925 - mean_absolute_error: 7.2925\n",
      "Epoch 56/100\n",
      "3450/3450 [==============================] - 1s 293us/sample - loss: 7.2755 - mean_absolute_error: 7.2755\n",
      "Epoch 57/100\n",
      "3450/3450 [==============================] - 1s 266us/sample - loss: 7.1687 - mean_absolute_error: 7.1687\n",
      "Epoch 58/100\n",
      "3450/3450 [==============================] - 1s 250us/sample - loss: 7.1962 - mean_absolute_error: 7.1962\n",
      "Epoch 59/100\n",
      "3450/3450 [==============================] - 1s 245us/sample - loss: 7.1909 - mean_absolute_error: 7.1909\n",
      "Epoch 60/100\n",
      "3450/3450 [==============================] - 1s 249us/sample - loss: 7.0667 - mean_absolute_error: 7.0667\n",
      "Epoch 61/100\n",
      "3450/3450 [==============================] - 1s 298us/sample - loss: 7.1240 - mean_absolute_error: 7.1240\n",
      "Epoch 62/100\n",
      "3450/3450 [==============================] - 1s 285us/sample - loss: 7.0343 - mean_absolute_error: 7.0343\n",
      "Epoch 63/100\n",
      "3450/3450 [==============================] - 1s 289us/sample - loss: 7.0213 - mean_absolute_error: 7.0213\n",
      "Epoch 64/100\n",
      "3450/3450 [==============================] - 1s 372us/sample - loss: 7.1447 - mean_absolute_error: 7.1447\n",
      "Epoch 65/100\n",
      "3450/3450 [==============================] - 1s 340us/sample - loss: 7.0926 - mean_absolute_error: 7.0926\n",
      "Epoch 66/100\n",
      "3450/3450 [==============================] - 1s 310us/sample - loss: 7.1346 - mean_absolute_error: 7.1346\n",
      "Epoch 67/100\n",
      "3450/3450 [==============================] - 1s 269us/sample - loss: 7.0682 - mean_absolute_error: 7.0682\n",
      "Epoch 68/100\n",
      "3450/3450 [==============================] - 1s 250us/sample - loss: 7.0889 - mean_absolute_error: 7.0889\n",
      "Epoch 69/100\n",
      "3450/3450 [==============================] - 1s 249us/sample - loss: 6.9198 - mean_absolute_error: 6.9198\n",
      "Epoch 70/100\n",
      "3450/3450 [==============================] - 1s 253us/sample - loss: 6.9652 - mean_absolute_error: 6.9652\n",
      "Epoch 71/100\n",
      "3450/3450 [==============================] - 1s 255us/sample - loss: 7.0442 - mean_absolute_error: 7.0442\n",
      "Epoch 72/100\n",
      "3450/3450 [==============================] - 1s 276us/sample - loss: 7.0098 - mean_absolute_error: 7.0098\n",
      "Epoch 73/100\n",
      "3450/3450 [==============================] - 1s 267us/sample - loss: 6.9200 - mean_absolute_error: 6.9200\n",
      "Epoch 74/100\n",
      "3450/3450 [==============================] - 1s 355us/sample - loss: 6.7725 - mean_absolute_error: 6.7725\n",
      "Epoch 75/100\n",
      "3450/3450 [==============================] - 1s 341us/sample - loss: 6.9862 - mean_absolute_error: 6.9862\n",
      "Epoch 76/100\n",
      "3450/3450 [==============================] - 1s 332us/sample - loss: 6.8329 - mean_absolute_error: 6.8329\n",
      "Epoch 77/100\n",
      "3450/3450 [==============================] - 1s 277us/sample - loss: 6.7012 - mean_absolute_error: 6.7012\n",
      "Epoch 78/100\n",
      "3450/3450 [==============================] - 1s 254us/sample - loss: 6.8458 - mean_absolute_error: 6.8458s - loss: 6.6836 - mean_absolute_\n",
      "Epoch 79/100\n",
      "3450/3450 [==============================] - 1s 246us/sample - loss: 6.9151 - mean_absolute_error: 6.9151\n",
      "Epoch 80/100\n",
      "3450/3450 [==============================] - 1s 249us/sample - loss: 6.9380 - mean_absolute_error: 6.9380\n",
      "Epoch 81/100\n",
      "3450/3450 [==============================] - 1s 247us/sample - loss: 6.9097 - mean_absolute_error: 6.9097\n",
      "Epoch 82/100\n",
      "3450/3450 [==============================] - 1s 249us/sample - loss: 6.8925 - mean_absolute_error: 6.8925\n",
      "Epoch 83/100\n",
      "3450/3450 [==============================] - 1s 272us/sample - loss: 6.7689 - mean_absolute_error: 6.7689\n",
      "Epoch 84/100\n",
      "3450/3450 [==============================] - 1s 307us/sample - loss: 6.8566 - mean_absolute_error: 6.8566\n",
      "Epoch 85/100\n",
      "3450/3450 [==============================] - 1s 357us/sample - loss: 6.6348 - mean_absolute_error: 6.6348\n",
      "Epoch 86/100\n",
      "3450/3450 [==============================] - 1s 384us/sample - loss: 6.7479 - mean_absolute_error: 6.7479\n",
      "Epoch 87/100\n",
      "3450/3450 [==============================] - 1s 313us/sample - loss: 6.7993 - mean_absolute_error: 6.7993\n",
      "Epoch 88/100\n",
      "3450/3450 [==============================] - 1s 283us/sample - loss: 6.7917 - mean_absolute_error: 6.7917\n",
      "Epoch 89/100\n",
      "3450/3450 [==============================] - 1s 275us/sample - loss: 6.7680 - mean_absolute_error: 6.7680\n",
      "Epoch 90/100\n",
      "3450/3450 [==============================] - 1s 266us/sample - loss: 6.8138 - mean_absolute_error: 6.8138\n",
      "Epoch 91/100\n",
      "3450/3450 [==============================] - 1s 263us/sample - loss: 6.6267 - mean_absolute_error: 6.6267\n",
      "Epoch 92/100\n",
      "3450/3450 [==============================] - 1s 263us/sample - loss: 6.7377 - mean_absolute_error: 6.7377\n",
      "Epoch 93/100\n",
      "3450/3450 [==============================] - 1s 266us/sample - loss: 6.5130 - mean_absolute_error: 6.5130\n",
      "Epoch 94/100\n",
      "3450/3450 [==============================] - 1s 320us/sample - loss: 6.6313 - mean_absolute_error: 6.6313\n",
      "Epoch 95/100\n",
      "3450/3450 [==============================] - 1s 335us/sample - loss: 6.5484 - mean_absolute_error: 6.5484\n",
      "Epoch 96/100\n",
      "3450/3450 [==============================] - 1s 279us/sample - loss: 6.5366 - mean_absolute_error: 6.5366\n",
      "Epoch 97/100\n",
      "3450/3450 [==============================] - 1s 327us/sample - loss: 6.5200 - mean_absolute_error: 6.5200\n",
      "Epoch 98/100\n",
      "3450/3450 [==============================] - 1s 316us/sample - loss: 6.5745 - mean_absolute_error: 6.5745\n",
      "Epoch 99/100\n",
      "3450/3450 [==============================] - 1s 250us/sample - loss: 6.5486 - mean_absolute_error: 6.5486\n",
      "Epoch 100/100\n",
      "3450/3450 [==============================] - 1s 250us/sample - loss: 6.5642 - mean_absolute_error: 6.5642\n"
     ]
    },
    {
     "data": {
      "text/plain": [
       "<tensorflow.python.keras.callbacks.History at 0x7f8598b7d9d0>"
      ]
     },
     "execution_count": 44,
     "metadata": {},
     "output_type": "execute_result"
    }
   ],
   "source": [
    "model.fit(x_train, y_train.to_numpy(), batch_size=10, epochs=1000)"
   ]
  },
  {
   "cell_type": "markdown",
   "id": "0ce8fb0e-ca99-4bc6-96b3-bf53c8d63825",
   "metadata": {
    "jupyter": {
     "outputs_hidden": true
    },
    "tags": []
   },
   "source": [
    "model.fit(x_train, y_train.to_numpy(), shuffle=True, epochs=50)"
   ]
  },
  {
   "cell_type": "code",
   "execution_count": 45,
   "id": "e8876324-e720-4697-9a30-181ebc76ee52",
   "metadata": {},
   "outputs": [],
   "source": [
    "y_pred = model.predict(x_test).flatten()"
   ]
  },
  {
   "cell_type": "code",
   "execution_count": 46,
   "id": "8de729b1-6eea-48f4-8c58-051bea7192a7",
   "metadata": {},
   "outputs": [
    {
     "data": {
      "text/plain": [
       "21.53778510658588"
      ]
     },
     "execution_count": 46,
     "metadata": {},
     "output_type": "execute_result"
    }
   ],
   "source": [
    "np.sqrt(mean_squared_error(y_pred, y_test))"
   ]
  },
  {
   "cell_type": "code",
   "execution_count": 47,
   "id": "af818f9b-b3b5-4d2b-aaf5-7cd2cb186fb9",
   "metadata": {},
   "outputs": [
    {
     "data": {
      "text/plain": [
       "16.400276106197246"
      ]
     },
     "execution_count": 47,
     "metadata": {},
     "output_type": "execute_result"
    }
   ],
   "source": [
    "mean_absolute_error(y_pred, y_test)"
   ]
  },
  {
   "cell_type": "code",
   "execution_count": 48,
   "id": "246fb04f-2d02-4fe0-9d57-cffb09eac5be",
   "metadata": {},
   "outputs": [
    {
     "data": {
      "text/plain": [
       "array([54.759193, 57.20824 , 86.07784 , ..., 92.66798 , 85.193596,\n",
       "       39.76726 ], dtype=float32)"
      ]
     },
     "execution_count": 48,
     "metadata": {},
     "output_type": "execute_result"
    }
   ],
   "source": [
    "y_pred"
   ]
  },
  {
   "cell_type": "code",
   "execution_count": null,
   "id": "7966a47b-d35d-4395-9fea-0228522fdc5c",
   "metadata": {},
   "outputs": [],
   "source": []
  }
 ],
 "metadata": {
  "kernelspec": {
   "display_name": "Python 3 (ipykernel)",
   "language": "python",
   "name": "python3"
  },
  "language_info": {
   "codemirror_mode": {
    "name": "ipython",
    "version": 3
   },
   "file_extension": ".py",
   "mimetype": "text/x-python",
   "name": "python",
   "nbconvert_exporter": "python",
   "pygments_lexer": "ipython3",
   "version": "3.8.5"
  }
 },
 "nbformat": 4,
 "nbformat_minor": 5
}
