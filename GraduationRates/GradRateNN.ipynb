{
 "cells": [
  {
   "cell_type": "code",
   "execution_count": 1,
   "id": "d698df75-5162-4bdf-bcbb-4c6684edfad6",
   "metadata": {},
   "outputs": [],
   "source": [
    "import tensorflow as tf\n",
    "import pandas as pd\n",
    "import numpy as np\n",
    "from joblib import load, dump\n",
    "from category_encoders import TargetEncoder\n",
    "from sklearn.preprocessing import StandardScaler, MinMaxScaler\n",
    "from sklearn.pipeline import Pipeline\n",
    "from sklearn.model_selection import train_test_split"
   ]
  },
  {
   "cell_type": "code",
   "execution_count": 20,
   "id": "fc2fc949-768a-484c-a1a1-59720def886d",
   "metadata": {},
   "outputs": [],
   "source": [
    "from tensorflow.keras import Sequential\n",
    "from tensorflow.keras.layers import Dense, Activation, Input, Dropout, LeakyReLU\n",
    "from tensorflow.keras import backend as K"
   ]
  },
  {
   "cell_type": "code",
   "execution_count": 3,
   "id": "415510d9-22df-4841-b0f7-f4767abd28d1",
   "metadata": {},
   "outputs": [],
   "source": [
    "from sklearn.metrics import mean_squared_error, mean_absolute_error"
   ]
  },
  {
   "cell_type": "code",
   "execution_count": null,
   "id": "1d8814c1-84f2-4ec0-9b54-ac47f4aec284",
   "metadata": {},
   "outputs": [],
   "source": []
  },
  {
   "cell_type": "code",
   "execution_count": 4,
   "id": "11da5c5c-6561-4739-a2be-53ac8db73e0a",
   "metadata": {},
   "outputs": [],
   "source": [
    "features = load(\"objects/features.joblib\")\n",
    "y = load(\"objects/targets.joblib\")"
   ]
  },
  {
   "cell_type": "code",
   "execution_count": 5,
   "id": "11042374-7564-4027-8c15-647956c85f6f",
   "metadata": {},
   "outputs": [],
   "source": [
    "features.index = features.index.swaplevel()\n",
    "y.index = y.index.swaplevel()"
   ]
  },
  {
   "cell_type": "code",
   "execution_count": 6,
   "id": "66dfd474-5755-4ff0-a7c9-142ceea0471d",
   "metadata": {
    "tags": []
   },
   "outputs": [],
   "source": [
    "preprocess = Pipeline([\n",
    "    ('encode', TargetEncoder()),\n",
    "    ('scaler', MinMaxScaler())\n",
    "])\n",
    "    "
   ]
  },
  {
   "cell_type": "code",
   "execution_count": 95,
   "id": "c4f9f513-d107-48d7-b065-cccb9f562004",
   "metadata": {},
   "outputs": [],
   "source": [
    "x_train, x_test, y_train, y_test = train_test_split(features, y.iloc[:, 9], test_size=0.1, shuffle=True)"
   ]
  },
  {
   "cell_type": "code",
   "execution_count": 96,
   "id": "329b71eb-ed6f-4c49-b5b1-5b2b5dcd7e5f",
   "metadata": {},
   "outputs": [],
   "source": [
    "x_train = preprocess.fit_transform(x_train, y_train)"
   ]
  },
  {
   "cell_type": "code",
   "execution_count": 97,
   "id": "24442886-cfd4-4ce1-ba30-dee448007eff",
   "metadata": {},
   "outputs": [
    {
     "data": {
      "text/plain": [
       "(4140, 105)"
      ]
     },
     "execution_count": 97,
     "metadata": {},
     "output_type": "execute_result"
    }
   ],
   "source": [
    "x_train.shape"
   ]
  },
  {
   "cell_type": "code",
   "execution_count": 98,
   "id": "404078aa-fe2a-4512-93de-77c1227fe065",
   "metadata": {},
   "outputs": [],
   "source": [
    "x_test = preprocess.transform(x_test)"
   ]
  },
  {
   "cell_type": "markdown",
   "id": "9a12ebfa-6962-4633-9c69-2f7a9bf6eb65",
   "metadata": {},
   "source": [
    "# Training a Neural Network to Predict Graduation Rates"
   ]
  },
  {
   "cell_type": "code",
   "execution_count": 99,
   "id": "f2523874",
   "metadata": {},
   "outputs": [],
   "source": [
    "import math"
   ]
  },
  {
   "cell_type": "code",
   "execution_count": 100,
   "id": "ccc9606e",
   "metadata": {},
   "outputs": [
    {
     "data": {
      "text/plain": [
       "1.6094379124341003"
      ]
     },
     "execution_count": 100,
     "metadata": {},
     "output_type": "execute_result"
    }
   ],
   "source": [
    "math.log(5)"
   ]
  },
  {
   "cell_type": "code",
   "execution_count": 101,
   "id": "167b5211-ed33-48ec-a304-7e4c41252d2c",
   "metadata": {},
   "outputs": [],
   "source": [
    "# defining custom activation function\n",
    "\n",
    "def custom_activation(x):\n",
    "    \n",
    "    return 100 * K.tanh(x)"
   ]
  },
  {
   "cell_type": "code",
   "execution_count": null,
   "id": "d607c163-6885-4b4c-b6df-215b45206543",
   "metadata": {},
   "outputs": [],
   "source": []
  },
  {
   "cell_type": "code",
   "execution_count": 102,
   "id": "46369e57-864b-4224-84ba-b9188b39579d",
   "metadata": {},
   "outputs": [],
   "source": [
    "model = Sequential([\n",
    "    Dense(105, input_dim=105, activation=custom_activation),\n",
    "    Dense(1, activation='linear')\n",
    "])"
   ]
  },
  {
   "cell_type": "code",
   "execution_count": 103,
   "id": "600b0f03-1248-4c7b-84d8-21703599a11d",
   "metadata": {},
   "outputs": [],
   "source": [
    "model.compile(loss=tf.keras.losses.MeanAbsoluteError(), optimizer='adam', metrics=['mean_absolute_error'])"
   ]
  },
  {
   "cell_type": "code",
   "execution_count": 112,
   "id": "db9a5efb-8ec7-4209-960d-9e8f739ccd34",
   "metadata": {
    "tags": []
   },
   "outputs": [
    {
     "name": "stdout",
     "output_type": "stream",
     "text": [
      "Train on 4140 samples\n",
      "Epoch 1/100\n",
      "4140/4140 [==============================] - 0s 89us/sample - loss: 7.0943 - mean_absolute_error: 7.0943\n",
      "Epoch 2/100\n",
      "4140/4140 [==============================] - 0s 77us/sample - loss: 7.1784 - mean_absolute_error: 7.1784\n",
      "Epoch 3/100\n",
      "4140/4140 [==============================] - 0s 75us/sample - loss: 7.1016 - mean_absolute_error: 7.1016\n",
      "Epoch 4/100\n",
      "4140/4140 [==============================] - 0s 80us/sample - loss: 7.1472 - mean_absolute_error: 7.1472\n",
      "Epoch 5/100\n",
      "4140/4140 [==============================] - 0s 85us/sample - loss: 7.1520 - mean_absolute_error: 7.1520\n",
      "Epoch 6/100\n",
      "4140/4140 [==============================] - 0s 80us/sample - loss: 7.1569 - mean_absolute_error: 7.1569\n",
      "Epoch 7/100\n",
      "4140/4140 [==============================] - 0s 78us/sample - loss: 7.4203 - mean_absolute_error: 7.4203\n",
      "Epoch 8/100\n",
      "4140/4140 [==============================] - 0s 82us/sample - loss: 7.1087 - mean_absolute_error: 7.1087\n",
      "Epoch 9/100\n",
      "4140/4140 [==============================] - 0s 102us/sample - loss: 7.0737 - mean_absolute_error: 7.0737\n",
      "Epoch 10/100\n",
      "4140/4140 [==============================] - 0s 101us/sample - loss: 6.9932 - mean_absolute_error: 6.9932\n",
      "Epoch 11/100\n",
      "4140/4140 [==============================] - 0s 100us/sample - loss: 7.0430 - mean_absolute_error: 7.0430\n",
      "Epoch 12/100\n",
      "4140/4140 [==============================] - 0s 97us/sample - loss: 6.9117 - mean_absolute_error: 6.9117\n",
      "Epoch 13/100\n",
      "4140/4140 [==============================] - 0s 99us/sample - loss: 7.1485 - mean_absolute_error: 7.1485\n",
      "Epoch 14/100\n",
      "4140/4140 [==============================] - 0s 96us/sample - loss: 7.1745 - mean_absolute_error: 7.1745\n",
      "Epoch 15/100\n",
      "4140/4140 [==============================] - 0s 90us/sample - loss: 7.0537 - mean_absolute_error: 7.0537\n",
      "Epoch 16/100\n",
      "4140/4140 [==============================] - 0s 99us/sample - loss: 7.0588 - mean_absolute_error: 7.0588\n",
      "Epoch 17/100\n",
      "4140/4140 [==============================] - 0s 98us/sample - loss: 6.9997 - mean_absolute_error: 6.9997\n",
      "Epoch 18/100\n",
      "4140/4140 [==============================] - 0s 98us/sample - loss: 7.2128 - mean_absolute_error: 7.2128\n",
      "Epoch 19/100\n",
      "4140/4140 [==============================] - 0s 82us/sample - loss: 6.9446 - mean_absolute_error: 6.9446\n",
      "Epoch 20/100\n",
      "4140/4140 [==============================] - 0s 78us/sample - loss: 6.9832 - mean_absolute_error: 6.9832\n",
      "Epoch 21/100\n",
      "4140/4140 [==============================] - 0s 74us/sample - loss: 7.2292 - mean_absolute_error: 7.2292\n",
      "Epoch 22/100\n",
      "4140/4140 [==============================] - 0s 74us/sample - loss: 6.9971 - mean_absolute_error: 6.9971\n",
      "Epoch 23/100\n",
      "4140/4140 [==============================] - 0s 74us/sample - loss: 6.9295 - mean_absolute_error: 6.9295\n",
      "Epoch 24/100\n",
      "4140/4140 [==============================] - 0s 74us/sample - loss: 6.9701 - mean_absolute_error: 6.9701\n",
      "Epoch 25/100\n",
      "4140/4140 [==============================] - 0s 74us/sample - loss: 7.0497 - mean_absolute_error: 7.0497\n",
      "Epoch 26/100\n",
      "4140/4140 [==============================] - 0s 76us/sample - loss: 6.9461 - mean_absolute_error: 6.9461\n",
      "Epoch 27/100\n",
      "4140/4140 [==============================] - 0s 79us/sample - loss: 6.9023 - mean_absolute_error: 6.9023\n",
      "Epoch 28/100\n",
      "4140/4140 [==============================] - 0s 79us/sample - loss: 6.9781 - mean_absolute_error: 6.9781\n",
      "Epoch 29/100\n",
      "4140/4140 [==============================] - 0s 77us/sample - loss: 7.0103 - mean_absolute_error: 7.0103\n",
      "Epoch 30/100\n",
      "4140/4140 [==============================] - 0s 80us/sample - loss: 6.9336 - mean_absolute_error: 6.9336\n",
      "Epoch 31/100\n",
      "4140/4140 [==============================] - 0s 87us/sample - loss: 6.9838 - mean_absolute_error: 6.9838\n",
      "Epoch 32/100\n",
      "4140/4140 [==============================] - 0s 84us/sample - loss: 7.0726 - mean_absolute_error: 7.0726\n",
      "Epoch 33/100\n",
      "4140/4140 [==============================] - 0s 94us/sample - loss: 7.0337 - mean_absolute_error: 7.0337\n",
      "Epoch 34/100\n",
      "4140/4140 [==============================] - 0s 91us/sample - loss: 6.9016 - mean_absolute_error: 6.9016\n",
      "Epoch 35/100\n",
      "4140/4140 [==============================] - 0s 81us/sample - loss: 7.0025 - mean_absolute_error: 7.0025\n",
      "Epoch 36/100\n",
      "4140/4140 [==============================] - 0s 88us/sample - loss: 6.9068 - mean_absolute_error: 6.9068\n",
      "Epoch 37/100\n",
      "4140/4140 [==============================] - 1s 124us/sample - loss: 6.9518 - mean_absolute_error: 6.9518\n",
      "Epoch 38/100\n",
      "4140/4140 [==============================] - 0s 115us/sample - loss: 7.0047 - mean_absolute_error: 7.0047\n",
      "Epoch 39/100\n",
      "4140/4140 [==============================] - 0s 107us/sample - loss: 6.9164 - mean_absolute_error: 6.9164\n",
      "Epoch 40/100\n",
      "4140/4140 [==============================] - 0s 92us/sample - loss: 7.0676 - mean_absolute_error: 7.0676\n",
      "Epoch 41/100\n",
      "4140/4140 [==============================] - 0s 102us/sample - loss: 6.9205 - mean_absolute_error: 6.9205\n",
      "Epoch 42/100\n",
      "4140/4140 [==============================] - 0s 101us/sample - loss: 6.8206 - mean_absolute_error: 6.8206\n",
      "Epoch 43/100\n",
      "4140/4140 [==============================] - 0s 99us/sample - loss: 6.8231 - mean_absolute_error: 6.8231\n",
      "Epoch 44/100\n",
      "4140/4140 [==============================] - 0s 94us/sample - loss: 6.8663 - mean_absolute_error: 6.8663\n",
      "Epoch 45/100\n",
      "4140/4140 [==============================] - 0s 83us/sample - loss: 6.8252 - mean_absolute_error: 6.8252\n",
      "Epoch 46/100\n",
      "4140/4140 [==============================] - 0s 87us/sample - loss: 6.9307 - mean_absolute_error: 6.9307\n",
      "Epoch 47/100\n",
      "4140/4140 [==============================] - 0s 79us/sample - loss: 6.7771 - mean_absolute_error: 6.7771\n",
      "Epoch 48/100\n",
      "4140/4140 [==============================] - 0s 75us/sample - loss: 6.8916 - mean_absolute_error: 6.8916\n",
      "Epoch 49/100\n",
      "4140/4140 [==============================] - 0s 77us/sample - loss: 6.9482 - mean_absolute_error: 6.9482\n",
      "Epoch 50/100\n",
      "4140/4140 [==============================] - 0s 75us/sample - loss: 6.7251 - mean_absolute_error: 6.7251\n",
      "Epoch 51/100\n",
      "4140/4140 [==============================] - 0s 78us/sample - loss: 6.7516 - mean_absolute_error: 6.7516\n",
      "Epoch 52/100\n",
      "4140/4140 [==============================] - 0s 82us/sample - loss: 6.9016 - mean_absolute_error: 6.9016\n",
      "Epoch 53/100\n",
      "4140/4140 [==============================] - 0s 81us/sample - loss: 6.8554 - mean_absolute_error: 6.8554\n",
      "Epoch 54/100\n",
      "4140/4140 [==============================] - 0s 86us/sample - loss: 6.8262 - mean_absolute_error: 6.8262\n",
      "Epoch 55/100\n",
      "4140/4140 [==============================] - 0s 82us/sample - loss: 6.9202 - mean_absolute_error: 6.9202\n",
      "Epoch 56/100\n",
      "4140/4140 [==============================] - 0s 80us/sample - loss: 7.0206 - mean_absolute_error: 7.0206\n",
      "Epoch 57/100\n",
      "4140/4140 [==============================] - 0s 86us/sample - loss: 6.7939 - mean_absolute_error: 6.7939\n",
      "Epoch 58/100\n",
      "4140/4140 [==============================] - 0s 78us/sample - loss: 6.8872 - mean_absolute_error: 6.8872\n",
      "Epoch 59/100\n",
      "4140/4140 [==============================] - 0s 85us/sample - loss: 6.8200 - mean_absolute_error: 6.8200\n",
      "Epoch 60/100\n",
      "4140/4140 [==============================] - 0s 85us/sample - loss: 6.7577 - mean_absolute_error: 6.7577\n",
      "Epoch 61/100\n",
      "4140/4140 [==============================] - 0s 110us/sample - loss: 6.9811 - mean_absolute_error: 6.9811\n",
      "Epoch 62/100\n",
      "4140/4140 [==============================] - 0s 82us/sample - loss: 6.7058 - mean_absolute_error: 6.7058\n",
      "Epoch 63/100\n",
      "4140/4140 [==============================] - 0s 96us/sample - loss: 6.8525 - mean_absolute_error: 6.8525\n",
      "Epoch 64/100\n",
      "4140/4140 [==============================] - 0s 119us/sample - loss: 6.6999 - mean_absolute_error: 6.6999\n",
      "Epoch 65/100\n",
      "4140/4140 [==============================] - 0s 100us/sample - loss: 6.7559 - mean_absolute_error: 6.7559\n",
      "Epoch 66/100\n",
      "4140/4140 [==============================] - 1s 126us/sample - loss: 6.7212 - mean_absolute_error: 6.7212\n",
      "Epoch 67/100\n",
      "4140/4140 [==============================] - 0s 114us/sample - loss: 6.6525 - mean_absolute_error: 6.6525\n",
      "Epoch 68/100\n",
      "4140/4140 [==============================] - 0s 115us/sample - loss: 6.7534 - mean_absolute_error: 6.7534\n",
      "Epoch 69/100\n",
      "4140/4140 [==============================] - 0s 112us/sample - loss: 6.6526 - mean_absolute_error: 6.6526\n",
      "Epoch 70/100\n"
     ]
    },
    {
     "name": "stdout",
     "output_type": "stream",
     "text": [
      "4140/4140 [==============================] - 0s 104us/sample - loss: 6.6701 - mean_absolute_error: 6.6701\n",
      "Epoch 71/100\n",
      "4140/4140 [==============================] - 0s 97us/sample - loss: 6.8108 - mean_absolute_error: 6.8108\n",
      "Epoch 72/100\n",
      "4140/4140 [==============================] - 0s 108us/sample - loss: 6.8472 - mean_absolute_error: 6.8472\n",
      "Epoch 73/100\n",
      "4140/4140 [==============================] - 0s 97us/sample - loss: 6.7736 - mean_absolute_error: 6.7736\n",
      "Epoch 74/100\n",
      "4140/4140 [==============================] - 0s 84us/sample - loss: 6.7247 - mean_absolute_error: 6.7247\n",
      "Epoch 75/100\n",
      "4140/4140 [==============================] - 0s 75us/sample - loss: 6.8574 - mean_absolute_error: 6.8574\n",
      "Epoch 76/100\n",
      "4140/4140 [==============================] - 0s 77us/sample - loss: 6.8857 - mean_absolute_error: 6.8857\n",
      "Epoch 77/100\n",
      "4140/4140 [==============================] - 0s 72us/sample - loss: 6.7934 - mean_absolute_error: 6.7934\n",
      "Epoch 78/100\n",
      "4140/4140 [==============================] - 0s 71us/sample - loss: 6.6910 - mean_absolute_error: 6.6910\n",
      "Epoch 79/100\n",
      "4140/4140 [==============================] - 0s 71us/sample - loss: 6.6718 - mean_absolute_error: 6.6718\n",
      "Epoch 80/100\n",
      "4140/4140 [==============================] - 0s 73us/sample - loss: 6.6241 - mean_absolute_error: 6.6241\n",
      "Epoch 81/100\n",
      "4140/4140 [==============================] - 0s 81us/sample - loss: 6.5716 - mean_absolute_error: 6.5716\n",
      "Epoch 82/100\n",
      "4140/4140 [==============================] - 0s 71us/sample - loss: 6.8039 - mean_absolute_error: 6.8039\n",
      "Epoch 83/100\n",
      "4140/4140 [==============================] - 0s 72us/sample - loss: 6.6508 - mean_absolute_error: 6.6508\n",
      "Epoch 84/100\n",
      "4140/4140 [==============================] - 0s 71us/sample - loss: 6.7980 - mean_absolute_error: 6.7980\n",
      "Epoch 85/100\n",
      "4140/4140 [==============================] - 0s 72us/sample - loss: 6.6291 - mean_absolute_error: 6.6291\n",
      "Epoch 86/100\n",
      "4140/4140 [==============================] - 0s 71us/sample - loss: 6.6806 - mean_absolute_error: 6.6806\n",
      "Epoch 87/100\n",
      "4140/4140 [==============================] - 0s 80us/sample - loss: 6.7347 - mean_absolute_error: 6.7347\n",
      "Epoch 88/100\n",
      "4140/4140 [==============================] - 0s 106us/sample - loss: 6.6721 - mean_absolute_error: 6.6721\n",
      "Epoch 89/100\n",
      "4140/4140 [==============================] - 0s 83us/sample - loss: 6.7240 - mean_absolute_error: 6.7240\n",
      "Epoch 90/100\n",
      "4140/4140 [==============================] - 0s 81us/sample - loss: 6.6375 - mean_absolute_error: 6.6375\n",
      "Epoch 91/100\n",
      "4140/4140 [==============================] - 0s 112us/sample - loss: 6.5422 - mean_absolute_error: 6.5422\n",
      "Epoch 92/100\n",
      "4140/4140 [==============================] - 0s 111us/sample - loss: 6.6858 - mean_absolute_error: 6.6858\n",
      "Epoch 93/100\n",
      "4140/4140 [==============================] - 0s 99us/sample - loss: 6.5177 - mean_absolute_error: 6.5177\n",
      "Epoch 94/100\n",
      "4140/4140 [==============================] - 0s 95us/sample - loss: 6.7214 - mean_absolute_error: 6.7214\n",
      "Epoch 95/100\n",
      "4140/4140 [==============================] - 0s 95us/sample - loss: 6.7943 - mean_absolute_error: 6.7943\n",
      "Epoch 96/100\n",
      "4140/4140 [==============================] - 0s 99us/sample - loss: 6.7045 - mean_absolute_error: 6.7045\n",
      "Epoch 97/100\n",
      "4140/4140 [==============================] - 0s 99us/sample - loss: 6.8213 - mean_absolute_error: 6.8213\n",
      "Epoch 98/100\n",
      "4140/4140 [==============================] - 0s 91us/sample - loss: 6.7283 - mean_absolute_error: 6.7283\n",
      "Epoch 99/100\n",
      "4140/4140 [==============================] - 0s 93us/sample - loss: 6.6232 - mean_absolute_error: 6.6231\n",
      "Epoch 100/100\n",
      "4140/4140 [==============================] - 0s 105us/sample - loss: 6.6699 - mean_absolute_error: 6.6699\n"
     ]
    },
    {
     "data": {
      "text/plain": [
       "<tensorflow.python.keras.callbacks.History at 0x7fd6071ec650>"
      ]
     },
     "execution_count": 112,
     "metadata": {},
     "output_type": "execute_result"
    }
   ],
   "source": [
    "model.fit(x_train, y_train.to_numpy(), epochs=100)"
   ]
  },
  {
   "cell_type": "markdown",
   "id": "0ce8fb0e-ca99-4bc6-96b3-bf53c8d63825",
   "metadata": {
    "jupyter": {
     "outputs_hidden": true
    },
    "tags": []
   },
   "source": [
    "model.fit(x_train, y_train.to_numpy(), shuffle=True, epochs=50)"
   ]
  },
  {
   "cell_type": "code",
   "execution_count": 113,
   "id": "e8876324-e720-4697-9a30-181ebc76ee52",
   "metadata": {},
   "outputs": [],
   "source": [
    "y_pred = model.predict(x_test).flatten()"
   ]
  },
  {
   "cell_type": "code",
   "execution_count": 114,
   "id": "8de729b1-6eea-48f4-8c58-051bea7192a7",
   "metadata": {},
   "outputs": [
    {
     "data": {
      "text/plain": [
       "13.74866216973278"
      ]
     },
     "execution_count": 114,
     "metadata": {},
     "output_type": "execute_result"
    }
   ],
   "source": [
    "np.sqrt(mean_squared_error(y_pred, y_test))"
   ]
  },
  {
   "cell_type": "code",
   "execution_count": 115,
   "id": "af818f9b-b3b5-4d2b-aaf5-7cd2cb186fb9",
   "metadata": {},
   "outputs": [
    {
     "data": {
      "text/plain": [
       "9.594797633992359"
      ]
     },
     "execution_count": 115,
     "metadata": {},
     "output_type": "execute_result"
    }
   ],
   "source": [
    "mean_absolute_error(y_pred, y_test)"
   ]
  },
  {
   "cell_type": "code",
   "execution_count": 116,
   "id": "246fb04f-2d02-4fe0-9d57-cffb09eac5be",
   "metadata": {},
   "outputs": [
    {
     "data": {
      "text/plain": [
       "institution_name                      UnitID\n",
       "Francis Marion University             218061    -7.005871\n",
       "The College of Saint Rose             195234     2.377960\n",
       "Southeast Missouri State University   179557     6.533085\n",
       "Lyon College                          106342    -4.835308\n",
       "Chamberlain University-Virginia       460871   -25.457409\n",
       "                                                  ...    \n",
       "Xavier University                     206622    -4.163094\n",
       "University of Southern Mississippi    176372    -2.097122\n",
       "American InterContinental University  445027    18.209415\n",
       "Antioch College                       483018    -8.460464\n",
       "Northern Marianas College             240790     5.281500\n",
       "Name: graduation_rate_total_cohort, Length: 461, dtype: float64"
      ]
     },
     "execution_count": 116,
     "metadata": {},
     "output_type": "execute_result"
    }
   ],
   "source": [
    "y_pred - y_test"
   ]
  },
  {
   "cell_type": "code",
   "execution_count": null,
   "id": "74f29460",
   "metadata": {},
   "outputs": [],
   "source": []
  }
 ],
 "metadata": {
  "kernelspec": {
   "display_name": "Python 3 (ipykernel)",
   "language": "python",
   "name": "python3"
  },
  "language_info": {
   "codemirror_mode": {
    "name": "ipython",
    "version": 3
   },
   "file_extension": ".py",
   "mimetype": "text/x-python",
   "name": "python",
   "nbconvert_exporter": "python",
   "pygments_lexer": "ipython3",
   "version": "3.7.11"
  }
 },
 "nbformat": 4,
 "nbformat_minor": 5
}
