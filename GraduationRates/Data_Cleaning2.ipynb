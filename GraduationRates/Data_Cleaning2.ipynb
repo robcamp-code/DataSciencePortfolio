{
 "cells": [
  {
   "cell_type": "code",
   "execution_count": 1,
   "id": "480448ee-45b0-4a61-b83b-519d467d6293",
   "metadata": {},
   "outputs": [],
   "source": [
    "import pandas as pd\n",
    "import numpy as np"
   ]
  },
  {
   "cell_type": "code",
   "execution_count": 2,
   "id": "9af82f62-1c53-49de-96fc-aa701e24fa62",
   "metadata": {},
   "outputs": [],
   "source": [
    "import re\n",
    "import random\n",
    "import copy"
   ]
  },
  {
   "cell_type": "markdown",
   "id": "753b79e8-f082-461b-96aa-5a98f5c84768",
   "metadata": {},
   "source": [
    "# Concatenate 2018 and 2019 Data"
   ]
  },
  {
   "cell_type": "code",
   "execution_count": 3,
   "id": "715b6c80-a2ac-4db7-bdc8-46f4f921f8dc",
   "metadata": {},
   "outputs": [],
   "source": [
    "df_2018 = pd.read_csv(\"data/4_year/2018.csv\")"
   ]
  },
  {
   "cell_type": "code",
   "execution_count": 4,
   "id": "b08615cc-343d-4b57-8ea0-45ddce9fb6ef",
   "metadata": {},
   "outputs": [],
   "source": [
    "df_2019 = pd.read_csv(\"data/4_year/2019.csv\")"
   ]
  },
  {
   "cell_type": "code",
   "execution_count": 5,
   "id": "94996aae-2e05-4578-99c9-283b9c343d0e",
   "metadata": {
    "tags": []
   },
   "outputs": [
    {
     "data": {
      "text/plain": [
       "UnitID                                                                0\n",
       "parent/child_indicator_-_finance                                      0\n",
       "historically_black_college_or_university                              0\n",
       "institution_name                                                      0\n",
       "institution_size_category                                             0\n",
       "cohort                                                                0\n",
       "city_location_of_institution                                          0\n",
       "carnegie_classification_2018:_size_and_setting                        0\n",
       "carnegie_classification_2018:_basic                                   0\n",
       "sector_of_institution                                                 0\n",
       "carnegie_classification_2018:_enrollment_profile                      0\n",
       "graduation_rate_total_cohort                                          0\n",
       "student-to-faculty_ratio                                              1\n",
       "academic_support_expenses_as_a_percent_of_total_core_expenses         2\n",
       "other_revenues_as_a_percent_of_core_revenues                          2\n",
       "other_core_expenses_as_a_percent_of_total_core_expenses               2\n",
       "is_gasb                                                               2\n",
       "is_forprofit                                                          2\n",
       "private_gifts_grants_and_contracts_as_a_percent_of_core_revenues      2\n",
       "public_service_expenses_as_a_percent_of_total_core_expenses           2\n",
       "government_grants_and_contracts_as_a_percent_of_core_revenues         2\n",
       "research_expenses_as_a_percent_of_total_core_expenses                 2\n",
       "core_expenses_total_dollars                                           2\n",
       "is_fasb                                                               2\n",
       "tuition_and_fees_as_a_percent_of_core_revenues                        2\n",
       "student_service_expenses_as_a_percent_of_total_core_expenses          2\n",
       "institutional_support_expenses_as_a_percent_of_total_core_expenses    2\n",
       "instruction_expenses_as_a_percent_of_total_core_expenses              2\n",
       "investment_return_as_a_percent_of_core_revenues                       2\n",
       "core_revenues_total_dollars                                           2\n",
       "dtype: int64"
      ]
     },
     "execution_count": 5,
     "metadata": {},
     "output_type": "execute_result"
    }
   ],
   "source": [
    "df_2018.isna().sum().sort_values(ascending=True).head(30)"
   ]
  },
  {
   "cell_type": "code",
   "execution_count": 6,
   "id": "337c7ad6-a471-4a6a-bace-9039d4ad7e55",
   "metadata": {
    "tags": []
   },
   "outputs": [
    {
     "data": {
      "text/plain": [
       "UnitID                                                                0\n",
       "historically_black_college_or_university                              0\n",
       "institution_name                                                      0\n",
       "graduation_rate_total_cohort                                          0\n",
       "institution_size_category                                             0\n",
       "cohort                                                                0\n",
       "city_location_of_institution                                          0\n",
       "carnegie_classification_2018:_size_and_setting                        0\n",
       "carnegie_classification_2018:_enrollment_profile                      0\n",
       "carnegie_classification_2018:_basic                                   0\n",
       "parent/child_indicator_-_finance                                      0\n",
       "sector_of_institution                                                 0\n",
       "research_expenses_as_a_percent_of_total_core_expenses                 4\n",
       "academic_support_expenses_as_a_percent_of_total_core_expenses         4\n",
       "other_core_expenses_as_a_percent_of_total_core_expenses               4\n",
       "is_gasb                                                               4\n",
       "is_forprofit                                                          4\n",
       "public_service_expenses_as_a_percent_of_total_core_expenses           4\n",
       "core_revenues_total_dollars                                           4\n",
       "core_expenses_total_dollars                                           4\n",
       "student_service_expenses_as_a_percent_of_total_core_expenses          4\n",
       "is_fasb                                                               4\n",
       "institutional_support_expenses_as_a_percent_of_total_core_expenses    4\n",
       "instruction_expenses_as_a_percent_of_total_core_expenses              4\n",
       "other_revenues_as_a_percent_of_core_revenues                          5\n",
       "tuition_and_fees_as_a_percent_of_core_revenues                        5\n",
       "government_grants_and_contracts_as_a_percent_of_core_revenues         5\n",
       "private_gifts_grants_and_contracts_as_a_percent_of_core_revenues      5\n",
       "investment_return_as_a_percent_of_core_revenues                       5\n",
       "state_abbreviation                                                    9\n",
       "dtype: int64"
      ]
     },
     "execution_count": 6,
     "metadata": {},
     "output_type": "execute_result"
    }
   ],
   "source": [
    "df_2019.isna().sum().sort_values(ascending=True).head(30)"
   ]
  },
  {
   "cell_type": "code",
   "execution_count": 7,
   "id": "da09c15d-97c1-45dd-a854-4589b7b3d2e5",
   "metadata": {},
   "outputs": [],
   "source": [
    "comparison = list(df_2018.columns == df_2019.columns)"
   ]
  },
  {
   "cell_type": "code",
   "execution_count": 8,
   "id": "09e234a0-b113-44a2-a675-d990a92cd299",
   "metadata": {
    "tags": []
   },
   "outputs": [
    {
     "data": {
      "text/plain": [
       "[93, 95, 97, 104]"
      ]
     },
     "execution_count": 8,
     "metadata": {},
     "output_type": "execute_result"
    }
   ],
   "source": [
    "differences = []\n",
    "for i in range(len(comparison)):\n",
    "    if comparison[i] == False:\n",
    "        differences.append(i)\n",
    "differences"
   ]
  },
  {
   "cell_type": "code",
   "execution_count": 9,
   "id": "73bd984c-7806-4551-af8e-c7a33593e59c",
   "metadata": {
    "tags": []
   },
   "outputs": [
    {
     "data": {
      "text/plain": [
       "'total_price_for_in-district_students_living_off_campus'"
      ]
     },
     "execution_count": 9,
     "metadata": {},
     "output_type": "execute_result"
    }
   ],
   "source": [
    "df_2019.columns[92]"
   ]
  },
  {
   "cell_type": "code",
   "execution_count": 10,
   "id": "dc39bd6f-64db-4362-9a57-4207e40c19a5",
   "metadata": {
    "tags": []
   },
   "outputs": [
    {
     "data": {
      "text/plain": [
       "'two_or_more_races_total_instructional_staff'"
      ]
     },
     "execution_count": 10,
     "metadata": {},
     "output_type": "execute_result"
    }
   ],
   "source": [
    "df_2018.columns[103]"
   ]
  },
  {
   "cell_type": "code",
   "execution_count": 11,
   "id": "486a3f9b-ecc9-46bf-a351-59b86629a6b4",
   "metadata": {},
   "outputs": [],
   "source": [
    "df_2019 = df_2019.rename(columns=lambda x: re.sub(r'_(\\d){4}-(\\d){2}', '', x))"
   ]
  },
  {
   "cell_type": "code",
   "execution_count": 12,
   "id": "21ec616c-2750-4f1f-8b7e-7ab6489db49e",
   "metadata": {},
   "outputs": [],
   "source": [
    "df_2018 = df_2018.rename(columns=lambda x: re.sub(r'_(\\d){4}-(\\d){2}', '', x))\n",
    "df_2018 = df_2018.rename(columns=lambda x: re.sub(r'__', '_', x))"
   ]
  },
  {
   "cell_type": "code",
   "execution_count": 13,
   "id": "4b8ef9e4-d079-48bf-9349-f7bdcb031c52",
   "metadata": {
    "tags": []
   },
   "outputs": [
    {
     "name": "stdout",
     "output_type": "stream",
     "text": [
      "(2315, 108)\n",
      "(2286, 108)\n"
     ]
    }
   ],
   "source": [
    "print(df_2019.shape)\n",
    "print(df_2018.shape)"
   ]
  },
  {
   "cell_type": "code",
   "execution_count": 14,
   "id": "9bfa9c69-5113-48c6-90aa-74e71ff01509",
   "metadata": {},
   "outputs": [],
   "source": [
    "total_df = pd.concat([df_2018, df_2019])"
   ]
  },
  {
   "cell_type": "code",
   "execution_count": 15,
   "id": "f724f6c3-3ee7-4d22-a68a-8dda83ea531e",
   "metadata": {
    "tags": []
   },
   "outputs": [
    {
     "data": {
      "text/html": [
       "<div>\n",
       "<style scoped>\n",
       "    .dataframe tbody tr th:only-of-type {\n",
       "        vertical-align: middle;\n",
       "    }\n",
       "\n",
       "    .dataframe tbody tr th {\n",
       "        vertical-align: top;\n",
       "    }\n",
       "\n",
       "    .dataframe thead th {\n",
       "        text-align: right;\n",
       "    }\n",
       "</style>\n",
       "<table border=\"1\" class=\"dataframe\">\n",
       "  <thead>\n",
       "    <tr style=\"text-align: right;\">\n",
       "      <th></th>\n",
       "      <th>UnitID</th>\n",
       "      <th>academic_support_expenses_as_a_percent_of_total_core_expenses</th>\n",
       "      <th>act_composite_75th_percentile_score</th>\n",
       "      <th>act_english_75th_percentile_score</th>\n",
       "      <th>act_math_75th_percentile_score</th>\n",
       "      <th>act_writing_75th_percentile_score</th>\n",
       "      <th>american_indian_or_alaska_native_men_instructional_staff</th>\n",
       "      <th>american_indian_or_alaska_native_total_instructional_staff</th>\n",
       "      <th>american_indian_or_alaska_native_women_instructional_staff</th>\n",
       "      <th>asian_men_instructional_staff</th>\n",
       "      <th>...</th>\n",
       "      <th>total_women_age_25_and_over</th>\n",
       "      <th>total_women_age_25_and_under</th>\n",
       "      <th>transfer-out_rate_total_cohort</th>\n",
       "      <th>tuition_and_fees_as_a_percent_of_core_revenues</th>\n",
       "      <th>two_or_more_races_men_instructional_staff</th>\n",
       "      <th>two_or_more_races_total_instructional_staff</th>\n",
       "      <th>two_or_more_races_women_instructional_staff</th>\n",
       "      <th>white_men_instructional_staff</th>\n",
       "      <th>white_total_instructional_staff</th>\n",
       "      <th>white_women_instructional_staff</th>\n",
       "    </tr>\n",
       "  </thead>\n",
       "  <tbody>\n",
       "    <tr>\n",
       "      <th>0</th>\n",
       "      <td>100654</td>\n",
       "      <td>5.0</td>\n",
       "      <td>19.0</td>\n",
       "      <td>19.0</td>\n",
       "      <td>18.0</td>\n",
       "      <td>NaN</td>\n",
       "      <td>0.0</td>\n",
       "      <td>1.0</td>\n",
       "      <td>1.0</td>\n",
       "      <td>17.0</td>\n",
       "      <td>...</td>\n",
       "      <td>NaN</td>\n",
       "      <td>NaN</td>\n",
       "      <td>42.0</td>\n",
       "      <td>30.0</td>\n",
       "      <td>0.0</td>\n",
       "      <td>0.0</td>\n",
       "      <td>0.0</td>\n",
       "      <td>17.0</td>\n",
       "      <td>32.0</td>\n",
       "      <td>15.0</td>\n",
       "    </tr>\n",
       "    <tr>\n",
       "      <th>1</th>\n",
       "      <td>100663</td>\n",
       "      <td>15.0</td>\n",
       "      <td>27.0</td>\n",
       "      <td>28.0</td>\n",
       "      <td>26.0</td>\n",
       "      <td>NaN</td>\n",
       "      <td>2.0</td>\n",
       "      <td>4.0</td>\n",
       "      <td>2.0</td>\n",
       "      <td>243.0</td>\n",
       "      <td>...</td>\n",
       "      <td>1636.0</td>\n",
       "      <td>4889.0</td>\n",
       "      <td>22.0</td>\n",
       "      <td>19.0</td>\n",
       "      <td>5.0</td>\n",
       "      <td>17.0</td>\n",
       "      <td>12.0</td>\n",
       "      <td>1011.0</td>\n",
       "      <td>1703.0</td>\n",
       "      <td>692.0</td>\n",
       "    </tr>\n",
       "    <tr>\n",
       "      <th>2</th>\n",
       "      <td>100690</td>\n",
       "      <td>7.0</td>\n",
       "      <td>NaN</td>\n",
       "      <td>NaN</td>\n",
       "      <td>NaN</td>\n",
       "      <td>NaN</td>\n",
       "      <td>0.0</td>\n",
       "      <td>0.0</td>\n",
       "      <td>0.0</td>\n",
       "      <td>0.0</td>\n",
       "      <td>...</td>\n",
       "      <td>NaN</td>\n",
       "      <td>NaN</td>\n",
       "      <td>60.0</td>\n",
       "      <td>90.0</td>\n",
       "      <td>0.0</td>\n",
       "      <td>0.0</td>\n",
       "      <td>0.0</td>\n",
       "      <td>26.0</td>\n",
       "      <td>30.0</td>\n",
       "      <td>4.0</td>\n",
       "    </tr>\n",
       "    <tr>\n",
       "      <th>3</th>\n",
       "      <td>100706</td>\n",
       "      <td>6.0</td>\n",
       "      <td>29.0</td>\n",
       "      <td>30.0</td>\n",
       "      <td>28.0</td>\n",
       "      <td>NaN</td>\n",
       "      <td>0.0</td>\n",
       "      <td>0.0</td>\n",
       "      <td>0.0</td>\n",
       "      <td>45.0</td>\n",
       "      <td>...</td>\n",
       "      <td>711.0</td>\n",
       "      <td>1974.0</td>\n",
       "      <td>30.0</td>\n",
       "      <td>30.0</td>\n",
       "      <td>0.0</td>\n",
       "      <td>1.0</td>\n",
       "      <td>1.0</td>\n",
       "      <td>125.0</td>\n",
       "      <td>245.0</td>\n",
       "      <td>120.0</td>\n",
       "    </tr>\n",
       "    <tr>\n",
       "      <th>4</th>\n",
       "      <td>100724</td>\n",
       "      <td>9.0</td>\n",
       "      <td>19.0</td>\n",
       "      <td>19.0</td>\n",
       "      <td>18.0</td>\n",
       "      <td>NaN</td>\n",
       "      <td>0.0</td>\n",
       "      <td>0.0</td>\n",
       "      <td>0.0</td>\n",
       "      <td>20.0</td>\n",
       "      <td>...</td>\n",
       "      <td>379.0</td>\n",
       "      <td>2675.0</td>\n",
       "      <td>37.0</td>\n",
       "      <td>34.0</td>\n",
       "      <td>0.0</td>\n",
       "      <td>0.0</td>\n",
       "      <td>0.0</td>\n",
       "      <td>30.0</td>\n",
       "      <td>54.0</td>\n",
       "      <td>24.0</td>\n",
       "    </tr>\n",
       "  </tbody>\n",
       "</table>\n",
       "<p>5 rows × 108 columns</p>\n",
       "</div>"
      ],
      "text/plain": [
       "   UnitID  academic_support_expenses_as_a_percent_of_total_core_expenses  \\\n",
       "0  100654                                                5.0               \n",
       "1  100663                                               15.0               \n",
       "2  100690                                                7.0               \n",
       "3  100706                                                6.0               \n",
       "4  100724                                                9.0               \n",
       "\n",
       "   act_composite_75th_percentile_score  act_english_75th_percentile_score  \\\n",
       "0                                 19.0                               19.0   \n",
       "1                                 27.0                               28.0   \n",
       "2                                  NaN                                NaN   \n",
       "3                                 29.0                               30.0   \n",
       "4                                 19.0                               19.0   \n",
       "\n",
       "   act_math_75th_percentile_score  act_writing_75th_percentile_score  \\\n",
       "0                            18.0                                NaN   \n",
       "1                            26.0                                NaN   \n",
       "2                             NaN                                NaN   \n",
       "3                            28.0                                NaN   \n",
       "4                            18.0                                NaN   \n",
       "\n",
       "   american_indian_or_alaska_native_men_instructional_staff  \\\n",
       "0                                                0.0          \n",
       "1                                                2.0          \n",
       "2                                                0.0          \n",
       "3                                                0.0          \n",
       "4                                                0.0          \n",
       "\n",
       "   american_indian_or_alaska_native_total_instructional_staff  \\\n",
       "0                                                1.0            \n",
       "1                                                4.0            \n",
       "2                                                0.0            \n",
       "3                                                0.0            \n",
       "4                                                0.0            \n",
       "\n",
       "   american_indian_or_alaska_native_women_instructional_staff  \\\n",
       "0                                                1.0            \n",
       "1                                                2.0            \n",
       "2                                                0.0            \n",
       "3                                                0.0            \n",
       "4                                                0.0            \n",
       "\n",
       "   asian_men_instructional_staff  ...  total_women_age_25_and_over  \\\n",
       "0                           17.0  ...                          NaN   \n",
       "1                          243.0  ...                       1636.0   \n",
       "2                            0.0  ...                          NaN   \n",
       "3                           45.0  ...                        711.0   \n",
       "4                           20.0  ...                        379.0   \n",
       "\n",
       "   total_women_age_25_and_under  transfer-out_rate_total_cohort  \\\n",
       "0                           NaN                            42.0   \n",
       "1                        4889.0                            22.0   \n",
       "2                           NaN                            60.0   \n",
       "3                        1974.0                            30.0   \n",
       "4                        2675.0                            37.0   \n",
       "\n",
       "   tuition_and_fees_as_a_percent_of_core_revenues  \\\n",
       "0                                            30.0   \n",
       "1                                            19.0   \n",
       "2                                            90.0   \n",
       "3                                            30.0   \n",
       "4                                            34.0   \n",
       "\n",
       "   two_or_more_races_men_instructional_staff  \\\n",
       "0                                        0.0   \n",
       "1                                        5.0   \n",
       "2                                        0.0   \n",
       "3                                        0.0   \n",
       "4                                        0.0   \n",
       "\n",
       "  two_or_more_races_total_instructional_staff  \\\n",
       "0                                         0.0   \n",
       "1                                        17.0   \n",
       "2                                         0.0   \n",
       "3                                         1.0   \n",
       "4                                         0.0   \n",
       "\n",
       "  two_or_more_races_women_instructional_staff white_men_instructional_staff  \\\n",
       "0                                         0.0                          17.0   \n",
       "1                                        12.0                        1011.0   \n",
       "2                                         0.0                          26.0   \n",
       "3                                         1.0                         125.0   \n",
       "4                                         0.0                          30.0   \n",
       "\n",
       "  white_total_instructional_staff  white_women_instructional_staff  \n",
       "0                            32.0                             15.0  \n",
       "1                          1703.0                            692.0  \n",
       "2                            30.0                              4.0  \n",
       "3                           245.0                            120.0  \n",
       "4                            54.0                             24.0  \n",
       "\n",
       "[5 rows x 108 columns]"
      ]
     },
     "execution_count": 15,
     "metadata": {},
     "output_type": "execute_result"
    }
   ],
   "source": [
    "total_df.head()"
   ]
  },
  {
   "cell_type": "markdown",
   "id": "8786adcd-6142-465b-9dcf-27f5f8128197",
   "metadata": {
    "tags": []
   },
   "source": [
    "# Save original dataframe to check the integrity of our filling methods"
   ]
  },
  {
   "cell_type": "code",
   "execution_count": 16,
   "id": "ea7a877b-83f1-4b3e-9995-8c77c57e69ff",
   "metadata": {},
   "outputs": [],
   "source": [
    "transposed = total_df.T"
   ]
  },
  {
   "cell_type": "code",
   "execution_count": 17,
   "id": "c8e52e2f-ee23-4f4b-a950-67f73802f313",
   "metadata": {},
   "outputs": [],
   "source": [
    "transposed.columns = transposed.loc[\"UnitID\", :]"
   ]
  },
  {
   "cell_type": "code",
   "execution_count": 18,
   "id": "7980bfee-6602-435d-a3f7-535cb3c04a9c",
   "metadata": {},
   "outputs": [],
   "source": [
    "transposed.drop(\"UnitID\", inplace=True)"
   ]
  },
  {
   "cell_type": "code",
   "execution_count": 19,
   "id": "9dac53c4-bab4-4a9c-9e5d-0804e51d4f12",
   "metadata": {},
   "outputs": [],
   "source": [
    "check_integrity = list(transposed.isna().sum().sort_values().index[:5])"
   ]
  },
  {
   "cell_type": "code",
   "execution_count": 20,
   "id": "be912ca0-4a35-4125-9725-233d92e631b8",
   "metadata": {},
   "outputs": [],
   "source": [
    "integrity_df = total_df.set_index(\"UnitID\").loc[check_integrity, :].copy(deep=True)"
   ]
  },
  {
   "cell_type": "code",
   "execution_count": 21,
   "id": "1ed6d658-fb7e-4be0-8338-d6f40e3a13d7",
   "metadata": {
    "tags": []
   },
   "outputs": [
    {
     "data": {
      "text/html": [
       "<div>\n",
       "<style scoped>\n",
       "    .dataframe tbody tr th:only-of-type {\n",
       "        vertical-align: middle;\n",
       "    }\n",
       "\n",
       "    .dataframe tbody tr th {\n",
       "        vertical-align: top;\n",
       "    }\n",
       "\n",
       "    .dataframe thead th {\n",
       "        text-align: right;\n",
       "    }\n",
       "</style>\n",
       "<table border=\"1\" class=\"dataframe\">\n",
       "  <thead>\n",
       "    <tr style=\"text-align: right;\">\n",
       "      <th></th>\n",
       "      <th>act_composite_75th_percentile_score</th>\n",
       "      <th>graduation_rate_total_cohort</th>\n",
       "    </tr>\n",
       "    <tr>\n",
       "      <th>UnitID</th>\n",
       "      <th></th>\n",
       "      <th></th>\n",
       "    </tr>\n",
       "  </thead>\n",
       "  <tbody>\n",
       "    <tr>\n",
       "      <th>228769</th>\n",
       "      <td>25.0</td>\n",
       "      <td>49.0</td>\n",
       "    </tr>\n",
       "    <tr>\n",
       "      <th>228769</th>\n",
       "      <td>26.0</td>\n",
       "      <td>51.0</td>\n",
       "    </tr>\n",
       "    <tr>\n",
       "      <th>139755</th>\n",
       "      <td>32.0</td>\n",
       "      <td>87.0</td>\n",
       "    </tr>\n",
       "    <tr>\n",
       "      <th>139755</th>\n",
       "      <td>33.0</td>\n",
       "      <td>90.0</td>\n",
       "    </tr>\n",
       "    <tr>\n",
       "      <th>139959</th>\n",
       "      <td>30.0</td>\n",
       "      <td>86.0</td>\n",
       "    </tr>\n",
       "    <tr>\n",
       "      <th>139959</th>\n",
       "      <td>30.0</td>\n",
       "      <td>87.0</td>\n",
       "    </tr>\n",
       "    <tr>\n",
       "      <th>220862</th>\n",
       "      <td>25.0</td>\n",
       "      <td>48.0</td>\n",
       "    </tr>\n",
       "    <tr>\n",
       "      <th>220862</th>\n",
       "      <td>25.0</td>\n",
       "      <td>53.0</td>\n",
       "    </tr>\n",
       "    <tr>\n",
       "      <th>142115</th>\n",
       "      <td>25.0</td>\n",
       "      <td>46.0</td>\n",
       "    </tr>\n",
       "    <tr>\n",
       "      <th>142115</th>\n",
       "      <td>26.0</td>\n",
       "      <td>51.0</td>\n",
       "    </tr>\n",
       "  </tbody>\n",
       "</table>\n",
       "</div>"
      ],
      "text/plain": [
       "        act_composite_75th_percentile_score  graduation_rate_total_cohort\n",
       "UnitID                                                                   \n",
       "228769                                 25.0                          49.0\n",
       "228769                                 26.0                          51.0\n",
       "139755                                 32.0                          87.0\n",
       "139755                                 33.0                          90.0\n",
       "139959                                 30.0                          86.0\n",
       "139959                                 30.0                          87.0\n",
       "220862                                 25.0                          48.0\n",
       "220862                                 25.0                          53.0\n",
       "142115                                 25.0                          46.0\n",
       "142115                                 26.0                          51.0"
      ]
     },
     "execution_count": 21,
     "metadata": {},
     "output_type": "execute_result"
    }
   ],
   "source": [
    "integrity_df[[\"act_composite_75th_percentile_score\", \"graduation_rate_total_cohort\"]]"
   ]
  },
  {
   "cell_type": "markdown",
   "id": "ef498971-5370-41b7-bc8b-de69e71a6c89",
   "metadata": {
    "tags": []
   },
   "source": [
    "# Filling Test Scores"
   ]
  },
  {
   "cell_type": "code",
   "execution_count": 22,
   "id": "d0ebac5a-d167-40b4-96f7-fe1f1709782e",
   "metadata": {},
   "outputs": [],
   "source": [
    "# Horizontal Fill SAT Scores\n",
    "sat_scores = total_df.filter(regex=(\"sat.*percentile\")).columns.to_list()\n",
    "act_scores = total_df.filter(regex=(\"act.*percentile\")).columns.to_list()"
   ]
  },
  {
   "cell_type": "code",
   "execution_count": 23,
   "id": "567cbdaa-9d60-4091-9d8f-b2bb413a1f9e",
   "metadata": {},
   "outputs": [],
   "source": [
    "# first preserve the fact that the scores are nan\n",
    "for i in act_scores:\n",
    "    name = i + \"_isnan\"\n",
    "    total_df[name] = total_df[i].isna() * 1\n",
    "    \n",
    "for i in sat_scores:\n",
    "    name = i + \"_isnan\"\n",
    "    total_df[name] = total_df[i].isna() * 1"
   ]
  },
  {
   "cell_type": "code",
   "execution_count": 24,
   "id": "0edeecfb-17a9-4c3c-b713-22089d95e221",
   "metadata": {},
   "outputs": [],
   "source": [
    "# define a variable called test_scores that holds column names of act and sat scores\n",
    "test_scores = total_df.filter(regex=(\"((sat|act).*score(?!_isnan))\")).columns"
   ]
  },
  {
   "cell_type": "code",
   "execution_count": 25,
   "id": "f4fabcf8-01fb-4e2c-9baa-14795daea1cd",
   "metadata": {},
   "outputs": [],
   "source": [
    "# sort my dataframe by\n",
    "total_df.sort_values([\"UnitID\"], inplace=True)"
   ]
  },
  {
   "cell_type": "code",
   "execution_count": 26,
   "id": "36af987c-a0cb-40f2-8bad-f9222fce1a84",
   "metadata": {},
   "outputs": [],
   "source": [
    "id_group = total_df.groupby(\"UnitID\")"
   ]
  },
  {
   "cell_type": "code",
   "execution_count": 27,
   "id": "af9b0cbf-22cd-4279-b452-e044167edf3b",
   "metadata": {},
   "outputs": [],
   "source": [
    "# ffill and bfill is used to make sure if the observation above or below has a value it will fill\n",
    "for i in test_scores:\n",
    "    total_df[i] = id_group[i].transform(lambda group: group.ffill().bfill())"
   ]
  },
  {
   "cell_type": "code",
   "execution_count": 28,
   "id": "8f0d9a13-ed6c-47c1-a3d6-12580bd94b85",
   "metadata": {
    "tags": []
   },
   "outputs": [
    {
     "data": {
      "text/plain": [
       "act_composite_75th_percentile_score                 1924\n",
       "act_english_75th_percentile_score                   2242\n",
       "act_math_75th_percentile_score                      2238\n",
       "act_writing_75th_percentile_score                   3902\n",
       "sat_critical_reading_75th_percentile_score          1984\n",
       "sat_math_75th_percentile_score                      1974\n",
       "sat_writing_75th_percentile_score                   2873\n",
       "act_composite_75th_percentile_score_isnan              0\n",
       "act_english_75th_percentile_score_isnan                0\n",
       "act_math_75th_percentile_score_isnan                   0\n",
       "act_writing_75th_percentile_score_isnan                0\n",
       "sat_critical_reading_75th_percentile_score_isnan       0\n",
       "sat_math_75th_percentile_score_isnan                   0\n",
       "sat_writing_75th_percentile_score_isnan                0\n",
       "dtype: int64"
      ]
     },
     "execution_count": 28,
     "metadata": {},
     "output_type": "execute_result"
    }
   ],
   "source": [
    "total_df.filter(regex=(\"act.*percentile|sat.*percentile\")).isna().sum()"
   ]
  },
  {
   "cell_type": "code",
   "execution_count": 29,
   "id": "fad59a24-b3ed-4e05-931d-28e35149aedf",
   "metadata": {},
   "outputs": [
    {
     "data": {
      "text/plain": [
       "1984"
      ]
     },
     "execution_count": 29,
     "metadata": {},
     "output_type": "execute_result"
    }
   ],
   "source": [
    "total_df[sat_scores[0]].isna().sum()"
   ]
  },
  {
   "cell_type": "code",
   "execution_count": 30,
   "id": "b33b212a-fbce-4b7d-a7d9-adae3a072a48",
   "metadata": {},
   "outputs": [],
   "source": [
    "for i in sat_scores:\n",
    "    others = copy.deepcopy(sat_scores)\n",
    "    others.remove(i)\n",
    "    for j in others:\n",
    "        total_df[i] = total_df[i].combine_first(total_df[j])\n",
    "        total_df[j] = total_df[j].combine_first(total_df[i])"
   ]
  },
  {
   "cell_type": "code",
   "execution_count": 31,
   "id": "33035968-09e0-41c1-bc5a-7486dc87836e",
   "metadata": {},
   "outputs": [],
   "source": [
    "for i in act_scores:\n",
    "    others = copy.deepcopy(act_scores)\n",
    "    others.remove(i)\n",
    "    for j in others:\n",
    "        total_df[i] = total_df[i].combine_first(total_df[j])\n",
    "        total_df[j] = total_df[j].combine_first(total_df[i])"
   ]
  },
  {
   "cell_type": "code",
   "execution_count": 32,
   "id": "2890fabc-4ae3-4534-9583-ddc48757d54c",
   "metadata": {
    "tags": []
   },
   "outputs": [
    {
     "data": {
      "text/plain": [
       "act_composite_75th_percentile_score                 1916\n",
       "act_english_75th_percentile_score                   1916\n",
       "act_math_75th_percentile_score                      1916\n",
       "act_writing_75th_percentile_score                   1916\n",
       "sat_critical_reading_75th_percentile_score          1972\n",
       "sat_math_75th_percentile_score                      1972\n",
       "sat_writing_75th_percentile_score                   1972\n",
       "act_composite_75th_percentile_score_isnan              0\n",
       "act_english_75th_percentile_score_isnan                0\n",
       "act_math_75th_percentile_score_isnan                   0\n",
       "act_writing_75th_percentile_score_isnan                0\n",
       "sat_critical_reading_75th_percentile_score_isnan       0\n",
       "sat_math_75th_percentile_score_isnan                   0\n",
       "sat_writing_75th_percentile_score_isnan                0\n",
       "dtype: int64"
      ]
     },
     "execution_count": 32,
     "metadata": {},
     "output_type": "execute_result"
    }
   ],
   "source": [
    "total_df.filter(regex=(\"act.*percentile|sat.*percentile\")).isna().sum()"
   ]
  },
  {
   "cell_type": "markdown",
   "id": "935c8226-1c29-4854-876b-5f9607807817",
   "metadata": {
    "tags": []
   },
   "source": [
    "## ACT to SAT Conversions\n",
    "\n",
    "SAT to ACT conversion table taken from [The Princeton Review](\"https://www.princetonreview.com/college-advice/act-to-sat-conversion\")"
   ]
  },
  {
   "cell_type": "code",
   "execution_count": 33,
   "id": "fbd6f31b-670e-4840-8a9f-ced4e614463c",
   "metadata": {},
   "outputs": [],
   "source": [
    "# Create a conversion from act scores to SAT scores"
   ]
  },
  {
   "cell_type": "code",
   "execution_count": 34,
   "id": "55f58c11-fe10-4fe9-9ba8-08aaf1fbd07c",
   "metadata": {},
   "outputs": [],
   "source": [
    "ACT_SAT = pd.read_html(\"https://www.princetonreview.com/college-advice/act-to-sat-conversion\")"
   ]
  },
  {
   "cell_type": "code",
   "execution_count": 35,
   "id": "5ccb5645-67cb-430b-97b2-cc7679ba0936",
   "metadata": {},
   "outputs": [],
   "source": [
    "act_sat = ACT_SAT[0]"
   ]
  },
  {
   "cell_type": "code",
   "execution_count": 36,
   "id": "37894f54-28eb-40eb-8333-aa445c29e2ca",
   "metadata": {
    "tags": []
   },
   "outputs": [
    {
     "data": {
      "text/html": [
       "<div>\n",
       "<style scoped>\n",
       "    .dataframe tbody tr th:only-of-type {\n",
       "        vertical-align: middle;\n",
       "    }\n",
       "\n",
       "    .dataframe tbody tr th {\n",
       "        vertical-align: top;\n",
       "    }\n",
       "\n",
       "    .dataframe thead th {\n",
       "        text-align: right;\n",
       "    }\n",
       "</style>\n",
       "<table border=\"1\" class=\"dataframe\">\n",
       "  <thead>\n",
       "    <tr style=\"text-align: right;\">\n",
       "      <th></th>\n",
       "      <th>SAT</th>\n",
       "      <th>ACT</th>\n",
       "      <th>Unnamed: 2</th>\n",
       "      <th>SAT.1</th>\n",
       "      <th>ACT.1</th>\n",
       "      <th>Unnamed: 5</th>\n",
       "      <th>SAT.2</th>\n",
       "      <th>ACT.2</th>\n",
       "    </tr>\n",
       "  </thead>\n",
       "  <tbody>\n",
       "    <tr>\n",
       "      <th>0</th>\n",
       "      <td>1600</td>\n",
       "      <td>36</td>\n",
       "      <td>NaN</td>\n",
       "      <td>1250</td>\n",
       "      <td>26</td>\n",
       "      <td>NaN</td>\n",
       "      <td>900</td>\n",
       "      <td>17</td>\n",
       "    </tr>\n",
       "    <tr>\n",
       "      <th>1</th>\n",
       "      <td>1590</td>\n",
       "      <td>35</td>\n",
       "      <td>NaN</td>\n",
       "      <td>1240</td>\n",
       "      <td>26</td>\n",
       "      <td>NaN</td>\n",
       "      <td>890</td>\n",
       "      <td>16</td>\n",
       "    </tr>\n",
       "    <tr>\n",
       "      <th>2</th>\n",
       "      <td>1580</td>\n",
       "      <td>35</td>\n",
       "      <td>NaN</td>\n",
       "      <td>1230</td>\n",
       "      <td>25</td>\n",
       "      <td>NaN</td>\n",
       "      <td>880</td>\n",
       "      <td>16</td>\n",
       "    </tr>\n",
       "    <tr>\n",
       "      <th>3</th>\n",
       "      <td>1570</td>\n",
       "      <td>35</td>\n",
       "      <td>NaN</td>\n",
       "      <td>1220</td>\n",
       "      <td>25</td>\n",
       "      <td>NaN</td>\n",
       "      <td>870</td>\n",
       "      <td>16</td>\n",
       "    </tr>\n",
       "    <tr>\n",
       "      <th>4</th>\n",
       "      <td>1560</td>\n",
       "      <td>35</td>\n",
       "      <td>NaN</td>\n",
       "      <td>1210</td>\n",
       "      <td>25</td>\n",
       "      <td>NaN</td>\n",
       "      <td>860</td>\n",
       "      <td>16</td>\n",
       "    </tr>\n",
       "  </tbody>\n",
       "</table>\n",
       "</div>"
      ],
      "text/plain": [
       "    SAT  ACT  Unnamed: 2  SAT.1  ACT.1  Unnamed: 5  SAT.2  ACT.2\n",
       "0  1600   36         NaN   1250     26         NaN    900     17\n",
       "1  1590   35         NaN   1240     26         NaN    890     16\n",
       "2  1580   35         NaN   1230     25         NaN    880     16\n",
       "3  1570   35         NaN   1220     25         NaN    870     16\n",
       "4  1560   35         NaN   1210     25         NaN    860     16"
      ]
     },
     "execution_count": 36,
     "metadata": {},
     "output_type": "execute_result"
    }
   ],
   "source": [
    "act_sat.head()"
   ]
  },
  {
   "cell_type": "code",
   "execution_count": 37,
   "id": "bb66bc70-d41d-4cf5-96d9-44947d81b022",
   "metadata": {
    "tags": []
   },
   "outputs": [],
   "source": [
    "act_sat = act_sat.drop([\"Unnamed: 2\", \"Unnamed: 5\"], axis=1)"
   ]
  },
  {
   "cell_type": "code",
   "execution_count": 38,
   "id": "fae08bb5-c05b-4eb6-b567-2e2536682b79",
   "metadata": {
    "tags": []
   },
   "outputs": [
    {
     "data": {
      "text/html": [
       "<div>\n",
       "<style scoped>\n",
       "    .dataframe tbody tr th:only-of-type {\n",
       "        vertical-align: middle;\n",
       "    }\n",
       "\n",
       "    .dataframe tbody tr th {\n",
       "        vertical-align: top;\n",
       "    }\n",
       "\n",
       "    .dataframe thead th {\n",
       "        text-align: right;\n",
       "    }\n",
       "</style>\n",
       "<table border=\"1\" class=\"dataframe\">\n",
       "  <thead>\n",
       "    <tr style=\"text-align: right;\">\n",
       "      <th></th>\n",
       "      <th>SAT</th>\n",
       "      <th>ACT</th>\n",
       "      <th>SAT.1</th>\n",
       "      <th>ACT.1</th>\n",
       "      <th>SAT.2</th>\n",
       "      <th>ACT.2</th>\n",
       "    </tr>\n",
       "  </thead>\n",
       "  <tbody>\n",
       "    <tr>\n",
       "      <th>0</th>\n",
       "      <td>1600</td>\n",
       "      <td>36</td>\n",
       "      <td>1250</td>\n",
       "      <td>26</td>\n",
       "      <td>900</td>\n",
       "      <td>17</td>\n",
       "    </tr>\n",
       "    <tr>\n",
       "      <th>1</th>\n",
       "      <td>1590</td>\n",
       "      <td>35</td>\n",
       "      <td>1240</td>\n",
       "      <td>26</td>\n",
       "      <td>890</td>\n",
       "      <td>16</td>\n",
       "    </tr>\n",
       "    <tr>\n",
       "      <th>2</th>\n",
       "      <td>1580</td>\n",
       "      <td>35</td>\n",
       "      <td>1230</td>\n",
       "      <td>25</td>\n",
       "      <td>880</td>\n",
       "      <td>16</td>\n",
       "    </tr>\n",
       "    <tr>\n",
       "      <th>3</th>\n",
       "      <td>1570</td>\n",
       "      <td>35</td>\n",
       "      <td>1220</td>\n",
       "      <td>25</td>\n",
       "      <td>870</td>\n",
       "      <td>16</td>\n",
       "    </tr>\n",
       "    <tr>\n",
       "      <th>4</th>\n",
       "      <td>1560</td>\n",
       "      <td>35</td>\n",
       "      <td>1210</td>\n",
       "      <td>25</td>\n",
       "      <td>860</td>\n",
       "      <td>16</td>\n",
       "    </tr>\n",
       "    <tr>\n",
       "      <th>5</th>\n",
       "      <td>1550</td>\n",
       "      <td>34</td>\n",
       "      <td>1200</td>\n",
       "      <td>25</td>\n",
       "      <td>850</td>\n",
       "      <td>15</td>\n",
       "    </tr>\n",
       "    <tr>\n",
       "      <th>6</th>\n",
       "      <td>1540</td>\n",
       "      <td>34</td>\n",
       "      <td>1190</td>\n",
       "      <td>24</td>\n",
       "      <td>840</td>\n",
       "      <td>15</td>\n",
       "    </tr>\n",
       "    <tr>\n",
       "      <th>7</th>\n",
       "      <td>1530</td>\n",
       "      <td>34</td>\n",
       "      <td>1180</td>\n",
       "      <td>24</td>\n",
       "      <td>830</td>\n",
       "      <td>15</td>\n",
       "    </tr>\n",
       "    <tr>\n",
       "      <th>8</th>\n",
       "      <td>1520</td>\n",
       "      <td>34</td>\n",
       "      <td>1170</td>\n",
       "      <td>24</td>\n",
       "      <td>820</td>\n",
       "      <td>15</td>\n",
       "    </tr>\n",
       "    <tr>\n",
       "      <th>9</th>\n",
       "      <td>1510</td>\n",
       "      <td>33</td>\n",
       "      <td>1160</td>\n",
       "      <td>24</td>\n",
       "      <td>810</td>\n",
       "      <td>15</td>\n",
       "    </tr>\n",
       "    <tr>\n",
       "      <th>10</th>\n",
       "      <td>1500</td>\n",
       "      <td>33</td>\n",
       "      <td>1150</td>\n",
       "      <td>23</td>\n",
       "      <td>800</td>\n",
       "      <td>14</td>\n",
       "    </tr>\n",
       "    <tr>\n",
       "      <th>11</th>\n",
       "      <td>1490</td>\n",
       "      <td>33</td>\n",
       "      <td>1140</td>\n",
       "      <td>23</td>\n",
       "      <td>790</td>\n",
       "      <td>14</td>\n",
       "    </tr>\n",
       "    <tr>\n",
       "      <th>12</th>\n",
       "      <td>1480</td>\n",
       "      <td>32</td>\n",
       "      <td>1130</td>\n",
       "      <td>23</td>\n",
       "      <td>780</td>\n",
       "      <td>14</td>\n",
       "    </tr>\n",
       "    <tr>\n",
       "      <th>13</th>\n",
       "      <td>1470</td>\n",
       "      <td>32</td>\n",
       "      <td>1120</td>\n",
       "      <td>22</td>\n",
       "      <td>770</td>\n",
       "      <td>14</td>\n",
       "    </tr>\n",
       "    <tr>\n",
       "      <th>14</th>\n",
       "      <td>1460</td>\n",
       "      <td>32</td>\n",
       "      <td>1110</td>\n",
       "      <td>22</td>\n",
       "      <td>760</td>\n",
       "      <td>14</td>\n",
       "    </tr>\n",
       "    <tr>\n",
       "      <th>15</th>\n",
       "      <td>1450</td>\n",
       "      <td>32</td>\n",
       "      <td>1100</td>\n",
       "      <td>22</td>\n",
       "      <td>750</td>\n",
       "      <td>13</td>\n",
       "    </tr>\n",
       "    <tr>\n",
       "      <th>16</th>\n",
       "      <td>1440</td>\n",
       "      <td>31</td>\n",
       "      <td>1090</td>\n",
       "      <td>21</td>\n",
       "      <td>740</td>\n",
       "      <td>13</td>\n",
       "    </tr>\n",
       "    <tr>\n",
       "      <th>17</th>\n",
       "      <td>1430</td>\n",
       "      <td>31</td>\n",
       "      <td>1080</td>\n",
       "      <td>21</td>\n",
       "      <td>730</td>\n",
       "      <td>13</td>\n",
       "    </tr>\n",
       "    <tr>\n",
       "      <th>18</th>\n",
       "      <td>1420</td>\n",
       "      <td>31</td>\n",
       "      <td>1070</td>\n",
       "      <td>21</td>\n",
       "      <td>720</td>\n",
       "      <td>13</td>\n",
       "    </tr>\n",
       "    <tr>\n",
       "      <th>19</th>\n",
       "      <td>1410</td>\n",
       "      <td>30</td>\n",
       "      <td>1060</td>\n",
       "      <td>21</td>\n",
       "      <td>710</td>\n",
       "      <td>12</td>\n",
       "    </tr>\n",
       "    <tr>\n",
       "      <th>20</th>\n",
       "      <td>1400</td>\n",
       "      <td>30</td>\n",
       "      <td>1050</td>\n",
       "      <td>20</td>\n",
       "      <td>700</td>\n",
       "      <td>12</td>\n",
       "    </tr>\n",
       "    <tr>\n",
       "      <th>21</th>\n",
       "      <td>1390</td>\n",
       "      <td>30</td>\n",
       "      <td>1040</td>\n",
       "      <td>20</td>\n",
       "      <td>690</td>\n",
       "      <td>12</td>\n",
       "    </tr>\n",
       "    <tr>\n",
       "      <th>22</th>\n",
       "      <td>1380</td>\n",
       "      <td>29</td>\n",
       "      <td>1030</td>\n",
       "      <td>20</td>\n",
       "      <td>680</td>\n",
       "      <td>12</td>\n",
       "    </tr>\n",
       "    <tr>\n",
       "      <th>23</th>\n",
       "      <td>1370</td>\n",
       "      <td>29</td>\n",
       "      <td>1020</td>\n",
       "      <td>20</td>\n",
       "      <td>670</td>\n",
       "      <td>12</td>\n",
       "    </tr>\n",
       "    <tr>\n",
       "      <th>24</th>\n",
       "      <td>1360</td>\n",
       "      <td>29</td>\n",
       "      <td>1010</td>\n",
       "      <td>19</td>\n",
       "      <td>660</td>\n",
       "      <td>12</td>\n",
       "    </tr>\n",
       "    <tr>\n",
       "      <th>25</th>\n",
       "      <td>1350</td>\n",
       "      <td>29</td>\n",
       "      <td>1000</td>\n",
       "      <td>19</td>\n",
       "      <td>650</td>\n",
       "      <td>12</td>\n",
       "    </tr>\n",
       "    <tr>\n",
       "      <th>26</th>\n",
       "      <td>1340</td>\n",
       "      <td>28</td>\n",
       "      <td>990</td>\n",
       "      <td>19</td>\n",
       "      <td>640</td>\n",
       "      <td>12</td>\n",
       "    </tr>\n",
       "    <tr>\n",
       "      <th>27</th>\n",
       "      <td>1330</td>\n",
       "      <td>28</td>\n",
       "      <td>980</td>\n",
       "      <td>19</td>\n",
       "      <td>630</td>\n",
       "      <td>12</td>\n",
       "    </tr>\n",
       "    <tr>\n",
       "      <th>28</th>\n",
       "      <td>1320</td>\n",
       "      <td>28</td>\n",
       "      <td>970</td>\n",
       "      <td>18</td>\n",
       "      <td>620</td>\n",
       "      <td>11</td>\n",
       "    </tr>\n",
       "    <tr>\n",
       "      <th>29</th>\n",
       "      <td>1310</td>\n",
       "      <td>28</td>\n",
       "      <td>960</td>\n",
       "      <td>18</td>\n",
       "      <td>610</td>\n",
       "      <td>11</td>\n",
       "    </tr>\n",
       "  </tbody>\n",
       "</table>\n",
       "</div>"
      ],
      "text/plain": [
       "     SAT  ACT  SAT.1  ACT.1  SAT.2  ACT.2\n",
       "0   1600   36   1250     26    900     17\n",
       "1   1590   35   1240     26    890     16\n",
       "2   1580   35   1230     25    880     16\n",
       "3   1570   35   1220     25    870     16\n",
       "4   1560   35   1210     25    860     16\n",
       "5   1550   34   1200     25    850     15\n",
       "6   1540   34   1190     24    840     15\n",
       "7   1530   34   1180     24    830     15\n",
       "8   1520   34   1170     24    820     15\n",
       "9   1510   33   1160     24    810     15\n",
       "10  1500   33   1150     23    800     14\n",
       "11  1490   33   1140     23    790     14\n",
       "12  1480   32   1130     23    780     14\n",
       "13  1470   32   1120     22    770     14\n",
       "14  1460   32   1110     22    760     14\n",
       "15  1450   32   1100     22    750     13\n",
       "16  1440   31   1090     21    740     13\n",
       "17  1430   31   1080     21    730     13\n",
       "18  1420   31   1070     21    720     13\n",
       "19  1410   30   1060     21    710     12\n",
       "20  1400   30   1050     20    700     12\n",
       "21  1390   30   1040     20    690     12\n",
       "22  1380   29   1030     20    680     12\n",
       "23  1370   29   1020     20    670     12\n",
       "24  1360   29   1010     19    660     12\n",
       "25  1350   29   1000     19    650     12\n",
       "26  1340   28    990     19    640     12\n",
       "27  1330   28    980     19    630     12\n",
       "28  1320   28    970     18    620     11\n",
       "29  1310   28    960     18    610     11"
      ]
     },
     "execution_count": 38,
     "metadata": {},
     "output_type": "execute_result"
    }
   ],
   "source": [
    "act_sat.head(30)"
   ]
  },
  {
   "cell_type": "code",
   "execution_count": 39,
   "id": "f70ea872-4ab0-4042-bcb8-0ee502e7c750",
   "metadata": {
    "tags": []
   },
   "outputs": [],
   "source": [
    "def convert_to_act(x):\n",
    "    if np.isnan(x):\n",
    "        return np.nan\n",
    "    \n",
    "    x = int(x)\n",
    "    if x < 630:\n",
    "        return 11\n",
    "    elif x < 720 / 20:\n",
    "        return 12\n",
    "    elif x < 760 / 2:\n",
    "        return 13\n",
    "    elif x < 810 / 2:\n",
    "        return 14\n",
    "    elif x < 860 / 2:\n",
    "        return 15\n",
    "    elif x < 900 / 2:\n",
    "        return 16\n",
    "    elif x < 940 / 2:\n",
    "        return 17\n",
    "    elif x < 960 / 2:\n",
    "        return 18\n",
    "    elif x < 1020 / 2:\n",
    "        return 19\n",
    "    elif x < 1060 / 2:\n",
    "        return 20\n",
    "    elif x < 1100 / 2:\n",
    "        return 21\n",
    "    elif x < 1130 / 2:\n",
    "        return 22\n",
    "    elif x < 1160 / 2:\n",
    "        return 23\n",
    "    elif x < 1200 / 2:\n",
    "        return 24\n",
    "    elif x < 1240 / 2:\n",
    "        return 25\n",
    "    elif x < 1280 / 2:\n",
    "        return 26\n",
    "    elif x < 1310 / 2:\n",
    "        return 27\n",
    "    elif x < 1350 / 2:\n",
    "        return 28\n",
    "    elif x < 1390 / 2:\n",
    "        return 29\n",
    "    elif x < 1420 / 2:\n",
    "        return 30\n",
    "    elif x < 1450 / 2:\n",
    "        return 31\n",
    "    elif x < 1490 / 2:\n",
    "        return 32\n",
    "    elif x < 1520 / 2:\n",
    "        return 33\n",
    "    elif x < 1560 / 2:\n",
    "        return 34\n",
    "    elif x < 1590 / 2:\n",
    "        return 35\n",
    "    elif x < 1600 / 2:\n",
    "        return 36\n",
    "        "
   ]
  },
  {
   "cell_type": "code",
   "execution_count": 40,
   "id": "d2bd32ff-65f5-477e-aa62-12bceb04cd5e",
   "metadata": {
    "tags": []
   },
   "outputs": [],
   "source": [
    "def convert_to_sat(x):\n",
    "    if np.isnan(x):\n",
    "        return np.nan\n",
    "    \n",
    "    x = int(x)\n",
    "    if x == 11:\n",
    "        return 620 / 2\n",
    "    elif x == 12:\n",
    "        return 700 / 2\n",
    "    elif x == 13:\n",
    "        return 740 / 2\n",
    "    elif x == 14:\n",
    "        return 800 / 2\n",
    "    elif x == 15:\n",
    "        return 840 / 2\n",
    "    elif x == 16:\n",
    "        return 880 / 2\n",
    "    elif x == 17:\n",
    "        return 930 / 2\n",
    "    elif x == 18:\n",
    "        return 960 / 2\n",
    "    elif x == 19:\n",
    "        return 1000 / 2\n",
    "    elif x == 20:\n",
    "        return 1040 / 2\n",
    "    elif x == 21:\n",
    "        return 1090 / 2\n",
    "    elif x == 22:\n",
    "        return 1120 / 2\n",
    "    elif x == 23:\n",
    "        return 1150 / 2\n",
    "    elif x == 24:\n",
    "        return 1190 / 2\n",
    "    elif x == 25:\n",
    "        return 1230 / 2\n",
    "    elif x == 26:\n",
    "        return 1270 / 2\n",
    "    elif x == 27:\n",
    "        return 1280 / 2\n",
    "    elif x == 28:\n",
    "        return 1340 / 2\n",
    "    elif x == 29:\n",
    "        return 1380 / 2\n",
    "    elif x == 30:\n",
    "        return 1410 / 2\n",
    "    elif x == 31:\n",
    "        return 1440 / 2\n",
    "    elif x == 32:\n",
    "        return 1480 / 2\n",
    "    elif x == 33:\n",
    "        return 1510 / 2\n",
    "    elif x == 34:\n",
    "        return 1550 / 2\n",
    "    elif x == 35:\n",
    "        return 1580 / 2\n",
    "    elif x == 36:\n",
    "        return 1600 / 2\n",
    "    "
   ]
  },
  {
   "cell_type": "code",
   "execution_count": null,
   "id": "4fc8267d-5943-4442-b841-fa81aaf1113d",
   "metadata": {
    "tags": []
   },
   "outputs": [],
   "source": []
  },
  {
   "cell_type": "code",
   "execution_count": 41,
   "id": "868c98df-440c-4caf-9a38-82a358ae9d7c",
   "metadata": {},
   "outputs": [],
   "source": [
    "for i in act_scores:\n",
    "    total_df[i] = total_df[i].combine_first(total_df[sat_scores[0]].apply(lambda x: convert_to_act(x))) \n",
    "\n",
    "for i in sat_scores:\n",
    "    total_df[i] = total_df[i].combine_first(total_df[act_scores[0]].apply(lambda x: convert_to_sat(x)))"
   ]
  },
  {
   "cell_type": "code",
   "execution_count": 42,
   "id": "c30824fc-6f18-4b27-8d44-1d7e230d2a5c",
   "metadata": {},
   "outputs": [
    {
     "data": {
      "text/plain": [
       "(['sat_critical_reading_75th_percentile_score',\n",
       "  'sat_math_75th_percentile_score',\n",
       "  'sat_writing_75th_percentile_score'],\n",
       " ['act_composite_75th_percentile_score',\n",
       "  'act_english_75th_percentile_score',\n",
       "  'act_math_75th_percentile_score',\n",
       "  'act_writing_75th_percentile_score'])"
      ]
     },
     "execution_count": 42,
     "metadata": {},
     "output_type": "execute_result"
    }
   ],
   "source": [
    "sat_scores, act_scores"
   ]
  },
  {
   "cell_type": "code",
   "execution_count": 43,
   "id": "6a688f9b-7c8f-4a3e-9a13-81eeb8396887",
   "metadata": {
    "tags": []
   },
   "outputs": [
    {
     "data": {
      "text/plain": [
       "act_composite_75th_percentile_score                 1810\n",
       "act_english_75th_percentile_score                   1810\n",
       "act_math_75th_percentile_score                      1810\n",
       "act_writing_75th_percentile_score                   1810\n",
       "sat_critical_reading_75th_percentile_score          1810\n",
       "sat_math_75th_percentile_score                      1810\n",
       "sat_writing_75th_percentile_score                   1810\n",
       "act_composite_75th_percentile_score_isnan              0\n",
       "act_english_75th_percentile_score_isnan                0\n",
       "act_math_75th_percentile_score_isnan                   0\n",
       "act_writing_75th_percentile_score_isnan                0\n",
       "sat_critical_reading_75th_percentile_score_isnan       0\n",
       "sat_math_75th_percentile_score_isnan                   0\n",
       "sat_writing_75th_percentile_score_isnan                0\n",
       "dtype: int64"
      ]
     },
     "execution_count": 43,
     "metadata": {},
     "output_type": "execute_result"
    }
   ],
   "source": [
    "total_df.filter(regex=(\"act.*percentile|sat.*percentile\")).isna().sum()"
   ]
  },
  {
   "cell_type": "markdown",
   "id": "1d3f17d2-c547-47ae-86f5-1f53907ebb77",
   "metadata": {
    "tags": []
   },
   "source": [
    "# Back fill and Sideways fill other Highly Null Columns"
   ]
  },
  {
   "cell_type": "code",
   "execution_count": 44,
   "id": "5e650ede-63ce-4db3-9216-333a778f4ff4",
   "metadata": {
    "tags": []
   },
   "outputs": [
    {
     "data": {
      "text/plain": [
       "local_appropriations_as_a_percent_of_core_revenues           3169\n",
       "state_appropriations_as_percent_of_core_revenues             3169\n",
       "graduation_rate_native_hawaiian_or_other_pacific_islander    2755\n",
       "total_women_age_25_and_over                                  2021\n",
       "total_men_age_25_and_over                                    2021\n",
       "grand_total_age_25_and_over                                  2021\n",
       "total_men_age_25_and_under                                   2016\n",
       "grand_total_age_25_and_under                                 2016\n",
       "total_women_age_25_and_under                                 2016\n",
       "transfer-out_rate_total_cohort                               1909\n",
       "dtype: int64"
      ]
     },
     "execution_count": 44,
     "metadata": {},
     "output_type": "execute_result"
    }
   ],
   "source": [
    "total_df.isna().sum().sort_values(ascending=False).head(10)"
   ]
  },
  {
   "cell_type": "code",
   "execution_count": 45,
   "id": "f7ad9f12-2be6-424a-bf59-08775a8c729a",
   "metadata": {
    "tags": []
   },
   "outputs": [],
   "source": [
    "x_cols = total_df.filter(regex=\"^(?!graduation_rate).\").columns"
   ]
  },
  {
   "cell_type": "code",
   "execution_count": 46,
   "id": "3656b64d-a10a-46c9-aaaf-66be74fe990b",
   "metadata": {
    "tags": []
   },
   "outputs": [],
   "source": [
    "cols_to_fill = total_df.loc[:, x_cols].columns"
   ]
  },
  {
   "cell_type": "code",
   "execution_count": 47,
   "id": "b50cc656-37c5-44f7-8196-86c18db2387c",
   "metadata": {},
   "outputs": [
    {
     "data": {
      "text/plain": [
       "Int64Index([   0,    0,    1,    1,    2,    2,    3,    3,    4,    4,\n",
       "            ...\n",
       "            2308, 2309, 2283, 2310, 2284, 2311, 2285, 2312, 2313, 2314],\n",
       "           dtype='int64', length=4601)"
      ]
     },
     "execution_count": 47,
     "metadata": {},
     "output_type": "execute_result"
    }
   ],
   "source": [
    "id_group[cols_to_fill[3]].transform(lambda group: group.ffill().bfill()).index"
   ]
  },
  {
   "cell_type": "code",
   "execution_count": 48,
   "id": "3c27135b-7fde-4745-be35-e0deb0aaa6ce",
   "metadata": {},
   "outputs": [],
   "source": [
    "for i in cols_to_fill:\n",
    "    total_df[i] = id_group[i].transform(lambda group: group.ffill().bfill())"
   ]
  },
  {
   "cell_type": "code",
   "execution_count": 49,
   "id": "c0efdf61-6ffc-4c4c-8f5d-5d0a35989eaa",
   "metadata": {
    "tags": []
   },
   "outputs": [
    {
     "data": {
      "text/plain": [
       "UnitID                                                                                                    0\n",
       "sat_critical_reading_75th_percentile_score_isnan                                                          0\n",
       "act_writing_75th_percentile_score_isnan                                                                   0\n",
       "act_math_75th_percentile_score_isnan                                                                      0\n",
       "act_english_75th_percentile_score_isnan                                                                   0\n",
       "act_composite_75th_percentile_score_isnan                                                                 0\n",
       "sector_of_institution                                                                                     0\n",
       "parent/child_indicator_-_finance                                                                          0\n",
       "sat_math_75th_percentile_score_isnan                                                                      0\n",
       "institution_size_category                                                                                 0\n",
       "institution_name                                                                                          0\n",
       "historically_black_college_or_university                                                                  0\n",
       "graduation_rate_total_cohort                                                                              0\n",
       "cohort                                                                                                    0\n",
       "city_location_of_institution                                                                              0\n",
       "carnegie_classification_2018:_size_and_setting                                                            0\n",
       "sat_writing_75th_percentile_score_isnan                                                                   0\n",
       "carnegie_classification_2018:_basic                                                                       0\n",
       "carnegie_classification_2018:_enrollment_profile                                                          0\n",
       "academic_support_expenses_as_a_percent_of_total_core_expenses                                             6\n",
       "institutional_support_expenses_as_a_percent_of_total_core_expenses                                        6\n",
       "core_expenses_total_dollars                                                                               6\n",
       "core_revenues_total_dollars                                                                               6\n",
       "is_fasb                                                                                                   6\n",
       "student_service_expenses_as_a_percent_of_total_core_expenses                                              6\n",
       "student-to-faculty_ratio                                                                                  6\n",
       "is_forprofit                                                                                              6\n",
       "research_expenses_as_a_percent_of_total_core_expenses                                                     6\n",
       "public_service_expenses_as_a_percent_of_total_core_expenses                                               6\n",
       "is_gasb                                                                                                   6\n",
       "other_core_expenses_as_a_percent_of_total_core_expenses                                                   6\n",
       "instruction_expenses_as_a_percent_of_total_core_expenses                                                  6\n",
       "other_revenues_as_a_percent_of_core_revenues                                                              7\n",
       "investment_return_as_a_percent_of_core_revenues                                                           7\n",
       "private_gifts_grants_and_contracts_as_a_percent_of_core_revenues                                          7\n",
       "government_grants_and_contracts_as_a_percent_of_core_revenues                                             7\n",
       "tuition_and_fees_as_a_percent_of_core_revenues                                                            7\n",
       "state_abbreviation                                                                                       10\n",
       "percent_of_full-time_first-time_undergraduates_awarded_federal_state_local_or_institutional_grant_aid    48\n",
       "percent_of_full-time_first-time_undergraduates_awarded_any_financial_aid                                 48\n",
       "dtype: int64"
      ]
     },
     "execution_count": 49,
     "metadata": {},
     "output_type": "execute_result"
    }
   ],
   "source": [
    "total_df.isna().sum().sort_values(ascending=True).head(40)"
   ]
  },
  {
   "cell_type": "markdown",
   "id": "6e284edb-8468-42f0-9b0a-eebfcf14c205",
   "metadata": {
    "tags": []
   },
   "source": [
    "### This is just to check the integrity of our data frame"
   ]
  },
  {
   "cell_type": "code",
   "execution_count": 50,
   "id": "284daede-fd8c-4f5a-a6ff-683d7bb32570",
   "metadata": {
    "tags": []
   },
   "outputs": [
    {
     "data": {
      "text/html": [
       "<div>\n",
       "<style scoped>\n",
       "    .dataframe tbody tr th:only-of-type {\n",
       "        vertical-align: middle;\n",
       "    }\n",
       "\n",
       "    .dataframe tbody tr th {\n",
       "        vertical-align: top;\n",
       "    }\n",
       "\n",
       "    .dataframe thead th {\n",
       "        text-align: right;\n",
       "    }\n",
       "</style>\n",
       "<table border=\"1\" class=\"dataframe\">\n",
       "  <thead>\n",
       "    <tr style=\"text-align: right;\">\n",
       "      <th></th>\n",
       "      <th>total_price_for_out-of-state_students_living_on_campus</th>\n",
       "      <th>graduation_rate_total_cohort</th>\n",
       "    </tr>\n",
       "    <tr>\n",
       "      <th>UnitID</th>\n",
       "      <th></th>\n",
       "      <th></th>\n",
       "    </tr>\n",
       "  </thead>\n",
       "  <tbody>\n",
       "    <tr>\n",
       "      <th>228769</th>\n",
       "      <td>31864.0</td>\n",
       "      <td>51.0</td>\n",
       "    </tr>\n",
       "    <tr>\n",
       "      <th>228769</th>\n",
       "      <td>30408.0</td>\n",
       "      <td>49.0</td>\n",
       "    </tr>\n",
       "    <tr>\n",
       "      <th>139755</th>\n",
       "      <td>41558.0</td>\n",
       "      <td>87.0</td>\n",
       "    </tr>\n",
       "    <tr>\n",
       "      <th>139755</th>\n",
       "      <td>44052.0</td>\n",
       "      <td>90.0</td>\n",
       "    </tr>\n",
       "    <tr>\n",
       "      <th>139959</th>\n",
       "      <td>39460.0</td>\n",
       "      <td>86.0</td>\n",
       "    </tr>\n",
       "    <tr>\n",
       "      <th>139959</th>\n",
       "      <td>40890.0</td>\n",
       "      <td>87.0</td>\n",
       "    </tr>\n",
       "    <tr>\n",
       "      <th>220862</th>\n",
       "      <td>35902.0</td>\n",
       "      <td>53.0</td>\n",
       "    </tr>\n",
       "    <tr>\n",
       "      <th>220862</th>\n",
       "      <td>37525.0</td>\n",
       "      <td>48.0</td>\n",
       "    </tr>\n",
       "    <tr>\n",
       "      <th>142115</th>\n",
       "      <td>32612.0</td>\n",
       "      <td>51.0</td>\n",
       "    </tr>\n",
       "    <tr>\n",
       "      <th>142115</th>\n",
       "      <td>31658.0</td>\n",
       "      <td>46.0</td>\n",
       "    </tr>\n",
       "  </tbody>\n",
       "</table>\n",
       "</div>"
      ],
      "text/plain": [
       "        total_price_for_out-of-state_students_living_on_campus  \\\n",
       "UnitID                                                           \n",
       "228769                                            31864.0        \n",
       "228769                                            30408.0        \n",
       "139755                                            41558.0        \n",
       "139755                                            44052.0        \n",
       "139959                                            39460.0        \n",
       "139959                                            40890.0        \n",
       "220862                                            35902.0        \n",
       "220862                                            37525.0        \n",
       "142115                                            32612.0        \n",
       "142115                                            31658.0        \n",
       "\n",
       "        graduation_rate_total_cohort  \n",
       "UnitID                                \n",
       "228769                          51.0  \n",
       "228769                          49.0  \n",
       "139755                          87.0  \n",
       "139755                          90.0  \n",
       "139959                          86.0  \n",
       "139959                          87.0  \n",
       "220862                          53.0  \n",
       "220862                          48.0  \n",
       "142115                          51.0  \n",
       "142115                          46.0  "
      ]
     },
     "execution_count": 50,
     "metadata": {},
     "output_type": "execute_result"
    }
   ],
   "source": [
    "total_df.set_index(\"UnitID\").loc[check_integrity, [\"total_price_for_out-of-state_students_living_on_campus\",\"graduation_rate_total_cohort\"]]"
   ]
  },
  {
   "cell_type": "code",
   "execution_count": 51,
   "id": "7daa5a63-0538-424e-b6ef-d601dcba1b32",
   "metadata": {
    "tags": []
   },
   "outputs": [
    {
     "data": {
      "text/html": [
       "<div>\n",
       "<style scoped>\n",
       "    .dataframe tbody tr th:only-of-type {\n",
       "        vertical-align: middle;\n",
       "    }\n",
       "\n",
       "    .dataframe tbody tr th {\n",
       "        vertical-align: top;\n",
       "    }\n",
       "\n",
       "    .dataframe thead th {\n",
       "        text-align: right;\n",
       "    }\n",
       "</style>\n",
       "<table border=\"1\" class=\"dataframe\">\n",
       "  <thead>\n",
       "    <tr style=\"text-align: right;\">\n",
       "      <th></th>\n",
       "      <th>total_price_for_out-of-state_students_living_on_campus</th>\n",
       "      <th>graduation_rate_total_cohort</th>\n",
       "    </tr>\n",
       "    <tr>\n",
       "      <th>UnitID</th>\n",
       "      <th></th>\n",
       "      <th></th>\n",
       "    </tr>\n",
       "  </thead>\n",
       "  <tbody>\n",
       "    <tr>\n",
       "      <th>228769</th>\n",
       "      <td>30408.0</td>\n",
       "      <td>49.0</td>\n",
       "    </tr>\n",
       "    <tr>\n",
       "      <th>228769</th>\n",
       "      <td>31864.0</td>\n",
       "      <td>51.0</td>\n",
       "    </tr>\n",
       "    <tr>\n",
       "      <th>139755</th>\n",
       "      <td>41558.0</td>\n",
       "      <td>87.0</td>\n",
       "    </tr>\n",
       "    <tr>\n",
       "      <th>139755</th>\n",
       "      <td>44052.0</td>\n",
       "      <td>90.0</td>\n",
       "    </tr>\n",
       "    <tr>\n",
       "      <th>139959</th>\n",
       "      <td>39460.0</td>\n",
       "      <td>86.0</td>\n",
       "    </tr>\n",
       "    <tr>\n",
       "      <th>139959</th>\n",
       "      <td>40890.0</td>\n",
       "      <td>87.0</td>\n",
       "    </tr>\n",
       "    <tr>\n",
       "      <th>220862</th>\n",
       "      <td>37525.0</td>\n",
       "      <td>48.0</td>\n",
       "    </tr>\n",
       "    <tr>\n",
       "      <th>220862</th>\n",
       "      <td>35902.0</td>\n",
       "      <td>53.0</td>\n",
       "    </tr>\n",
       "    <tr>\n",
       "      <th>142115</th>\n",
       "      <td>31658.0</td>\n",
       "      <td>46.0</td>\n",
       "    </tr>\n",
       "    <tr>\n",
       "      <th>142115</th>\n",
       "      <td>32612.0</td>\n",
       "      <td>51.0</td>\n",
       "    </tr>\n",
       "  </tbody>\n",
       "</table>\n",
       "</div>"
      ],
      "text/plain": [
       "        total_price_for_out-of-state_students_living_on_campus  \\\n",
       "UnitID                                                           \n",
       "228769                                            30408.0        \n",
       "228769                                            31864.0        \n",
       "139755                                            41558.0        \n",
       "139755                                            44052.0        \n",
       "139959                                            39460.0        \n",
       "139959                                            40890.0        \n",
       "220862                                            37525.0        \n",
       "220862                                            35902.0        \n",
       "142115                                            31658.0        \n",
       "142115                                            32612.0        \n",
       "\n",
       "        graduation_rate_total_cohort  \n",
       "UnitID                                \n",
       "228769                          49.0  \n",
       "228769                          51.0  \n",
       "139755                          87.0  \n",
       "139755                          90.0  \n",
       "139959                          86.0  \n",
       "139959                          87.0  \n",
       "220862                          48.0  \n",
       "220862                          53.0  \n",
       "142115                          46.0  \n",
       "142115                          51.0  "
      ]
     },
     "execution_count": 51,
     "metadata": {},
     "output_type": "execute_result"
    }
   ],
   "source": [
    "integrity_df[[\"total_price_for_out-of-state_students_living_on_campus\",\"graduation_rate_total_cohort\"]]"
   ]
  },
  {
   "cell_type": "code",
   "execution_count": 52,
   "id": "9e9f72fa-df3a-4c4f-9da3-e5d73e1e8a0f",
   "metadata": {},
   "outputs": [],
   "source": [
    "total_df.state_abbreviation.fillna(\"ismissing\", inplace=True)"
   ]
  },
  {
   "cell_type": "code",
   "execution_count": null,
   "id": "cf8496bb-0ab3-4124-8ce0-45f1b99a06a8",
   "metadata": {},
   "outputs": [],
   "source": []
  },
  {
   "cell_type": "markdown",
   "id": "0caa1646-3463-4ced-a279-6f972d3b3d97",
   "metadata": {},
   "source": [
    "### Before saving to disk we want to preserve the fact that some observations are null"
   ]
  },
  {
   "cell_type": "code",
   "execution_count": 53,
   "id": "e8f97a26-ff15-4b37-897f-2639954f9e40",
   "metadata": {
    "tags": []
   },
   "outputs": [
    {
     "name": "stdout",
     "output_type": "stream",
     "text": [
      "percent_of_total_enrollment_that_are_american_indian_or_alaska_native             84\n",
      "percent_of_total_enrollment_that_are_asian                                        84\n",
      "percent_of_total_enrollment_that_are_asian/native_hawaiian/pacific_islander       84\n",
      "percent_of_total_enrollment_that_are_black_or_african_american                    84\n",
      "percent_of_total_enrollment_that_are_hispanic/latino                              84\n",
      "percent_of_total_enrollment_that_are_native_hawaiian_or_other_pacific_islander    84\n",
      "percent_of_total_enrollment_that_are_nonresident_alien                            84\n",
      "percent_of_total_enrollment_that_are_race/ethnicity_unknown                       84\n",
      "percent_of_total_enrollment_that_are_two_or_more_races                            84\n",
      "percent_of_total_enrollment_that_are_white                                        84\n",
      "percent_of_total_enrollment_that_are_women                                        84\n",
      "dtype: int64\n",
      "\n",
      "ALL :\n",
      "84\n"
     ]
    }
   ],
   "source": [
    "# this shows that they are all na in the same areas\n",
    "print(total_df.filter(regex=\"percent_of_total_enrollment\").isna().sum())\n",
    "print(\"\\nALL :\")\n",
    "print((total_df.filter(regex=\"percent_of_total_enrollment\").isna().sum(axis=1) == 11).sum())"
   ]
  },
  {
   "cell_type": "code",
   "execution_count": null,
   "id": "b69ce39c-d6a7-4232-a459-2c2f60a3a99c",
   "metadata": {},
   "outputs": [],
   "source": []
  },
  {
   "cell_type": "code",
   "execution_count": null,
   "id": "f19e3e6e-5a10-4735-a008-93fc8fc6496d",
   "metadata": {},
   "outputs": [],
   "source": []
  },
  {
   "cell_type": "code",
   "execution_count": 54,
   "id": "21326a4a-71e4-4f21-988e-c1dde00f0cf9",
   "metadata": {
    "tags": []
   },
   "outputs": [
    {
     "data": {
      "text/plain": [
       "act_composite_75th_percentile_score                                 1810\n",
       "act_english_75th_percentile_score                                   1810\n",
       "act_math_75th_percentile_score                                      1810\n",
       "act_writing_75th_percentile_score                                   1810\n",
       "government_grants_and_contracts_as_a_percent_of_core_revenues          7\n",
       "private_gifts_grants_and_contracts_as_a_percent_of_core_revenues       7\n",
       "act_composite_75th_percentile_score_isnan                              0\n",
       "act_english_75th_percentile_score_isnan                                0\n",
       "act_math_75th_percentile_score_isnan                                   0\n",
       "act_writing_75th_percentile_score_isnan                                0\n",
       "dtype: int64"
      ]
     },
     "execution_count": 54,
     "metadata": {},
     "output_type": "execute_result"
    }
   ],
   "source": [
    "total_df.filter(regex=\"act\").isna().sum()"
   ]
  },
  {
   "cell_type": "code",
   "execution_count": 55,
   "id": "bd9b5624-c617-4161-b852-0f809914e063",
   "metadata": {},
   "outputs": [],
   "source": [
    "#Lets do an isna for all of the main categories of data where there are a significant amount of null values\n",
    "total_df[\"percent_of_total_enrollment_isnan\"] = total_df[\"percent_of_total_enrollment_that_are_asian\"].isna() * 1\n",
    "total_df[\"grand_total_age_25_and_over_isnan\"] = total_df[\"grand_total_age_25_and_over\"].isna() * 1\n",
    "total_df[\"grand_total_instructional_staff_isnan\"] = total_df[\"grand_total_instructional_staff\"].isna() * 1\n",
    "total_df[\"total_price_for_in-district_students_living_on_campus\"] = total_df[\"total_price_for_in-district_students_living_on_campus\"]"
   ]
  },
  {
   "cell_type": "code",
   "execution_count": 56,
   "id": "aaa1638c-3741-41b6-be75-3d69749e5020",
   "metadata": {},
   "outputs": [
    {
     "data": {
      "text/html": [
       "<div>\n",
       "<style scoped>\n",
       "    .dataframe tbody tr th:only-of-type {\n",
       "        vertical-align: middle;\n",
       "    }\n",
       "\n",
       "    .dataframe tbody tr th {\n",
       "        vertical-align: top;\n",
       "    }\n",
       "\n",
       "    .dataframe thead th {\n",
       "        text-align: right;\n",
       "    }\n",
       "</style>\n",
       "<table border=\"1\" class=\"dataframe\">\n",
       "  <thead>\n",
       "    <tr style=\"text-align: right;\">\n",
       "      <th></th>\n",
       "      <th>act_composite_75th_percentile_score_isnan</th>\n",
       "      <th>act_english_75th_percentile_score_isnan</th>\n",
       "      <th>act_math_75th_percentile_score_isnan</th>\n",
       "      <th>act_writing_75th_percentile_score_isnan</th>\n",
       "      <th>sat_critical_reading_75th_percentile_score_isnan</th>\n",
       "      <th>sat_math_75th_percentile_score_isnan</th>\n",
       "      <th>sat_writing_75th_percentile_score_isnan</th>\n",
       "      <th>percent_of_total_enrollment_isnan</th>\n",
       "      <th>grand_total_age_25_and_over_isnan</th>\n",
       "      <th>grand_total_instructional_staff_isnan</th>\n",
       "    </tr>\n",
       "  </thead>\n",
       "  <tbody>\n",
       "    <tr>\n",
       "      <th>0</th>\n",
       "      <td>0</td>\n",
       "      <td>0</td>\n",
       "      <td>0</td>\n",
       "      <td>1</td>\n",
       "      <td>0</td>\n",
       "      <td>0</td>\n",
       "      <td>1</td>\n",
       "      <td>0</td>\n",
       "      <td>1</td>\n",
       "      <td>0</td>\n",
       "    </tr>\n",
       "    <tr>\n",
       "      <th>0</th>\n",
       "      <td>0</td>\n",
       "      <td>0</td>\n",
       "      <td>0</td>\n",
       "      <td>1</td>\n",
       "      <td>0</td>\n",
       "      <td>0</td>\n",
       "      <td>0</td>\n",
       "      <td>0</td>\n",
       "      <td>1</td>\n",
       "      <td>0</td>\n",
       "    </tr>\n",
       "    <tr>\n",
       "      <th>1</th>\n",
       "      <td>0</td>\n",
       "      <td>0</td>\n",
       "      <td>0</td>\n",
       "      <td>1</td>\n",
       "      <td>0</td>\n",
       "      <td>0</td>\n",
       "      <td>1</td>\n",
       "      <td>0</td>\n",
       "      <td>0</td>\n",
       "      <td>0</td>\n",
       "    </tr>\n",
       "    <tr>\n",
       "      <th>1</th>\n",
       "      <td>0</td>\n",
       "      <td>0</td>\n",
       "      <td>0</td>\n",
       "      <td>1</td>\n",
       "      <td>0</td>\n",
       "      <td>0</td>\n",
       "      <td>1</td>\n",
       "      <td>0</td>\n",
       "      <td>0</td>\n",
       "      <td>0</td>\n",
       "    </tr>\n",
       "    <tr>\n",
       "      <th>2</th>\n",
       "      <td>1</td>\n",
       "      <td>1</td>\n",
       "      <td>1</td>\n",
       "      <td>1</td>\n",
       "      <td>1</td>\n",
       "      <td>1</td>\n",
       "      <td>1</td>\n",
       "      <td>0</td>\n",
       "      <td>0</td>\n",
       "      <td>0</td>\n",
       "    </tr>\n",
       "    <tr>\n",
       "      <th>...</th>\n",
       "      <td>...</td>\n",
       "      <td>...</td>\n",
       "      <td>...</td>\n",
       "      <td>...</td>\n",
       "      <td>...</td>\n",
       "      <td>...</td>\n",
       "      <td>...</td>\n",
       "      <td>...</td>\n",
       "      <td>...</td>\n",
       "      <td>...</td>\n",
       "    </tr>\n",
       "    <tr>\n",
       "      <th>2311</th>\n",
       "      <td>1</td>\n",
       "      <td>1</td>\n",
       "      <td>1</td>\n",
       "      <td>1</td>\n",
       "      <td>1</td>\n",
       "      <td>1</td>\n",
       "      <td>1</td>\n",
       "      <td>1</td>\n",
       "      <td>1</td>\n",
       "      <td>1</td>\n",
       "    </tr>\n",
       "    <tr>\n",
       "      <th>2285</th>\n",
       "      <td>1</td>\n",
       "      <td>1</td>\n",
       "      <td>1</td>\n",
       "      <td>1</td>\n",
       "      <td>1</td>\n",
       "      <td>1</td>\n",
       "      <td>1</td>\n",
       "      <td>1</td>\n",
       "      <td>1</td>\n",
       "      <td>1</td>\n",
       "    </tr>\n",
       "    <tr>\n",
       "      <th>2312</th>\n",
       "      <td>1</td>\n",
       "      <td>1</td>\n",
       "      <td>1</td>\n",
       "      <td>1</td>\n",
       "      <td>1</td>\n",
       "      <td>1</td>\n",
       "      <td>1</td>\n",
       "      <td>1</td>\n",
       "      <td>1</td>\n",
       "      <td>1</td>\n",
       "    </tr>\n",
       "    <tr>\n",
       "      <th>2313</th>\n",
       "      <td>1</td>\n",
       "      <td>1</td>\n",
       "      <td>1</td>\n",
       "      <td>1</td>\n",
       "      <td>1</td>\n",
       "      <td>1</td>\n",
       "      <td>1</td>\n",
       "      <td>1</td>\n",
       "      <td>1</td>\n",
       "      <td>1</td>\n",
       "    </tr>\n",
       "    <tr>\n",
       "      <th>2314</th>\n",
       "      <td>1</td>\n",
       "      <td>1</td>\n",
       "      <td>1</td>\n",
       "      <td>1</td>\n",
       "      <td>1</td>\n",
       "      <td>1</td>\n",
       "      <td>1</td>\n",
       "      <td>1</td>\n",
       "      <td>1</td>\n",
       "      <td>1</td>\n",
       "    </tr>\n",
       "  </tbody>\n",
       "</table>\n",
       "<p>4601 rows × 10 columns</p>\n",
       "</div>"
      ],
      "text/plain": [
       "      act_composite_75th_percentile_score_isnan  \\\n",
       "0                                             0   \n",
       "0                                             0   \n",
       "1                                             0   \n",
       "1                                             0   \n",
       "2                                             1   \n",
       "...                                         ...   \n",
       "2311                                          1   \n",
       "2285                                          1   \n",
       "2312                                          1   \n",
       "2313                                          1   \n",
       "2314                                          1   \n",
       "\n",
       "      act_english_75th_percentile_score_isnan  \\\n",
       "0                                           0   \n",
       "0                                           0   \n",
       "1                                           0   \n",
       "1                                           0   \n",
       "2                                           1   \n",
       "...                                       ...   \n",
       "2311                                        1   \n",
       "2285                                        1   \n",
       "2312                                        1   \n",
       "2313                                        1   \n",
       "2314                                        1   \n",
       "\n",
       "      act_math_75th_percentile_score_isnan  \\\n",
       "0                                        0   \n",
       "0                                        0   \n",
       "1                                        0   \n",
       "1                                        0   \n",
       "2                                        1   \n",
       "...                                    ...   \n",
       "2311                                     1   \n",
       "2285                                     1   \n",
       "2312                                     1   \n",
       "2313                                     1   \n",
       "2314                                     1   \n",
       "\n",
       "      act_writing_75th_percentile_score_isnan  \\\n",
       "0                                           1   \n",
       "0                                           1   \n",
       "1                                           1   \n",
       "1                                           1   \n",
       "2                                           1   \n",
       "...                                       ...   \n",
       "2311                                        1   \n",
       "2285                                        1   \n",
       "2312                                        1   \n",
       "2313                                        1   \n",
       "2314                                        1   \n",
       "\n",
       "      sat_critical_reading_75th_percentile_score_isnan  \\\n",
       "0                                                    0   \n",
       "0                                                    0   \n",
       "1                                                    0   \n",
       "1                                                    0   \n",
       "2                                                    1   \n",
       "...                                                ...   \n",
       "2311                                                 1   \n",
       "2285                                                 1   \n",
       "2312                                                 1   \n",
       "2313                                                 1   \n",
       "2314                                                 1   \n",
       "\n",
       "      sat_math_75th_percentile_score_isnan  \\\n",
       "0                                        0   \n",
       "0                                        0   \n",
       "1                                        0   \n",
       "1                                        0   \n",
       "2                                        1   \n",
       "...                                    ...   \n",
       "2311                                     1   \n",
       "2285                                     1   \n",
       "2312                                     1   \n",
       "2313                                     1   \n",
       "2314                                     1   \n",
       "\n",
       "      sat_writing_75th_percentile_score_isnan  \\\n",
       "0                                           1   \n",
       "0                                           0   \n",
       "1                                           1   \n",
       "1                                           1   \n",
       "2                                           1   \n",
       "...                                       ...   \n",
       "2311                                        1   \n",
       "2285                                        1   \n",
       "2312                                        1   \n",
       "2313                                        1   \n",
       "2314                                        1   \n",
       "\n",
       "      percent_of_total_enrollment_isnan  grand_total_age_25_and_over_isnan  \\\n",
       "0                                     0                                  1   \n",
       "0                                     0                                  1   \n",
       "1                                     0                                  0   \n",
       "1                                     0                                  0   \n",
       "2                                     0                                  0   \n",
       "...                                 ...                                ...   \n",
       "2311                                  1                                  1   \n",
       "2285                                  1                                  1   \n",
       "2312                                  1                                  1   \n",
       "2313                                  1                                  1   \n",
       "2314                                  1                                  1   \n",
       "\n",
       "      grand_total_instructional_staff_isnan  \n",
       "0                                         0  \n",
       "0                                         0  \n",
       "1                                         0  \n",
       "1                                         0  \n",
       "2                                         0  \n",
       "...                                     ...  \n",
       "2311                                      1  \n",
       "2285                                      1  \n",
       "2312                                      1  \n",
       "2313                                      1  \n",
       "2314                                      1  \n",
       "\n",
       "[4601 rows x 10 columns]"
      ]
     },
     "execution_count": 56,
     "metadata": {},
     "output_type": "execute_result"
    }
   ],
   "source": [
    "total_df.filter(regex=\"isnan\")"
   ]
  },
  {
   "cell_type": "code",
   "execution_count": 57,
   "id": "218a0723-112b-47f0-8269-1066eabdad56",
   "metadata": {},
   "outputs": [],
   "source": [
    "total_df.to_csv(\"data/4_year/aggregate.csv\")"
   ]
  },
  {
   "cell_type": "markdown",
   "id": "6fe79885-04c8-4794-9c9f-e69a64aac491",
   "metadata": {
    "tags": []
   },
   "source": [
    "# Imputation Pipeline"
   ]
  },
  {
   "cell_type": "code",
   "execution_count": null,
   "id": "9d9366f6-4e63-4ee0-8491-36c2b0712641",
   "metadata": {},
   "outputs": [],
   "source": []
  },
  {
   "cell_type": "code",
   "execution_count": 59,
   "id": "5f3132bd-79a3-45fa-96ae-988d0750bee9",
   "metadata": {},
   "outputs": [],
   "source": [
    "from sklearn.impute import KNNImputer"
   ]
  },
  {
   "cell_type": "code",
   "execution_count": 60,
   "id": "67819aad-c8ad-4342-a247-33e6b7d7c3b4",
   "metadata": {},
   "outputs": [],
   "source": [
    "imputer = KNNImputer()"
   ]
  },
  {
   "cell_type": "code",
   "execution_count": 61,
   "id": "541b1b61-6b77-4098-8685-608b2ec2d1df",
   "metadata": {},
   "outputs": [],
   "source": [
    "total_df.set_index(\"UnitID\", inplace=True)"
   ]
  },
  {
   "cell_type": "code",
   "execution_count": 62,
   "id": "edc28d40-4cc2-42e7-9937-4060d114144e",
   "metadata": {},
   "outputs": [],
   "source": [
    "numeric = total_df.select_dtypes(['float', 'int'])"
   ]
  },
  {
   "cell_type": "code",
   "execution_count": 63,
   "id": "3d1e267d-5536-4c3e-a2e6-3cdd9b6abc5f",
   "metadata": {},
   "outputs": [],
   "source": [
    "num_cols = numeric.columns"
   ]
  },
  {
   "cell_type": "code",
   "execution_count": 64,
   "id": "514706d7-45b7-40c3-a086-d4c044aa1d1c",
   "metadata": {},
   "outputs": [],
   "source": [
    "total_df.loc[:, num_cols] = imputer.fit_transform(numeric)"
   ]
  },
  {
   "cell_type": "code",
   "execution_count": 65,
   "id": "4bb30fc6-9fdd-4ba7-bc55-c0846e14bb9f",
   "metadata": {
    "tags": []
   },
   "outputs": [
    {
     "data": {
      "text/plain": [
       "academic_support_expenses_as_a_percent_of_total_core_expenses    0\n",
       "act_composite_75th_percentile_score                              0\n",
       "act_english_75th_percentile_score                                0\n",
       "act_math_75th_percentile_score                                   0\n",
       "act_writing_75th_percentile_score                                0\n",
       "                                                                ..\n",
       "sat_math_75th_percentile_score_isnan                             0\n",
       "sat_writing_75th_percentile_score_isnan                          0\n",
       "percent_of_total_enrollment_isnan                                0\n",
       "grand_total_age_25_and_over_isnan                                0\n",
       "grand_total_instructional_staff_isnan                            0\n",
       "Length: 117, dtype: int64"
      ]
     },
     "execution_count": 65,
     "metadata": {},
     "output_type": "execute_result"
    }
   ],
   "source": [
    "total_df.isna().sum()"
   ]
  },
  {
   "cell_type": "code",
   "execution_count": 66,
   "id": "95b1566f-f59f-4488-b059-bf304242c9bc",
   "metadata": {},
   "outputs": [],
   "source": [
    "total_df.to_csv(\"data/4_year/eda.csv\")"
   ]
  },
  {
   "cell_type": "code",
   "execution_count": null,
   "id": "fc14c527-de6a-4ee1-83f3-ca4b749f4c2b",
   "metadata": {},
   "outputs": [],
   "source": []
  }
 ],
 "metadata": {
  "kernelspec": {
   "display_name": "Python 3 (ipykernel)",
   "language": "python",
   "name": "python3"
  },
  "language_info": {
   "codemirror_mode": {
    "name": "ipython",
    "version": 3
   },
   "file_extension": ".py",
   "mimetype": "text/x-python",
   "name": "python",
   "nbconvert_exporter": "python",
   "pygments_lexer": "ipython3",
   "version": "3.8.5"
  }
 },
 "nbformat": 4,
 "nbformat_minor": 5
}
