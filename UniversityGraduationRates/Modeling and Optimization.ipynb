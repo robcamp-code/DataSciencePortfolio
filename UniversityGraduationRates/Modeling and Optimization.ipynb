{
 "cells": [
  {
   "cell_type": "code",
   "execution_count": 1,
   "id": "f7daf73c",
   "metadata": {},
   "outputs": [],
   "source": [
    "%matplotlib inline\n",
    "import pandas as pd\n",
    "import numpy as np\n",
    "import xgboost as xgb"
   ]
  },
  {
   "cell_type": "code",
   "execution_count": 2,
   "id": "2cd7b9d9",
   "metadata": {},
   "outputs": [],
   "source": [
    "import ipywidgets as widgets\n",
    "from IPython.display import display\n",
    "from sklearn.experimental import enable_iterative_imputer\n",
    "from sklearn.impute import IterativeImputer, KNNImputer, SimpleImputer\n",
    "from sklearn.model_selection import train_test_split, RandomizedSearchCV, GridSearchCV, cross_val_score\n",
    "from sklearn.feature_selection import SelectKBest, VarianceThreshold\n",
    "\n",
    "from sklearn.linear_model import Ridge, Lasso, ElasticNet\n",
    "from sklearn.ensemble import RandomForestRegressor\n",
    "\n",
    "from sklearn.preprocessing import StandardScaler, MinMaxScaler, Normalizer\n",
    "from sklearn.metrics import mean_squared_error, explained_variance_score, mean_absolute_error, make_scorer\n",
    "from sklearn.pipeline import make_pipeline, Pipeline\n",
    "from sklearn.decomposition import PCA\n",
    "from functools import reduce\n",
    "from matplotlib import pyplot as plt\n",
    "import seaborn as sns"
   ]
  },
  {
   "cell_type": "code",
   "execution_count": 166,
   "id": "f7323557",
   "metadata": {},
   "outputs": [],
   "source": [
    "import plotly.express as px\n",
    "from joblib import dump, load"
   ]
  },
  {
   "cell_type": "code",
   "execution_count": 6,
   "id": "b256f01d",
   "metadata": {},
   "outputs": [],
   "source": [
    "# We Are going to do lots of training testing and splitting Lasso Regressions Lets Create a function \n",
    "# to make this easier\n",
    "def train(X, y, alpha):\n",
    "    \n",
    "    x_train, x_test, y_train, y_test = train_test_split(X, y, test_size = 0.2, random_state=40)\n",
    "    \n",
    "    lasso = Lasso(alpha=alpha, max_iter=10000)\n",
    "    lasso.fit(x_train, y_train)\n",
    "    y_pred = lasso.predict(x_test)\n",
    "    \n",
    "    mse = mean_squared_error(y_test, y_pred)\n",
    "    \n",
    "    names = list(X.columns)\n",
    "    lasso_coef = lasso.coef_\n",
    "    coef_dict = dict(zip(names, lasso_coef))\n",
    "    \n",
    "    return mse, coef_dict"
   ]
  },
  {
   "cell_type": "code",
   "execution_count": 7,
   "id": "7da7a8c7",
   "metadata": {},
   "outputs": [],
   "source": [
    "def elastic_results(X, y, alpha, L1):\n",
    "    x_train, x_test, y_train, y_test = train_test_split(X, y, test_size = 0.2, random_state=40)\n",
    "    \n",
    "    elastic_net = ElasticNet(alpha=alpha, l1_ratio=L1)\n",
    "    elastic_net.fit(x_train, y_train)\n",
    "    y_pred = elastic_net.predict(x_test)\n",
    "    \n",
    "    mse = mean_absolute_error(y_test, y_pred)\n",
    "    \n",
    "    names = list(X.columns)\n",
    "    coef = elastic_net.coef_\n",
    "    coef_dict = dict(zip(names, coef))\n",
    "    return mse, coef_dict"
   ]
  },
  {
   "cell_type": "code",
   "execution_count": null,
   "id": "6397272a",
   "metadata": {},
   "outputs": [],
   "source": []
  },
  {
   "cell_type": "code",
   "execution_count": 8,
   "id": "24ed33ed",
   "metadata": {},
   "outputs": [],
   "source": [
    "df1 = pd.read_csv(\"data/cleaned_df.csv\", index_col=[\"UnitID\"])"
   ]
  },
  {
   "cell_type": "code",
   "execution_count": 9,
   "id": "5384de50",
   "metadata": {},
   "outputs": [
    {
     "data": {
      "text/html": [
       "<div>\n",
       "<style scoped>\n",
       "    .dataframe tbody tr th:only-of-type {\n",
       "        vertical-align: middle;\n",
       "    }\n",
       "\n",
       "    .dataframe tbody tr th {\n",
       "        vertical-align: top;\n",
       "    }\n",
       "\n",
       "    .dataframe thead th {\n",
       "        text-align: right;\n",
       "    }\n",
       "</style>\n",
       "<table border=\"1\" class=\"dataframe\">\n",
       "  <thead>\n",
       "    <tr style=\"text-align: right;\">\n",
       "      <th></th>\n",
       "      <th>Instruction_Expenses_As_Dollar_Amount</th>\n",
       "      <th>Research_Expenses_As_Dollar_Amount</th>\n",
       "      <th>Public_Service_Expenses_As_Dollar_Amount</th>\n",
       "      <th>Academic_Support_Expenses_As_Dollar_Amount</th>\n",
       "      <th>Student_Service_Expenses_As_Dollar_Amount</th>\n",
       "      <th>Institutional_Support_Expenses_As_Dollar_Amount</th>\n",
       "      <th>Other_Core_Expenses_As_Dollar_Amount</th>\n",
       "    </tr>\n",
       "    <tr>\n",
       "      <th>UnitID</th>\n",
       "      <th></th>\n",
       "      <th></th>\n",
       "      <th></th>\n",
       "      <th></th>\n",
       "      <th></th>\n",
       "      <th></th>\n",
       "      <th></th>\n",
       "    </tr>\n",
       "  </thead>\n",
       "  <tbody>\n",
       "    <tr>\n",
       "      <th>180203.0</th>\n",
       "      <td>2115359.76</td>\n",
       "      <td>218830.32</td>\n",
       "      <td>510604.08</td>\n",
       "      <td>218830.32</td>\n",
       "      <td>583547.52</td>\n",
       "      <td>1167095.04</td>\n",
       "      <td>2625963.84</td>\n",
       "    </tr>\n",
       "    <tr>\n",
       "      <th>138558.0</th>\n",
       "      <td>21084472.08</td>\n",
       "      <td>0.00</td>\n",
       "      <td>1506033.72</td>\n",
       "      <td>7530168.60</td>\n",
       "      <td>4518101.16</td>\n",
       "      <td>9538213.56</td>\n",
       "      <td>6526146.12</td>\n",
       "    </tr>\n",
       "    <tr>\n",
       "      <th>126182.0</th>\n",
       "      <td>18934322.61</td>\n",
       "      <td>0.00</td>\n",
       "      <td>1071754.11</td>\n",
       "      <td>2500759.59</td>\n",
       "      <td>6430524.66</td>\n",
       "      <td>5358770.55</td>\n",
       "      <td>1786256.85</td>\n",
       "    </tr>\n",
       "  </tbody>\n",
       "</table>\n",
       "</div>"
      ],
      "text/plain": [
       "          Instruction_Expenses_As_Dollar_Amount  \\\n",
       "UnitID                                            \n",
       "180203.0                             2115359.76   \n",
       "138558.0                            21084472.08   \n",
       "126182.0                            18934322.61   \n",
       "\n",
       "          Research_Expenses_As_Dollar_Amount  \\\n",
       "UnitID                                         \n",
       "180203.0                           218830.32   \n",
       "138558.0                                0.00   \n",
       "126182.0                                0.00   \n",
       "\n",
       "          Public_Service_Expenses_As_Dollar_Amount  \\\n",
       "UnitID                                               \n",
       "180203.0                                 510604.08   \n",
       "138558.0                                1506033.72   \n",
       "126182.0                                1071754.11   \n",
       "\n",
       "          Academic_Support_Expenses_As_Dollar_Amount  \\\n",
       "UnitID                                                 \n",
       "180203.0                                   218830.32   \n",
       "138558.0                                  7530168.60   \n",
       "126182.0                                  2500759.59   \n",
       "\n",
       "          Student_Service_Expenses_As_Dollar_Amount  \\\n",
       "UnitID                                                \n",
       "180203.0                                  583547.52   \n",
       "138558.0                                 4518101.16   \n",
       "126182.0                                 6430524.66   \n",
       "\n",
       "          Institutional_Support_Expenses_As_Dollar_Amount  \\\n",
       "UnitID                                                      \n",
       "180203.0                                       1167095.04   \n",
       "138558.0                                       9538213.56   \n",
       "126182.0                                       5358770.55   \n",
       "\n",
       "          Other_Core_Expenses_As_Dollar_Amount  \n",
       "UnitID                                          \n",
       "180203.0                            2625963.84  \n",
       "138558.0                            6526146.12  \n",
       "126182.0                            1786256.85  "
      ]
     },
     "execution_count": 9,
     "metadata": {},
     "output_type": "execute_result"
    }
   ],
   "source": [
    "revenues_distribution = df1.iloc[:,1:7] #Revenues distribution (percentages of total revenues to each area)\n",
    "revenues_dollar_amount = df1.iloc[:,7:13]\n",
    "expenses_distribution = df1.iloc[:,13:21] #Expenses as a distribution\n",
    "expenses_dollar_amount = df1.iloc[:, 21:28]\n",
    "\n",
    "expenses_dollar_amount.head(3)"
   ]
  },
  {
   "cell_type": "markdown",
   "id": "f7c4719d",
   "metadata": {},
   "source": [
    "## Staff diversity and Enrollment Diversity as principle components"
   ]
  },
  {
   "cell_type": "code",
   "execution_count": 10,
   "id": "521b9088",
   "metadata": {},
   "outputs": [
    {
     "data": {
      "text/html": [
       "<div>\n",
       "<style scoped>\n",
       "    .dataframe tbody tr th:only-of-type {\n",
       "        vertical-align: middle;\n",
       "    }\n",
       "\n",
       "    .dataframe tbody tr th {\n",
       "        vertical-align: top;\n",
       "    }\n",
       "\n",
       "    .dataframe thead th {\n",
       "        text-align: right;\n",
       "    }\n",
       "</style>\n",
       "<table border=\"1\" class=\"dataframe\">\n",
       "  <thead>\n",
       "    <tr style=\"text-align: right;\">\n",
       "      <th></th>\n",
       "      <th>Percent of full-time first-time undergraduates awarded any financial aid (SFA1819)</th>\n",
       "      <th>Percent of full-time first-time undergraduates awarded federal  state  local or institutional grant aid (SFA1819)</th>\n",
       "      <th>Percent of total enrollment that are American Indian or Alaska Native (DRVEF2013_RV)</th>\n",
       "      <th>Percent of total enrollment that are Asian/Native Hawaiian/Pacific Islander (DRVEF2013_RV)</th>\n",
       "      <th>Percent of total enrollment that are Asian (DRVEF2013_RV)</th>\n",
       "      <th>Percent of total enrollment that are Native Hawaiian or Other Pacific Islander (DRVEF2013_RV)</th>\n",
       "      <th>Percent of total enrollment that are Black or African American (DRVEF2013_RV)</th>\n",
       "      <th>Percent of total enrollment that are Hispanic/Latino (DRVEF2013_RV)</th>\n",
       "      <th>Percent of total enrollment that are White (DRVEF2013_RV)</th>\n",
       "      <th>Percent of total enrollment that are Race/ethnicity unknown (DRVEF2013_RV)</th>\n",
       "      <th>Percent of total enrollment that are Nonresident Alien (DRVEF2013_RV)</th>\n",
       "      <th>Percent of total enrollment that are two or more races (DRVEF2013_RV)</th>\n",
       "      <th>Percent of total enrollment that are women (DRVEF2013_RV)</th>\n",
       "    </tr>\n",
       "    <tr>\n",
       "      <th>UnitID</th>\n",
       "      <th></th>\n",
       "      <th></th>\n",
       "      <th></th>\n",
       "      <th></th>\n",
       "      <th></th>\n",
       "      <th></th>\n",
       "      <th></th>\n",
       "      <th></th>\n",
       "      <th></th>\n",
       "      <th></th>\n",
       "      <th></th>\n",
       "      <th></th>\n",
       "      <th></th>\n",
       "    </tr>\n",
       "  </thead>\n",
       "  <tbody>\n",
       "    <tr>\n",
       "      <th>180203.0</th>\n",
       "      <td>85.0</td>\n",
       "      <td>82.0</td>\n",
       "      <td>88.0</td>\n",
       "      <td>0.0</td>\n",
       "      <td>0.0</td>\n",
       "      <td>0.0</td>\n",
       "      <td>0.0</td>\n",
       "      <td>1.0</td>\n",
       "      <td>10.0</td>\n",
       "      <td>0.0</td>\n",
       "      <td>0.0</td>\n",
       "      <td>0.0</td>\n",
       "      <td>57.0</td>\n",
       "    </tr>\n",
       "    <tr>\n",
       "      <th>138558.0</th>\n",
       "      <td>91.0</td>\n",
       "      <td>86.0</td>\n",
       "      <td>0.0</td>\n",
       "      <td>1.0</td>\n",
       "      <td>1.0</td>\n",
       "      <td>0.0</td>\n",
       "      <td>12.0</td>\n",
       "      <td>6.0</td>\n",
       "      <td>78.0</td>\n",
       "      <td>0.0</td>\n",
       "      <td>2.0</td>\n",
       "      <td>1.0</td>\n",
       "      <td>54.0</td>\n",
       "    </tr>\n",
       "    <tr>\n",
       "      <th>126182.0</th>\n",
       "      <td>98.0</td>\n",
       "      <td>92.0</td>\n",
       "      <td>1.0</td>\n",
       "      <td>2.0</td>\n",
       "      <td>1.0</td>\n",
       "      <td>0.0</td>\n",
       "      <td>7.0</td>\n",
       "      <td>26.0</td>\n",
       "      <td>56.0</td>\n",
       "      <td>5.0</td>\n",
       "      <td>0.0</td>\n",
       "      <td>3.0</td>\n",
       "      <td>56.0</td>\n",
       "    </tr>\n",
       "    <tr>\n",
       "      <th>100654.0</th>\n",
       "      <td>90.0</td>\n",
       "      <td>87.0</td>\n",
       "      <td>0.0</td>\n",
       "      <td>1.0</td>\n",
       "      <td>1.0</td>\n",
       "      <td>0.0</td>\n",
       "      <td>92.0</td>\n",
       "      <td>1.0</td>\n",
       "      <td>5.0</td>\n",
       "      <td>1.0</td>\n",
       "      <td>0.0</td>\n",
       "      <td>0.0</td>\n",
       "      <td>55.0</td>\n",
       "    </tr>\n",
       "    <tr>\n",
       "      <th>100724.0</th>\n",
       "      <td>95.0</td>\n",
       "      <td>89.0</td>\n",
       "      <td>0.0</td>\n",
       "      <td>0.0</td>\n",
       "      <td>0.0</td>\n",
       "      <td>0.0</td>\n",
       "      <td>91.0</td>\n",
       "      <td>1.0</td>\n",
       "      <td>3.0</td>\n",
       "      <td>1.0</td>\n",
       "      <td>2.0</td>\n",
       "      <td>1.0</td>\n",
       "      <td>61.0</td>\n",
       "    </tr>\n",
       "  </tbody>\n",
       "</table>\n",
       "</div>"
      ],
      "text/plain": [
       "          Percent of full-time first-time undergraduates awarded any financial aid (SFA1819)  \\\n",
       "UnitID                                                                                         \n",
       "180203.0                                               85.0                                    \n",
       "138558.0                                               91.0                                    \n",
       "126182.0                                               98.0                                    \n",
       "100654.0                                               90.0                                    \n",
       "100724.0                                               95.0                                    \n",
       "\n",
       "          Percent of full-time first-time undergraduates awarded federal  state  local or institutional grant aid (SFA1819)  \\\n",
       "UnitID                                                                                                                        \n",
       "180203.0                                               82.0                                                                   \n",
       "138558.0                                               86.0                                                                   \n",
       "126182.0                                               92.0                                                                   \n",
       "100654.0                                               87.0                                                                   \n",
       "100724.0                                               89.0                                                                   \n",
       "\n",
       "          Percent of total enrollment that are American Indian or Alaska Native (DRVEF2013_RV)  \\\n",
       "UnitID                                                                                           \n",
       "180203.0                                               88.0                                      \n",
       "138558.0                                                0.0                                      \n",
       "126182.0                                                1.0                                      \n",
       "100654.0                                                0.0                                      \n",
       "100724.0                                                0.0                                      \n",
       "\n",
       "          Percent of total enrollment that are Asian/Native Hawaiian/Pacific Islander (DRVEF2013_RV)  \\\n",
       "UnitID                                                                                                 \n",
       "180203.0                                                0.0                                            \n",
       "138558.0                                                1.0                                            \n",
       "126182.0                                                2.0                                            \n",
       "100654.0                                                1.0                                            \n",
       "100724.0                                                0.0                                            \n",
       "\n",
       "          Percent of total enrollment that are Asian (DRVEF2013_RV)  \\\n",
       "UnitID                                                                \n",
       "180203.0                                                0.0           \n",
       "138558.0                                                1.0           \n",
       "126182.0                                                1.0           \n",
       "100654.0                                                1.0           \n",
       "100724.0                                                0.0           \n",
       "\n",
       "          Percent of total enrollment that are Native Hawaiian or Other Pacific Islander (DRVEF2013_RV)  \\\n",
       "UnitID                                                                                                    \n",
       "180203.0                                                0.0                                               \n",
       "138558.0                                                0.0                                               \n",
       "126182.0                                                0.0                                               \n",
       "100654.0                                                0.0                                               \n",
       "100724.0                                                0.0                                               \n",
       "\n",
       "          Percent of total enrollment that are Black or African American (DRVEF2013_RV)  \\\n",
       "UnitID                                                                                    \n",
       "180203.0                                                0.0                               \n",
       "138558.0                                               12.0                               \n",
       "126182.0                                                7.0                               \n",
       "100654.0                                               92.0                               \n",
       "100724.0                                               91.0                               \n",
       "\n",
       "          Percent of total enrollment that are Hispanic/Latino (DRVEF2013_RV)  \\\n",
       "UnitID                                                                          \n",
       "180203.0                                                1.0                     \n",
       "138558.0                                                6.0                     \n",
       "126182.0                                               26.0                     \n",
       "100654.0                                                1.0                     \n",
       "100724.0                                                1.0                     \n",
       "\n",
       "          Percent of total enrollment that are White (DRVEF2013_RV)  \\\n",
       "UnitID                                                                \n",
       "180203.0                                               10.0           \n",
       "138558.0                                               78.0           \n",
       "126182.0                                               56.0           \n",
       "100654.0                                                5.0           \n",
       "100724.0                                                3.0           \n",
       "\n",
       "          Percent of total enrollment that are Race/ethnicity unknown (DRVEF2013_RV)  \\\n",
       "UnitID                                                                                 \n",
       "180203.0                                                0.0                            \n",
       "138558.0                                                0.0                            \n",
       "126182.0                                                5.0                            \n",
       "100654.0                                                1.0                            \n",
       "100724.0                                                1.0                            \n",
       "\n",
       "          Percent of total enrollment that are Nonresident Alien (DRVEF2013_RV)  \\\n",
       "UnitID                                                                            \n",
       "180203.0                                                0.0                       \n",
       "138558.0                                                2.0                       \n",
       "126182.0                                                0.0                       \n",
       "100654.0                                                0.0                       \n",
       "100724.0                                                2.0                       \n",
       "\n",
       "          Percent of total enrollment that are two or more races (DRVEF2013_RV)  \\\n",
       "UnitID                                                                            \n",
       "180203.0                                                0.0                       \n",
       "138558.0                                                1.0                       \n",
       "126182.0                                                3.0                       \n",
       "100654.0                                                0.0                       \n",
       "100724.0                                                1.0                       \n",
       "\n",
       "          Percent of total enrollment that are women (DRVEF2013_RV)  \n",
       "UnitID                                                               \n",
       "180203.0                                               57.0          \n",
       "138558.0                                               54.0          \n",
       "126182.0                                               56.0          \n",
       "100654.0                                               55.0          \n",
       "100724.0                                               61.0          "
      ]
     },
     "execution_count": 10,
     "metadata": {},
     "output_type": "execute_result"
    }
   ],
   "source": [
    "staff_total = df1.iloc[:,29:58]  \n",
    "staff_diversity_distribution = df1.iloc[:, 58:87]\n",
    "enrollment_diversity = df1.iloc[:,87:100]\n",
    "\n",
    "enrollment_diversity.head()"
   ]
  },
  {
   "cell_type": "markdown",
   "id": "0eeef249",
   "metadata": {},
   "source": [
    "# Age as principle component"
   ]
  },
  {
   "cell_type": "code",
   "execution_count": 11,
   "id": "cf0f53bd",
   "metadata": {},
   "outputs": [],
   "source": [
    "age_df = df1.iloc[:, 100:107]\n",
    "age_distribution = df1.iloc[:, 107:113]"
   ]
  },
  {
   "cell_type": "markdown",
   "id": "0c87f35b",
   "metadata": {},
   "source": [
    "# ACT/SAT Scores a principle component"
   ]
  },
  {
   "cell_type": "code",
   "execution_count": 12,
   "id": "ad0d5cff",
   "metadata": {},
   "outputs": [
    {
     "data": {
      "text/html": [
       "<div>\n",
       "<style scoped>\n",
       "    .dataframe tbody tr th:only-of-type {\n",
       "        vertical-align: middle;\n",
       "    }\n",
       "\n",
       "    .dataframe tbody tr th {\n",
       "        vertical-align: top;\n",
       "    }\n",
       "\n",
       "    .dataframe thead th {\n",
       "        text-align: right;\n",
       "    }\n",
       "</style>\n",
       "<table border=\"1\" class=\"dataframe\">\n",
       "  <thead>\n",
       "    <tr style=\"text-align: right;\">\n",
       "      <th></th>\n",
       "      <th>SAT Critical Reading 75th percentile score (IC2012_RV)</th>\n",
       "      <th>SAT Math 75th percentile score (IC2012_RV)</th>\n",
       "      <th>ACT Composite 75th percentile score (IC2012_RV)</th>\n",
       "    </tr>\n",
       "    <tr>\n",
       "      <th>UnitID</th>\n",
       "      <th></th>\n",
       "      <th></th>\n",
       "      <th></th>\n",
       "    </tr>\n",
       "  </thead>\n",
       "  <tbody>\n",
       "    <tr>\n",
       "      <th>180203.0</th>\n",
       "      <td>608.0</td>\n",
       "      <td>548.0</td>\n",
       "      <td>25.4</td>\n",
       "    </tr>\n",
       "    <tr>\n",
       "      <th>138558.0</th>\n",
       "      <td>420.0</td>\n",
       "      <td>410.0</td>\n",
       "      <td>17.0</td>\n",
       "    </tr>\n",
       "    <tr>\n",
       "      <th>126182.0</th>\n",
       "      <td>530.0</td>\n",
       "      <td>550.0</td>\n",
       "      <td>23.0</td>\n",
       "    </tr>\n",
       "    <tr>\n",
       "      <th>100654.0</th>\n",
       "      <td>455.0</td>\n",
       "      <td>460.0</td>\n",
       "      <td>19.0</td>\n",
       "    </tr>\n",
       "    <tr>\n",
       "      <th>100724.0</th>\n",
       "      <td>460.0</td>\n",
       "      <td>480.0</td>\n",
       "      <td>19.0</td>\n",
       "    </tr>\n",
       "  </tbody>\n",
       "</table>\n",
       "</div>"
      ],
      "text/plain": [
       "          SAT Critical Reading 75th percentile score (IC2012_RV)  \\\n",
       "UnitID                                                             \n",
       "180203.0                                              608.0        \n",
       "138558.0                                              420.0        \n",
       "126182.0                                              530.0        \n",
       "100654.0                                              455.0        \n",
       "100724.0                                              460.0        \n",
       "\n",
       "          SAT Math 75th percentile score (IC2012_RV)  \\\n",
       "UnitID                                                 \n",
       "180203.0                                       548.0   \n",
       "138558.0                                       410.0   \n",
       "126182.0                                       550.0   \n",
       "100654.0                                       460.0   \n",
       "100724.0                                       480.0   \n",
       "\n",
       "          ACT Composite 75th percentile score (IC2012_RV)  \n",
       "UnitID                                                     \n",
       "180203.0                                             25.4  \n",
       "138558.0                                             17.0  \n",
       "126182.0                                             23.0  \n",
       "100654.0                                             19.0  \n",
       "100724.0                                             19.0  "
      ]
     },
     "execution_count": 12,
     "metadata": {},
     "output_type": "execute_result"
    }
   ],
   "source": [
    "test_scores = df1.iloc[:,115:118]\n",
    "test_scores.head()"
   ]
  },
  {
   "cell_type": "markdown",
   "id": "e0e21327",
   "metadata": {},
   "source": [
    "# Pre Processing and Modeling (Total Graduation Rates)"
   ]
  },
  {
   "cell_type": "code",
   "execution_count": 13,
   "id": "d899a6ec",
   "metadata": {},
   "outputs": [],
   "source": [
    "black_grad_rates_df = df1.loc[:,:].dropna(subset=[df1.columns[-1]])\n",
    "\n",
    "x1 = df1.loc[:,:].drop([df1.columns[-1], df1.columns[-2]], axis=1)\n",
    "y1 = df1[df1.columns[-2]]\n",
    "x2 = black_grad_rates_df.drop(df1.columns[-2:], axis=1)\n",
    "y2 = black_grad_rates_df.loc[:,df1.columns[-2]]"
   ]
  },
  {
   "cell_type": "code",
   "execution_count": 14,
   "id": "cc9dc5b5",
   "metadata": {},
   "outputs": [],
   "source": [
    "x_train, x_test, y_train, y_test = train_test_split(x1,y1, test_size=0.25, random_state=39)"
   ]
  },
  {
   "cell_type": "code",
   "execution_count": 15,
   "id": "6bfcbd54",
   "metadata": {},
   "outputs": [],
   "source": [
    "pipeline = Pipeline([\n",
    "    (\"scaler\", StandardScaler()),\n",
    "    (\"classifier\", Lasso(alpha=0.1))   \n",
    "])"
   ]
  },
  {
   "cell_type": "code",
   "execution_count": 16,
   "id": "37cd1cbc",
   "metadata": {},
   "outputs": [
    {
     "data": {
      "text/plain": [
       "Pipeline(steps=[('scaler', StandardScaler()), ('classifier', Lasso(alpha=0.1))])"
      ]
     },
     "execution_count": 16,
     "metadata": {},
     "output_type": "execute_result"
    }
   ],
   "source": [
    "pipeline.fit(x_train, y_train)"
   ]
  },
  {
   "cell_type": "code",
   "execution_count": 17,
   "id": "50cc6cb8",
   "metadata": {},
   "outputs": [],
   "source": [
    "y_pred = pipeline.predict(x_test)"
   ]
  },
  {
   "cell_type": "code",
   "execution_count": 18,
   "id": "e8d6fd1c",
   "metadata": {},
   "outputs": [
    {
     "data": {
      "text/plain": [
       "443.4374267894562"
      ]
     },
     "execution_count": 18,
     "metadata": {},
     "output_type": "execute_result"
    }
   ],
   "source": [
    "mean_squared_error(y_test, y_pred)"
   ]
  },
  {
   "cell_type": "code",
   "execution_count": 19,
   "id": "81cb7f3a",
   "metadata": {},
   "outputs": [],
   "source": [
    "#visualizing a few of the coeficients\n"
   ]
  },
  {
   "cell_type": "code",
   "execution_count": 20,
   "id": "492a1d8a",
   "metadata": {},
   "outputs": [],
   "source": [
    "#_ = plt.plot(range(stop-start), lasso_coef[start:stop])\n",
    "#_ = plt.xticks(range(stop-start), names[start:stop], rotation=90)\n",
    "#_ = plt.ylabel(\"Coeficients\")\n",
    "#plt.show()"
   ]
  },
  {
   "cell_type": "markdown",
   "id": "8cc0c506",
   "metadata": {},
   "source": [
    "In an Initial Model top 5 Negative Coefficients Were:\n",
    "\n",
    "<ol>\n",
    "    <li>Government_Grants</li>\n",
    "    <li>Student_Service_Expense</li>\n",
    "    <li>Parent/Child indicator</li>\n",
    "    <li>Percent of total enrollment that are Black or African American</li>\n",
    "    <li>Grand Total Undergraduate Age 25 and over</li>\n",
    "</ol>\n",
    "Top 5 Positive Coefficients\n",
    "<ol>\n",
    "    <li>Grand Total Undergraduate Age Under 25</li>\n",
    "    <li>Research_Expenses</li>\n",
    "    <li>SAT Math</li>\n",
    "    <li>ACT Composite</li>\n",
    "    <li>Total Women Uner 25</li>\n",
    "</ol>\n",
    "       "
   ]
  },
  {
   "cell_type": "markdown",
   "id": "171017cf",
   "metadata": {},
   "source": [
    "## Feature Engineering #1 Adding Principle Components (Total Grad Rate)"
   ]
  },
  {
   "cell_type": "code",
   "execution_count": 21,
   "id": "52f2ef1c",
   "metadata": {},
   "outputs": [],
   "source": [
    "# First scale x2 using standard scaler\n",
    "def add_PC(df):\n",
    "    \n",
    "    standard_scaler = StandardScaler()\n",
    "    x1_scaled = standard_scaler.fit_transform(df)\n",
    "\n",
    "    pca_transform = PCA(n_components=1)\n",
    "\n",
    "    scaled_df = pd.DataFrame(x1_scaled, columns=df.columns)\n",
    "\n",
    "    scaled_df[\"Revenues_Dist_PC\"] = pca_transform.fit_transform(scaled_df[revenues_distribution.columns])\n",
    "\n",
    "    scaled_df[\"Revenues_Dollar_Amount_PC\"] = pca_transform.fit_transform(scaled_df[revenues_dollar_amount.columns])\n",
    "\n",
    "    scaled_df[\"Expenses_Dollar_Amount_PC\"] = pca_transform.fit_transform(scaled_df[expenses_dollar_amount.columns])\n",
    "\n",
    "    scaled_df[\"Expenses_Dist_PC\"] = pca_transform.fit_transform(scaled_df[expenses_distribution.columns])\n",
    "\n",
    "    scaled_df[\"Staff_Total_PC\"] = pca_transform.fit_transform(scaled_df[staff_total.columns])\n",
    "\n",
    "    scaled_df[\"Staff_Dist_PC\"] = pca_transform.fit_transform(scaled_df[staff_diversity_distribution.columns])\n",
    "\n",
    "    scaled_df[\"Age_Total_PC\"] = pca_transform.fit_transform(scaled_df[age_df.columns])\n",
    "\n",
    "    scaled_df[\"Age_Dist_PC\"] = pca_transform.fit_transform(scaled_df[age_distribution.columns])\n",
    "\n",
    "    scaled_df[\"Enrollment_Diversity_PC\"] = pca_transform.fit_transform(scaled_df[enrollment_diversity.columns])\n",
    "\n",
    "    scaled_df[\"Test_Scores_PC\"] = pca_transform.fit_transform(scaled_df[test_scores.columns])\n",
    "    return(scaled_df)\n",
    "x1_df = add_PC(x1)"
   ]
  },
  {
   "cell_type": "markdown",
   "id": "67974e48",
   "metadata": {},
   "source": [
    "# modeling with new Principle Components"
   ]
  },
  {
   "cell_type": "code",
   "execution_count": 22,
   "id": "507fa9f9",
   "metadata": {
    "collapsed": true
   },
   "outputs": [
    {
     "data": {
      "text/plain": [
       "(222.21488327841558,\n",
       " {'Core_Revenues': -0.0,\n",
       "  'Tuition_And_Fees': 0.0,\n",
       "  'Government_Grants': -2.458491287595699,\n",
       "  'Private_Gifts': 0.0,\n",
       "  'Investment_Return': 0.0,\n",
       "  'Sales_And_Services': 0.7109671336499643,\n",
       "  'Other_Revenues': 0.06221282490950318,\n",
       "  'Tuition_And_Fees_As_Dollar_Amount': -0.0,\n",
       "  'Government_Grants_As_Dollar_Amount': -0.0,\n",
       "  'Private_Gifts_As_Dollar_Amount': 0.0,\n",
       "  'Investment_Return_As_Dollar_Amount': -0.07681795288519744,\n",
       "  'Sales_And_Services_As_Dollar_Amount': -0.0,\n",
       "  'Other_Revenues_As_Dollar_Amount': -0.14633484091436494,\n",
       "  'Core_Expenses': -0.0,\n",
       "  'Instruction_Expenses': 0.2776124614889326,\n",
       "  'Research_Expenses': 1.0903026197511378,\n",
       "  'Public_Service_Expenses': -0.7387758191777416,\n",
       "  'Academic_Support_Expenses': -0.0,\n",
       "  'Student_Service_Expenses': -1.0516782329356458,\n",
       "  'Institutional_Support_Expenses': -0.0,\n",
       "  'Other_Core_Expenses': 0.0,\n",
       "  'Instruction_Expenses_As_Dollar_Amount': 0.0,\n",
       "  'Research_Expenses_As_Dollar_Amount': -0.0,\n",
       "  'Public_Service_Expenses_As_Dollar_Amount': 0.10656172218876332,\n",
       "  'Academic_Support_Expenses_As_Dollar_Amount': -0.06783421660358555,\n",
       "  'Student_Service_Expenses_As_Dollar_Amount': 1.3465689386172688,\n",
       "  'Institutional_Support_Expenses_As_Dollar_Amount': -0.8435498838046288,\n",
       "  'Other_Core_Expenses_As_Dollar_Amount': -0.0,\n",
       "  'Grand total instructional_staff': 0.0,\n",
       "  'Grand total men instructional_staff': 0.0,\n",
       "  'Grand total women instructional_staff': -0.0,\n",
       "  'American Indian or Alaska Native total instructional_staff': -0.0,\n",
       "  'American Indian or Alaska Native men instructional_staff': 0.2976423805582754,\n",
       "  'American Indian or Alaska Native women instructional_staff': -0.0,\n",
       "  'Asian total instructional_staff': -0.0,\n",
       "  'Asian men instructional_staff': -0.0,\n",
       "  'Asian women instructional_staff': 0.0,\n",
       "  'Black or African American total instructional_staff': 0.0,\n",
       "  'Black or African American men instructional_staff': 0.0,\n",
       "  'Black or African American women instructional_staff': 0.2520127912848275,\n",
       "  'Hispanic or Latino total instructional_staff': -0.0,\n",
       "  'Hispanic or Latino men instructional_staff': 0.0,\n",
       "  'Hispanic or Latino women instructional_staff': -0.0,\n",
       "  'Native Hawaiian or Other Pacific Islander total instructional_staff': -0.17940853664878073,\n",
       "  'Native Hawaiian or Other Pacific Islander men instructional_staff': -0.34496281293719605,\n",
       "  'Native Hawaiian or Other Pacific Islander women instructional_staff': -0.0,\n",
       "  'White total instructional_staff': 0.0,\n",
       "  'White men instructional_staff': 0.0,\n",
       "  'White women instructional_staff': -0.0,\n",
       "  'Two or more races total instructional_staff': 0.0,\n",
       "  'Two or more races men instructional_staff': 0.16106440731259727,\n",
       "  'Two or more races women instructional_staff': 0.0,\n",
       "  'Race/ethnicity unknown total instructional_staff': -0.0,\n",
       "  'Race/ethnicity unknown men instructional_staff': 0.0,\n",
       "  'Race/ethnicity unknown women instructional_staff': -0.0915601247075639,\n",
       "  'Nonresident alien total instructional_staff': -0.0,\n",
       "  'Nonresident alien men instructional_staff': -0.0,\n",
       "  'Nonresident alien women instructional_staff': -0.0,\n",
       "  'Grand total men instructional_staff_as_percentage': 0.0,\n",
       "  'Grand total women instructional_staff_as_percentage': -0.0,\n",
       "  'American Indian or Alaska Native total instructional_staff_as_percentage': -0.0,\n",
       "  'American Indian or Alaska Native men instructional_staff_as_percentage': -0.13246280870614002,\n",
       "  'American Indian or Alaska Native women instructional_staff_as_percentage': 0.0,\n",
       "  'Asian total instructional_staff_as_percentage': -0.0,\n",
       "  'Asian men instructional_staff_as_percentage': -0.8946751482110409,\n",
       "  'Asian women instructional_staff_as_percentage': 0.12272392132009913,\n",
       "  'Black or African American total instructional_staff_as_percentage': -0.0,\n",
       "  'Black or African American men instructional_staff_as_percentage': -0.20878357495463656,\n",
       "  'Black or African American women instructional_staff_as_percentage': -0.0,\n",
       "  'Hispanic or Latino total instructional_staff_as_percentage': 0.23987026118133173,\n",
       "  'Hispanic or Latino men instructional_staff_as_percentage': 0.5964950524456069,\n",
       "  'Hispanic or Latino women instructional_staff_as_percentage': 0.0,\n",
       "  'Native Hawaiian or Other Pacific Islander total instructional_staff_as_percentage': 0.0,\n",
       "  'Native Hawaiian or Other Pacific Islander men instructional_staff_as_percentage': 0.6758756170560761,\n",
       "  'Native Hawaiian or Other Pacific Islander women instructional_staff_as_percentage': 0.0,\n",
       "  'White total instructional_staff_as_percentage': -0.0,\n",
       "  'White men instructional_staff_as_percentage': 0.0,\n",
       "  'White women instructional_staff_as_percentage': -0.11532449618572903,\n",
       "  'Two or more races total instructional_staff_as_percentage': 0.0,\n",
       "  'Two or more races men instructional_staff_as_percentage': 0.2389366213477692,\n",
       "  'Two or more races women instructional_staff_as_percentage': -0.0,\n",
       "  'Race/ethnicity unknown total instructional_staff_as_percentage': 0.0,\n",
       "  'Race/ethnicity unknown men instructional_staff_as_percentage': 0.0,\n",
       "  'Race/ethnicity unknown women instructional_staff_as_percentage': 0.0051064584321437075,\n",
       "  'Nonresident alien total instructional_staff_as_percentage': 0.6081770043959919,\n",
       "  'Nonresident alien men instructional_staff_as_percentage': 0.0,\n",
       "  'Nonresident alien women instructional_staff_as_percentage': 0.0,\n",
       "  'Percent of full-time first-time undergraduates awarded any financial aid (SFA1819)': 0.0,\n",
       "  'Percent of full-time first-time undergraduates awarded federal  state  local or institutional grant aid (SFA1819)': -0.5357706621520896,\n",
       "  'Percent of total enrollment that are American Indian or Alaska Native (DRVEF2013_RV)': -0.6177285572441237,\n",
       "  'Percent of total enrollment that are Asian/Native Hawaiian/Pacific Islander (DRVEF2013_RV)': 0.0,\n",
       "  'Percent of total enrollment that are Asian (DRVEF2013_RV)': 1.721733752634653,\n",
       "  'Percent of total enrollment that are Native Hawaiian or Other Pacific Islander (DRVEF2013_RV)': 0.0,\n",
       "  'Percent of total enrollment that are Black or African American (DRVEF2013_RV)': -1.115797288301522,\n",
       "  'Percent of total enrollment that are Hispanic/Latino (DRVEF2013_RV)': 0.0,\n",
       "  'Percent of total enrollment that are White (DRVEF2013_RV)': 0.924829723212408,\n",
       "  'Percent of total enrollment that are Race/ethnicity unknown (DRVEF2013_RV)': -0.016782646529639535,\n",
       "  'Percent of total enrollment that are Nonresident Alien (DRVEF2013_RV)': -0.25993993631527657,\n",
       "  'Percent of total enrollment that are two or more races (DRVEF2013_RV)': -0.2894576182924144,\n",
       "  'Percent of total enrollment that are women (DRVEF2013_RV)': -2.3085542945561897,\n",
       "  'Grand total (EF2013B_RV  Undergraduate  Age under 25 total)': 0.0,\n",
       "  'Total men (EF2013B_RV  Undergraduate  Age under 25 total)': 0.0,\n",
       "  'Total women (EF2013B_RV  Undergraduate  Age under 25 total)': 1.1141495504564243,\n",
       "  'Grand total (EF2013B_RV  Undergraduate  Age 25 and over total)': -1.7766178327931001,\n",
       "  'Total men (EF2013B_RV  Undergraduate  Age 25 and over total)': -0.0,\n",
       "  'Total women (EF2013B_RV  Undergraduate  Age 25 and over total)': -0.22795885281079306,\n",
       "  'Incoming_Class_Grand_Total': 0.0,\n",
       "  'Grand total (EF2013B_RV  Undergraduate  Age under 25 total)_as_percentage': 0.0,\n",
       "  'Total men (EF2013B_RV  Undergraduate  Age under 25 total)_as_percentage': -0.0,\n",
       "  'Total women (EF2013B_RV  Undergraduate  Age under 25 total)_as_percentage': 4.295706138631713,\n",
       "  'Grand total (EF2013B_RV  Undergraduate  Age 25 and over total)_as_percentage': -0.0,\n",
       "  'Total men (EF2013B_RV  Undergraduate  Age 25 and over total)_as_percentage': -0.37353940912510586,\n",
       "  'Total women (EF2013B_RV  Undergraduate  Age 25 and over total)_as_percentage': 0.0,\n",
       "  'Total price for out-of-state students living on campus 2012-13 (DRVIC2012_RV)': 1.7764543140436924,\n",
       "  'Student-to-faculty ratio (EF2019D)': 0.0,\n",
       "  'SAT Critical Reading 75th percentile score (IC2012_RV)': -0.0,\n",
       "  'SAT Math 75th percentile score (IC2012_RV)': 2.1377348986816336,\n",
       "  'ACT Composite 75th percentile score (IC2012_RV)': 1.1890911270722648,\n",
       "  \"Carnegie Classification 2018: Basic (HD2018)_Associate's Colleges: High Transfer-Mixed Traditional/Nontraditional\": -0.806235518384924,\n",
       "  \"Carnegie Classification 2018: Basic (HD2018)_Associate's Colleges: High Vocational & Technical-High Nontraditional\": -0.0,\n",
       "  \"Carnegie Classification 2018: Basic (HD2018)_Associate's Colleges: High Vocational & Technical-High Traditional\": 0.0,\n",
       "  \"Carnegie Classification 2018: Basic (HD2018)_Associate's Colleges: High Vocational & Technical-Mixed Traditional/Nontraditional\": -0.2131600224329435,\n",
       "  \"Carnegie Classification 2018: Basic (HD2018)_Associate's Colleges: Mixed Transfer/Vocational & Technical-High Nontraditional\": 0.5989283403582585,\n",
       "  \"Carnegie Classification 2018: Basic (HD2018)_Associate's Colleges: Mixed Transfer/Vocational & Technical-High Traditional\": -0.6987558617269126,\n",
       "  \"Carnegie Classification 2018: Basic (HD2018)_Associate's Colleges: Mixed Transfer/Vocational & Technical-Mixed Traditional/Nontraditional\": -0.43221703583495286,\n",
       "  'Carnegie Classification 2018: Basic (HD2018)_Baccalaureate Colleges: Arts & Sciences Focus': -0.0,\n",
       "  'Carnegie Classification 2018: Basic (HD2018)_Baccalaureate Colleges: Diverse Fields': -0.9245504503984426,\n",
       "  \"Carnegie Classification 2018: Basic (HD2018)_Baccalaureate/Associate's Colleges: Associate's Dominant\": -1.2297139215211212,\n",
       "  \"Carnegie Classification 2018: Basic (HD2018)_Baccalaureate/Associate's Colleges: Mixed Baccalaureate/Associate's\": -0.5253053936239405,\n",
       "  'Carnegie Classification 2018: Basic (HD2018)_Doctoral Universities: High Research Activity\\r\\n': 0.06552785430706425,\n",
       "  'Carnegie Classification 2018: Basic (HD2018)_Doctoral Universities: Very High Research Activity\\r\\n': -0.0,\n",
       "  'Carnegie Classification 2018: Basic (HD2018)_Doctoral/Professional Universities\\r\\n': 0.0,\n",
       "  \"Carnegie Classification 2018: Basic (HD2018)_Master's Colleges & Universities: Larger Programs\": 0.3806736476107114,\n",
       "  \"Carnegie Classification 2018: Basic (HD2018)_Master's Colleges & Universities: Medium Programs\": 0.0,\n",
       "  \"Carnegie Classification 2018: Basic (HD2018)_Master's Colleges & Universities: Small Programs\": -0.22623089008238298,\n",
       "  'Carnegie Classification 2018: Basic (HD2018)_Not applicable, not in Carnegie universe (not accredited or nondegree-granting)': -0.1673435239558617,\n",
       "  'Carnegie Classification 2018: Basic (HD2018)_Special Focus Four-Year: Arts, Music & Design Schools': 0.1077217781421061,\n",
       "  'Carnegie Classification 2018: Basic (HD2018)_Special Focus Four-Year: Business & Management Schools': 0.270948447718905,\n",
       "  'Carnegie Classification 2018: Basic (HD2018)_Special Focus Four-Year: Engineering Schools': 0.0,\n",
       "  'Carnegie Classification 2018: Basic (HD2018)_Special Focus Four-Year: Faith-Related Institutions': -1.7710074390401394,\n",
       "  'Carnegie Classification 2018: Basic (HD2018)_Special Focus Four-Year: Medical Schools & Centers': 0.48809757129307524,\n",
       "  'Carnegie Classification 2018: Basic (HD2018)_Special Focus Four-Year: Other Health Professions Schools': 1.3155196262631006,\n",
       "  'Carnegie Classification 2018: Basic (HD2018)_Special Focus Four-Year: Other Special Focus Institutions': 0.7956963637673993,\n",
       "  'Carnegie Classification 2018: Basic (HD2018)_Special Focus Four-Year: Other Technology-Related Schools': 0.5108738541536673,\n",
       "  'Carnegie Classification 2018: Basic (HD2018)_Special Focus Two-Year: Arts & Design': 0.07338158969224244,\n",
       "  'Carnegie Classification 2018: Basic (HD2018)_Special Focus Two-Year: Health Professions': 1.298896440571746,\n",
       "  'Carnegie Classification 2018: Basic (HD2018)_Special Focus Two-Year: Other Fields': 0.0,\n",
       "  'Carnegie Classification 2018: Basic (HD2018)_Special Focus Two-Year: Technical Professions': 0.6440763221446082,\n",
       "  'Carnegie Classification 2018: Basic (HD2018)_Tribal Colleges': 0.0,\n",
       "  'Carnegie Classification 2018: Basic (HD2018)_isMissing': 0.1439136727779943,\n",
       "  'Carnegie Classification 2018: Enrollment Profile (HD2018)_Exclusively undergraduate four-year': 0.896834571798381,\n",
       "  'Carnegie Classification 2018: Enrollment Profile (HD2018)_Exclusively undergraduate two-year': -0.0,\n",
       "  'Carnegie Classification 2018: Enrollment Profile (HD2018)_High undergraduate': 0.0,\n",
       "  'Carnegie Classification 2018: Enrollment Profile (HD2018)_Majority graduate': -0.03549486789612029,\n",
       "  'Carnegie Classification 2018: Enrollment Profile (HD2018)_Majority undergraduate': -0.15865913900589018,\n",
       "  'Carnegie Classification 2018: Enrollment Profile (HD2018)_Not applicable, not in Carnegie universe (not accredited or nondegree-granting)': -0.021524120664654162,\n",
       "  'Carnegie Classification 2018: Enrollment Profile (HD2018)_Very high undergraduate': 0.1628021672636448,\n",
       "  'Carnegie Classification 2018: Enrollment Profile (HD2018)_isMissing': 0.03568461148597255,\n",
       "  'Carnegie Classification 2018: Size and Setting (HD2018)_Four-year, large, highly residential': 0.014580054679689453,\n",
       "  'Carnegie Classification 2018: Size and Setting (HD2018)_Four-year, large, primarily nonresidential': -0.7319654570675446,\n",
       "  'Carnegie Classification 2018: Size and Setting (HD2018)_Four-year, large, primarily residential': 0.1594736580919069,\n",
       "  'Carnegie Classification 2018: Size and Setting (HD2018)_Four-year, medium, highly residential': 0.9990530324358942,\n",
       "  'Carnegie Classification 2018: Size and Setting (HD2018)_Four-year, medium, primarily nonresidential': -0.8486580407463492,\n",
       "  'Carnegie Classification 2018: Size and Setting (HD2018)_Four-year, medium, primarily residential': 0.0906515077153837,\n",
       "  'Carnegie Classification 2018: Size and Setting (HD2018)_Four-year, small, highly residential': 1.143426810844603,\n",
       "  'Carnegie Classification 2018: Size and Setting (HD2018)_Four-year, small, primarily nonresidential': -1.5416073515987179,\n",
       "  'Carnegie Classification 2018: Size and Setting (HD2018)_Four-year, small, primarily residential': 0.37964911829833947,\n",
       "  'Carnegie Classification 2018: Size and Setting (HD2018)_Four-year, very small, highly residential': -0.5011357992190075,\n",
       "  'Carnegie Classification 2018: Size and Setting (HD2018)_Four-year, very small, primarily nonresidential': 0.0,\n",
       "  'Carnegie Classification 2018: Size and Setting (HD2018)_Four-year, very small, primarily residential': -0.0,\n",
       "  'Carnegie Classification 2018: Size and Setting (HD2018)_Not applicable, not in Carnegie universe (not accredited or nondegree-granting)': -0.01788011192532175,\n",
       "  'Carnegie Classification 2018: Size and Setting (HD2018)_Two-year, large': -0.0,\n",
       "  'Carnegie Classification 2018: Size and Setting (HD2018)_Two-year, medium': -0.16278860639702722,\n",
       "  'Carnegie Classification 2018: Size and Setting (HD2018)_Two-year, small': -0.0,\n",
       "  'Carnegie Classification 2018: Size and Setting (HD2018)_Two-year, very large': -0.2522109064569249,\n",
       "  'Carnegie Classification 2018: Size and Setting (HD2018)_Two-year, very small': 0.20181746300401518,\n",
       "  'Carnegie Classification 2018: Size and Setting (HD2018)_isMissing': 0.010458103097095385,\n",
       "  'Historically Black College or University (HD2018)_Yes': -0.0,\n",
       "  'Historically Black College or University (HD2018)_isMissing': 2.2955536047854335e-15,\n",
       "  'Institution size category (HD2018)_10,000 - 19,999': -0.12327420139068018,\n",
       "  'Institution size category (HD2018)_20,000 and above': 0.0,\n",
       "  'Institution size category (HD2018)_5,000 - 9,999': -0.2127751431597905,\n",
       "  'Institution size category (HD2018)_Under 1,000': 0.0,\n",
       "  'Institution size category (HD2018)_isMissing': 0.0015237348426014319,\n",
       "  'Parent/child indicator - Finance (FLAGS2019)_Child record - reports partial data but other data is included  with entity that is not a postsecondary institution': 1.3809118145820047,\n",
       "  'Parent/child indicator - Finance (FLAGS2019)_Not applicable': 0.22871366679560856,\n",
       "  'Parent/child indicator - Finance (FLAGS2019)_Parent record - includes data from branch campuses': 0.1944874062998843,\n",
       "  'Parent/child indicator - Finance (FLAGS2019)_Partial child record - reports revenues/expenses. Assets/liabilties reported with parent': -2.1284104602002505,\n",
       "  'Sector of institution (HD2018)_Private for-profit, 4-year or above': -0.6614733805021193,\n",
       "  'Sector of institution (HD2018)_Private for-profit, less-than 2-year': 0.7379455081471117,\n",
       "  'Sector of institution (HD2018)_Private not-for-profit, 2-year': -0.0,\n",
       "  'Sector of institution (HD2018)_Private not-for-profit, 4-year or above': 0.24861353063892203,\n",
       "  'Sector of institution (HD2018)_Public, 2-year': -0.815234497148118,\n",
       "  'Sector of institution (HD2018)_Public, 4-year or above': -1.3160047464686289,\n",
       "  'Sector of institution (HD2018)_isMissing': 0.0,\n",
       "  'State abbreviation (HD2018)_Alaska': -0.3592616312234214,\n",
       "  'State abbreviation (HD2018)_American Samoa': -0.013322937601764917,\n",
       "  'State abbreviation (HD2018)_Arizona': -0.6147164714887976,\n",
       "  'State abbreviation (HD2018)_Arkansas': -0.49176600845292967,\n",
       "  'State abbreviation (HD2018)_California': 1.2891570991229346,\n",
       "  'State abbreviation (HD2018)_Colorado': -0.02127483644978831,\n",
       "  'State abbreviation (HD2018)_Connecticut': 0.4323956503384439,\n",
       "  'State abbreviation (HD2018)_Delaware': -0.23993547714782962,\n",
       "  'State abbreviation (HD2018)_District of Columbia': 0.2740507560287717,\n",
       "  'State abbreviation (HD2018)_Federated States of Micronesia': 0.0061725589429229375,\n",
       "  'State abbreviation (HD2018)_Florida': 0.826238807055904,\n",
       "  'State abbreviation (HD2018)_Georgia': -0.9325169403640027,\n",
       "  'State abbreviation (HD2018)_Guam': -0.3900679409977094,\n",
       "  'State abbreviation (HD2018)_Hawaii': -0.0,\n",
       "  'State abbreviation (HD2018)_Idaho': -0.11678543186815596,\n",
       "  'State abbreviation (HD2018)_Illinois': -0.380846853069419,\n",
       "  'State abbreviation (HD2018)_Indiana': 0.0,\n",
       "  'State abbreviation (HD2018)_Iowa': 0.388758375448617,\n",
       "  'State abbreviation (HD2018)_Kansas': 0.0,\n",
       "  'State abbreviation (HD2018)_Kentucky': -0.5434404007328484,\n",
       "  'State abbreviation (HD2018)_Louisiana': -0.41596877567935997,\n",
       "  'State abbreviation (HD2018)_Maine': -0.0,\n",
       "  'State abbreviation (HD2018)_Marshall Islands': -0.6103595638549794,\n",
       "  'State abbreviation (HD2018)_Maryland': 0.04495854469920606,\n",
       "  'State abbreviation (HD2018)_Massachusetts': 0.571712731145759,\n",
       "  'State abbreviation (HD2018)_Michigan': -0.4293546175175462,\n",
       "  'State abbreviation (HD2018)_Minnesota': 0.030108752367563666,\n",
       "  'State abbreviation (HD2018)_Mississippi': 0.018951200348183785,\n",
       "  'State abbreviation (HD2018)_Missouri': 0.610388680239952,\n",
       "  'State abbreviation (HD2018)_Montana': -0.2774082587153572,\n",
       "  'State abbreviation (HD2018)_Nebraska': -0.0697540197878673,\n",
       "  'State abbreviation (HD2018)_Nevada': -0.34438382109695925,\n",
       "  'State abbreviation (HD2018)_New Hampshire': 0.17861392563068682,\n",
       "  'State abbreviation (HD2018)_New Jersey': -0.0,\n",
       "  'State abbreviation (HD2018)_New Mexico': -0.4976671178311035,\n",
       "  'State abbreviation (HD2018)_New York': 0.7372964281761639,\n",
       "  'State abbreviation (HD2018)_North Carolina': 0.5396839665526502,\n",
       "  'State abbreviation (HD2018)_North Dakota': -0.0,\n",
       "  'State abbreviation (HD2018)_Northern Marianas': -0.27609850521368023,\n",
       "  'State abbreviation (HD2018)_Ohio': -0.07698683574685579,\n",
       "  'State abbreviation (HD2018)_Oklahoma': -0.2440870484696154,\n",
       "  'State abbreviation (HD2018)_Oregon': 0.109125786562128,\n",
       "  'State abbreviation (HD2018)_Pennsylvania': 1.3957648810621097,\n",
       "  'State abbreviation (HD2018)_Puerto Rico': -0.6564567745795915,\n",
       "  'State abbreviation (HD2018)_Rhode Island': 0.22884390765984186,\n",
       "  'State abbreviation (HD2018)_South Carolina': 0.09672132869608822,\n",
       "  'State abbreviation (HD2018)_South Dakota': -0.5742065293483226,\n",
       "  'State abbreviation (HD2018)_Tennessee': -0.008615317998398184,\n",
       "  'State abbreviation (HD2018)_Texas': -1.0772713641577627,\n",
       "  'State abbreviation (HD2018)_Utah': 0.021986831290071424,\n",
       "  'State abbreviation (HD2018)_Vermont': 0.40210401346552765,\n",
       "  'State abbreviation (HD2018)_Virgin Islands': 0.12928374367397313,\n",
       "  'State abbreviation (HD2018)_Virginia': 0.08155108090851221,\n",
       "  'State abbreviation (HD2018)_Washington': 0.0,\n",
       "  'State abbreviation (HD2018)_West Virginia': -0.0,\n",
       "  'State abbreviation (HD2018)_Wisconsin': 0.21438378173563333,\n",
       "  'State abbreviation (HD2018)_Wyoming': -0.10863817305390046,\n",
       "  'State abbreviation (HD2018)_isMissing': 0.0,\n",
       "  'Revenues_Dist_PC': 0.0,\n",
       "  'Revenues_Dollar_Amount_PC': -0.3794733865049162,\n",
       "  'Expenses_Dollar_Amount_PC': -0.0,\n",
       "  'Expenses_Dist_PC': 1.942532867589252,\n",
       "  'Staff_Total_PC': 0.0,\n",
       "  'Staff_Dist_PC': 0.09736987448710537,\n",
       "  'Age_Total_PC': 0.0,\n",
       "  'Age_Dist_PC': -0.0,\n",
       "  'Enrollment_Diversity_PC': 0.0,\n",
       "  'Test_Scores_PC': 1.454669309455962})"
      ]
     },
     "execution_count": 22,
     "metadata": {},
     "output_type": "execute_result"
    }
   ],
   "source": [
    "train(x1_df, y1, 0.1)"
   ]
  },
  {
   "cell_type": "markdown",
   "id": "0aab64e2",
   "metadata": {},
   "source": [
    "### Adding more important features\n",
    "\n",
    "There are some good opportunities for feature engineering expecially after exploring the data.\n",
    "\n",
    "<ol>\n",
    "    <li>Schools that have graduation rates of 100 % or 0 % are clear outliers. This may be because these schools have very small cohort sizes</li>\n",
    "    <li>Certain states have a graduation rate much higher than other states. So creating an ordinal variable called state rank may help make better predictions</li>\n",
    "    <li> Binning some of my continuous variables also highlighted trends in my EDA. I will bin some of my Principle components and some of my continuous variables to create ordinal variables\n",
    "</ol>"
   ]
  },
  {
   "cell_type": "code",
   "execution_count": 23,
   "id": "e0e00dca",
   "metadata": {},
   "outputs": [],
   "source": [
    "df2 = pd.read_csv(\"data/feature_engineer.csv\", index_col=\"UnitID\")"
   ]
  },
  {
   "cell_type": "code",
   "execution_count": 24,
   "id": "77eb4202",
   "metadata": {},
   "outputs": [],
   "source": [
    "class_size = \"Incoming_Class_Grand_Total\""
   ]
  },
  {
   "cell_type": "markdown",
   "id": "aace7f43",
   "metadata": {},
   "source": [
    "# view size of schools to look for outliers"
   ]
  },
  {
   "cell_type": "code",
   "execution_count": 25,
   "id": "e80721ab",
   "metadata": {
    "collapsed": true
   },
   "outputs": [
    {
     "data": {
      "text/plain": [
       "(0.0, 20000.0)"
      ]
     },
     "execution_count": 25,
     "metadata": {},
     "output_type": "execute_result"
    },
    {
     "data": {
      "image/png": "[encoded data removed]",
      "text/plain": [
       "<Figure size 432x288 with 1 Axes>"
      ]
     },
     "metadata": {
      "needs_background": "light"
     },
     "output_type": "display_data"
    }
   ],
   "source": [
    "sns.scatterplot(data=df1, x=class_size, y=df1.columns[-2])\n",
    "plt.xlim([0,20000])"
   ]
  },
  {
   "cell_type": "markdown",
   "id": "90fb7c78",
   "metadata": {},
   "source": [
    "#### many schools small schools with 0 and 100% graduation rates"
   ]
  },
  {
   "cell_type": "code",
   "execution_count": 26,
   "id": "fbeee940",
   "metadata": {
    "collapsed": true
   },
   "outputs": [
    {
     "name": "stdout",
     "output_type": "stream",
     "text": [
      "Core_Revenues\n",
      "Other_Revenues\n",
      "Other_Revenues_As_Dollar_Amount\n",
      "Revenues_Dist_PC\n",
      "Revenues_Dollar_Amount_PC\n"
     ]
    }
   ],
   "source": [
    "var = \"Rev\"\n",
    "for i in x1_df.columns:\n",
    "    if var in i:\n",
    "        print(i)"
   ]
  },
  {
   "cell_type": "markdown",
   "id": "f2af5aee",
   "metadata": {},
   "source": [
    "## Lets create Categorical ranking variables (Total Graduation Rate)"
   ]
  },
  {
   "cell_type": "code",
   "execution_count": 27,
   "id": "1fe52cb6",
   "metadata": {},
   "outputs": [],
   "source": [
    "def cat_rank(df, category, agg_func, target):\n",
    "    group = df.groupby(by=category)\n",
    "    group_agg = group.agg([agg_func])[df.columns[target]]\n",
    "    group_rank = group_agg.sort_values(agg_func)\\\n",
    "        .reset_index().reset_index()\\\n",
    "        .loc[:,[category, \"index\"]].set_index(category)\n",
    "    group_rank.columns = [\"rank\"]\n",
    "    group_rank[\"rank\"] = group_rank[\"rank\"].apply(lambda x: x + 1)\n",
    "    group_rank_map = dict(zip(group_rank.index.to_numpy(),group_rank[\"rank\"].to_numpy()))\n",
    "    return group_rank_map\n",
    "\n",
    "state_map = cat_rank(df2, \"State\", \"mean\", -2)\n",
    "carnegie_basic_map = cat_rank(df2, \"Carnegie_Classification_Basic\", \"mean\", -2)\n",
    "sector_map = cat_rank(df2, \"Sector\", \"mean\", -2)\n",
    "carnegie_size_map = cat_rank(df2, \"Carnegie_Classification_Size_Setting\", \"mean\", -2)"
   ]
  },
  {
   "cell_type": "code",
   "execution_count": 28,
   "id": "b286b23d",
   "metadata": {},
   "outputs": [],
   "source": [
    "cat_ranks_df = pd.concat([df2[\"State\"].replace(state_map),\n",
    " df2[\"Carnegie_Classification_Size_Setting\"].replace(carnegie_size_map),\n",
    " df2[\"Sector\"].replace(sector_map),\n",
    " df2[\"Carnegie_Classification_Basic\"].replace(carnegie_basic_map)], axis=1)"
   ]
  },
  {
   "cell_type": "code",
   "execution_count": 29,
   "id": "6da84566",
   "metadata": {},
   "outputs": [],
   "source": [
    "df1.reset_index(inplace=True)"
   ]
  },
  {
   "cell_type": "code",
   "execution_count": 30,
   "id": "aca28f9a",
   "metadata": {},
   "outputs": [],
   "source": [
    "cat_ranks_df.reset_index(inplace=True)"
   ]
  },
  {
   "cell_type": "code",
   "execution_count": 31,
   "id": "c7b71345",
   "metadata": {},
   "outputs": [],
   "source": [
    "df1 = cat_ranks_df.merge(df1, on=\"UnitID\", how=\"outer\")"
   ]
  },
  {
   "cell_type": "code",
   "execution_count": 32,
   "id": "47c55682",
   "metadata": {},
   "outputs": [],
   "source": [
    "df1.set_index(\"UnitID\", inplace=True)"
   ]
  },
  {
   "cell_type": "markdown",
   "id": "36d4711d",
   "metadata": {},
   "source": [
    "## Remove Outliers"
   ]
  },
  {
   "cell_type": "code",
   "execution_count": 33,
   "id": "eea630e0",
   "metadata": {},
   "outputs": [],
   "source": [
    "lower_bound = df1[df1.columns[-2]].quantile(0.001)"
   ]
  },
  {
   "cell_type": "code",
   "execution_count": 34,
   "id": "13a240fe",
   "metadata": {},
   "outputs": [],
   "source": [
    "upper_bound = df1[df1.columns[-2]].quantile(0.999)"
   ]
  },
  {
   "cell_type": "code",
   "execution_count": 35,
   "id": "6a19ce10",
   "metadata": {
    "collapsed": true
   },
   "outputs": [
    {
     "data": {
      "text/plain": [
       "100.0"
      ]
     },
     "execution_count": 35,
     "metadata": {},
     "output_type": "execute_result"
    }
   ],
   "source": [
    "upper_bound"
   ]
  },
  {
   "cell_type": "code",
   "execution_count": 36,
   "id": "0a44ce2b",
   "metadata": {},
   "outputs": [],
   "source": [
    "filt1 = df1[df1.columns[-2]] != 100\n",
    "filt2 = df1[df1.columns[-2]] != 0"
   ]
  },
  {
   "cell_type": "code",
   "execution_count": 37,
   "id": "55bbfd09",
   "metadata": {},
   "outputs": [],
   "source": [
    "df1 = df1[filt1 & filt2] # these graduation rates are just not feasible for a regular sized institution"
   ]
  },
  {
   "cell_type": "code",
   "execution_count": 38,
   "id": "ee72bcda",
   "metadata": {
    "collapsed": true
   },
   "outputs": [
    {
     "data": {
      "text/html": [
       "<div>\n",
       "<style scoped>\n",
       "    .dataframe tbody tr th:only-of-type {\n",
       "        vertical-align: middle;\n",
       "    }\n",
       "\n",
       "    .dataframe tbody tr th {\n",
       "        vertical-align: top;\n",
       "    }\n",
       "\n",
       "    .dataframe thead th {\n",
       "        text-align: right;\n",
       "    }\n",
       "</style>\n",
       "<table border=\"1\" class=\"dataframe\">\n",
       "  <thead>\n",
       "    <tr style=\"text-align: right;\">\n",
       "      <th></th>\n",
       "      <th>State</th>\n",
       "      <th>Carnegie_Classification_Size_Setting</th>\n",
       "      <th>Sector</th>\n",
       "      <th>Carnegie_Classification_Basic</th>\n",
       "      <th>Core_Revenues</th>\n",
       "      <th>Tuition_And_Fees</th>\n",
       "      <th>Government_Grants</th>\n",
       "      <th>Private_Gifts</th>\n",
       "      <th>Investment_Return</th>\n",
       "      <th>Sales_And_Services</th>\n",
       "      <th>...</th>\n",
       "      <th>State abbreviation (HD2018)_Vermont</th>\n",
       "      <th>State abbreviation (HD2018)_Virgin Islands</th>\n",
       "      <th>State abbreviation (HD2018)_Virginia</th>\n",
       "      <th>State abbreviation (HD2018)_Washington</th>\n",
       "      <th>State abbreviation (HD2018)_West Virginia</th>\n",
       "      <th>State abbreviation (HD2018)_Wisconsin</th>\n",
       "      <th>State abbreviation (HD2018)_Wyoming</th>\n",
       "      <th>State abbreviation (HD2018)_isMissing</th>\n",
       "      <th>Graduation rate  total cohort (DRVGR2019)</th>\n",
       "      <th>Graduation rate  Black  non-Hispanic (DRVGR2019)</th>\n",
       "    </tr>\n",
       "    <tr>\n",
       "      <th>UnitID</th>\n",
       "      <th></th>\n",
       "      <th></th>\n",
       "      <th></th>\n",
       "      <th></th>\n",
       "      <th></th>\n",
       "      <th></th>\n",
       "      <th></th>\n",
       "      <th></th>\n",
       "      <th></th>\n",
       "      <th></th>\n",
       "      <th></th>\n",
       "      <th></th>\n",
       "      <th></th>\n",
       "      <th></th>\n",
       "      <th></th>\n",
       "      <th></th>\n",
       "      <th></th>\n",
       "      <th></th>\n",
       "      <th></th>\n",
       "      <th></th>\n",
       "      <th></th>\n",
       "    </tr>\n",
       "  </thead>\n",
       "  <tbody>\n",
       "    <tr>\n",
       "      <th>180203</th>\n",
       "      <td>12</td>\n",
       "      <td>14</td>\n",
       "      <td>1</td>\n",
       "      <td>3</td>\n",
       "      <td>7078959.0</td>\n",
       "      <td>2.0</td>\n",
       "      <td>60.0</td>\n",
       "      <td>7.0</td>\n",
       "      <td>1.0</td>\n",
       "      <td>0.0</td>\n",
       "      <td>...</td>\n",
       "      <td>0.0</td>\n",
       "      <td>0.0</td>\n",
       "      <td>0.0</td>\n",
       "      <td>0.0</td>\n",
       "      <td>0.0</td>\n",
       "      <td>0.0</td>\n",
       "      <td>0.0</td>\n",
       "      <td>0.0</td>\n",
       "      <td>29.0</td>\n",
       "      <td>NaN</td>\n",
       "    </tr>\n",
       "    <tr>\n",
       "      <th>222178</th>\n",
       "      <td>15</td>\n",
       "      <td>19</td>\n",
       "      <td>5</td>\n",
       "      <td>19</td>\n",
       "      <td>136379482.0</td>\n",
       "      <td>57.0</td>\n",
       "      <td>4.0</td>\n",
       "      <td>17.0</td>\n",
       "      <td>18.0</td>\n",
       "      <td>0.0</td>\n",
       "      <td>...</td>\n",
       "      <td>0.0</td>\n",
       "      <td>0.0</td>\n",
       "      <td>0.0</td>\n",
       "      <td>0.0</td>\n",
       "      <td>0.0</td>\n",
       "      <td>0.0</td>\n",
       "      <td>0.0</td>\n",
       "      <td>0.0</td>\n",
       "      <td>61.0</td>\n",
       "      <td>53.0</td>\n",
       "    </tr>\n",
       "  </tbody>\n",
       "</table>\n",
       "<p>2 rows × 259 columns</p>\n",
       "</div>"
      ],
      "text/plain": [
       "        State  Carnegie_Classification_Size_Setting  Sector  \\\n",
       "UnitID                                                        \n",
       "180203     12                                    14       1   \n",
       "222178     15                                    19       5   \n",
       "\n",
       "        Carnegie_Classification_Basic  Core_Revenues  Tuition_And_Fees  \\\n",
       "UnitID                                                                   \n",
       "180203                              3      7078959.0               2.0   \n",
       "222178                             19    136379482.0              57.0   \n",
       "\n",
       "        Government_Grants  Private_Gifts  Investment_Return  \\\n",
       "UnitID                                                        \n",
       "180203               60.0            7.0                1.0   \n",
       "222178                4.0           17.0               18.0   \n",
       "\n",
       "        Sales_And_Services  ...  State abbreviation (HD2018)_Vermont  \\\n",
       "UnitID                      ...                                        \n",
       "180203                 0.0  ...                                  0.0   \n",
       "222178                 0.0  ...                                  0.0   \n",
       "\n",
       "        State abbreviation (HD2018)_Virgin Islands  \\\n",
       "UnitID                                               \n",
       "180203                                         0.0   \n",
       "222178                                         0.0   \n",
       "\n",
       "        State abbreviation (HD2018)_Virginia  \\\n",
       "UnitID                                         \n",
       "180203                                   0.0   \n",
       "222178                                   0.0   \n",
       "\n",
       "        State abbreviation (HD2018)_Washington  \\\n",
       "UnitID                                           \n",
       "180203                                     0.0   \n",
       "222178                                     0.0   \n",
       "\n",
       "        State abbreviation (HD2018)_West Virginia  \\\n",
       "UnitID                                              \n",
       "180203                                        0.0   \n",
       "222178                                        0.0   \n",
       "\n",
       "        State abbreviation (HD2018)_Wisconsin  \\\n",
       "UnitID                                          \n",
       "180203                                    0.0   \n",
       "222178                                    0.0   \n",
       "\n",
       "        State abbreviation (HD2018)_Wyoming  \\\n",
       "UnitID                                        \n",
       "180203                                  0.0   \n",
       "222178                                  0.0   \n",
       "\n",
       "        State abbreviation (HD2018)_isMissing  \\\n",
       "UnitID                                          \n",
       "180203                                    0.0   \n",
       "222178                                    0.0   \n",
       "\n",
       "        Graduation rate  total cohort (DRVGR2019)  \\\n",
       "UnitID                                              \n",
       "180203                                       29.0   \n",
       "222178                                       61.0   \n",
       "\n",
       "        Graduation rate  Black  non-Hispanic (DRVGR2019)  \n",
       "UnitID                                                    \n",
       "180203                                               NaN  \n",
       "222178                                              53.0  \n",
       "\n",
       "[2 rows x 259 columns]"
      ]
     },
     "execution_count": 38,
     "metadata": {},
     "output_type": "execute_result"
    }
   ],
   "source": [
    "df1.head(2)"
   ]
  },
  {
   "cell_type": "markdown",
   "id": "a13e8439",
   "metadata": {},
   "source": [
    "# Now Lets Try Again with New Features\n",
    "\n",
    "Also we will see that because we have so many features that are collinear an elastic net will have slightly better performance"
   ]
  },
  {
   "cell_type": "code",
   "execution_count": 39,
   "id": "7df46a41",
   "metadata": {},
   "outputs": [],
   "source": [
    "x3 = df1.drop(df1.columns[-2:], axis=1)\n",
    "y3 = df1[df1.columns[-2]]"
   ]
  },
  {
   "cell_type": "code",
   "execution_count": 40,
   "id": "593d8b59",
   "metadata": {},
   "outputs": [
    {
     "name": "stderr",
     "output_type": "stream",
     "text": [
      "/Users/robertcampbell/opt/anaconda3/lib/python3.8/site-packages/sklearn/linear_model/_coordinate_descent.py:530: ConvergenceWarning: Objective did not converge. You might want to increase the number of iterations. Duality gap: 128726.2542573049, tolerance: 77.37586349557522\n",
      "  model = cd_fast.enet_coordinate_descent(\n"
     ]
    }
   ],
   "source": [
    "mae, coefficients = elastic_results(x3, y3, 0.1, 0.5)"
   ]
  },
  {
   "cell_type": "code",
   "execution_count": 41,
   "id": "c204430c",
   "metadata": {},
   "outputs": [
    {
     "data": {
      "text/plain": [
       "9.52385588649032"
      ]
     },
     "execution_count": 41,
     "metadata": {},
     "output_type": "execute_result"
    }
   ],
   "source": [
    "mae"
   ]
  },
  {
   "cell_type": "markdown",
   "id": "a0eb5deb",
   "metadata": {},
   "source": [
    "# Feature Selection and Model Optimization"
   ]
  },
  {
   "cell_type": "code",
   "execution_count": 44,
   "id": "d2529e95",
   "metadata": {},
   "outputs": [],
   "source": [
    "x4 = df1.drop(df1.columns[-2:], axis=1)\n",
    "y4 = df1[df1.columns[-2]]"
   ]
  },
  {
   "cell_type": "code",
   "execution_count": 103,
   "id": "93600b52",
   "metadata": {},
   "outputs": [],
   "source": [
    "x_train, x_test, y_train, y_test = train_test_split(x4, y4, test_size = 0.2, random_state=1)"
   ]
  },
  {
   "cell_type": "code",
   "execution_count": 104,
   "id": "05b8fff5",
   "metadata": {},
   "outputs": [],
   "source": [
    "params = {\n",
    "    \"alpha\": np.linspace(0.05, 0.25, 5),\n",
    "    \"l1_ratio\": np.linspace(0,1,11)\n",
    "}"
   ]
  },
  {
   "cell_type": "code",
   "execution_count": 111,
   "id": "4e825f3e",
   "metadata": {},
   "outputs": [],
   "source": [
    "elastic_net = ElasticNet()\n",
    "clf = RandomizedSearchCV(elastic_net, params, random_state=42)"
   ]
  },
  {
   "cell_type": "code",
   "execution_count": 112,
   "id": "cf260cc7",
   "metadata": {
    "collapsed": true
   },
   "outputs": [
    {
     "name": "stderr",
     "output_type": "stream",
     "text": [
      "/Users/robertcampbell/opt/anaconda3/lib/python3.8/site-packages/sklearn/linear_model/_coordinate_descent.py:530: ConvergenceWarning: Objective did not converge. You might want to increase the number of iterations. Duality gap: 105990.98652066395, tolerance: 61.83100165975103\n",
      "  model = cd_fast.enet_coordinate_descent(\n",
      "/Users/robertcampbell/opt/anaconda3/lib/python3.8/site-packages/sklearn/linear_model/_coordinate_descent.py:530: ConvergenceWarning: Objective did not converge. You might want to increase the number of iterations. Duality gap: 107141.1356991462, tolerance: 61.73817482710928\n",
      "  model = cd_fast.enet_coordinate_descent(\n",
      "/Users/robertcampbell/opt/anaconda3/lib/python3.8/site-packages/sklearn/linear_model/_coordinate_descent.py:530: ConvergenceWarning: Objective did not converge. You might want to increase the number of iterations. Duality gap: 108417.75191873248, tolerance: 62.35603125864454\n",
      "  model = cd_fast.enet_coordinate_descent(\n",
      "/Users/robertcampbell/opt/anaconda3/lib/python3.8/site-packages/sklearn/linear_model/_coordinate_descent.py:530: ConvergenceWarning: Objective did not converge. You might want to increase the number of iterations. Duality gap: 107534.62387575628, tolerance: 63.014179958534896\n",
      "  model = cd_fast.enet_coordinate_descent(\n",
      "/Users/robertcampbell/opt/anaconda3/lib/python3.8/site-packages/sklearn/linear_model/_coordinate_descent.py:530: ConvergenceWarning: Objective did not converge. You might want to increase the number of iterations. Duality gap: 110092.80096682516, tolerance: 60.43962474084313\n",
      "  model = cd_fast.enet_coordinate_descent(\n",
      "/Users/robertcampbell/opt/anaconda3/lib/python3.8/site-packages/sklearn/linear_model/_coordinate_descent.py:530: ConvergenceWarning: Objective did not converge. You might want to increase the number of iterations. Duality gap: 100204.61403702204, tolerance: 61.83100165975103\n",
      "  model = cd_fast.enet_coordinate_descent(\n",
      "/Users/robertcampbell/opt/anaconda3/lib/python3.8/site-packages/sklearn/linear_model/_coordinate_descent.py:530: ConvergenceWarning: Objective did not converge. You might want to increase the number of iterations. Duality gap: 101408.49223120416, tolerance: 61.73817482710928\n",
      "  model = cd_fast.enet_coordinate_descent(\n",
      "/Users/robertcampbell/opt/anaconda3/lib/python3.8/site-packages/sklearn/linear_model/_coordinate_descent.py:530: ConvergenceWarning: Objective did not converge. You might want to increase the number of iterations. Duality gap: 102413.62794979145, tolerance: 62.35603125864454\n",
      "  model = cd_fast.enet_coordinate_descent(\n",
      "/Users/robertcampbell/opt/anaconda3/lib/python3.8/site-packages/sklearn/linear_model/_coordinate_descent.py:530: ConvergenceWarning: Objective did not converge. You might want to increase the number of iterations. Duality gap: 101647.88097031148, tolerance: 63.014179958534896\n",
      "  model = cd_fast.enet_coordinate_descent(\n",
      "/Users/robertcampbell/opt/anaconda3/lib/python3.8/site-packages/sklearn/linear_model/_coordinate_descent.py:530: ConvergenceWarning: Objective did not converge. You might want to increase the number of iterations. Duality gap: 103837.12049233688, tolerance: 60.43962474084313\n",
      "  model = cd_fast.enet_coordinate_descent(\n",
      "/Users/robertcampbell/opt/anaconda3/lib/python3.8/site-packages/sklearn/linear_model/_coordinate_descent.py:530: ConvergenceWarning: Objective did not converge. You might want to increase the number of iterations. Duality gap: 106099.41192954005, tolerance: 61.83100165975103\n",
      "  model = cd_fast.enet_coordinate_descent(\n",
      "/Users/robertcampbell/opt/anaconda3/lib/python3.8/site-packages/sklearn/linear_model/_coordinate_descent.py:530: ConvergenceWarning: Objective did not converge. You might want to increase the number of iterations. Duality gap: 107222.63625844414, tolerance: 61.73817482710928\n",
      "  model = cd_fast.enet_coordinate_descent(\n",
      "/Users/robertcampbell/opt/anaconda3/lib/python3.8/site-packages/sklearn/linear_model/_coordinate_descent.py:530: ConvergenceWarning: Objective did not converge. You might want to increase the number of iterations. Duality gap: 108510.59177346369, tolerance: 62.35603125864454\n",
      "  model = cd_fast.enet_coordinate_descent(\n",
      "/Users/robertcampbell/opt/anaconda3/lib/python3.8/site-packages/sklearn/linear_model/_coordinate_descent.py:530: ConvergenceWarning: Objective did not converge. You might want to increase the number of iterations. Duality gap: 107607.00518587757, tolerance: 63.014179958534896\n",
      "  model = cd_fast.enet_coordinate_descent(\n",
      "/Users/robertcampbell/opt/anaconda3/lib/python3.8/site-packages/sklearn/linear_model/_coordinate_descent.py:530: ConvergenceWarning: Objective did not converge. You might want to increase the number of iterations. Duality gap: 110079.59514768125, tolerance: 60.43962474084313\n",
      "  model = cd_fast.enet_coordinate_descent(\n",
      "/Users/robertcampbell/opt/anaconda3/lib/python3.8/site-packages/sklearn/linear_model/_coordinate_descent.py:530: ConvergenceWarning: Objective did not converge. You might want to increase the number of iterations. Duality gap: 102208.55548237315, tolerance: 61.83100165975103\n",
      "  model = cd_fast.enet_coordinate_descent(\n",
      "/Users/robertcampbell/opt/anaconda3/lib/python3.8/site-packages/sklearn/linear_model/_coordinate_descent.py:530: ConvergenceWarning: Objective did not converge. You might want to increase the number of iterations. Duality gap: 103391.70856782657, tolerance: 61.73817482710928\n",
      "  model = cd_fast.enet_coordinate_descent(\n",
      "/Users/robertcampbell/opt/anaconda3/lib/python3.8/site-packages/sklearn/linear_model/_coordinate_descent.py:530: ConvergenceWarning: Objective did not converge. You might want to increase the number of iterations. Duality gap: 104543.85903655099, tolerance: 62.35603125864454\n",
      "  model = cd_fast.enet_coordinate_descent(\n",
      "/Users/robertcampbell/opt/anaconda3/lib/python3.8/site-packages/sklearn/linear_model/_coordinate_descent.py:530: ConvergenceWarning: Objective did not converge. You might want to increase the number of iterations. Duality gap: 103750.60974666214, tolerance: 63.014179958534896\n",
      "  model = cd_fast.enet_coordinate_descent(\n",
      "/Users/robertcampbell/opt/anaconda3/lib/python3.8/site-packages/sklearn/linear_model/_coordinate_descent.py:530: ConvergenceWarning: Objective did not converge. You might want to increase the number of iterations. Duality gap: 106244.23156080794, tolerance: 60.43962474084313\n",
      "  model = cd_fast.enet_coordinate_descent(\n",
      "/Users/robertcampbell/opt/anaconda3/lib/python3.8/site-packages/sklearn/linear_model/_coordinate_descent.py:530: ConvergenceWarning: Objective did not converge. You might want to increase the number of iterations. Duality gap: 103865.4427511891, tolerance: 61.83100165975103\n",
      "  model = cd_fast.enet_coordinate_descent(\n",
      "/Users/robertcampbell/opt/anaconda3/lib/python3.8/site-packages/sklearn/linear_model/_coordinate_descent.py:530: ConvergenceWarning: Objective did not converge. You might want to increase the number of iterations. Duality gap: 105079.95653282623, tolerance: 61.73817482710928\n",
      "  model = cd_fast.enet_coordinate_descent(\n",
      "/Users/robertcampbell/opt/anaconda3/lib/python3.8/site-packages/sklearn/linear_model/_coordinate_descent.py:530: ConvergenceWarning: Objective did not converge. You might want to increase the number of iterations. Duality gap: 106221.0660911183, tolerance: 62.35603125864454\n",
      "  model = cd_fast.enet_coordinate_descent(\n",
      "/Users/robertcampbell/opt/anaconda3/lib/python3.8/site-packages/sklearn/linear_model/_coordinate_descent.py:530: ConvergenceWarning: Objective did not converge. You might want to increase the number of iterations. Duality gap: 105569.72905573662, tolerance: 63.014179958534896\n",
      "  model = cd_fast.enet_coordinate_descent(\n",
      "/Users/robertcampbell/opt/anaconda3/lib/python3.8/site-packages/sklearn/linear_model/_coordinate_descent.py:530: ConvergenceWarning: Objective did not converge. You might want to increase the number of iterations. Duality gap: 107761.26080416371, tolerance: 60.43962474084313\n",
      "  model = cd_fast.enet_coordinate_descent(\n",
      "/Users/robertcampbell/opt/anaconda3/lib/python3.8/site-packages/sklearn/linear_model/_coordinate_descent.py:530: ConvergenceWarning: Objective did not converge. You might want to increase the number of iterations. Duality gap: 106694.15564009901, tolerance: 61.83100165975103\n",
      "  model = cd_fast.enet_coordinate_descent(\n"
     ]
    },
    {
     "name": "stderr",
     "output_type": "stream",
     "text": [
      "/Users/robertcampbell/opt/anaconda3/lib/python3.8/site-packages/sklearn/linear_model/_coordinate_descent.py:530: ConvergenceWarning: Objective did not converge. You might want to increase the number of iterations. Duality gap: 107848.64883023225, tolerance: 61.73817482710928\n",
      "  model = cd_fast.enet_coordinate_descent(\n",
      "/Users/robertcampbell/opt/anaconda3/lib/python3.8/site-packages/sklearn/linear_model/_coordinate_descent.py:530: ConvergenceWarning: Objective did not converge. You might want to increase the number of iterations. Duality gap: 109244.69425975977, tolerance: 62.35603125864454\n",
      "  model = cd_fast.enet_coordinate_descent(\n",
      "/Users/robertcampbell/opt/anaconda3/lib/python3.8/site-packages/sklearn/linear_model/_coordinate_descent.py:530: ConvergenceWarning: Objective did not converge. You might want to increase the number of iterations. Duality gap: 108095.7905663077, tolerance: 63.014179958534896\n",
      "  model = cd_fast.enet_coordinate_descent(\n",
      "/Users/robertcampbell/opt/anaconda3/lib/python3.8/site-packages/sklearn/linear_model/_coordinate_descent.py:530: ConvergenceWarning: Objective did not converge. You might want to increase the number of iterations. Duality gap: 111222.12019521711, tolerance: 60.43962474084313\n",
      "  model = cd_fast.enet_coordinate_descent(\n",
      "/Users/robertcampbell/opt/anaconda3/lib/python3.8/site-packages/sklearn/linear_model/_coordinate_descent.py:530: ConvergenceWarning: Objective did not converge. You might want to increase the number of iterations. Duality gap: 106983.16451751841, tolerance: 61.83100165975103\n",
      "  model = cd_fast.enet_coordinate_descent(\n",
      "/Users/robertcampbell/opt/anaconda3/lib/python3.8/site-packages/sklearn/linear_model/_coordinate_descent.py:530: ConvergenceWarning: Objective did not converge. You might want to increase the number of iterations. Duality gap: 108091.01330525966, tolerance: 61.73817482710928\n",
      "  model = cd_fast.enet_coordinate_descent(\n",
      "/Users/robertcampbell/opt/anaconda3/lib/python3.8/site-packages/sklearn/linear_model/_coordinate_descent.py:530: ConvergenceWarning: Objective did not converge. You might want to increase the number of iterations. Duality gap: 109430.4460779885, tolerance: 62.35603125864454\n",
      "  model = cd_fast.enet_coordinate_descent(\n",
      "/Users/robertcampbell/opt/anaconda3/lib/python3.8/site-packages/sklearn/linear_model/_coordinate_descent.py:530: ConvergenceWarning: Objective did not converge. You might want to increase the number of iterations. Duality gap: 108306.80792227159, tolerance: 63.014179958534896\n",
      "  model = cd_fast.enet_coordinate_descent(\n",
      "/Users/robertcampbell/opt/anaconda3/lib/python3.8/site-packages/sklearn/linear_model/_coordinate_descent.py:530: ConvergenceWarning: Objective did not converge. You might want to increase the number of iterations. Duality gap: 111352.54083201796, tolerance: 60.43962474084313\n",
      "  model = cd_fast.enet_coordinate_descent(\n",
      "/Users/robertcampbell/opt/anaconda3/lib/python3.8/site-packages/sklearn/linear_model/_coordinate_descent.py:530: ConvergenceWarning: Objective did not converge. You might want to increase the number of iterations. Duality gap: 104465.15083720496, tolerance: 61.83100165975103\n",
      "  model = cd_fast.enet_coordinate_descent(\n",
      "/Users/robertcampbell/opt/anaconda3/lib/python3.8/site-packages/sklearn/linear_model/_coordinate_descent.py:530: ConvergenceWarning: Objective did not converge. You might want to increase the number of iterations. Duality gap: 105636.62050649748, tolerance: 61.73817482710928\n",
      "  model = cd_fast.enet_coordinate_descent(\n",
      "/Users/robertcampbell/opt/anaconda3/lib/python3.8/site-packages/sklearn/linear_model/_coordinate_descent.py:530: ConvergenceWarning: Objective did not converge. You might want to increase the number of iterations. Duality gap: 106917.92576557567, tolerance: 62.35603125864454\n",
      "  model = cd_fast.enet_coordinate_descent(\n",
      "/Users/robertcampbell/opt/anaconda3/lib/python3.8/site-packages/sklearn/linear_model/_coordinate_descent.py:530: ConvergenceWarning: Objective did not converge. You might want to increase the number of iterations. Duality gap: 106056.888210927, tolerance: 63.014179958534896\n",
      "  model = cd_fast.enet_coordinate_descent(\n",
      "/Users/robertcampbell/opt/anaconda3/lib/python3.8/site-packages/sklearn/linear_model/_coordinate_descent.py:530: ConvergenceWarning: Objective did not converge. You might want to increase the number of iterations. Duality gap: 108725.15474592645, tolerance: 60.43962474084313\n",
      "  model = cd_fast.enet_coordinate_descent(\n",
      "/Users/robertcampbell/opt/anaconda3/lib/python3.8/site-packages/sklearn/linear_model/_coordinate_descent.py:530: ConvergenceWarning: Objective did not converge. You might want to increase the number of iterations. Duality gap: 107485.62166030903, tolerance: 61.83100165975103\n",
      "  model = cd_fast.enet_coordinate_descent(\n",
      "/Users/robertcampbell/opt/anaconda3/lib/python3.8/site-packages/sklearn/linear_model/_coordinate_descent.py:530: ConvergenceWarning: Objective did not converge. You might want to increase the number of iterations. Duality gap: 108532.1567197424, tolerance: 61.73817482710928\n",
      "  model = cd_fast.enet_coordinate_descent(\n",
      "/Users/robertcampbell/opt/anaconda3/lib/python3.8/site-packages/sklearn/linear_model/_coordinate_descent.py:530: ConvergenceWarning: Objective did not converge. You might want to increase the number of iterations. Duality gap: 109830.68646444523, tolerance: 62.35603125864454\n",
      "  model = cd_fast.enet_coordinate_descent(\n",
      "/Users/robertcampbell/opt/anaconda3/lib/python3.8/site-packages/sklearn/linear_model/_coordinate_descent.py:530: ConvergenceWarning: Objective did not converge. You might want to increase the number of iterations. Duality gap: 108680.65951649041, tolerance: 63.014179958534896\n",
      "  model = cd_fast.enet_coordinate_descent(\n",
      "/Users/robertcampbell/opt/anaconda3/lib/python3.8/site-packages/sklearn/linear_model/_coordinate_descent.py:530: ConvergenceWarning: Objective did not converge. You might want to increase the number of iterations. Duality gap: 111713.58903701986, tolerance: 60.43962474084313\n",
      "  model = cd_fast.enet_coordinate_descent(\n",
      "/Users/robertcampbell/opt/anaconda3/lib/python3.8/site-packages/sklearn/linear_model/_coordinate_descent.py:530: ConvergenceWarning: Objective did not converge. You might want to increase the number of iterations. Duality gap: 101774.08564352129, tolerance: 61.83100165975103\n",
      "  model = cd_fast.enet_coordinate_descent(\n",
      "/Users/robertcampbell/opt/anaconda3/lib/python3.8/site-packages/sklearn/linear_model/_coordinate_descent.py:530: ConvergenceWarning: Objective did not converge. You might want to increase the number of iterations. Duality gap: 102955.21010415925, tolerance: 61.73817482710928\n",
      "  model = cd_fast.enet_coordinate_descent(\n",
      "/Users/robertcampbell/opt/anaconda3/lib/python3.8/site-packages/sklearn/linear_model/_coordinate_descent.py:530: ConvergenceWarning: Objective did not converge. You might want to increase the number of iterations. Duality gap: 104097.16692726701, tolerance: 62.35603125864454\n",
      "  model = cd_fast.enet_coordinate_descent(\n",
      "/Users/robertcampbell/opt/anaconda3/lib/python3.8/site-packages/sklearn/linear_model/_coordinate_descent.py:530: ConvergenceWarning: Objective did not converge. You might want to increase the number of iterations. Duality gap: 103294.63369634491, tolerance: 63.014179958534896\n",
      "  model = cd_fast.enet_coordinate_descent(\n",
      "/Users/robertcampbell/opt/anaconda3/lib/python3.8/site-packages/sklearn/linear_model/_coordinate_descent.py:530: ConvergenceWarning: Objective did not converge. You might want to increase the number of iterations. Duality gap: 105802.19934170079, tolerance: 60.43962474084313\n",
      "  model = cd_fast.enet_coordinate_descent(\n",
      "/Users/robertcampbell/opt/anaconda3/lib/python3.8/site-packages/sklearn/linear_model/_coordinate_descent.py:530: ConvergenceWarning: Objective did not converge. You might want to increase the number of iterations. Duality gap: 129939.41017565978, tolerance: 77.36846543141593\n",
      "  model = cd_fast.enet_coordinate_descent(\n"
     ]
    },
    {
     "data": {
      "text/plain": [
       "RandomizedSearchCV(estimator=ElasticNet(),\n",
       "                   param_distributions={'alpha': array([0.05, 0.1 , 0.15, 0.2 , 0.25]),\n",
       "                                        'l1_ratio': array([0. , 0.1, 0.2, 0.3, 0.4, 0.5, 0.6, 0.7, 0.8, 0.9, 1. ])},\n",
       "                   random_state=42)"
      ]
     },
     "execution_count": 112,
     "metadata": {},
     "output_type": "execute_result"
    }
   ],
   "source": [
    "clf.fit(x_train, y_train)"
   ]
  },
  {
   "cell_type": "code",
   "execution_count": 113,
   "id": "3493f7b8",
   "metadata": {},
   "outputs": [],
   "source": [
    "y_pred = clf.predict(x_test)"
   ]
  },
  {
   "cell_type": "code",
   "execution_count": 114,
   "id": "d7f0a665",
   "metadata": {},
   "outputs": [
    {
     "data": {
      "text/plain": [
       "9.159021211361877"
      ]
     },
     "execution_count": 114,
     "metadata": {},
     "output_type": "execute_result"
    }
   ],
   "source": [
    "mean_absolute_error(y_pred, y_test)"
   ]
  },
  {
   "cell_type": "code",
   "execution_count": 51,
   "id": "6f5b488b",
   "metadata": {},
   "outputs": [
    {
     "data": {
      "text/plain": [
       "array([30.8130501 , 93.0748401 , 47.02232588, 42.91322439, 50.4919191 ])"
      ]
     },
     "execution_count": 51,
     "metadata": {},
     "output_type": "execute_result"
    }
   ],
   "source": [
    "y_pred[10:15]"
   ]
  },
  {
   "cell_type": "code",
   "execution_count": 52,
   "id": "7d4e7047",
   "metadata": {
    "collapsed": true
   },
   "outputs": [
    {
     "data": {
      "text/plain": [
       "UnitID\n",
       "236188    24.0\n",
       "164988    88.0\n",
       "130989    58.0\n",
       "481410    25.0\n",
       "366553    24.0\n",
       "Name: Graduation rate  total cohort (DRVGR2019), dtype: float64"
      ]
     },
     "execution_count": 52,
     "metadata": {},
     "output_type": "execute_result"
    }
   ],
   "source": [
    "y_test[10:15]"
   ]
  },
  {
   "cell_type": "markdown",
   "id": "5042a6b5",
   "metadata": {},
   "source": [
    "# We can try to improve accuracy with XG Boost"
   ]
  },
  {
   "cell_type": "code",
   "execution_count": 221,
   "id": "798f314f",
   "metadata": {},
   "outputs": [],
   "source": [
    "tree_params = {\n",
    "    \"clf__booster\": ['gbtree'],\n",
    "    \"clf__n_estimators\": np.arange(50,250,5),\n",
    "    \"clf__max_depth\": np.arange(1,12,1),\n",
    "    \"clf__subsample\": np.arange(0,1,0.05),\n",
    "    \"clf__colsample_bytree\": np.arange(0,1,0.05)\n",
    "    \n",
    "    \n",
    "}"
   ]
  },
  {
   "cell_type": "code",
   "execution_count": 119,
   "id": "7685d1d0",
   "metadata": {},
   "outputs": [],
   "source": [
    "params={\"objective\": \"reg:squarederror\", \"max_depth\": 4}"
   ]
  },
  {
   "cell_type": "code",
   "execution_count": 120,
   "id": "03f6eee1",
   "metadata": {},
   "outputs": [],
   "source": [
    "matrix = xgb.DMatrix(x4,y4)"
   ]
  },
  {
   "cell_type": "code",
   "execution_count": 121,
   "id": "88432e01",
   "metadata": {},
   "outputs": [],
   "source": [
    "cv_results = xgb.cv(dtrain=matrix, params=params, nfold=5, \n",
    "                    as_pandas=True, seed=123, \n",
    "                    num_boost_round=50, metrics=\"mae\")"
   ]
  },
  {
   "cell_type": "code",
   "execution_count": 122,
   "id": "41bd4478",
   "metadata": {},
   "outputs": [
    {
     "data": {
      "text/plain": [
       "49    8.862576\n",
       "Name: test-mae-mean, dtype: float64"
      ]
     },
     "execution_count": 122,
     "metadata": {},
     "output_type": "execute_result"
    }
   ],
   "source": [
    "cv_results[\"test-mae-mean\"].tail(1)"
   ]
  },
  {
   "cell_type": "code",
   "execution_count": 94,
   "id": "5b57e189",
   "metadata": {},
   "outputs": [],
   "source": [
    "reg_params = {\n",
    "    \"objective\": \"reg:squarederror\",\n",
    "    \"booster\": \"gblinear\",\n",
    "    \"alpha\": 0.001, #L1 Regularization Parameter\n",
    "    \"lambda\": 0.001, #L2 Regularization Parameter\n",
    "    \n",
    "}"
   ]
  },
  {
   "cell_type": "code",
   "execution_count": 131,
   "id": "f0515519",
   "metadata": {},
   "outputs": [],
   "source": [
    "cv_results = xgb.cv(dtrain=matrix, params=reg_params, nfold=5, \n",
    "                    as_pandas=True, seed=12, \n",
    "                    num_boost_round=50, metrics=\"mae\")"
   ]
  },
  {
   "cell_type": "code",
   "execution_count": 132,
   "id": "4916c7ed",
   "metadata": {
    "collapsed": true
   },
   "outputs": [
    {
     "data": {
      "text/plain": [
       "49    9.896423\n",
       "Name: test-mae-mean, dtype: float64"
      ]
     },
     "execution_count": 132,
     "metadata": {},
     "output_type": "execute_result"
    }
   ],
   "source": [
    "cv_results[\"test-mae-mean\"].tail(1)"
   ]
  },
  {
   "cell_type": "code",
   "execution_count": 79,
   "id": "af7ede75",
   "metadata": {
    "collapsed": true
   },
   "outputs": [
    {
     "data": {
      "text/plain": [
       "[(0.001,\n",
       "  19    10.52388\n",
       "  Name: test-mae-mean, dtype: float64),\n",
       " (0.01,\n",
       "  19    10.58098\n",
       "  Name: test-mae-mean, dtype: float64),\n",
       " (0.1,\n",
       "  19    10.813402\n",
       "  Name: test-mae-mean, dtype: float64),\n",
       " (1,\n",
       "  19    11.041414\n",
       "  Name: test-mae-mean, dtype: float64),\n",
       " (10,\n",
       "  19    11.492177\n",
       "  Name: test-mae-mean, dtype: float64)]"
      ]
     },
     "execution_count": 79,
     "metadata": {},
     "output_type": "execute_result"
    }
   ],
   "source": [
    "lambda_list = [0.001, 0.01, 0.1, 1, 10]\n",
    "results = []\n",
    "for i in lambda_list:\n",
    "    reg_params[\"alpha\"] = i\n",
    "    cv_results = xgb.cv(dtrain=matrix, params=reg_params, nfold=5, \n",
    "                    as_pandas=True, seed=123, \n",
    "                    num_boost_round=20, metrics=\"mae\")\n",
    "    \n",
    "    results.append((i, cv_results[\"test-mae-mean\"].tail(1)))\n",
    "results"
   ]
  },
  {
   "cell_type": "markdown",
   "id": "b333875b",
   "metadata": {},
   "source": [
    "# Elastic Net Will be our model of choice\n",
    "\n",
    "XB boosting has slightly more accurate predictions; however the elastic net is much more easy to interperate. "
   ]
  },
  {
   "cell_type": "code",
   "execution_count": 167,
   "id": "21492f48",
   "metadata": {},
   "outputs": [],
   "source": [
    "e_net = clf.best_estimator_"
   ]
  },
  {
   "cell_type": "code",
   "execution_count": 184,
   "id": "5b9e092f",
   "metadata": {},
   "outputs": [
    {
     "data": {
      "text/plain": [
       "['data/GradRatesModel.joblib']"
      ]
     },
     "execution_count": 184,
     "metadata": {},
     "output_type": "execute_result"
    }
   ],
   "source": [
    "dump(e_net, 'data/GradRatesModel.joblib') "
   ]
  },
  {
   "cell_type": "code",
   "execution_count": 174,
   "id": "f25f56e5",
   "metadata": {
    "collapsed": true
   },
   "outputs": [
    {
     "data": {
      "text/plain": [
       "array([ 2.31208512e-01,  7.95373915e-01,  1.01919316e+00,  2.84971475e-01,\n",
       "        1.91204585e-08,  7.07323368e-02, -1.22867389e-01,  1.00261714e-01,\n",
       "        8.44189123e-02,  1.88489630e+00,  1.24986875e-01, -1.70516179e-08,\n",
       "        1.06784316e-08, -9.81830895e-09, -1.53213301e-08, -8.05039041e-08,\n",
       "       -9.72108854e-09, -9.48401285e-09,  9.12843379e-02,  3.80426420e-01,\n",
       "       -3.96069386e-02,  7.25313644e-03, -1.48532726e-01, -1.63313559e-02,\n",
       "        1.01056924e-01, -6.81619821e-09, -2.65612707e-08,  6.48543014e-09,\n",
       "       -8.97078815e-09,  5.30278388e-08, -1.19938751e-08,  2.71605712e-09,\n",
       "        5.59699119e-03,  4.54617115e-03, -1.28791616e-02,  0.00000000e+00,\n",
       "        4.63430523e-01, -3.44074571e-01, -4.05335958e-02, -2.60652690e-02,\n",
       "        6.32086769e-02,  0.00000000e+00, -1.36718412e-01,  1.58723518e-01,\n",
       "       -1.61252601e-02, -1.10182092e-02,  0.00000000e+00, -2.75539396e-02,\n",
       "       -4.42826778e-01,  0.00000000e+00,  1.53743518e-02,  1.29585518e-02,\n",
       "       -3.71856610e-02,  3.68690988e-02,  0.00000000e+00,  1.65849765e-03,\n",
       "        0.00000000e+00,  3.09192921e-02, -1.19157965e-02, -2.48362877e-03,\n",
       "       -4.74220976e-02,  8.90042218e-02,  7.89326556e-02, -6.54842890e-03,\n",
       "        0.00000000e+00, -4.59628079e-01,  8.61965626e-01, -4.31004284e-02,\n",
       "       -2.05152562e-02, -0.00000000e+00,  0.00000000e+00,  1.69256734e-01,\n",
       "       -4.59347868e-02,  1.58341500e-02, -0.00000000e+00,  1.86564745e-03,\n",
       "        0.00000000e+00,  3.73572190e-01, -7.08004317e-02, -0.00000000e+00,\n",
       "       -7.40819637e-02,  5.48781819e-02,  0.00000000e+00,  1.83826793e-01,\n",
       "       -0.00000000e+00, -4.97461941e-02,  0.00000000e+00, -1.09077639e-01,\n",
       "        0.00000000e+00,  1.12557939e-01, -0.00000000e+00,  1.56198408e-01,\n",
       "       -1.98194126e-01,  3.57810529e-02,  2.37413043e-01,  3.75799089e-01,\n",
       "       -1.03871211e-02,  7.43375843e-02,  2.85675106e-01,  2.44551987e-01,\n",
       "        9.69831708e-02,  1.74439154e-01,  1.09056087e-01,  2.85169087e-02,\n",
       "       -2.41987647e-04, -8.62575093e-04,  1.43951449e-03, -7.01497098e-04,\n",
       "        2.58129167e-04, -3.12173352e-04, -1.82786909e-04,  2.11222009e+00,\n",
       "        0.00000000e+00,  1.87953327e+00, -2.11386413e+00,  0.00000000e+00,\n",
       "       -2.26568213e+00,  2.19794639e-04,  4.74713415e-02, -8.71498625e-03,\n",
       "        5.23539372e-02,  8.00333083e-01, -0.00000000e+00, -0.00000000e+00,\n",
       "       -0.00000000e+00, -0.00000000e+00,  0.00000000e+00, -4.66936971e-02,\n",
       "        0.00000000e+00, -1.13706327e+00,  0.00000000e+00, -0.00000000e+00,\n",
       "       -3.36683859e-01, -5.49957609e-01, -1.00884243e+00, -3.76502024e-01,\n",
       "        1.26466725e+00,  1.38254771e+00, -0.00000000e+00, -0.00000000e+00,\n",
       "        1.37609357e+00,  0.00000000e+00, -0.00000000e+00, -2.08624935e+00,\n",
       "        0.00000000e+00,  1.69342814e-01,  3.42504722e-01,  3.50305139e-01,\n",
       "        0.00000000e+00,  0.00000000e+00, -0.00000000e+00,  0.00000000e+00,\n",
       "        0.00000000e+00,  0.00000000e+00,  2.33401808e+00,  0.00000000e+00,\n",
       "        4.35782246e-02, -1.15825374e+00, -3.42002055e-01, -0.00000000e+00,\n",
       "       -3.64545058e-02,  0.00000000e+00, -0.00000000e+00, -0.00000000e+00,\n",
       "       -1.07067991e+00,  6.18210904e-01,  0.00000000e+00, -0.00000000e+00,\n",
       "        0.00000000e+00, -2.23033170e+00,  6.32735307e-01, -1.45592990e+00,\n",
       "        1.57307769e+00,  8.04949786e-01, -0.00000000e+00, -0.00000000e+00,\n",
       "       -0.00000000e+00,  7.88353772e-01, -0.00000000e+00, -0.00000000e+00,\n",
       "        0.00000000e+00,  0.00000000e+00,  0.00000000e+00, -1.70293582e+00,\n",
       "       -0.00000000e+00, -1.06785780e+00,  4.56296183e-01,  0.00000000e+00,\n",
       "        4.00991319e-01,  1.33824655e+00,  7.69461275e-01, -4.65730118e+00,\n",
       "        8.13878514e-03,  0.00000000e+00,  0.00000000e+00, -4.73915079e-01,\n",
       "        0.00000000e+00, -1.08754208e+00,  0.00000000e+00, -0.00000000e+00,\n",
       "        0.00000000e+00,  0.00000000e+00, -0.00000000e+00, -1.56083076e-01,\n",
       "       -1.39208620e-01, -0.00000000e+00, -0.00000000e+00,  0.00000000e+00,\n",
       "        0.00000000e+00,  2.48204029e+00, -0.00000000e+00, -0.00000000e+00,\n",
       "       -0.00000000e+00, -0.00000000e+00, -1.88215773e+00,  2.94592012e-01,\n",
       "        0.00000000e+00, -0.00000000e+00, -4.92690438e-01, -0.00000000e+00,\n",
       "       -0.00000000e+00, -0.00000000e+00,  0.00000000e+00, -0.00000000e+00,\n",
       "       -2.34267798e-01,  1.12174914e-01,  0.00000000e+00, -0.00000000e+00,\n",
       "       -0.00000000e+00, -0.00000000e+00,  0.00000000e+00, -0.00000000e+00,\n",
       "        0.00000000e+00, -0.00000000e+00, -7.12647772e-01,  0.00000000e+00,\n",
       "        1.72026969e-01,  0.00000000e+00, -0.00000000e+00, -0.00000000e+00,\n",
       "       -0.00000000e+00,  7.10102389e-01, -0.00000000e+00,  0.00000000e+00,\n",
       "        2.81024275e-01,  0.00000000e+00,  0.00000000e+00, -2.78782939e-01,\n",
       "       -0.00000000e+00,  0.00000000e+00,  0.00000000e+00, -2.00531638e-01,\n",
       "        1.17774227e+00,  6.31123731e-01,  0.00000000e+00,  0.00000000e+00,\n",
       "        0.00000000e+00])"
      ]
     },
     "execution_count": 174,
     "metadata": {},
     "output_type": "execute_result"
    }
   ],
   "source": [
    "e_net.coef_"
   ]
  },
  {
   "cell_type": "code",
   "execution_count": 178,
   "id": "268eaf41",
   "metadata": {},
   "outputs": [],
   "source": [
    "coefs_dict = dict(zip(x3.columns, e_net.coef_)) "
   ]
  },
  {
   "cell_type": "code",
   "execution_count": 181,
   "id": "5ca8b65b",
   "metadata": {},
   "outputs": [],
   "source": [
    "sorted_coef = sorted(coefs_dict.items(), key=lambda item: item[1])"
   ]
  },
  {
   "cell_type": "code",
   "execution_count": 185,
   "id": "8fdd43aa",
   "metadata": {},
   "outputs": [
    {
     "data": {
      "text/plain": [
       "['data/GradRatesCoefs.joblib']"
      ]
     },
     "execution_count": 185,
     "metadata": {},
     "output_type": "execute_result"
    }
   ],
   "source": [
    "dump(sorted_coef, 'data/GradRatesCoefs.joblib')"
   ]
  },
  {
   "cell_type": "code",
   "execution_count": null,
   "id": "0b1c3e4b",
   "metadata": {},
   "outputs": [],
   "source": []
  }
 ],
 "metadata": {
  "kernelspec": {
   "display_name": "Python 3 (ipykernel)",
   "language": "python",
   "name": "python3"
  },
  "language_info": {
   "codemirror_mode": {
    "name": "ipython",
    "version": 3
   },
   "file_extension": ".py",
   "mimetype": "text/x-python",
   "name": "python",
   "nbconvert_exporter": "python",
   "pygments_lexer": "ipython3",
   "version": "3.8.5"
  }
 },
 "nbformat": 4,
 "nbformat_minor": 5
}
