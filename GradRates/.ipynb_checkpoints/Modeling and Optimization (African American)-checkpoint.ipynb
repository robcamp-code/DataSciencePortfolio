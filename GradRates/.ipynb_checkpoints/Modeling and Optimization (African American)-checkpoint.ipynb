{
 "cells": [
  {
   "cell_type": "code",
   "execution_count": 1,
   "id": "66874348",
   "metadata": {},
   "outputs": [
    {
     "data": {
      "text/html": [
       "        <script type=\"text/javascript\">\n",
       "        window.PlotlyConfig = {MathJaxConfig: 'local'};\n",
       "        if (window.MathJax) {MathJax.Hub.Config({SVG: {font: \"STIX-Web\"}});}\n",
       "        if (typeof require !== 'undefined') {\n",
       "        require.undef(\"plotly\");\n",
       "        requirejs.config({\n",
       "            paths: {\n",
       "                'plotly': ['https://cdn.plot.ly/plotly-2.4.2.min']\n",
       "            }\n",
       "        });\n",
       "        require(['plotly'], function(Plotly) {\n",
       "            window._Plotly = Plotly;\n",
       "        });\n",
       "        }\n",
       "        </script>\n",
       "        "
      ]
     },
     "metadata": {},
     "output_type": "display_data"
    },
    {
     "data": {
      "text/html": [
       "        <script type=\"text/javascript\">\n",
       "        window.PlotlyConfig = {MathJaxConfig: 'local'};\n",
       "        if (window.MathJax) {MathJax.Hub.Config({SVG: {font: \"STIX-Web\"}});}\n",
       "        if (typeof require !== 'undefined') {\n",
       "        require.undef(\"plotly\");\n",
       "        requirejs.config({\n",
       "            paths: {\n",
       "                'plotly': ['https://cdn.plot.ly/plotly-2.4.2.min']\n",
       "            }\n",
       "        });\n",
       "        require(['plotly'], function(Plotly) {\n",
       "            window._Plotly = Plotly;\n",
       "        });\n",
       "        }\n",
       "        </script>\n",
       "        "
      ]
     },
     "metadata": {},
     "output_type": "display_data"
    }
   ],
   "source": [
    "import pandas as pd\n",
    "import numpy as np\n",
    "import xgboost as xgb\n",
    "import copy\n",
    "#conda install -c conda-forge cufflinks-py\n",
    "#conda install plotly\n",
    "import ipywidgets as wg\n",
    "from IPython.display import display\n",
    "\n",
    "import cufflinks as cf\n",
    "import chart_studio.plotly as py\n",
    "import plotly.express as px\n",
    "from plotly.subplots import make_subplots\n",
    "import plotly.graph_objects as go\n",
    "import matplotlib.pyplot as plt\n",
    "from plotly.offline import download_plotlyjs, init_notebook_mode, plot, iplot\n",
    "import inspect\n",
    "import seaborn as sns\n",
    "\n",
    "from matplotlib import pyplot as plt\n",
    "init_notebook_mode(connected=True)\n",
    "cf.go_offline()\n",
    "from sklearn.model_selection import train_test_split, RandomizedSearchCV, GridSearchCV, cross_val_score\n",
    "from sklearn.preprocessing import OneHotEncoder, StandardScaler, MinMaxScaler, Normalizer, PolynomialFeatures\n",
    "from sklearn.experimental import enable_iterative_imputer\n",
    "from sklearn.impute import IterativeImputer, KNNImputer, SimpleImputer\n",
    "from sklearn.pipeline import FeatureUnion, Pipeline\n",
    "from sklearn.compose import ColumnTransformer, make_column_selector\n",
    "from sklearn.base import TransformerMixin, BaseEstimator\n",
    "pd.options.display.max_columns = 200\n",
    "pd.options.display.max_rows = 272"
   ]
  },
  {
   "cell_type": "code",
   "execution_count": 2,
   "id": "d9f55a25",
   "metadata": {},
   "outputs": [],
   "source": [
    "from sklearn.feature_selection import SelectKBest, VarianceThreshold, RFE, SelectFromModel\n",
    "from sklearn.linear_model import Ridge, Lasso, ElasticNet\n",
    "from sklearn.ensemble import RandomForestRegressor\n",
    "from sklearn.metrics import mean_squared_error, explained_variance_score, mean_absolute_error, make_scorer\n",
    "from sklearn.pipeline import make_pipeline, Pipeline\n",
    "from sklearn.decomposition import PCA\n",
    "from joblib import dump, load\n",
    "from Logger import RegressionLogger, FuncTransformer, ColSelect"
   ]
  },
  {
   "cell_type": "code",
   "execution_count": 3,
   "id": "135c0f5b",
   "metadata": {},
   "outputs": [],
   "source": [
    "import inspect"
   ]
  },
  {
   "cell_type": "code",
   "execution_count": 4,
   "id": "e04bf2a4",
   "metadata": {},
   "outputs": [],
   "source": [
    "log_transformed = 0      "
   ]
  },
  {
   "cell_type": "code",
   "execution_count": 5,
   "id": "b633a4b0",
   "metadata": {},
   "outputs": [],
   "source": [
    "model_log = load(\"data/model_logging.joblib\")"
   ]
  },
  {
   "cell_type": "code",
   "execution_count": 6,
   "id": "265fba15",
   "metadata": {},
   "outputs": [],
   "source": [
    "current_model = copy.deepcopy(model_log[0][\"model\"])"
   ]
  },
  {
   "cell_type": "markdown",
   "id": "acca6efb",
   "metadata": {},
   "source": [
    "# Now Lets Load our original Data"
   ]
  },
  {
   "cell_type": "code",
   "execution_count": 7,
   "id": "50ef0d50",
   "metadata": {},
   "outputs": [],
   "source": [
    "df = pd.read_csv(\"data/cleaned_df.csv\", index_col=\"UnitID\")"
   ]
  },
  {
   "cell_type": "code",
   "execution_count": 8,
   "id": "5a463fce",
   "metadata": {},
   "outputs": [],
   "source": [
    "df.drop(\"Unnamed: 0\",axis=1, inplace=True)"
   ]
  },
  {
   "cell_type": "code",
   "execution_count": 9,
   "id": "370e91b6",
   "metadata": {},
   "outputs": [],
   "source": [
    "df.drop([\"City location of institution (HD2019)\", \"Institution Name\"], axis=1, inplace=True)"
   ]
  },
  {
   "cell_type": "code",
   "execution_count": 10,
   "id": "08251436",
   "metadata": {},
   "outputs": [],
   "source": [
    "X = df.iloc[:, :-14]\n",
    "y = df.iloc[:,-14]"
   ]
  },
  {
   "cell_type": "code",
   "execution_count": 11,
   "id": "6fab514b",
   "metadata": {},
   "outputs": [],
   "source": [
    "df_black = df.dropna(subset=[df.columns[-7]])"
   ]
  },
  {
   "cell_type": "code",
   "execution_count": 12,
   "id": "93266676",
   "metadata": {},
   "outputs": [],
   "source": [
    "X_black = df_black.iloc[:,:-14]\n",
    "y_black = df_black.iloc[:, -7]"
   ]
  },
  {
   "cell_type": "code",
   "execution_count": 13,
   "id": "53f57a29",
   "metadata": {},
   "outputs": [],
   "source": [
    "X_black = pd.get_dummies(X_black, drop_first=True)"
   ]
  },
  {
   "cell_type": "code",
   "execution_count": 14,
   "id": "8c1ed31d",
   "metadata": {},
   "outputs": [],
   "source": [
    "X = pd.get_dummies(X, drop_first=True)"
   ]
  },
  {
   "cell_type": "code",
   "execution_count": 15,
   "id": "eb57f116",
   "metadata": {
    "collapsed": true
   },
   "outputs": [
    {
     "data": {
      "text/plain": [
       "(2315, 260)"
      ]
     },
     "execution_count": 15,
     "metadata": {},
     "output_type": "execute_result"
    }
   ],
   "source": [
    "X.shape"
   ]
  },
  {
   "cell_type": "code",
   "execution_count": 16,
   "id": "ca750ef5",
   "metadata": {
    "collapsed": true
   },
   "outputs": [
    {
     "data": {
      "text/plain": [
       "(2027, 255)"
      ]
     },
     "execution_count": 16,
     "metadata": {},
     "output_type": "execute_result"
    }
   ],
   "source": [
    "X_black.shape"
   ]
  },
  {
   "cell_type": "markdown",
   "id": "b6c0ae4b",
   "metadata": {},
   "source": [
    "# Lets Define Our Pipeline"
   ]
  },
  {
   "cell_type": "code",
   "execution_count": 17,
   "id": "19dc2f0b",
   "metadata": {},
   "outputs": [],
   "source": [
    "num_feats = 200\n",
    "num_pipe = Pipeline([\n",
    "    ('Impute', ColumnTransformer([\n",
    "        ('Impute', KNNImputer(n_neighbors=5), make_column_selector(dtype_include=[np.float16, 'float']))\n",
    "    ], remainder='drop'\n",
    "    )),\n",
    "    ('Scale', StandardScaler())\n",
    "])\n",
    "\n",
    "cat_pipe = Pipeline([\n",
    "    ('Passthrough', ColumnTransformer([\n",
    "        ('Pass', 'passthrough', make_column_selector(dtype_exclude='float'))\n",
    "    ], remainder='drop'\n",
    "    ))\n",
    "])\n",
    "\n",
    "preprocessor = FeatureUnion([\n",
    "    ('numeric', num_pipe),\n",
    "    ('categorical', cat_pipe)\n",
    "])\n",
    "\n",
    "pipeline = Pipeline([\n",
    "    ('preprocessing', preprocessor),\n",
    "    ('classifier', ElasticNet(alpha=0.1, l1_ratio=0.5))\n",
    "])"
   ]
  },
  {
   "cell_type": "code",
   "execution_count": 18,
   "id": "54127e42",
   "metadata": {},
   "outputs": [],
   "source": [
    "params = {\n",
    "    \"Imputer\": \"SimpleImputer\",\n",
    "    \"Scaler\": \"Standard Scaler\",\n",
    "    \"model_name\": \"Elastic Net\",\n",
    "    \"model\": pipeline,\n",
    "    \"alpha\": 0.1,\n",
    "    \"l1_ratio\": 0.5,\n",
    "}"
   ]
  },
  {
   "cell_type": "code",
   "execution_count": 19,
   "id": "f6958216",
   "metadata": {},
   "outputs": [],
   "source": [
    "logger = RegressionLogger(params)"
   ]
  },
  {
   "cell_type": "code",
   "execution_count": 20,
   "id": "b063a1a1",
   "metadata": {},
   "outputs": [],
   "source": [
    "logger.train_update(pipeline, X_black, y_black)"
   ]
  },
  {
   "cell_type": "code",
   "execution_count": 21,
   "id": "56f2227f",
   "metadata": {},
   "outputs": [
    {
     "data": {
      "text/plain": [
       "(13.400120158691642, 15.0942486907444)"
      ]
     },
     "execution_count": 21,
     "metadata": {},
     "output_type": "execute_result"
    }
   ],
   "source": [
    "logger.train_mae, logger.mae"
   ]
  },
  {
   "cell_type": "markdown",
   "id": "0b622549",
   "metadata": {},
   "source": [
    "# Not The Best Performance, lets figure out why\n",
    "\n",
    "\n",
    "<ol>\n",
    "    <li>Lets Visualize our current residuals</li>\n",
    "    <li>Find trends to improve those residuals</li>\n",
    "    <li>See if our feature engineering improves residuals</li>\n",
    "<ol>"
   ]
  },
  {
   "cell_type": "code",
   "execution_count": 22,
   "id": "ad0ba85d",
   "metadata": {},
   "outputs": [],
   "source": [
    "residuals = logger.y_pred - logger.y_test"
   ]
  },
  {
   "cell_type": "code",
   "execution_count": 23,
   "id": "aa8c7aaf",
   "metadata": {
    "collapsed": true
   },
   "outputs": [
    {
     "data": {
      "text/plain": [
       "(-11.951032691395746, 120.43688355333465)"
      ]
     },
     "execution_count": 23,
     "metadata": {},
     "output_type": "execute_result"
    }
   ],
   "source": [
    "logger.y_pred.min(), logger.y_pred.max()"
   ]
  },
  {
   "cell_type": "code",
   "execution_count": 24,
   "id": "1dcddb09",
   "metadata": {},
   "outputs": [],
   "source": [
    "resid_data = {\n",
    "    'y_test': logger.y_test,\n",
    "    'residuals':residuals,\n",
    "}"
   ]
  },
  {
   "cell_type": "code",
   "execution_count": 25,
   "id": "4f60e4de",
   "metadata": {},
   "outputs": [],
   "source": [
    "residual_data = pd.DataFrame(resid_data)"
   ]
  },
  {
   "cell_type": "code",
   "execution_count": 26,
   "id": "6bc803b3",
   "metadata": {
    "collapsed": true
   },
   "outputs": [
    {
     "data": {
      "application/vnd.plotly.v1+json": {
       "config": {
        "plotlyServerURL": "https://plot.ly"
       },
       "data": [
        {
         "hovertemplate": "y_test=%{x}<br>residuals=%{y}<extra></extra>",
         "legendgroup": "",
         "marker": {
          "color": "#636efa",
          "symbol": "circle"
         },
         "mode": "markers",
         "name": "",
         "orientation": "v",
         "showlegend": false,
         "type": "scatter",
         "x": [
          33,
          50,
          46,
          36,
          13,
          32,
          29,
          38,
          58,
          0,
          67,
          29,
          21,
          45,
          19,
          50,
          40,
          39,
          43,
          50,
          51,
          40,
          86,
          17,
          8,
          63,
          0,
          100,
          36,
          54,
          63,
          9,
          57,
          11,
          94,
          44,
          31,
          43,
          81,
          38,
          44,
          12,
          100,
          17,
          53,
          50,
          0,
          100,
          25,
          7,
          40,
          100,
          100,
          3,
          0,
          10,
          40,
          0,
          29,
          34,
          31,
          40,
          33,
          29,
          19,
          50,
          14,
          73,
          20,
          68,
          13,
          53,
          53,
          16,
          39,
          29,
          86,
          29,
          25,
          41,
          50,
          19,
          11,
          59,
          0,
          50,
          0,
          0,
          46,
          60,
          57,
          71,
          10,
          24,
          57,
          62,
          38,
          78,
          33,
          59,
          23,
          49,
          68,
          60,
          93,
          17,
          39,
          67,
          50,
          36,
          33,
          30,
          40,
          39,
          42,
          20,
          0,
          23,
          50,
          26,
          64,
          31,
          64,
          35,
          92,
          52,
          46,
          20,
          67,
          63,
          40,
          30,
          49,
          100,
          27,
          48,
          8,
          73,
          24,
          0,
          5,
          30,
          15,
          66,
          13,
          43,
          27,
          46,
          79,
          100,
          8,
          33,
          0,
          27,
          47,
          0,
          69,
          77,
          76,
          25,
          67,
          21,
          43,
          23,
          84,
          33,
          10,
          62,
          23,
          30,
          55,
          10,
          0,
          56,
          54,
          51,
          89,
          50,
          0,
          60,
          13,
          38,
          65,
          14,
          0,
          21,
          63,
          34,
          48,
          23,
          67,
          74,
          23,
          80,
          0,
          21,
          61,
          100,
          8,
          76,
          100,
          28,
          75
         ],
         "xaxis": "x",
         "y": [
          3.419215477139616,
          -13.319761418947664,
          -13.945936814402778,
          0.3905905561627705,
          16.682280395712286,
          6.553499601626918,
          4.453459337421286,
          9.245668831770459,
          -5.746215680830083,
          28.580863419763894,
          -3.192101231775851,
          11.335500396521184,
          12.215553668538995,
          -1.2221662013170445,
          9.77294491733818,
          -33.645935134893506,
          -14.208094692150077,
          -6.626102766360823,
          18.1924442521193,
          -8.271677413406593,
          -18.4170259333966,
          7.2610420870976995,
          0.732424958856285,
          6.776014341401787,
          42.898887306227344,
          -7.357234179119878,
          13.286990816945384,
          -63.82030095020701,
          -3.704108730511855,
          -5.716034529946057,
          -8.7439839358492,
          19.803620337486166,
          6.116879194765005,
          12.304718788974327,
          -10.884797525118373,
          -15.148574324395767,
          12.05099086180605,
          -4.317345338017937,
          -22.31901833611346,
          1.794543364406266,
          3.962287688569589,
          15.629795805333593,
          -75.22386326210979,
          11.653975537950863,
          -3.7098935988637507,
          2.6840026662193637,
          49.16929730732887,
          -38.83372718329318,
          0.0354095763692186,
          -0.043044638432583326,
          0.4618251354042542,
          -84.14105235744654,
          -39.40142063136808,
          11.43651952019884,
          29.528684745649713,
          8.386874880619335,
          -5.435543663411387,
          35.69784299435691,
          7.9869435719290465,
          24.0742653663807,
          -8.889071391536397,
          1.099840175071506,
          -2.8807943689448763,
          -12.811687998845134,
          7.082043674412883,
          -20.389031403630433,
          13.914160884351606,
          -31.957722060854223,
          7.957136078405977,
          -30.723426352316146,
          9.841813945217332,
          6.480054215099614,
          3.819021198020586,
          7.067586510395682,
          -0.8487541229626245,
          15.675372260140747,
          4.178595190661767,
          4.8456870107977466,
          14.21380583282074,
          -14.293359757076999,
          -21.716695854366076,
          4.0682217898631166,
          24.675076344102543,
          -14.340852886413451,
          23.728376533537805,
          6.254773129332868,
          16.076200642712116,
          3.3548850747359396,
          -7.182843530628702,
          -11.334852129202389,
          -7.568043700330257,
          -4.9436917652358545,
          19.002411782329762,
          5.20879434806303,
          2.295870370672958,
          21.497622830664966,
          -19.05690814221066,
          -41.60001791510673,
          0.8193533930411121,
          9.66296876145816,
          8.805394522964463,
          0.9984619556235046,
          -10.73245662176695,
          -18.933007298357012,
          -15.801590744843253,
          3.1474868619573293,
          -0.15568028664164046,
          -32.522933603670936,
          -13.610325788847845,
          -14.912514891928417,
          19.268982685484637,
          9.725321940022901,
          1.2583857413763013,
          6.7681569455968855,
          -7.030141577940732,
          -2.6984930308409893,
          27.906065235053738,
          17.876628025546417,
          -5.587445488478963,
          7.872890206521333,
          16.550750732224103,
          3.725676220010172,
          -26.72867290214537,
          -1.211310439529484,
          1.4135790772314465,
          -10.167155425188504,
          -1.985073344059316,
          -0.7892896137804861,
          -32.14748076323441,
          -8.833860112364952,
          -19.835852244550946,
          25.19277042871203,
          -8.48661388916031,
          -60.137923539689076,
          0.718409259617701,
          -16.670338016087648,
          12.549623518270593,
          -14.301015680166401,
          6.274389714385087,
          25.2142682056041,
          -16.951032691395746,
          -3.3664578228047546,
          3.8658667846580776,
          -3.7193619668045557,
          5.3707950716832045,
          -25.2609945424162,
          5.320125777765028,
          -16.696483651192032,
          -19.075921781750075,
          -57.79571807515943,
          21.785991591249168,
          14.252729907239122,
          33.319872882410785,
          -8.903500226608816,
          -3.350004114077386,
          53.999971217858516,
          -11.196350413348952,
          -27.51610397982217,
          -60.904666617492424,
          13.976067265203746,
          -0.7564926916827517,
          9.96588863481323,
          -5.603774359804717,
          15.381625165305842,
          36.43688355333465,
          -3.8569038398300606,
          32.84656603461497,
          -40.6339158101245,
          3.645453631018139,
          -3.170686550495013,
          -5.231785860085772,
          15.600252263053001,
          46.25885932465947,
          -3.289322225257031,
          -10.79272292552185,
          -12.625702040946052,
          -3.868788684539865,
          -1.668396852109474,
          22.251536942362343,
          8.328806776441525,
          10.884203518860712,
          -8.954573241860992,
          2.869573406567582,
          9.499497006544221,
          47.554794158970054,
          -3.5132514591529755,
          -11.146175722463326,
          -5.864880292379453,
          3.4630459763446595,
          16.758545752177234,
          -17.729835703966856,
          -20.756596271589835,
          10.069930125702975,
          -44.65418157312256,
          27.640204852235094,
          14.034388551387607,
          -2.5972746644417626,
          -47.41518962931315,
          34.957328318566006,
          -11.356450542468266,
          -43.42063414504647,
          12.773067702261244,
          -13.50182094362441
         ],
         "yaxis": "y"
        }
       ],
       "layout": {
        "legend": {
         "tracegroupgap": 0
        },
        "margin": {
         "t": 60
        },
        "template": {
         "data": {
          "bar": [
           {
            "error_x": {
             "color": "#2a3f5f"
            },
            "error_y": {
             "color": "#2a3f5f"
            },
            "marker": {
             "line": {
              "color": "#E5ECF6",
              "width": 0.5
             },
             "pattern": {
              "fillmode": "overlay",
              "size": 10,
              "solidity": 0.2
             }
            },
            "type": "bar"
           }
          ],
          "barpolar": [
           {
            "marker": {
             "line": {
              "color": "#E5ECF6",
              "width": 0.5
             },
             "pattern": {
              "fillmode": "overlay",
              "size": 10,
              "solidity": 0.2
             }
            },
            "type": "barpolar"
           }
          ],
          "carpet": [
           {
            "aaxis": {
             "endlinecolor": "#2a3f5f",
             "gridcolor": "white",
             "linecolor": "white",
             "minorgridcolor": "white",
             "startlinecolor": "#2a3f5f"
            },
            "baxis": {
             "endlinecolor": "#2a3f5f",
             "gridcolor": "white",
             "linecolor": "white",
             "minorgridcolor": "white",
             "startlinecolor": "#2a3f5f"
            },
            "type": "carpet"
           }
          ],
          "choropleth": [
           {
            "colorbar": {
             "outlinewidth": 0,
             "ticks": ""
            },
            "type": "choropleth"
           }
          ],
          "contour": [
           {
            "colorbar": {
             "outlinewidth": 0,
             "ticks": ""
            },
            "colorscale": [
             [
              0,
              "#0d0887"
             ],
             [
              0.1111111111111111,
              "#46039f"
             ],
             [
              0.2222222222222222,
              "#7201a8"
             ],
             [
              0.3333333333333333,
              "#9c179e"
             ],
             [
              0.4444444444444444,
              "#bd3786"
             ],
             [
              0.5555555555555556,
              "#d8576b"
             ],
             [
              0.6666666666666666,
              "#ed7953"
             ],
             [
              0.7777777777777778,
              "#fb9f3a"
             ],
             [
              0.8888888888888888,
              "#fdca26"
             ],
             [
              1,
              "#f0f921"
             ]
            ],
            "type": "contour"
           }
          ],
          "contourcarpet": [
           {
            "colorbar": {
             "outlinewidth": 0,
             "ticks": ""
            },
            "type": "contourcarpet"
           }
          ],
          "heatmap": [
           {
            "colorbar": {
             "outlinewidth": 0,
             "ticks": ""
            },
            "colorscale": [
             [
              0,
              "#0d0887"
             ],
             [
              0.1111111111111111,
              "#46039f"
             ],
             [
              0.2222222222222222,
              "#7201a8"
             ],
             [
              0.3333333333333333,
              "#9c179e"
             ],
             [
              0.4444444444444444,
              "#bd3786"
             ],
             [
              0.5555555555555556,
              "#d8576b"
             ],
             [
              0.6666666666666666,
              "#ed7953"
             ],
             [
              0.7777777777777778,
              "#fb9f3a"
             ],
             [
              0.8888888888888888,
              "#fdca26"
             ],
             [
              1,
              "#f0f921"
             ]
            ],
            "type": "heatmap"
           }
          ],
          "heatmapgl": [
           {
            "colorbar": {
             "outlinewidth": 0,
             "ticks": ""
            },
            "colorscale": [
             [
              0,
              "#0d0887"
             ],
             [
              0.1111111111111111,
              "#46039f"
             ],
             [
              0.2222222222222222,
              "#7201a8"
             ],
             [
              0.3333333333333333,
              "#9c179e"
             ],
             [
              0.4444444444444444,
              "#bd3786"
             ],
             [
              0.5555555555555556,
              "#d8576b"
             ],
             [
              0.6666666666666666,
              "#ed7953"
             ],
             [
              0.7777777777777778,
              "#fb9f3a"
             ],
             [
              0.8888888888888888,
              "#fdca26"
             ],
             [
              1,
              "#f0f921"
             ]
            ],
            "type": "heatmapgl"
           }
          ],
          "histogram": [
           {
            "marker": {
             "pattern": {
              "fillmode": "overlay",
              "size": 10,
              "solidity": 0.2
             }
            },
            "type": "histogram"
           }
          ],
          "histogram2d": [
           {
            "colorbar": {
             "outlinewidth": 0,
             "ticks": ""
            },
            "colorscale": [
             [
              0,
              "#0d0887"
             ],
             [
              0.1111111111111111,
              "#46039f"
             ],
             [
              0.2222222222222222,
              "#7201a8"
             ],
             [
              0.3333333333333333,
              "#9c179e"
             ],
             [
              0.4444444444444444,
              "#bd3786"
             ],
             [
              0.5555555555555556,
              "#d8576b"
             ],
             [
              0.6666666666666666,
              "#ed7953"
             ],
             [
              0.7777777777777778,
              "#fb9f3a"
             ],
             [
              0.8888888888888888,
              "#fdca26"
             ],
             [
              1,
              "#f0f921"
             ]
            ],
            "type": "histogram2d"
           }
          ],
          "histogram2dcontour": [
           {
            "colorbar": {
             "outlinewidth": 0,
             "ticks": ""
            },
            "colorscale": [
             [
              0,
              "#0d0887"
             ],
             [
              0.1111111111111111,
              "#46039f"
             ],
             [
              0.2222222222222222,
              "#7201a8"
             ],
             [
              0.3333333333333333,
              "#9c179e"
             ],
             [
              0.4444444444444444,
              "#bd3786"
             ],
             [
              0.5555555555555556,
              "#d8576b"
             ],
             [
              0.6666666666666666,
              "#ed7953"
             ],
             [
              0.7777777777777778,
              "#fb9f3a"
             ],
             [
              0.8888888888888888,
              "#fdca26"
             ],
             [
              1,
              "#f0f921"
             ]
            ],
            "type": "histogram2dcontour"
           }
          ],
          "mesh3d": [
           {
            "colorbar": {
             "outlinewidth": 0,
             "ticks": ""
            },
            "type": "mesh3d"
           }
          ],
          "parcoords": [
           {
            "line": {
             "colorbar": {
              "outlinewidth": 0,
              "ticks": ""
             }
            },
            "type": "parcoords"
           }
          ],
          "pie": [
           {
            "automargin": true,
            "type": "pie"
           }
          ],
          "scatter": [
           {
            "marker": {
             "colorbar": {
              "outlinewidth": 0,
              "ticks": ""
             }
            },
            "type": "scatter"
           }
          ],
          "scatter3d": [
           {
            "line": {
             "colorbar": {
              "outlinewidth": 0,
              "ticks": ""
             }
            },
            "marker": {
             "colorbar": {
              "outlinewidth": 0,
              "ticks": ""
             }
            },
            "type": "scatter3d"
           }
          ],
          "scattercarpet": [
           {
            "marker": {
             "colorbar": {
              "outlinewidth": 0,
              "ticks": ""
             }
            },
            "type": "scattercarpet"
           }
          ],
          "scattergeo": [
           {
            "marker": {
             "colorbar": {
              "outlinewidth": 0,
              "ticks": ""
             }
            },
            "type": "scattergeo"
           }
          ],
          "scattergl": [
           {
            "marker": {
             "colorbar": {
              "outlinewidth": 0,
              "ticks": ""
             }
            },
            "type": "scattergl"
           }
          ],
          "scattermapbox": [
           {
            "marker": {
             "colorbar": {
              "outlinewidth": 0,
              "ticks": ""
             }
            },
            "type": "scattermapbox"
           }
          ],
          "scatterpolar": [
           {
            "marker": {
             "colorbar": {
              "outlinewidth": 0,
              "ticks": ""
             }
            },
            "type": "scatterpolar"
           }
          ],
          "scatterpolargl": [
           {
            "marker": {
             "colorbar": {
              "outlinewidth": 0,
              "ticks": ""
             }
            },
            "type": "scatterpolargl"
           }
          ],
          "scatterternary": [
           {
            "marker": {
             "colorbar": {
              "outlinewidth": 0,
              "ticks": ""
             }
            },
            "type": "scatterternary"
           }
          ],
          "surface": [
           {
            "colorbar": {
             "outlinewidth": 0,
             "ticks": ""
            },
            "colorscale": [
             [
              0,
              "#0d0887"
             ],
             [
              0.1111111111111111,
              "#46039f"
             ],
             [
              0.2222222222222222,
              "#7201a8"
             ],
             [
              0.3333333333333333,
              "#9c179e"
             ],
             [
              0.4444444444444444,
              "#bd3786"
             ],
             [
              0.5555555555555556,
              "#d8576b"
             ],
             [
              0.6666666666666666,
              "#ed7953"
             ],
             [
              0.7777777777777778,
              "#fb9f3a"
             ],
             [
              0.8888888888888888,
              "#fdca26"
             ],
             [
              1,
              "#f0f921"
             ]
            ],
            "type": "surface"
           }
          ],
          "table": [
           {
            "cells": {
             "fill": {
              "color": "#EBF0F8"
             },
             "line": {
              "color": "white"
             }
            },
            "header": {
             "fill": {
              "color": "#C8D4E3"
             },
             "line": {
              "color": "white"
             }
            },
            "type": "table"
           }
          ]
         },
         "layout": {
          "annotationdefaults": {
           "arrowcolor": "#2a3f5f",
           "arrowhead": 0,
           "arrowwidth": 1
          },
          "autotypenumbers": "strict",
          "coloraxis": {
           "colorbar": {
            "outlinewidth": 0,
            "ticks": ""
           }
          },
          "colorscale": {
           "diverging": [
            [
             0,
             "#8e0152"
            ],
            [
             0.1,
             "#c51b7d"
            ],
            [
             0.2,
             "#de77ae"
            ],
            [
             0.3,
             "#f1b6da"
            ],
            [
             0.4,
             "#fde0ef"
            ],
            [
             0.5,
             "#f7f7f7"
            ],
            [
             0.6,
             "#e6f5d0"
            ],
            [
             0.7,
             "#b8e186"
            ],
            [
             0.8,
             "#7fbc41"
            ],
            [
             0.9,
             "#4d9221"
            ],
            [
             1,
             "#276419"
            ]
           ],
           "sequential": [
            [
             0,
             "#0d0887"
            ],
            [
             0.1111111111111111,
             "#46039f"
            ],
            [
             0.2222222222222222,
             "#7201a8"
            ],
            [
             0.3333333333333333,
             "#9c179e"
            ],
            [
             0.4444444444444444,
             "#bd3786"
            ],
            [
             0.5555555555555556,
             "#d8576b"
            ],
            [
             0.6666666666666666,
             "#ed7953"
            ],
            [
             0.7777777777777778,
             "#fb9f3a"
            ],
            [
             0.8888888888888888,
             "#fdca26"
            ],
            [
             1,
             "#f0f921"
            ]
           ],
           "sequentialminus": [
            [
             0,
             "#0d0887"
            ],
            [
             0.1111111111111111,
             "#46039f"
            ],
            [
             0.2222222222222222,
             "#7201a8"
            ],
            [
             0.3333333333333333,
             "#9c179e"
            ],
            [
             0.4444444444444444,
             "#bd3786"
            ],
            [
             0.5555555555555556,
             "#d8576b"
            ],
            [
             0.6666666666666666,
             "#ed7953"
            ],
            [
             0.7777777777777778,
             "#fb9f3a"
            ],
            [
             0.8888888888888888,
             "#fdca26"
            ],
            [
             1,
             "#f0f921"
            ]
           ]
          },
          "colorway": [
           "#636efa",
           "#EF553B",
           "#00cc96",
           "#ab63fa",
           "#FFA15A",
           "#19d3f3",
           "#FF6692",
           "#B6E880",
           "#FF97FF",
           "#FECB52"
          ],
          "font": {
           "color": "#2a3f5f"
          },
          "geo": {
           "bgcolor": "white",
           "lakecolor": "white",
           "landcolor": "#E5ECF6",
           "showlakes": true,
           "showland": true,
           "subunitcolor": "white"
          },
          "hoverlabel": {
           "align": "left"
          },
          "hovermode": "closest",
          "mapbox": {
           "style": "light"
          },
          "paper_bgcolor": "white",
          "plot_bgcolor": "#E5ECF6",
          "polar": {
           "angularaxis": {
            "gridcolor": "white",
            "linecolor": "white",
            "ticks": ""
           },
           "bgcolor": "#E5ECF6",
           "radialaxis": {
            "gridcolor": "white",
            "linecolor": "white",
            "ticks": ""
           }
          },
          "scene": {
           "xaxis": {
            "backgroundcolor": "#E5ECF6",
            "gridcolor": "white",
            "gridwidth": 2,
            "linecolor": "white",
            "showbackground": true,
            "ticks": "",
            "zerolinecolor": "white"
           },
           "yaxis": {
            "backgroundcolor": "#E5ECF6",
            "gridcolor": "white",
            "gridwidth": 2,
            "linecolor": "white",
            "showbackground": true,
            "ticks": "",
            "zerolinecolor": "white"
           },
           "zaxis": {
            "backgroundcolor": "#E5ECF6",
            "gridcolor": "white",
            "gridwidth": 2,
            "linecolor": "white",
            "showbackground": true,
            "ticks": "",
            "zerolinecolor": "white"
           }
          },
          "shapedefaults": {
           "line": {
            "color": "#2a3f5f"
           }
          },
          "ternary": {
           "aaxis": {
            "gridcolor": "white",
            "linecolor": "white",
            "ticks": ""
           },
           "baxis": {
            "gridcolor": "white",
            "linecolor": "white",
            "ticks": ""
           },
           "bgcolor": "#E5ECF6",
           "caxis": {
            "gridcolor": "white",
            "linecolor": "white",
            "ticks": ""
           }
          },
          "title": {
           "x": 0.05
          },
          "xaxis": {
           "automargin": true,
           "gridcolor": "white",
           "linecolor": "white",
           "ticks": "",
           "title": {
            "standoff": 15
           },
           "zerolinecolor": "white",
           "zerolinewidth": 2
          },
          "yaxis": {
           "automargin": true,
           "gridcolor": "white",
           "linecolor": "white",
           "ticks": "",
           "title": {
            "standoff": 15
           },
           "zerolinecolor": "white",
           "zerolinewidth": 2
          }
         }
        },
        "xaxis": {
         "anchor": "y",
         "domain": [
          0,
          1
         ],
         "title": {
          "text": "y_test"
         }
        },
        "yaxis": {
         "anchor": "x",
         "domain": [
          0,
          1
         ],
         "title": {
          "text": "residuals"
         }
        }
       }
      },
      "text/html": [
       "<div>                            <div id=\"8777841f-9d0e-4e97-8893-82033852ecdf\" class=\"plotly-graph-div\" style=\"height:525px; width:100%;\"></div>            <script type=\"text/javascript\">                require([\"plotly\"], function(Plotly) {                    window.PLOTLYENV=window.PLOTLYENV || {};                                    if (document.getElementById(\"8777841f-9d0e-4e97-8893-82033852ecdf\")) {                    Plotly.newPlot(                        \"8777841f-9d0e-4e97-8893-82033852ecdf\",                        [{\"hovertemplate\":\"y_test=%{x}<br>residuals=%{y}<extra></extra>\",\"legendgroup\":\"\",\"marker\":{\"color\":\"#636efa\",\"symbol\":\"circle\"},\"mode\":\"markers\",\"name\":\"\",\"orientation\":\"v\",\"showlegend\":false,\"type\":\"scatter\",\"x\":[33.0,50.0,46.0,36.0,13.0,32.0,29.0,38.0,58.0,0.0,67.0,29.0,21.0,45.0,19.0,50.0,40.0,39.0,43.0,50.0,51.0,40.0,86.0,17.0,8.0,63.0,0.0,100.0,36.0,54.0,63.0,9.0,57.0,11.0,94.0,44.0,31.0,43.0,81.0,38.0,44.0,12.0,100.0,17.0,53.0,50.0,0.0,100.0,25.0,7.0,40.0,100.0,100.0,3.0,0.0,10.0,40.0,0.0,29.0,34.0,31.0,40.0,33.0,29.0,19.0,50.0,14.0,73.0,20.0,68.0,13.0,53.0,53.0,16.0,39.0,29.0,86.0,29.0,25.0,41.0,50.0,19.0,11.0,59.0,0.0,50.0,0.0,0.0,46.0,60.0,57.0,71.0,10.0,24.0,57.0,62.0,38.0,78.0,33.0,59.0,23.0,49.0,68.0,60.0,93.0,17.0,39.0,67.0,50.0,36.0,33.0,30.0,40.0,39.0,42.0,20.0,0.0,23.0,50.0,26.0,64.0,31.0,64.0,35.0,92.0,52.0,46.0,20.0,67.0,63.0,40.0,30.0,49.0,100.0,27.0,48.0,8.0,73.0,24.0,0.0,5.0,30.0,15.0,66.0,13.0,43.0,27.0,46.0,79.0,100.0,8.0,33.0,0.0,27.0,47.0,0.0,69.0,77.0,76.0,25.0,67.0,21.0,43.0,23.0,84.0,33.0,10.0,62.0,23.0,30.0,55.0,10.0,0.0,56.0,54.0,51.0,89.0,50.0,0.0,60.0,13.0,38.0,65.0,14.0,0.0,21.0,63.0,34.0,48.0,23.0,67.0,74.0,23.0,80.0,0.0,21.0,61.0,100.0,8.0,76.0,100.0,28.0,75.0],\"xaxis\":\"x\",\"y\":[3.419215477139616,-13.319761418947664,-13.945936814402778,0.3905905561627705,16.682280395712286,6.553499601626918,4.453459337421286,9.245668831770459,-5.746215680830083,28.580863419763894,-3.192101231775851,11.335500396521184,12.215553668538995,-1.2221662013170445,9.77294491733818,-33.645935134893506,-14.208094692150077,-6.626102766360823,18.1924442521193,-8.271677413406593,-18.4170259333966,7.2610420870976995,0.732424958856285,6.776014341401787,42.898887306227344,-7.357234179119878,13.286990816945384,-63.82030095020701,-3.704108730511855,-5.716034529946057,-8.7439839358492,19.803620337486166,6.116879194765005,12.304718788974327,-10.884797525118373,-15.148574324395767,12.05099086180605,-4.317345338017937,-22.31901833611346,1.794543364406266,3.962287688569589,15.629795805333593,-75.22386326210979,11.653975537950863,-3.7098935988637507,2.6840026662193637,49.16929730732887,-38.83372718329318,0.0354095763692186,-0.043044638432583326,0.4618251354042542,-84.14105235744654,-39.40142063136808,11.43651952019884,29.528684745649713,8.386874880619335,-5.435543663411387,35.69784299435691,7.9869435719290465,24.0742653663807,-8.889071391536397,1.099840175071506,-2.8807943689448763,-12.811687998845134,7.082043674412883,-20.389031403630433,13.914160884351606,-31.957722060854223,7.957136078405977,-30.723426352316146,9.841813945217332,6.480054215099614,3.819021198020586,7.067586510395682,-0.8487541229626245,15.675372260140747,4.178595190661767,4.8456870107977466,14.21380583282074,-14.293359757076999,-21.716695854366076,4.0682217898631166,24.675076344102543,-14.340852886413451,23.728376533537805,6.254773129332868,16.076200642712116,3.3548850747359396,-7.182843530628702,-11.334852129202389,-7.568043700330257,-4.9436917652358545,19.002411782329762,5.20879434806303,2.295870370672958,21.497622830664966,-19.05690814221066,-41.60001791510673,0.8193533930411121,9.66296876145816,8.805394522964463,0.9984619556235046,-10.73245662176695,-18.933007298357012,-15.801590744843253,3.1474868619573293,-0.15568028664164046,-32.522933603670936,-13.610325788847845,-14.912514891928417,19.268982685484637,9.725321940022901,1.2583857413763013,6.7681569455968855,-7.030141577940732,-2.6984930308409893,27.906065235053738,17.876628025546417,-5.587445488478963,7.872890206521333,16.550750732224103,3.725676220010172,-26.72867290214537,-1.211310439529484,1.4135790772314465,-10.167155425188504,-1.985073344059316,-0.7892896137804861,-32.14748076323441,-8.833860112364952,-19.835852244550946,25.19277042871203,-8.48661388916031,-60.137923539689076,0.718409259617701,-16.670338016087648,12.549623518270593,-14.301015680166401,6.274389714385087,25.2142682056041,-16.951032691395746,-3.3664578228047546,3.8658667846580776,-3.7193619668045557,5.3707950716832045,-25.2609945424162,5.320125777765028,-16.696483651192032,-19.075921781750075,-57.79571807515943,21.785991591249168,14.252729907239122,33.319872882410785,-8.903500226608816,-3.350004114077386,53.999971217858516,-11.196350413348952,-27.51610397982217,-60.904666617492424,13.976067265203746,-0.7564926916827517,9.96588863481323,-5.603774359804717,15.381625165305842,36.43688355333465,-3.8569038398300606,32.84656603461497,-40.6339158101245,3.645453631018139,-3.170686550495013,-5.231785860085772,15.600252263053001,46.25885932465947,-3.289322225257031,-10.79272292552185,-12.625702040946052,-3.868788684539865,-1.668396852109474,22.251536942362343,8.328806776441525,10.884203518860712,-8.954573241860992,2.869573406567582,9.499497006544221,47.554794158970054,-3.5132514591529755,-11.146175722463326,-5.864880292379453,3.4630459763446595,16.758545752177234,-17.729835703966856,-20.756596271589835,10.069930125702975,-44.65418157312256,27.640204852235094,14.034388551387607,-2.5972746644417626,-47.41518962931315,34.957328318566006,-11.356450542468266,-43.42063414504647,12.773067702261244,-13.50182094362441],\"yaxis\":\"y\"}],                        {\"legend\":{\"tracegroupgap\":0},\"margin\":{\"t\":60},\"template\":{\"data\":{\"bar\":[{\"error_x\":{\"color\":\"#2a3f5f\"},\"error_y\":{\"color\":\"#2a3f5f\"},\"marker\":{\"line\":{\"color\":\"#E5ECF6\",\"width\":0.5},\"pattern\":{\"fillmode\":\"overlay\",\"size\":10,\"solidity\":0.2}},\"type\":\"bar\"}],\"barpolar\":[{\"marker\":{\"line\":{\"color\":\"#E5ECF6\",\"width\":0.5},\"pattern\":{\"fillmode\":\"overlay\",\"size\":10,\"solidity\":0.2}},\"type\":\"barpolar\"}],\"carpet\":[{\"aaxis\":{\"endlinecolor\":\"#2a3f5f\",\"gridcolor\":\"white\",\"linecolor\":\"white\",\"minorgridcolor\":\"white\",\"startlinecolor\":\"#2a3f5f\"},\"baxis\":{\"endlinecolor\":\"#2a3f5f\",\"gridcolor\":\"white\",\"linecolor\":\"white\",\"minorgridcolor\":\"white\",\"startlinecolor\":\"#2a3f5f\"},\"type\":\"carpet\"}],\"choropleth\":[{\"colorbar\":{\"outlinewidth\":0,\"ticks\":\"\"},\"type\":\"choropleth\"}],\"contour\":[{\"colorbar\":{\"outlinewidth\":0,\"ticks\":\"\"},\"colorscale\":[[0.0,\"#0d0887\"],[0.1111111111111111,\"#46039f\"],[0.2222222222222222,\"#7201a8\"],[0.3333333333333333,\"#9c179e\"],[0.4444444444444444,\"#bd3786\"],[0.5555555555555556,\"#d8576b\"],[0.6666666666666666,\"#ed7953\"],[0.7777777777777778,\"#fb9f3a\"],[0.8888888888888888,\"#fdca26\"],[1.0,\"#f0f921\"]],\"type\":\"contour\"}],\"contourcarpet\":[{\"colorbar\":{\"outlinewidth\":0,\"ticks\":\"\"},\"type\":\"contourcarpet\"}],\"heatmap\":[{\"colorbar\":{\"outlinewidth\":0,\"ticks\":\"\"},\"colorscale\":[[0.0,\"#0d0887\"],[0.1111111111111111,\"#46039f\"],[0.2222222222222222,\"#7201a8\"],[0.3333333333333333,\"#9c179e\"],[0.4444444444444444,\"#bd3786\"],[0.5555555555555556,\"#d8576b\"],[0.6666666666666666,\"#ed7953\"],[0.7777777777777778,\"#fb9f3a\"],[0.8888888888888888,\"#fdca26\"],[1.0,\"#f0f921\"]],\"type\":\"heatmap\"}],\"heatmapgl\":[{\"colorbar\":{\"outlinewidth\":0,\"ticks\":\"\"},\"colorscale\":[[0.0,\"#0d0887\"],[0.1111111111111111,\"#46039f\"],[0.2222222222222222,\"#7201a8\"],[0.3333333333333333,\"#9c179e\"],[0.4444444444444444,\"#bd3786\"],[0.5555555555555556,\"#d8576b\"],[0.6666666666666666,\"#ed7953\"],[0.7777777777777778,\"#fb9f3a\"],[0.8888888888888888,\"#fdca26\"],[1.0,\"#f0f921\"]],\"type\":\"heatmapgl\"}],\"histogram\":[{\"marker\":{\"pattern\":{\"fillmode\":\"overlay\",\"size\":10,\"solidity\":0.2}},\"type\":\"histogram\"}],\"histogram2d\":[{\"colorbar\":{\"outlinewidth\":0,\"ticks\":\"\"},\"colorscale\":[[0.0,\"#0d0887\"],[0.1111111111111111,\"#46039f\"],[0.2222222222222222,\"#7201a8\"],[0.3333333333333333,\"#9c179e\"],[0.4444444444444444,\"#bd3786\"],[0.5555555555555556,\"#d8576b\"],[0.6666666666666666,\"#ed7953\"],[0.7777777777777778,\"#fb9f3a\"],[0.8888888888888888,\"#fdca26\"],[1.0,\"#f0f921\"]],\"type\":\"histogram2d\"}],\"histogram2dcontour\":[{\"colorbar\":{\"outlinewidth\":0,\"ticks\":\"\"},\"colorscale\":[[0.0,\"#0d0887\"],[0.1111111111111111,\"#46039f\"],[0.2222222222222222,\"#7201a8\"],[0.3333333333333333,\"#9c179e\"],[0.4444444444444444,\"#bd3786\"],[0.5555555555555556,\"#d8576b\"],[0.6666666666666666,\"#ed7953\"],[0.7777777777777778,\"#fb9f3a\"],[0.8888888888888888,\"#fdca26\"],[1.0,\"#f0f921\"]],\"type\":\"histogram2dcontour\"}],\"mesh3d\":[{\"colorbar\":{\"outlinewidth\":0,\"ticks\":\"\"},\"type\":\"mesh3d\"}],\"parcoords\":[{\"line\":{\"colorbar\":{\"outlinewidth\":0,\"ticks\":\"\"}},\"type\":\"parcoords\"}],\"pie\":[{\"automargin\":true,\"type\":\"pie\"}],\"scatter\":[{\"marker\":{\"colorbar\":{\"outlinewidth\":0,\"ticks\":\"\"}},\"type\":\"scatter\"}],\"scatter3d\":[{\"line\":{\"colorbar\":{\"outlinewidth\":0,\"ticks\":\"\"}},\"marker\":{\"colorbar\":{\"outlinewidth\":0,\"ticks\":\"\"}},\"type\":\"scatter3d\"}],\"scattercarpet\":[{\"marker\":{\"colorbar\":{\"outlinewidth\":0,\"ticks\":\"\"}},\"type\":\"scattercarpet\"}],\"scattergeo\":[{\"marker\":{\"colorbar\":{\"outlinewidth\":0,\"ticks\":\"\"}},\"type\":\"scattergeo\"}],\"scattergl\":[{\"marker\":{\"colorbar\":{\"outlinewidth\":0,\"ticks\":\"\"}},\"type\":\"scattergl\"}],\"scattermapbox\":[{\"marker\":{\"colorbar\":{\"outlinewidth\":0,\"ticks\":\"\"}},\"type\":\"scattermapbox\"}],\"scatterpolar\":[{\"marker\":{\"colorbar\":{\"outlinewidth\":0,\"ticks\":\"\"}},\"type\":\"scatterpolar\"}],\"scatterpolargl\":[{\"marker\":{\"colorbar\":{\"outlinewidth\":0,\"ticks\":\"\"}},\"type\":\"scatterpolargl\"}],\"scatterternary\":[{\"marker\":{\"colorbar\":{\"outlinewidth\":0,\"ticks\":\"\"}},\"type\":\"scatterternary\"}],\"surface\":[{\"colorbar\":{\"outlinewidth\":0,\"ticks\":\"\"},\"colorscale\":[[0.0,\"#0d0887\"],[0.1111111111111111,\"#46039f\"],[0.2222222222222222,\"#7201a8\"],[0.3333333333333333,\"#9c179e\"],[0.4444444444444444,\"#bd3786\"],[0.5555555555555556,\"#d8576b\"],[0.6666666666666666,\"#ed7953\"],[0.7777777777777778,\"#fb9f3a\"],[0.8888888888888888,\"#fdca26\"],[1.0,\"#f0f921\"]],\"type\":\"surface\"}],\"table\":[{\"cells\":{\"fill\":{\"color\":\"#EBF0F8\"},\"line\":{\"color\":\"white\"}},\"header\":{\"fill\":{\"color\":\"#C8D4E3\"},\"line\":{\"color\":\"white\"}},\"type\":\"table\"}]},\"layout\":{\"annotationdefaults\":{\"arrowcolor\":\"#2a3f5f\",\"arrowhead\":0,\"arrowwidth\":1},\"autotypenumbers\":\"strict\",\"coloraxis\":{\"colorbar\":{\"outlinewidth\":0,\"ticks\":\"\"}},\"colorscale\":{\"diverging\":[[0,\"#8e0152\"],[0.1,\"#c51b7d\"],[0.2,\"#de77ae\"],[0.3,\"#f1b6da\"],[0.4,\"#fde0ef\"],[0.5,\"#f7f7f7\"],[0.6,\"#e6f5d0\"],[0.7,\"#b8e186\"],[0.8,\"#7fbc41\"],[0.9,\"#4d9221\"],[1,\"#276419\"]],\"sequential\":[[0.0,\"#0d0887\"],[0.1111111111111111,\"#46039f\"],[0.2222222222222222,\"#7201a8\"],[0.3333333333333333,\"#9c179e\"],[0.4444444444444444,\"#bd3786\"],[0.5555555555555556,\"#d8576b\"],[0.6666666666666666,\"#ed7953\"],[0.7777777777777778,\"#fb9f3a\"],[0.8888888888888888,\"#fdca26\"],[1.0,\"#f0f921\"]],\"sequentialminus\":[[0.0,\"#0d0887\"],[0.1111111111111111,\"#46039f\"],[0.2222222222222222,\"#7201a8\"],[0.3333333333333333,\"#9c179e\"],[0.4444444444444444,\"#bd3786\"],[0.5555555555555556,\"#d8576b\"],[0.6666666666666666,\"#ed7953\"],[0.7777777777777778,\"#fb9f3a\"],[0.8888888888888888,\"#fdca26\"],[1.0,\"#f0f921\"]]},\"colorway\":[\"#636efa\",\"#EF553B\",\"#00cc96\",\"#ab63fa\",\"#FFA15A\",\"#19d3f3\",\"#FF6692\",\"#B6E880\",\"#FF97FF\",\"#FECB52\"],\"font\":{\"color\":\"#2a3f5f\"},\"geo\":{\"bgcolor\":\"white\",\"lakecolor\":\"white\",\"landcolor\":\"#E5ECF6\",\"showlakes\":true,\"showland\":true,\"subunitcolor\":\"white\"},\"hoverlabel\":{\"align\":\"left\"},\"hovermode\":\"closest\",\"mapbox\":{\"style\":\"light\"},\"paper_bgcolor\":\"white\",\"plot_bgcolor\":\"#E5ECF6\",\"polar\":{\"angularaxis\":{\"gridcolor\":\"white\",\"linecolor\":\"white\",\"ticks\":\"\"},\"bgcolor\":\"#E5ECF6\",\"radialaxis\":{\"gridcolor\":\"white\",\"linecolor\":\"white\",\"ticks\":\"\"}},\"scene\":{\"xaxis\":{\"backgroundcolor\":\"#E5ECF6\",\"gridcolor\":\"white\",\"gridwidth\":2,\"linecolor\":\"white\",\"showbackground\":true,\"ticks\":\"\",\"zerolinecolor\":\"white\"},\"yaxis\":{\"backgroundcolor\":\"#E5ECF6\",\"gridcolor\":\"white\",\"gridwidth\":2,\"linecolor\":\"white\",\"showbackground\":true,\"ticks\":\"\",\"zerolinecolor\":\"white\"},\"zaxis\":{\"backgroundcolor\":\"#E5ECF6\",\"gridcolor\":\"white\",\"gridwidth\":2,\"linecolor\":\"white\",\"showbackground\":true,\"ticks\":\"\",\"zerolinecolor\":\"white\"}},\"shapedefaults\":{\"line\":{\"color\":\"#2a3f5f\"}},\"ternary\":{\"aaxis\":{\"gridcolor\":\"white\",\"linecolor\":\"white\",\"ticks\":\"\"},\"baxis\":{\"gridcolor\":\"white\",\"linecolor\":\"white\",\"ticks\":\"\"},\"bgcolor\":\"#E5ECF6\",\"caxis\":{\"gridcolor\":\"white\",\"linecolor\":\"white\",\"ticks\":\"\"}},\"title\":{\"x\":0.05},\"xaxis\":{\"automargin\":true,\"gridcolor\":\"white\",\"linecolor\":\"white\",\"ticks\":\"\",\"title\":{\"standoff\":15},\"zerolinecolor\":\"white\",\"zerolinewidth\":2},\"yaxis\":{\"automargin\":true,\"gridcolor\":\"white\",\"linecolor\":\"white\",\"ticks\":\"\",\"title\":{\"standoff\":15},\"zerolinecolor\":\"white\",\"zerolinewidth\":2}}},\"xaxis\":{\"anchor\":\"y\",\"domain\":[0.0,1.0],\"title\":{\"text\":\"y_test\"}},\"yaxis\":{\"anchor\":\"x\",\"domain\":[0.0,1.0],\"title\":{\"text\":\"residuals\"}}},                        {\"responsive\": true}                    ).then(function(){\n",
       "                            \n",
       "var gd = document.getElementById('8777841f-9d0e-4e97-8893-82033852ecdf');\n",
       "var x = new MutationObserver(function (mutations, observer) {{\n",
       "        var display = window.getComputedStyle(gd).display;\n",
       "        if (!display || display === 'none') {{\n",
       "            console.log([gd, 'removed!']);\n",
       "            Plotly.purge(gd);\n",
       "            observer.disconnect();\n",
       "        }}\n",
       "}});\n",
       "\n",
       "// Listen for the removal of the full notebook cells\n",
       "var notebookContainer = gd.closest('#notebook-container');\n",
       "if (notebookContainer) {{\n",
       "    x.observe(notebookContainer, {childList: true});\n",
       "}}\n",
       "\n",
       "// Listen for the clearing of the current output cell\n",
       "var outputEl = gd.closest('.output');\n",
       "if (outputEl) {{\n",
       "    x.observe(outputEl, {childList: true});\n",
       "}}\n",
       "\n",
       "                        })                };                });            </script>        </div>"
      ]
     },
     "metadata": {},
     "output_type": "display_data"
    }
   ],
   "source": [
    "fig = px.scatter(residual_data, x='y_test', y='residuals')\n",
    "\n",
    "fig.show()"
   ]
  },
  {
   "cell_type": "markdown",
   "id": "4600df9d",
   "metadata": {},
   "source": [
    "# There is a clear trend in our residuals.\n",
    "We tend to over predict graduation rates that are very low and we tend to underpredict graduation rates that are extremely high"
   ]
  },
  {
   "cell_type": "code",
   "execution_count": 27,
   "id": "24857e62",
   "metadata": {},
   "outputs": [],
   "source": [
    "X_fe = X_black.copy(deep=True)"
   ]
  },
  {
   "cell_type": "code",
   "execution_count": 28,
   "id": "4dd65734",
   "metadata": {},
   "outputs": [],
   "source": [
    "transformer = FuncTransformer()"
   ]
  },
  {
   "cell_type": "code",
   "execution_count": 29,
   "id": "2fb7486f",
   "metadata": {},
   "outputs": [],
   "source": [
    "new_residuals = logger.y_pred - logger.y_test\n",
    "new_resid_data = {\n",
    "    'y_pred': logger.y_pred,\n",
    "    'residuals':new_residuals,\n",
    "}\n",
    "new_residual_df = pd.DataFrame(new_resid_data)"
   ]
  },
  {
   "cell_type": "code",
   "execution_count": 30,
   "id": "b416b07a",
   "metadata": {
    "collapsed": true
   },
   "outputs": [
    {
     "data": {
      "application/vnd.plotly.v1+json": {
       "config": {
        "plotlyServerURL": "https://plot.ly"
       },
       "data": [
        {
         "hovertemplate": "y_pred=%{x}<br>residuals=%{y}<extra></extra>",
         "legendgroup": "",
         "marker": {
          "color": "#636efa",
          "symbol": "circle"
         },
         "mode": "markers",
         "name": "",
         "orientation": "v",
         "showlegend": false,
         "type": "scatter",
         "x": [
          36.419215477139616,
          36.680238581052336,
          32.05406318559722,
          36.39059055616277,
          29.682280395712286,
          38.55349960162692,
          33.453459337421286,
          47.24566883177046,
          52.25378431916992,
          28.580863419763894,
          63.80789876822415,
          40.335500396521184,
          33.215553668538995,
          43.777833798682956,
          28.77294491733818,
          16.354064865106494,
          25.791905307849923,
          32.37389723363918,
          61.1924442521193,
          41.72832258659341,
          32.5829740666034,
          47.2610420870977,
          86.73242495885629,
          23.776014341401787,
          50.898887306227344,
          55.64276582088012,
          13.286990816945384,
          36.17969904979299,
          32.295891269488145,
          48.28396547005394,
          54.2560160641508,
          28.803620337486166,
          63.116879194765005,
          23.304718788974327,
          83.11520247488163,
          28.851425675604233,
          43.05099086180605,
          38.68265466198206,
          58.68098166388654,
          39.794543364406266,
          47.96228768856959,
          27.629795805333593,
          24.77613673789021,
          28.653975537950863,
          49.29010640113625,
          52.684002666219364,
          49.16929730732887,
          61.16627281670682,
          25.03540957636922,
          6.956955361567417,
          40.461825135404254,
          15.858947642553463,
          60.59857936863192,
          14.43651952019884,
          29.528684745649713,
          18.386874880619335,
          34.56445633658861,
          35.69784299435691,
          36.98694357192905,
          58.0742653663807,
          22.110928608463603,
          41.099840175071506,
          30.119205631055124,
          16.188312001154866,
          26.082043674412883,
          29.610968596369567,
          27.914160884351606,
          41.04227793914578,
          27.957136078405977,
          37.276573647683854,
          22.841813945217332,
          59.480054215099614,
          56.819021198020586,
          23.06758651039568,
          38.151245877037375,
          44.67537226014075,
          90.17859519066177,
          33.84568701079775,
          39.21380583282074,
          26.706640242923,
          28.283304145633924,
          23.068221789863117,
          35.67507634410254,
          44.65914711358655,
          23.728376533537805,
          56.25477312933287,
          16.076200642712116,
          3.3548850747359396,
          38.8171564693713,
          48.66514787079761,
          49.43195629966974,
          66.05630823476415,
          29.002411782329762,
          29.20879434806303,
          59.29587037067296,
          83.49762283066497,
          18.94309185778934,
          36.39998208489327,
          33.81935339304111,
          68.66296876145816,
          31.805394522964463,
          49.998461955623505,
          57.26754337823305,
          41.06699270164299,
          77.19840925515675,
          20.14748686195733,
          38.84431971335836,
          34.477066396329064,
          36.389674211152155,
          21.087485108071583,
          52.26898268548464,
          39.7253219400229,
          41.2583857413763,
          45.768156945596886,
          34.96985842205927,
          17.30150696915901,
          27.906065235053738,
          40.87662802554642,
          44.41255451152104,
          33.87289020652133,
          80.5507507322241,
          34.72567622001017,
          37.27132709785463,
          33.788689560470516,
          93.41357907723145,
          41.832844574811496,
          44.014926655940684,
          19.210710386219514,
          34.85251923676559,
          54.16613988763505,
          20.164147755449054,
          55.19277042871203,
          40.51338611083969,
          39.862076460310924,
          27.7184092596177,
          31.329661983912352,
          20.549623518270593,
          58.6989843198336,
          30.274389714385087,
          25.2142682056041,
          -11.951032691395746,
          26.633542177195245,
          18.865866784658078,
          62.280638033195444,
          18.370795071683204,
          17.7390054575838,
          32.32012577776503,
          29.303516348807968,
          59.924078218249925,
          42.20428192484057,
          29.785991591249168,
          47.25272990723912,
          33.319872882410785,
          18.096499773391184,
          43.649995885922614,
          53.999971217858516,
          57.80364958665105,
          49.48389602017783,
          15.095333382507572,
          38.976067265203746,
          66.24350730831725,
          30.96588863481323,
          37.39622564019528,
          38.38162516530584,
          120.43688355333465,
          29.14309616016994,
          42.84656603461497,
          21.3660841898755,
          26.64545363101814,
          26.829313449504987,
          49.76821413991423,
          25.600252263053,
          46.25885932465947,
          52.71067777474297,
          43.20727707447815,
          38.37429795905395,
          85.13121131546013,
          48.331603147890526,
          22.251536942362343,
          68.32880677644152,
          23.884203518860712,
          29.04542675813901,
          67.86957340656758,
          23.49949700654422,
          47.554794158970054,
          17.486748540847024,
          51.853824277536674,
          28.135119707620547,
          51.46304597634466,
          39.758545752177234,
          49.270164296033144,
          53.243403728410165,
          33.069930125702975,
          35.34581842687744,
          27.640204852235094,
          35.03438855138761,
          58.40272533555824,
          52.58481037068685,
          42.957328318566006,
          64.64354945753173,
          56.57936585495353,
          40.773067702261244,
          61.49817905637559
         ],
         "xaxis": "x",
         "y": [
          3.419215477139616,
          -13.319761418947664,
          -13.945936814402778,
          0.3905905561627705,
          16.682280395712286,
          6.553499601626918,
          4.453459337421286,
          9.245668831770459,
          -5.746215680830083,
          28.580863419763894,
          -3.192101231775851,
          11.335500396521184,
          12.215553668538995,
          -1.2221662013170445,
          9.77294491733818,
          -33.645935134893506,
          -14.208094692150077,
          -6.626102766360823,
          18.1924442521193,
          -8.271677413406593,
          -18.4170259333966,
          7.2610420870976995,
          0.732424958856285,
          6.776014341401787,
          42.898887306227344,
          -7.357234179119878,
          13.286990816945384,
          -63.82030095020701,
          -3.704108730511855,
          -5.716034529946057,
          -8.7439839358492,
          19.803620337486166,
          6.116879194765005,
          12.304718788974327,
          -10.884797525118373,
          -15.148574324395767,
          12.05099086180605,
          -4.317345338017937,
          -22.31901833611346,
          1.794543364406266,
          3.962287688569589,
          15.629795805333593,
          -75.22386326210979,
          11.653975537950863,
          -3.7098935988637507,
          2.6840026662193637,
          49.16929730732887,
          -38.83372718329318,
          0.0354095763692186,
          -0.043044638432583326,
          0.4618251354042542,
          -84.14105235744654,
          -39.40142063136808,
          11.43651952019884,
          29.528684745649713,
          8.386874880619335,
          -5.435543663411387,
          35.69784299435691,
          7.9869435719290465,
          24.0742653663807,
          -8.889071391536397,
          1.099840175071506,
          -2.8807943689448763,
          -12.811687998845134,
          7.082043674412883,
          -20.389031403630433,
          13.914160884351606,
          -31.957722060854223,
          7.957136078405977,
          -30.723426352316146,
          9.841813945217332,
          6.480054215099614,
          3.819021198020586,
          7.067586510395682,
          -0.8487541229626245,
          15.675372260140747,
          4.178595190661767,
          4.8456870107977466,
          14.21380583282074,
          -14.293359757076999,
          -21.716695854366076,
          4.0682217898631166,
          24.675076344102543,
          -14.340852886413451,
          23.728376533537805,
          6.254773129332868,
          16.076200642712116,
          3.3548850747359396,
          -7.182843530628702,
          -11.334852129202389,
          -7.568043700330257,
          -4.9436917652358545,
          19.002411782329762,
          5.20879434806303,
          2.295870370672958,
          21.497622830664966,
          -19.05690814221066,
          -41.60001791510673,
          0.8193533930411121,
          9.66296876145816,
          8.805394522964463,
          0.9984619556235046,
          -10.73245662176695,
          -18.933007298357012,
          -15.801590744843253,
          3.1474868619573293,
          -0.15568028664164046,
          -32.522933603670936,
          -13.610325788847845,
          -14.912514891928417,
          19.268982685484637,
          9.725321940022901,
          1.2583857413763013,
          6.7681569455968855,
          -7.030141577940732,
          -2.6984930308409893,
          27.906065235053738,
          17.876628025546417,
          -5.587445488478963,
          7.872890206521333,
          16.550750732224103,
          3.725676220010172,
          -26.72867290214537,
          -1.211310439529484,
          1.4135790772314465,
          -10.167155425188504,
          -1.985073344059316,
          -0.7892896137804861,
          -32.14748076323441,
          -8.833860112364952,
          -19.835852244550946,
          25.19277042871203,
          -8.48661388916031,
          -60.137923539689076,
          0.718409259617701,
          -16.670338016087648,
          12.549623518270593,
          -14.301015680166401,
          6.274389714385087,
          25.2142682056041,
          -16.951032691395746,
          -3.3664578228047546,
          3.8658667846580776,
          -3.7193619668045557,
          5.3707950716832045,
          -25.2609945424162,
          5.320125777765028,
          -16.696483651192032,
          -19.075921781750075,
          -57.79571807515943,
          21.785991591249168,
          14.252729907239122,
          33.319872882410785,
          -8.903500226608816,
          -3.350004114077386,
          53.999971217858516,
          -11.196350413348952,
          -27.51610397982217,
          -60.904666617492424,
          13.976067265203746,
          -0.7564926916827517,
          9.96588863481323,
          -5.603774359804717,
          15.381625165305842,
          36.43688355333465,
          -3.8569038398300606,
          32.84656603461497,
          -40.6339158101245,
          3.645453631018139,
          -3.170686550495013,
          -5.231785860085772,
          15.600252263053001,
          46.25885932465947,
          -3.289322225257031,
          -10.79272292552185,
          -12.625702040946052,
          -3.868788684539865,
          -1.668396852109474,
          22.251536942362343,
          8.328806776441525,
          10.884203518860712,
          -8.954573241860992,
          2.869573406567582,
          9.499497006544221,
          47.554794158970054,
          -3.5132514591529755,
          -11.146175722463326,
          -5.864880292379453,
          3.4630459763446595,
          16.758545752177234,
          -17.729835703966856,
          -20.756596271589835,
          10.069930125702975,
          -44.65418157312256,
          27.640204852235094,
          14.034388551387607,
          -2.5972746644417626,
          -47.41518962931315,
          34.957328318566006,
          -11.356450542468266,
          -43.42063414504647,
          12.773067702261244,
          -13.50182094362441
         ],
         "yaxis": "y"
        }
       ],
       "layout": {
        "legend": {
         "tracegroupgap": 0
        },
        "margin": {
         "t": 60
        },
        "template": {
         "data": {
          "bar": [
           {
            "error_x": {
             "color": "#2a3f5f"
            },
            "error_y": {
             "color": "#2a3f5f"
            },
            "marker": {
             "line": {
              "color": "#E5ECF6",
              "width": 0.5
             },
             "pattern": {
              "fillmode": "overlay",
              "size": 10,
              "solidity": 0.2
             }
            },
            "type": "bar"
           }
          ],
          "barpolar": [
           {
            "marker": {
             "line": {
              "color": "#E5ECF6",
              "width": 0.5
             },
             "pattern": {
              "fillmode": "overlay",
              "size": 10,
              "solidity": 0.2
             }
            },
            "type": "barpolar"
           }
          ],
          "carpet": [
           {
            "aaxis": {
             "endlinecolor": "#2a3f5f",
             "gridcolor": "white",
             "linecolor": "white",
             "minorgridcolor": "white",
             "startlinecolor": "#2a3f5f"
            },
            "baxis": {
             "endlinecolor": "#2a3f5f",
             "gridcolor": "white",
             "linecolor": "white",
             "minorgridcolor": "white",
             "startlinecolor": "#2a3f5f"
            },
            "type": "carpet"
           }
          ],
          "choropleth": [
           {
            "colorbar": {
             "outlinewidth": 0,
             "ticks": ""
            },
            "type": "choropleth"
           }
          ],
          "contour": [
           {
            "colorbar": {
             "outlinewidth": 0,
             "ticks": ""
            },
            "colorscale": [
             [
              0,
              "#0d0887"
             ],
             [
              0.1111111111111111,
              "#46039f"
             ],
             [
              0.2222222222222222,
              "#7201a8"
             ],
             [
              0.3333333333333333,
              "#9c179e"
             ],
             [
              0.4444444444444444,
              "#bd3786"
             ],
             [
              0.5555555555555556,
              "#d8576b"
             ],
             [
              0.6666666666666666,
              "#ed7953"
             ],
             [
              0.7777777777777778,
              "#fb9f3a"
             ],
             [
              0.8888888888888888,
              "#fdca26"
             ],
             [
              1,
              "#f0f921"
             ]
            ],
            "type": "contour"
           }
          ],
          "contourcarpet": [
           {
            "colorbar": {
             "outlinewidth": 0,
             "ticks": ""
            },
            "type": "contourcarpet"
           }
          ],
          "heatmap": [
           {
            "colorbar": {
             "outlinewidth": 0,
             "ticks": ""
            },
            "colorscale": [
             [
              0,
              "#0d0887"
             ],
             [
              0.1111111111111111,
              "#46039f"
             ],
             [
              0.2222222222222222,
              "#7201a8"
             ],
             [
              0.3333333333333333,
              "#9c179e"
             ],
             [
              0.4444444444444444,
              "#bd3786"
             ],
             [
              0.5555555555555556,
              "#d8576b"
             ],
             [
              0.6666666666666666,
              "#ed7953"
             ],
             [
              0.7777777777777778,
              "#fb9f3a"
             ],
             [
              0.8888888888888888,
              "#fdca26"
             ],
             [
              1,
              "#f0f921"
             ]
            ],
            "type": "heatmap"
           }
          ],
          "heatmapgl": [
           {
            "colorbar": {
             "outlinewidth": 0,
             "ticks": ""
            },
            "colorscale": [
             [
              0,
              "#0d0887"
             ],
             [
              0.1111111111111111,
              "#46039f"
             ],
             [
              0.2222222222222222,
              "#7201a8"
             ],
             [
              0.3333333333333333,
              "#9c179e"
             ],
             [
              0.4444444444444444,
              "#bd3786"
             ],
             [
              0.5555555555555556,
              "#d8576b"
             ],
             [
              0.6666666666666666,
              "#ed7953"
             ],
             [
              0.7777777777777778,
              "#fb9f3a"
             ],
             [
              0.8888888888888888,
              "#fdca26"
             ],
             [
              1,
              "#f0f921"
             ]
            ],
            "type": "heatmapgl"
           }
          ],
          "histogram": [
           {
            "marker": {
             "pattern": {
              "fillmode": "overlay",
              "size": 10,
              "solidity": 0.2
             }
            },
            "type": "histogram"
           }
          ],
          "histogram2d": [
           {
            "colorbar": {
             "outlinewidth": 0,
             "ticks": ""
            },
            "colorscale": [
             [
              0,
              "#0d0887"
             ],
             [
              0.1111111111111111,
              "#46039f"
             ],
             [
              0.2222222222222222,
              "#7201a8"
             ],
             [
              0.3333333333333333,
              "#9c179e"
             ],
             [
              0.4444444444444444,
              "#bd3786"
             ],
             [
              0.5555555555555556,
              "#d8576b"
             ],
             [
              0.6666666666666666,
              "#ed7953"
             ],
             [
              0.7777777777777778,
              "#fb9f3a"
             ],
             [
              0.8888888888888888,
              "#fdca26"
             ],
             [
              1,
              "#f0f921"
             ]
            ],
            "type": "histogram2d"
           }
          ],
          "histogram2dcontour": [
           {
            "colorbar": {
             "outlinewidth": 0,
             "ticks": ""
            },
            "colorscale": [
             [
              0,
              "#0d0887"
             ],
             [
              0.1111111111111111,
              "#46039f"
             ],
             [
              0.2222222222222222,
              "#7201a8"
             ],
             [
              0.3333333333333333,
              "#9c179e"
             ],
             [
              0.4444444444444444,
              "#bd3786"
             ],
             [
              0.5555555555555556,
              "#d8576b"
             ],
             [
              0.6666666666666666,
              "#ed7953"
             ],
             [
              0.7777777777777778,
              "#fb9f3a"
             ],
             [
              0.8888888888888888,
              "#fdca26"
             ],
             [
              1,
              "#f0f921"
             ]
            ],
            "type": "histogram2dcontour"
           }
          ],
          "mesh3d": [
           {
            "colorbar": {
             "outlinewidth": 0,
             "ticks": ""
            },
            "type": "mesh3d"
           }
          ],
          "parcoords": [
           {
            "line": {
             "colorbar": {
              "outlinewidth": 0,
              "ticks": ""
             }
            },
            "type": "parcoords"
           }
          ],
          "pie": [
           {
            "automargin": true,
            "type": "pie"
           }
          ],
          "scatter": [
           {
            "marker": {
             "colorbar": {
              "outlinewidth": 0,
              "ticks": ""
             }
            },
            "type": "scatter"
           }
          ],
          "scatter3d": [
           {
            "line": {
             "colorbar": {
              "outlinewidth": 0,
              "ticks": ""
             }
            },
            "marker": {
             "colorbar": {
              "outlinewidth": 0,
              "ticks": ""
             }
            },
            "type": "scatter3d"
           }
          ],
          "scattercarpet": [
           {
            "marker": {
             "colorbar": {
              "outlinewidth": 0,
              "ticks": ""
             }
            },
            "type": "scattercarpet"
           }
          ],
          "scattergeo": [
           {
            "marker": {
             "colorbar": {
              "outlinewidth": 0,
              "ticks": ""
             }
            },
            "type": "scattergeo"
           }
          ],
          "scattergl": [
           {
            "marker": {
             "colorbar": {
              "outlinewidth": 0,
              "ticks": ""
             }
            },
            "type": "scattergl"
           }
          ],
          "scattermapbox": [
           {
            "marker": {
             "colorbar": {
              "outlinewidth": 0,
              "ticks": ""
             }
            },
            "type": "scattermapbox"
           }
          ],
          "scatterpolar": [
           {
            "marker": {
             "colorbar": {
              "outlinewidth": 0,
              "ticks": ""
             }
            },
            "type": "scatterpolar"
           }
          ],
          "scatterpolargl": [
           {
            "marker": {
             "colorbar": {
              "outlinewidth": 0,
              "ticks": ""
             }
            },
            "type": "scatterpolargl"
           }
          ],
          "scatterternary": [
           {
            "marker": {
             "colorbar": {
              "outlinewidth": 0,
              "ticks": ""
             }
            },
            "type": "scatterternary"
           }
          ],
          "surface": [
           {
            "colorbar": {
             "outlinewidth": 0,
             "ticks": ""
            },
            "colorscale": [
             [
              0,
              "#0d0887"
             ],
             [
              0.1111111111111111,
              "#46039f"
             ],
             [
              0.2222222222222222,
              "#7201a8"
             ],
             [
              0.3333333333333333,
              "#9c179e"
             ],
             [
              0.4444444444444444,
              "#bd3786"
             ],
             [
              0.5555555555555556,
              "#d8576b"
             ],
             [
              0.6666666666666666,
              "#ed7953"
             ],
             [
              0.7777777777777778,
              "#fb9f3a"
             ],
             [
              0.8888888888888888,
              "#fdca26"
             ],
             [
              1,
              "#f0f921"
             ]
            ],
            "type": "surface"
           }
          ],
          "table": [
           {
            "cells": {
             "fill": {
              "color": "#EBF0F8"
             },
             "line": {
              "color": "white"
             }
            },
            "header": {
             "fill": {
              "color": "#C8D4E3"
             },
             "line": {
              "color": "white"
             }
            },
            "type": "table"
           }
          ]
         },
         "layout": {
          "annotationdefaults": {
           "arrowcolor": "#2a3f5f",
           "arrowhead": 0,
           "arrowwidth": 1
          },
          "autotypenumbers": "strict",
          "coloraxis": {
           "colorbar": {
            "outlinewidth": 0,
            "ticks": ""
           }
          },
          "colorscale": {
           "diverging": [
            [
             0,
             "#8e0152"
            ],
            [
             0.1,
             "#c51b7d"
            ],
            [
             0.2,
             "#de77ae"
            ],
            [
             0.3,
             "#f1b6da"
            ],
            [
             0.4,
             "#fde0ef"
            ],
            [
             0.5,
             "#f7f7f7"
            ],
            [
             0.6,
             "#e6f5d0"
            ],
            [
             0.7,
             "#b8e186"
            ],
            [
             0.8,
             "#7fbc41"
            ],
            [
             0.9,
             "#4d9221"
            ],
            [
             1,
             "#276419"
            ]
           ],
           "sequential": [
            [
             0,
             "#0d0887"
            ],
            [
             0.1111111111111111,
             "#46039f"
            ],
            [
             0.2222222222222222,
             "#7201a8"
            ],
            [
             0.3333333333333333,
             "#9c179e"
            ],
            [
             0.4444444444444444,
             "#bd3786"
            ],
            [
             0.5555555555555556,
             "#d8576b"
            ],
            [
             0.6666666666666666,
             "#ed7953"
            ],
            [
             0.7777777777777778,
             "#fb9f3a"
            ],
            [
             0.8888888888888888,
             "#fdca26"
            ],
            [
             1,
             "#f0f921"
            ]
           ],
           "sequentialminus": [
            [
             0,
             "#0d0887"
            ],
            [
             0.1111111111111111,
             "#46039f"
            ],
            [
             0.2222222222222222,
             "#7201a8"
            ],
            [
             0.3333333333333333,
             "#9c179e"
            ],
            [
             0.4444444444444444,
             "#bd3786"
            ],
            [
             0.5555555555555556,
             "#d8576b"
            ],
            [
             0.6666666666666666,
             "#ed7953"
            ],
            [
             0.7777777777777778,
             "#fb9f3a"
            ],
            [
             0.8888888888888888,
             "#fdca26"
            ],
            [
             1,
             "#f0f921"
            ]
           ]
          },
          "colorway": [
           "#636efa",
           "#EF553B",
           "#00cc96",
           "#ab63fa",
           "#FFA15A",
           "#19d3f3",
           "#FF6692",
           "#B6E880",
           "#FF97FF",
           "#FECB52"
          ],
          "font": {
           "color": "#2a3f5f"
          },
          "geo": {
           "bgcolor": "white",
           "lakecolor": "white",
           "landcolor": "#E5ECF6",
           "showlakes": true,
           "showland": true,
           "subunitcolor": "white"
          },
          "hoverlabel": {
           "align": "left"
          },
          "hovermode": "closest",
          "mapbox": {
           "style": "light"
          },
          "paper_bgcolor": "white",
          "plot_bgcolor": "#E5ECF6",
          "polar": {
           "angularaxis": {
            "gridcolor": "white",
            "linecolor": "white",
            "ticks": ""
           },
           "bgcolor": "#E5ECF6",
           "radialaxis": {
            "gridcolor": "white",
            "linecolor": "white",
            "ticks": ""
           }
          },
          "scene": {
           "xaxis": {
            "backgroundcolor": "#E5ECF6",
            "gridcolor": "white",
            "gridwidth": 2,
            "linecolor": "white",
            "showbackground": true,
            "ticks": "",
            "zerolinecolor": "white"
           },
           "yaxis": {
            "backgroundcolor": "#E5ECF6",
            "gridcolor": "white",
            "gridwidth": 2,
            "linecolor": "white",
            "showbackground": true,
            "ticks": "",
            "zerolinecolor": "white"
           },
           "zaxis": {
            "backgroundcolor": "#E5ECF6",
            "gridcolor": "white",
            "gridwidth": 2,
            "linecolor": "white",
            "showbackground": true,
            "ticks": "",
            "zerolinecolor": "white"
           }
          },
          "shapedefaults": {
           "line": {
            "color": "#2a3f5f"
           }
          },
          "ternary": {
           "aaxis": {
            "gridcolor": "white",
            "linecolor": "white",
            "ticks": ""
           },
           "baxis": {
            "gridcolor": "white",
            "linecolor": "white",
            "ticks": ""
           },
           "bgcolor": "#E5ECF6",
           "caxis": {
            "gridcolor": "white",
            "linecolor": "white",
            "ticks": ""
           }
          },
          "title": {
           "x": 0.05
          },
          "xaxis": {
           "automargin": true,
           "gridcolor": "white",
           "linecolor": "white",
           "ticks": "",
           "title": {
            "standoff": 15
           },
           "zerolinecolor": "white",
           "zerolinewidth": 2
          },
          "yaxis": {
           "automargin": true,
           "gridcolor": "white",
           "linecolor": "white",
           "ticks": "",
           "title": {
            "standoff": 15
           },
           "zerolinecolor": "white",
           "zerolinewidth": 2
          }
         }
        },
        "xaxis": {
         "anchor": "y",
         "domain": [
          0,
          1
         ],
         "title": {
          "text": "y_pred"
         }
        },
        "yaxis": {
         "anchor": "x",
         "domain": [
          0,
          1
         ],
         "title": {
          "text": "residuals"
         }
        }
       }
      },
      "text/html": [
       "<div>                            <div id=\"fca02f14-b6cd-4c44-b998-b831ab986aac\" class=\"plotly-graph-div\" style=\"height:525px; width:100%;\"></div>            <script type=\"text/javascript\">                require([\"plotly\"], function(Plotly) {                    window.PLOTLYENV=window.PLOTLYENV || {};                                    if (document.getElementById(\"fca02f14-b6cd-4c44-b998-b831ab986aac\")) {                    Plotly.newPlot(                        \"fca02f14-b6cd-4c44-b998-b831ab986aac\",                        [{\"hovertemplate\":\"y_pred=%{x}<br>residuals=%{y}<extra></extra>\",\"legendgroup\":\"\",\"marker\":{\"color\":\"#636efa\",\"symbol\":\"circle\"},\"mode\":\"markers\",\"name\":\"\",\"orientation\":\"v\",\"showlegend\":false,\"type\":\"scatter\",\"x\":[36.419215477139616,36.680238581052336,32.05406318559722,36.39059055616277,29.682280395712286,38.55349960162692,33.453459337421286,47.24566883177046,52.25378431916992,28.580863419763894,63.80789876822415,40.335500396521184,33.215553668538995,43.777833798682956,28.77294491733818,16.354064865106494,25.791905307849923,32.37389723363918,61.1924442521193,41.72832258659341,32.5829740666034,47.2610420870977,86.73242495885629,23.776014341401787,50.898887306227344,55.64276582088012,13.286990816945384,36.17969904979299,32.295891269488145,48.28396547005394,54.2560160641508,28.803620337486166,63.116879194765005,23.304718788974327,83.11520247488163,28.851425675604233,43.05099086180605,38.68265466198206,58.68098166388654,39.794543364406266,47.96228768856959,27.629795805333593,24.77613673789021,28.653975537950863,49.29010640113625,52.684002666219364,49.16929730732887,61.16627281670682,25.03540957636922,6.956955361567417,40.461825135404254,15.858947642553463,60.59857936863192,14.43651952019884,29.528684745649713,18.386874880619335,34.56445633658861,35.69784299435691,36.98694357192905,58.0742653663807,22.110928608463603,41.099840175071506,30.119205631055124,16.188312001154866,26.082043674412883,29.610968596369567,27.914160884351606,41.04227793914578,27.957136078405977,37.276573647683854,22.841813945217332,59.480054215099614,56.819021198020586,23.06758651039568,38.151245877037375,44.67537226014075,90.17859519066177,33.84568701079775,39.21380583282074,26.706640242923,28.283304145633924,23.068221789863117,35.67507634410254,44.65914711358655,23.728376533537805,56.25477312933287,16.076200642712116,3.3548850747359396,38.8171564693713,48.66514787079761,49.43195629966974,66.05630823476415,29.002411782329762,29.20879434806303,59.29587037067296,83.49762283066497,18.94309185778934,36.39998208489327,33.81935339304111,68.66296876145816,31.805394522964463,49.998461955623505,57.26754337823305,41.06699270164299,77.19840925515675,20.14748686195733,38.84431971335836,34.477066396329064,36.389674211152155,21.087485108071583,52.26898268548464,39.7253219400229,41.2583857413763,45.768156945596886,34.96985842205927,17.30150696915901,27.906065235053738,40.87662802554642,44.41255451152104,33.87289020652133,80.5507507322241,34.72567622001017,37.27132709785463,33.788689560470516,93.41357907723145,41.832844574811496,44.014926655940684,19.210710386219514,34.85251923676559,54.16613988763505,20.164147755449054,55.19277042871203,40.51338611083969,39.862076460310924,27.7184092596177,31.329661983912352,20.549623518270593,58.6989843198336,30.274389714385087,25.2142682056041,-11.951032691395746,26.633542177195245,18.865866784658078,62.280638033195444,18.370795071683204,17.7390054575838,32.32012577776503,29.303516348807968,59.924078218249925,42.20428192484057,29.785991591249168,47.25272990723912,33.319872882410785,18.096499773391184,43.649995885922614,53.999971217858516,57.80364958665105,49.48389602017783,15.095333382507572,38.976067265203746,66.24350730831725,30.96588863481323,37.39622564019528,38.38162516530584,120.43688355333465,29.14309616016994,42.84656603461497,21.3660841898755,26.64545363101814,26.829313449504987,49.76821413991423,25.600252263053,46.25885932465947,52.71067777474297,43.20727707447815,38.37429795905395,85.13121131546013,48.331603147890526,22.251536942362343,68.32880677644152,23.884203518860712,29.04542675813901,67.86957340656758,23.49949700654422,47.554794158970054,17.486748540847024,51.853824277536674,28.135119707620547,51.46304597634466,39.758545752177234,49.270164296033144,53.243403728410165,33.069930125702975,35.34581842687744,27.640204852235094,35.03438855138761,58.40272533555824,52.58481037068685,42.957328318566006,64.64354945753173,56.57936585495353,40.773067702261244,61.49817905637559],\"xaxis\":\"x\",\"y\":[3.419215477139616,-13.319761418947664,-13.945936814402778,0.3905905561627705,16.682280395712286,6.553499601626918,4.453459337421286,9.245668831770459,-5.746215680830083,28.580863419763894,-3.192101231775851,11.335500396521184,12.215553668538995,-1.2221662013170445,9.77294491733818,-33.645935134893506,-14.208094692150077,-6.626102766360823,18.1924442521193,-8.271677413406593,-18.4170259333966,7.2610420870976995,0.732424958856285,6.776014341401787,42.898887306227344,-7.357234179119878,13.286990816945384,-63.82030095020701,-3.704108730511855,-5.716034529946057,-8.7439839358492,19.803620337486166,6.116879194765005,12.304718788974327,-10.884797525118373,-15.148574324395767,12.05099086180605,-4.317345338017937,-22.31901833611346,1.794543364406266,3.962287688569589,15.629795805333593,-75.22386326210979,11.653975537950863,-3.7098935988637507,2.6840026662193637,49.16929730732887,-38.83372718329318,0.0354095763692186,-0.043044638432583326,0.4618251354042542,-84.14105235744654,-39.40142063136808,11.43651952019884,29.528684745649713,8.386874880619335,-5.435543663411387,35.69784299435691,7.9869435719290465,24.0742653663807,-8.889071391536397,1.099840175071506,-2.8807943689448763,-12.811687998845134,7.082043674412883,-20.389031403630433,13.914160884351606,-31.957722060854223,7.957136078405977,-30.723426352316146,9.841813945217332,6.480054215099614,3.819021198020586,7.067586510395682,-0.8487541229626245,15.675372260140747,4.178595190661767,4.8456870107977466,14.21380583282074,-14.293359757076999,-21.716695854366076,4.0682217898631166,24.675076344102543,-14.340852886413451,23.728376533537805,6.254773129332868,16.076200642712116,3.3548850747359396,-7.182843530628702,-11.334852129202389,-7.568043700330257,-4.9436917652358545,19.002411782329762,5.20879434806303,2.295870370672958,21.497622830664966,-19.05690814221066,-41.60001791510673,0.8193533930411121,9.66296876145816,8.805394522964463,0.9984619556235046,-10.73245662176695,-18.933007298357012,-15.801590744843253,3.1474868619573293,-0.15568028664164046,-32.522933603670936,-13.610325788847845,-14.912514891928417,19.268982685484637,9.725321940022901,1.2583857413763013,6.7681569455968855,-7.030141577940732,-2.6984930308409893,27.906065235053738,17.876628025546417,-5.587445488478963,7.872890206521333,16.550750732224103,3.725676220010172,-26.72867290214537,-1.211310439529484,1.4135790772314465,-10.167155425188504,-1.985073344059316,-0.7892896137804861,-32.14748076323441,-8.833860112364952,-19.835852244550946,25.19277042871203,-8.48661388916031,-60.137923539689076,0.718409259617701,-16.670338016087648,12.549623518270593,-14.301015680166401,6.274389714385087,25.2142682056041,-16.951032691395746,-3.3664578228047546,3.8658667846580776,-3.7193619668045557,5.3707950716832045,-25.2609945424162,5.320125777765028,-16.696483651192032,-19.075921781750075,-57.79571807515943,21.785991591249168,14.252729907239122,33.319872882410785,-8.903500226608816,-3.350004114077386,53.999971217858516,-11.196350413348952,-27.51610397982217,-60.904666617492424,13.976067265203746,-0.7564926916827517,9.96588863481323,-5.603774359804717,15.381625165305842,36.43688355333465,-3.8569038398300606,32.84656603461497,-40.6339158101245,3.645453631018139,-3.170686550495013,-5.231785860085772,15.600252263053001,46.25885932465947,-3.289322225257031,-10.79272292552185,-12.625702040946052,-3.868788684539865,-1.668396852109474,22.251536942362343,8.328806776441525,10.884203518860712,-8.954573241860992,2.869573406567582,9.499497006544221,47.554794158970054,-3.5132514591529755,-11.146175722463326,-5.864880292379453,3.4630459763446595,16.758545752177234,-17.729835703966856,-20.756596271589835,10.069930125702975,-44.65418157312256,27.640204852235094,14.034388551387607,-2.5972746644417626,-47.41518962931315,34.957328318566006,-11.356450542468266,-43.42063414504647,12.773067702261244,-13.50182094362441],\"yaxis\":\"y\"}],                        {\"legend\":{\"tracegroupgap\":0},\"margin\":{\"t\":60},\"template\":{\"data\":{\"bar\":[{\"error_x\":{\"color\":\"#2a3f5f\"},\"error_y\":{\"color\":\"#2a3f5f\"},\"marker\":{\"line\":{\"color\":\"#E5ECF6\",\"width\":0.5},\"pattern\":{\"fillmode\":\"overlay\",\"size\":10,\"solidity\":0.2}},\"type\":\"bar\"}],\"barpolar\":[{\"marker\":{\"line\":{\"color\":\"#E5ECF6\",\"width\":0.5},\"pattern\":{\"fillmode\":\"overlay\",\"size\":10,\"solidity\":0.2}},\"type\":\"barpolar\"}],\"carpet\":[{\"aaxis\":{\"endlinecolor\":\"#2a3f5f\",\"gridcolor\":\"white\",\"linecolor\":\"white\",\"minorgridcolor\":\"white\",\"startlinecolor\":\"#2a3f5f\"},\"baxis\":{\"endlinecolor\":\"#2a3f5f\",\"gridcolor\":\"white\",\"linecolor\":\"white\",\"minorgridcolor\":\"white\",\"startlinecolor\":\"#2a3f5f\"},\"type\":\"carpet\"}],\"choropleth\":[{\"colorbar\":{\"outlinewidth\":0,\"ticks\":\"\"},\"type\":\"choropleth\"}],\"contour\":[{\"colorbar\":{\"outlinewidth\":0,\"ticks\":\"\"},\"colorscale\":[[0.0,\"#0d0887\"],[0.1111111111111111,\"#46039f\"],[0.2222222222222222,\"#7201a8\"],[0.3333333333333333,\"#9c179e\"],[0.4444444444444444,\"#bd3786\"],[0.5555555555555556,\"#d8576b\"],[0.6666666666666666,\"#ed7953\"],[0.7777777777777778,\"#fb9f3a\"],[0.8888888888888888,\"#fdca26\"],[1.0,\"#f0f921\"]],\"type\":\"contour\"}],\"contourcarpet\":[{\"colorbar\":{\"outlinewidth\":0,\"ticks\":\"\"},\"type\":\"contourcarpet\"}],\"heatmap\":[{\"colorbar\":{\"outlinewidth\":0,\"ticks\":\"\"},\"colorscale\":[[0.0,\"#0d0887\"],[0.1111111111111111,\"#46039f\"],[0.2222222222222222,\"#7201a8\"],[0.3333333333333333,\"#9c179e\"],[0.4444444444444444,\"#bd3786\"],[0.5555555555555556,\"#d8576b\"],[0.6666666666666666,\"#ed7953\"],[0.7777777777777778,\"#fb9f3a\"],[0.8888888888888888,\"#fdca26\"],[1.0,\"#f0f921\"]],\"type\":\"heatmap\"}],\"heatmapgl\":[{\"colorbar\":{\"outlinewidth\":0,\"ticks\":\"\"},\"colorscale\":[[0.0,\"#0d0887\"],[0.1111111111111111,\"#46039f\"],[0.2222222222222222,\"#7201a8\"],[0.3333333333333333,\"#9c179e\"],[0.4444444444444444,\"#bd3786\"],[0.5555555555555556,\"#d8576b\"],[0.6666666666666666,\"#ed7953\"],[0.7777777777777778,\"#fb9f3a\"],[0.8888888888888888,\"#fdca26\"],[1.0,\"#f0f921\"]],\"type\":\"heatmapgl\"}],\"histogram\":[{\"marker\":{\"pattern\":{\"fillmode\":\"overlay\",\"size\":10,\"solidity\":0.2}},\"type\":\"histogram\"}],\"histogram2d\":[{\"colorbar\":{\"outlinewidth\":0,\"ticks\":\"\"},\"colorscale\":[[0.0,\"#0d0887\"],[0.1111111111111111,\"#46039f\"],[0.2222222222222222,\"#7201a8\"],[0.3333333333333333,\"#9c179e\"],[0.4444444444444444,\"#bd3786\"],[0.5555555555555556,\"#d8576b\"],[0.6666666666666666,\"#ed7953\"],[0.7777777777777778,\"#fb9f3a\"],[0.8888888888888888,\"#fdca26\"],[1.0,\"#f0f921\"]],\"type\":\"histogram2d\"}],\"histogram2dcontour\":[{\"colorbar\":{\"outlinewidth\":0,\"ticks\":\"\"},\"colorscale\":[[0.0,\"#0d0887\"],[0.1111111111111111,\"#46039f\"],[0.2222222222222222,\"#7201a8\"],[0.3333333333333333,\"#9c179e\"],[0.4444444444444444,\"#bd3786\"],[0.5555555555555556,\"#d8576b\"],[0.6666666666666666,\"#ed7953\"],[0.7777777777777778,\"#fb9f3a\"],[0.8888888888888888,\"#fdca26\"],[1.0,\"#f0f921\"]],\"type\":\"histogram2dcontour\"}],\"mesh3d\":[{\"colorbar\":{\"outlinewidth\":0,\"ticks\":\"\"},\"type\":\"mesh3d\"}],\"parcoords\":[{\"line\":{\"colorbar\":{\"outlinewidth\":0,\"ticks\":\"\"}},\"type\":\"parcoords\"}],\"pie\":[{\"automargin\":true,\"type\":\"pie\"}],\"scatter\":[{\"marker\":{\"colorbar\":{\"outlinewidth\":0,\"ticks\":\"\"}},\"type\":\"scatter\"}],\"scatter3d\":[{\"line\":{\"colorbar\":{\"outlinewidth\":0,\"ticks\":\"\"}},\"marker\":{\"colorbar\":{\"outlinewidth\":0,\"ticks\":\"\"}},\"type\":\"scatter3d\"}],\"scattercarpet\":[{\"marker\":{\"colorbar\":{\"outlinewidth\":0,\"ticks\":\"\"}},\"type\":\"scattercarpet\"}],\"scattergeo\":[{\"marker\":{\"colorbar\":{\"outlinewidth\":0,\"ticks\":\"\"}},\"type\":\"scattergeo\"}],\"scattergl\":[{\"marker\":{\"colorbar\":{\"outlinewidth\":0,\"ticks\":\"\"}},\"type\":\"scattergl\"}],\"scattermapbox\":[{\"marker\":{\"colorbar\":{\"outlinewidth\":0,\"ticks\":\"\"}},\"type\":\"scattermapbox\"}],\"scatterpolar\":[{\"marker\":{\"colorbar\":{\"outlinewidth\":0,\"ticks\":\"\"}},\"type\":\"scatterpolar\"}],\"scatterpolargl\":[{\"marker\":{\"colorbar\":{\"outlinewidth\":0,\"ticks\":\"\"}},\"type\":\"scatterpolargl\"}],\"scatterternary\":[{\"marker\":{\"colorbar\":{\"outlinewidth\":0,\"ticks\":\"\"}},\"type\":\"scatterternary\"}],\"surface\":[{\"colorbar\":{\"outlinewidth\":0,\"ticks\":\"\"},\"colorscale\":[[0.0,\"#0d0887\"],[0.1111111111111111,\"#46039f\"],[0.2222222222222222,\"#7201a8\"],[0.3333333333333333,\"#9c179e\"],[0.4444444444444444,\"#bd3786\"],[0.5555555555555556,\"#d8576b\"],[0.6666666666666666,\"#ed7953\"],[0.7777777777777778,\"#fb9f3a\"],[0.8888888888888888,\"#fdca26\"],[1.0,\"#f0f921\"]],\"type\":\"surface\"}],\"table\":[{\"cells\":{\"fill\":{\"color\":\"#EBF0F8\"},\"line\":{\"color\":\"white\"}},\"header\":{\"fill\":{\"color\":\"#C8D4E3\"},\"line\":{\"color\":\"white\"}},\"type\":\"table\"}]},\"layout\":{\"annotationdefaults\":{\"arrowcolor\":\"#2a3f5f\",\"arrowhead\":0,\"arrowwidth\":1},\"autotypenumbers\":\"strict\",\"coloraxis\":{\"colorbar\":{\"outlinewidth\":0,\"ticks\":\"\"}},\"colorscale\":{\"diverging\":[[0,\"#8e0152\"],[0.1,\"#c51b7d\"],[0.2,\"#de77ae\"],[0.3,\"#f1b6da\"],[0.4,\"#fde0ef\"],[0.5,\"#f7f7f7\"],[0.6,\"#e6f5d0\"],[0.7,\"#b8e186\"],[0.8,\"#7fbc41\"],[0.9,\"#4d9221\"],[1,\"#276419\"]],\"sequential\":[[0.0,\"#0d0887\"],[0.1111111111111111,\"#46039f\"],[0.2222222222222222,\"#7201a8\"],[0.3333333333333333,\"#9c179e\"],[0.4444444444444444,\"#bd3786\"],[0.5555555555555556,\"#d8576b\"],[0.6666666666666666,\"#ed7953\"],[0.7777777777777778,\"#fb9f3a\"],[0.8888888888888888,\"#fdca26\"],[1.0,\"#f0f921\"]],\"sequentialminus\":[[0.0,\"#0d0887\"],[0.1111111111111111,\"#46039f\"],[0.2222222222222222,\"#7201a8\"],[0.3333333333333333,\"#9c179e\"],[0.4444444444444444,\"#bd3786\"],[0.5555555555555556,\"#d8576b\"],[0.6666666666666666,\"#ed7953\"],[0.7777777777777778,\"#fb9f3a\"],[0.8888888888888888,\"#fdca26\"],[1.0,\"#f0f921\"]]},\"colorway\":[\"#636efa\",\"#EF553B\",\"#00cc96\",\"#ab63fa\",\"#FFA15A\",\"#19d3f3\",\"#FF6692\",\"#B6E880\",\"#FF97FF\",\"#FECB52\"],\"font\":{\"color\":\"#2a3f5f\"},\"geo\":{\"bgcolor\":\"white\",\"lakecolor\":\"white\",\"landcolor\":\"#E5ECF6\",\"showlakes\":true,\"showland\":true,\"subunitcolor\":\"white\"},\"hoverlabel\":{\"align\":\"left\"},\"hovermode\":\"closest\",\"mapbox\":{\"style\":\"light\"},\"paper_bgcolor\":\"white\",\"plot_bgcolor\":\"#E5ECF6\",\"polar\":{\"angularaxis\":{\"gridcolor\":\"white\",\"linecolor\":\"white\",\"ticks\":\"\"},\"bgcolor\":\"#E5ECF6\",\"radialaxis\":{\"gridcolor\":\"white\",\"linecolor\":\"white\",\"ticks\":\"\"}},\"scene\":{\"xaxis\":{\"backgroundcolor\":\"#E5ECF6\",\"gridcolor\":\"white\",\"gridwidth\":2,\"linecolor\":\"white\",\"showbackground\":true,\"ticks\":\"\",\"zerolinecolor\":\"white\"},\"yaxis\":{\"backgroundcolor\":\"#E5ECF6\",\"gridcolor\":\"white\",\"gridwidth\":2,\"linecolor\":\"white\",\"showbackground\":true,\"ticks\":\"\",\"zerolinecolor\":\"white\"},\"zaxis\":{\"backgroundcolor\":\"#E5ECF6\",\"gridcolor\":\"white\",\"gridwidth\":2,\"linecolor\":\"white\",\"showbackground\":true,\"ticks\":\"\",\"zerolinecolor\":\"white\"}},\"shapedefaults\":{\"line\":{\"color\":\"#2a3f5f\"}},\"ternary\":{\"aaxis\":{\"gridcolor\":\"white\",\"linecolor\":\"white\",\"ticks\":\"\"},\"baxis\":{\"gridcolor\":\"white\",\"linecolor\":\"white\",\"ticks\":\"\"},\"bgcolor\":\"#E5ECF6\",\"caxis\":{\"gridcolor\":\"white\",\"linecolor\":\"white\",\"ticks\":\"\"}},\"title\":{\"x\":0.05},\"xaxis\":{\"automargin\":true,\"gridcolor\":\"white\",\"linecolor\":\"white\",\"ticks\":\"\",\"title\":{\"standoff\":15},\"zerolinecolor\":\"white\",\"zerolinewidth\":2},\"yaxis\":{\"automargin\":true,\"gridcolor\":\"white\",\"linecolor\":\"white\",\"ticks\":\"\",\"title\":{\"standoff\":15},\"zerolinecolor\":\"white\",\"zerolinewidth\":2}}},\"xaxis\":{\"anchor\":\"y\",\"domain\":[0.0,1.0],\"title\":{\"text\":\"y_pred\"}},\"yaxis\":{\"anchor\":\"x\",\"domain\":[0.0,1.0],\"title\":{\"text\":\"residuals\"}}},                        {\"responsive\": true}                    ).then(function(){\n",
       "                            \n",
       "var gd = document.getElementById('fca02f14-b6cd-4c44-b998-b831ab986aac');\n",
       "var x = new MutationObserver(function (mutations, observer) {{\n",
       "        var display = window.getComputedStyle(gd).display;\n",
       "        if (!display || display === 'none') {{\n",
       "            console.log([gd, 'removed!']);\n",
       "            Plotly.purge(gd);\n",
       "            observer.disconnect();\n",
       "        }}\n",
       "}});\n",
       "\n",
       "// Listen for the removal of the full notebook cells\n",
       "var notebookContainer = gd.closest('#notebook-container');\n",
       "if (notebookContainer) {{\n",
       "    x.observe(notebookContainer, {childList: true});\n",
       "}}\n",
       "\n",
       "// Listen for the clearing of the current output cell\n",
       "var outputEl = gd.closest('.output');\n",
       "if (outputEl) {{\n",
       "    x.observe(outputEl, {childList: true});\n",
       "}}\n",
       "\n",
       "                        })                };                });            </script>        </div>"
      ]
     },
     "metadata": {},
     "output_type": "display_data"
    }
   ],
   "source": [
    "fig = px.scatter(new_residual_df, x='y_pred', y='residuals')\n",
    "\n",
    "fig.show()"
   ]
  },
  {
   "cell_type": "markdown",
   "id": "f1d21a95",
   "metadata": {},
   "source": [
    "### Next Steps\n",
    "<ol>\n",
    "    <li>Create Polynomial Features</li>\n",
    "    <li>Select the Best Polynomial Features</li>\n",
    "    <li>Add them to my model one by one to see if any further improvement is possible</li>\n",
    "<ol>"
   ]
  },
  {
   "cell_type": "code",
   "execution_count": 31,
   "id": "9977e50f",
   "metadata": {},
   "outputs": [],
   "source": [
    "polyfeatures = Pipeline([\n",
    "    ('preprocess', preprocessor),\n",
    "    ('polyfeatures', PolynomialFeatures()),\n",
    "    ('classifier', ElasticNet(alpha=0.1, l1_ratio=0.5))\n",
    "])"
   ]
  },
  {
   "cell_type": "code",
   "execution_count": 32,
   "id": "8c1acb6f",
   "metadata": {},
   "outputs": [
    {
     "name": "stderr",
     "output_type": "stream",
     "text": [
      "/Users/robertcampbell/opt/anaconda3/lib/python3.8/site-packages/sklearn/linear_model/_coordinate_descent.py:530: ConvergenceWarning:\n",
      "\n",
      "Objective did not converge. You might want to increase the number of iterations. Duality gap: 32273.341475422116, tolerance: 121.31454950657897\n",
      "\n"
     ]
    }
   ],
   "source": [
    "logger.train_update(polyfeatures, X_fe, y_black)"
   ]
  },
  {
   "cell_type": "code",
   "execution_count": 33,
   "id": "9720fcd5",
   "metadata": {},
   "outputs": [
    {
     "data": {
      "text/plain": [
       "(7.427884980745374, 743.2078491251077)"
      ]
     },
     "execution_count": 33,
     "metadata": {},
     "output_type": "execute_result"
    }
   ],
   "source": [
    "logger.train_mae, logger.mae"
   ]
  },
  {
   "cell_type": "markdown",
   "id": "df1c8d57",
   "metadata": {},
   "source": [
    "Significant Improvement in training data but model does not converge due to very large amount of features: lets look at the best features and add them one by one to our model"
   ]
  },
  {
   "cell_type": "code",
   "execution_count": 34,
   "id": "04024155",
   "metadata": {},
   "outputs": [],
   "source": [
    "feature_names = polyfeatures['polyfeatures'].get_feature_names(X_fe.columns)\n",
    "coefs = polyfeatures['classifier'].coef_"
   ]
  },
  {
   "cell_type": "code",
   "execution_count": 35,
   "id": "a79e5b80",
   "metadata": {},
   "outputs": [],
   "source": [
    "best_coefs = sorted(list(zip(feature_names, coefs)), key= lambda x: np.abs(x[1]))"
   ]
  },
  {
   "cell_type": "code",
   "execution_count": 36,
   "id": "2a2b598e",
   "metadata": {},
   "outputs": [],
   "source": [
    "# Make polynomial features data frame\n",
    "poly_pipeline = Pipeline([\n",
    "    ('preprocess', preprocessor),\n",
    "    ('polyfeatures', PolynomialFeatures()),\n",
    "])\n",
    "poly_data = poly_pipeline.fit_transform(X_fe)\n",
    "poly_features_df = pd.DataFrame(poly_data, columns=feature_names)"
   ]
  },
  {
   "cell_type": "code",
   "execution_count": 37,
   "id": "baa2c8d5",
   "metadata": {},
   "outputs": [],
   "source": [
    "X_fe[best_coefs[-1][0]] = poly_features_df[best_coefs[-1][0]].to_numpy()"
   ]
  },
  {
   "cell_type": "code",
   "execution_count": 38,
   "id": "88e9ecbf",
   "metadata": {
    "collapsed": true
   },
   "outputs": [
    {
     "data": {
      "text/plain": [
       "(13.385554519314965, 15.102256085054846)"
      ]
     },
     "execution_count": 38,
     "metadata": {},
     "output_type": "execute_result"
    }
   ],
   "source": [
    "logger.train_update(pipeline, X_fe, y_black)\n",
    "logger.train_mae, logger.mae"
   ]
  },
  {
   "cell_type": "markdown",
   "id": "6cc44f82",
   "metadata": {},
   "source": [
    "# This New Feature Helped so lets continue adding features until model stops improving"
   ]
  },
  {
   "cell_type": "markdown",
   "id": "e9d1a866",
   "metadata": {},
   "source": [
    "#### I am only choosing features that are new combinations, instead of features I already have"
   ]
  },
  {
   "cell_type": "code",
   "execution_count": 39,
   "id": "4406358b",
   "metadata": {},
   "outputs": [
    {
     "data": {
      "text/plain": [
       "'Government_Grants Percent of total enrollment that are Race/ethnicity unknown (DRVEF2013_RV)'"
      ]
     },
     "execution_count": 39,
     "metadata": {},
     "output_type": "execute_result"
    }
   ],
   "source": [
    "best_coefs[-7][0]"
   ]
  },
  {
   "cell_type": "code",
   "execution_count": 40,
   "id": "86d518ed",
   "metadata": {},
   "outputs": [],
   "source": [
    "X_fe[best_coefs[-7][0]] = poly_features_df[best_coefs[-7][0]].to_numpy()"
   ]
  },
  {
   "cell_type": "code",
   "execution_count": 41,
   "id": "c5a2184d",
   "metadata": {},
   "outputs": [
    {
     "data": {
      "text/plain": [
       "(13.333923987212506, 15.447561394636368)"
      ]
     },
     "execution_count": 41,
     "metadata": {},
     "output_type": "execute_result"
    }
   ],
   "source": [
    "logger.train_update(pipeline, X_fe, y_black)\n",
    "logger.train_mae, logger.mae"
   ]
  },
  {
   "cell_type": "markdown",
   "id": "ac8a7e22",
   "metadata": {},
   "source": [
    "## Improved Training but test did not improve. Lets keep adding to be sure"
   ]
  },
  {
   "cell_type": "code",
   "execution_count": 42,
   "id": "385fe268",
   "metadata": {},
   "outputs": [
    {
     "data": {
      "text/plain": [
       "'White women instructional_staff_as_percentage State abbreviation (HD2018)_Iowa'"
      ]
     },
     "execution_count": 42,
     "metadata": {},
     "output_type": "execute_result"
    }
   ],
   "source": [
    "best_coefs[-8][0]"
   ]
  },
  {
   "cell_type": "code",
   "execution_count": 43,
   "id": "077c5ae5",
   "metadata": {},
   "outputs": [],
   "source": [
    "X_fe[best_coefs[-8][0]] = poly_features_df[best_coefs[-8][0]].to_numpy()"
   ]
  },
  {
   "cell_type": "code",
   "execution_count": 44,
   "id": "97954275",
   "metadata": {},
   "outputs": [
    {
     "data": {
      "text/plain": [
       "(13.338417077448707, 15.049066412775788)"
      ]
     },
     "execution_count": 44,
     "metadata": {},
     "output_type": "execute_result"
    }
   ],
   "source": [
    "logger.train_update(pipeline, X_fe, y_black)\n",
    "logger.train_mae, logger.mae"
   ]
  },
  {
   "cell_type": "markdown",
   "id": "a067503f",
   "metadata": {},
   "source": [
    "### Ok Our Model Is clearly moving in the other direction now so lets remove the last two features and use these features for our final model"
   ]
  },
  {
   "cell_type": "code",
   "execution_count": 45,
   "id": "7fe9206a",
   "metadata": {},
   "outputs": [],
   "source": [
    "X_fe.drop(X_fe.columns[-2:].to_list(), axis=1, inplace=True)"
   ]
  },
  {
   "cell_type": "code",
   "execution_count": 46,
   "id": "6ed48703",
   "metadata": {},
   "outputs": [
    {
     "data": {
      "text/plain": [
       "(13.385554519314965, 15.102256085054846)"
      ]
     },
     "execution_count": 46,
     "metadata": {},
     "output_type": "execute_result"
    }
   ],
   "source": [
    "logger.train_update(pipeline, X_fe, y_black)\n",
    "logger.train_mae, logger.mae"
   ]
  },
  {
   "cell_type": "markdown",
   "id": "c630b75e",
   "metadata": {},
   "source": [
    "# Lets Use the top 250 features that came from polyfeatures and train a model"
   ]
  },
  {
   "cell_type": "code",
   "execution_count": 47,
   "id": "e33833a8",
   "metadata": {},
   "outputs": [],
   "source": [
    "best_features = [i[0] for i in best_coefs[-250:]]"
   ]
  },
  {
   "cell_type": "code",
   "execution_count": 48,
   "id": "db650e0c",
   "metadata": {},
   "outputs": [],
   "source": [
    "X_coefs = poly_features_df[best_features]"
   ]
  },
  {
   "cell_type": "code",
   "execution_count": 49,
   "id": "9f73e9f6",
   "metadata": {},
   "outputs": [
    {
     "data": {
      "text/plain": [
       "(10.771993199273426, 16.30509365962293)"
      ]
     },
     "execution_count": 49,
     "metadata": {},
     "output_type": "execute_result"
    }
   ],
   "source": [
    "logger.train_update(pipeline, X_coefs, y_black)\n",
    "logger.train_mae, logger.mae"
   ]
  },
  {
   "cell_type": "markdown",
   "id": "886f8b5a",
   "metadata": {},
   "source": [
    "# Hyperparameter Tuning"
   ]
  },
  {
   "cell_type": "markdown",
   "id": "5a61b7d7",
   "metadata": {},
   "source": [
    "### Next steps\n",
    "<ol>\n",
    "    <li>Manual tuning</li>\n",
    "    <li>Define hyperparameter space to search over</li>\n",
    "    <li>Repeat with XGBRegressor</li>\n",
    "<ol>"
   ]
  },
  {
   "cell_type": "markdown",
   "id": "3668722e",
   "metadata": {},
   "source": [
    "### With A few Manual Adjustments these are the parameters that work well"
   ]
  },
  {
   "cell_type": "code",
   "execution_count": 92,
   "id": "4c17ef63",
   "metadata": {},
   "outputs": [],
   "source": [
    "elasticNet_model = Pipeline([\n",
    "    ('preprocessing', preprocessor),\n",
    "    ('classifier', ElasticNet(alpha=0.03, l1_ratio=0.8))\n",
    "])"
   ]
  },
  {
   "cell_type": "code",
   "execution_count": 93,
   "id": "81705123",
   "metadata": {},
   "outputs": [],
   "source": [
    "logger.train_update(elasticNet_model, X_fe, y_black)"
   ]
  },
  {
   "cell_type": "code",
   "execution_count": 94,
   "id": "7d21e15c",
   "metadata": {},
   "outputs": [
    {
     "data": {
      "text/plain": [
       "14.986936043900812"
      ]
     },
     "execution_count": 94,
     "metadata": {},
     "output_type": "execute_result"
    }
   ],
   "source": [
    "logger.mae"
   ]
  },
  {
   "cell_type": "code",
   "execution_count": null,
   "id": "220b5da9",
   "metadata": {},
   "outputs": [],
   "source": []
  },
  {
   "cell_type": "markdown",
   "id": "1394e770",
   "metadata": {},
   "source": [
    "# XGBRegressor Tree Based Model"
   ]
  },
  {
   "cell_type": "code",
   "execution_count": 53,
   "id": "c1d92209",
   "metadata": {},
   "outputs": [],
   "source": [
    "xgb_params = {\n",
    "    'objective': 'reg:squarederror',\n",
    "    'n_estimators': 100,\n",
    "    'max_depth': 10, # lower values will over fit\n",
    "    'learning_rate': 0.1, \n",
    "}"
   ]
  },
  {
   "cell_type": "code",
   "execution_count": 54,
   "id": "d8d1a720",
   "metadata": {},
   "outputs": [],
   "source": [
    "xgb_model = Pipeline([\n",
    "    ('preprocessing', preprocessor),\n",
    "    ('classifier', xgb.XGBRegressor(**xgb_params))\n",
    "])"
   ]
  },
  {
   "cell_type": "code",
   "execution_count": 55,
   "id": "dd3b1559",
   "metadata": {},
   "outputs": [],
   "source": [
    "logger.train_update(xgb_model, X_fe, y_black)"
   ]
  },
  {
   "cell_type": "code",
   "execution_count": 56,
   "id": "d1fcc712",
   "metadata": {},
   "outputs": [
    {
     "data": {
      "text/plain": [
       "(0.6961907241207531, 14.564412455253413)"
      ]
     },
     "execution_count": 56,
     "metadata": {},
     "output_type": "execute_result"
    }
   ],
   "source": [
    "logger.train_mae, logger.mae"
   ]
  },
  {
   "cell_type": "markdown",
   "id": "b384ae29",
   "metadata": {},
   "source": [
    "### Severe overfitting with XGB model training_mae is only 0.38\n",
    "lets modify the parameters to reduce overfitting"
   ]
  },
  {
   "cell_type": "code",
   "execution_count": 57,
   "id": "1905be68",
   "metadata": {},
   "outputs": [],
   "source": [
    "xgb_params['max_depth'] = 7 # how deep each tree is allowed to be\n",
    "xgb_params['learning_rate'] = 0.07 # how fast the model converges\n",
    "xgb_params['colsample_bytree'] = 0.8 # percentage of features to work with per tree\n",
    "xgb_params['colsample_bynode'] = 0.9 # percentage of remaining features to work with for each split\n",
    "xgb_params['alpha'] = 0.9 # L1 regularization parameter\n",
    "xgb_params['gamma'] = 0.7 # minimum loss required for a split to occur\n",
    "xgb_params['min_child_weight'] = 10 # stop splitting once the number of samples in a given node hits a certain threshold\n",
    "xgb_params['n_estimators'] = 200\n",
    "xgb_params['importance_type'] = 'gain'\n",
    "xgb_model = Pipeline([\n",
    "    ('preprocessing', preprocessor),\n",
    "    ('classifier', xgb.XGBRegressor(**xgb_params))\n",
    "])"
   ]
  },
  {
   "cell_type": "code",
   "execution_count": 58,
   "id": "b1d63366",
   "metadata": {},
   "outputs": [],
   "source": [
    "logger.train_update(xgb_model, X_fe, y_black)"
   ]
  },
  {
   "cell_type": "code",
   "execution_count": 59,
   "id": "61d84733",
   "metadata": {},
   "outputs": [
    {
     "data": {
      "text/plain": [
       "(3.2737309877646337, 14.225674208749105)"
      ]
     },
     "execution_count": 59,
     "metadata": {},
     "output_type": "execute_result"
    }
   ],
   "source": [
    "logger.train_mae, logger.mae"
   ]
  },
  {
   "cell_type": "markdown",
   "id": "3e0a05db",
   "metadata": {},
   "source": [
    "# 14.2% MAE is the accuracy we are able to achieve through intuition and manual tuning. Lets Create a parameter space around these values"
   ]
  },
  {
   "cell_type": "code",
   "execution_count": 60,
   "id": "e6d95ad1",
   "metadata": {
    "collapsed": true
   },
   "outputs": [
    {
     "data": {
      "text/plain": [
       "{'objective': 'reg:squarederror',\n",
       " 'n_estimators': 200,\n",
       " 'max_depth': 7,\n",
       " 'learning_rate': 0.07,\n",
       " 'colsample_bytree': 0.8,\n",
       " 'colsample_bynode': 0.9,\n",
       " 'alpha': 0.9,\n",
       " 'gamma': 0.7,\n",
       " 'min_child_weight': 10,\n",
       " 'importance_type': 'gain'}"
      ]
     },
     "execution_count": 60,
     "metadata": {},
     "output_type": "execute_result"
    }
   ],
   "source": [
    "xgb_params # this is the best performing hyperparameters with manual tuning"
   ]
  },
  {
   "cell_type": "code",
   "execution_count": 61,
   "id": "8ed1ffe5",
   "metadata": {},
   "outputs": [],
   "source": [
    "hyperparams = {\n",
    "    'classifier__objective': ['reg:squarederror'],\n",
    "    'classifier__n_estimators': np.arange(50,300, 50),\n",
    "    'classifier__max_depth': np.arange(5,11, 1),\n",
    "    'classifier__learning_rate': np.arange(0.05, 0.16, 0.01),\n",
    "    'classifier__colsample_bytree': np.arange(0.6, 1.0, 0.1),\n",
    "    'classifier__colsample_bynode': np.arange(0.6, 1.0, 0.1),\n",
    "    'classifier__alpha': np.arange(0.6, 1.0, 0.05),\n",
    "    'classifier__gamma': np.arange(0.6, 1.0, 0.05),\n",
    "    'classifier__min_child_weight': [1,5,10,15,20, 25]}"
   ]
  },
  {
   "cell_type": "code",
   "execution_count": 62,
   "id": "fd4ceacf",
   "metadata": {},
   "outputs": [],
   "source": [
    "MAE = make_scorer(mean_absolute_error)"
   ]
  },
  {
   "cell_type": "code",
   "execution_count": 63,
   "id": "981c1d21",
   "metadata": {},
   "outputs": [],
   "source": [
    "random_search = RandomizedSearchCV(\n",
    "    xgb_model, param_distributions=hyperparams, n_iter=1,\n",
    "    scoring=MAE, n_jobs=4, cv=3, verbose=3, \n",
    "    random_state=1001 )"
   ]
  },
  {
   "cell_type": "code",
   "execution_count": 86,
   "id": "46fe1de8",
   "metadata": {},
   "outputs": [
    {
     "name": "stdout",
     "output_type": "stream",
     "text": [
      "Fitting 3 folds for each of 1 candidates, totalling 3 fits\n"
     ]
    }
   ],
   "source": [
    "_ = random_search.fit(X_fe, y_black)"
   ]
  },
  {
   "cell_type": "code",
   "execution_count": 85,
   "id": "b155aed0",
   "metadata": {},
   "outputs": [],
   "source": [
    "_ = random_search.best_params_"
   ]
  },
  {
   "cell_type": "markdown",
   "id": "3d89e988",
   "metadata": {},
   "source": [
    "## These parameters performed worse than my own manual tuning lets use this Model as our final model"
   ]
  },
  {
   "cell_type": "code",
   "execution_count": 84,
   "id": "76ceb9c9",
   "metadata": {},
   "outputs": [],
   "source": [
    "_ = xgb_model['classifier'].feature_importances_"
   ]
  },
  {
   "cell_type": "code",
   "execution_count": 67,
   "id": "658d123a",
   "metadata": {
    "collapsed": true
   },
   "outputs": [
    {
     "data": {
      "image/png": "[encoded data removed]",
      "text/plain": [
       "<Figure size 3600x1440 with 1 Axes>"
      ]
     },
     "metadata": {
      "needs_background": "light"
     },
     "output_type": "display_data"
    }
   ],
   "source": [
    "xgb.plot_tree(xgb_model['classifier'], num_trees=199)\n",
    "fig = plt.gcf()\n",
    "fig.set_size_inches(50, 20)"
   ]
  },
  {
   "cell_type": "markdown",
   "id": "11582003",
   "metadata": {},
   "source": [
    "# Old Features Against Target"
   ]
  },
  {
   "cell_type": "code",
   "execution_count": 68,
   "id": "0df18578",
   "metadata": {
    "collapsed": true
   },
   "outputs": [
    {
     "data": {
      "application/vnd.jupyter.widget-view+json": {
       "model_id": "499568ff4e4d4d9994f0da13350cc89a",
       "version_major": 2,
       "version_minor": 0
      },
      "text/plain": [
       "HBox(children=(Dropdown(description='Feature:', options=('Core_Revenues', 'Tuition_And_Fees', 'Government_Gran…"
      ]
     },
     "metadata": {},
     "output_type": "display_data"
    },
    {
     "data": {
      "application/vnd.jupyter.widget-view+json": {
       "model_id": "de8b4433ec4a4200aed5394a91c81f01",
       "version_major": 2,
       "version_minor": 0
      },
      "text/plain": [
       "Output(layout=Layout(height='700px'))"
      ]
     },
     "metadata": {},
     "output_type": "display_data"
    }
   ],
   "source": [
    "picker1 = wg.Dropdown(\n",
    "    options=X_black.columns,\n",
    "    value=X_black.columns[0],\n",
    "    description='Feature:',\n",
    "    disabled=False,\n",
    ")\n",
    "\n",
    "\n",
    "ui = wg.HBox([picker1])\n",
    "\n",
    "\n",
    "def scatter_residuals(feature):\n",
    "    fig = make_subplots(\n",
    "    rows=1, cols=2, \n",
    "    column_widths=[0.6, 0.4],\n",
    "    subplot_titles=(feature, \"Residuals\")\n",
    "    )\n",
    "\n",
    "\n",
    "    _ = fig.add_trace(go.Scatter(\n",
    "        x = X_black[feature], y=y, mode='markers'\n",
    "    ),1,1)\n",
    "\n",
    "    _ = fig.add_trace(go.Scatter(\n",
    "        x = X_black[feature], y=residual_data['residuals'], mode='markers'\n",
    "    ), 1, 2)\n",
    "    \n",
    "    display(fig.show())\n",
    "    \n",
    "out = wg.interactive_output(scatter_residuals, {'feature': picker1})\n",
    "out.layout.height = '700px'\n",
    "_ = display(ui, out)"
   ]
  },
  {
   "cell_type": "markdown",
   "id": "7b19ea3e",
   "metadata": {},
   "source": [
    "# New Features Against Target"
   ]
  },
  {
   "cell_type": "code",
   "execution_count": 69,
   "id": "d9176e49",
   "metadata": {
    "collapsed": true
   },
   "outputs": [
    {
     "data": {
      "application/vnd.jupyter.widget-view+json": {
       "model_id": "a278c64375a34cadb79d6d4d7a034b3d",
       "version_major": 2,
       "version_minor": 0
      },
      "text/plain": [
       "HBox(children=(Dropdown(description='Feature:', options=('Core_Revenues', 'Tuition_And_Fees', 'Government_Gran…"
      ]
     },
     "metadata": {},
     "output_type": "display_data"
    },
    {
     "data": {
      "application/vnd.jupyter.widget-view+json": {
       "model_id": "8d36bdd8bb4f4d73851a6f7c77bfb3ca",
       "version_major": 2,
       "version_minor": 0
      },
      "text/plain": [
       "Output(layout=Layout(height='700px'))"
      ]
     },
     "metadata": {},
     "output_type": "display_data"
    }
   ],
   "source": [
    "\n",
    "picker1 = wg.Dropdown(\n",
    "    options=X_fe.columns,\n",
    "    value=X_fe.columns[0],\n",
    "    description='Feature:',\n",
    "    disabled=False,\n",
    ")\n",
    "\n",
    "ui = wg.HBox([picker1])\n",
    "\n",
    "def scatter_residuals(feature):\n",
    "    fig = make_subplots(\n",
    "    rows=1, cols=2, \n",
    "    column_widths=[0.6, 0.4],\n",
    "    subplot_titles=(feature, \"Residuals\")\n",
    "    )\n",
    "\n",
    "\n",
    "    _ = fig.add_trace(go.Scatter(\n",
    "        x = X_fe[feature], y=y, mode='markers'\n",
    "    ),1,1)\n",
    "\n",
    "    _ = fig.add_trace(go.Scatter(\n",
    "        x = X_fe[feature], y=new_residual_df['residuals'], mode='markers'\n",
    "    ), 1, 2)\n",
    "    \n",
    "    display(fig.show())\n",
    "    \n",
    "out = wg.interactive_output(scatter_residuals, {'feature': picker1})\n",
    "out.layout.height = '700px'\n",
    "_ = display(ui, out)"
   ]
  },
  {
   "cell_type": "markdown",
   "id": "742b6d1f",
   "metadata": {},
   "source": [
    "# Summary"
   ]
  },
  {
   "cell_type": "markdown",
   "id": "a38a90b7",
   "metadata": {},
   "source": [
    "Highest performing model was an xgb regressor; however, feature importances are much tougher to interperate than an elastic net model. In the end we have a model with mean absolute error of 8.35%. The features that have the strongest effect on graduation rates are shown below."
   ]
  },
  {
   "cell_type": "code",
   "execution_count": 70,
   "id": "8ee5bec4",
   "metadata": {},
   "outputs": [],
   "source": [
    "X_fe.columns = X_fe.columns.str.replace('Carnegie Classification', 'CC')"
   ]
  },
  {
   "cell_type": "code",
   "execution_count": 71,
   "id": "c7fbe29e",
   "metadata": {},
   "outputs": [],
   "source": [
    "X_fe.columns = X_fe.columns.str.replace(' 2018:', '')"
   ]
  },
  {
   "cell_type": "code",
   "execution_count": 72,
   "id": "b80895e0",
   "metadata": {
    "collapsed": true
   },
   "outputs": [
    {
     "data": {
      "text/html": [
       "<div>\n",
       "<style scoped>\n",
       "    .dataframe tbody tr th:only-of-type {\n",
       "        vertical-align: middle;\n",
       "    }\n",
       "\n",
       "    .dataframe tbody tr th {\n",
       "        vertical-align: top;\n",
       "    }\n",
       "\n",
       "    .dataframe thead th {\n",
       "        text-align: right;\n",
       "    }\n",
       "</style>\n",
       "<table border=\"1\" class=\"dataframe\">\n",
       "  <thead>\n",
       "    <tr style=\"text-align: right;\">\n",
       "      <th></th>\n",
       "      <th>CC Basic (HD2018)_Associate's Colleges: High Transfer-Mixed Traditional/Nontraditional</th>\n",
       "      <th>CC Basic (HD2018)_Associate's Colleges: High Vocational &amp; Technical-High Nontraditional</th>\n",
       "      <th>CC Basic (HD2018)_Associate's Colleges: High Vocational &amp; Technical-High Traditional</th>\n",
       "      <th>CC Basic (HD2018)_Associate's Colleges: High Vocational &amp; Technical-Mixed Traditional/Nontraditional</th>\n",
       "      <th>CC Basic (HD2018)_Associate's Colleges: Mixed Transfer/Vocational &amp; Technical-High Nontraditional</th>\n",
       "      <th>CC Basic (HD2018)_Associate's Colleges: Mixed Transfer/Vocational &amp; Technical-High Traditional</th>\n",
       "      <th>CC Basic (HD2018)_Associate's Colleges: Mixed Transfer/Vocational &amp; Technical-Mixed Traditional/Nontraditional</th>\n",
       "      <th>CC Basic (HD2018)_Baccalaureate Colleges: Arts &amp; Sciences Focus</th>\n",
       "      <th>CC Basic (HD2018)_Baccalaureate Colleges: Diverse Fields</th>\n",
       "      <th>CC Basic (HD2018)_Baccalaureate/Associate's Colleges: Associate's Dominant</th>\n",
       "      <th>CC Basic (HD2018)_Baccalaureate/Associate's Colleges: Mixed Baccalaureate/Associate's</th>\n",
       "      <th>CC Basic (HD2018)_Doctoral Universities: High Research Activity\\r\\n</th>\n",
       "      <th>CC Basic (HD2018)_Doctoral Universities: Very High Research Activity\\r\\n</th>\n",
       "      <th>CC Basic (HD2018)_Doctoral/Professional Universities\\r\\n</th>\n",
       "      <th>CC Basic (HD2018)_Master's Colleges &amp; Universities: Larger Programs</th>\n",
       "      <th>CC Basic (HD2018)_Master's Colleges &amp; Universities: Medium Programs</th>\n",
       "      <th>CC Basic (HD2018)_Master's Colleges &amp; Universities: Small Programs</th>\n",
       "      <th>CC Basic (HD2018)_Not applicable, not in Carnegie universe (not accredited or nondegree-granting)</th>\n",
       "      <th>CC Basic (HD2018)_Special Focus Four-Year: Arts, Music &amp; Design Schools</th>\n",
       "      <th>CC Basic (HD2018)_Special Focus Four-Year: Business &amp; Management Schools</th>\n",
       "      <th>CC Basic (HD2018)_Special Focus Four-Year: Engineering Schools</th>\n",
       "      <th>CC Basic (HD2018)_Special Focus Four-Year: Faith-Related Institutions</th>\n",
       "      <th>CC Basic (HD2018)_Special Focus Four-Year: Other Health Professions Schools</th>\n",
       "      <th>CC Basic (HD2018)_Special Focus Four-Year: Other Special Focus Institutions</th>\n",
       "      <th>CC Basic (HD2018)_Special Focus Four-Year: Other Technology-Related Schools</th>\n",
       "      <th>CC Basic (HD2018)_Special Focus Two-Year: Arts &amp; Design</th>\n",
       "      <th>CC Basic (HD2018)_Special Focus Two-Year: Health Professions</th>\n",
       "      <th>CC Basic (HD2018)_Special Focus Two-Year: Other Fields</th>\n",
       "      <th>CC Basic (HD2018)_Special Focus Two-Year: Technical Professions</th>\n",
       "      <th>CC Basic (HD2018)_Tribal Colleges</th>\n",
       "      <th>CC Basic (HD2018)_isMissing</th>\n",
       "      <th>CC Enrollment Profile (HD2018)_Exclusively undergraduate four-year</th>\n",
       "      <th>CC Enrollment Profile (HD2018)_Exclusively undergraduate two-year</th>\n",
       "      <th>CC Enrollment Profile (HD2018)_High undergraduate</th>\n",
       "      <th>CC Enrollment Profile (HD2018)_Majority graduate</th>\n",
       "      <th>CC Enrollment Profile (HD2018)_Majority undergraduate</th>\n",
       "      <th>CC Enrollment Profile (HD2018)_Not applicable, not in Carnegie universe (not accredited or nondegree-granting)</th>\n",
       "      <th>CC Enrollment Profile (HD2018)_Very high undergraduate</th>\n",
       "      <th>CC Enrollment Profile (HD2018)_isMissing</th>\n",
       "      <th>CC Size and Setting (HD2018)_Four-year, large, highly residential</th>\n",
       "      <th>CC Size and Setting (HD2018)_Four-year, large, primarily nonresidential</th>\n",
       "      <th>CC Size and Setting (HD2018)_Four-year, large, primarily residential</th>\n",
       "      <th>CC Size and Setting (HD2018)_Four-year, medium, highly residential</th>\n",
       "      <th>CC Size and Setting (HD2018)_Four-year, medium, primarily nonresidential</th>\n",
       "      <th>CC Size and Setting (HD2018)_Four-year, medium, primarily residential</th>\n",
       "      <th>CC Size and Setting (HD2018)_Four-year, small, highly residential</th>\n",
       "      <th>CC Size and Setting (HD2018)_Four-year, small, primarily nonresidential</th>\n",
       "      <th>CC Size and Setting (HD2018)_Four-year, small, primarily residential</th>\n",
       "      <th>CC Size and Setting (HD2018)_Four-year, very small, highly residential</th>\n",
       "      <th>CC Size and Setting (HD2018)_Four-year, very small, primarily nonresidential</th>\n",
       "      <th>CC Size and Setting (HD2018)_Four-year, very small, primarily residential</th>\n",
       "      <th>CC Size and Setting (HD2018)_Not applicable, not in Carnegie universe (not accredited or nondegree-granting)</th>\n",
       "      <th>CC Size and Setting (HD2018)_Two-year, large</th>\n",
       "      <th>CC Size and Setting (HD2018)_Two-year, medium</th>\n",
       "      <th>CC Size and Setting (HD2018)_Two-year, small</th>\n",
       "      <th>CC Size and Setting (HD2018)_Two-year, very large</th>\n",
       "      <th>CC Size and Setting (HD2018)_Two-year, very small</th>\n",
       "      <th>CC Size and Setting (HD2018)_isMissing</th>\n",
       "    </tr>\n",
       "    <tr>\n",
       "      <th>UnitID</th>\n",
       "      <th></th>\n",
       "      <th></th>\n",
       "      <th></th>\n",
       "      <th></th>\n",
       "      <th></th>\n",
       "      <th></th>\n",
       "      <th></th>\n",
       "      <th></th>\n",
       "      <th></th>\n",
       "      <th></th>\n",
       "      <th></th>\n",
       "      <th></th>\n",
       "      <th></th>\n",
       "      <th></th>\n",
       "      <th></th>\n",
       "      <th></th>\n",
       "      <th></th>\n",
       "      <th></th>\n",
       "      <th></th>\n",
       "      <th></th>\n",
       "      <th></th>\n",
       "      <th></th>\n",
       "      <th></th>\n",
       "      <th></th>\n",
       "      <th></th>\n",
       "      <th></th>\n",
       "      <th></th>\n",
       "      <th></th>\n",
       "      <th></th>\n",
       "      <th></th>\n",
       "      <th></th>\n",
       "      <th></th>\n",
       "      <th></th>\n",
       "      <th></th>\n",
       "      <th></th>\n",
       "      <th></th>\n",
       "      <th></th>\n",
       "      <th></th>\n",
       "      <th></th>\n",
       "      <th></th>\n",
       "      <th></th>\n",
       "      <th></th>\n",
       "      <th></th>\n",
       "      <th></th>\n",
       "      <th></th>\n",
       "      <th></th>\n",
       "      <th></th>\n",
       "      <th></th>\n",
       "      <th></th>\n",
       "      <th></th>\n",
       "      <th></th>\n",
       "      <th></th>\n",
       "      <th></th>\n",
       "      <th></th>\n",
       "      <th></th>\n",
       "      <th></th>\n",
       "      <th></th>\n",
       "      <th></th>\n",
       "    </tr>\n",
       "  </thead>\n",
       "  <tbody>\n",
       "    <tr>\n",
       "      <th>222178</th>\n",
       "      <td>0</td>\n",
       "      <td>0</td>\n",
       "      <td>0</td>\n",
       "      <td>0</td>\n",
       "      <td>0</td>\n",
       "      <td>0</td>\n",
       "      <td>0</td>\n",
       "      <td>0</td>\n",
       "      <td>0</td>\n",
       "      <td>0</td>\n",
       "      <td>0</td>\n",
       "      <td>0</td>\n",
       "      <td>0</td>\n",
       "      <td>0</td>\n",
       "      <td>1</td>\n",
       "      <td>0</td>\n",
       "      <td>0</td>\n",
       "      <td>0</td>\n",
       "      <td>0</td>\n",
       "      <td>0</td>\n",
       "      <td>0</td>\n",
       "      <td>0</td>\n",
       "      <td>0</td>\n",
       "      <td>0</td>\n",
       "      <td>0</td>\n",
       "      <td>0</td>\n",
       "      <td>0</td>\n",
       "      <td>0</td>\n",
       "      <td>0</td>\n",
       "      <td>0</td>\n",
       "      <td>0</td>\n",
       "      <td>0</td>\n",
       "      <td>0</td>\n",
       "      <td>1</td>\n",
       "      <td>0</td>\n",
       "      <td>0</td>\n",
       "      <td>0</td>\n",
       "      <td>0</td>\n",
       "      <td>0</td>\n",
       "      <td>0</td>\n",
       "      <td>0</td>\n",
       "      <td>0</td>\n",
       "      <td>1</td>\n",
       "      <td>0</td>\n",
       "      <td>0</td>\n",
       "      <td>0</td>\n",
       "      <td>0</td>\n",
       "      <td>0</td>\n",
       "      <td>0</td>\n",
       "      <td>0</td>\n",
       "      <td>0</td>\n",
       "      <td>0</td>\n",
       "      <td>0</td>\n",
       "      <td>0</td>\n",
       "      <td>0</td>\n",
       "      <td>0</td>\n",
       "      <td>0</td>\n",
       "      <td>0</td>\n",
       "    </tr>\n",
       "    <tr>\n",
       "      <th>138558</th>\n",
       "      <td>0</td>\n",
       "      <td>0</td>\n",
       "      <td>0</td>\n",
       "      <td>0</td>\n",
       "      <td>0</td>\n",
       "      <td>0</td>\n",
       "      <td>0</td>\n",
       "      <td>0</td>\n",
       "      <td>0</td>\n",
       "      <td>0</td>\n",
       "      <td>1</td>\n",
       "      <td>0</td>\n",
       "      <td>0</td>\n",
       "      <td>0</td>\n",
       "      <td>0</td>\n",
       "      <td>0</td>\n",
       "      <td>0</td>\n",
       "      <td>0</td>\n",
       "      <td>0</td>\n",
       "      <td>0</td>\n",
       "      <td>0</td>\n",
       "      <td>0</td>\n",
       "      <td>0</td>\n",
       "      <td>0</td>\n",
       "      <td>0</td>\n",
       "      <td>0</td>\n",
       "      <td>0</td>\n",
       "      <td>0</td>\n",
       "      <td>0</td>\n",
       "      <td>0</td>\n",
       "      <td>0</td>\n",
       "      <td>1</td>\n",
       "      <td>0</td>\n",
       "      <td>0</td>\n",
       "      <td>0</td>\n",
       "      <td>0</td>\n",
       "      <td>0</td>\n",
       "      <td>0</td>\n",
       "      <td>0</td>\n",
       "      <td>0</td>\n",
       "      <td>0</td>\n",
       "      <td>0</td>\n",
       "      <td>0</td>\n",
       "      <td>0</td>\n",
       "      <td>0</td>\n",
       "      <td>0</td>\n",
       "      <td>0</td>\n",
       "      <td>1</td>\n",
       "      <td>0</td>\n",
       "      <td>0</td>\n",
       "      <td>0</td>\n",
       "      <td>0</td>\n",
       "      <td>0</td>\n",
       "      <td>0</td>\n",
       "      <td>0</td>\n",
       "      <td>0</td>\n",
       "      <td>0</td>\n",
       "      <td>0</td>\n",
       "    </tr>\n",
       "    <tr>\n",
       "      <th>172866</th>\n",
       "      <td>0</td>\n",
       "      <td>0</td>\n",
       "      <td>0</td>\n",
       "      <td>0</td>\n",
       "      <td>0</td>\n",
       "      <td>0</td>\n",
       "      <td>0</td>\n",
       "      <td>0</td>\n",
       "      <td>0</td>\n",
       "      <td>0</td>\n",
       "      <td>0</td>\n",
       "      <td>0</td>\n",
       "      <td>0</td>\n",
       "      <td>0</td>\n",
       "      <td>0</td>\n",
       "      <td>0</td>\n",
       "      <td>0</td>\n",
       "      <td>0</td>\n",
       "      <td>0</td>\n",
       "      <td>0</td>\n",
       "      <td>0</td>\n",
       "      <td>0</td>\n",
       "      <td>0</td>\n",
       "      <td>0</td>\n",
       "      <td>1</td>\n",
       "      <td>0</td>\n",
       "      <td>0</td>\n",
       "      <td>0</td>\n",
       "      <td>0</td>\n",
       "      <td>0</td>\n",
       "      <td>0</td>\n",
       "      <td>1</td>\n",
       "      <td>0</td>\n",
       "      <td>0</td>\n",
       "      <td>0</td>\n",
       "      <td>0</td>\n",
       "      <td>0</td>\n",
       "      <td>0</td>\n",
       "      <td>0</td>\n",
       "      <td>0</td>\n",
       "      <td>0</td>\n",
       "      <td>0</td>\n",
       "      <td>0</td>\n",
       "      <td>0</td>\n",
       "      <td>0</td>\n",
       "      <td>0</td>\n",
       "      <td>0</td>\n",
       "      <td>0</td>\n",
       "      <td>0</td>\n",
       "      <td>1</td>\n",
       "      <td>0</td>\n",
       "      <td>0</td>\n",
       "      <td>0</td>\n",
       "      <td>0</td>\n",
       "      <td>0</td>\n",
       "      <td>0</td>\n",
       "      <td>0</td>\n",
       "      <td>0</td>\n",
       "    </tr>\n",
       "    <tr>\n",
       "      <th>108232</th>\n",
       "      <td>0</td>\n",
       "      <td>0</td>\n",
       "      <td>0</td>\n",
       "      <td>0</td>\n",
       "      <td>0</td>\n",
       "      <td>0</td>\n",
       "      <td>0</td>\n",
       "      <td>0</td>\n",
       "      <td>0</td>\n",
       "      <td>0</td>\n",
       "      <td>0</td>\n",
       "      <td>0</td>\n",
       "      <td>0</td>\n",
       "      <td>0</td>\n",
       "      <td>1</td>\n",
       "      <td>0</td>\n",
       "      <td>0</td>\n",
       "      <td>0</td>\n",
       "      <td>0</td>\n",
       "      <td>0</td>\n",
       "      <td>0</td>\n",
       "      <td>0</td>\n",
       "      <td>0</td>\n",
       "      <td>0</td>\n",
       "      <td>0</td>\n",
       "      <td>0</td>\n",
       "      <td>0</td>\n",
       "      <td>0</td>\n",
       "      <td>0</td>\n",
       "      <td>0</td>\n",
       "      <td>0</td>\n",
       "      <td>0</td>\n",
       "      <td>0</td>\n",
       "      <td>0</td>\n",
       "      <td>0</td>\n",
       "      <td>1</td>\n",
       "      <td>0</td>\n",
       "      <td>0</td>\n",
       "      <td>0</td>\n",
       "      <td>0</td>\n",
       "      <td>0</td>\n",
       "      <td>0</td>\n",
       "      <td>0</td>\n",
       "      <td>1</td>\n",
       "      <td>0</td>\n",
       "      <td>0</td>\n",
       "      <td>0</td>\n",
       "      <td>0</td>\n",
       "      <td>0</td>\n",
       "      <td>0</td>\n",
       "      <td>0</td>\n",
       "      <td>0</td>\n",
       "      <td>0</td>\n",
       "      <td>0</td>\n",
       "      <td>0</td>\n",
       "      <td>0</td>\n",
       "      <td>0</td>\n",
       "      <td>0</td>\n",
       "    </tr>\n",
       "    <tr>\n",
       "      <th>439969</th>\n",
       "      <td>0</td>\n",
       "      <td>0</td>\n",
       "      <td>0</td>\n",
       "      <td>0</td>\n",
       "      <td>0</td>\n",
       "      <td>0</td>\n",
       "      <td>0</td>\n",
       "      <td>0</td>\n",
       "      <td>0</td>\n",
       "      <td>0</td>\n",
       "      <td>0</td>\n",
       "      <td>0</td>\n",
       "      <td>0</td>\n",
       "      <td>0</td>\n",
       "      <td>0</td>\n",
       "      <td>0</td>\n",
       "      <td>0</td>\n",
       "      <td>0</td>\n",
       "      <td>0</td>\n",
       "      <td>0</td>\n",
       "      <td>0</td>\n",
       "      <td>0</td>\n",
       "      <td>1</td>\n",
       "      <td>0</td>\n",
       "      <td>0</td>\n",
       "      <td>0</td>\n",
       "      <td>0</td>\n",
       "      <td>0</td>\n",
       "      <td>0</td>\n",
       "      <td>0</td>\n",
       "      <td>0</td>\n",
       "      <td>0</td>\n",
       "      <td>0</td>\n",
       "      <td>0</td>\n",
       "      <td>1</td>\n",
       "      <td>0</td>\n",
       "      <td>0</td>\n",
       "      <td>0</td>\n",
       "      <td>0</td>\n",
       "      <td>0</td>\n",
       "      <td>0</td>\n",
       "      <td>0</td>\n",
       "      <td>0</td>\n",
       "      <td>0</td>\n",
       "      <td>0</td>\n",
       "      <td>0</td>\n",
       "      <td>0</td>\n",
       "      <td>0</td>\n",
       "      <td>0</td>\n",
       "      <td>1</td>\n",
       "      <td>0</td>\n",
       "      <td>0</td>\n",
       "      <td>0</td>\n",
       "      <td>0</td>\n",
       "      <td>0</td>\n",
       "      <td>0</td>\n",
       "      <td>0</td>\n",
       "      <td>0</td>\n",
       "    </tr>\n",
       "    <tr>\n",
       "      <th>...</th>\n",
       "      <td>...</td>\n",
       "      <td>...</td>\n",
       "      <td>...</td>\n",
       "      <td>...</td>\n",
       "      <td>...</td>\n",
       "      <td>...</td>\n",
       "      <td>...</td>\n",
       "      <td>...</td>\n",
       "      <td>...</td>\n",
       "      <td>...</td>\n",
       "      <td>...</td>\n",
       "      <td>...</td>\n",
       "      <td>...</td>\n",
       "      <td>...</td>\n",
       "      <td>...</td>\n",
       "      <td>...</td>\n",
       "      <td>...</td>\n",
       "      <td>...</td>\n",
       "      <td>...</td>\n",
       "      <td>...</td>\n",
       "      <td>...</td>\n",
       "      <td>...</td>\n",
       "      <td>...</td>\n",
       "      <td>...</td>\n",
       "      <td>...</td>\n",
       "      <td>...</td>\n",
       "      <td>...</td>\n",
       "      <td>...</td>\n",
       "      <td>...</td>\n",
       "      <td>...</td>\n",
       "      <td>...</td>\n",
       "      <td>...</td>\n",
       "      <td>...</td>\n",
       "      <td>...</td>\n",
       "      <td>...</td>\n",
       "      <td>...</td>\n",
       "      <td>...</td>\n",
       "      <td>...</td>\n",
       "      <td>...</td>\n",
       "      <td>...</td>\n",
       "      <td>...</td>\n",
       "      <td>...</td>\n",
       "      <td>...</td>\n",
       "      <td>...</td>\n",
       "      <td>...</td>\n",
       "      <td>...</td>\n",
       "      <td>...</td>\n",
       "      <td>...</td>\n",
       "      <td>...</td>\n",
       "      <td>...</td>\n",
       "      <td>...</td>\n",
       "      <td>...</td>\n",
       "      <td>...</td>\n",
       "      <td>...</td>\n",
       "      <td>...</td>\n",
       "      <td>...</td>\n",
       "      <td>...</td>\n",
       "      <td>...</td>\n",
       "    </tr>\n",
       "    <tr>\n",
       "      <th>217059</th>\n",
       "      <td>0</td>\n",
       "      <td>0</td>\n",
       "      <td>0</td>\n",
       "      <td>0</td>\n",
       "      <td>0</td>\n",
       "      <td>0</td>\n",
       "      <td>0</td>\n",
       "      <td>0</td>\n",
       "      <td>0</td>\n",
       "      <td>0</td>\n",
       "      <td>0</td>\n",
       "      <td>0</td>\n",
       "      <td>0</td>\n",
       "      <td>0</td>\n",
       "      <td>0</td>\n",
       "      <td>0</td>\n",
       "      <td>1</td>\n",
       "      <td>0</td>\n",
       "      <td>0</td>\n",
       "      <td>0</td>\n",
       "      <td>0</td>\n",
       "      <td>0</td>\n",
       "      <td>0</td>\n",
       "      <td>0</td>\n",
       "      <td>0</td>\n",
       "      <td>0</td>\n",
       "      <td>0</td>\n",
       "      <td>0</td>\n",
       "      <td>0</td>\n",
       "      <td>0</td>\n",
       "      <td>0</td>\n",
       "      <td>0</td>\n",
       "      <td>0</td>\n",
       "      <td>0</td>\n",
       "      <td>0</td>\n",
       "      <td>0</td>\n",
       "      <td>0</td>\n",
       "      <td>1</td>\n",
       "      <td>0</td>\n",
       "      <td>0</td>\n",
       "      <td>0</td>\n",
       "      <td>0</td>\n",
       "      <td>1</td>\n",
       "      <td>0</td>\n",
       "      <td>0</td>\n",
       "      <td>0</td>\n",
       "      <td>0</td>\n",
       "      <td>0</td>\n",
       "      <td>0</td>\n",
       "      <td>0</td>\n",
       "      <td>0</td>\n",
       "      <td>0</td>\n",
       "      <td>0</td>\n",
       "      <td>0</td>\n",
       "      <td>0</td>\n",
       "      <td>0</td>\n",
       "      <td>0</td>\n",
       "      <td>0</td>\n",
       "    </tr>\n",
       "    <tr>\n",
       "      <th>141361</th>\n",
       "      <td>0</td>\n",
       "      <td>0</td>\n",
       "      <td>0</td>\n",
       "      <td>0</td>\n",
       "      <td>0</td>\n",
       "      <td>0</td>\n",
       "      <td>0</td>\n",
       "      <td>1</td>\n",
       "      <td>0</td>\n",
       "      <td>0</td>\n",
       "      <td>0</td>\n",
       "      <td>0</td>\n",
       "      <td>0</td>\n",
       "      <td>0</td>\n",
       "      <td>0</td>\n",
       "      <td>0</td>\n",
       "      <td>0</td>\n",
       "      <td>0</td>\n",
       "      <td>0</td>\n",
       "      <td>0</td>\n",
       "      <td>0</td>\n",
       "      <td>0</td>\n",
       "      <td>0</td>\n",
       "      <td>0</td>\n",
       "      <td>0</td>\n",
       "      <td>0</td>\n",
       "      <td>0</td>\n",
       "      <td>0</td>\n",
       "      <td>0</td>\n",
       "      <td>0</td>\n",
       "      <td>0</td>\n",
       "      <td>1</td>\n",
       "      <td>0</td>\n",
       "      <td>0</td>\n",
       "      <td>0</td>\n",
       "      <td>0</td>\n",
       "      <td>0</td>\n",
       "      <td>0</td>\n",
       "      <td>0</td>\n",
       "      <td>0</td>\n",
       "      <td>0</td>\n",
       "      <td>0</td>\n",
       "      <td>0</td>\n",
       "      <td>0</td>\n",
       "      <td>0</td>\n",
       "      <td>1</td>\n",
       "      <td>0</td>\n",
       "      <td>0</td>\n",
       "      <td>0</td>\n",
       "      <td>0</td>\n",
       "      <td>0</td>\n",
       "      <td>0</td>\n",
       "      <td>0</td>\n",
       "      <td>0</td>\n",
       "      <td>0</td>\n",
       "      <td>0</td>\n",
       "      <td>0</td>\n",
       "      <td>0</td>\n",
       "    </tr>\n",
       "    <tr>\n",
       "      <th>206695</th>\n",
       "      <td>0</td>\n",
       "      <td>0</td>\n",
       "      <td>0</td>\n",
       "      <td>0</td>\n",
       "      <td>0</td>\n",
       "      <td>0</td>\n",
       "      <td>0</td>\n",
       "      <td>0</td>\n",
       "      <td>0</td>\n",
       "      <td>0</td>\n",
       "      <td>0</td>\n",
       "      <td>0</td>\n",
       "      <td>0</td>\n",
       "      <td>0</td>\n",
       "      <td>1</td>\n",
       "      <td>0</td>\n",
       "      <td>0</td>\n",
       "      <td>0</td>\n",
       "      <td>0</td>\n",
       "      <td>0</td>\n",
       "      <td>0</td>\n",
       "      <td>0</td>\n",
       "      <td>0</td>\n",
       "      <td>0</td>\n",
       "      <td>0</td>\n",
       "      <td>0</td>\n",
       "      <td>0</td>\n",
       "      <td>0</td>\n",
       "      <td>0</td>\n",
       "      <td>0</td>\n",
       "      <td>0</td>\n",
       "      <td>0</td>\n",
       "      <td>0</td>\n",
       "      <td>0</td>\n",
       "      <td>0</td>\n",
       "      <td>0</td>\n",
       "      <td>0</td>\n",
       "      <td>1</td>\n",
       "      <td>0</td>\n",
       "      <td>0</td>\n",
       "      <td>1</td>\n",
       "      <td>0</td>\n",
       "      <td>0</td>\n",
       "      <td>0</td>\n",
       "      <td>0</td>\n",
       "      <td>0</td>\n",
       "      <td>0</td>\n",
       "      <td>0</td>\n",
       "      <td>0</td>\n",
       "      <td>0</td>\n",
       "      <td>0</td>\n",
       "      <td>0</td>\n",
       "      <td>0</td>\n",
       "      <td>0</td>\n",
       "      <td>0</td>\n",
       "      <td>0</td>\n",
       "      <td>0</td>\n",
       "      <td>0</td>\n",
       "    </tr>\n",
       "    <tr>\n",
       "      <th>204255</th>\n",
       "      <td>0</td>\n",
       "      <td>0</td>\n",
       "      <td>0</td>\n",
       "      <td>0</td>\n",
       "      <td>1</td>\n",
       "      <td>0</td>\n",
       "      <td>0</td>\n",
       "      <td>0</td>\n",
       "      <td>0</td>\n",
       "      <td>0</td>\n",
       "      <td>0</td>\n",
       "      <td>0</td>\n",
       "      <td>0</td>\n",
       "      <td>0</td>\n",
       "      <td>0</td>\n",
       "      <td>0</td>\n",
       "      <td>0</td>\n",
       "      <td>0</td>\n",
       "      <td>0</td>\n",
       "      <td>0</td>\n",
       "      <td>0</td>\n",
       "      <td>0</td>\n",
       "      <td>0</td>\n",
       "      <td>0</td>\n",
       "      <td>0</td>\n",
       "      <td>0</td>\n",
       "      <td>0</td>\n",
       "      <td>0</td>\n",
       "      <td>0</td>\n",
       "      <td>0</td>\n",
       "      <td>0</td>\n",
       "      <td>0</td>\n",
       "      <td>1</td>\n",
       "      <td>0</td>\n",
       "      <td>0</td>\n",
       "      <td>0</td>\n",
       "      <td>0</td>\n",
       "      <td>0</td>\n",
       "      <td>0</td>\n",
       "      <td>0</td>\n",
       "      <td>0</td>\n",
       "      <td>0</td>\n",
       "      <td>0</td>\n",
       "      <td>0</td>\n",
       "      <td>0</td>\n",
       "      <td>0</td>\n",
       "      <td>0</td>\n",
       "      <td>0</td>\n",
       "      <td>0</td>\n",
       "      <td>0</td>\n",
       "      <td>0</td>\n",
       "      <td>0</td>\n",
       "      <td>0</td>\n",
       "      <td>0</td>\n",
       "      <td>1</td>\n",
       "      <td>0</td>\n",
       "      <td>0</td>\n",
       "      <td>0</td>\n",
       "    </tr>\n",
       "    <tr>\n",
       "      <th>458575</th>\n",
       "      <td>0</td>\n",
       "      <td>0</td>\n",
       "      <td>0</td>\n",
       "      <td>0</td>\n",
       "      <td>0</td>\n",
       "      <td>0</td>\n",
       "      <td>0</td>\n",
       "      <td>0</td>\n",
       "      <td>0</td>\n",
       "      <td>0</td>\n",
       "      <td>0</td>\n",
       "      <td>0</td>\n",
       "      <td>0</td>\n",
       "      <td>0</td>\n",
       "      <td>0</td>\n",
       "      <td>0</td>\n",
       "      <td>0</td>\n",
       "      <td>1</td>\n",
       "      <td>0</td>\n",
       "      <td>0</td>\n",
       "      <td>0</td>\n",
       "      <td>0</td>\n",
       "      <td>0</td>\n",
       "      <td>0</td>\n",
       "      <td>0</td>\n",
       "      <td>0</td>\n",
       "      <td>0</td>\n",
       "      <td>0</td>\n",
       "      <td>0</td>\n",
       "      <td>0</td>\n",
       "      <td>0</td>\n",
       "      <td>0</td>\n",
       "      <td>0</td>\n",
       "      <td>0</td>\n",
       "      <td>0</td>\n",
       "      <td>0</td>\n",
       "      <td>1</td>\n",
       "      <td>0</td>\n",
       "      <td>0</td>\n",
       "      <td>0</td>\n",
       "      <td>0</td>\n",
       "      <td>0</td>\n",
       "      <td>0</td>\n",
       "      <td>0</td>\n",
       "      <td>0</td>\n",
       "      <td>0</td>\n",
       "      <td>0</td>\n",
       "      <td>0</td>\n",
       "      <td>0</td>\n",
       "      <td>0</td>\n",
       "      <td>0</td>\n",
       "      <td>1</td>\n",
       "      <td>0</td>\n",
       "      <td>0</td>\n",
       "      <td>0</td>\n",
       "      <td>0</td>\n",
       "      <td>0</td>\n",
       "      <td>0</td>\n",
       "    </tr>\n",
       "  </tbody>\n",
       "</table>\n",
       "<p>2027 rows × 58 columns</p>\n",
       "</div>"
      ],
      "text/plain": [
       "        CC Basic (HD2018)_Associate's Colleges: High Transfer-Mixed Traditional/Nontraditional  \\\n",
       "UnitID                                                                                           \n",
       "222178                                                  0                                        \n",
       "138558                                                  0                                        \n",
       "172866                                                  0                                        \n",
       "108232                                                  0                                        \n",
       "439969                                                  0                                        \n",
       "...                                                   ...                                        \n",
       "217059                                                  0                                        \n",
       "141361                                                  0                                        \n",
       "206695                                                  0                                        \n",
       "204255                                                  0                                        \n",
       "458575                                                  0                                        \n",
       "\n",
       "        CC Basic (HD2018)_Associate's Colleges: High Vocational & Technical-High Nontraditional  \\\n",
       "UnitID                                                                                            \n",
       "222178                                                  0                                         \n",
       "138558                                                  0                                         \n",
       "172866                                                  0                                         \n",
       "108232                                                  0                                         \n",
       "439969                                                  0                                         \n",
       "...                                                   ...                                         \n",
       "217059                                                  0                                         \n",
       "141361                                                  0                                         \n",
       "206695                                                  0                                         \n",
       "204255                                                  0                                         \n",
       "458575                                                  0                                         \n",
       "\n",
       "        CC Basic (HD2018)_Associate's Colleges: High Vocational & Technical-High Traditional  \\\n",
       "UnitID                                                                                         \n",
       "222178                                                  0                                      \n",
       "138558                                                  0                                      \n",
       "172866                                                  0                                      \n",
       "108232                                                  0                                      \n",
       "439969                                                  0                                      \n",
       "...                                                   ...                                      \n",
       "217059                                                  0                                      \n",
       "141361                                                  0                                      \n",
       "206695                                                  0                                      \n",
       "204255                                                  0                                      \n",
       "458575                                                  0                                      \n",
       "\n",
       "        CC Basic (HD2018)_Associate's Colleges: High Vocational & Technical-Mixed Traditional/Nontraditional  \\\n",
       "UnitID                                                                                                         \n",
       "222178                                                  0                                                      \n",
       "138558                                                  0                                                      \n",
       "172866                                                  0                                                      \n",
       "108232                                                  0                                                      \n",
       "439969                                                  0                                                      \n",
       "...                                                   ...                                                      \n",
       "217059                                                  0                                                      \n",
       "141361                                                  0                                                      \n",
       "206695                                                  0                                                      \n",
       "204255                                                  0                                                      \n",
       "458575                                                  0                                                      \n",
       "\n",
       "        CC Basic (HD2018)_Associate's Colleges: Mixed Transfer/Vocational & Technical-High Nontraditional  \\\n",
       "UnitID                                                                                                      \n",
       "222178                                                  0                                                   \n",
       "138558                                                  0                                                   \n",
       "172866                                                  0                                                   \n",
       "108232                                                  0                                                   \n",
       "439969                                                  0                                                   \n",
       "...                                                   ...                                                   \n",
       "217059                                                  0                                                   \n",
       "141361                                                  0                                                   \n",
       "206695                                                  0                                                   \n",
       "204255                                                  1                                                   \n",
       "458575                                                  0                                                   \n",
       "\n",
       "        CC Basic (HD2018)_Associate's Colleges: Mixed Transfer/Vocational & Technical-High Traditional  \\\n",
       "UnitID                                                                                                   \n",
       "222178                                                  0                                                \n",
       "138558                                                  0                                                \n",
       "172866                                                  0                                                \n",
       "108232                                                  0                                                \n",
       "439969                                                  0                                                \n",
       "...                                                   ...                                                \n",
       "217059                                                  0                                                \n",
       "141361                                                  0                                                \n",
       "206695                                                  0                                                \n",
       "204255                                                  0                                                \n",
       "458575                                                  0                                                \n",
       "\n",
       "        CC Basic (HD2018)_Associate's Colleges: Mixed Transfer/Vocational & Technical-Mixed Traditional/Nontraditional  \\\n",
       "UnitID                                                                                                                   \n",
       "222178                                                  0                                                                \n",
       "138558                                                  0                                                                \n",
       "172866                                                  0                                                                \n",
       "108232                                                  0                                                                \n",
       "439969                                                  0                                                                \n",
       "...                                                   ...                                                                \n",
       "217059                                                  0                                                                \n",
       "141361                                                  0                                                                \n",
       "206695                                                  0                                                                \n",
       "204255                                                  0                                                                \n",
       "458575                                                  0                                                                \n",
       "\n",
       "        CC Basic (HD2018)_Baccalaureate Colleges: Arts & Sciences Focus  \\\n",
       "UnitID                                                                    \n",
       "222178                                                  0                 \n",
       "138558                                                  0                 \n",
       "172866                                                  0                 \n",
       "108232                                                  0                 \n",
       "439969                                                  0                 \n",
       "...                                                   ...                 \n",
       "217059                                                  0                 \n",
       "141361                                                  1                 \n",
       "206695                                                  0                 \n",
       "204255                                                  0                 \n",
       "458575                                                  0                 \n",
       "\n",
       "        CC Basic (HD2018)_Baccalaureate Colleges: Diverse Fields  \\\n",
       "UnitID                                                             \n",
       "222178                                                  0          \n",
       "138558                                                  0          \n",
       "172866                                                  0          \n",
       "108232                                                  0          \n",
       "439969                                                  0          \n",
       "...                                                   ...          \n",
       "217059                                                  0          \n",
       "141361                                                  0          \n",
       "206695                                                  0          \n",
       "204255                                                  0          \n",
       "458575                                                  0          \n",
       "\n",
       "        CC Basic (HD2018)_Baccalaureate/Associate's Colleges: Associate's Dominant  \\\n",
       "UnitID                                                                               \n",
       "222178                                                  0                            \n",
       "138558                                                  0                            \n",
       "172866                                                  0                            \n",
       "108232                                                  0                            \n",
       "439969                                                  0                            \n",
       "...                                                   ...                            \n",
       "217059                                                  0                            \n",
       "141361                                                  0                            \n",
       "206695                                                  0                            \n",
       "204255                                                  0                            \n",
       "458575                                                  0                            \n",
       "\n",
       "        CC Basic (HD2018)_Baccalaureate/Associate's Colleges: Mixed Baccalaureate/Associate's  \\\n",
       "UnitID                                                                                          \n",
       "222178                                                  0                                       \n",
       "138558                                                  1                                       \n",
       "172866                                                  0                                       \n",
       "108232                                                  0                                       \n",
       "439969                                                  0                                       \n",
       "...                                                   ...                                       \n",
       "217059                                                  0                                       \n",
       "141361                                                  0                                       \n",
       "206695                                                  0                                       \n",
       "204255                                                  0                                       \n",
       "458575                                                  0                                       \n",
       "\n",
       "        CC Basic (HD2018)_Doctoral Universities: High Research Activity\\r\\n  \\\n",
       "UnitID                                                                        \n",
       "222178                                                  0                     \n",
       "138558                                                  0                     \n",
       "172866                                                  0                     \n",
       "108232                                                  0                     \n",
       "439969                                                  0                     \n",
       "...                                                   ...                     \n",
       "217059                                                  0                     \n",
       "141361                                                  0                     \n",
       "206695                                                  0                     \n",
       "204255                                                  0                     \n",
       "458575                                                  0                     \n",
       "\n",
       "        CC Basic (HD2018)_Doctoral Universities: Very High Research Activity\\r\\n  \\\n",
       "UnitID                                                                             \n",
       "222178                                                  0                          \n",
       "138558                                                  0                          \n",
       "172866                                                  0                          \n",
       "108232                                                  0                          \n",
       "439969                                                  0                          \n",
       "...                                                   ...                          \n",
       "217059                                                  0                          \n",
       "141361                                                  0                          \n",
       "206695                                                  0                          \n",
       "204255                                                  0                          \n",
       "458575                                                  0                          \n",
       "\n",
       "        CC Basic (HD2018)_Doctoral/Professional Universities\\r\\n  \\\n",
       "UnitID                                                             \n",
       "222178                                                  0          \n",
       "138558                                                  0          \n",
       "172866                                                  0          \n",
       "108232                                                  0          \n",
       "439969                                                  0          \n",
       "...                                                   ...          \n",
       "217059                                                  0          \n",
       "141361                                                  0          \n",
       "206695                                                  0          \n",
       "204255                                                  0          \n",
       "458575                                                  0          \n",
       "\n",
       "        CC Basic (HD2018)_Master's Colleges & Universities: Larger Programs  \\\n",
       "UnitID                                                                        \n",
       "222178                                                  1                     \n",
       "138558                                                  0                     \n",
       "172866                                                  0                     \n",
       "108232                                                  1                     \n",
       "439969                                                  0                     \n",
       "...                                                   ...                     \n",
       "217059                                                  0                     \n",
       "141361                                                  0                     \n",
       "206695                                                  1                     \n",
       "204255                                                  0                     \n",
       "458575                                                  0                     \n",
       "\n",
       "        CC Basic (HD2018)_Master's Colleges & Universities: Medium Programs  \\\n",
       "UnitID                                                                        \n",
       "222178                                                  0                     \n",
       "138558                                                  0                     \n",
       "172866                                                  0                     \n",
       "108232                                                  0                     \n",
       "439969                                                  0                     \n",
       "...                                                   ...                     \n",
       "217059                                                  0                     \n",
       "141361                                                  0                     \n",
       "206695                                                  0                     \n",
       "204255                                                  0                     \n",
       "458575                                                  0                     \n",
       "\n",
       "        CC Basic (HD2018)_Master's Colleges & Universities: Small Programs  \\\n",
       "UnitID                                                                       \n",
       "222178                                                  0                    \n",
       "138558                                                  0                    \n",
       "172866                                                  0                    \n",
       "108232                                                  0                    \n",
       "439969                                                  0                    \n",
       "...                                                   ...                    \n",
       "217059                                                  1                    \n",
       "141361                                                  0                    \n",
       "206695                                                  0                    \n",
       "204255                                                  0                    \n",
       "458575                                                  0                    \n",
       "\n",
       "        CC Basic (HD2018)_Not applicable, not in Carnegie universe (not accredited or nondegree-granting)  \\\n",
       "UnitID                                                                                                      \n",
       "222178                                                  0                                                   \n",
       "138558                                                  0                                                   \n",
       "172866                                                  0                                                   \n",
       "108232                                                  0                                                   \n",
       "439969                                                  0                                                   \n",
       "...                                                   ...                                                   \n",
       "217059                                                  0                                                   \n",
       "141361                                                  0                                                   \n",
       "206695                                                  0                                                   \n",
       "204255                                                  0                                                   \n",
       "458575                                                  1                                                   \n",
       "\n",
       "        CC Basic (HD2018)_Special Focus Four-Year: Arts, Music & Design Schools  \\\n",
       "UnitID                                                                            \n",
       "222178                                                  0                         \n",
       "138558                                                  0                         \n",
       "172866                                                  0                         \n",
       "108232                                                  0                         \n",
       "439969                                                  0                         \n",
       "...                                                   ...                         \n",
       "217059                                                  0                         \n",
       "141361                                                  0                         \n",
       "206695                                                  0                         \n",
       "204255                                                  0                         \n",
       "458575                                                  0                         \n",
       "\n",
       "        CC Basic (HD2018)_Special Focus Four-Year: Business & Management Schools  \\\n",
       "UnitID                                                                             \n",
       "222178                                                  0                          \n",
       "138558                                                  0                          \n",
       "172866                                                  0                          \n",
       "108232                                                  0                          \n",
       "439969                                                  0                          \n",
       "...                                                   ...                          \n",
       "217059                                                  0                          \n",
       "141361                                                  0                          \n",
       "206695                                                  0                          \n",
       "204255                                                  0                          \n",
       "458575                                                  0                          \n",
       "\n",
       "        CC Basic (HD2018)_Special Focus Four-Year: Engineering Schools  \\\n",
       "UnitID                                                                   \n",
       "222178                                                  0                \n",
       "138558                                                  0                \n",
       "172866                                                  0                \n",
       "108232                                                  0                \n",
       "439969                                                  0                \n",
       "...                                                   ...                \n",
       "217059                                                  0                \n",
       "141361                                                  0                \n",
       "206695                                                  0                \n",
       "204255                                                  0                \n",
       "458575                                                  0                \n",
       "\n",
       "        CC Basic (HD2018)_Special Focus Four-Year: Faith-Related Institutions  \\\n",
       "UnitID                                                                          \n",
       "222178                                                  0                       \n",
       "138558                                                  0                       \n",
       "172866                                                  0                       \n",
       "108232                                                  0                       \n",
       "439969                                                  0                       \n",
       "...                                                   ...                       \n",
       "217059                                                  0                       \n",
       "141361                                                  0                       \n",
       "206695                                                  0                       \n",
       "204255                                                  0                       \n",
       "458575                                                  0                       \n",
       "\n",
       "        CC Basic (HD2018)_Special Focus Four-Year: Other Health Professions Schools  \\\n",
       "UnitID                                                                                \n",
       "222178                                                  0                             \n",
       "138558                                                  0                             \n",
       "172866                                                  0                             \n",
       "108232                                                  0                             \n",
       "439969                                                  1                             \n",
       "...                                                   ...                             \n",
       "217059                                                  0                             \n",
       "141361                                                  0                             \n",
       "206695                                                  0                             \n",
       "204255                                                  0                             \n",
       "458575                                                  0                             \n",
       "\n",
       "        CC Basic (HD2018)_Special Focus Four-Year: Other Special Focus Institutions  \\\n",
       "UnitID                                                                                \n",
       "222178                                                  0                             \n",
       "138558                                                  0                             \n",
       "172866                                                  0                             \n",
       "108232                                                  0                             \n",
       "439969                                                  0                             \n",
       "...                                                   ...                             \n",
       "217059                                                  0                             \n",
       "141361                                                  0                             \n",
       "206695                                                  0                             \n",
       "204255                                                  0                             \n",
       "458575                                                  0                             \n",
       "\n",
       "        CC Basic (HD2018)_Special Focus Four-Year: Other Technology-Related Schools  \\\n",
       "UnitID                                                                                \n",
       "222178                                                  0                             \n",
       "138558                                                  0                             \n",
       "172866                                                  1                             \n",
       "108232                                                  0                             \n",
       "439969                                                  0                             \n",
       "...                                                   ...                             \n",
       "217059                                                  0                             \n",
       "141361                                                  0                             \n",
       "206695                                                  0                             \n",
       "204255                                                  0                             \n",
       "458575                                                  0                             \n",
       "\n",
       "        CC Basic (HD2018)_Special Focus Two-Year: Arts & Design  \\\n",
       "UnitID                                                            \n",
       "222178                                                  0         \n",
       "138558                                                  0         \n",
       "172866                                                  0         \n",
       "108232                                                  0         \n",
       "439969                                                  0         \n",
       "...                                                   ...         \n",
       "217059                                                  0         \n",
       "141361                                                  0         \n",
       "206695                                                  0         \n",
       "204255                                                  0         \n",
       "458575                                                  0         \n",
       "\n",
       "        CC Basic (HD2018)_Special Focus Two-Year: Health Professions  \\\n",
       "UnitID                                                                 \n",
       "222178                                                  0              \n",
       "138558                                                  0              \n",
       "172866                                                  0              \n",
       "108232                                                  0              \n",
       "439969                                                  0              \n",
       "...                                                   ...              \n",
       "217059                                                  0              \n",
       "141361                                                  0              \n",
       "206695                                                  0              \n",
       "204255                                                  0              \n",
       "458575                                                  0              \n",
       "\n",
       "        CC Basic (HD2018)_Special Focus Two-Year: Other Fields  \\\n",
       "UnitID                                                           \n",
       "222178                                                  0        \n",
       "138558                                                  0        \n",
       "172866                                                  0        \n",
       "108232                                                  0        \n",
       "439969                                                  0        \n",
       "...                                                   ...        \n",
       "217059                                                  0        \n",
       "141361                                                  0        \n",
       "206695                                                  0        \n",
       "204255                                                  0        \n",
       "458575                                                  0        \n",
       "\n",
       "        CC Basic (HD2018)_Special Focus Two-Year: Technical Professions  \\\n",
       "UnitID                                                                    \n",
       "222178                                                  0                 \n",
       "138558                                                  0                 \n",
       "172866                                                  0                 \n",
       "108232                                                  0                 \n",
       "439969                                                  0                 \n",
       "...                                                   ...                 \n",
       "217059                                                  0                 \n",
       "141361                                                  0                 \n",
       "206695                                                  0                 \n",
       "204255                                                  0                 \n",
       "458575                                                  0                 \n",
       "\n",
       "        CC Basic (HD2018)_Tribal Colleges  CC Basic (HD2018)_isMissing  \\\n",
       "UnitID                                                                   \n",
       "222178                                  0                            0   \n",
       "138558                                  0                            0   \n",
       "172866                                  0                            0   \n",
       "108232                                  0                            0   \n",
       "439969                                  0                            0   \n",
       "...                                   ...                          ...   \n",
       "217059                                  0                            0   \n",
       "141361                                  0                            0   \n",
       "206695                                  0                            0   \n",
       "204255                                  0                            0   \n",
       "458575                                  0                            0   \n",
       "\n",
       "        CC Enrollment Profile (HD2018)_Exclusively undergraduate four-year  \\\n",
       "UnitID                                                                       \n",
       "222178                                                  0                    \n",
       "138558                                                  1                    \n",
       "172866                                                  1                    \n",
       "108232                                                  0                    \n",
       "439969                                                  0                    \n",
       "...                                                   ...                    \n",
       "217059                                                  0                    \n",
       "141361                                                  1                    \n",
       "206695                                                  0                    \n",
       "204255                                                  0                    \n",
       "458575                                                  0                    \n",
       "\n",
       "        CC Enrollment Profile (HD2018)_Exclusively undergraduate two-year  \\\n",
       "UnitID                                                                      \n",
       "222178                                                  0                   \n",
       "138558                                                  0                   \n",
       "172866                                                  0                   \n",
       "108232                                                  0                   \n",
       "439969                                                  0                   \n",
       "...                                                   ...                   \n",
       "217059                                                  0                   \n",
       "141361                                                  0                   \n",
       "206695                                                  0                   \n",
       "204255                                                  1                   \n",
       "458575                                                  0                   \n",
       "\n",
       "        CC Enrollment Profile (HD2018)_High undergraduate  \\\n",
       "UnitID                                                      \n",
       "222178                                                  1   \n",
       "138558                                                  0   \n",
       "172866                                                  0   \n",
       "108232                                                  0   \n",
       "439969                                                  0   \n",
       "...                                                   ...   \n",
       "217059                                                  0   \n",
       "141361                                                  0   \n",
       "206695                                                  0   \n",
       "204255                                                  0   \n",
       "458575                                                  0   \n",
       "\n",
       "        CC Enrollment Profile (HD2018)_Majority graduate  \\\n",
       "UnitID                                                     \n",
       "222178                                                 0   \n",
       "138558                                                 0   \n",
       "172866                                                 0   \n",
       "108232                                                 0   \n",
       "439969                                                 1   \n",
       "...                                                  ...   \n",
       "217059                                                 0   \n",
       "141361                                                 0   \n",
       "206695                                                 0   \n",
       "204255                                                 0   \n",
       "458575                                                 0   \n",
       "\n",
       "        CC Enrollment Profile (HD2018)_Majority undergraduate  \\\n",
       "UnitID                                                          \n",
       "222178                                                  0       \n",
       "138558                                                  0       \n",
       "172866                                                  0       \n",
       "108232                                                  1       \n",
       "439969                                                  0       \n",
       "...                                                   ...       \n",
       "217059                                                  0       \n",
       "141361                                                  0       \n",
       "206695                                                  0       \n",
       "204255                                                  0       \n",
       "458575                                                  0       \n",
       "\n",
       "        CC Enrollment Profile (HD2018)_Not applicable, not in Carnegie universe (not accredited or nondegree-granting)  \\\n",
       "UnitID                                                                                                                   \n",
       "222178                                                  0                                                                \n",
       "138558                                                  0                                                                \n",
       "172866                                                  0                                                                \n",
       "108232                                                  0                                                                \n",
       "439969                                                  0                                                                \n",
       "...                                                   ...                                                                \n",
       "217059                                                  0                                                                \n",
       "141361                                                  0                                                                \n",
       "206695                                                  0                                                                \n",
       "204255                                                  0                                                                \n",
       "458575                                                  1                                                                \n",
       "\n",
       "        CC Enrollment Profile (HD2018)_Very high undergraduate  \\\n",
       "UnitID                                                           \n",
       "222178                                                  0        \n",
       "138558                                                  0        \n",
       "172866                                                  0        \n",
       "108232                                                  0        \n",
       "439969                                                  0        \n",
       "...                                                   ...        \n",
       "217059                                                  1        \n",
       "141361                                                  0        \n",
       "206695                                                  1        \n",
       "204255                                                  0        \n",
       "458575                                                  0        \n",
       "\n",
       "        CC Enrollment Profile (HD2018)_isMissing  \\\n",
       "UnitID                                             \n",
       "222178                                         0   \n",
       "138558                                         0   \n",
       "172866                                         0   \n",
       "108232                                         0   \n",
       "439969                                         0   \n",
       "...                                          ...   \n",
       "217059                                         0   \n",
       "141361                                         0   \n",
       "206695                                         0   \n",
       "204255                                         0   \n",
       "458575                                         0   \n",
       "\n",
       "        CC Size and Setting (HD2018)_Four-year, large, highly residential  \\\n",
       "UnitID                                                                      \n",
       "222178                                                  0                   \n",
       "138558                                                  0                   \n",
       "172866                                                  0                   \n",
       "108232                                                  0                   \n",
       "439969                                                  0                   \n",
       "...                                                   ...                   \n",
       "217059                                                  0                   \n",
       "141361                                                  0                   \n",
       "206695                                                  0                   \n",
       "204255                                                  0                   \n",
       "458575                                                  0                   \n",
       "\n",
       "        CC Size and Setting (HD2018)_Four-year, large, primarily nonresidential  \\\n",
       "UnitID                                                                            \n",
       "222178                                                  0                         \n",
       "138558                                                  0                         \n",
       "172866                                                  0                         \n",
       "108232                                                  0                         \n",
       "439969                                                  0                         \n",
       "...                                                   ...                         \n",
       "217059                                                  0                         \n",
       "141361                                                  0                         \n",
       "206695                                                  1                         \n",
       "204255                                                  0                         \n",
       "458575                                                  0                         \n",
       "\n",
       "        CC Size and Setting (HD2018)_Four-year, large, primarily residential  \\\n",
       "UnitID                                                                         \n",
       "222178                                                  0                      \n",
       "138558                                                  0                      \n",
       "172866                                                  0                      \n",
       "108232                                                  0                      \n",
       "439969                                                  0                      \n",
       "...                                                   ...                      \n",
       "217059                                                  0                      \n",
       "141361                                                  0                      \n",
       "206695                                                  0                      \n",
       "204255                                                  0                      \n",
       "458575                                                  0                      \n",
       "\n",
       "        CC Size and Setting (HD2018)_Four-year, medium, highly residential  \\\n",
       "UnitID                                                                       \n",
       "222178                                                  1                    \n",
       "138558                                                  0                    \n",
       "172866                                                  0                    \n",
       "108232                                                  0                    \n",
       "439969                                                  0                    \n",
       "...                                                   ...                    \n",
       "217059                                                  1                    \n",
       "141361                                                  0                    \n",
       "206695                                                  0                    \n",
       "204255                                                  0                    \n",
       "458575                                                  0                    \n",
       "\n",
       "        CC Size and Setting (HD2018)_Four-year, medium, primarily nonresidential  \\\n",
       "UnitID                                                                             \n",
       "222178                                                  0                          \n",
       "138558                                                  0                          \n",
       "172866                                                  0                          \n",
       "108232                                                  1                          \n",
       "439969                                                  0                          \n",
       "...                                                   ...                          \n",
       "217059                                                  0                          \n",
       "141361                                                  0                          \n",
       "206695                                                  0                          \n",
       "204255                                                  0                          \n",
       "458575                                                  0                          \n",
       "\n",
       "        CC Size and Setting (HD2018)_Four-year, medium, primarily residential  \\\n",
       "UnitID                                                                          \n",
       "222178                                                  0                       \n",
       "138558                                                  0                       \n",
       "172866                                                  0                       \n",
       "108232                                                  0                       \n",
       "439969                                                  0                       \n",
       "...                                                   ...                       \n",
       "217059                                                  0                       \n",
       "141361                                                  0                       \n",
       "206695                                                  0                       \n",
       "204255                                                  0                       \n",
       "458575                                                  0                       \n",
       "\n",
       "        CC Size and Setting (HD2018)_Four-year, small, highly residential  \\\n",
       "UnitID                                                                      \n",
       "222178                                                  0                   \n",
       "138558                                                  0                   \n",
       "172866                                                  0                   \n",
       "108232                                                  0                   \n",
       "439969                                                  0                   \n",
       "...                                                   ...                   \n",
       "217059                                                  0                   \n",
       "141361                                                  1                   \n",
       "206695                                                  0                   \n",
       "204255                                                  0                   \n",
       "458575                                                  0                   \n",
       "\n",
       "        CC Size and Setting (HD2018)_Four-year, small, primarily nonresidential  \\\n",
       "UnitID                                                                            \n",
       "222178                                                  0                         \n",
       "138558                                                  0                         \n",
       "172866                                                  0                         \n",
       "108232                                                  0                         \n",
       "439969                                                  0                         \n",
       "...                                                   ...                         \n",
       "217059                                                  0                         \n",
       "141361                                                  0                         \n",
       "206695                                                  0                         \n",
       "204255                                                  0                         \n",
       "458575                                                  0                         \n",
       "\n",
       "        CC Size and Setting (HD2018)_Four-year, small, primarily residential  \\\n",
       "UnitID                                                                         \n",
       "222178                                                  0                      \n",
       "138558                                                  1                      \n",
       "172866                                                  0                      \n",
       "108232                                                  0                      \n",
       "439969                                                  0                      \n",
       "...                                                   ...                      \n",
       "217059                                                  0                      \n",
       "141361                                                  0                      \n",
       "206695                                                  0                      \n",
       "204255                                                  0                      \n",
       "458575                                                  0                      \n",
       "\n",
       "        CC Size and Setting (HD2018)_Four-year, very small, highly residential  \\\n",
       "UnitID                                                                           \n",
       "222178                                                  0                        \n",
       "138558                                                  0                        \n",
       "172866                                                  0                        \n",
       "108232                                                  0                        \n",
       "439969                                                  0                        \n",
       "...                                                   ...                        \n",
       "217059                                                  0                        \n",
       "141361                                                  0                        \n",
       "206695                                                  0                        \n",
       "204255                                                  0                        \n",
       "458575                                                  0                        \n",
       "\n",
       "        CC Size and Setting (HD2018)_Four-year, very small, primarily nonresidential  \\\n",
       "UnitID                                                                                 \n",
       "222178                                                  0                              \n",
       "138558                                                  0                              \n",
       "172866                                                  1                              \n",
       "108232                                                  0                              \n",
       "439969                                                  1                              \n",
       "...                                                   ...                              \n",
       "217059                                                  0                              \n",
       "141361                                                  0                              \n",
       "206695                                                  0                              \n",
       "204255                                                  0                              \n",
       "458575                                                  0                              \n",
       "\n",
       "        CC Size and Setting (HD2018)_Four-year, very small, primarily residential  \\\n",
       "UnitID                                                                              \n",
       "222178                                                  0                           \n",
       "138558                                                  0                           \n",
       "172866                                                  0                           \n",
       "108232                                                  0                           \n",
       "439969                                                  0                           \n",
       "...                                                   ...                           \n",
       "217059                                                  0                           \n",
       "141361                                                  0                           \n",
       "206695                                                  0                           \n",
       "204255                                                  0                           \n",
       "458575                                                  0                           \n",
       "\n",
       "        CC Size and Setting (HD2018)_Not applicable, not in Carnegie universe (not accredited or nondegree-granting)  \\\n",
       "UnitID                                                                                                                 \n",
       "222178                                                  0                                                              \n",
       "138558                                                  0                                                              \n",
       "172866                                                  0                                                              \n",
       "108232                                                  0                                                              \n",
       "439969                                                  0                                                              \n",
       "...                                                   ...                                                              \n",
       "217059                                                  0                                                              \n",
       "141361                                                  0                                                              \n",
       "206695                                                  0                                                              \n",
       "204255                                                  0                                                              \n",
       "458575                                                  1                                                              \n",
       "\n",
       "        CC Size and Setting (HD2018)_Two-year, large  \\\n",
       "UnitID                                                 \n",
       "222178                                             0   \n",
       "138558                                             0   \n",
       "172866                                             0   \n",
       "108232                                             0   \n",
       "439969                                             0   \n",
       "...                                              ...   \n",
       "217059                                             0   \n",
       "141361                                             0   \n",
       "206695                                             0   \n",
       "204255                                             0   \n",
       "458575                                             0   \n",
       "\n",
       "        CC Size and Setting (HD2018)_Two-year, medium  \\\n",
       "UnitID                                                  \n",
       "222178                                              0   \n",
       "138558                                              0   \n",
       "172866                                              0   \n",
       "108232                                              0   \n",
       "439969                                              0   \n",
       "...                                               ...   \n",
       "217059                                              0   \n",
       "141361                                              0   \n",
       "206695                                              0   \n",
       "204255                                              0   \n",
       "458575                                              0   \n",
       "\n",
       "        CC Size and Setting (HD2018)_Two-year, small  \\\n",
       "UnitID                                                 \n",
       "222178                                             0   \n",
       "138558                                             0   \n",
       "172866                                             0   \n",
       "108232                                             0   \n",
       "439969                                             0   \n",
       "...                                              ...   \n",
       "217059                                             0   \n",
       "141361                                             0   \n",
       "206695                                             0   \n",
       "204255                                             1   \n",
       "458575                                             0   \n",
       "\n",
       "        CC Size and Setting (HD2018)_Two-year, very large  \\\n",
       "UnitID                                                      \n",
       "222178                                                  0   \n",
       "138558                                                  0   \n",
       "172866                                                  0   \n",
       "108232                                                  0   \n",
       "439969                                                  0   \n",
       "...                                                   ...   \n",
       "217059                                                  0   \n",
       "141361                                                  0   \n",
       "206695                                                  0   \n",
       "204255                                                  0   \n",
       "458575                                                  0   \n",
       "\n",
       "        CC Size and Setting (HD2018)_Two-year, very small  \\\n",
       "UnitID                                                      \n",
       "222178                                                  0   \n",
       "138558                                                  0   \n",
       "172866                                                  0   \n",
       "108232                                                  0   \n",
       "439969                                                  0   \n",
       "...                                                   ...   \n",
       "217059                                                  0   \n",
       "141361                                                  0   \n",
       "206695                                                  0   \n",
       "204255                                                  0   \n",
       "458575                                                  0   \n",
       "\n",
       "        CC Size and Setting (HD2018)_isMissing  \n",
       "UnitID                                          \n",
       "222178                                       0  \n",
       "138558                                       0  \n",
       "172866                                       0  \n",
       "108232                                       0  \n",
       "439969                                       0  \n",
       "...                                        ...  \n",
       "217059                                       0  \n",
       "141361                                       0  \n",
       "206695                                       0  \n",
       "204255                                       0  \n",
       "458575                                       0  \n",
       "\n",
       "[2027 rows x 58 columns]"
      ]
     },
     "execution_count": 72,
     "metadata": {},
     "output_type": "execute_result"
    }
   ],
   "source": [
    "X_fe.filter(regex='CC')"
   ]
  },
  {
   "cell_type": "code",
   "execution_count": 73,
   "id": "1359c5dc",
   "metadata": {},
   "outputs": [],
   "source": [
    "coefs = elasticNet_model['classifier'].coef_"
   ]
  },
  {
   "cell_type": "code",
   "execution_count": 74,
   "id": "ed838cee",
   "metadata": {},
   "outputs": [],
   "source": [
    "feature_names = list(X_fe.columns)"
   ]
  },
  {
   "cell_type": "code",
   "execution_count": 75,
   "id": "61b08200",
   "metadata": {},
   "outputs": [],
   "source": [
    "final_coefs = sorted(list(zip(feature_names, coefs)), key= lambda x: np.abs(x[1]))"
   ]
  },
  {
   "cell_type": "code",
   "execution_count": 76,
   "id": "75698f38",
   "metadata": {},
   "outputs": [],
   "source": [
    "best = final_coefs[-10:]"
   ]
  },
  {
   "cell_type": "code",
   "execution_count": 77,
   "id": "840a6690",
   "metadata": {},
   "outputs": [],
   "source": [
    "best = sorted(best, key=lambda x: x[1])"
   ]
  },
  {
   "cell_type": "code",
   "execution_count": 78,
   "id": "1aebc01b",
   "metadata": {
    "collapsed": true
   },
   "outputs": [
    {
     "data": {
      "application/vnd.plotly.v1+json": {
       "config": {
        "plotlyServerURL": "https://plot.ly"
       },
       "data": [
        {
         "orientation": "h",
         "text": [
          "-11.72",
          "-9.92",
          "-8.56",
          "-8.01",
          "7.73",
          "7.88",
          "8.01",
          "8.98",
          "11.48",
          "11.53"
         ],
         "type": "bar",
         "x": [
          -11.72317840501102,
          -9.921386449934444,
          -8.555873791734788,
          -8.01135567953017,
          7.734134148880821,
          7.879963281471843,
          8.005655277555208,
          8.97765209919144,
          11.481437301962593,
          11.53076068601829
         ],
         "xaxis": "x",
         "y": [
          "State abbreviation (HD2018)_Arkansas",
          "CC Enrollment Profile (HD2018)_Majority undergraduate",
          "CC Basic (HD2018)_Baccalaureate/Associate's Colleges: Mixed Baccalaureate/Associate's",
          "State abbreviation (HD2018)_New Hampshire",
          "State abbreviation (HD2018)_Idaho",
          "State abbreviation (HD2018)_Delaware",
          "Parent/child indicator - Finance (FLAGS2019)_Not applicable",
          "State abbreviation (HD2018)_Florida",
          "CC Basic (HD2018)_Special Focus Two-Year: Other Fields",
          "Sector of institution (HD2018)_Private not-for-profit, 2-year"
         ],
         "yaxis": "y"
        }
       ],
       "layout": {
        "annotations": [
         {
          "font": {
           "size": 16
          },
          "showarrow": false,
          "text": "Model Coeficients",
          "x": 0.5,
          "xanchor": "center",
          "xref": "paper",
          "y": 1,
          "yanchor": "bottom",
          "yref": "paper"
         }
        ],
        "template": {
         "data": {
          "bar": [
           {
            "error_x": {
             "color": "#2a3f5f"
            },
            "error_y": {
             "color": "#2a3f5f"
            },
            "marker": {
             "line": {
              "color": "#E5ECF6",
              "width": 0.5
             },
             "pattern": {
              "fillmode": "overlay",
              "size": 10,
              "solidity": 0.2
             }
            },
            "type": "bar"
           }
          ],
          "barpolar": [
           {
            "marker": {
             "line": {
              "color": "#E5ECF6",
              "width": 0.5
             },
             "pattern": {
              "fillmode": "overlay",
              "size": 10,
              "solidity": 0.2
             }
            },
            "type": "barpolar"
           }
          ],
          "carpet": [
           {
            "aaxis": {
             "endlinecolor": "#2a3f5f",
             "gridcolor": "white",
             "linecolor": "white",
             "minorgridcolor": "white",
             "startlinecolor": "#2a3f5f"
            },
            "baxis": {
             "endlinecolor": "#2a3f5f",
             "gridcolor": "white",
             "linecolor": "white",
             "minorgridcolor": "white",
             "startlinecolor": "#2a3f5f"
            },
            "type": "carpet"
           }
          ],
          "choropleth": [
           {
            "colorbar": {
             "outlinewidth": 0,
             "ticks": ""
            },
            "type": "choropleth"
           }
          ],
          "contour": [
           {
            "colorbar": {
             "outlinewidth": 0,
             "ticks": ""
            },
            "colorscale": [
             [
              0,
              "#0d0887"
             ],
             [
              0.1111111111111111,
              "#46039f"
             ],
             [
              0.2222222222222222,
              "#7201a8"
             ],
             [
              0.3333333333333333,
              "#9c179e"
             ],
             [
              0.4444444444444444,
              "#bd3786"
             ],
             [
              0.5555555555555556,
              "#d8576b"
             ],
             [
              0.6666666666666666,
              "#ed7953"
             ],
             [
              0.7777777777777778,
              "#fb9f3a"
             ],
             [
              0.8888888888888888,
              "#fdca26"
             ],
             [
              1,
              "#f0f921"
             ]
            ],
            "type": "contour"
           }
          ],
          "contourcarpet": [
           {
            "colorbar": {
             "outlinewidth": 0,
             "ticks": ""
            },
            "type": "contourcarpet"
           }
          ],
          "heatmap": [
           {
            "colorbar": {
             "outlinewidth": 0,
             "ticks": ""
            },
            "colorscale": [
             [
              0,
              "#0d0887"
             ],
             [
              0.1111111111111111,
              "#46039f"
             ],
             [
              0.2222222222222222,
              "#7201a8"
             ],
             [
              0.3333333333333333,
              "#9c179e"
             ],
             [
              0.4444444444444444,
              "#bd3786"
             ],
             [
              0.5555555555555556,
              "#d8576b"
             ],
             [
              0.6666666666666666,
              "#ed7953"
             ],
             [
              0.7777777777777778,
              "#fb9f3a"
             ],
             [
              0.8888888888888888,
              "#fdca26"
             ],
             [
              1,
              "#f0f921"
             ]
            ],
            "type": "heatmap"
           }
          ],
          "heatmapgl": [
           {
            "colorbar": {
             "outlinewidth": 0,
             "ticks": ""
            },
            "colorscale": [
             [
              0,
              "#0d0887"
             ],
             [
              0.1111111111111111,
              "#46039f"
             ],
             [
              0.2222222222222222,
              "#7201a8"
             ],
             [
              0.3333333333333333,
              "#9c179e"
             ],
             [
              0.4444444444444444,
              "#bd3786"
             ],
             [
              0.5555555555555556,
              "#d8576b"
             ],
             [
              0.6666666666666666,
              "#ed7953"
             ],
             [
              0.7777777777777778,
              "#fb9f3a"
             ],
             [
              0.8888888888888888,
              "#fdca26"
             ],
             [
              1,
              "#f0f921"
             ]
            ],
            "type": "heatmapgl"
           }
          ],
          "histogram": [
           {
            "marker": {
             "pattern": {
              "fillmode": "overlay",
              "size": 10,
              "solidity": 0.2
             }
            },
            "type": "histogram"
           }
          ],
          "histogram2d": [
           {
            "colorbar": {
             "outlinewidth": 0,
             "ticks": ""
            },
            "colorscale": [
             [
              0,
              "#0d0887"
             ],
             [
              0.1111111111111111,
              "#46039f"
             ],
             [
              0.2222222222222222,
              "#7201a8"
             ],
             [
              0.3333333333333333,
              "#9c179e"
             ],
             [
              0.4444444444444444,
              "#bd3786"
             ],
             [
              0.5555555555555556,
              "#d8576b"
             ],
             [
              0.6666666666666666,
              "#ed7953"
             ],
             [
              0.7777777777777778,
              "#fb9f3a"
             ],
             [
              0.8888888888888888,
              "#fdca26"
             ],
             [
              1,
              "#f0f921"
             ]
            ],
            "type": "histogram2d"
           }
          ],
          "histogram2dcontour": [
           {
            "colorbar": {
             "outlinewidth": 0,
             "ticks": ""
            },
            "colorscale": [
             [
              0,
              "#0d0887"
             ],
             [
              0.1111111111111111,
              "#46039f"
             ],
             [
              0.2222222222222222,
              "#7201a8"
             ],
             [
              0.3333333333333333,
              "#9c179e"
             ],
             [
              0.4444444444444444,
              "#bd3786"
             ],
             [
              0.5555555555555556,
              "#d8576b"
             ],
             [
              0.6666666666666666,
              "#ed7953"
             ],
             [
              0.7777777777777778,
              "#fb9f3a"
             ],
             [
              0.8888888888888888,
              "#fdca26"
             ],
             [
              1,
              "#f0f921"
             ]
            ],
            "type": "histogram2dcontour"
           }
          ],
          "mesh3d": [
           {
            "colorbar": {
             "outlinewidth": 0,
             "ticks": ""
            },
            "type": "mesh3d"
           }
          ],
          "parcoords": [
           {
            "line": {
             "colorbar": {
              "outlinewidth": 0,
              "ticks": ""
             }
            },
            "type": "parcoords"
           }
          ],
          "pie": [
           {
            "automargin": true,
            "type": "pie"
           }
          ],
          "scatter": [
           {
            "marker": {
             "colorbar": {
              "outlinewidth": 0,
              "ticks": ""
             }
            },
            "type": "scatter"
           }
          ],
          "scatter3d": [
           {
            "line": {
             "colorbar": {
              "outlinewidth": 0,
              "ticks": ""
             }
            },
            "marker": {
             "colorbar": {
              "outlinewidth": 0,
              "ticks": ""
             }
            },
            "type": "scatter3d"
           }
          ],
          "scattercarpet": [
           {
            "marker": {
             "colorbar": {
              "outlinewidth": 0,
              "ticks": ""
             }
            },
            "type": "scattercarpet"
           }
          ],
          "scattergeo": [
           {
            "marker": {
             "colorbar": {
              "outlinewidth": 0,
              "ticks": ""
             }
            },
            "type": "scattergeo"
           }
          ],
          "scattergl": [
           {
            "marker": {
             "colorbar": {
              "outlinewidth": 0,
              "ticks": ""
             }
            },
            "type": "scattergl"
           }
          ],
          "scattermapbox": [
           {
            "marker": {
             "colorbar": {
              "outlinewidth": 0,
              "ticks": ""
             }
            },
            "type": "scattermapbox"
           }
          ],
          "scatterpolar": [
           {
            "marker": {
             "colorbar": {
              "outlinewidth": 0,
              "ticks": ""
             }
            },
            "type": "scatterpolar"
           }
          ],
          "scatterpolargl": [
           {
            "marker": {
             "colorbar": {
              "outlinewidth": 0,
              "ticks": ""
             }
            },
            "type": "scatterpolargl"
           }
          ],
          "scatterternary": [
           {
            "marker": {
             "colorbar": {
              "outlinewidth": 0,
              "ticks": ""
             }
            },
            "type": "scatterternary"
           }
          ],
          "surface": [
           {
            "colorbar": {
             "outlinewidth": 0,
             "ticks": ""
            },
            "colorscale": [
             [
              0,
              "#0d0887"
             ],
             [
              0.1111111111111111,
              "#46039f"
             ],
             [
              0.2222222222222222,
              "#7201a8"
             ],
             [
              0.3333333333333333,
              "#9c179e"
             ],
             [
              0.4444444444444444,
              "#bd3786"
             ],
             [
              0.5555555555555556,
              "#d8576b"
             ],
             [
              0.6666666666666666,
              "#ed7953"
             ],
             [
              0.7777777777777778,
              "#fb9f3a"
             ],
             [
              0.8888888888888888,
              "#fdca26"
             ],
             [
              1,
              "#f0f921"
             ]
            ],
            "type": "surface"
           }
          ],
          "table": [
           {
            "cells": {
             "fill": {
              "color": "#EBF0F8"
             },
             "line": {
              "color": "white"
             }
            },
            "header": {
             "fill": {
              "color": "#C8D4E3"
             },
             "line": {
              "color": "white"
             }
            },
            "type": "table"
           }
          ]
         },
         "layout": {
          "annotationdefaults": {
           "arrowcolor": "#2a3f5f",
           "arrowhead": 0,
           "arrowwidth": 1
          },
          "autotypenumbers": "strict",
          "coloraxis": {
           "colorbar": {
            "outlinewidth": 0,
            "ticks": ""
           }
          },
          "colorscale": {
           "diverging": [
            [
             0,
             "#8e0152"
            ],
            [
             0.1,
             "#c51b7d"
            ],
            [
             0.2,
             "#de77ae"
            ],
            [
             0.3,
             "#f1b6da"
            ],
            [
             0.4,
             "#fde0ef"
            ],
            [
             0.5,
             "#f7f7f7"
            ],
            [
             0.6,
             "#e6f5d0"
            ],
            [
             0.7,
             "#b8e186"
            ],
            [
             0.8,
             "#7fbc41"
            ],
            [
             0.9,
             "#4d9221"
            ],
            [
             1,
             "#276419"
            ]
           ],
           "sequential": [
            [
             0,
             "#0d0887"
            ],
            [
             0.1111111111111111,
             "#46039f"
            ],
            [
             0.2222222222222222,
             "#7201a8"
            ],
            [
             0.3333333333333333,
             "#9c179e"
            ],
            [
             0.4444444444444444,
             "#bd3786"
            ],
            [
             0.5555555555555556,
             "#d8576b"
            ],
            [
             0.6666666666666666,
             "#ed7953"
            ],
            [
             0.7777777777777778,
             "#fb9f3a"
            ],
            [
             0.8888888888888888,
             "#fdca26"
            ],
            [
             1,
             "#f0f921"
            ]
           ],
           "sequentialminus": [
            [
             0,
             "#0d0887"
            ],
            [
             0.1111111111111111,
             "#46039f"
            ],
            [
             0.2222222222222222,
             "#7201a8"
            ],
            [
             0.3333333333333333,
             "#9c179e"
            ],
            [
             0.4444444444444444,
             "#bd3786"
            ],
            [
             0.5555555555555556,
             "#d8576b"
            ],
            [
             0.6666666666666666,
             "#ed7953"
            ],
            [
             0.7777777777777778,
             "#fb9f3a"
            ],
            [
             0.8888888888888888,
             "#fdca26"
            ],
            [
             1,
             "#f0f921"
            ]
           ]
          },
          "colorway": [
           "#636efa",
           "#EF553B",
           "#00cc96",
           "#ab63fa",
           "#FFA15A",
           "#19d3f3",
           "#FF6692",
           "#B6E880",
           "#FF97FF",
           "#FECB52"
          ],
          "font": {
           "color": "#2a3f5f"
          },
          "geo": {
           "bgcolor": "white",
           "lakecolor": "white",
           "landcolor": "#E5ECF6",
           "showlakes": true,
           "showland": true,
           "subunitcolor": "white"
          },
          "hoverlabel": {
           "align": "left"
          },
          "hovermode": "closest",
          "mapbox": {
           "style": "light"
          },
          "paper_bgcolor": "white",
          "plot_bgcolor": "#E5ECF6",
          "polar": {
           "angularaxis": {
            "gridcolor": "white",
            "linecolor": "white",
            "ticks": ""
           },
           "bgcolor": "#E5ECF6",
           "radialaxis": {
            "gridcolor": "white",
            "linecolor": "white",
            "ticks": ""
           }
          },
          "scene": {
           "xaxis": {
            "backgroundcolor": "#E5ECF6",
            "gridcolor": "white",
            "gridwidth": 2,
            "linecolor": "white",
            "showbackground": true,
            "ticks": "",
            "zerolinecolor": "white"
           },
           "yaxis": {
            "backgroundcolor": "#E5ECF6",
            "gridcolor": "white",
            "gridwidth": 2,
            "linecolor": "white",
            "showbackground": true,
            "ticks": "",
            "zerolinecolor": "white"
           },
           "zaxis": {
            "backgroundcolor": "#E5ECF6",
            "gridcolor": "white",
            "gridwidth": 2,
            "linecolor": "white",
            "showbackground": true,
            "ticks": "",
            "zerolinecolor": "white"
           }
          },
          "shapedefaults": {
           "line": {
            "color": "#2a3f5f"
           }
          },
          "ternary": {
           "aaxis": {
            "gridcolor": "white",
            "linecolor": "white",
            "ticks": ""
           },
           "baxis": {
            "gridcolor": "white",
            "linecolor": "white",
            "ticks": ""
           },
           "bgcolor": "#E5ECF6",
           "caxis": {
            "gridcolor": "white",
            "linecolor": "white",
            "ticks": ""
           }
          },
          "title": {
           "x": 0.05
          },
          "xaxis": {
           "automargin": true,
           "gridcolor": "white",
           "linecolor": "white",
           "ticks": "",
           "title": {
            "standoff": 15
           },
           "zerolinecolor": "white",
           "zerolinewidth": 2
          },
          "yaxis": {
           "automargin": true,
           "gridcolor": "white",
           "linecolor": "white",
           "ticks": "",
           "title": {
            "standoff": 15
           },
           "zerolinecolor": "white",
           "zerolinewidth": 2
          }
         }
        },
        "xaxis": {
         "anchor": "y",
         "domain": [
          0,
          1
         ]
        },
        "yaxis": {
         "anchor": "x",
         "domain": [
          0,
          1
         ],
         "tickangle": 10
        }
       }
      },
      "text/html": [
       "<div>                            <div id=\"37729400-7d2f-4a51-9f53-388429376fc3\" class=\"plotly-graph-div\" style=\"height:525px; width:100%;\"></div>            <script type=\"text/javascript\">                require([\"plotly\"], function(Plotly) {                    window.PLOTLYENV=window.PLOTLYENV || {};                                    if (document.getElementById(\"37729400-7d2f-4a51-9f53-388429376fc3\")) {                    Plotly.newPlot(                        \"37729400-7d2f-4a51-9f53-388429376fc3\",                        [{\"orientation\":\"h\",\"text\":[\"-11.72\",\"-9.92\",\"-8.56\",\"-8.01\",\"7.73\",\"7.88\",\"8.01\",\"8.98\",\"11.48\",\"11.53\"],\"type\":\"bar\",\"x\":[-11.72317840501102,-9.921386449934444,-8.555873791734788,-8.01135567953017,7.734134148880821,7.879963281471843,8.005655277555208,8.97765209919144,11.481437301962593,11.53076068601829],\"xaxis\":\"x\",\"y\":[\"State abbreviation (HD2018)_Arkansas\",\"CC Enrollment Profile (HD2018)_Majority undergraduate\",\"CC Basic (HD2018)_Baccalaureate/Associate's Colleges: Mixed Baccalaureate/Associate's\",\"State abbreviation (HD2018)_New Hampshire\",\"State abbreviation (HD2018)_Idaho\",\"State abbreviation (HD2018)_Delaware\",\"Parent/child indicator - Finance (FLAGS2019)_Not applicable\",\"State abbreviation (HD2018)_Florida\",\"CC Basic (HD2018)_Special Focus Two-Year: Other Fields\",\"Sector of institution (HD2018)_Private not-for-profit, 2-year\"],\"yaxis\":\"y\"}],                        {\"annotations\":[{\"font\":{\"size\":16},\"showarrow\":false,\"text\":\"Model Coeficients\",\"x\":0.5,\"xanchor\":\"center\",\"xref\":\"paper\",\"y\":1.0,\"yanchor\":\"bottom\",\"yref\":\"paper\"}],\"template\":{\"data\":{\"bar\":[{\"error_x\":{\"color\":\"#2a3f5f\"},\"error_y\":{\"color\":\"#2a3f5f\"},\"marker\":{\"line\":{\"color\":\"#E5ECF6\",\"width\":0.5},\"pattern\":{\"fillmode\":\"overlay\",\"size\":10,\"solidity\":0.2}},\"type\":\"bar\"}],\"barpolar\":[{\"marker\":{\"line\":{\"color\":\"#E5ECF6\",\"width\":0.5},\"pattern\":{\"fillmode\":\"overlay\",\"size\":10,\"solidity\":0.2}},\"type\":\"barpolar\"}],\"carpet\":[{\"aaxis\":{\"endlinecolor\":\"#2a3f5f\",\"gridcolor\":\"white\",\"linecolor\":\"white\",\"minorgridcolor\":\"white\",\"startlinecolor\":\"#2a3f5f\"},\"baxis\":{\"endlinecolor\":\"#2a3f5f\",\"gridcolor\":\"white\",\"linecolor\":\"white\",\"minorgridcolor\":\"white\",\"startlinecolor\":\"#2a3f5f\"},\"type\":\"carpet\"}],\"choropleth\":[{\"colorbar\":{\"outlinewidth\":0,\"ticks\":\"\"},\"type\":\"choropleth\"}],\"contour\":[{\"colorbar\":{\"outlinewidth\":0,\"ticks\":\"\"},\"colorscale\":[[0.0,\"#0d0887\"],[0.1111111111111111,\"#46039f\"],[0.2222222222222222,\"#7201a8\"],[0.3333333333333333,\"#9c179e\"],[0.4444444444444444,\"#bd3786\"],[0.5555555555555556,\"#d8576b\"],[0.6666666666666666,\"#ed7953\"],[0.7777777777777778,\"#fb9f3a\"],[0.8888888888888888,\"#fdca26\"],[1.0,\"#f0f921\"]],\"type\":\"contour\"}],\"contourcarpet\":[{\"colorbar\":{\"outlinewidth\":0,\"ticks\":\"\"},\"type\":\"contourcarpet\"}],\"heatmap\":[{\"colorbar\":{\"outlinewidth\":0,\"ticks\":\"\"},\"colorscale\":[[0.0,\"#0d0887\"],[0.1111111111111111,\"#46039f\"],[0.2222222222222222,\"#7201a8\"],[0.3333333333333333,\"#9c179e\"],[0.4444444444444444,\"#bd3786\"],[0.5555555555555556,\"#d8576b\"],[0.6666666666666666,\"#ed7953\"],[0.7777777777777778,\"#fb9f3a\"],[0.8888888888888888,\"#fdca26\"],[1.0,\"#f0f921\"]],\"type\":\"heatmap\"}],\"heatmapgl\":[{\"colorbar\":{\"outlinewidth\":0,\"ticks\":\"\"},\"colorscale\":[[0.0,\"#0d0887\"],[0.1111111111111111,\"#46039f\"],[0.2222222222222222,\"#7201a8\"],[0.3333333333333333,\"#9c179e\"],[0.4444444444444444,\"#bd3786\"],[0.5555555555555556,\"#d8576b\"],[0.6666666666666666,\"#ed7953\"],[0.7777777777777778,\"#fb9f3a\"],[0.8888888888888888,\"#fdca26\"],[1.0,\"#f0f921\"]],\"type\":\"heatmapgl\"}],\"histogram\":[{\"marker\":{\"pattern\":{\"fillmode\":\"overlay\",\"size\":10,\"solidity\":0.2}},\"type\":\"histogram\"}],\"histogram2d\":[{\"colorbar\":{\"outlinewidth\":0,\"ticks\":\"\"},\"colorscale\":[[0.0,\"#0d0887\"],[0.1111111111111111,\"#46039f\"],[0.2222222222222222,\"#7201a8\"],[0.3333333333333333,\"#9c179e\"],[0.4444444444444444,\"#bd3786\"],[0.5555555555555556,\"#d8576b\"],[0.6666666666666666,\"#ed7953\"],[0.7777777777777778,\"#fb9f3a\"],[0.8888888888888888,\"#fdca26\"],[1.0,\"#f0f921\"]],\"type\":\"histogram2d\"}],\"histogram2dcontour\":[{\"colorbar\":{\"outlinewidth\":0,\"ticks\":\"\"},\"colorscale\":[[0.0,\"#0d0887\"],[0.1111111111111111,\"#46039f\"],[0.2222222222222222,\"#7201a8\"],[0.3333333333333333,\"#9c179e\"],[0.4444444444444444,\"#bd3786\"],[0.5555555555555556,\"#d8576b\"],[0.6666666666666666,\"#ed7953\"],[0.7777777777777778,\"#fb9f3a\"],[0.8888888888888888,\"#fdca26\"],[1.0,\"#f0f921\"]],\"type\":\"histogram2dcontour\"}],\"mesh3d\":[{\"colorbar\":{\"outlinewidth\":0,\"ticks\":\"\"},\"type\":\"mesh3d\"}],\"parcoords\":[{\"line\":{\"colorbar\":{\"outlinewidth\":0,\"ticks\":\"\"}},\"type\":\"parcoords\"}],\"pie\":[{\"automargin\":true,\"type\":\"pie\"}],\"scatter\":[{\"marker\":{\"colorbar\":{\"outlinewidth\":0,\"ticks\":\"\"}},\"type\":\"scatter\"}],\"scatter3d\":[{\"line\":{\"colorbar\":{\"outlinewidth\":0,\"ticks\":\"\"}},\"marker\":{\"colorbar\":{\"outlinewidth\":0,\"ticks\":\"\"}},\"type\":\"scatter3d\"}],\"scattercarpet\":[{\"marker\":{\"colorbar\":{\"outlinewidth\":0,\"ticks\":\"\"}},\"type\":\"scattercarpet\"}],\"scattergeo\":[{\"marker\":{\"colorbar\":{\"outlinewidth\":0,\"ticks\":\"\"}},\"type\":\"scattergeo\"}],\"scattergl\":[{\"marker\":{\"colorbar\":{\"outlinewidth\":0,\"ticks\":\"\"}},\"type\":\"scattergl\"}],\"scattermapbox\":[{\"marker\":{\"colorbar\":{\"outlinewidth\":0,\"ticks\":\"\"}},\"type\":\"scattermapbox\"}],\"scatterpolar\":[{\"marker\":{\"colorbar\":{\"outlinewidth\":0,\"ticks\":\"\"}},\"type\":\"scatterpolar\"}],\"scatterpolargl\":[{\"marker\":{\"colorbar\":{\"outlinewidth\":0,\"ticks\":\"\"}},\"type\":\"scatterpolargl\"}],\"scatterternary\":[{\"marker\":{\"colorbar\":{\"outlinewidth\":0,\"ticks\":\"\"}},\"type\":\"scatterternary\"}],\"surface\":[{\"colorbar\":{\"outlinewidth\":0,\"ticks\":\"\"},\"colorscale\":[[0.0,\"#0d0887\"],[0.1111111111111111,\"#46039f\"],[0.2222222222222222,\"#7201a8\"],[0.3333333333333333,\"#9c179e\"],[0.4444444444444444,\"#bd3786\"],[0.5555555555555556,\"#d8576b\"],[0.6666666666666666,\"#ed7953\"],[0.7777777777777778,\"#fb9f3a\"],[0.8888888888888888,\"#fdca26\"],[1.0,\"#f0f921\"]],\"type\":\"surface\"}],\"table\":[{\"cells\":{\"fill\":{\"color\":\"#EBF0F8\"},\"line\":{\"color\":\"white\"}},\"header\":{\"fill\":{\"color\":\"#C8D4E3\"},\"line\":{\"color\":\"white\"}},\"type\":\"table\"}]},\"layout\":{\"annotationdefaults\":{\"arrowcolor\":\"#2a3f5f\",\"arrowhead\":0,\"arrowwidth\":1},\"autotypenumbers\":\"strict\",\"coloraxis\":{\"colorbar\":{\"outlinewidth\":0,\"ticks\":\"\"}},\"colorscale\":{\"diverging\":[[0,\"#8e0152\"],[0.1,\"#c51b7d\"],[0.2,\"#de77ae\"],[0.3,\"#f1b6da\"],[0.4,\"#fde0ef\"],[0.5,\"#f7f7f7\"],[0.6,\"#e6f5d0\"],[0.7,\"#b8e186\"],[0.8,\"#7fbc41\"],[0.9,\"#4d9221\"],[1,\"#276419\"]],\"sequential\":[[0.0,\"#0d0887\"],[0.1111111111111111,\"#46039f\"],[0.2222222222222222,\"#7201a8\"],[0.3333333333333333,\"#9c179e\"],[0.4444444444444444,\"#bd3786\"],[0.5555555555555556,\"#d8576b\"],[0.6666666666666666,\"#ed7953\"],[0.7777777777777778,\"#fb9f3a\"],[0.8888888888888888,\"#fdca26\"],[1.0,\"#f0f921\"]],\"sequentialminus\":[[0.0,\"#0d0887\"],[0.1111111111111111,\"#46039f\"],[0.2222222222222222,\"#7201a8\"],[0.3333333333333333,\"#9c179e\"],[0.4444444444444444,\"#bd3786\"],[0.5555555555555556,\"#d8576b\"],[0.6666666666666666,\"#ed7953\"],[0.7777777777777778,\"#fb9f3a\"],[0.8888888888888888,\"#fdca26\"],[1.0,\"#f0f921\"]]},\"colorway\":[\"#636efa\",\"#EF553B\",\"#00cc96\",\"#ab63fa\",\"#FFA15A\",\"#19d3f3\",\"#FF6692\",\"#B6E880\",\"#FF97FF\",\"#FECB52\"],\"font\":{\"color\":\"#2a3f5f\"},\"geo\":{\"bgcolor\":\"white\",\"lakecolor\":\"white\",\"landcolor\":\"#E5ECF6\",\"showlakes\":true,\"showland\":true,\"subunitcolor\":\"white\"},\"hoverlabel\":{\"align\":\"left\"},\"hovermode\":\"closest\",\"mapbox\":{\"style\":\"light\"},\"paper_bgcolor\":\"white\",\"plot_bgcolor\":\"#E5ECF6\",\"polar\":{\"angularaxis\":{\"gridcolor\":\"white\",\"linecolor\":\"white\",\"ticks\":\"\"},\"bgcolor\":\"#E5ECF6\",\"radialaxis\":{\"gridcolor\":\"white\",\"linecolor\":\"white\",\"ticks\":\"\"}},\"scene\":{\"xaxis\":{\"backgroundcolor\":\"#E5ECF6\",\"gridcolor\":\"white\",\"gridwidth\":2,\"linecolor\":\"white\",\"showbackground\":true,\"ticks\":\"\",\"zerolinecolor\":\"white\"},\"yaxis\":{\"backgroundcolor\":\"#E5ECF6\",\"gridcolor\":\"white\",\"gridwidth\":2,\"linecolor\":\"white\",\"showbackground\":true,\"ticks\":\"\",\"zerolinecolor\":\"white\"},\"zaxis\":{\"backgroundcolor\":\"#E5ECF6\",\"gridcolor\":\"white\",\"gridwidth\":2,\"linecolor\":\"white\",\"showbackground\":true,\"ticks\":\"\",\"zerolinecolor\":\"white\"}},\"shapedefaults\":{\"line\":{\"color\":\"#2a3f5f\"}},\"ternary\":{\"aaxis\":{\"gridcolor\":\"white\",\"linecolor\":\"white\",\"ticks\":\"\"},\"baxis\":{\"gridcolor\":\"white\",\"linecolor\":\"white\",\"ticks\":\"\"},\"bgcolor\":\"#E5ECF6\",\"caxis\":{\"gridcolor\":\"white\",\"linecolor\":\"white\",\"ticks\":\"\"}},\"title\":{\"x\":0.05},\"xaxis\":{\"automargin\":true,\"gridcolor\":\"white\",\"linecolor\":\"white\",\"ticks\":\"\",\"title\":{\"standoff\":15},\"zerolinecolor\":\"white\",\"zerolinewidth\":2},\"yaxis\":{\"automargin\":true,\"gridcolor\":\"white\",\"linecolor\":\"white\",\"ticks\":\"\",\"title\":{\"standoff\":15},\"zerolinecolor\":\"white\",\"zerolinewidth\":2}}},\"xaxis\":{\"anchor\":\"y\",\"domain\":[0.0,1.0]},\"yaxis\":{\"anchor\":\"x\",\"domain\":[0.0,1.0],\"tickangle\":10}},                        {\"responsive\": true}                    ).then(function(){\n",
       "                            \n",
       "var gd = document.getElementById('37729400-7d2f-4a51-9f53-388429376fc3');\n",
       "var x = new MutationObserver(function (mutations, observer) {{\n",
       "        var display = window.getComputedStyle(gd).display;\n",
       "        if (!display || display === 'none') {{\n",
       "            console.log([gd, 'removed!']);\n",
       "            Plotly.purge(gd);\n",
       "            observer.disconnect();\n",
       "        }}\n",
       "}});\n",
       "\n",
       "// Listen for the removal of the full notebook cells\n",
       "var notebookContainer = gd.closest('#notebook-container');\n",
       "if (notebookContainer) {{\n",
       "    x.observe(notebookContainer, {childList: true});\n",
       "}}\n",
       "\n",
       "// Listen for the clearing of the current output cell\n",
       "var outputEl = gd.closest('.output');\n",
       "if (outputEl) {{\n",
       "    x.observe(outputEl, {childList: true});\n",
       "}}\n",
       "\n",
       "                        })                };                });            </script>        </div>"
      ]
     },
     "metadata": {},
     "output_type": "display_data"
    }
   ],
   "source": [
    "fig = make_subplots(rows=1, cols=1, subplot_titles=[\"Model Coeficients\"])\n",
    "\n",
    "fig.add_trace(\n",
    "\n",
    "    go.Bar(x=[i[1] for i in best], y=[i[0] for i in best], \n",
    "           orientation='h', text=[round(i[1], 2) for i in best]),\n",
    "    1, 1)\n",
    "\n",
    "fig.update_yaxes(\n",
    "    tickangle = 10\n",
    ")\n",
    "fig.show()"
   ]
  },
  {
   "cell_type": "code",
   "execution_count": 100,
   "id": "f2503ecb",
   "metadata": {
    "collapsed": true
   },
   "outputs": [
    {
     "data": {
      "text/plain": [
       "156"
      ]
     },
     "execution_count": 100,
     "metadata": {},
     "output_type": "execute_result"
    }
   ],
   "source": [
    "len(y_black[y_black == 0])"
   ]
  },
  {
   "cell_type": "code",
   "execution_count": 95,
   "id": "25d8c32d",
   "metadata": {},
   "outputs": [],
   "source": [
    "logger.train_update(elasticNet_model, X_fe, y_black)"
   ]
  },
  {
   "cell_type": "code",
   "execution_count": 96,
   "id": "f1b32c2d",
   "metadata": {},
   "outputs": [
    {
     "data": {
      "application/vnd.plotly.v1+json": {
       "config": {
        "plotlyServerURL": "https://plot.ly"
       },
       "data": [
        {
         "mode": "markers",
         "name": "Pred vs. Actual",
         "type": "scatter",
         "x": [
          26.600385362044847,
          34.659734207154614,
          35.62267595256533,
          40.128705487995056,
          32.974008389418536,
          39.81716964892712,
          34.13767216050135,
          48.0349646848187,
          55.233245627034805,
          29.708105855136928,
          60.59600762149644,
          42.47789648553987,
          30.587911204629155,
          42.80954436433009,
          27.85752588379598,
          16.083189274376814,
          19.578417234139195,
          30.515012517210423,
          65.74464987564869,
          38.64142934748059,
          30.606024580664002,
          48.03238925164744,
          90.35457667445112,
          20.440845741567085,
          47.22795680052526,
          55.50052509848589,
          10.233346198768047,
          39.57061656620269,
          30.96086516174439,
          46.63121765295734,
          56.674709180692645,
          25.23717294790698,
          68.27316721152474,
          26.945545345941333,
          89.76396887535299,
          31.585060913179824,
          47.27989835598379,
          40.324645450229916,
          62.10116221366285,
          40.94346629776305,
          50.343162896079114,
          20.04979813728734,
          17.028766614273984,
          30.079915899801897,
          47.875001572762244,
          50.321045431722624,
          42.75646722332043,
          53.296429389675126,
          26.617785247424315,
          6.475248463642167,
          38.95167494577263,
          18.01642427492778,
          59.83639933753011,
          10.576550838698054,
          30.441111200924215,
          10.532505480995603,
          32.96547249226574,
          43.09376842737815,
          40.304890711310605,
          63.80900004713911,
          22.549003811161818,
          41.87090990344477,
          35.93878628332502,
          13.534175288087173,
          20.36563534626252,
          28.415091016873333,
          28.569400316359463,
          48.06707786474085,
          24.482370066900213,
          40.031087127578985,
          17.99106944264036,
          57.74895703698052,
          57.24360752503655,
          23.58415834781235,
          40.15971388105504,
          40.03487394326539,
          87.02135802628709,
          31.880775331258018,
          41.9372059015251,
          27.52001263383387,
          26.87740594757456,
          23.632086316361576,
          35.43305261806629,
          43.99554606132565,
          24.0996793099686,
          55.899993310806295,
          14.536507316047,
          -12.496456536542254,
          40.78065729790803,
          49.49102178246564,
          48.27422825178722,
          65.66217468002881,
          27.83544552400614,
          32.141266504994505,
          57.98628873445293,
          79.57122689466844,
          19.561245657358384,
          38.29665622234301,
          33.63968795297701,
          65.45292727628281,
          27.494728986063684,
          53.4601579121639,
          57.923505404134275,
          37.18349103870198,
          78.15824215488857,
          15.844603171348894,
          39.428373819085586,
          26.343761490249126,
          34.20308368312664,
          19.05880093292,
          54.88141385778773,
          41.30324689595769,
          40.90678078639779,
          34.064488393606204,
          34.462124895650554,
          14.805068933224874,
          51.10234433580851,
          35.67180055119497,
          41.88716526793806,
          31.63057890237584,
          75.77937060828884,
          36.83872270184289,
          39.976079875101384,
          35.086908671238675,
          86.4225494272313,
          43.5792939774117,
          45.46429733261445,
          15.146442712379848,
          35.53976794206119,
          54.21827930385797,
          21.89304951786395,
          54.480821805872665,
          41.56065873168473,
          28.609560467235468,
          24.50722452552943,
          33.59383710842333,
          16.186104989316007,
          58.76511468508745,
          28.3897939959201,
          22.268063297066774,
          -2.9405844906080816,
          22.936840948223228,
          16.551829840620236,
          63.91170199519783,
          17.48935074776409,
          18.05753461027691,
          31.047932050287205,
          29.573193613552256,
          63.31623896529255,
          52.80067998936619,
          28.678636182312818,
          46.011665547230784,
          28.086683784066622,
          21.058077640564733,
          46.23169196889734,
          50.39536551753382,
          58.014890939843895,
          52.54927970698018,
          14.81797530912095,
          38.58488071670796,
          65.96971942772501,
          31.30984955449138,
          34.640140830870564,
          36.322626494154164,
          122.27470725934725,
          27.486993507673507,
          46.59152203393262,
          10.483804447293117,
          22.468345688608036,
          30.238219866627976,
          53.919744522947575,
          27.09284750931811,
          45.08284922150053,
          52.88610726898388,
          43.08910979247247,
          43.11566311868694,
          87.40035996559523,
          50.42687605174841,
          23.98860729691073,
          65.73159402799196,
          19.136953042695417,
          25.78847739304142,
          68.80672401025058,
          23.444766050671962,
          43.93282855478432,
          11.655765360876089,
          57.89142780786639,
          23.795785304969094,
          52.50091195593423,
          42.52563966756266,
          50.531504500824354,
          58.444227177195515,
          31.332644399459422,
          35.037713764102506,
          22.555947967550438,
          35.24464914842892,
          60.104425193867804,
          59.45997338573655,
          46.395745995402095,
          69.06389231609356,
          51.75417127937904,
          42.178734158441266,
          59.35459739143197
         ],
         "xaxis": "x",
         "y": [
          33,
          50,
          46,
          36,
          13,
          32,
          29,
          38,
          58,
          0,
          67,
          29,
          21,
          45,
          19,
          50,
          40,
          39,
          43,
          50,
          51,
          40,
          86,
          17,
          8,
          63,
          0,
          100,
          36,
          54,
          63,
          9,
          57,
          11,
          94,
          44,
          31,
          43,
          81,
          38,
          44,
          12,
          100,
          17,
          53,
          50,
          0,
          100,
          25,
          7,
          40,
          100,
          100,
          3,
          0,
          10,
          40,
          0,
          29,
          34,
          31,
          40,
          33,
          29,
          19,
          50,
          14,
          73,
          20,
          68,
          13,
          53,
          53,
          16,
          39,
          29,
          86,
          29,
          25,
          41,
          50,
          19,
          11,
          59,
          0,
          50,
          0,
          0,
          46,
          60,
          57,
          71,
          10,
          24,
          57,
          62,
          38,
          78,
          33,
          59,
          23,
          49,
          68,
          60,
          93,
          17,
          39,
          67,
          50,
          36,
          33,
          30,
          40,
          39,
          42,
          20,
          0,
          23,
          50,
          26,
          64,
          31,
          64,
          35,
          92,
          52,
          46,
          20,
          67,
          63,
          40,
          30,
          49,
          100,
          27,
          48,
          8,
          73,
          24,
          0,
          5,
          30,
          15,
          66,
          13,
          43,
          27,
          46,
          79,
          100,
          8,
          33,
          0,
          27,
          47,
          0,
          69,
          77,
          76,
          25,
          67,
          21,
          43,
          23,
          84,
          33,
          10,
          62,
          23,
          30,
          55,
          10,
          0,
          56,
          54,
          51,
          89,
          50,
          0,
          60,
          13,
          38,
          65,
          14,
          0,
          21,
          63,
          34,
          48,
          23,
          67,
          74,
          23,
          80,
          0,
          21,
          61,
          100,
          8,
          76,
          100,
          28,
          75
         ],
         "yaxis": "y"
        },
        {
         "mode": "lines",
         "name": "100 % acc",
         "type": "scatter",
         "x": [
          0,
          1,
          2,
          3,
          4,
          5,
          6,
          7,
          8,
          9,
          10,
          11,
          12,
          13,
          14,
          15,
          16,
          17,
          18,
          19,
          20,
          21,
          22,
          23,
          24,
          25,
          26,
          27,
          28,
          29,
          30,
          31,
          32,
          33,
          34,
          35,
          36,
          37,
          38,
          39,
          40,
          41,
          42,
          43,
          44,
          45,
          46,
          47,
          48,
          49,
          50,
          51,
          52,
          53,
          54,
          55,
          56,
          57,
          58,
          59,
          60,
          61,
          62,
          63,
          64,
          65,
          66,
          67,
          68,
          69,
          70,
          71,
          72,
          73,
          74,
          75,
          76,
          77,
          78,
          79,
          80,
          81,
          82,
          83,
          84,
          85,
          86,
          87,
          88,
          89,
          90,
          91,
          92,
          93,
          94,
          95,
          96,
          97,
          98,
          99
         ],
         "y": [
          0,
          1,
          2,
          3,
          4,
          5,
          6,
          7,
          8,
          9,
          10,
          11,
          12,
          13,
          14,
          15,
          16,
          17,
          18,
          19,
          20,
          21,
          22,
          23,
          24,
          25,
          26,
          27,
          28,
          29,
          30,
          31,
          32,
          33,
          34,
          35,
          36,
          37,
          38,
          39,
          40,
          41,
          42,
          43,
          44,
          45,
          46,
          47,
          48,
          49,
          50,
          51,
          52,
          53,
          54,
          55,
          56,
          57,
          58,
          59,
          60,
          61,
          62,
          63,
          64,
          65,
          66,
          67,
          68,
          69,
          70,
          71,
          72,
          73,
          74,
          75,
          76,
          77,
          78,
          79,
          80,
          81,
          82,
          83,
          84,
          85,
          86,
          87,
          88,
          89,
          90,
          91,
          92,
          93,
          94,
          95,
          96,
          97,
          98,
          99
         ]
        }
       ],
       "layout": {
        "annotations": [
         {
          "font": {
           "size": 16
          },
          "showarrow": false,
          "text": "Predicted Vs Actual",
          "x": 0.5,
          "xanchor": "center",
          "xref": "paper",
          "y": 1,
          "yanchor": "bottom",
          "yref": "paper"
         }
        ],
        "font": {
         "family": "Courier New, monospace",
         "size": 16
        },
        "legend": {
         "title": {
          "text": "Legend"
         }
        },
        "template": {
         "data": {
          "bar": [
           {
            "error_x": {
             "color": "#2a3f5f"
            },
            "error_y": {
             "color": "#2a3f5f"
            },
            "marker": {
             "line": {
              "color": "#E5ECF6",
              "width": 0.5
             },
             "pattern": {
              "fillmode": "overlay",
              "size": 10,
              "solidity": 0.2
             }
            },
            "type": "bar"
           }
          ],
          "barpolar": [
           {
            "marker": {
             "line": {
              "color": "#E5ECF6",
              "width": 0.5
             },
             "pattern": {
              "fillmode": "overlay",
              "size": 10,
              "solidity": 0.2
             }
            },
            "type": "barpolar"
           }
          ],
          "carpet": [
           {
            "aaxis": {
             "endlinecolor": "#2a3f5f",
             "gridcolor": "white",
             "linecolor": "white",
             "minorgridcolor": "white",
             "startlinecolor": "#2a3f5f"
            },
            "baxis": {
             "endlinecolor": "#2a3f5f",
             "gridcolor": "white",
             "linecolor": "white",
             "minorgridcolor": "white",
             "startlinecolor": "#2a3f5f"
            },
            "type": "carpet"
           }
          ],
          "choropleth": [
           {
            "colorbar": {
             "outlinewidth": 0,
             "ticks": ""
            },
            "type": "choropleth"
           }
          ],
          "contour": [
           {
            "colorbar": {
             "outlinewidth": 0,
             "ticks": ""
            },
            "colorscale": [
             [
              0,
              "#0d0887"
             ],
             [
              0.1111111111111111,
              "#46039f"
             ],
             [
              0.2222222222222222,
              "#7201a8"
             ],
             [
              0.3333333333333333,
              "#9c179e"
             ],
             [
              0.4444444444444444,
              "#bd3786"
             ],
             [
              0.5555555555555556,
              "#d8576b"
             ],
             [
              0.6666666666666666,
              "#ed7953"
             ],
             [
              0.7777777777777778,
              "#fb9f3a"
             ],
             [
              0.8888888888888888,
              "#fdca26"
             ],
             [
              1,
              "#f0f921"
             ]
            ],
            "type": "contour"
           }
          ],
          "contourcarpet": [
           {
            "colorbar": {
             "outlinewidth": 0,
             "ticks": ""
            },
            "type": "contourcarpet"
           }
          ],
          "heatmap": [
           {
            "colorbar": {
             "outlinewidth": 0,
             "ticks": ""
            },
            "colorscale": [
             [
              0,
              "#0d0887"
             ],
             [
              0.1111111111111111,
              "#46039f"
             ],
             [
              0.2222222222222222,
              "#7201a8"
             ],
             [
              0.3333333333333333,
              "#9c179e"
             ],
             [
              0.4444444444444444,
              "#bd3786"
             ],
             [
              0.5555555555555556,
              "#d8576b"
             ],
             [
              0.6666666666666666,
              "#ed7953"
             ],
             [
              0.7777777777777778,
              "#fb9f3a"
             ],
             [
              0.8888888888888888,
              "#fdca26"
             ],
             [
              1,
              "#f0f921"
             ]
            ],
            "type": "heatmap"
           }
          ],
          "heatmapgl": [
           {
            "colorbar": {
             "outlinewidth": 0,
             "ticks": ""
            },
            "colorscale": [
             [
              0,
              "#0d0887"
             ],
             [
              0.1111111111111111,
              "#46039f"
             ],
             [
              0.2222222222222222,
              "#7201a8"
             ],
             [
              0.3333333333333333,
              "#9c179e"
             ],
             [
              0.4444444444444444,
              "#bd3786"
             ],
             [
              0.5555555555555556,
              "#d8576b"
             ],
             [
              0.6666666666666666,
              "#ed7953"
             ],
             [
              0.7777777777777778,
              "#fb9f3a"
             ],
             [
              0.8888888888888888,
              "#fdca26"
             ],
             [
              1,
              "#f0f921"
             ]
            ],
            "type": "heatmapgl"
           }
          ],
          "histogram": [
           {
            "marker": {
             "pattern": {
              "fillmode": "overlay",
              "size": 10,
              "solidity": 0.2
             }
            },
            "type": "histogram"
           }
          ],
          "histogram2d": [
           {
            "colorbar": {
             "outlinewidth": 0,
             "ticks": ""
            },
            "colorscale": [
             [
              0,
              "#0d0887"
             ],
             [
              0.1111111111111111,
              "#46039f"
             ],
             [
              0.2222222222222222,
              "#7201a8"
             ],
             [
              0.3333333333333333,
              "#9c179e"
             ],
             [
              0.4444444444444444,
              "#bd3786"
             ],
             [
              0.5555555555555556,
              "#d8576b"
             ],
             [
              0.6666666666666666,
              "#ed7953"
             ],
             [
              0.7777777777777778,
              "#fb9f3a"
             ],
             [
              0.8888888888888888,
              "#fdca26"
             ],
             [
              1,
              "#f0f921"
             ]
            ],
            "type": "histogram2d"
           }
          ],
          "histogram2dcontour": [
           {
            "colorbar": {
             "outlinewidth": 0,
             "ticks": ""
            },
            "colorscale": [
             [
              0,
              "#0d0887"
             ],
             [
              0.1111111111111111,
              "#46039f"
             ],
             [
              0.2222222222222222,
              "#7201a8"
             ],
             [
              0.3333333333333333,
              "#9c179e"
             ],
             [
              0.4444444444444444,
              "#bd3786"
             ],
             [
              0.5555555555555556,
              "#d8576b"
             ],
             [
              0.6666666666666666,
              "#ed7953"
             ],
             [
              0.7777777777777778,
              "#fb9f3a"
             ],
             [
              0.8888888888888888,
              "#fdca26"
             ],
             [
              1,
              "#f0f921"
             ]
            ],
            "type": "histogram2dcontour"
           }
          ],
          "mesh3d": [
           {
            "colorbar": {
             "outlinewidth": 0,
             "ticks": ""
            },
            "type": "mesh3d"
           }
          ],
          "parcoords": [
           {
            "line": {
             "colorbar": {
              "outlinewidth": 0,
              "ticks": ""
             }
            },
            "type": "parcoords"
           }
          ],
          "pie": [
           {
            "automargin": true,
            "type": "pie"
           }
          ],
          "scatter": [
           {
            "marker": {
             "colorbar": {
              "outlinewidth": 0,
              "ticks": ""
             }
            },
            "type": "scatter"
           }
          ],
          "scatter3d": [
           {
            "line": {
             "colorbar": {
              "outlinewidth": 0,
              "ticks": ""
             }
            },
            "marker": {
             "colorbar": {
              "outlinewidth": 0,
              "ticks": ""
             }
            },
            "type": "scatter3d"
           }
          ],
          "scattercarpet": [
           {
            "marker": {
             "colorbar": {
              "outlinewidth": 0,
              "ticks": ""
             }
            },
            "type": "scattercarpet"
           }
          ],
          "scattergeo": [
           {
            "marker": {
             "colorbar": {
              "outlinewidth": 0,
              "ticks": ""
             }
            },
            "type": "scattergeo"
           }
          ],
          "scattergl": [
           {
            "marker": {
             "colorbar": {
              "outlinewidth": 0,
              "ticks": ""
             }
            },
            "type": "scattergl"
           }
          ],
          "scattermapbox": [
           {
            "marker": {
             "colorbar": {
              "outlinewidth": 0,
              "ticks": ""
             }
            },
            "type": "scattermapbox"
           }
          ],
          "scatterpolar": [
           {
            "marker": {
             "colorbar": {
              "outlinewidth": 0,
              "ticks": ""
             }
            },
            "type": "scatterpolar"
           }
          ],
          "scatterpolargl": [
           {
            "marker": {
             "colorbar": {
              "outlinewidth": 0,
              "ticks": ""
             }
            },
            "type": "scatterpolargl"
           }
          ],
          "scatterternary": [
           {
            "marker": {
             "colorbar": {
              "outlinewidth": 0,
              "ticks": ""
             }
            },
            "type": "scatterternary"
           }
          ],
          "surface": [
           {
            "colorbar": {
             "outlinewidth": 0,
             "ticks": ""
            },
            "colorscale": [
             [
              0,
              "#0d0887"
             ],
             [
              0.1111111111111111,
              "#46039f"
             ],
             [
              0.2222222222222222,
              "#7201a8"
             ],
             [
              0.3333333333333333,
              "#9c179e"
             ],
             [
              0.4444444444444444,
              "#bd3786"
             ],
             [
              0.5555555555555556,
              "#d8576b"
             ],
             [
              0.6666666666666666,
              "#ed7953"
             ],
             [
              0.7777777777777778,
              "#fb9f3a"
             ],
             [
              0.8888888888888888,
              "#fdca26"
             ],
             [
              1,
              "#f0f921"
             ]
            ],
            "type": "surface"
           }
          ],
          "table": [
           {
            "cells": {
             "fill": {
              "color": "#EBF0F8"
             },
             "line": {
              "color": "white"
             }
            },
            "header": {
             "fill": {
              "color": "#C8D4E3"
             },
             "line": {
              "color": "white"
             }
            },
            "type": "table"
           }
          ]
         },
         "layout": {
          "annotationdefaults": {
           "arrowcolor": "#2a3f5f",
           "arrowhead": 0,
           "arrowwidth": 1
          },
          "autotypenumbers": "strict",
          "coloraxis": {
           "colorbar": {
            "outlinewidth": 0,
            "ticks": ""
           }
          },
          "colorscale": {
           "diverging": [
            [
             0,
             "#8e0152"
            ],
            [
             0.1,
             "#c51b7d"
            ],
            [
             0.2,
             "#de77ae"
            ],
            [
             0.3,
             "#f1b6da"
            ],
            [
             0.4,
             "#fde0ef"
            ],
            [
             0.5,
             "#f7f7f7"
            ],
            [
             0.6,
             "#e6f5d0"
            ],
            [
             0.7,
             "#b8e186"
            ],
            [
             0.8,
             "#7fbc41"
            ],
            [
             0.9,
             "#4d9221"
            ],
            [
             1,
             "#276419"
            ]
           ],
           "sequential": [
            [
             0,
             "#0d0887"
            ],
            [
             0.1111111111111111,
             "#46039f"
            ],
            [
             0.2222222222222222,
             "#7201a8"
            ],
            [
             0.3333333333333333,
             "#9c179e"
            ],
            [
             0.4444444444444444,
             "#bd3786"
            ],
            [
             0.5555555555555556,
             "#d8576b"
            ],
            [
             0.6666666666666666,
             "#ed7953"
            ],
            [
             0.7777777777777778,
             "#fb9f3a"
            ],
            [
             0.8888888888888888,
             "#fdca26"
            ],
            [
             1,
             "#f0f921"
            ]
           ],
           "sequentialminus": [
            [
             0,
             "#0d0887"
            ],
            [
             0.1111111111111111,
             "#46039f"
            ],
            [
             0.2222222222222222,
             "#7201a8"
            ],
            [
             0.3333333333333333,
             "#9c179e"
            ],
            [
             0.4444444444444444,
             "#bd3786"
            ],
            [
             0.5555555555555556,
             "#d8576b"
            ],
            [
             0.6666666666666666,
             "#ed7953"
            ],
            [
             0.7777777777777778,
             "#fb9f3a"
            ],
            [
             0.8888888888888888,
             "#fdca26"
            ],
            [
             1,
             "#f0f921"
            ]
           ]
          },
          "colorway": [
           "#636efa",
           "#EF553B",
           "#00cc96",
           "#ab63fa",
           "#FFA15A",
           "#19d3f3",
           "#FF6692",
           "#B6E880",
           "#FF97FF",
           "#FECB52"
          ],
          "font": {
           "color": "#2a3f5f"
          },
          "geo": {
           "bgcolor": "white",
           "lakecolor": "white",
           "landcolor": "#E5ECF6",
           "showlakes": true,
           "showland": true,
           "subunitcolor": "white"
          },
          "hoverlabel": {
           "align": "left"
          },
          "hovermode": "closest",
          "mapbox": {
           "style": "light"
          },
          "paper_bgcolor": "white",
          "plot_bgcolor": "#E5ECF6",
          "polar": {
           "angularaxis": {
            "gridcolor": "white",
            "linecolor": "white",
            "ticks": ""
           },
           "bgcolor": "#E5ECF6",
           "radialaxis": {
            "gridcolor": "white",
            "linecolor": "white",
            "ticks": ""
           }
          },
          "scene": {
           "xaxis": {
            "backgroundcolor": "#E5ECF6",
            "gridcolor": "white",
            "gridwidth": 2,
            "linecolor": "white",
            "showbackground": true,
            "ticks": "",
            "zerolinecolor": "white"
           },
           "yaxis": {
            "backgroundcolor": "#E5ECF6",
            "gridcolor": "white",
            "gridwidth": 2,
            "linecolor": "white",
            "showbackground": true,
            "ticks": "",
            "zerolinecolor": "white"
           },
           "zaxis": {
            "backgroundcolor": "#E5ECF6",
            "gridcolor": "white",
            "gridwidth": 2,
            "linecolor": "white",
            "showbackground": true,
            "ticks": "",
            "zerolinecolor": "white"
           }
          },
          "shapedefaults": {
           "line": {
            "color": "#2a3f5f"
           }
          },
          "ternary": {
           "aaxis": {
            "gridcolor": "white",
            "linecolor": "white",
            "ticks": ""
           },
           "baxis": {
            "gridcolor": "white",
            "linecolor": "white",
            "ticks": ""
           },
           "bgcolor": "#E5ECF6",
           "caxis": {
            "gridcolor": "white",
            "linecolor": "white",
            "ticks": ""
           }
          },
          "title": {
           "x": 0.05
          },
          "xaxis": {
           "automargin": true,
           "gridcolor": "white",
           "linecolor": "white",
           "ticks": "",
           "title": {
            "standoff": 15
           },
           "zerolinecolor": "white",
           "zerolinewidth": 2
          },
          "yaxis": {
           "automargin": true,
           "gridcolor": "white",
           "linecolor": "white",
           "ticks": "",
           "title": {
            "standoff": 15
           },
           "zerolinecolor": "white",
           "zerolinewidth": 2
          }
         }
        },
        "title": {
         "text": "African American Graduation Rates Model Performance"
        },
        "xaxis": {
         "anchor": "y",
         "domain": [
          0,
          1
         ],
         "title": {
          "text": "Predicted Graduation Rate"
         }
        },
        "yaxis": {
         "anchor": "x",
         "domain": [
          0,
          1
         ],
         "title": {
          "text": "Actual Graduation Rate"
         }
        }
       }
      },
      "text/html": [
       "<div>                            <div id=\"43e1dc13-1101-483b-962c-dff2a5674ecd\" class=\"plotly-graph-div\" style=\"height:525px; width:100%;\"></div>            <script type=\"text/javascript\">                require([\"plotly\"], function(Plotly) {                    window.PLOTLYENV=window.PLOTLYENV || {};                                    if (document.getElementById(\"43e1dc13-1101-483b-962c-dff2a5674ecd\")) {                    Plotly.newPlot(                        \"43e1dc13-1101-483b-962c-dff2a5674ecd\",                        [{\"mode\":\"markers\",\"name\":\"Pred vs. Actual\",\"type\":\"scatter\",\"x\":[26.600385362044847,34.659734207154614,35.62267595256533,40.128705487995056,32.974008389418536,39.81716964892712,34.13767216050135,48.0349646848187,55.233245627034805,29.708105855136928,60.59600762149644,42.47789648553987,30.587911204629155,42.80954436433009,27.85752588379598,16.083189274376814,19.578417234139195,30.515012517210423,65.74464987564869,38.64142934748059,30.606024580664002,48.03238925164744,90.35457667445112,20.440845741567085,47.22795680052526,55.50052509848589,10.233346198768047,39.57061656620269,30.96086516174439,46.63121765295734,56.674709180692645,25.23717294790698,68.27316721152474,26.945545345941333,89.76396887535299,31.585060913179824,47.27989835598379,40.324645450229916,62.10116221366285,40.94346629776305,50.343162896079114,20.04979813728734,17.028766614273984,30.079915899801897,47.875001572762244,50.321045431722624,42.75646722332043,53.296429389675126,26.617785247424315,6.475248463642167,38.95167494577263,18.01642427492778,59.83639933753011,10.576550838698054,30.441111200924215,10.532505480995603,32.96547249226574,43.09376842737815,40.304890711310605,63.80900004713911,22.549003811161818,41.87090990344477,35.93878628332502,13.534175288087173,20.36563534626252,28.415091016873333,28.569400316359463,48.06707786474085,24.482370066900213,40.031087127578985,17.99106944264036,57.74895703698052,57.24360752503655,23.58415834781235,40.15971388105504,40.03487394326539,87.02135802628709,31.880775331258018,41.9372059015251,27.52001263383387,26.87740594757456,23.632086316361576,35.43305261806629,43.99554606132565,24.0996793099686,55.899993310806295,14.536507316047,-12.496456536542254,40.78065729790803,49.49102178246564,48.27422825178722,65.66217468002881,27.83544552400614,32.141266504994505,57.98628873445293,79.57122689466844,19.561245657358384,38.29665622234301,33.63968795297701,65.45292727628281,27.494728986063684,53.4601579121639,57.923505404134275,37.18349103870198,78.15824215488857,15.844603171348894,39.428373819085586,26.343761490249126,34.20308368312664,19.05880093292,54.88141385778773,41.30324689595769,40.90678078639779,34.064488393606204,34.462124895650554,14.805068933224874,51.10234433580851,35.67180055119497,41.88716526793806,31.63057890237584,75.77937060828884,36.83872270184289,39.976079875101384,35.086908671238675,86.4225494272313,43.5792939774117,45.46429733261445,15.146442712379848,35.53976794206119,54.21827930385797,21.89304951786395,54.480821805872665,41.56065873168473,28.609560467235468,24.50722452552943,33.59383710842333,16.186104989316007,58.76511468508745,28.3897939959201,22.268063297066774,-2.9405844906080816,22.936840948223228,16.551829840620236,63.91170199519783,17.48935074776409,18.05753461027691,31.047932050287205,29.573193613552256,63.31623896529255,52.80067998936619,28.678636182312818,46.011665547230784,28.086683784066622,21.058077640564733,46.23169196889734,50.39536551753382,58.014890939843895,52.54927970698018,14.81797530912095,38.58488071670796,65.96971942772501,31.30984955449138,34.640140830870564,36.322626494154164,122.27470725934725,27.486993507673507,46.59152203393262,10.483804447293117,22.468345688608036,30.238219866627976,53.919744522947575,27.09284750931811,45.08284922150053,52.88610726898388,43.08910979247247,43.11566311868694,87.40035996559523,50.42687605174841,23.98860729691073,65.73159402799196,19.136953042695417,25.78847739304142,68.80672401025058,23.444766050671962,43.93282855478432,11.655765360876089,57.89142780786639,23.795785304969094,52.50091195593423,42.52563966756266,50.531504500824354,58.444227177195515,31.332644399459422,35.037713764102506,22.555947967550438,35.24464914842892,60.104425193867804,59.45997338573655,46.395745995402095,69.06389231609356,51.75417127937904,42.178734158441266,59.35459739143197],\"xaxis\":\"x\",\"y\":[33.0,50.0,46.0,36.0,13.0,32.0,29.0,38.0,58.0,0.0,67.0,29.0,21.0,45.0,19.0,50.0,40.0,39.0,43.0,50.0,51.0,40.0,86.0,17.0,8.0,63.0,0.0,100.0,36.0,54.0,63.0,9.0,57.0,11.0,94.0,44.0,31.0,43.0,81.0,38.0,44.0,12.0,100.0,17.0,53.0,50.0,0.0,100.0,25.0,7.0,40.0,100.0,100.0,3.0,0.0,10.0,40.0,0.0,29.0,34.0,31.0,40.0,33.0,29.0,19.0,50.0,14.0,73.0,20.0,68.0,13.0,53.0,53.0,16.0,39.0,29.0,86.0,29.0,25.0,41.0,50.0,19.0,11.0,59.0,0.0,50.0,0.0,0.0,46.0,60.0,57.0,71.0,10.0,24.0,57.0,62.0,38.0,78.0,33.0,59.0,23.0,49.0,68.0,60.0,93.0,17.0,39.0,67.0,50.0,36.0,33.0,30.0,40.0,39.0,42.0,20.0,0.0,23.0,50.0,26.0,64.0,31.0,64.0,35.0,92.0,52.0,46.0,20.0,67.0,63.0,40.0,30.0,49.0,100.0,27.0,48.0,8.0,73.0,24.0,0.0,5.0,30.0,15.0,66.0,13.0,43.0,27.0,46.0,79.0,100.0,8.0,33.0,0.0,27.0,47.0,0.0,69.0,77.0,76.0,25.0,67.0,21.0,43.0,23.0,84.0,33.0,10.0,62.0,23.0,30.0,55.0,10.0,0.0,56.0,54.0,51.0,89.0,50.0,0.0,60.0,13.0,38.0,65.0,14.0,0.0,21.0,63.0,34.0,48.0,23.0,67.0,74.0,23.0,80.0,0.0,21.0,61.0,100.0,8.0,76.0,100.0,28.0,75.0],\"yaxis\":\"y\"},{\"mode\":\"lines\",\"name\":\"100 % acc\",\"type\":\"scatter\",\"x\":[0,1,2,3,4,5,6,7,8,9,10,11,12,13,14,15,16,17,18,19,20,21,22,23,24,25,26,27,28,29,30,31,32,33,34,35,36,37,38,39,40,41,42,43,44,45,46,47,48,49,50,51,52,53,54,55,56,57,58,59,60,61,62,63,64,65,66,67,68,69,70,71,72,73,74,75,76,77,78,79,80,81,82,83,84,85,86,87,88,89,90,91,92,93,94,95,96,97,98,99],\"y\":[0,1,2,3,4,5,6,7,8,9,10,11,12,13,14,15,16,17,18,19,20,21,22,23,24,25,26,27,28,29,30,31,32,33,34,35,36,37,38,39,40,41,42,43,44,45,46,47,48,49,50,51,52,53,54,55,56,57,58,59,60,61,62,63,64,65,66,67,68,69,70,71,72,73,74,75,76,77,78,79,80,81,82,83,84,85,86,87,88,89,90,91,92,93,94,95,96,97,98,99]}],                        {\"annotations\":[{\"font\":{\"size\":16},\"showarrow\":false,\"text\":\"Predicted Vs Actual\",\"x\":0.5,\"xanchor\":\"center\",\"xref\":\"paper\",\"y\":1.0,\"yanchor\":\"bottom\",\"yref\":\"paper\"}],\"font\":{\"family\":\"Courier New, monospace\",\"size\":16},\"legend\":{\"title\":{\"text\":\"Legend\"}},\"template\":{\"data\":{\"bar\":[{\"error_x\":{\"color\":\"#2a3f5f\"},\"error_y\":{\"color\":\"#2a3f5f\"},\"marker\":{\"line\":{\"color\":\"#E5ECF6\",\"width\":0.5},\"pattern\":{\"fillmode\":\"overlay\",\"size\":10,\"solidity\":0.2}},\"type\":\"bar\"}],\"barpolar\":[{\"marker\":{\"line\":{\"color\":\"#E5ECF6\",\"width\":0.5},\"pattern\":{\"fillmode\":\"overlay\",\"size\":10,\"solidity\":0.2}},\"type\":\"barpolar\"}],\"carpet\":[{\"aaxis\":{\"endlinecolor\":\"#2a3f5f\",\"gridcolor\":\"white\",\"linecolor\":\"white\",\"minorgridcolor\":\"white\",\"startlinecolor\":\"#2a3f5f\"},\"baxis\":{\"endlinecolor\":\"#2a3f5f\",\"gridcolor\":\"white\",\"linecolor\":\"white\",\"minorgridcolor\":\"white\",\"startlinecolor\":\"#2a3f5f\"},\"type\":\"carpet\"}],\"choropleth\":[{\"colorbar\":{\"outlinewidth\":0,\"ticks\":\"\"},\"type\":\"choropleth\"}],\"contour\":[{\"colorbar\":{\"outlinewidth\":0,\"ticks\":\"\"},\"colorscale\":[[0.0,\"#0d0887\"],[0.1111111111111111,\"#46039f\"],[0.2222222222222222,\"#7201a8\"],[0.3333333333333333,\"#9c179e\"],[0.4444444444444444,\"#bd3786\"],[0.5555555555555556,\"#d8576b\"],[0.6666666666666666,\"#ed7953\"],[0.7777777777777778,\"#fb9f3a\"],[0.8888888888888888,\"#fdca26\"],[1.0,\"#f0f921\"]],\"type\":\"contour\"}],\"contourcarpet\":[{\"colorbar\":{\"outlinewidth\":0,\"ticks\":\"\"},\"type\":\"contourcarpet\"}],\"heatmap\":[{\"colorbar\":{\"outlinewidth\":0,\"ticks\":\"\"},\"colorscale\":[[0.0,\"#0d0887\"],[0.1111111111111111,\"#46039f\"],[0.2222222222222222,\"#7201a8\"],[0.3333333333333333,\"#9c179e\"],[0.4444444444444444,\"#bd3786\"],[0.5555555555555556,\"#d8576b\"],[0.6666666666666666,\"#ed7953\"],[0.7777777777777778,\"#fb9f3a\"],[0.8888888888888888,\"#fdca26\"],[1.0,\"#f0f921\"]],\"type\":\"heatmap\"}],\"heatmapgl\":[{\"colorbar\":{\"outlinewidth\":0,\"ticks\":\"\"},\"colorscale\":[[0.0,\"#0d0887\"],[0.1111111111111111,\"#46039f\"],[0.2222222222222222,\"#7201a8\"],[0.3333333333333333,\"#9c179e\"],[0.4444444444444444,\"#bd3786\"],[0.5555555555555556,\"#d8576b\"],[0.6666666666666666,\"#ed7953\"],[0.7777777777777778,\"#fb9f3a\"],[0.8888888888888888,\"#fdca26\"],[1.0,\"#f0f921\"]],\"type\":\"heatmapgl\"}],\"histogram\":[{\"marker\":{\"pattern\":{\"fillmode\":\"overlay\",\"size\":10,\"solidity\":0.2}},\"type\":\"histogram\"}],\"histogram2d\":[{\"colorbar\":{\"outlinewidth\":0,\"ticks\":\"\"},\"colorscale\":[[0.0,\"#0d0887\"],[0.1111111111111111,\"#46039f\"],[0.2222222222222222,\"#7201a8\"],[0.3333333333333333,\"#9c179e\"],[0.4444444444444444,\"#bd3786\"],[0.5555555555555556,\"#d8576b\"],[0.6666666666666666,\"#ed7953\"],[0.7777777777777778,\"#fb9f3a\"],[0.8888888888888888,\"#fdca26\"],[1.0,\"#f0f921\"]],\"type\":\"histogram2d\"}],\"histogram2dcontour\":[{\"colorbar\":{\"outlinewidth\":0,\"ticks\":\"\"},\"colorscale\":[[0.0,\"#0d0887\"],[0.1111111111111111,\"#46039f\"],[0.2222222222222222,\"#7201a8\"],[0.3333333333333333,\"#9c179e\"],[0.4444444444444444,\"#bd3786\"],[0.5555555555555556,\"#d8576b\"],[0.6666666666666666,\"#ed7953\"],[0.7777777777777778,\"#fb9f3a\"],[0.8888888888888888,\"#fdca26\"],[1.0,\"#f0f921\"]],\"type\":\"histogram2dcontour\"}],\"mesh3d\":[{\"colorbar\":{\"outlinewidth\":0,\"ticks\":\"\"},\"type\":\"mesh3d\"}],\"parcoords\":[{\"line\":{\"colorbar\":{\"outlinewidth\":0,\"ticks\":\"\"}},\"type\":\"parcoords\"}],\"pie\":[{\"automargin\":true,\"type\":\"pie\"}],\"scatter\":[{\"marker\":{\"colorbar\":{\"outlinewidth\":0,\"ticks\":\"\"}},\"type\":\"scatter\"}],\"scatter3d\":[{\"line\":{\"colorbar\":{\"outlinewidth\":0,\"ticks\":\"\"}},\"marker\":{\"colorbar\":{\"outlinewidth\":0,\"ticks\":\"\"}},\"type\":\"scatter3d\"}],\"scattercarpet\":[{\"marker\":{\"colorbar\":{\"outlinewidth\":0,\"ticks\":\"\"}},\"type\":\"scattercarpet\"}],\"scattergeo\":[{\"marker\":{\"colorbar\":{\"outlinewidth\":0,\"ticks\":\"\"}},\"type\":\"scattergeo\"}],\"scattergl\":[{\"marker\":{\"colorbar\":{\"outlinewidth\":0,\"ticks\":\"\"}},\"type\":\"scattergl\"}],\"scattermapbox\":[{\"marker\":{\"colorbar\":{\"outlinewidth\":0,\"ticks\":\"\"}},\"type\":\"scattermapbox\"}],\"scatterpolar\":[{\"marker\":{\"colorbar\":{\"outlinewidth\":0,\"ticks\":\"\"}},\"type\":\"scatterpolar\"}],\"scatterpolargl\":[{\"marker\":{\"colorbar\":{\"outlinewidth\":0,\"ticks\":\"\"}},\"type\":\"scatterpolargl\"}],\"scatterternary\":[{\"marker\":{\"colorbar\":{\"outlinewidth\":0,\"ticks\":\"\"}},\"type\":\"scatterternary\"}],\"surface\":[{\"colorbar\":{\"outlinewidth\":0,\"ticks\":\"\"},\"colorscale\":[[0.0,\"#0d0887\"],[0.1111111111111111,\"#46039f\"],[0.2222222222222222,\"#7201a8\"],[0.3333333333333333,\"#9c179e\"],[0.4444444444444444,\"#bd3786\"],[0.5555555555555556,\"#d8576b\"],[0.6666666666666666,\"#ed7953\"],[0.7777777777777778,\"#fb9f3a\"],[0.8888888888888888,\"#fdca26\"],[1.0,\"#f0f921\"]],\"type\":\"surface\"}],\"table\":[{\"cells\":{\"fill\":{\"color\":\"#EBF0F8\"},\"line\":{\"color\":\"white\"}},\"header\":{\"fill\":{\"color\":\"#C8D4E3\"},\"line\":{\"color\":\"white\"}},\"type\":\"table\"}]},\"layout\":{\"annotationdefaults\":{\"arrowcolor\":\"#2a3f5f\",\"arrowhead\":0,\"arrowwidth\":1},\"autotypenumbers\":\"strict\",\"coloraxis\":{\"colorbar\":{\"outlinewidth\":0,\"ticks\":\"\"}},\"colorscale\":{\"diverging\":[[0,\"#8e0152\"],[0.1,\"#c51b7d\"],[0.2,\"#de77ae\"],[0.3,\"#f1b6da\"],[0.4,\"#fde0ef\"],[0.5,\"#f7f7f7\"],[0.6,\"#e6f5d0\"],[0.7,\"#b8e186\"],[0.8,\"#7fbc41\"],[0.9,\"#4d9221\"],[1,\"#276419\"]],\"sequential\":[[0.0,\"#0d0887\"],[0.1111111111111111,\"#46039f\"],[0.2222222222222222,\"#7201a8\"],[0.3333333333333333,\"#9c179e\"],[0.4444444444444444,\"#bd3786\"],[0.5555555555555556,\"#d8576b\"],[0.6666666666666666,\"#ed7953\"],[0.7777777777777778,\"#fb9f3a\"],[0.8888888888888888,\"#fdca26\"],[1.0,\"#f0f921\"]],\"sequentialminus\":[[0.0,\"#0d0887\"],[0.1111111111111111,\"#46039f\"],[0.2222222222222222,\"#7201a8\"],[0.3333333333333333,\"#9c179e\"],[0.4444444444444444,\"#bd3786\"],[0.5555555555555556,\"#d8576b\"],[0.6666666666666666,\"#ed7953\"],[0.7777777777777778,\"#fb9f3a\"],[0.8888888888888888,\"#fdca26\"],[1.0,\"#f0f921\"]]},\"colorway\":[\"#636efa\",\"#EF553B\",\"#00cc96\",\"#ab63fa\",\"#FFA15A\",\"#19d3f3\",\"#FF6692\",\"#B6E880\",\"#FF97FF\",\"#FECB52\"],\"font\":{\"color\":\"#2a3f5f\"},\"geo\":{\"bgcolor\":\"white\",\"lakecolor\":\"white\",\"landcolor\":\"#E5ECF6\",\"showlakes\":true,\"showland\":true,\"subunitcolor\":\"white\"},\"hoverlabel\":{\"align\":\"left\"},\"hovermode\":\"closest\",\"mapbox\":{\"style\":\"light\"},\"paper_bgcolor\":\"white\",\"plot_bgcolor\":\"#E5ECF6\",\"polar\":{\"angularaxis\":{\"gridcolor\":\"white\",\"linecolor\":\"white\",\"ticks\":\"\"},\"bgcolor\":\"#E5ECF6\",\"radialaxis\":{\"gridcolor\":\"white\",\"linecolor\":\"white\",\"ticks\":\"\"}},\"scene\":{\"xaxis\":{\"backgroundcolor\":\"#E5ECF6\",\"gridcolor\":\"white\",\"gridwidth\":2,\"linecolor\":\"white\",\"showbackground\":true,\"ticks\":\"\",\"zerolinecolor\":\"white\"},\"yaxis\":{\"backgroundcolor\":\"#E5ECF6\",\"gridcolor\":\"white\",\"gridwidth\":2,\"linecolor\":\"white\",\"showbackground\":true,\"ticks\":\"\",\"zerolinecolor\":\"white\"},\"zaxis\":{\"backgroundcolor\":\"#E5ECF6\",\"gridcolor\":\"white\",\"gridwidth\":2,\"linecolor\":\"white\",\"showbackground\":true,\"ticks\":\"\",\"zerolinecolor\":\"white\"}},\"shapedefaults\":{\"line\":{\"color\":\"#2a3f5f\"}},\"ternary\":{\"aaxis\":{\"gridcolor\":\"white\",\"linecolor\":\"white\",\"ticks\":\"\"},\"baxis\":{\"gridcolor\":\"white\",\"linecolor\":\"white\",\"ticks\":\"\"},\"bgcolor\":\"#E5ECF6\",\"caxis\":{\"gridcolor\":\"white\",\"linecolor\":\"white\",\"ticks\":\"\"}},\"title\":{\"x\":0.05},\"xaxis\":{\"automargin\":true,\"gridcolor\":\"white\",\"linecolor\":\"white\",\"ticks\":\"\",\"title\":{\"standoff\":15},\"zerolinecolor\":\"white\",\"zerolinewidth\":2},\"yaxis\":{\"automargin\":true,\"gridcolor\":\"white\",\"linecolor\":\"white\",\"ticks\":\"\",\"title\":{\"standoff\":15},\"zerolinecolor\":\"white\",\"zerolinewidth\":2}}},\"title\":{\"text\":\"African American Graduation Rates Model Performance\"},\"xaxis\":{\"anchor\":\"y\",\"domain\":[0.0,1.0],\"title\":{\"text\":\"Predicted Graduation Rate\"}},\"yaxis\":{\"anchor\":\"x\",\"domain\":[0.0,1.0],\"title\":{\"text\":\"Actual Graduation Rate\"}}},                        {\"responsive\": true}                    ).then(function(){\n",
       "                            \n",
       "var gd = document.getElementById('43e1dc13-1101-483b-962c-dff2a5674ecd');\n",
       "var x = new MutationObserver(function (mutations, observer) {{\n",
       "        var display = window.getComputedStyle(gd).display;\n",
       "        if (!display || display === 'none') {{\n",
       "            console.log([gd, 'removed!']);\n",
       "            Plotly.purge(gd);\n",
       "            observer.disconnect();\n",
       "        }}\n",
       "}});\n",
       "\n",
       "// Listen for the removal of the full notebook cells\n",
       "var notebookContainer = gd.closest('#notebook-container');\n",
       "if (notebookContainer) {{\n",
       "    x.observe(notebookContainer, {childList: true});\n",
       "}}\n",
       "\n",
       "// Listen for the clearing of the current output cell\n",
       "var outputEl = gd.closest('.output');\n",
       "if (outputEl) {{\n",
       "    x.observe(outputEl, {childList: true});\n",
       "}}\n",
       "\n",
       "                        })                };                });            </script>        </div>"
      ]
     },
     "metadata": {},
     "output_type": "display_data"
    }
   ],
   "source": [
    "fig = make_subplots(rows=1, cols=1, subplot_titles=[\"Predicted Vs Actual\"])\n",
    "\n",
    "fig.add_trace(\n",
    "    go.Scatter(x=logger.y_pred, y=logger.y_test, mode='markers', name='Pred vs. Actual'),\n",
    "    1, 1)\n",
    "\n",
    "fig.add_trace(\n",
    "    go.Scatter(x=np.arange(0,100,1), y=np.arange(0,100,1), mode='lines', name='100 % acc')\n",
    ")\n",
    "fig.update_layout(\n",
    "    title=\"African American Graduation Rates Model Performance\",\n",
    "    xaxis_title=\"Predicted Graduation Rate\",\n",
    "    yaxis_title=\"Actual Graduation Rate\",\n",
    "    legend_title=\"Legend\",\n",
    "    font=dict(\n",
    "        family=\"Courier New, monospace\",\n",
    "        size=16,\n",
    "    )\n",
    ")\n",
    "\n",
    "fig.show()"
   ]
  },
  {
   "cell_type": "code",
   "execution_count": null,
   "id": "b4a10593",
   "metadata": {},
   "outputs": [],
   "source": []
  }
 ],
 "metadata": {
  "kernelspec": {
   "display_name": "Python 3 (ipykernel)",
   "language": "python",
   "name": "python3"
  },
  "language_info": {
   "codemirror_mode": {
    "name": "ipython",
    "version": 3
   },
   "file_extension": ".py",
   "mimetype": "text/x-python",
   "name": "python",
   "nbconvert_exporter": "python",
   "pygments_lexer": "ipython3",
   "version": "3.8.5"
  }
 },
 "nbformat": 4,
 "nbformat_minor": 5
}
