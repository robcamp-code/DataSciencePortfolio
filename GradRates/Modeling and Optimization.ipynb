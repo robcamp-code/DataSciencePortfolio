{
 "cells": [
  {
   "cell_type": "code",
   "execution_count": 1,
   "id": "66874348",
   "metadata": {},
   "outputs": [
    {
     "data": {
      "text/html": [
       "        <script type=\"text/javascript\">\n",
       "        window.PlotlyConfig = {MathJaxConfig: 'local'};\n",
       "        if (window.MathJax) {MathJax.Hub.Config({SVG: {font: \"STIX-Web\"}});}\n",
       "        if (typeof require !== 'undefined') {\n",
       "        require.undef(\"plotly\");\n",
       "        requirejs.config({\n",
       "            paths: {\n",
       "                'plotly': ['https://cdn.plot.ly/plotly-2.4.2.min']\n",
       "            }\n",
       "        });\n",
       "        require(['plotly'], function(Plotly) {\n",
       "            window._Plotly = Plotly;\n",
       "        });\n",
       "        }\n",
       "        </script>\n",
       "        "
      ]
     },
     "metadata": {},
     "output_type": "display_data"
    },
    {
     "data": {
      "text/html": [
       "        <script type=\"text/javascript\">\n",
       "        window.PlotlyConfig = {MathJaxConfig: 'local'};\n",
       "        if (window.MathJax) {MathJax.Hub.Config({SVG: {font: \"STIX-Web\"}});}\n",
       "        if (typeof require !== 'undefined') {\n",
       "        require.undef(\"plotly\");\n",
       "        requirejs.config({\n",
       "            paths: {\n",
       "                'plotly': ['https://cdn.plot.ly/plotly-2.4.2.min']\n",
       "            }\n",
       "        });\n",
       "        require(['plotly'], function(Plotly) {\n",
       "            window._Plotly = Plotly;\n",
       "        });\n",
       "        }\n",
       "        </script>\n",
       "        "
      ]
     },
     "metadata": {},
     "output_type": "display_data"
    }
   ],
   "source": [
    "import pandas as pd\n",
    "import numpy as np\n",
    "import xgboost as xgb\n",
    "import copy\n",
    "#conda install -c conda-forge cufflinks-py\n",
    "#conda install plotly\n",
    "import ipywidgets as wg\n",
    "from IPython.display import display\n",
    "\n",
    "import cufflinks as cf\n",
    "import chart_studio.plotly as py\n",
    "import plotly.express as px\n",
    "\n",
    "import matplotlib.pyplot as plt\n",
    "from plotly.offline import download_plotlyjs, init_notebook_mode, plot, iplot\n",
    "import inspect\n",
    "import seaborn as sns\n",
    "\n",
    "init_notebook_mode(connected=True)\n",
    "cf.go_offline()\n",
    "from sklearn.model_selection import train_test_split, RandomizedSearchCV, GridSearchCV, cross_val_score\n",
    "from sklearn.preprocessing import OneHotEncoder, StandardScaler, MinMaxScaler, Normalizer\n",
    "from sklearn.experimental import enable_iterative_imputer\n",
    "from sklearn.impute import IterativeImputer, KNNImputer, SimpleImputer\n",
    "from sklearn.pipeline import FeatureUnion, Pipeline\n",
    "from sklearn.compose import ColumnTransformer\n",
    "pd.options.display.max_columns = 200\n",
    "pd.options.display.max_rows = 272"
   ]
  },
  {
   "cell_type": "code",
   "execution_count": 2,
   "id": "d9f55a25",
   "metadata": {},
   "outputs": [],
   "source": [
    "from sklearn.feature_selection import SelectKBest, VarianceThreshold\n",
    "\n",
    "from sklearn.linear_model import Ridge, Lasso, ElasticNet\n",
    "from sklearn.ensemble import RandomForestRegressor\n",
    "from sklearn.metrics import mean_squared_error, explained_variance_score, mean_absolute_error, make_scorer\n",
    "from sklearn.pipeline import make_pipeline, Pipeline\n",
    "from sklearn.decomposition import PCA\n",
    "from joblib import dump, load"
   ]
  },
  {
   "cell_type": "code",
   "execution_count": 3,
   "id": "b633a4b0",
   "metadata": {},
   "outputs": [],
   "source": [
    "model_log = load(\"data/model_logging.joblib\")"
   ]
  },
  {
   "cell_type": "code",
   "execution_count": 4,
   "id": "bb571a73",
   "metadata": {},
   "outputs": [],
   "source": [
    "model_log_df = pd.DataFrame(model_log)"
   ]
  },
  {
   "cell_type": "code",
   "execution_count": 5,
   "id": "265fba15",
   "metadata": {},
   "outputs": [],
   "source": [
    "current_model = copy.deepcopy(model_log_df[\"model\"].iloc[0])"
   ]
  },
  {
   "cell_type": "code",
   "execution_count": 6,
   "id": "23b2e2c4",
   "metadata": {},
   "outputs": [],
   "source": [
    "def train_model(model, X, y):\n",
    "    x_train, x_test, y_train, y_test = train_test_split(X, y, test_size=0.15, random_state=0)\n",
    "    model.fit(x_train, y_train)\n",
    "    \n",
    "    y_pred = model.predict(x_test)\n",
    "    y_pred_train = model.predict(x_train)\n",
    "    \n",
    "    tmae = mean_absolute_error(y_train, y_pred_train)\n",
    "    tmse = mean_squared_error(y_train, y_pred_train)\n",
    "    trmse = np.sqrt(tmse)\n",
    "    \n",
    "    mae = mean_absolute_error(y_test, y_pred)\n",
    "    mse = mean_squared_error(y_test, y_pred)\n",
    "    rmse = np.sqrt(mse)\n",
    "    \n",
    "    \n",
    "    return tmae, trmse, mae, rmse"
   ]
  },
  {
   "cell_type": "markdown",
   "id": "acca6efb",
   "metadata": {},
   "source": [
    "# Now Lets Load our original Data"
   ]
  },
  {
   "cell_type": "code",
   "execution_count": 7,
   "id": "50ef0d50",
   "metadata": {},
   "outputs": [],
   "source": [
    "df = pd.read_csv(\"data/cleaned_df.csv\", index_col=\"UnitID\")"
   ]
  },
  {
   "cell_type": "code",
   "execution_count": 8,
   "id": "5a463fce",
   "metadata": {},
   "outputs": [],
   "source": [
    "df.drop(\"Unnamed: 0\",axis=1, inplace=True)"
   ]
  },
  {
   "cell_type": "code",
   "execution_count": 9,
   "id": "370e91b6",
   "metadata": {},
   "outputs": [],
   "source": [
    "df.drop([\"City location of institution (HD2019)\", \"Institution Name\"], axis=1, inplace=True)"
   ]
  },
  {
   "cell_type": "code",
   "execution_count": 10,
   "id": "08251436",
   "metadata": {},
   "outputs": [],
   "source": [
    "X = df.iloc[:, :-14]\n",
    "y = df.iloc[:,-14]"
   ]
  },
  {
   "cell_type": "code",
   "execution_count": 11,
   "id": "8c1ed31d",
   "metadata": {},
   "outputs": [],
   "source": [
    "X = pd.get_dummies(X, drop_first=True)"
   ]
  },
  {
   "cell_type": "code",
   "execution_count": 12,
   "id": "41fe16a6",
   "metadata": {},
   "outputs": [
    {
     "data": {
      "text/plain": [
       "[{'model': Pipeline(steps=[('Imputer',\n",
       "                   ColumnTransformer(remainder='passthrough',\n",
       "                                     transformers=[('Impute', SimpleImputer(),\n",
       "                                                    [0, 1, 2, 3, 4, 5, 6, 7, 8, 9,\n",
       "                                                     10, 11, 12, 13, 14, 15, 16,\n",
       "                                                     17, 18, 19, 20, 21, 22, 23,\n",
       "                                                     24, 25, 26, 27, 28, 29, ...])])),\n",
       "                  ('Scaler',\n",
       "                   ColumnTransformer(remainder='passthrough',\n",
       "                                     transformers=[('Scale', StandardScaler(),\n",
       "                                                    [0, 1, 2, 3, 4, 5, 6, 7, 8, 9,\n",
       "                                                     10, 11, 12, 13, 14, 15, 16,\n",
       "                                                     17, 18, 19, 20, 21, 22, 23,\n",
       "                                                     24, 25, 26, 27, 28, 29, ...])])),\n",
       "                  ('classifier', ElasticNet(alpha=0.1))]),\n",
       "  'alpha': 0.1,\n",
       "  'l1_ratio': 0.5,\n",
       "  'mae_total': 9.888575599306854,\n",
       "  'mse_total': 202.07314213698086,\n",
       "  'mae_black': 14.861809376780581,\n",
       "  'mse_black': 411.01293077069744}]"
      ]
     },
     "execution_count": 12,
     "metadata": {},
     "output_type": "execute_result"
    }
   ],
   "source": [
    "model_log"
   ]
  },
  {
   "cell_type": "code",
   "execution_count": 13,
   "id": "71bc0569",
   "metadata": {},
   "outputs": [
    {
     "data": {
      "text/plain": [
       "Pipeline(steps=[('Imputer',\n",
       "                 ColumnTransformer(remainder='passthrough',\n",
       "                                   transformers=[('Impute', SimpleImputer(),\n",
       "                                                  [0, 1, 2, 3, 4, 5, 6, 7, 8, 9,\n",
       "                                                   10, 11, 12, 13, 14, 15, 16,\n",
       "                                                   17, 18, 19, 20, 21, 22, 23,\n",
       "                                                   24, 25, 26, 27, 28, 29, ...])])),\n",
       "                ('Scaler',\n",
       "                 ColumnTransformer(remainder='passthrough',\n",
       "                                   transformers=[('Scale', StandardScaler(),\n",
       "                                                  [0, 1, 2, 3, 4, 5, 6, 7, 8, 9,\n",
       "                                                   10, 11, 12, 13, 14, 15, 16,\n",
       "                                                   17, 18, 19, 20, 21, 22, 23,\n",
       "                                                   24, 25, 26, 27, 28, 29, ...])])),\n",
       "                ('classifier', ElasticNet(alpha=0.1))])"
      ]
     },
     "execution_count": 13,
     "metadata": {},
     "output_type": "execute_result"
    }
   ],
   "source": [
    "current_model"
   ]
  },
  {
   "cell_type": "code",
   "execution_count": 14,
   "id": "7b9d8374",
   "metadata": {},
   "outputs": [],
   "source": [
    "ilocs = [ X.columns.get_loc(i) for i in X.filter(regex=\"aid\").columns]"
   ]
  },
  {
   "cell_type": "markdown",
   "id": "6ca2b873",
   "metadata": {},
   "source": [
    "## I want no features to be a linear combination of other features.\n",
    "\n",
    "<ol>\n",
    "    <li> Tuition_and_Fees_as_dollar_amount = Core Revenues * Tuition and Fees. This goes for all dollar amounts</li>\n",
    "    <li> Black or African American Total Instructional Staff = Grand Total Instructional Staff * Black total staff_as_percentage</li>\n",
    "    <li>Grand total Undergrad under 25 = Imcoming_Class_Grand_total * Grand total Undergrad Under 25 as percentage</li>\n",
    "    <li>Total men over 25 as percentage = 100 - total men under 25 as percentage. Same goes for women and grand total percentages</li>\n",
    "</ol>\n",
    "\n",
    "We may want to eliminate these perfect collinear columns if it helps our model"
   ]
  },
  {
   "cell_type": "markdown",
   "id": "461645b5",
   "metadata": {},
   "source": [
    "# 1.) Dropping dollar amounts"
   ]
  },
  {
   "cell_type": "code",
   "execution_count": 15,
   "id": "eb8ef56a",
   "metadata": {},
   "outputs": [],
   "source": [
    "for i in X.filter(regex=\"_As_Dollar\").columns:\n",
    "    X.drop(i, axis=1, inplace=True)"
   ]
  },
  {
   "cell_type": "code",
   "execution_count": 16,
   "id": "cae7cdfd",
   "metadata": {},
   "outputs": [
    {
     "data": {
      "text/plain": [
       "111"
      ]
     },
     "execution_count": 16,
     "metadata": {},
     "output_type": "execute_result"
    }
   ],
   "source": [
    "len(X.select_dtypes(include=\"float\").columns)"
   ]
  },
  {
   "cell_type": "code",
   "execution_count": 17,
   "id": "27e6df97",
   "metadata": {},
   "outputs": [],
   "source": [
    "numeric_iloc = list(range(111))"
   ]
  },
  {
   "cell_type": "code",
   "execution_count": 18,
   "id": "76d509f3",
   "metadata": {},
   "outputs": [],
   "source": [
    "current_model.steps[0] = ('Imputer', ColumnTransformer(\n",
    "    [\n",
    "        ('Impute', SimpleImputer(), numeric_iloc)\n",
    "    ]\n",
    ")) \n",
    "\n",
    "current_model.steps[1] = ('Scaler', ColumnTransformer(\n",
    "    [\n",
    "        ('Scale', StandardScaler(), numeric_iloc)\n",
    "    ]\n",
    ")) \n"
   ]
  },
  {
   "cell_type": "code",
   "execution_count": 19,
   "id": "d7f273b0",
   "metadata": {},
   "outputs": [
    {
     "data": {
      "text/plain": [
       "Pipeline(steps=[('Imputer',\n",
       "                 ColumnTransformer(transformers=[('Impute', SimpleImputer(),\n",
       "                                                  [0, 1, 2, 3, 4, 5, 6, 7, 8, 9,\n",
       "                                                   10, 11, 12, 13, 14, 15, 16,\n",
       "                                                   17, 18, 19, 20, 21, 22, 23,\n",
       "                                                   24, 25, 26, 27, 28, 29, ...])])),\n",
       "                ('Scaler',\n",
       "                 ColumnTransformer(transformers=[('Scale', StandardScaler(),\n",
       "                                                  [0, 1, 2, 3, 4, 5, 6, 7, 8, 9,\n",
       "                                                   10, 11, 12, 13, 14, 15, 16,\n",
       "                                                   17, 18, 19, 20, 21, 22, 23,\n",
       "                                                   24, 25, 26, 27, 28, 29, ...])])),\n",
       "                ('classifier', ElasticNet(alpha=0.1))])"
      ]
     },
     "execution_count": 19,
     "metadata": {},
     "output_type": "execute_result"
    }
   ],
   "source": [
    "current_model"
   ]
  },
  {
   "cell_type": "code",
   "execution_count": 20,
   "id": "1ac91c5e",
   "metadata": {},
   "outputs": [],
   "source": [
    "tmae, trmse, mae, rmse = train_model(current_model, X, y)"
   ]
  },
  {
   "cell_type": "markdown",
   "id": "499bbf8c",
   "metadata": {},
   "source": [
    "# Dropping these columns did not help\n",
    "\n",
    "Dropping these columns did not help the model even though they are perfect linear combinations of other features. Lets undo this step and save it for when our model gets extremely complex. Lets save the model and note it in the experiment log"
   ]
  },
  {
   "cell_type": "code",
   "execution_count": 21,
   "id": "90bc71c2",
   "metadata": {},
   "outputs": [],
   "source": [
    "def print_results(tmae, trmse, mae, rmse):\n",
    "    print(\n",
    "        f'Training MAE: {tmae}, \\n Training RMSE {trmse},' \n",
    "        f'\\n Test MAE: {mae}, \\n Test RMSE: {rmse}'\n",
    "    )"
   ]
  },
  {
   "cell_type": "code",
   "execution_count": 22,
   "id": "36a52f0f",
   "metadata": {},
   "outputs": [
    {
     "name": "stdout",
     "output_type": "stream",
     "text": [
      "Training MAE: 10.657154304539688, \n",
      " Training RMSE 14.951172762357368,\n",
      " Test MAE: 10.32975392768195, \n",
      " Test RMSE: 14.706748841178987\n"
     ]
    }
   ],
   "source": [
    "print_results(tmae, trmse, mae, rmse)"
   ]
  },
  {
   "cell_type": "markdown",
   "id": "7fa128af",
   "metadata": {},
   "source": [
    "### Lets run it one more time for African American Graduation Rates just to be sure"
   ]
  },
  {
   "cell_type": "code",
   "execution_count": 23,
   "id": "6fab514b",
   "metadata": {},
   "outputs": [],
   "source": [
    "df_black = df.dropna(subset=[df.columns[-7]])"
   ]
  },
  {
   "cell_type": "code",
   "execution_count": 24,
   "id": "93266676",
   "metadata": {},
   "outputs": [],
   "source": [
    "X_black = df_black.iloc[:,:-14]\n",
    "y_black = df_black.iloc[:, -7]"
   ]
  },
  {
   "cell_type": "code",
   "execution_count": 25,
   "id": "53f57a29",
   "metadata": {},
   "outputs": [],
   "source": [
    "X_black = pd.get_dummies(X_black, drop_first=True)"
   ]
  },
  {
   "cell_type": "code",
   "execution_count": 26,
   "id": "22cb2b48",
   "metadata": {},
   "outputs": [],
   "source": [
    "tmae_black, trmse_black, mae_black, rmse_black = train_model(current_model, X_black, y_black)"
   ]
  },
  {
   "cell_type": "code",
   "execution_count": 47,
   "id": "51116481",
   "metadata": {},
   "outputs": [
    {
     "name": "stdout",
     "output_type": "stream",
     "text": [
      "Training MAE: 10.657154304539688, \n",
      " Training RMSE 19.718070607696024,\n",
      " Test MAE: 16.202677780859513, \n",
      " Test RMSE: 24.5074842118486\n"
     ]
    }
   ],
   "source": [
    "print_results(tmae, trmse_black, mae_black, rmse_black)"
   ]
  },
  {
   "cell_type": "code",
   "execution_count": 28,
   "id": "0ba7eeb6",
   "metadata": {},
   "outputs": [],
   "source": [
    "log1 = {\n",
    "    \"model_name\": \"Elastic Net\",\n",
    "    \"model\": current_model,\n",
    "    \"alpha\": 0.1,\n",
    "    \"l1 ratio\": 0.5,\n",
    "    \n",
    "    \"tmae\": tmae,\n",
    "    \"trmse\": trmse,\n",
    "    \n",
    "    \"mae_total\": mae,\n",
    "    \"rmse_total\": rmse,\n",
    "    \n",
    "    \"tmae_black\": tmae_black,\n",
    "    \"trmse_black\": trmse_black,\n",
    "    \n",
    "    \"mae_black\": mae_black,\n",
    "    \"rmse_black\": rmse_black,\n",
    "    \n",
    "    \"notes\": \"Dropped dollar amount columns\"\n",
    "}"
   ]
  },
  {
   "cell_type": "code",
   "execution_count": 29,
   "id": "71bb433f",
   "metadata": {},
   "outputs": [],
   "source": [
    "model_log.append(log1)"
   ]
  },
  {
   "cell_type": "code",
   "execution_count": null,
   "id": "72327f84",
   "metadata": {},
   "outputs": [],
   "source": []
  },
  {
   "cell_type": "markdown",
   "id": "b7407480",
   "metadata": {},
   "source": [
    "# Lets test against different imputation strategies: \n",
    "<ol>\n",
    "    <li>KNNImputer()</li>\n",
    "    <li>IterativeImputer()</li>\n",
    "    <li>Let XG Boost handle imputation</li>\n",
    "<ol>"
   ]
  },
  {
   "cell_type": "code",
   "execution_count": 30,
   "id": "f8681784",
   "metadata": {},
   "outputs": [
    {
     "name": "stdout",
     "output_type": "stream",
     "text": [
      "140529482848816\n",
      "140529514248368\n"
     ]
    }
   ],
   "source": [
    "# create a deep copy of our base line model for easy manipulation\n",
    "print(id(current_model))\n",
    "current_model = copy.deepcopy(model_log_df[\"model\"].iloc[0])\n",
    "print(id(current_model))\n",
    "# if you do not create deep copy then it will reference the same object in memory"
   ]
  },
  {
   "cell_type": "code",
   "execution_count": 31,
   "id": "5be7343a",
   "metadata": {},
   "outputs": [],
   "source": [
    "num_cols = list(range(124))"
   ]
  },
  {
   "cell_type": "code",
   "execution_count": 32,
   "id": "cc6d1fa6",
   "metadata": {
    "collapsed": true
   },
   "outputs": [
    {
     "data": {
      "text/plain": [
       "[('Impute',\n",
       "  SimpleImputer(),\n",
       "  [0,\n",
       "   1,\n",
       "   2,\n",
       "   3,\n",
       "   4,\n",
       "   5,\n",
       "   6,\n",
       "   7,\n",
       "   8,\n",
       "   9,\n",
       "   10,\n",
       "   11,\n",
       "   12,\n",
       "   13,\n",
       "   14,\n",
       "   15,\n",
       "   16,\n",
       "   17,\n",
       "   18,\n",
       "   19,\n",
       "   20,\n",
       "   21,\n",
       "   22,\n",
       "   23,\n",
       "   24,\n",
       "   25,\n",
       "   26,\n",
       "   27,\n",
       "   28,\n",
       "   29,\n",
       "   30,\n",
       "   31,\n",
       "   32,\n",
       "   33,\n",
       "   34,\n",
       "   35,\n",
       "   36,\n",
       "   37,\n",
       "   38,\n",
       "   39,\n",
       "   40,\n",
       "   41,\n",
       "   42,\n",
       "   43,\n",
       "   44,\n",
       "   45,\n",
       "   46,\n",
       "   47,\n",
       "   48,\n",
       "   49,\n",
       "   50,\n",
       "   51,\n",
       "   52,\n",
       "   53,\n",
       "   54,\n",
       "   55,\n",
       "   56,\n",
       "   57,\n",
       "   58,\n",
       "   59,\n",
       "   60,\n",
       "   61,\n",
       "   62,\n",
       "   63,\n",
       "   64,\n",
       "   65,\n",
       "   66,\n",
       "   67,\n",
       "   68,\n",
       "   69,\n",
       "   70,\n",
       "   71,\n",
       "   72,\n",
       "   73,\n",
       "   74,\n",
       "   75,\n",
       "   76,\n",
       "   77,\n",
       "   78,\n",
       "   79,\n",
       "   80,\n",
       "   81,\n",
       "   82,\n",
       "   83,\n",
       "   84,\n",
       "   85,\n",
       "   86,\n",
       "   87,\n",
       "   88,\n",
       "   89,\n",
       "   90,\n",
       "   91,\n",
       "   92,\n",
       "   93,\n",
       "   94,\n",
       "   95,\n",
       "   96,\n",
       "   97,\n",
       "   98,\n",
       "   99,\n",
       "   100,\n",
       "   101,\n",
       "   102,\n",
       "   103,\n",
       "   104,\n",
       "   105,\n",
       "   106,\n",
       "   107,\n",
       "   108,\n",
       "   109,\n",
       "   110,\n",
       "   111,\n",
       "   112,\n",
       "   113,\n",
       "   114,\n",
       "   115,\n",
       "   116,\n",
       "   117,\n",
       "   118,\n",
       "   119,\n",
       "   120,\n",
       "   121,\n",
       "   122,\n",
       "   123]),\n",
       " ('remainder',\n",
       "  'passthrough',\n",
       "  [124,\n",
       "   125,\n",
       "   126,\n",
       "   127,\n",
       "   128,\n",
       "   129,\n",
       "   130,\n",
       "   131,\n",
       "   132,\n",
       "   133,\n",
       "   134,\n",
       "   135,\n",
       "   136,\n",
       "   137,\n",
       "   138,\n",
       "   139,\n",
       "   140,\n",
       "   141,\n",
       "   142,\n",
       "   143,\n",
       "   144,\n",
       "   145,\n",
       "   146,\n",
       "   147,\n",
       "   148,\n",
       "   149,\n",
       "   150,\n",
       "   151,\n",
       "   152,\n",
       "   153,\n",
       "   154,\n",
       "   155,\n",
       "   156,\n",
       "   157,\n",
       "   158,\n",
       "   159,\n",
       "   160,\n",
       "   161,\n",
       "   162,\n",
       "   163,\n",
       "   164,\n",
       "   165,\n",
       "   166,\n",
       "   167,\n",
       "   168,\n",
       "   169,\n",
       "   170,\n",
       "   171,\n",
       "   172,\n",
       "   173,\n",
       "   174,\n",
       "   175,\n",
       "   176,\n",
       "   177,\n",
       "   178,\n",
       "   179,\n",
       "   180,\n",
       "   181,\n",
       "   182,\n",
       "   183,\n",
       "   184,\n",
       "   185,\n",
       "   186,\n",
       "   187,\n",
       "   188,\n",
       "   189,\n",
       "   190,\n",
       "   191,\n",
       "   192,\n",
       "   193,\n",
       "   194,\n",
       "   195,\n",
       "   196,\n",
       "   197,\n",
       "   198,\n",
       "   199,\n",
       "   200,\n",
       "   201,\n",
       "   202,\n",
       "   203,\n",
       "   204,\n",
       "   205,\n",
       "   206,\n",
       "   207,\n",
       "   208,\n",
       "   209,\n",
       "   210,\n",
       "   211,\n",
       "   212,\n",
       "   213,\n",
       "   214,\n",
       "   215,\n",
       "   216,\n",
       "   217,\n",
       "   218,\n",
       "   219,\n",
       "   220,\n",
       "   221,\n",
       "   222,\n",
       "   223,\n",
       "   224,\n",
       "   225,\n",
       "   226,\n",
       "   227,\n",
       "   228,\n",
       "   229,\n",
       "   230,\n",
       "   231,\n",
       "   232,\n",
       "   233,\n",
       "   234,\n",
       "   235,\n",
       "   236,\n",
       "   237,\n",
       "   238,\n",
       "   239,\n",
       "   240,\n",
       "   241,\n",
       "   242,\n",
       "   243,\n",
       "   244,\n",
       "   245,\n",
       "   246,\n",
       "   247,\n",
       "   248,\n",
       "   249,\n",
       "   250,\n",
       "   251,\n",
       "   252,\n",
       "   253,\n",
       "   254,\n",
       "   255,\n",
       "   256])]"
      ]
     },
     "execution_count": 32,
     "metadata": {},
     "output_type": "execute_result"
    }
   ],
   "source": [
    "current_model.steps[0][1].transformers_"
   ]
  },
  {
   "cell_type": "code",
   "execution_count": 33,
   "id": "dbcbe94a",
   "metadata": {},
   "outputs": [],
   "source": [
    "current_model.steps[0][1].transformers_ = ('Impute', KNNImputer(), num_cols)"
   ]
  },
  {
   "cell_type": "code",
   "execution_count": 34,
   "id": "ddc432c6",
   "metadata": {},
   "outputs": [],
   "source": [
    "tmae1, trmse1, mae1, rmse1 = train_model(current_model, X, y)"
   ]
  },
  {
   "cell_type": "code",
   "execution_count": 35,
   "id": "8ca59e60",
   "metadata": {},
   "outputs": [
    {
     "name": "stdout",
     "output_type": "stream",
     "text": [
      "Training MAE: 10.657154304539688, \n",
      " Training RMSE 14.951172762357368,\n",
      " Test MAE: 10.32975392768195, \n",
      " Test RMSE: 14.706748841178987\n"
     ]
    }
   ],
   "source": [
    "print_results(tmae, trmse, mae, rmse)"
   ]
  },
  {
   "cell_type": "code",
   "execution_count": 36,
   "id": "92eba86a",
   "metadata": {},
   "outputs": [],
   "source": [
    "tmae_black1, trmse_black1, mae_black1, rmse_black1 = train_model(current_model, X_black, y_black)"
   ]
  },
  {
   "cell_type": "code",
   "execution_count": 37,
   "id": "c97b1693",
   "metadata": {},
   "outputs": [
    {
     "name": "stdout",
     "output_type": "stream",
     "text": [
      "Training MAE: 13.443723049417862, \n",
      " Training RMSE 18.537007904687666,\n",
      " Test MAE: 14.861809376780581, \n",
      " Test RMSE: 20.273453844145486\n"
     ]
    }
   ],
   "source": [
    "print_results(tmae_black1, trmse_black1, mae_black1, rmse_black1)"
   ]
  },
  {
   "cell_type": "code",
   "execution_count": 38,
   "id": "ae158ff7",
   "metadata": {},
   "outputs": [],
   "source": [
    "log2 = {\n",
    "    \"model_name\": \"Elastic Net\",\n",
    "    \n",
    "    \"model\": current_model,\n",
    "    \"alpha\": 0.1,\n",
    "    \"l1 ratio\": 0.5,\n",
    "    \n",
    "    \"tmae\": tmae1,\n",
    "    \"trmse\": trmse1,\n",
    "    \n",
    "    \"mae_total\": mae1,\n",
    "    \"rmse_total\": rmse1,\n",
    "    \n",
    "    \"tmae_black\": tmae_black1,\n",
    "    \"trmse_black\": trmse_black1,\n",
    "    \n",
    "    \"mae_black\": mae_black1,\n",
    "    \"rmse_black\": rmse_black1,\n",
    "    \n",
    "    \"notes\": \"KNN Imputation strategy\"\n",
    "}"
   ]
  },
  {
   "cell_type": "code",
   "execution_count": 39,
   "id": "37457f3d",
   "metadata": {},
   "outputs": [],
   "source": [
    "model_log.append(log2)"
   ]
  },
  {
   "cell_type": "markdown",
   "id": "e945a3e6",
   "metadata": {},
   "source": [
    "### KNN imputation shows improvement so lets try iterative"
   ]
  },
  {
   "cell_type": "code",
   "execution_count": 40,
   "id": "5002a562",
   "metadata": {},
   "outputs": [],
   "source": [
    "current_model = copy.deepcopy(model_log_df[\"model\"].iloc[0])"
   ]
  },
  {
   "cell_type": "code",
   "execution_count": 41,
   "id": "e504e1d3",
   "metadata": {},
   "outputs": [],
   "source": [
    "current_model.steps[0][1].transformers_ = ('Impute', IterativeImputer(), num_cols)"
   ]
  },
  {
   "cell_type": "code",
   "execution_count": 43,
   "id": "e1030fe5",
   "metadata": {},
   "outputs": [],
   "source": [
    "tmae_2, trmse_2, mae2, mse2 = train_model(current_model, X, y)"
   ]
  },
  {
   "cell_type": "code",
   "execution_count": 44,
   "id": "1960eede",
   "metadata": {},
   "outputs": [],
   "source": [
    "tmae_black2, trmse_black2, mae_black2, rmse_black2 = train_model(current_model, X_black, y_black)"
   ]
  },
  {
   "cell_type": "code",
   "execution_count": 46,
   "id": "f90ff365",
   "metadata": {},
   "outputs": [
    {
     "name": "stdout",
     "output_type": "stream",
     "text": [
      "Training MAE: 13.443723049417862, \n",
      " Training RMSE 18.537007904687666,\n",
      " Test MAE: 14.861809376780581, \n",
      " Test RMSE: 20.273453844145486\n"
     ]
    }
   ],
   "source": [
    "print_results(tmae_black2, trmse_black2, mae_black2, rmse_black2)"
   ]
  },
  {
   "cell_type": "markdown",
   "id": "4f532049",
   "metadata": {},
   "source": [
    "### Same Results as KNN now lets try XGBoost"
   ]
  },
  {
   "cell_type": "code",
   "execution_count": 48,
   "id": "a503c06e",
   "metadata": {},
   "outputs": [
    {
     "data": {
      "text/plain": [
       "XGBRegressor(base_score=None, booster=None, colsample_bylevel=None,\n",
       "             colsample_bynode=None, colsample_bytree=None, gamma=None,\n",
       "             gpu_id=None, importance_type='gain', interaction_constraints=None,\n",
       "             learning_rate=None, max_delta_step=None, max_depth=None,\n",
       "             min_child_weight=None, missing=nan, monotone_constraints=None,\n",
       "             n_estimators=100, n_jobs=None, num_parallel_tree=None,\n",
       "             random_state=None, reg_alpha=None, reg_lambda=None,\n",
       "             scale_pos_weight=None, subsample=None, tree_method=None,\n",
       "             validate_parameters=None, verbosity=None)"
      ]
     },
     "execution_count": 48,
     "metadata": {},
     "output_type": "execute_result"
    }
   ],
   "source": [
    "#viewing default XGB parameters\n",
    "xgb.XGBRegressor()"
   ]
  },
  {
   "cell_type": "code",
   "execution_count": 49,
   "id": "0efdc56e",
   "metadata": {},
   "outputs": [],
   "source": [
    "current_model = copy.deepcopy(model_log_df[\"model\"].iloc[0])"
   ]
  },
  {
   "cell_type": "code",
   "execution_count": 50,
   "id": "b581c5c7",
   "metadata": {},
   "outputs": [
    {
     "data": {
      "text/plain": [
       "('Imputer',\n",
       " ColumnTransformer(remainder='passthrough',\n",
       "                   transformers=[('Impute', SimpleImputer(),\n",
       "                                  [0, 1, 2, 3, 4, 5, 6, 7, 8, 9, 10, 11, 12, 13,\n",
       "                                   14, 15, 16, 17, 18, 19, 20, 21, 22, 23, 24,\n",
       "                                   25, 26, 27, 28, 29, ...])]))"
      ]
     },
     "execution_count": 50,
     "metadata": {},
     "output_type": "execute_result"
    }
   ],
   "source": [
    "current_model.steps.pop(0)"
   ]
  },
  {
   "cell_type": "code",
   "execution_count": 51,
   "id": "d0c8cd74",
   "metadata": {},
   "outputs": [],
   "source": [
    "params = {\n",
    "    \"objective\": \"reg:squarederror\",\n",
    "    \"booster\": \"gbtree\",\n",
    "    \"learning_rate\": 0.1,\n",
    "    \"subsample\": 1.0,\n",
    "    \"min_child_weight\": 1\n",
    "}"
   ]
  },
  {
   "cell_type": "code",
   "execution_count": 52,
   "id": "cefc6adb",
   "metadata": {},
   "outputs": [],
   "source": [
    "current_model.steps[1] = ('classifier', xgb.XGBRegressor(**params))"
   ]
  },
  {
   "cell_type": "code",
   "execution_count": 54,
   "id": "9637dc43",
   "metadata": {},
   "outputs": [],
   "source": [
    "tmae3, trmse3, mae3, mse3 = train_model(current_model, X, y)"
   ]
  },
  {
   "cell_type": "code",
   "execution_count": 56,
   "id": "8880ad71",
   "metadata": {},
   "outputs": [],
   "source": [
    "tmae_black3, trmse_black3, mae_black3, mse_black3 = train_model(current_model, X_black, y_black)"
   ]
  },
  {
   "cell_type": "code",
   "execution_count": 57,
   "id": "70f08221",
   "metadata": {},
   "outputs": [
    {
     "name": "stdout",
     "output_type": "stream",
     "text": [
      "Training MAE: 4.641660551472408, \n",
      " Training RMSE 4.641660551472408,\n",
      " Test MAE: 13.931648124632288, \n",
      " Test RMSE: 19.021821315387857\n"
     ]
    }
   ],
   "source": [
    "print_results(tmae_black3, tmae_black3, mae_black3, mse_black3)"
   ]
  },
  {
   "cell_type": "code",
   "execution_count": null,
   "id": "bfcf142c",
   "metadata": {},
   "outputs": [],
   "source": []
  },
  {
   "cell_type": "code",
   "execution_count": null,
   "id": "5e805a72",
   "metadata": {},
   "outputs": [],
   "source": []
  },
  {
   "cell_type": "code",
   "execution_count": null,
   "id": "0d8ab8e5",
   "metadata": {},
   "outputs": [],
   "source": [
    "pd.DataFrame(model_log)"
   ]
  },
  {
   "cell_type": "code",
   "execution_count": null,
   "id": "7d32dd86",
   "metadata": {},
   "outputs": [],
   "source": []
  }
 ],
 "metadata": {
  "kernelspec": {
   "display_name": "Python 3 (ipykernel)",
   "language": "python",
   "name": "python3"
  },
  "language_info": {
   "codemirror_mode": {
    "name": "ipython",
    "version": 3
   },
   "file_extension": ".py",
   "mimetype": "text/x-python",
   "name": "python",
   "nbconvert_exporter": "python",
   "pygments_lexer": "ipython3",
   "version": "3.8.5"
  }
 },
 "nbformat": 4,
 "nbformat_minor": 5
}
