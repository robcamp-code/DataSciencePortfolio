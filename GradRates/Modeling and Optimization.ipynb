{
 "cells": [
  {
   "cell_type": "code",
   "execution_count": 1,
   "id": "66874348",
   "metadata": {},
   "outputs": [
    {
     "data": {
      "text/html": [
       "        <script type=\"text/javascript\">\n",
       "        window.PlotlyConfig = {MathJaxConfig: 'local'};\n",
       "        if (window.MathJax) {MathJax.Hub.Config({SVG: {font: \"STIX-Web\"}});}\n",
       "        if (typeof require !== 'undefined') {\n",
       "        require.undef(\"plotly\");\n",
       "        requirejs.config({\n",
       "            paths: {\n",
       "                'plotly': ['https://cdn.plot.ly/plotly-2.4.2.min']\n",
       "            }\n",
       "        });\n",
       "        require(['plotly'], function(Plotly) {\n",
       "            window._Plotly = Plotly;\n",
       "        });\n",
       "        }\n",
       "        </script>\n",
       "        "
      ]
     },
     "metadata": {},
     "output_type": "display_data"
    },
    {
     "data": {
      "text/html": [
       "        <script type=\"text/javascript\">\n",
       "        window.PlotlyConfig = {MathJaxConfig: 'local'};\n",
       "        if (window.MathJax) {MathJax.Hub.Config({SVG: {font: \"STIX-Web\"}});}\n",
       "        if (typeof require !== 'undefined') {\n",
       "        require.undef(\"plotly\");\n",
       "        requirejs.config({\n",
       "            paths: {\n",
       "                'plotly': ['https://cdn.plot.ly/plotly-2.4.2.min']\n",
       "            }\n",
       "        });\n",
       "        require(['plotly'], function(Plotly) {\n",
       "            window._Plotly = Plotly;\n",
       "        });\n",
       "        }\n",
       "        </script>\n",
       "        "
      ]
     },
     "metadata": {},
     "output_type": "display_data"
    }
   ],
   "source": [
    "import pandas as pd\n",
    "import numpy as np\n",
    "import xgboost as xgb\n",
    "import copy\n",
    "#conda install -c conda-forge cufflinks-py\n",
    "#conda install plotly\n",
    "import ipywidgets as wg\n",
    "from IPython.display import display\n",
    "\n",
    "import cufflinks as cf\n",
    "import chart_studio.plotly as py\n",
    "import plotly.express as px\n",
    "from plotly.subplots import make_subplots\n",
    "import plotly.graph_objects as go\n",
    "import matplotlib.pyplot as plt\n",
    "from plotly.offline import download_plotlyjs, init_notebook_mode, plot, iplot\n",
    "import inspect\n",
    "import seaborn as sns\n",
    "\n",
    "init_notebook_mode(connected=True)\n",
    "cf.go_offline()\n",
    "from sklearn.model_selection import train_test_split, RandomizedSearchCV, GridSearchCV, cross_val_score\n",
    "from sklearn.preprocessing import OneHotEncoder, StandardScaler, MinMaxScaler, Normalizer, PolynomialFeatures\n",
    "from sklearn.experimental import enable_iterative_imputer\n",
    "from sklearn.impute import IterativeImputer, KNNImputer, SimpleImputer\n",
    "from sklearn.pipeline import FeatureUnion, Pipeline\n",
    "from sklearn.compose import ColumnTransformer, make_column_selector\n",
    "from sklearn.base import TransformerMixin, BaseEstimator\n",
    "pd.options.display.max_columns = 200\n",
    "pd.options.display.max_rows = 272"
   ]
  },
  {
   "cell_type": "code",
   "execution_count": 2,
   "id": "d9f55a25",
   "metadata": {},
   "outputs": [],
   "source": [
    "from sklearn.feature_selection import SelectKBest, VarianceThreshold\n",
    "\n",
    "from sklearn.linear_model import Ridge, Lasso, ElasticNet\n",
    "from sklearn.ensemble import RandomForestRegressor\n",
    "from sklearn.metrics import mean_squared_error, explained_variance_score, mean_absolute_error, make_scorer\n",
    "from sklearn.pipeline import make_pipeline, Pipeline\n",
    "from sklearn.decomposition import PCA\n",
    "from joblib import dump, load\n",
    "from Logger import RegressionLogger, FuncTransformer, ColSelect"
   ]
  },
  {
   "cell_type": "code",
   "execution_count": null,
   "id": "135c0f5b",
   "metadata": {},
   "outputs": [],
   "source": []
  },
  {
   "cell_type": "code",
   "execution_count": 3,
   "id": "e04bf2a4",
   "metadata": {},
   "outputs": [],
   "source": [
    "log_transformed = 0      "
   ]
  },
  {
   "cell_type": "code",
   "execution_count": 4,
   "id": "b633a4b0",
   "metadata": {},
   "outputs": [],
   "source": [
    "model_log = load(\"data/model_logging.joblib\")"
   ]
  },
  {
   "cell_type": "code",
   "execution_count": 5,
   "id": "265fba15",
   "metadata": {},
   "outputs": [],
   "source": [
    "current_model = copy.deepcopy(model_log[0][\"model\"])"
   ]
  },
  {
   "cell_type": "markdown",
   "id": "acca6efb",
   "metadata": {},
   "source": [
    "# Now Lets Load our original Data"
   ]
  },
  {
   "cell_type": "code",
   "execution_count": 6,
   "id": "50ef0d50",
   "metadata": {},
   "outputs": [],
   "source": [
    "df = pd.read_csv(\"data/cleaned_df.csv\", index_col=\"UnitID\")"
   ]
  },
  {
   "cell_type": "code",
   "execution_count": 7,
   "id": "5a463fce",
   "metadata": {},
   "outputs": [],
   "source": [
    "df.drop(\"Unnamed: 0\",axis=1, inplace=True)"
   ]
  },
  {
   "cell_type": "code",
   "execution_count": 8,
   "id": "370e91b6",
   "metadata": {},
   "outputs": [],
   "source": [
    "df.drop([\"City location of institution (HD2019)\", \"Institution Name\"], axis=1, inplace=True)"
   ]
  },
  {
   "cell_type": "code",
   "execution_count": 9,
   "id": "08251436",
   "metadata": {},
   "outputs": [],
   "source": [
    "X = df.iloc[:, :-14]\n",
    "y = df.iloc[:,-14]"
   ]
  },
  {
   "cell_type": "code",
   "execution_count": 10,
   "id": "6fab514b",
   "metadata": {},
   "outputs": [],
   "source": [
    "df_black = df.dropna(subset=[df.columns[-7]])"
   ]
  },
  {
   "cell_type": "code",
   "execution_count": 11,
   "id": "93266676",
   "metadata": {},
   "outputs": [],
   "source": [
    "X_black = df_black.iloc[:,:-14]\n",
    "y_black = df_black.iloc[:, -7]"
   ]
  },
  {
   "cell_type": "code",
   "execution_count": 12,
   "id": "53f57a29",
   "metadata": {},
   "outputs": [],
   "source": [
    "X_black = pd.get_dummies(X_black, drop_first=True)"
   ]
  },
  {
   "cell_type": "code",
   "execution_count": 13,
   "id": "8c1ed31d",
   "metadata": {},
   "outputs": [],
   "source": [
    "X = pd.get_dummies(X, drop_first=True)"
   ]
  },
  {
   "cell_type": "code",
   "execution_count": 14,
   "id": "eb57f116",
   "metadata": {},
   "outputs": [
    {
     "data": {
      "text/plain": [
       "(2315, 260)"
      ]
     },
     "execution_count": 14,
     "metadata": {},
     "output_type": "execute_result"
    }
   ],
   "source": [
    "X.shape"
   ]
  },
  {
   "cell_type": "code",
   "execution_count": 15,
   "id": "ca750ef5",
   "metadata": {},
   "outputs": [
    {
     "data": {
      "text/plain": [
       "(2027, 255)"
      ]
     },
     "execution_count": 15,
     "metadata": {},
     "output_type": "execute_result"
    }
   ],
   "source": [
    "X_black.shape"
   ]
  },
  {
   "cell_type": "markdown",
   "id": "0b622549",
   "metadata": {},
   "source": [
    "# Trend Identification"
   ]
  },
  {
   "cell_type": "code",
   "execution_count": 16,
   "id": "3daace8b",
   "metadata": {},
   "outputs": [],
   "source": [
    "# log of core revenues\n",
    "transformer = FuncTransformer()"
   ]
  },
  {
   "cell_type": "code",
   "execution_count": 17,
   "id": "bc1a9a66",
   "metadata": {},
   "outputs": [],
   "source": [
    "fe_x = transformer.log_transform(X.to_numpy(), 0)"
   ]
  },
  {
   "cell_type": "code",
   "execution_count": 18,
   "id": "f2fb6758",
   "metadata": {},
   "outputs": [],
   "source": [
    "X[\"log_core_revenues\"] = fe_x"
   ]
  },
  {
   "cell_type": "code",
   "execution_count": 19,
   "id": "3e39ae30",
   "metadata": {},
   "outputs": [],
   "source": [
    "num_ilocs = [X.columns.get_loc(i) for i in X.select_dtypes(include=\"float\").columns]"
   ]
  },
  {
   "cell_type": "code",
   "execution_count": 20,
   "id": "bbead6d6",
   "metadata": {},
   "outputs": [],
   "source": [
    "scaler = ('Scaler', ColumnTransformer(\n",
    "    [\n",
    "        ('Scale', StandardScaler(), num_ilocs)\n",
    "    ], remainder='passthrough'\n",
    "))"
   ]
  },
  {
   "cell_type": "markdown",
   "id": "b6c0ae4b",
   "metadata": {},
   "source": [
    "# Before we continue, which of these features Actually improve the model performance"
   ]
  },
  {
   "cell_type": "code",
   "execution_count": 21,
   "id": "19dc2f0b",
   "metadata": {},
   "outputs": [],
   "source": [
    "num_pipe = Pipeline([\n",
    "    ('Impute', ColumnTransformer([\n",
    "        ('Impute', SimpleImputer(), make_column_selector(dtype_include='float'))\n",
    "    ], remainder='drop'\n",
    "    )),\n",
    "    ('Scale', StandardScaler())\n",
    "])\n",
    "\n",
    "cat_pipe = Pipeline([\n",
    "    ('Passthrough', ColumnTransformer([\n",
    "        ('Pass', 'passthrough', make_column_selector(dtype_exclude='float'))\n",
    "    ], remainder='drop'\n",
    "    ))\n",
    "])\n",
    "\n",
    "preprocessor = FeatureUnion([\n",
    "    ('numeric', num_pipe),\n",
    "    ('categorical', cat_pipe)\n",
    "])\n",
    "\n",
    "pipeline = Pipeline([\n",
    "    ('preprocessing', preprocessor),\n",
    "    ('polynomial', PolynomialFeatures()),\n",
    "    ('classifier', ElasticNet(alpha=0.1, l1_ratio=0.5))\n",
    "])"
   ]
  },
  {
   "cell_type": "code",
   "execution_count": 22,
   "id": "54127e42",
   "metadata": {},
   "outputs": [],
   "source": [
    "params = {\n",
    "    \"Imputer\": \"SimpleImputer\",\n",
    "    \"Scaler\": \"Standard Scaler\",\n",
    "    \"model_name\": \"Elastic Net\",\n",
    "    \"model\": pipeline,\n",
    "    \"alpha\": 0.1,\n",
    "    \"l1_ratio\": 0.5,\n",
    "}"
   ]
  },
  {
   "cell_type": "code",
   "execution_count": 23,
   "id": "f6958216",
   "metadata": {},
   "outputs": [],
   "source": [
    "logger = RegressionLogger(params)"
   ]
  },
  {
   "cell_type": "code",
   "execution_count": 24,
   "id": "b063a1a1",
   "metadata": {
    "collapsed": true
   },
   "outputs": [
    {
     "name": "stderr",
     "output_type": "stream",
     "text": [
      "/Users/robertcampbell/opt/anaconda3/lib/python3.8/site-packages/sklearn/linear_model/_coordinate_descent.py:530: ConvergenceWarning:\n",
      "\n",
      "Objective did not converge. You might want to increase the number of iterations. Duality gap: 31395.085842468223, tolerance: 93.54013126588714\n",
      "\n"
     ]
    }
   ],
   "source": [
    "logger.train_update(pipeline, X, y)"
   ]
  },
  {
   "cell_type": "code",
   "execution_count": 32,
   "id": "56f2227f",
   "metadata": {
    "collapsed": true
   },
   "outputs": [
    {
     "data": {
      "text/plain": [
       "(5.573710716909098, 11.03782760078316)"
      ]
     },
     "execution_count": 32,
     "metadata": {},
     "output_type": "execute_result"
    }
   ],
   "source": [
    "logger.train_mae, logger.mae"
   ]
  },
  {
   "cell_type": "markdown",
   "id": "ed6bb9bc",
   "metadata": {},
   "source": [
    "# The Model Does Not Converge (as expected), but it still gives us very valuable feature combinations that we can use for feature engineering"
   ]
  },
  {
   "cell_type": "code",
   "execution_count": 26,
   "id": "1fda247a",
   "metadata": {},
   "outputs": [],
   "source": [
    "feature_names = list(pipeline['polynomial'].get_feature_names(np.array(X.columns)))"
   ]
  },
  {
   "cell_type": "code",
   "execution_count": 27,
   "id": "3fc96690",
   "metadata": {},
   "outputs": [],
   "source": [
    "coefs = list(pipeline['classifier'].coef_)"
   ]
  },
  {
   "cell_type": "code",
   "execution_count": 40,
   "id": "507b2ded",
   "metadata": {},
   "outputs": [],
   "source": [
    "coef_map = sorted(list(zip(feature_names, coefs)), key=lambda x: x[1])"
   ]
  },
  {
   "cell_type": "code",
   "execution_count": 43,
   "id": "bd08eeab",
   "metadata": {
    "collapsed": true
   },
   "outputs": [
    {
     "data": {
      "text/plain": [
       "['Percent of total enrollment that are women (DRVEF2013_RV) SAT Critical Reading 75th percentile score (IC2012_RV)_isNaN',\n",
       " 'Percent of total enrollment that are Black or African American (DRVEF2013_RV) Parent/child indicator - Finance (FLAGS2019)_Parent record - includes data from branch campuses',\n",
       " 'Government_Grants SAT Critical Reading 75th percentile score (IC2012_RV)_isNaN',\n",
       " 'SAT Critical Reading 75th percentile score (IC2012_RV)_isNaN State abbreviation (HD2018)_Montana',\n",
       " 'Government_Grants Student-to-faculty ratio (EF2019D)']"
      ]
     },
     "execution_count": 43,
     "metadata": {},
     "output_type": "execute_result"
    }
   ],
   "source": [
    "[i[0] for i in coef_map[:5]]"
   ]
  },
  {
   "cell_type": "code",
   "execution_count": 42,
   "id": "8613c7aa",
   "metadata": {
    "collapsed": true
   },
   "outputs": [
    {
     "data": {
      "text/plain": [
       "['Percent of total enrollment that are Black or African American (DRVEF2013_RV) Percent of total enrollment that are women (DRVEF2013_RV)',\n",
       " 'Sales_And_Services Total men (EF2013B_RV  Undergraduate  Age 25 and over total)_as_percentage',\n",
       " 'Percent of total enrollment that are White (DRVEF2013_RV) Parent/child indicator - Finance (FLAGS2019)_Parent record - includes data from branch campuses',\n",
       " 'Academic_Support_Expenses Total price for out-of-state students living on campus 2012-13 (DRVIC2012_RV)',\n",
       " 'Academic_Support_Expenses Sector of institution (HD2018)_Public, 2-year']"
      ]
     },
     "execution_count": 42,
     "metadata": {},
     "output_type": "execute_result"
    }
   ],
   "source": [
    "[i[0] for i in coef_map[-5:]]"
   ]
  },
  {
   "cell_type": "markdown",
   "id": "59d1bf99",
   "metadata": {},
   "source": [
    "## Lets Add the Top 5 features and Bottom 5 features to our model and see if we can get a model that converges"
   ]
  },
  {
   "cell_type": "code",
   "execution_count": null,
   "id": "196cde26",
   "metadata": {},
   "outputs": [],
   "source": []
  },
  {
   "cell_type": "code",
   "execution_count": null,
   "id": "22c99336",
   "metadata": {},
   "outputs": [],
   "source": []
  },
  {
   "cell_type": "code",
   "execution_count": null,
   "id": "4648a279",
   "metadata": {},
   "outputs": [],
   "source": []
  },
  {
   "cell_type": "markdown",
   "id": "11582003",
   "metadata": {},
   "source": [
    "# Visualizing Features against target"
   ]
  },
  {
   "cell_type": "code",
   "execution_count": 31,
   "id": "0df18578",
   "metadata": {
    "collapsed": true
   },
   "outputs": [
    {
     "data": {
      "application/vnd.jupyter.widget-view+json": {
       "model_id": "7c38a3d848254bdf8078a3d101d4b6da",
       "version_major": 2,
       "version_minor": 0
      },
      "text/plain": [
       "HBox(children=(Dropdown(description='Feature:', options=('Core_Revenues', 'Tuition_And_Fees', 'Government_Gran…"
      ]
     },
     "metadata": {},
     "output_type": "display_data"
    },
    {
     "data": {
      "application/vnd.jupyter.widget-view+json": {
       "model_id": "a86a5af1895843b18caf6bfebeb7f02d",
       "version_major": 2,
       "version_minor": 0
      },
      "text/plain": [
       "Output(layout=Layout(height='700px'))"
      ]
     },
     "metadata": {},
     "output_type": "display_data"
    }
   ],
   "source": [
    "\n",
    "picker1 = wg.Dropdown(\n",
    "    options=X.columns,\n",
    "    value=X.columns[0],\n",
    "    description='Feature:',\n",
    "    disabled=False,\n",
    ")\n",
    "\n",
    "picker2 = wg.Dropdown(\n",
    "    options=pd.DataFrame(y).columns,\n",
    "    description='Target:',\n",
    "    disabled=False,\n",
    ")\n",
    "\n",
    "ui = wg.HBox([picker1, picker2])\n",
    "\n",
    "def scatter_residuals(feature, target):\n",
    "    fig = go.Figure()\n",
    "    \n",
    "    _ = fig.add_trace(go.Scatter(\n",
    "        x = X[feature], y=pd.DataFrame(y)[target], mode='markers'\n",
    "    ))\n",
    "\n",
    "    \n",
    "    _ = display(fig.show())\n",
    "    \n",
    "out = wg.interactive_output(scatter_residuals, {'feature': picker1, 'target':picker2})\n",
    "out.layout.height = '700px'\n",
    "_ = display(ui, out)"
   ]
  },
  {
   "cell_type": "markdown",
   "id": "04a6f05f",
   "metadata": {},
   "source": [
    "# Visualizing Features Against eachother"
   ]
  }
 ],
 "metadata": {
  "kernelspec": {
   "display_name": "Python 3 (ipykernel)",
   "language": "python",
   "name": "python3"
  },
  "language_info": {
   "codemirror_mode": {
    "name": "ipython",
    "version": 3
   },
   "file_extension": ".py",
   "mimetype": "text/x-python",
   "name": "python",
   "nbconvert_exporter": "python",
   "pygments_lexer": "ipython3",
   "version": "3.8.5"
  }
 },
 "nbformat": 4,
 "nbformat_minor": 5
}
