{
 "cells": [
  {
   "cell_type": "code",
   "execution_count": 1,
   "id": "66874348",
   "metadata": {},
   "outputs": [
    {
     "data": {
      "text/html": [
       "        <script type=\"text/javascript\">\n",
       "        window.PlotlyConfig = {MathJaxConfig: 'local'};\n",
       "        if (window.MathJax) {MathJax.Hub.Config({SVG: {font: \"STIX-Web\"}});}\n",
       "        if (typeof require !== 'undefined') {\n",
       "        require.undef(\"plotly\");\n",
       "        requirejs.config({\n",
       "            paths: {\n",
       "                'plotly': ['https://cdn.plot.ly/plotly-2.4.2.min']\n",
       "            }\n",
       "        });\n",
       "        require(['plotly'], function(Plotly) {\n",
       "            window._Plotly = Plotly;\n",
       "        });\n",
       "        }\n",
       "        </script>\n",
       "        "
      ]
     },
     "metadata": {},
     "output_type": "display_data"
    },
    {
     "data": {
      "text/html": [
       "        <script type=\"text/javascript\">\n",
       "        window.PlotlyConfig = {MathJaxConfig: 'local'};\n",
       "        if (window.MathJax) {MathJax.Hub.Config({SVG: {font: \"STIX-Web\"}});}\n",
       "        if (typeof require !== 'undefined') {\n",
       "        require.undef(\"plotly\");\n",
       "        requirejs.config({\n",
       "            paths: {\n",
       "                'plotly': ['https://cdn.plot.ly/plotly-2.4.2.min']\n",
       "            }\n",
       "        });\n",
       "        require(['plotly'], function(Plotly) {\n",
       "            window._Plotly = Plotly;\n",
       "        });\n",
       "        }\n",
       "        </script>\n",
       "        "
      ]
     },
     "metadata": {},
     "output_type": "display_data"
    }
   ],
   "source": [
    "import pandas as pd\n",
    "import numpy as np\n",
    "import xgboost as xgb\n",
    "import copy\n",
    "#conda install -c conda-forge cufflinks-py\n",
    "#conda install plotly\n",
    "import ipywidgets as wg\n",
    "from IPython.display import display\n",
    "\n",
    "import cufflinks as cf\n",
    "import chart_studio.plotly as py\n",
    "import plotly.express as px\n",
    "from plotly.subplots import make_subplots\n",
    "import plotly.graph_objects as go\n",
    "import matplotlib.pyplot as plt\n",
    "from plotly.offline import download_plotlyjs, init_notebook_mode, plot, iplot\n",
    "import inspect\n",
    "import seaborn as sns\n",
    "\n",
    "from matplotlib import pyplot as plt\n",
    "init_notebook_mode(connected=True)\n",
    "cf.go_offline()\n",
    "from sklearn.model_selection import train_test_split, RandomizedSearchCV, GridSearchCV, cross_val_score\n",
    "from sklearn.preprocessing import OneHotEncoder, StandardScaler, MinMaxScaler, Normalizer, PolynomialFeatures\n",
    "from sklearn.experimental import enable_iterative_imputer\n",
    "from sklearn.impute import IterativeImputer, KNNImputer, SimpleImputer\n",
    "from sklearn.pipeline import FeatureUnion, Pipeline\n",
    "from sklearn.feature_extraction import FeatureHasher\n",
    "from sklearn.compose import ColumnTransformer, make_column_selector\n",
    "from sklearn.base import TransformerMixin, BaseEstimator\n",
    "pd.options.display.max_columns = 200\n",
    "pd.options.display.max_rows = 272"
   ]
  },
  {
   "cell_type": "code",
   "execution_count": 2,
   "id": "d9f55a25",
   "metadata": {},
   "outputs": [],
   "source": [
    "from sklearn.feature_selection import SelectKBest, VarianceThreshold, RFE, SelectFromModel\n",
    "from sklearn.linear_model import Ridge, Lasso, ElasticNet\n",
    "from sklearn.ensemble import RandomForestRegressor\n",
    "from sklearn.metrics import mean_squared_error, explained_variance_score, mean_absolute_error, make_scorer\n",
    "from sklearn.pipeline import make_pipeline, Pipeline\n",
    "from sklearn.decomposition import PCA\n",
    "from joblib import dump, load\n",
    "from Logger import RegressionLogger, FuncTransformer, ColSelect"
   ]
  },
  {
   "cell_type": "code",
   "execution_count": 3,
   "id": "135c0f5b",
   "metadata": {},
   "outputs": [],
   "source": [
    "import inspect"
   ]
  },
  {
   "cell_type": "code",
   "execution_count": 4,
   "id": "e04bf2a4",
   "metadata": {},
   "outputs": [],
   "source": [
    "log_transformed = 0      "
   ]
  },
  {
   "cell_type": "code",
   "execution_count": 5,
   "id": "b633a4b0",
   "metadata": {},
   "outputs": [],
   "source": [
    "model_log = load(\"data/model_logging.joblib\")"
   ]
  },
  {
   "cell_type": "code",
   "execution_count": 6,
   "id": "265fba15",
   "metadata": {},
   "outputs": [],
   "source": [
    "current_model = copy.deepcopy(model_log[0][\"model\"])"
   ]
  },
  {
   "cell_type": "markdown",
   "id": "acca6efb",
   "metadata": {},
   "source": [
    "# Now Lets Load our original Data"
   ]
  },
  {
   "cell_type": "code",
   "execution_count": 7,
   "id": "50ef0d50",
   "metadata": {},
   "outputs": [],
   "source": [
    "df = pd.read_csv(\"data/cleaned_df.csv\", index_col=\"UnitID\")"
   ]
  },
  {
   "cell_type": "code",
   "execution_count": 8,
   "id": "5a463fce",
   "metadata": {},
   "outputs": [],
   "source": [
    "df.drop(\"Unnamed: 0\",axis=1, inplace=True)"
   ]
  },
  {
   "cell_type": "code",
   "execution_count": 9,
   "id": "370e91b6",
   "metadata": {},
   "outputs": [],
   "source": [
    "df.drop([\"City location of institution (HD2019)\", \"Institution Name\"], axis=1, inplace=True)"
   ]
  },
  {
   "cell_type": "code",
   "execution_count": 10,
   "id": "6fab514b",
   "metadata": {},
   "outputs": [],
   "source": [
    "df_black = df.dropna(subset=[df.columns[-7]])"
   ]
  },
  {
   "cell_type": "code",
   "execution_count": 11,
   "id": "93266676",
   "metadata": {},
   "outputs": [],
   "source": [
    "X_black = df_black.iloc[:,:-14]\n",
    "y_black = df_black.iloc[:, -7]"
   ]
  },
  {
   "cell_type": "code",
   "execution_count": 12,
   "id": "53f57a29",
   "metadata": {},
   "outputs": [],
   "source": [
    "X_black = pd.get_dummies(X_black, drop_first=True)"
   ]
  },
  {
   "cell_type": "code",
   "execution_count": 36,
   "id": "ca750ef5",
   "metadata": {
    "collapsed": true
   },
   "outputs": [
    {
     "data": {
      "text/plain": [
       "Core_Revenues                                                                                                                                                       float64\n",
       "Tuition_And_Fees                                                                                                                                                    float64\n",
       "Government_Grants                                                                                                                                                   float64\n",
       "Private_Gifts                                                                                                                                                       float64\n",
       "Investment_Return                                                                                                                                                   float64\n",
       "Sales_And_Services                                                                                                                                                  float64\n",
       "Other_Revenues                                                                                                                                                      float64\n",
       "Tuition_And_Fees_As_Dollar_Amount                                                                                                                                   float64\n",
       "Government_Grants_As_Dollar_Amount                                                                                                                                  float64\n",
       "Private_Gifts_As_Dollar_Amount                                                                                                                                      float64\n",
       "Investment_Return_As_Dollar_Amount                                                                                                                                  float64\n",
       "Sales_And_Services_As_Dollar_Amount                                                                                                                                 float64\n",
       "Other_Revenues_As_Dollar_Amount                                                                                                                                     float64\n",
       "Core_Expenses                                                                                                                                                       float64\n",
       "Instruction_Expenses                                                                                                                                                float64\n",
       "Research_Expenses                                                                                                                                                   float64\n",
       "Public_Service_Expenses                                                                                                                                             float64\n",
       "Academic_Support_Expenses                                                                                                                                           float64\n",
       "Student_Service_Expenses                                                                                                                                            float64\n",
       "Institutional_Support_Expenses                                                                                                                                      float64\n",
       "Other_Core_Expenses                                                                                                                                                 float64\n",
       "Instruction_Expenses_As_Dollar_Amount                                                                                                                               float64\n",
       "Research_Expenses_As_Dollar_Amount                                                                                                                                  float64\n",
       "Public_Service_Expenses_As_Dollar_Amount                                                                                                                            float64\n",
       "Academic_Support_Expenses_As_Dollar_Amount                                                                                                                          float64\n",
       "Student_Service_Expenses_As_Dollar_Amount                                                                                                                           float64\n",
       "Institutional_Support_Expenses_As_Dollar_Amount                                                                                                                     float64\n",
       "Other_Core_Expenses_As_Dollar_Amount                                                                                                                                float64\n",
       "Grand total instructional_staff                                                                                                                                     float64\n",
       "Grand total men instructional_staff                                                                                                                                 float64\n",
       "Grand total women instructional_staff                                                                                                                               float64\n",
       "American Indian or Alaska Native total instructional_staff                                                                                                          float64\n",
       "American Indian or Alaska Native men instructional_staff                                                                                                            float64\n",
       "American Indian or Alaska Native women instructional_staff                                                                                                          float64\n",
       "Asian total instructional_staff                                                                                                                                     float64\n",
       "Asian men instructional_staff                                                                                                                                       float64\n",
       "Asian women instructional_staff                                                                                                                                     float64\n",
       "Black or African American total instructional_staff                                                                                                                 float64\n",
       "Black or African American men instructional_staff                                                                                                                   float64\n",
       "Black or African American women instructional_staff                                                                                                                 float64\n",
       "Hispanic or Latino total instructional_staff                                                                                                                        float64\n",
       "Hispanic or Latino men instructional_staff                                                                                                                          float64\n",
       "Hispanic or Latino women instructional_staff                                                                                                                        float64\n",
       "Native Hawaiian or Other Pacific Islander total instructional_staff                                                                                                 float64\n",
       "Native Hawaiian or Other Pacific Islander men instructional_staff                                                                                                   float64\n",
       "Native Hawaiian or Other Pacific Islander women instructional_staff                                                                                                 float64\n",
       "White total instructional_staff                                                                                                                                     float64\n",
       "White men instructional_staff                                                                                                                                       float64\n",
       "White women instructional_staff                                                                                                                                     float64\n",
       "Two or more races total instructional_staff                                                                                                                         float64\n",
       "Two or more races men instructional_staff                                                                                                                           float64\n",
       "Two or more races women instructional_staff                                                                                                                         float64\n",
       "Race/ethnicity unknown total instructional_staff                                                                                                                    float64\n",
       "Race/ethnicity unknown men instructional_staff                                                                                                                      float64\n",
       "Race/ethnicity unknown women instructional_staff                                                                                                                    float64\n",
       "Nonresident alien total instructional_staff                                                                                                                         float64\n",
       "Nonresident alien men instructional_staff                                                                                                                           float64\n",
       "Nonresident alien women instructional_staff                                                                                                                         float64\n",
       "Grand total men instructional_staff_as_percentage                                                                                                                   float64\n",
       "Grand total women instructional_staff_as_percentage                                                                                                                 float64\n",
       "American Indian or Alaska Native total instructional_staff_as_percentage                                                                                            float64\n",
       "American Indian or Alaska Native men instructional_staff_as_percentage                                                                                              float64\n",
       "American Indian or Alaska Native women instructional_staff_as_percentage                                                                                            float64\n",
       "Asian total instructional_staff_as_percentage                                                                                                                       float64\n",
       "Asian men instructional_staff_as_percentage                                                                                                                         float64\n",
       "Asian women instructional_staff_as_percentage                                                                                                                       float64\n",
       "Black or African American total instructional_staff_as_percentage                                                                                                   float64\n",
       "Black or African American men instructional_staff_as_percentage                                                                                                     float64\n",
       "Black or African American women instructional_staff_as_percentage                                                                                                   float64\n",
       "Hispanic or Latino total instructional_staff_as_percentage                                                                                                          float64\n",
       "Hispanic or Latino men instructional_staff_as_percentage                                                                                                            float64\n",
       "Hispanic or Latino women instructional_staff_as_percentage                                                                                                          float64\n",
       "Native Hawaiian or Other Pacific Islander total instructional_staff_as_percentage                                                                                   float64\n",
       "Native Hawaiian or Other Pacific Islander men instructional_staff_as_percentage                                                                                     float64\n",
       "Native Hawaiian or Other Pacific Islander women instructional_staff_as_percentage                                                                                   float64\n",
       "White total instructional_staff_as_percentage                                                                                                                       float64\n",
       "White men instructional_staff_as_percentage                                                                                                                         float64\n",
       "White women instructional_staff_as_percentage                                                                                                                       float64\n",
       "Two or more races total instructional_staff_as_percentage                                                                                                           float64\n",
       "Two or more races men instructional_staff_as_percentage                                                                                                             float64\n",
       "Two or more races women instructional_staff_as_percentage                                                                                                           float64\n",
       "Race/ethnicity unknown total instructional_staff_as_percentage                                                                                                      float64\n",
       "Race/ethnicity unknown men instructional_staff_as_percentage                                                                                                        float64\n",
       "Race/ethnicity unknown women instructional_staff_as_percentage                                                                                                      float64\n",
       "Nonresident alien total instructional_staff_as_percentage                                                                                                           float64\n",
       "Nonresident alien men instructional_staff_as_percentage                                                                                                             float64\n",
       "Nonresident alien women instructional_staff_as_percentage                                                                                                           float64\n",
       "Percent of full-time first-time undergraduates awarded any financial aid (SFA1819)                                                                                  float64\n",
       "Percent of full-time first-time undergraduates awarded federal  state  local or institutional grant aid (SFA1819)                                                   float64\n",
       "Percent of total enrollment that are American Indian or Alaska Native (DRVEF2013_RV)                                                                                float64\n",
       "Percent of total enrollment that are Asian/Native Hawaiian/Pacific Islander (DRVEF2013_RV)                                                                          float64\n",
       "Percent of total enrollment that are Asian (DRVEF2013_RV)                                                                                                           float64\n",
       "Percent of total enrollment that are Native Hawaiian or Other Pacific Islander (DRVEF2013_RV)                                                                       float64\n",
       "Percent of total enrollment that are Black or African American (DRVEF2013_RV)                                                                                       float64\n",
       "Percent of total enrollment that are Hispanic/Latino (DRVEF2013_RV)                                                                                                 float64\n",
       "Percent of total enrollment that are White (DRVEF2013_RV)                                                                                                           float64\n",
       "Percent of total enrollment that are Race/ethnicity unknown (DRVEF2013_RV)                                                                                          float64\n",
       "Percent of total enrollment that are Nonresident Alien (DRVEF2013_RV)                                                                                               float64\n",
       "Percent of total enrollment that are two or more races (DRVEF2013_RV)                                                                                               float64\n",
       "Percent of total enrollment that are women (DRVEF2013_RV)                                                                                                           float64\n",
       "Total women (EF2013B_RV  Undergraduate  Age under 25 total)                                                                                                         float64\n",
       "Grand total (EF2013B_RV  Undergraduate  Age 25 and over total)                                                                                                      float64\n",
       "Total men (EF2013B_RV  Undergraduate  Age 25 and over total)                                                                                                        float64\n",
       "Total women (EF2013B_RV  Undergraduate  Age 25 and over total)                                                                                                      float64\n",
       "Incoming_Class_Grand_Total                                                                                                                                          float64\n",
       "Total women (EF2013B_RV  Undergraduate  Age under 25 total)_as_percentage                                                                                           float64\n",
       "Grand total (EF2013B_RV  Undergraduate  Age 25 and over total)_as_percentage                                                                                        float64\n",
       "Total men (EF2013B_RV  Undergraduate  Age 25 and over total)_as_percentage                                                                                          float64\n",
       "Total women (EF2013B_RV  Undergraduate  Age 25 and over total)_as_percentage                                                                                        float64\n",
       "Total price for in-district students living on campus  2012-13 (DRVIC2012_RV)                                                                                       float64\n",
       "Total price for in-state students living on campus 2012-13 (DRVIC2012_RV)                                                                                           float64\n",
       "Total price for out-of-state students living on campus 2012-13 (DRVIC2012_RV)                                                                                       float64\n",
       "Total price for in-district students living off campus (not with family)  2012-13 (DRVIC2012_RV)                                                                    float64\n",
       "Total price for in-state students living off campus (not with family)  2012-13 (DRVIC2012_RV)                                                                       float64\n",
       "Total price for out-of-state students living off campus (not with family)  2012-13 (DRVIC2012_RV)                                                                   float64\n",
       "Total price for in-district students living off campus (with family)  2012-13 (DRVIC2012_RV)                                                                        float64\n",
       "Total price for in-state students living off campus (with family)  2012-13 (DRVIC2012_RV)                                                                           float64\n",
       "Total price for out-of-state students living off campus (with family)  2012-13 (DRVIC2012_RV)                                                                       float64\n",
       "Student-to-faculty ratio (EF2019D)                                                                                                                                  float64\n",
       "SAT Critical Reading 75th percentile score (IC2012_RV)                                                                                                              float64\n",
       "SAT Math 75th percentile score (IC2012_RV)                                                                                                                          float64\n",
       "ACT Composite 75th percentile score (IC2012_RV)                                                                                                                     float64\n",
       "SAT Critical Reading 75th percentile score (IC2012_RV)_isNaN                                                                                                          int64\n",
       "SAT Math 75th percentile score (IC2012_RV)_isNaN                                                                                                                      int64\n",
       "ACT Composite 75th percentile score (IC2012_RV)_isNaN                                                                                                                 int64\n",
       "Carnegie Classification 2018: Basic (HD2018)_Associate's Colleges: High Transfer-Mixed Traditional/Nontraditional                                                     uint8\n",
       "Carnegie Classification 2018: Basic (HD2018)_Associate's Colleges: High Vocational & Technical-High Nontraditional                                                    uint8\n",
       "Carnegie Classification 2018: Basic (HD2018)_Associate's Colleges: High Vocational & Technical-High Traditional                                                       uint8\n",
       "Carnegie Classification 2018: Basic (HD2018)_Associate's Colleges: High Vocational & Technical-Mixed Traditional/Nontraditional                                       uint8\n",
       "Carnegie Classification 2018: Basic (HD2018)_Associate's Colleges: Mixed Transfer/Vocational & Technical-High Nontraditional                                          uint8\n",
       "Carnegie Classification 2018: Basic (HD2018)_Associate's Colleges: Mixed Transfer/Vocational & Technical-High Traditional                                             uint8\n",
       "Carnegie Classification 2018: Basic (HD2018)_Associate's Colleges: Mixed Transfer/Vocational & Technical-Mixed Traditional/Nontraditional                             uint8\n",
       "Carnegie Classification 2018: Basic (HD2018)_Baccalaureate Colleges: Arts & Sciences Focus                                                                            uint8\n",
       "Carnegie Classification 2018: Basic (HD2018)_Baccalaureate Colleges: Diverse Fields                                                                                   uint8\n",
       "Carnegie Classification 2018: Basic (HD2018)_Baccalaureate/Associate's Colleges: Associate's Dominant                                                                 uint8\n",
       "Carnegie Classification 2018: Basic (HD2018)_Baccalaureate/Associate's Colleges: Mixed Baccalaureate/Associate's                                                      uint8\n",
       "Carnegie Classification 2018: Basic (HD2018)_Doctoral Universities: High Research Activity\\r\\n                                                                        uint8\n",
       "Carnegie Classification 2018: Basic (HD2018)_Doctoral Universities: Very High Research Activity\\r\\n                                                                   uint8\n",
       "Carnegie Classification 2018: Basic (HD2018)_Doctoral/Professional Universities\\r\\n                                                                                   uint8\n",
       "Carnegie Classification 2018: Basic (HD2018)_Master's Colleges & Universities: Larger Programs                                                                        uint8\n",
       "Carnegie Classification 2018: Basic (HD2018)_Master's Colleges & Universities: Medium Programs                                                                        uint8\n",
       "Carnegie Classification 2018: Basic (HD2018)_Master's Colleges & Universities: Small Programs                                                                         uint8\n",
       "Carnegie Classification 2018: Basic (HD2018)_Not applicable, not in Carnegie universe (not accredited or nondegree-granting)                                          uint8\n",
       "Carnegie Classification 2018: Basic (HD2018)_Special Focus Four-Year: Arts, Music & Design Schools                                                                    uint8\n",
       "Carnegie Classification 2018: Basic (HD2018)_Special Focus Four-Year: Business & Management Schools                                                                   uint8\n",
       "Carnegie Classification 2018: Basic (HD2018)_Special Focus Four-Year: Engineering Schools                                                                             uint8\n",
       "Carnegie Classification 2018: Basic (HD2018)_Special Focus Four-Year: Faith-Related Institutions                                                                      uint8\n",
       "Carnegie Classification 2018: Basic (HD2018)_Special Focus Four-Year: Other Health Professions Schools                                                                uint8\n",
       "Carnegie Classification 2018: Basic (HD2018)_Special Focus Four-Year: Other Special Focus Institutions                                                                uint8\n",
       "Carnegie Classification 2018: Basic (HD2018)_Special Focus Four-Year: Other Technology-Related Schools                                                                uint8\n",
       "Carnegie Classification 2018: Basic (HD2018)_Special Focus Two-Year: Arts & Design                                                                                    uint8\n",
       "Carnegie Classification 2018: Basic (HD2018)_Special Focus Two-Year: Health Professions                                                                               uint8\n",
       "Carnegie Classification 2018: Basic (HD2018)_Special Focus Two-Year: Other Fields                                                                                     uint8\n",
       "Carnegie Classification 2018: Basic (HD2018)_Special Focus Two-Year: Technical Professions                                                                            uint8\n",
       "Carnegie Classification 2018: Basic (HD2018)_Tribal Colleges                                                                                                          uint8\n",
       "Carnegie Classification 2018: Basic (HD2018)_isMissing                                                                                                                uint8\n",
       "Carnegie Classification 2018: Enrollment Profile (HD2018)_Exclusively undergraduate four-year                                                                         uint8\n",
       "Carnegie Classification 2018: Enrollment Profile (HD2018)_Exclusively undergraduate two-year                                                                          uint8\n",
       "Carnegie Classification 2018: Enrollment Profile (HD2018)_High undergraduate                                                                                          uint8\n",
       "Carnegie Classification 2018: Enrollment Profile (HD2018)_Majority graduate                                                                                           uint8\n",
       "Carnegie Classification 2018: Enrollment Profile (HD2018)_Majority undergraduate                                                                                      uint8\n",
       "Carnegie Classification 2018: Enrollment Profile (HD2018)_Not applicable, not in Carnegie universe (not accredited or nondegree-granting)                             uint8\n",
       "Carnegie Classification 2018: Enrollment Profile (HD2018)_Very high undergraduate                                                                                     uint8\n",
       "Carnegie Classification 2018: Enrollment Profile (HD2018)_isMissing                                                                                                   uint8\n",
       "Carnegie Classification 2018: Size and Setting (HD2018)_Four-year, large, highly residential                                                                          uint8\n",
       "Carnegie Classification 2018: Size and Setting (HD2018)_Four-year, large, primarily nonresidential                                                                    uint8\n",
       "Carnegie Classification 2018: Size and Setting (HD2018)_Four-year, large, primarily residential                                                                       uint8\n",
       "Carnegie Classification 2018: Size and Setting (HD2018)_Four-year, medium, highly residential                                                                         uint8\n",
       "Carnegie Classification 2018: Size and Setting (HD2018)_Four-year, medium, primarily nonresidential                                                                   uint8\n",
       "Carnegie Classification 2018: Size and Setting (HD2018)_Four-year, medium, primarily residential                                                                      uint8\n",
       "Carnegie Classification 2018: Size and Setting (HD2018)_Four-year, small, highly residential                                                                          uint8\n",
       "Carnegie Classification 2018: Size and Setting (HD2018)_Four-year, small, primarily nonresidential                                                                    uint8\n",
       "Carnegie Classification 2018: Size and Setting (HD2018)_Four-year, small, primarily residential                                                                       uint8\n",
       "Carnegie Classification 2018: Size and Setting (HD2018)_Four-year, very small, highly residential                                                                     uint8\n",
       "Carnegie Classification 2018: Size and Setting (HD2018)_Four-year, very small, primarily nonresidential                                                               uint8\n",
       "Carnegie Classification 2018: Size and Setting (HD2018)_Four-year, very small, primarily residential                                                                  uint8\n",
       "Carnegie Classification 2018: Size and Setting (HD2018)_Not applicable, not in Carnegie universe (not accredited or nondegree-granting)                               uint8\n",
       "Carnegie Classification 2018: Size and Setting (HD2018)_Two-year, large                                                                                               uint8\n",
       "Carnegie Classification 2018: Size and Setting (HD2018)_Two-year, medium                                                                                              uint8\n",
       "Carnegie Classification 2018: Size and Setting (HD2018)_Two-year, small                                                                                               uint8\n",
       "Carnegie Classification 2018: Size and Setting (HD2018)_Two-year, very large                                                                                          uint8\n",
       "Carnegie Classification 2018: Size and Setting (HD2018)_Two-year, very small                                                                                          uint8\n",
       "Carnegie Classification 2018: Size and Setting (HD2018)_isMissing                                                                                                     uint8\n",
       "Historically Black College or University (HD2018)_Yes                                                                                                                 uint8\n",
       "Historically Black College or University (HD2018)_isMissing                                                                                                           uint8\n",
       "Institution size category (HD2018)_10,000 - 19,999                                                                                                                    uint8\n",
       "Institution size category (HD2018)_20,000 and above                                                                                                                   uint8\n",
       "Institution size category (HD2018)_5,000 - 9,999                                                                                                                      uint8\n",
       "Institution size category (HD2018)_Under 1,000                                                                                                                        uint8\n",
       "Institution size category (HD2018)_isMissing                                                                                                                          uint8\n",
       "Parent/child indicator - Finance (FLAGS2019)_Child record - reports partial data but other data is included  with entity that is not a postsecondary institution      uint8\n",
       "Parent/child indicator - Finance (FLAGS2019)_Not applicable                                                                                                           uint8\n",
       "Parent/child indicator - Finance (FLAGS2019)_Parent record - includes data from branch campuses                                                                       uint8\n",
       "Parent/child indicator - Finance (FLAGS2019)_Partial child record - reports revenues/expenses. Assets/liabilties reported with parent                                 uint8\n",
       "Sector of institution (HD2018)_Private for-profit, 4-year or above                                                                                                    uint8\n",
       "Sector of institution (HD2018)_Private for-profit, less-than 2-year                                                                                                   uint8\n",
       "Sector of institution (HD2018)_Private not-for-profit, 2-year                                                                                                         uint8\n",
       "Sector of institution (HD2018)_Private not-for-profit, 4-year or above                                                                                                uint8\n",
       "Sector of institution (HD2018)_Public, 2-year                                                                                                                         uint8\n",
       "Sector of institution (HD2018)_Public, 4-year or above                                                                                                                uint8\n",
       "Sector of institution (HD2018)_isMissing                                                                                                                              uint8\n",
       "State abbreviation (HD2018)_Alaska                                                                                                                                    uint8\n",
       "State abbreviation (HD2018)_Arizona                                                                                                                                   uint8\n",
       "State abbreviation (HD2018)_Arkansas                                                                                                                                  uint8\n",
       "State abbreviation (HD2018)_California                                                                                                                                uint8\n",
       "State abbreviation (HD2018)_Colorado                                                                                                                                  uint8\n",
       "State abbreviation (HD2018)_Connecticut                                                                                                                               uint8\n",
       "State abbreviation (HD2018)_Delaware                                                                                                                                  uint8\n",
       "State abbreviation (HD2018)_District of Columbia                                                                                                                      uint8\n",
       "State abbreviation (HD2018)_Florida                                                                                                                                   uint8\n",
       "State abbreviation (HD2018)_Georgia                                                                                                                                   uint8\n",
       "State abbreviation (HD2018)_Guam                                                                                                                                      uint8\n",
       "State abbreviation (HD2018)_Hawaii                                                                                                                                    uint8\n",
       "State abbreviation (HD2018)_Idaho                                                                                                                                     uint8\n",
       "State abbreviation (HD2018)_Illinois                                                                                                                                  uint8\n",
       "State abbreviation (HD2018)_Indiana                                                                                                                                   uint8\n",
       "State abbreviation (HD2018)_Iowa                                                                                                                                      uint8\n",
       "State abbreviation (HD2018)_Kansas                                                                                                                                    uint8\n",
       "State abbreviation (HD2018)_Kentucky                                                                                                                                  uint8\n",
       "State abbreviation (HD2018)_Louisiana                                                                                                                                 uint8\n",
       "State abbreviation (HD2018)_Maine                                                                                                                                     uint8\n",
       "State abbreviation (HD2018)_Maryland                                                                                                                                  uint8\n",
       "State abbreviation (HD2018)_Massachusetts                                                                                                                             uint8\n",
       "State abbreviation (HD2018)_Michigan                                                                                                                                  uint8\n",
       "State abbreviation (HD2018)_Minnesota                                                                                                                                 uint8\n",
       "State abbreviation (HD2018)_Mississippi                                                                                                                               uint8\n",
       "State abbreviation (HD2018)_Missouri                                                                                                                                  uint8\n",
       "State abbreviation (HD2018)_Montana                                                                                                                                   uint8\n",
       "State abbreviation (HD2018)_Nebraska                                                                                                                                  uint8\n",
       "State abbreviation (HD2018)_Nevada                                                                                                                                    uint8\n",
       "State abbreviation (HD2018)_New Hampshire                                                                                                                             uint8\n",
       "State abbreviation (HD2018)_New Jersey                                                                                                                                uint8\n",
       "State abbreviation (HD2018)_New Mexico                                                                                                                                uint8\n",
       "State abbreviation (HD2018)_New York                                                                                                                                  uint8\n",
       "State abbreviation (HD2018)_North Carolina                                                                                                                            uint8\n",
       "State abbreviation (HD2018)_North Dakota                                                                                                                              uint8\n",
       "State abbreviation (HD2018)_Ohio                                                                                                                                      uint8\n",
       "State abbreviation (HD2018)_Oklahoma                                                                                                                                  uint8\n",
       "State abbreviation (HD2018)_Oregon                                                                                                                                    uint8\n",
       "State abbreviation (HD2018)_Pennsylvania                                                                                                                              uint8\n",
       "State abbreviation (HD2018)_Puerto Rico                                                                                                                               uint8\n",
       "State abbreviation (HD2018)_Rhode Island                                                                                                                              uint8\n",
       "State abbreviation (HD2018)_South Carolina                                                                                                                            uint8\n",
       "State abbreviation (HD2018)_South Dakota                                                                                                                              uint8\n",
       "State abbreviation (HD2018)_Tennessee                                                                                                                                 uint8\n",
       "State abbreviation (HD2018)_Texas                                                                                                                                     uint8\n",
       "State abbreviation (HD2018)_Utah                                                                                                                                      uint8\n",
       "State abbreviation (HD2018)_Vermont                                                                                                                                   uint8\n",
       "State abbreviation (HD2018)_Virgin Islands                                                                                                                            uint8\n",
       "State abbreviation (HD2018)_Virginia                                                                                                                                  uint8\n",
       "State abbreviation (HD2018)_Washington                                                                                                                                uint8\n",
       "State abbreviation (HD2018)_West Virginia                                                                                                                             uint8\n",
       "State abbreviation (HD2018)_Wisconsin                                                                                                                                 uint8\n",
       "State abbreviation (HD2018)_Wyoming                                                                                                                                   uint8\n",
       "State abbreviation (HD2018)_isMissing                                                                                                                                 uint8\n",
       "dtype: object"
      ]
     },
     "execution_count": 36,
     "metadata": {},
     "output_type": "execute_result"
    }
   ],
   "source": [
    "X_black.dtypes"
   ]
  },
  {
   "cell_type": "markdown",
   "id": "b6c0ae4b",
   "metadata": {},
   "source": [
    "# Lets Define Our Pipeline"
   ]
  },
  {
   "cell_type": "code",
   "execution_count": 37,
   "id": "19dc2f0b",
   "metadata": {},
   "outputs": [],
   "source": [
    "num_feats = 200\n",
    "num_pipe = Pipeline([\n",
    "    ('Impute', ColumnTransformer([\n",
    "        ('Impute', KNNImputer(n_neighbors=5), make_column_selector(dtype_include='float'))\n",
    "    ], remainder='drop'\n",
    "    )),\n",
    "    ('Scale', StandardScaler())\n",
    "])\n",
    "\n",
    "cat_pipe = Pipeline([\n",
    "    \n",
    "    ('Passthrough', ColumnTransformer([\n",
    "        ('Pass', 'passthrough', make_column_selector(dtype_exclude='float'))\n",
    "    ], remainder='drop'\n",
    "    ))\n",
    "])\n",
    "\n",
    "preprocessor = FeatureUnion([\n",
    "    ('numeric', num_pipe),\n",
    "    ('categorical', cat_pipe)\n",
    "])\n",
    "\n",
    "pipeline = Pipeline([\n",
    "    ('preprocessing', preprocessor),\n",
    "    ('classifier', ElasticNet(alpha=0.1, l1_ratio=0.5))\n",
    "])"
   ]
  },
  {
   "cell_type": "code",
   "execution_count": 38,
   "id": "54127e42",
   "metadata": {},
   "outputs": [],
   "source": [
    "params = {\n",
    "    \"Imputer\": \"SimpleImputer\",\n",
    "    \"Scaler\": \"Standard Scaler\",\n",
    "    \"model_name\": \"Elastic Net\",\n",
    "    \"model\": pipeline,\n",
    "    \"alpha\": 0.1,\n",
    "    \"l1_ratio\": 0.5,\n",
    "}"
   ]
  },
  {
   "cell_type": "code",
   "execution_count": 39,
   "id": "f6958216",
   "metadata": {},
   "outputs": [],
   "source": [
    "logger = RegressionLogger(params)"
   ]
  },
  {
   "cell_type": "code",
   "execution_count": 40,
   "id": "d524a1a2",
   "metadata": {},
   "outputs": [],
   "source": [
    "logger.train_update(pipeline, X_black, y_black)"
   ]
  },
  {
   "cell_type": "code",
   "execution_count": 44,
   "id": "5282fc4e",
   "metadata": {},
   "outputs": [
    {
     "data": {
      "text/plain": [
       "'train and test mae: (13.400120158691642, 15.0942486907444)'"
      ]
     },
     "execution_count": 44,
     "metadata": {},
     "output_type": "execute_result"
    }
   ],
   "source": [
    "f'train and test mae: {logger.train_mae, logger.mae}'"
   ]
  }
 ],
 "metadata": {
  "kernelspec": {
   "display_name": "Python 3 (ipykernel)",
   "language": "python",
   "name": "python3"
  },
  "language_info": {
   "codemirror_mode": {
    "name": "ipython",
    "version": 3
   },
   "file_extension": ".py",
   "mimetype": "text/x-python",
   "name": "python",
   "nbconvert_exporter": "python",
   "pygments_lexer": "ipython3",
   "version": "3.8.5"
  }
 },
 "nbformat": 4,
 "nbformat_minor": 5
}
