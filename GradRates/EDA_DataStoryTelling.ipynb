{
 "cells": [
  {
   "cell_type": "markdown",
   "id": "fc6430d0",
   "metadata": {
    "slideshow": {
     "slide_type": "slide"
    }
   },
   "source": [
    "<h1><center>Exploring Graduation Rates By Ethnicity</center></h1>"
   ]
  },
  {
   "cell_type": "markdown",
   "id": "3fb0def3",
   "metadata": {
    "slideshow": {
     "slide_type": "fragment"
    }
   },
   "source": [
    "**By: Robert Campbell**"
   ]
  },
  {
   "cell_type": "code",
   "execution_count": 93,
   "id": "fba7a7fb",
   "metadata": {
    "slideshow": {
     "slide_type": "skip"
    }
   },
   "outputs": [],
   "source": [
    "import cbell as cb"
   ]
  },
  {
   "cell_type": "code",
   "execution_count": 187,
   "id": "61697aae",
   "metadata": {
    "slideshow": {
     "slide_type": "skip"
    }
   },
   "outputs": [
    {
     "data": {
      "text/html": [
       "        <script type=\"text/javascript\">\n",
       "        window.PlotlyConfig = {MathJaxConfig: 'local'};\n",
       "        if (window.MathJax) {MathJax.Hub.Config({SVG: {font: \"STIX-Web\"}});}\n",
       "        if (typeof require !== 'undefined') {\n",
       "        require.undef(\"plotly\");\n",
       "        requirejs.config({\n",
       "            paths: {\n",
       "                'plotly': ['https://cdn.plot.ly/plotly-2.4.2.min']\n",
       "            }\n",
       "        });\n",
       "        require(['plotly'], function(Plotly) {\n",
       "            window._Plotly = Plotly;\n",
       "        });\n",
       "        }\n",
       "        </script>\n",
       "        "
      ]
     },
     "metadata": {},
     "output_type": "display_data"
    },
    {
     "data": {
      "text/html": [
       "        <script type=\"text/javascript\">\n",
       "        window.PlotlyConfig = {MathJaxConfig: 'local'};\n",
       "        if (window.MathJax) {MathJax.Hub.Config({SVG: {font: \"STIX-Web\"}});}\n",
       "        if (typeof require !== 'undefined') {\n",
       "        require.undef(\"plotly\");\n",
       "        requirejs.config({\n",
       "            paths: {\n",
       "                'plotly': ['https://cdn.plot.ly/plotly-2.4.2.min']\n",
       "            }\n",
       "        });\n",
       "        require(['plotly'], function(Plotly) {\n",
       "            window._Plotly = Plotly;\n",
       "        });\n",
       "        }\n",
       "        </script>\n",
       "        "
      ]
     },
     "metadata": {},
     "output_type": "display_data"
    }
   ],
   "source": [
    "import pandas as pd\n",
    "import numpy as np\n",
    "\n",
    "#conda install -c conda-forge cufflinks-py\n",
    "#conda install plotly\n",
    "import ipywidgets as wg\n",
    "from IPython.display import display\n",
    "import pandas as pd \n",
    "import numpy as np\n",
    "import cufflinks as cf\n",
    "import chart_studio.plotly as py\n",
    "\n",
    "import plotly.express as px\n",
    "from plotly.subplots import make_subplots\n",
    "import plotly.graph_objects as go\n",
    "\n",
    "%matplotlib inline\n",
    "import matplotlib.pyplot as plt\n",
    "from plotly.offline import download_plotlyjs, init_notebook_mode, plot, iplot\n",
    "import inspect\n",
    "import seaborn as sns\n",
    "init_notebook_mode(connected=True)\n",
    "cf.go_offline()\n",
    "\n",
    "from sklearn.preprocessing import OneHotEncoder, StandardScaler\n",
    "from sklearn.experimental import enable_iterative_imputer\n",
    "from sklearn.impute import IterativeImputer, KNNImputer, SimpleImputer\n",
    "from sklearn.pipeline import FeatureUnion, Pipeline\n",
    "from sklearn.compose import ColumnTransformer\n",
    "pd.options.display.max_columns = 200\n",
    "pd.options.display.max_rows = 272\n",
    "\n",
    "from joblib import dump, load\n",
    "from Logger import RegressionLogger, FuncTransformer, ColSelect"
   ]
  },
  {
   "cell_type": "code",
   "execution_count": 3,
   "id": "85d403b6",
   "metadata": {
    "slideshow": {
     "slide_type": "skip"
    }
   },
   "outputs": [],
   "source": [
    "df = pd.read_csv(\"data/cleaned_df.csv\", index_col=\"UnitID\")\n",
    "df.drop(\"Unnamed: 0\",axis=1, inplace=True)\n",
    "institution_name = df[\"Institution Name\"]\n",
    "df.drop([\"Institution Name\", \"City location of institution (HD2019)\"], axis=1, inplace=True)\n",
    "X = df.iloc[:,:-14]\n",
    "X = pd.get_dummies(X, drop_first=True)\n",
    "X[\"Institution Name\"] = institution_name\n",
    "\n",
    "grad_rates = df.iloc[:,-14:]\n",
    "X = pd.concat([X, grad_rates], axis=1)"
   ]
  },
  {
   "cell_type": "code",
   "execution_count": 4,
   "id": "f40d8fb0",
   "metadata": {
    "slideshow": {
     "slide_type": "skip"
    }
   },
   "outputs": [],
   "source": [
    "X_df = load(\"objects/engineered_features.joblib\")\n",
    "y = load(\"objects/y.joblib\")\n",
    "x_train, x_test, y_train, y_test, x_holdout, y_holdout = load(\"objects/holdout_total.joblib\")"
   ]
  },
  {
   "cell_type": "code",
   "execution_count": 5,
   "id": "54ae3da4",
   "metadata": {
    "slideshow": {
     "slide_type": "skip"
    }
   },
   "outputs": [],
   "source": [
    "model_log = load(\"objects/model_logging.joblib\")"
   ]
  },
  {
   "cell_type": "code",
   "execution_count": 6,
   "id": "75b758e6",
   "metadata": {
    "slideshow": {
     "slide_type": "skip"
    }
   },
   "outputs": [],
   "source": [
    "# from joblib import dump, load\n",
    "model = model_log[4]['model']"
   ]
  },
  {
   "cell_type": "code",
   "execution_count": 7,
   "id": "09141803",
   "metadata": {
    "hide_input": true,
    "slideshow": {
     "slide_type": "skip"
    }
   },
   "outputs": [],
   "source": [
    "# load in feature engineered features\n",
    "X_fe = load(\"objects/features.joblib\")"
   ]
  },
  {
   "cell_type": "code",
   "execution_count": 8,
   "id": "eb5e0639",
   "metadata": {
    "slideshow": {
     "slide_type": "skip"
    }
   },
   "outputs": [],
   "source": [
    "df = pd.read_csv(\"data/cleaned_df.csv\", index_col=\"UnitID\")"
   ]
  },
  {
   "cell_type": "code",
   "execution_count": 9,
   "id": "87fcc2af",
   "metadata": {
    "code_folding": [
     11,
     13
    ],
    "slideshow": {
     "slide_type": "skip"
    }
   },
   "outputs": [],
   "source": [
    "means = df.filter(regex='Grad').describe().loc['mean'].sort_values().to_numpy()\n",
    "cols = ['Black', 'American Indian', 'Hispanic', 'men', 'two or more races', \n",
    "        'Native Hawaiian', 'unknown', 'total cohort', 'White',\n",
    "        'women', 'Asian/Native Hawaiian', 'Nonresident alien', 'Asian']\n",
    "\n",
    "#cols = cols.str.replace(\"Graduation rate\", \"\")\n",
    "#cols = cols.str.replace(\"DRVGR2019\", \"\")\n",
    "#cols = cols.str.replace(\"Other Pacific Islander\", \"\")\n",
    "\n",
    "fig = go.Figure()\n",
    "_ = fig.add_trace(go.Bar(\n",
    "    x=cols, y=means, text=np.round(means, 2)\n",
    "))\n",
    "_ = fig.update_layout(\n",
    "    title='Mean Graudation Rates',\n",
    "    xaxis={\n",
    "        'title': \"Gender/Race\"\n",
    "    },\n",
    "    yaxis = {\n",
    "        'title': \"Mean Graduation Rate\"\n",
    "    },\n",
    "    height = 600\n",
    ")"
   ]
  },
  {
   "cell_type": "code",
   "execution_count": 10,
   "id": "07c201fb",
   "metadata": {
    "cell_style": "split",
    "code_folding": [],
    "hide_input": true,
    "scrolled": false,
    "slideshow": {
     "slide_type": "fragment"
    }
   },
   "outputs": [
    {
     "data": {
      "application/vnd.plotly.v1+json": {
       "config": {
        "plotlyServerURL": "https://plot.ly"
       },
       "data": [
        {
         "text": [
          41.24,
          41.95,
          47.87,
          47.92,
          48.45,
          48.97,
          50.32,
          51.54,
          54.56,
          54.87,
          57.54,
          58.5,
          59.05
         ],
         "type": "bar",
         "x": [
          "Black",
          "American Indian",
          "Hispanic",
          "men",
          "two or more races",
          "Native Hawaiian",
          "unknown",
          "total cohort",
          "White",
          "women",
          "Asian/Native Hawaiian",
          "Nonresident alien",
          "Asian"
         ],
         "y": [
          41.239763196842624,
          41.95373665480427,
          47.86843373493976,
          47.92259786476868,
          48.45348837209303,
          48.97348886532344,
          50.3209219858156,
          51.53520518358531,
          54.55989110707804,
          54.874547101449274,
          57.5396391470749,
          58.50254452926209,
          59.04670793472144
         ]
        }
       ],
       "layout": {
        "height": 600,
        "template": {
         "data": {
          "bar": [
           {
            "error_x": {
             "color": "#2a3f5f"
            },
            "error_y": {
             "color": "#2a3f5f"
            },
            "marker": {
             "line": {
              "color": "#E5ECF6",
              "width": 0.5
             },
             "pattern": {
              "fillmode": "overlay",
              "size": 10,
              "solidity": 0.2
             }
            },
            "type": "bar"
           }
          ],
          "barpolar": [
           {
            "marker": {
             "line": {
              "color": "#E5ECF6",
              "width": 0.5
             },
             "pattern": {
              "fillmode": "overlay",
              "size": 10,
              "solidity": 0.2
             }
            },
            "type": "barpolar"
           }
          ],
          "carpet": [
           {
            "aaxis": {
             "endlinecolor": "#2a3f5f",
             "gridcolor": "white",
             "linecolor": "white",
             "minorgridcolor": "white",
             "startlinecolor": "#2a3f5f"
            },
            "baxis": {
             "endlinecolor": "#2a3f5f",
             "gridcolor": "white",
             "linecolor": "white",
             "minorgridcolor": "white",
             "startlinecolor": "#2a3f5f"
            },
            "type": "carpet"
           }
          ],
          "choropleth": [
           {
            "colorbar": {
             "outlinewidth": 0,
             "ticks": ""
            },
            "type": "choropleth"
           }
          ],
          "contour": [
           {
            "colorbar": {
             "outlinewidth": 0,
             "ticks": ""
            },
            "colorscale": [
             [
              0,
              "#0d0887"
             ],
             [
              0.1111111111111111,
              "#46039f"
             ],
             [
              0.2222222222222222,
              "#7201a8"
             ],
             [
              0.3333333333333333,
              "#9c179e"
             ],
             [
              0.4444444444444444,
              "#bd3786"
             ],
             [
              0.5555555555555556,
              "#d8576b"
             ],
             [
              0.6666666666666666,
              "#ed7953"
             ],
             [
              0.7777777777777778,
              "#fb9f3a"
             ],
             [
              0.8888888888888888,
              "#fdca26"
             ],
             [
              1,
              "#f0f921"
             ]
            ],
            "type": "contour"
           }
          ],
          "contourcarpet": [
           {
            "colorbar": {
             "outlinewidth": 0,
             "ticks": ""
            },
            "type": "contourcarpet"
           }
          ],
          "heatmap": [
           {
            "colorbar": {
             "outlinewidth": 0,
             "ticks": ""
            },
            "colorscale": [
             [
              0,
              "#0d0887"
             ],
             [
              0.1111111111111111,
              "#46039f"
             ],
             [
              0.2222222222222222,
              "#7201a8"
             ],
             [
              0.3333333333333333,
              "#9c179e"
             ],
             [
              0.4444444444444444,
              "#bd3786"
             ],
             [
              0.5555555555555556,
              "#d8576b"
             ],
             [
              0.6666666666666666,
              "#ed7953"
             ],
             [
              0.7777777777777778,
              "#fb9f3a"
             ],
             [
              0.8888888888888888,
              "#fdca26"
             ],
             [
              1,
              "#f0f921"
             ]
            ],
            "type": "heatmap"
           }
          ],
          "heatmapgl": [
           {
            "colorbar": {
             "outlinewidth": 0,
             "ticks": ""
            },
            "colorscale": [
             [
              0,
              "#0d0887"
             ],
             [
              0.1111111111111111,
              "#46039f"
             ],
             [
              0.2222222222222222,
              "#7201a8"
             ],
             [
              0.3333333333333333,
              "#9c179e"
             ],
             [
              0.4444444444444444,
              "#bd3786"
             ],
             [
              0.5555555555555556,
              "#d8576b"
             ],
             [
              0.6666666666666666,
              "#ed7953"
             ],
             [
              0.7777777777777778,
              "#fb9f3a"
             ],
             [
              0.8888888888888888,
              "#fdca26"
             ],
             [
              1,
              "#f0f921"
             ]
            ],
            "type": "heatmapgl"
           }
          ],
          "histogram": [
           {
            "marker": {
             "pattern": {
              "fillmode": "overlay",
              "size": 10,
              "solidity": 0.2
             }
            },
            "type": "histogram"
           }
          ],
          "histogram2d": [
           {
            "colorbar": {
             "outlinewidth": 0,
             "ticks": ""
            },
            "colorscale": [
             [
              0,
              "#0d0887"
             ],
             [
              0.1111111111111111,
              "#46039f"
             ],
             [
              0.2222222222222222,
              "#7201a8"
             ],
             [
              0.3333333333333333,
              "#9c179e"
             ],
             [
              0.4444444444444444,
              "#bd3786"
             ],
             [
              0.5555555555555556,
              "#d8576b"
             ],
             [
              0.6666666666666666,
              "#ed7953"
             ],
             [
              0.7777777777777778,
              "#fb9f3a"
             ],
             [
              0.8888888888888888,
              "#fdca26"
             ],
             [
              1,
              "#f0f921"
             ]
            ],
            "type": "histogram2d"
           }
          ],
          "histogram2dcontour": [
           {
            "colorbar": {
             "outlinewidth": 0,
             "ticks": ""
            },
            "colorscale": [
             [
              0,
              "#0d0887"
             ],
             [
              0.1111111111111111,
              "#46039f"
             ],
             [
              0.2222222222222222,
              "#7201a8"
             ],
             [
              0.3333333333333333,
              "#9c179e"
             ],
             [
              0.4444444444444444,
              "#bd3786"
             ],
             [
              0.5555555555555556,
              "#d8576b"
             ],
             [
              0.6666666666666666,
              "#ed7953"
             ],
             [
              0.7777777777777778,
              "#fb9f3a"
             ],
             [
              0.8888888888888888,
              "#fdca26"
             ],
             [
              1,
              "#f0f921"
             ]
            ],
            "type": "histogram2dcontour"
           }
          ],
          "mesh3d": [
           {
            "colorbar": {
             "outlinewidth": 0,
             "ticks": ""
            },
            "type": "mesh3d"
           }
          ],
          "parcoords": [
           {
            "line": {
             "colorbar": {
              "outlinewidth": 0,
              "ticks": ""
             }
            },
            "type": "parcoords"
           }
          ],
          "pie": [
           {
            "automargin": true,
            "type": "pie"
           }
          ],
          "scatter": [
           {
            "marker": {
             "colorbar": {
              "outlinewidth": 0,
              "ticks": ""
             }
            },
            "type": "scatter"
           }
          ],
          "scatter3d": [
           {
            "line": {
             "colorbar": {
              "outlinewidth": 0,
              "ticks": ""
             }
            },
            "marker": {
             "colorbar": {
              "outlinewidth": 0,
              "ticks": ""
             }
            },
            "type": "scatter3d"
           }
          ],
          "scattercarpet": [
           {
            "marker": {
             "colorbar": {
              "outlinewidth": 0,
              "ticks": ""
             }
            },
            "type": "scattercarpet"
           }
          ],
          "scattergeo": [
           {
            "marker": {
             "colorbar": {
              "outlinewidth": 0,
              "ticks": ""
             }
            },
            "type": "scattergeo"
           }
          ],
          "scattergl": [
           {
            "marker": {
             "colorbar": {
              "outlinewidth": 0,
              "ticks": ""
             }
            },
            "type": "scattergl"
           }
          ],
          "scattermapbox": [
           {
            "marker": {
             "colorbar": {
              "outlinewidth": 0,
              "ticks": ""
             }
            },
            "type": "scattermapbox"
           }
          ],
          "scatterpolar": [
           {
            "marker": {
             "colorbar": {
              "outlinewidth": 0,
              "ticks": ""
             }
            },
            "type": "scatterpolar"
           }
          ],
          "scatterpolargl": [
           {
            "marker": {
             "colorbar": {
              "outlinewidth": 0,
              "ticks": ""
             }
            },
            "type": "scatterpolargl"
           }
          ],
          "scatterternary": [
           {
            "marker": {
             "colorbar": {
              "outlinewidth": 0,
              "ticks": ""
             }
            },
            "type": "scatterternary"
           }
          ],
          "surface": [
           {
            "colorbar": {
             "outlinewidth": 0,
             "ticks": ""
            },
            "colorscale": [
             [
              0,
              "#0d0887"
             ],
             [
              0.1111111111111111,
              "#46039f"
             ],
             [
              0.2222222222222222,
              "#7201a8"
             ],
             [
              0.3333333333333333,
              "#9c179e"
             ],
             [
              0.4444444444444444,
              "#bd3786"
             ],
             [
              0.5555555555555556,
              "#d8576b"
             ],
             [
              0.6666666666666666,
              "#ed7953"
             ],
             [
              0.7777777777777778,
              "#fb9f3a"
             ],
             [
              0.8888888888888888,
              "#fdca26"
             ],
             [
              1,
              "#f0f921"
             ]
            ],
            "type": "surface"
           }
          ],
          "table": [
           {
            "cells": {
             "fill": {
              "color": "#EBF0F8"
             },
             "line": {
              "color": "white"
             }
            },
            "header": {
             "fill": {
              "color": "#C8D4E3"
             },
             "line": {
              "color": "white"
             }
            },
            "type": "table"
           }
          ]
         },
         "layout": {
          "annotationdefaults": {
           "arrowcolor": "#2a3f5f",
           "arrowhead": 0,
           "arrowwidth": 1
          },
          "autotypenumbers": "strict",
          "coloraxis": {
           "colorbar": {
            "outlinewidth": 0,
            "ticks": ""
           }
          },
          "colorscale": {
           "diverging": [
            [
             0,
             "#8e0152"
            ],
            [
             0.1,
             "#c51b7d"
            ],
            [
             0.2,
             "#de77ae"
            ],
            [
             0.3,
             "#f1b6da"
            ],
            [
             0.4,
             "#fde0ef"
            ],
            [
             0.5,
             "#f7f7f7"
            ],
            [
             0.6,
             "#e6f5d0"
            ],
            [
             0.7,
             "#b8e186"
            ],
            [
             0.8,
             "#7fbc41"
            ],
            [
             0.9,
             "#4d9221"
            ],
            [
             1,
             "#276419"
            ]
           ],
           "sequential": [
            [
             0,
             "#0d0887"
            ],
            [
             0.1111111111111111,
             "#46039f"
            ],
            [
             0.2222222222222222,
             "#7201a8"
            ],
            [
             0.3333333333333333,
             "#9c179e"
            ],
            [
             0.4444444444444444,
             "#bd3786"
            ],
            [
             0.5555555555555556,
             "#d8576b"
            ],
            [
             0.6666666666666666,
             "#ed7953"
            ],
            [
             0.7777777777777778,
             "#fb9f3a"
            ],
            [
             0.8888888888888888,
             "#fdca26"
            ],
            [
             1,
             "#f0f921"
            ]
           ],
           "sequentialminus": [
            [
             0,
             "#0d0887"
            ],
            [
             0.1111111111111111,
             "#46039f"
            ],
            [
             0.2222222222222222,
             "#7201a8"
            ],
            [
             0.3333333333333333,
             "#9c179e"
            ],
            [
             0.4444444444444444,
             "#bd3786"
            ],
            [
             0.5555555555555556,
             "#d8576b"
            ],
            [
             0.6666666666666666,
             "#ed7953"
            ],
            [
             0.7777777777777778,
             "#fb9f3a"
            ],
            [
             0.8888888888888888,
             "#fdca26"
            ],
            [
             1,
             "#f0f921"
            ]
           ]
          },
          "colorway": [
           "#636efa",
           "#EF553B",
           "#00cc96",
           "#ab63fa",
           "#FFA15A",
           "#19d3f3",
           "#FF6692",
           "#B6E880",
           "#FF97FF",
           "#FECB52"
          ],
          "font": {
           "color": "#2a3f5f"
          },
          "geo": {
           "bgcolor": "white",
           "lakecolor": "white",
           "landcolor": "#E5ECF6",
           "showlakes": true,
           "showland": true,
           "subunitcolor": "white"
          },
          "hoverlabel": {
           "align": "left"
          },
          "hovermode": "closest",
          "mapbox": {
           "style": "light"
          },
          "paper_bgcolor": "white",
          "plot_bgcolor": "#E5ECF6",
          "polar": {
           "angularaxis": {
            "gridcolor": "white",
            "linecolor": "white",
            "ticks": ""
           },
           "bgcolor": "#E5ECF6",
           "radialaxis": {
            "gridcolor": "white",
            "linecolor": "white",
            "ticks": ""
           }
          },
          "scene": {
           "xaxis": {
            "backgroundcolor": "#E5ECF6",
            "gridcolor": "white",
            "gridwidth": 2,
            "linecolor": "white",
            "showbackground": true,
            "ticks": "",
            "zerolinecolor": "white"
           },
           "yaxis": {
            "backgroundcolor": "#E5ECF6",
            "gridcolor": "white",
            "gridwidth": 2,
            "linecolor": "white",
            "showbackground": true,
            "ticks": "",
            "zerolinecolor": "white"
           },
           "zaxis": {
            "backgroundcolor": "#E5ECF6",
            "gridcolor": "white",
            "gridwidth": 2,
            "linecolor": "white",
            "showbackground": true,
            "ticks": "",
            "zerolinecolor": "white"
           }
          },
          "shapedefaults": {
           "line": {
            "color": "#2a3f5f"
           }
          },
          "ternary": {
           "aaxis": {
            "gridcolor": "white",
            "linecolor": "white",
            "ticks": ""
           },
           "baxis": {
            "gridcolor": "white",
            "linecolor": "white",
            "ticks": ""
           },
           "bgcolor": "#E5ECF6",
           "caxis": {
            "gridcolor": "white",
            "linecolor": "white",
            "ticks": ""
           }
          },
          "title": {
           "x": 0.05
          },
          "xaxis": {
           "automargin": true,
           "gridcolor": "white",
           "linecolor": "white",
           "ticks": "",
           "title": {
            "standoff": 15
           },
           "zerolinecolor": "white",
           "zerolinewidth": 2
          },
          "yaxis": {
           "automargin": true,
           "gridcolor": "white",
           "linecolor": "white",
           "ticks": "",
           "title": {
            "standoff": 15
           },
           "zerolinecolor": "white",
           "zerolinewidth": 2
          }
         }
        },
        "title": {
         "text": "Mean Graudation Rates"
        },
        "xaxis": {
         "title": {
          "text": "Gender/Race"
         }
        },
        "yaxis": {
         "title": {
          "text": "Mean Graduation Rate"
         }
        }
       }
      },
      "text/html": [
       "<div>                            <div id=\"b9c8def6-51c0-4144-a1f0-98d3887688cb\" class=\"plotly-graph-div\" style=\"height:600px; width:100%;\"></div>            <script type=\"text/javascript\">                require([\"plotly\"], function(Plotly) {                    window.PLOTLYENV=window.PLOTLYENV || {};                                    if (document.getElementById(\"b9c8def6-51c0-4144-a1f0-98d3887688cb\")) {                    Plotly.newPlot(                        \"b9c8def6-51c0-4144-a1f0-98d3887688cb\",                        [{\"text\":[41.24,41.95,47.87,47.92,48.45,48.97,50.32,51.54,54.56,54.87,57.54,58.5,59.05],\"type\":\"bar\",\"x\":[\"Black\",\"American Indian\",\"Hispanic\",\"men\",\"two or more races\",\"Native Hawaiian\",\"unknown\",\"total cohort\",\"White\",\"women\",\"Asian/Native Hawaiian\",\"Nonresident alien\",\"Asian\"],\"y\":[41.239763196842624,41.95373665480427,47.86843373493976,47.92259786476868,48.45348837209303,48.97348886532344,50.3209219858156,51.53520518358531,54.55989110707804,54.874547101449274,57.5396391470749,58.50254452926209,59.04670793472144]}],                        {\"height\":600,\"template\":{\"data\":{\"bar\":[{\"error_x\":{\"color\":\"#2a3f5f\"},\"error_y\":{\"color\":\"#2a3f5f\"},\"marker\":{\"line\":{\"color\":\"#E5ECF6\",\"width\":0.5},\"pattern\":{\"fillmode\":\"overlay\",\"size\":10,\"solidity\":0.2}},\"type\":\"bar\"}],\"barpolar\":[{\"marker\":{\"line\":{\"color\":\"#E5ECF6\",\"width\":0.5},\"pattern\":{\"fillmode\":\"overlay\",\"size\":10,\"solidity\":0.2}},\"type\":\"barpolar\"}],\"carpet\":[{\"aaxis\":{\"endlinecolor\":\"#2a3f5f\",\"gridcolor\":\"white\",\"linecolor\":\"white\",\"minorgridcolor\":\"white\",\"startlinecolor\":\"#2a3f5f\"},\"baxis\":{\"endlinecolor\":\"#2a3f5f\",\"gridcolor\":\"white\",\"linecolor\":\"white\",\"minorgridcolor\":\"white\",\"startlinecolor\":\"#2a3f5f\"},\"type\":\"carpet\"}],\"choropleth\":[{\"colorbar\":{\"outlinewidth\":0,\"ticks\":\"\"},\"type\":\"choropleth\"}],\"contour\":[{\"colorbar\":{\"outlinewidth\":0,\"ticks\":\"\"},\"colorscale\":[[0.0,\"#0d0887\"],[0.1111111111111111,\"#46039f\"],[0.2222222222222222,\"#7201a8\"],[0.3333333333333333,\"#9c179e\"],[0.4444444444444444,\"#bd3786\"],[0.5555555555555556,\"#d8576b\"],[0.6666666666666666,\"#ed7953\"],[0.7777777777777778,\"#fb9f3a\"],[0.8888888888888888,\"#fdca26\"],[1.0,\"#f0f921\"]],\"type\":\"contour\"}],\"contourcarpet\":[{\"colorbar\":{\"outlinewidth\":0,\"ticks\":\"\"},\"type\":\"contourcarpet\"}],\"heatmap\":[{\"colorbar\":{\"outlinewidth\":0,\"ticks\":\"\"},\"colorscale\":[[0.0,\"#0d0887\"],[0.1111111111111111,\"#46039f\"],[0.2222222222222222,\"#7201a8\"],[0.3333333333333333,\"#9c179e\"],[0.4444444444444444,\"#bd3786\"],[0.5555555555555556,\"#d8576b\"],[0.6666666666666666,\"#ed7953\"],[0.7777777777777778,\"#fb9f3a\"],[0.8888888888888888,\"#fdca26\"],[1.0,\"#f0f921\"]],\"type\":\"heatmap\"}],\"heatmapgl\":[{\"colorbar\":{\"outlinewidth\":0,\"ticks\":\"\"},\"colorscale\":[[0.0,\"#0d0887\"],[0.1111111111111111,\"#46039f\"],[0.2222222222222222,\"#7201a8\"],[0.3333333333333333,\"#9c179e\"],[0.4444444444444444,\"#bd3786\"],[0.5555555555555556,\"#d8576b\"],[0.6666666666666666,\"#ed7953\"],[0.7777777777777778,\"#fb9f3a\"],[0.8888888888888888,\"#fdca26\"],[1.0,\"#f0f921\"]],\"type\":\"heatmapgl\"}],\"histogram\":[{\"marker\":{\"pattern\":{\"fillmode\":\"overlay\",\"size\":10,\"solidity\":0.2}},\"type\":\"histogram\"}],\"histogram2d\":[{\"colorbar\":{\"outlinewidth\":0,\"ticks\":\"\"},\"colorscale\":[[0.0,\"#0d0887\"],[0.1111111111111111,\"#46039f\"],[0.2222222222222222,\"#7201a8\"],[0.3333333333333333,\"#9c179e\"],[0.4444444444444444,\"#bd3786\"],[0.5555555555555556,\"#d8576b\"],[0.6666666666666666,\"#ed7953\"],[0.7777777777777778,\"#fb9f3a\"],[0.8888888888888888,\"#fdca26\"],[1.0,\"#f0f921\"]],\"type\":\"histogram2d\"}],\"histogram2dcontour\":[{\"colorbar\":{\"outlinewidth\":0,\"ticks\":\"\"},\"colorscale\":[[0.0,\"#0d0887\"],[0.1111111111111111,\"#46039f\"],[0.2222222222222222,\"#7201a8\"],[0.3333333333333333,\"#9c179e\"],[0.4444444444444444,\"#bd3786\"],[0.5555555555555556,\"#d8576b\"],[0.6666666666666666,\"#ed7953\"],[0.7777777777777778,\"#fb9f3a\"],[0.8888888888888888,\"#fdca26\"],[1.0,\"#f0f921\"]],\"type\":\"histogram2dcontour\"}],\"mesh3d\":[{\"colorbar\":{\"outlinewidth\":0,\"ticks\":\"\"},\"type\":\"mesh3d\"}],\"parcoords\":[{\"line\":{\"colorbar\":{\"outlinewidth\":0,\"ticks\":\"\"}},\"type\":\"parcoords\"}],\"pie\":[{\"automargin\":true,\"type\":\"pie\"}],\"scatter\":[{\"marker\":{\"colorbar\":{\"outlinewidth\":0,\"ticks\":\"\"}},\"type\":\"scatter\"}],\"scatter3d\":[{\"line\":{\"colorbar\":{\"outlinewidth\":0,\"ticks\":\"\"}},\"marker\":{\"colorbar\":{\"outlinewidth\":0,\"ticks\":\"\"}},\"type\":\"scatter3d\"}],\"scattercarpet\":[{\"marker\":{\"colorbar\":{\"outlinewidth\":0,\"ticks\":\"\"}},\"type\":\"scattercarpet\"}],\"scattergeo\":[{\"marker\":{\"colorbar\":{\"outlinewidth\":0,\"ticks\":\"\"}},\"type\":\"scattergeo\"}],\"scattergl\":[{\"marker\":{\"colorbar\":{\"outlinewidth\":0,\"ticks\":\"\"}},\"type\":\"scattergl\"}],\"scattermapbox\":[{\"marker\":{\"colorbar\":{\"outlinewidth\":0,\"ticks\":\"\"}},\"type\":\"scattermapbox\"}],\"scatterpolar\":[{\"marker\":{\"colorbar\":{\"outlinewidth\":0,\"ticks\":\"\"}},\"type\":\"scatterpolar\"}],\"scatterpolargl\":[{\"marker\":{\"colorbar\":{\"outlinewidth\":0,\"ticks\":\"\"}},\"type\":\"scatterpolargl\"}],\"scatterternary\":[{\"marker\":{\"colorbar\":{\"outlinewidth\":0,\"ticks\":\"\"}},\"type\":\"scatterternary\"}],\"surface\":[{\"colorbar\":{\"outlinewidth\":0,\"ticks\":\"\"},\"colorscale\":[[0.0,\"#0d0887\"],[0.1111111111111111,\"#46039f\"],[0.2222222222222222,\"#7201a8\"],[0.3333333333333333,\"#9c179e\"],[0.4444444444444444,\"#bd3786\"],[0.5555555555555556,\"#d8576b\"],[0.6666666666666666,\"#ed7953\"],[0.7777777777777778,\"#fb9f3a\"],[0.8888888888888888,\"#fdca26\"],[1.0,\"#f0f921\"]],\"type\":\"surface\"}],\"table\":[{\"cells\":{\"fill\":{\"color\":\"#EBF0F8\"},\"line\":{\"color\":\"white\"}},\"header\":{\"fill\":{\"color\":\"#C8D4E3\"},\"line\":{\"color\":\"white\"}},\"type\":\"table\"}]},\"layout\":{\"annotationdefaults\":{\"arrowcolor\":\"#2a3f5f\",\"arrowhead\":0,\"arrowwidth\":1},\"autotypenumbers\":\"strict\",\"coloraxis\":{\"colorbar\":{\"outlinewidth\":0,\"ticks\":\"\"}},\"colorscale\":{\"diverging\":[[0,\"#8e0152\"],[0.1,\"#c51b7d\"],[0.2,\"#de77ae\"],[0.3,\"#f1b6da\"],[0.4,\"#fde0ef\"],[0.5,\"#f7f7f7\"],[0.6,\"#e6f5d0\"],[0.7,\"#b8e186\"],[0.8,\"#7fbc41\"],[0.9,\"#4d9221\"],[1,\"#276419\"]],\"sequential\":[[0.0,\"#0d0887\"],[0.1111111111111111,\"#46039f\"],[0.2222222222222222,\"#7201a8\"],[0.3333333333333333,\"#9c179e\"],[0.4444444444444444,\"#bd3786\"],[0.5555555555555556,\"#d8576b\"],[0.6666666666666666,\"#ed7953\"],[0.7777777777777778,\"#fb9f3a\"],[0.8888888888888888,\"#fdca26\"],[1.0,\"#f0f921\"]],\"sequentialminus\":[[0.0,\"#0d0887\"],[0.1111111111111111,\"#46039f\"],[0.2222222222222222,\"#7201a8\"],[0.3333333333333333,\"#9c179e\"],[0.4444444444444444,\"#bd3786\"],[0.5555555555555556,\"#d8576b\"],[0.6666666666666666,\"#ed7953\"],[0.7777777777777778,\"#fb9f3a\"],[0.8888888888888888,\"#fdca26\"],[1.0,\"#f0f921\"]]},\"colorway\":[\"#636efa\",\"#EF553B\",\"#00cc96\",\"#ab63fa\",\"#FFA15A\",\"#19d3f3\",\"#FF6692\",\"#B6E880\",\"#FF97FF\",\"#FECB52\"],\"font\":{\"color\":\"#2a3f5f\"},\"geo\":{\"bgcolor\":\"white\",\"lakecolor\":\"white\",\"landcolor\":\"#E5ECF6\",\"showlakes\":true,\"showland\":true,\"subunitcolor\":\"white\"},\"hoverlabel\":{\"align\":\"left\"},\"hovermode\":\"closest\",\"mapbox\":{\"style\":\"light\"},\"paper_bgcolor\":\"white\",\"plot_bgcolor\":\"#E5ECF6\",\"polar\":{\"angularaxis\":{\"gridcolor\":\"white\",\"linecolor\":\"white\",\"ticks\":\"\"},\"bgcolor\":\"#E5ECF6\",\"radialaxis\":{\"gridcolor\":\"white\",\"linecolor\":\"white\",\"ticks\":\"\"}},\"scene\":{\"xaxis\":{\"backgroundcolor\":\"#E5ECF6\",\"gridcolor\":\"white\",\"gridwidth\":2,\"linecolor\":\"white\",\"showbackground\":true,\"ticks\":\"\",\"zerolinecolor\":\"white\"},\"yaxis\":{\"backgroundcolor\":\"#E5ECF6\",\"gridcolor\":\"white\",\"gridwidth\":2,\"linecolor\":\"white\",\"showbackground\":true,\"ticks\":\"\",\"zerolinecolor\":\"white\"},\"zaxis\":{\"backgroundcolor\":\"#E5ECF6\",\"gridcolor\":\"white\",\"gridwidth\":2,\"linecolor\":\"white\",\"showbackground\":true,\"ticks\":\"\",\"zerolinecolor\":\"white\"}},\"shapedefaults\":{\"line\":{\"color\":\"#2a3f5f\"}},\"ternary\":{\"aaxis\":{\"gridcolor\":\"white\",\"linecolor\":\"white\",\"ticks\":\"\"},\"baxis\":{\"gridcolor\":\"white\",\"linecolor\":\"white\",\"ticks\":\"\"},\"bgcolor\":\"#E5ECF6\",\"caxis\":{\"gridcolor\":\"white\",\"linecolor\":\"white\",\"ticks\":\"\"}},\"title\":{\"x\":0.05},\"xaxis\":{\"automargin\":true,\"gridcolor\":\"white\",\"linecolor\":\"white\",\"ticks\":\"\",\"title\":{\"standoff\":15},\"zerolinecolor\":\"white\",\"zerolinewidth\":2},\"yaxis\":{\"automargin\":true,\"gridcolor\":\"white\",\"linecolor\":\"white\",\"ticks\":\"\",\"title\":{\"standoff\":15},\"zerolinecolor\":\"white\",\"zerolinewidth\":2}}},\"title\":{\"text\":\"Mean Graudation Rates\"},\"xaxis\":{\"title\":{\"text\":\"Gender/Race\"}},\"yaxis\":{\"title\":{\"text\":\"Mean Graduation Rate\"}}},                        {\"responsive\": true}                    ).then(function(){\n",
       "                            \n",
       "var gd = document.getElementById('b9c8def6-51c0-4144-a1f0-98d3887688cb');\n",
       "var x = new MutationObserver(function (mutations, observer) {{\n",
       "        var display = window.getComputedStyle(gd).display;\n",
       "        if (!display || display === 'none') {{\n",
       "            console.log([gd, 'removed!']);\n",
       "            Plotly.purge(gd);\n",
       "            observer.disconnect();\n",
       "        }}\n",
       "}});\n",
       "\n",
       "// Listen for the removal of the full notebook cells\n",
       "var notebookContainer = gd.closest('#notebook-container');\n",
       "if (notebookContainer) {{\n",
       "    x.observe(notebookContainer, {childList: true});\n",
       "}}\n",
       "\n",
       "// Listen for the clearing of the current output cell\n",
       "var outputEl = gd.closest('.output');\n",
       "if (outputEl) {{\n",
       "    x.observe(outputEl, {childList: true});\n",
       "}}\n",
       "\n",
       "                        })                };                });            </script>        </div>"
      ]
     },
     "metadata": {},
     "output_type": "display_data"
    }
   ],
   "source": [
    "fig.show()"
   ]
  },
  {
   "cell_type": "markdown",
   "id": "adedbec1",
   "metadata": {
    "cell_style": "split",
    "slideshow": {
     "slide_type": "fragment"
    }
   },
   "source": [
    "<center><h3>4 year institutions<h3></center>"
   ]
  },
  {
   "cell_type": "markdown",
   "id": "da363af3",
   "metadata": {
    "cell_style": "split",
    "slideshow": {
     "slide_type": "fragment"
    }
   },
   "source": [
    "<h3><center>2019 Cohort</center></h3>"
   ]
  },
  {
   "cell_type": "markdown",
   "id": "72c81503",
   "metadata": {
    "cell_style": "split",
    "slideshow": {
     "slide_type": "fragment"
    }
   },
   "source": [
    "<center><h3>6 year Graduation Rates</h3></center>"
   ]
  },
  {
   "cell_type": "markdown",
   "id": "e626c2f3",
   "metadata": {
    "slideshow": {
     "slide_type": "slide"
    }
   },
   "source": [
    "<h1><center>Problem Statement</center></h1>"
   ]
  },
  {
   "cell_type": "markdown",
   "id": "426cc46e",
   "metadata": {
    "cell_style": "split",
    "slideshow": {
     "slide_type": "fragment"
    }
   },
   "source": [
    "## <ul><li>Problem</li></ul>\n",
    "Duquesne University is facing pressure from the community claiming that the university is underperforming particularly with students of color. The University needs to respond to the community with a data backed explanation for their past performance along with a data driven plan to improve outcome measures (Graduation Rates)"
   ]
  },
  {
   "cell_type": "markdown",
   "id": "27c85464",
   "metadata": {
    "cell_style": "split",
    "slideshow": {
     "slide_type": "fragment"
    }
   },
   "source": [
    "## <ul><li>Source of Data</li></ul>\n",
    "\n",
    "The Data Science team has access to the free publicly available Ipeds Data Center, which has data about all 4-year public and private institutions.\n",
    "\n",
    "<a src='https://nces.ed.gov/ipeds/use-the-data'>Ipeds Data Center</a>"
   ]
  },
  {
   "cell_type": "code",
   "execution_count": 11,
   "id": "523b68ad",
   "metadata": {
    "slideshow": {
     "slide_type": "skip"
    }
   },
   "outputs": [],
   "source": [
    "# Reset Our Data Frame\n",
    "df = pd.read_csv(\"data/cleaned_df.csv\", index_col=\"UnitID\")\n",
    "df.drop(\"Unnamed: 0\",axis=1, inplace=True)"
   ]
  },
  {
   "cell_type": "markdown",
   "id": "a635b6d8",
   "metadata": {
    "slideshow": {
     "slide_type": "slide"
    }
   },
   "source": [
    "<h1><center>Overview of Features</center></h1>"
   ]
  },
  {
   "cell_type": "markdown",
   "id": "db7a1f77",
   "metadata": {
    "cell_style": "split",
    "slideshow": {
     "slide_type": "fragment"
    }
   },
   "source": [
    "<h3><center>Numeric Features</center></h3>\n",
    "<center><ul>\n",
    "    <li>Revenues and Expenses</li>\n",
    "    <li>Price of School</li>\n",
    "    <li>Admissions Test Scores</li>\n",
    "    <li>Staff Diversity</li>\n",
    "    <li>Enrollment Diversity</li>\n",
    "    <li>Student-to-Faculty Ratio</li>\n",
    "</ul></center>"
   ]
  },
  {
   "cell_type": "markdown",
   "id": "7f5737ea",
   "metadata": {
    "cell_style": "split",
    "slideshow": {
     "slide_type": "fragment"
    }
   },
   "source": [
    "<h3><center>HBCU Graduation Rates Vs Non HBCU Schools</center></h3>\n",
    "<ul>\n",
    "    <li>State</li>\n",
    "    <li>Sector</li>\n",
    "    <li>Carnegie Classification</li>\n",
    "    <li>HBCU</li>\n",
    "</ul>"
   ]
  },
  {
   "cell_type": "markdown",
   "id": "8e6f9c0a",
   "metadata": {
    "slideshow": {
     "slide_type": "skip"
    }
   },
   "source": [
    "## University_lookup"
   ]
  },
  {
   "cell_type": "code",
   "execution_count": 177,
   "id": "28d76212",
   "metadata": {},
   "outputs": [
    {
     "data": {
      "text/plain": [
       "'Duquesne University'"
      ]
     },
     "execution_count": 177,
     "metadata": {},
     "output_type": "execute_result"
    }
   ],
   "source": [
    "index_loc = y_test.index[1]\n",
    "df.loc[index_loc, \"Institution Name\"]"
   ]
  },
  {
   "cell_type": "code",
   "execution_count": 100,
   "id": "38151ad5",
   "metadata": {
    "slideshow": {
     "slide_type": "skip"
    }
   },
   "outputs": [],
   "source": [
    "regex = \"Duques\"\n",
    "my_id = df[df[\"Institution Name\"].str.contains(regex)].index[0]\n",
    "sample = X_fe.loc[[my_id], :]\n",
    "iloc = df.index.get_loc(my_id)\n",
    "sample_y = df.iloc[[iloc],-14:]"
   ]
  },
  {
   "cell_type": "code",
   "execution_count": 126,
   "id": "6fdf80c7",
   "metadata": {
    "hide_input": true,
    "slideshow": {
     "slide_type": "skip"
    }
   },
   "outputs": [
    {
     "data": {
      "text/html": [
       "<div>\n",
       "<style scoped>\n",
       "    .dataframe tbody tr th:only-of-type {\n",
       "        vertical-align: middle;\n",
       "    }\n",
       "\n",
       "    .dataframe tbody tr th {\n",
       "        vertical-align: top;\n",
       "    }\n",
       "\n",
       "    .dataframe thead th {\n",
       "        text-align: right;\n",
       "    }\n",
       "</style>\n",
       "<table border=\"1\" class=\"dataframe\">\n",
       "  <thead>\n",
       "    <tr style=\"text-align: right;\">\n",
       "      <th></th>\n",
       "      <th>Graduation rate  total cohort (DRVGR2019)</th>\n",
       "      <th>Graduation rate  men (DRVGR2019)</th>\n",
       "      <th>Graduation rate  women (DRVGR2019)</th>\n",
       "      <th>Graduation rate  American Indian or Alaska Native (DRVGR2019)</th>\n",
       "      <th>Graduation rate  Asian/Native Hawaiian/Other Pacific Islander (DRVGR2019)</th>\n",
       "      <th>Graduation rate  Asian (DRVGR2019)</th>\n",
       "      <th>Graduation rate  Native Hawaiian or Other Pacific Islander (DRVGR2019)</th>\n",
       "      <th>Graduation rate  Black  non-Hispanic (DRVGR2019)</th>\n",
       "      <th>Graduation rate  Hispanic (DRVGR2019)</th>\n",
       "      <th>Graduation rate  White  non-Hispanic (DRVGR2019)</th>\n",
       "      <th>Graduation rate  two or more races (DRVGR2019)</th>\n",
       "      <th>Graduation rate  Race/ethnicity unknown (DRVGR2019)</th>\n",
       "      <th>Graduation rate  Nonresident alien (DRVGR2019)</th>\n",
       "      <th>Transfer-out rate  total cohort (DRVGR2019)</th>\n",
       "    </tr>\n",
       "    <tr>\n",
       "      <th>UnitID</th>\n",
       "      <th></th>\n",
       "      <th></th>\n",
       "      <th></th>\n",
       "      <th></th>\n",
       "      <th></th>\n",
       "      <th></th>\n",
       "      <th></th>\n",
       "      <th></th>\n",
       "      <th></th>\n",
       "      <th></th>\n",
       "      <th></th>\n",
       "      <th></th>\n",
       "      <th></th>\n",
       "      <th></th>\n",
       "    </tr>\n",
       "  </thead>\n",
       "  <tbody>\n",
       "    <tr>\n",
       "      <th>212106</th>\n",
       "      <td>81.0</td>\n",
       "      <td>77.0</td>\n",
       "      <td>83.0</td>\n",
       "      <td>100.0</td>\n",
       "      <td>60.0</td>\n",
       "      <td>57.0</td>\n",
       "      <td>100.0</td>\n",
       "      <td>56.0</td>\n",
       "      <td>79.0</td>\n",
       "      <td>83.0</td>\n",
       "      <td>71.0</td>\n",
       "      <td>77.0</td>\n",
       "      <td>50.0</td>\n",
       "      <td>NaN</td>\n",
       "    </tr>\n",
       "  </tbody>\n",
       "</table>\n",
       "</div>"
      ],
      "text/plain": [
       "        Graduation rate  total cohort (DRVGR2019)  \\\n",
       "UnitID                                              \n",
       "212106                                       81.0   \n",
       "\n",
       "        Graduation rate  men (DRVGR2019)  Graduation rate  women (DRVGR2019)  \\\n",
       "UnitID                                                                         \n",
       "212106                              77.0                                83.0   \n",
       "\n",
       "        Graduation rate  American Indian or Alaska Native (DRVGR2019)  \\\n",
       "UnitID                                                                  \n",
       "212106                                              100.0               \n",
       "\n",
       "        Graduation rate  Asian/Native Hawaiian/Other Pacific Islander (DRVGR2019)  \\\n",
       "UnitID                                                                              \n",
       "212106                                               60.0                           \n",
       "\n",
       "        Graduation rate  Asian (DRVGR2019)  \\\n",
       "UnitID                                       \n",
       "212106                                57.0   \n",
       "\n",
       "        Graduation rate  Native Hawaiian or Other Pacific Islander (DRVGR2019)  \\\n",
       "UnitID                                                                           \n",
       "212106                                              100.0                        \n",
       "\n",
       "        Graduation rate  Black  non-Hispanic (DRVGR2019)  \\\n",
       "UnitID                                                     \n",
       "212106                                              56.0   \n",
       "\n",
       "        Graduation rate  Hispanic (DRVGR2019)  \\\n",
       "UnitID                                          \n",
       "212106                                   79.0   \n",
       "\n",
       "        Graduation rate  White  non-Hispanic (DRVGR2019)  \\\n",
       "UnitID                                                     \n",
       "212106                                              83.0   \n",
       "\n",
       "        Graduation rate  two or more races (DRVGR2019)  \\\n",
       "UnitID                                                   \n",
       "212106                                            71.0   \n",
       "\n",
       "        Graduation rate  Race/ethnicity unknown (DRVGR2019)  \\\n",
       "UnitID                                                        \n",
       "212106                                               77.0     \n",
       "\n",
       "        Graduation rate  Nonresident alien (DRVGR2019)  \\\n",
       "UnitID                                                   \n",
       "212106                                            50.0   \n",
       "\n",
       "        Transfer-out rate  total cohort (DRVGR2019)  \n",
       "UnitID                                               \n",
       "212106                                          NaN  "
      ]
     },
     "execution_count": 126,
     "metadata": {},
     "output_type": "execute_result"
    }
   ],
   "source": [
    "sample_y"
   ]
  },
  {
   "cell_type": "markdown",
   "id": "1bf90f12",
   "metadata": {
    "slideshow": {
     "slide_type": "slide"
    }
   },
   "source": [
    "<h1><center>Graduation Rates By Sector</center></h1>"
   ]
  },
  {
   "cell_type": "code",
   "execution_count": 12,
   "id": "cb90f664",
   "metadata": {
    "slideshow": {
     "slide_type": "skip"
    }
   },
   "outputs": [],
   "source": [
    "sector = df.filter(regex=\"Sector\").columns[0]\n",
    "black = df.filter(regex=\"Grad.*Black\").columns[0]\n",
    "total = df.filter(regex=\"Grad\").columns[0]"
   ]
  },
  {
   "cell_type": "code",
   "execution_count": 13,
   "id": "d98d21a4",
   "metadata": {
    "slideshow": {
     "slide_type": "skip"
    }
   },
   "outputs": [],
   "source": [
    "all_sectors = df[sector].unique()\n",
    "\n",
    "sector_group = df.groupby(by=sector)\n",
    "\n",
    "grad_rate_by_sector = sector_group.agg('mean').sort_values(by=black)[[black, total]]"
   ]
  },
  {
   "cell_type": "code",
   "execution_count": 14,
   "id": "f2d2b11d",
   "metadata": {
    "code_folding": [],
    "slideshow": {
     "slide_type": "skip"
    }
   },
   "outputs": [],
   "source": [
    "grad_rate_by_sector.drop(['Public, 2-year', 'isMissing', 'Private not-for-profit, 2-year', \n",
    "                          'Private for-profit, 2-year', 'Private for-profit, less-than 2-year'],\n",
    "                         inplace=True)"
   ]
  },
  {
   "cell_type": "markdown",
   "id": "ca092adc",
   "metadata": {
    "slideshow": {
     "slide_type": "skip"
    }
   },
   "source": [
    "## BootStrap Confidence Interval for Black Graduation Rates Across Sector"
   ]
  },
  {
   "cell_type": "code",
   "execution_count": 15,
   "id": "26338607",
   "metadata": {
    "scrolled": true,
    "slideshow": {
     "slide_type": "skip"
    }
   },
   "outputs": [],
   "source": [
    "sector_error1 = cb.get_error(sector_group.get_group(all_sectors[1])[black].dropna(), np.mean, 10000)\n",
    "sector_error2 = cb.get_error(sector_group.get_group(all_sectors[2])[black].dropna(), np.mean, 10000)\n",
    "sector_error3 = cb.get_error(sector_group.get_group(all_sectors[3])[black].dropna(), np.mean, 10000)\n",
    "sector_error4 = cb.get_error(sector_group.get_group(all_sectors[1])[total].dropna(), np.mean, 10000)\n",
    "sector_error5 = cb.get_error(sector_group.get_group(all_sectors[2])[total].dropna(), np.mean, 10000)\n",
    "sector_error6 = cb.get_error(sector_group.get_group(all_sectors[3])[total].dropna(), np.mean, 10000)\n",
    "\n",
    "\n",
    "diff1 = sector_group.get_group(all_sectors[1])[total] - sector_group.get_group(all_sectors[1])[black]\n",
    "diff2 = sector_group.get_group(all_sectors[2])[total] - sector_group.get_group(all_sectors[2])[black]\n",
    "diff3 = sector_group.get_group(all_sectors[3])[total] - sector_group.get_group(all_sectors[3])[black]\n",
    "\n",
    "diff_error1 = cb.get_error(diff1.dropna(), np.mean, 10000)\n",
    "diff_error2 = cb.get_error(diff2.dropna(), np.mean, 10000)\n",
    "diff_error3 = cb.get_error(diff3.dropna(), np.mean, 10000)"
   ]
  },
  {
   "cell_type": "code",
   "execution_count": 16,
   "id": "9d3e0c69",
   "metadata": {
    "slideshow": {
     "slide_type": "skip"
    }
   },
   "outputs": [],
   "source": [
    "grad_rate_by_sector[\"Mean_Difference\"] = grad_rate_by_sector[total] - grad_rate_by_sector[black]"
   ]
  },
  {
   "cell_type": "code",
   "execution_count": 145,
   "id": "a78b6058",
   "metadata": {
    "cell_style": "center",
    "hide_input": false,
    "slideshow": {
     "slide_type": "fragment"
    }
   },
   "outputs": [
    {
     "name": "stdout",
     "output_type": "stream",
     "text": [
      "This is the format of your plot grid:\n",
      "[ (1,1) x,y,y2 ]\n",
      "\n"
     ]
    },
    {
     "data": {
      "application/vnd.plotly.v1+json": {
       "config": {
        "plotlyServerURL": "https://plot.ly"
       },
       "data": [
        {
         "error_y": {
          "array": [
           1.162296195652175,
           1.3835644937586657,
           2.9373039215686276
          ],
          "type": "data"
         },
         "name": "Total Cohort",
         "text": [
          40.8,
          48.5,
          55.8
         ],
         "type": "bar",
         "x": [
          "Private for-profit, 4-year or above",
          "Public, 4-year or above",
          "Private not-for-profit, 4-year or above"
         ],
         "xaxis": "x",
         "y": [
          40.76862745098039,
          48.486823855755894,
          55.79347826086956
         ],
         "yaxis": "y"
        },
        {
         "error_y": {
          "array": [
           1.5856570512820518,
           1.5988816738816745,
           3.9781707317073156
          ],
          "type": "data"
         },
         "name": "African American",
         "text": [
          34.9,
          37.8,
          44.8
         ],
         "type": "bar",
         "x": [
          "Private for-profit, 4-year or above",
          "Public, 4-year or above",
          "Private not-for-profit, 4-year or above"
         ],
         "xaxis": "x",
         "y": [
          34.91219512195122,
          37.81818181818182,
          44.80128205128205
         ],
         "yaxis": "y"
        },
        {
         "hoverinfo": "none",
         "mode": "lines",
         "showlegend": false,
         "type": "scatter",
         "x": [
          0,
          7
         ],
         "xaxis": "x",
         "y": [
          1
         ],
         "yaxis": "y2"
        }
       ],
       "layout": {
        "font": {
         "family": "Courier New, monospace",
         "size": 16
        },
        "template": {
         "data": {
          "bar": [
           {
            "error_x": {
             "color": "#2a3f5f"
            },
            "error_y": {
             "color": "#2a3f5f"
            },
            "marker": {
             "line": {
              "color": "#E5ECF6",
              "width": 0.5
             },
             "pattern": {
              "fillmode": "overlay",
              "size": 10,
              "solidity": 0.2
             }
            },
            "type": "bar"
           }
          ],
          "barpolar": [
           {
            "marker": {
             "line": {
              "color": "#E5ECF6",
              "width": 0.5
             },
             "pattern": {
              "fillmode": "overlay",
              "size": 10,
              "solidity": 0.2
             }
            },
            "type": "barpolar"
           }
          ],
          "carpet": [
           {
            "aaxis": {
             "endlinecolor": "#2a3f5f",
             "gridcolor": "white",
             "linecolor": "white",
             "minorgridcolor": "white",
             "startlinecolor": "#2a3f5f"
            },
            "baxis": {
             "endlinecolor": "#2a3f5f",
             "gridcolor": "white",
             "linecolor": "white",
             "minorgridcolor": "white",
             "startlinecolor": "#2a3f5f"
            },
            "type": "carpet"
           }
          ],
          "choropleth": [
           {
            "colorbar": {
             "outlinewidth": 0,
             "ticks": ""
            },
            "type": "choropleth"
           }
          ],
          "contour": [
           {
            "colorbar": {
             "outlinewidth": 0,
             "ticks": ""
            },
            "colorscale": [
             [
              0,
              "#0d0887"
             ],
             [
              0.1111111111111111,
              "#46039f"
             ],
             [
              0.2222222222222222,
              "#7201a8"
             ],
             [
              0.3333333333333333,
              "#9c179e"
             ],
             [
              0.4444444444444444,
              "#bd3786"
             ],
             [
              0.5555555555555556,
              "#d8576b"
             ],
             [
              0.6666666666666666,
              "#ed7953"
             ],
             [
              0.7777777777777778,
              "#fb9f3a"
             ],
             [
              0.8888888888888888,
              "#fdca26"
             ],
             [
              1,
              "#f0f921"
             ]
            ],
            "type": "contour"
           }
          ],
          "contourcarpet": [
           {
            "colorbar": {
             "outlinewidth": 0,
             "ticks": ""
            },
            "type": "contourcarpet"
           }
          ],
          "heatmap": [
           {
            "colorbar": {
             "outlinewidth": 0,
             "ticks": ""
            },
            "colorscale": [
             [
              0,
              "#0d0887"
             ],
             [
              0.1111111111111111,
              "#46039f"
             ],
             [
              0.2222222222222222,
              "#7201a8"
             ],
             [
              0.3333333333333333,
              "#9c179e"
             ],
             [
              0.4444444444444444,
              "#bd3786"
             ],
             [
              0.5555555555555556,
              "#d8576b"
             ],
             [
              0.6666666666666666,
              "#ed7953"
             ],
             [
              0.7777777777777778,
              "#fb9f3a"
             ],
             [
              0.8888888888888888,
              "#fdca26"
             ],
             [
              1,
              "#f0f921"
             ]
            ],
            "type": "heatmap"
           }
          ],
          "heatmapgl": [
           {
            "colorbar": {
             "outlinewidth": 0,
             "ticks": ""
            },
            "colorscale": [
             [
              0,
              "#0d0887"
             ],
             [
              0.1111111111111111,
              "#46039f"
             ],
             [
              0.2222222222222222,
              "#7201a8"
             ],
             [
              0.3333333333333333,
              "#9c179e"
             ],
             [
              0.4444444444444444,
              "#bd3786"
             ],
             [
              0.5555555555555556,
              "#d8576b"
             ],
             [
              0.6666666666666666,
              "#ed7953"
             ],
             [
              0.7777777777777778,
              "#fb9f3a"
             ],
             [
              0.8888888888888888,
              "#fdca26"
             ],
             [
              1,
              "#f0f921"
             ]
            ],
            "type": "heatmapgl"
           }
          ],
          "histogram": [
           {
            "marker": {
             "pattern": {
              "fillmode": "overlay",
              "size": 10,
              "solidity": 0.2
             }
            },
            "type": "histogram"
           }
          ],
          "histogram2d": [
           {
            "colorbar": {
             "outlinewidth": 0,
             "ticks": ""
            },
            "colorscale": [
             [
              0,
              "#0d0887"
             ],
             [
              0.1111111111111111,
              "#46039f"
             ],
             [
              0.2222222222222222,
              "#7201a8"
             ],
             [
              0.3333333333333333,
              "#9c179e"
             ],
             [
              0.4444444444444444,
              "#bd3786"
             ],
             [
              0.5555555555555556,
              "#d8576b"
             ],
             [
              0.6666666666666666,
              "#ed7953"
             ],
             [
              0.7777777777777778,
              "#fb9f3a"
             ],
             [
              0.8888888888888888,
              "#fdca26"
             ],
             [
              1,
              "#f0f921"
             ]
            ],
            "type": "histogram2d"
           }
          ],
          "histogram2dcontour": [
           {
            "colorbar": {
             "outlinewidth": 0,
             "ticks": ""
            },
            "colorscale": [
             [
              0,
              "#0d0887"
             ],
             [
              0.1111111111111111,
              "#46039f"
             ],
             [
              0.2222222222222222,
              "#7201a8"
             ],
             [
              0.3333333333333333,
              "#9c179e"
             ],
             [
              0.4444444444444444,
              "#bd3786"
             ],
             [
              0.5555555555555556,
              "#d8576b"
             ],
             [
              0.6666666666666666,
              "#ed7953"
             ],
             [
              0.7777777777777778,
              "#fb9f3a"
             ],
             [
              0.8888888888888888,
              "#fdca26"
             ],
             [
              1,
              "#f0f921"
             ]
            ],
            "type": "histogram2dcontour"
           }
          ],
          "mesh3d": [
           {
            "colorbar": {
             "outlinewidth": 0,
             "ticks": ""
            },
            "type": "mesh3d"
           }
          ],
          "parcoords": [
           {
            "line": {
             "colorbar": {
              "outlinewidth": 0,
              "ticks": ""
             }
            },
            "type": "parcoords"
           }
          ],
          "pie": [
           {
            "automargin": true,
            "type": "pie"
           }
          ],
          "scatter": [
           {
            "marker": {
             "colorbar": {
              "outlinewidth": 0,
              "ticks": ""
             }
            },
            "type": "scatter"
           }
          ],
          "scatter3d": [
           {
            "line": {
             "colorbar": {
              "outlinewidth": 0,
              "ticks": ""
             }
            },
            "marker": {
             "colorbar": {
              "outlinewidth": 0,
              "ticks": ""
             }
            },
            "type": "scatter3d"
           }
          ],
          "scattercarpet": [
           {
            "marker": {
             "colorbar": {
              "outlinewidth": 0,
              "ticks": ""
             }
            },
            "type": "scattercarpet"
           }
          ],
          "scattergeo": [
           {
            "marker": {
             "colorbar": {
              "outlinewidth": 0,
              "ticks": ""
             }
            },
            "type": "scattergeo"
           }
          ],
          "scattergl": [
           {
            "marker": {
             "colorbar": {
              "outlinewidth": 0,
              "ticks": ""
             }
            },
            "type": "scattergl"
           }
          ],
          "scattermapbox": [
           {
            "marker": {
             "colorbar": {
              "outlinewidth": 0,
              "ticks": ""
             }
            },
            "type": "scattermapbox"
           }
          ],
          "scatterpolar": [
           {
            "marker": {
             "colorbar": {
              "outlinewidth": 0,
              "ticks": ""
             }
            },
            "type": "scatterpolar"
           }
          ],
          "scatterpolargl": [
           {
            "marker": {
             "colorbar": {
              "outlinewidth": 0,
              "ticks": ""
             }
            },
            "type": "scatterpolargl"
           }
          ],
          "scatterternary": [
           {
            "marker": {
             "colorbar": {
              "outlinewidth": 0,
              "ticks": ""
             }
            },
            "type": "scatterternary"
           }
          ],
          "surface": [
           {
            "colorbar": {
             "outlinewidth": 0,
             "ticks": ""
            },
            "colorscale": [
             [
              0,
              "#0d0887"
             ],
             [
              0.1111111111111111,
              "#46039f"
             ],
             [
              0.2222222222222222,
              "#7201a8"
             ],
             [
              0.3333333333333333,
              "#9c179e"
             ],
             [
              0.4444444444444444,
              "#bd3786"
             ],
             [
              0.5555555555555556,
              "#d8576b"
             ],
             [
              0.6666666666666666,
              "#ed7953"
             ],
             [
              0.7777777777777778,
              "#fb9f3a"
             ],
             [
              0.8888888888888888,
              "#fdca26"
             ],
             [
              1,
              "#f0f921"
             ]
            ],
            "type": "surface"
           }
          ],
          "table": [
           {
            "cells": {
             "fill": {
              "color": "#EBF0F8"
             },
             "line": {
              "color": "white"
             }
            },
            "header": {
             "fill": {
              "color": "#C8D4E3"
             },
             "line": {
              "color": "white"
             }
            },
            "type": "table"
           }
          ]
         },
         "layout": {
          "annotationdefaults": {
           "arrowcolor": "#2a3f5f",
           "arrowhead": 0,
           "arrowwidth": 1
          },
          "autotypenumbers": "strict",
          "coloraxis": {
           "colorbar": {
            "outlinewidth": 0,
            "ticks": ""
           }
          },
          "colorscale": {
           "diverging": [
            [
             0,
             "#8e0152"
            ],
            [
             0.1,
             "#c51b7d"
            ],
            [
             0.2,
             "#de77ae"
            ],
            [
             0.3,
             "#f1b6da"
            ],
            [
             0.4,
             "#fde0ef"
            ],
            [
             0.5,
             "#f7f7f7"
            ],
            [
             0.6,
             "#e6f5d0"
            ],
            [
             0.7,
             "#b8e186"
            ],
            [
             0.8,
             "#7fbc41"
            ],
            [
             0.9,
             "#4d9221"
            ],
            [
             1,
             "#276419"
            ]
           ],
           "sequential": [
            [
             0,
             "#0d0887"
            ],
            [
             0.1111111111111111,
             "#46039f"
            ],
            [
             0.2222222222222222,
             "#7201a8"
            ],
            [
             0.3333333333333333,
             "#9c179e"
            ],
            [
             0.4444444444444444,
             "#bd3786"
            ],
            [
             0.5555555555555556,
             "#d8576b"
            ],
            [
             0.6666666666666666,
             "#ed7953"
            ],
            [
             0.7777777777777778,
             "#fb9f3a"
            ],
            [
             0.8888888888888888,
             "#fdca26"
            ],
            [
             1,
             "#f0f921"
            ]
           ],
           "sequentialminus": [
            [
             0,
             "#0d0887"
            ],
            [
             0.1111111111111111,
             "#46039f"
            ],
            [
             0.2222222222222222,
             "#7201a8"
            ],
            [
             0.3333333333333333,
             "#9c179e"
            ],
            [
             0.4444444444444444,
             "#bd3786"
            ],
            [
             0.5555555555555556,
             "#d8576b"
            ],
            [
             0.6666666666666666,
             "#ed7953"
            ],
            [
             0.7777777777777778,
             "#fb9f3a"
            ],
            [
             0.8888888888888888,
             "#fdca26"
            ],
            [
             1,
             "#f0f921"
            ]
           ]
          },
          "colorway": [
           "#636efa",
           "#EF553B",
           "#00cc96",
           "#ab63fa",
           "#FFA15A",
           "#19d3f3",
           "#FF6692",
           "#B6E880",
           "#FF97FF",
           "#FECB52"
          ],
          "font": {
           "color": "#2a3f5f"
          },
          "geo": {
           "bgcolor": "white",
           "lakecolor": "white",
           "landcolor": "#E5ECF6",
           "showlakes": true,
           "showland": true,
           "subunitcolor": "white"
          },
          "hoverlabel": {
           "align": "left"
          },
          "hovermode": "closest",
          "mapbox": {
           "style": "light"
          },
          "paper_bgcolor": "white",
          "plot_bgcolor": "#E5ECF6",
          "polar": {
           "angularaxis": {
            "gridcolor": "white",
            "linecolor": "white",
            "ticks": ""
           },
           "bgcolor": "#E5ECF6",
           "radialaxis": {
            "gridcolor": "white",
            "linecolor": "white",
            "ticks": ""
           }
          },
          "scene": {
           "xaxis": {
            "backgroundcolor": "#E5ECF6",
            "gridcolor": "white",
            "gridwidth": 2,
            "linecolor": "white",
            "showbackground": true,
            "ticks": "",
            "zerolinecolor": "white"
           },
           "yaxis": {
            "backgroundcolor": "#E5ECF6",
            "gridcolor": "white",
            "gridwidth": 2,
            "linecolor": "white",
            "showbackground": true,
            "ticks": "",
            "zerolinecolor": "white"
           },
           "zaxis": {
            "backgroundcolor": "#E5ECF6",
            "gridcolor": "white",
            "gridwidth": 2,
            "linecolor": "white",
            "showbackground": true,
            "ticks": "",
            "zerolinecolor": "white"
           }
          },
          "shapedefaults": {
           "line": {
            "color": "#2a3f5f"
           }
          },
          "ternary": {
           "aaxis": {
            "gridcolor": "white",
            "linecolor": "white",
            "ticks": ""
           },
           "baxis": {
            "gridcolor": "white",
            "linecolor": "white",
            "ticks": ""
           },
           "bgcolor": "#E5ECF6",
           "caxis": {
            "gridcolor": "white",
            "linecolor": "white",
            "ticks": ""
           }
          },
          "title": {
           "x": 0.05
          },
          "xaxis": {
           "automargin": true,
           "gridcolor": "white",
           "linecolor": "white",
           "ticks": "",
           "title": {
            "standoff": 15
           },
           "zerolinecolor": "white",
           "zerolinewidth": 2
          },
          "yaxis": {
           "automargin": true,
           "gridcolor": "white",
           "linecolor": "white",
           "ticks": "",
           "title": {
            "standoff": 15
           },
           "zerolinecolor": "white",
           "zerolinewidth": 2
          }
         }
        },
        "title": {
         "text": "Mean Graduation Rates By Sector of Institution"
        },
        "xaxis": {
         "anchor": "y",
         "domain": [
          0,
          0.94
         ],
         "title": {
          "text": "Sector"
         }
        },
        "yaxis": {
         "anchor": "x",
         "domain": [
          0,
          1
         ],
         "title": {
          "text": "Mean Graduation Rate"
         }
        },
        "yaxis2": {
         "anchor": "x",
         "overlaying": "y",
         "side": "right"
        }
       }
      },
      "text/html": [
       "<div>                            <div id=\"72476ae4-2624-4e9d-93b0-37939bd1d7e6\" class=\"plotly-graph-div\" style=\"height:525px; width:100%;\"></div>            <script type=\"text/javascript\">                require([\"plotly\"], function(Plotly) {                    window.PLOTLYENV=window.PLOTLYENV || {};                                    if (document.getElementById(\"72476ae4-2624-4e9d-93b0-37939bd1d7e6\")) {                    Plotly.newPlot(                        \"72476ae4-2624-4e9d-93b0-37939bd1d7e6\",                        [{\"error_y\":{\"array\":[1.162296195652175,1.3835644937586657,2.9373039215686276],\"type\":\"data\"},\"name\":\"Total Cohort\",\"text\":[40.8,48.5,55.8],\"type\":\"bar\",\"x\":[\"Private for-profit, 4-year or above\",\"Public, 4-year or above\",\"Private not-for-profit, 4-year or above\"],\"xaxis\":\"x\",\"y\":[40.76862745098039,48.486823855755894,55.79347826086956],\"yaxis\":\"y\"},{\"error_y\":{\"array\":[1.5856570512820518,1.5988816738816745,3.9781707317073156],\"type\":\"data\"},\"name\":\"African American\",\"text\":[34.9,37.8,44.8],\"type\":\"bar\",\"x\":[\"Private for-profit, 4-year or above\",\"Public, 4-year or above\",\"Private not-for-profit, 4-year or above\"],\"xaxis\":\"x\",\"y\":[34.91219512195122,37.81818181818182,44.80128205128205],\"yaxis\":\"y\"},{\"hoverinfo\":\"none\",\"mode\":\"lines\",\"showlegend\":false,\"type\":\"scatter\",\"x\":[0,7],\"xaxis\":\"x\",\"y\":[1],\"yaxis\":\"y2\"}],                        {\"font\":{\"family\":\"Courier New, monospace\",\"size\":16},\"template\":{\"data\":{\"bar\":[{\"error_x\":{\"color\":\"#2a3f5f\"},\"error_y\":{\"color\":\"#2a3f5f\"},\"marker\":{\"line\":{\"color\":\"#E5ECF6\",\"width\":0.5},\"pattern\":{\"fillmode\":\"overlay\",\"size\":10,\"solidity\":0.2}},\"type\":\"bar\"}],\"barpolar\":[{\"marker\":{\"line\":{\"color\":\"#E5ECF6\",\"width\":0.5},\"pattern\":{\"fillmode\":\"overlay\",\"size\":10,\"solidity\":0.2}},\"type\":\"barpolar\"}],\"carpet\":[{\"aaxis\":{\"endlinecolor\":\"#2a3f5f\",\"gridcolor\":\"white\",\"linecolor\":\"white\",\"minorgridcolor\":\"white\",\"startlinecolor\":\"#2a3f5f\"},\"baxis\":{\"endlinecolor\":\"#2a3f5f\",\"gridcolor\":\"white\",\"linecolor\":\"white\",\"minorgridcolor\":\"white\",\"startlinecolor\":\"#2a3f5f\"},\"type\":\"carpet\"}],\"choropleth\":[{\"colorbar\":{\"outlinewidth\":0,\"ticks\":\"\"},\"type\":\"choropleth\"}],\"contour\":[{\"colorbar\":{\"outlinewidth\":0,\"ticks\":\"\"},\"colorscale\":[[0.0,\"#0d0887\"],[0.1111111111111111,\"#46039f\"],[0.2222222222222222,\"#7201a8\"],[0.3333333333333333,\"#9c179e\"],[0.4444444444444444,\"#bd3786\"],[0.5555555555555556,\"#d8576b\"],[0.6666666666666666,\"#ed7953\"],[0.7777777777777778,\"#fb9f3a\"],[0.8888888888888888,\"#fdca26\"],[1.0,\"#f0f921\"]],\"type\":\"contour\"}],\"contourcarpet\":[{\"colorbar\":{\"outlinewidth\":0,\"ticks\":\"\"},\"type\":\"contourcarpet\"}],\"heatmap\":[{\"colorbar\":{\"outlinewidth\":0,\"ticks\":\"\"},\"colorscale\":[[0.0,\"#0d0887\"],[0.1111111111111111,\"#46039f\"],[0.2222222222222222,\"#7201a8\"],[0.3333333333333333,\"#9c179e\"],[0.4444444444444444,\"#bd3786\"],[0.5555555555555556,\"#d8576b\"],[0.6666666666666666,\"#ed7953\"],[0.7777777777777778,\"#fb9f3a\"],[0.8888888888888888,\"#fdca26\"],[1.0,\"#f0f921\"]],\"type\":\"heatmap\"}],\"heatmapgl\":[{\"colorbar\":{\"outlinewidth\":0,\"ticks\":\"\"},\"colorscale\":[[0.0,\"#0d0887\"],[0.1111111111111111,\"#46039f\"],[0.2222222222222222,\"#7201a8\"],[0.3333333333333333,\"#9c179e\"],[0.4444444444444444,\"#bd3786\"],[0.5555555555555556,\"#d8576b\"],[0.6666666666666666,\"#ed7953\"],[0.7777777777777778,\"#fb9f3a\"],[0.8888888888888888,\"#fdca26\"],[1.0,\"#f0f921\"]],\"type\":\"heatmapgl\"}],\"histogram\":[{\"marker\":{\"pattern\":{\"fillmode\":\"overlay\",\"size\":10,\"solidity\":0.2}},\"type\":\"histogram\"}],\"histogram2d\":[{\"colorbar\":{\"outlinewidth\":0,\"ticks\":\"\"},\"colorscale\":[[0.0,\"#0d0887\"],[0.1111111111111111,\"#46039f\"],[0.2222222222222222,\"#7201a8\"],[0.3333333333333333,\"#9c179e\"],[0.4444444444444444,\"#bd3786\"],[0.5555555555555556,\"#d8576b\"],[0.6666666666666666,\"#ed7953\"],[0.7777777777777778,\"#fb9f3a\"],[0.8888888888888888,\"#fdca26\"],[1.0,\"#f0f921\"]],\"type\":\"histogram2d\"}],\"histogram2dcontour\":[{\"colorbar\":{\"outlinewidth\":0,\"ticks\":\"\"},\"colorscale\":[[0.0,\"#0d0887\"],[0.1111111111111111,\"#46039f\"],[0.2222222222222222,\"#7201a8\"],[0.3333333333333333,\"#9c179e\"],[0.4444444444444444,\"#bd3786\"],[0.5555555555555556,\"#d8576b\"],[0.6666666666666666,\"#ed7953\"],[0.7777777777777778,\"#fb9f3a\"],[0.8888888888888888,\"#fdca26\"],[1.0,\"#f0f921\"]],\"type\":\"histogram2dcontour\"}],\"mesh3d\":[{\"colorbar\":{\"outlinewidth\":0,\"ticks\":\"\"},\"type\":\"mesh3d\"}],\"parcoords\":[{\"line\":{\"colorbar\":{\"outlinewidth\":0,\"ticks\":\"\"}},\"type\":\"parcoords\"}],\"pie\":[{\"automargin\":true,\"type\":\"pie\"}],\"scatter\":[{\"marker\":{\"colorbar\":{\"outlinewidth\":0,\"ticks\":\"\"}},\"type\":\"scatter\"}],\"scatter3d\":[{\"line\":{\"colorbar\":{\"outlinewidth\":0,\"ticks\":\"\"}},\"marker\":{\"colorbar\":{\"outlinewidth\":0,\"ticks\":\"\"}},\"type\":\"scatter3d\"}],\"scattercarpet\":[{\"marker\":{\"colorbar\":{\"outlinewidth\":0,\"ticks\":\"\"}},\"type\":\"scattercarpet\"}],\"scattergeo\":[{\"marker\":{\"colorbar\":{\"outlinewidth\":0,\"ticks\":\"\"}},\"type\":\"scattergeo\"}],\"scattergl\":[{\"marker\":{\"colorbar\":{\"outlinewidth\":0,\"ticks\":\"\"}},\"type\":\"scattergl\"}],\"scattermapbox\":[{\"marker\":{\"colorbar\":{\"outlinewidth\":0,\"ticks\":\"\"}},\"type\":\"scattermapbox\"}],\"scatterpolar\":[{\"marker\":{\"colorbar\":{\"outlinewidth\":0,\"ticks\":\"\"}},\"type\":\"scatterpolar\"}],\"scatterpolargl\":[{\"marker\":{\"colorbar\":{\"outlinewidth\":0,\"ticks\":\"\"}},\"type\":\"scatterpolargl\"}],\"scatterternary\":[{\"marker\":{\"colorbar\":{\"outlinewidth\":0,\"ticks\":\"\"}},\"type\":\"scatterternary\"}],\"surface\":[{\"colorbar\":{\"outlinewidth\":0,\"ticks\":\"\"},\"colorscale\":[[0.0,\"#0d0887\"],[0.1111111111111111,\"#46039f\"],[0.2222222222222222,\"#7201a8\"],[0.3333333333333333,\"#9c179e\"],[0.4444444444444444,\"#bd3786\"],[0.5555555555555556,\"#d8576b\"],[0.6666666666666666,\"#ed7953\"],[0.7777777777777778,\"#fb9f3a\"],[0.8888888888888888,\"#fdca26\"],[1.0,\"#f0f921\"]],\"type\":\"surface\"}],\"table\":[{\"cells\":{\"fill\":{\"color\":\"#EBF0F8\"},\"line\":{\"color\":\"white\"}},\"header\":{\"fill\":{\"color\":\"#C8D4E3\"},\"line\":{\"color\":\"white\"}},\"type\":\"table\"}]},\"layout\":{\"annotationdefaults\":{\"arrowcolor\":\"#2a3f5f\",\"arrowhead\":0,\"arrowwidth\":1},\"autotypenumbers\":\"strict\",\"coloraxis\":{\"colorbar\":{\"outlinewidth\":0,\"ticks\":\"\"}},\"colorscale\":{\"diverging\":[[0,\"#8e0152\"],[0.1,\"#c51b7d\"],[0.2,\"#de77ae\"],[0.3,\"#f1b6da\"],[0.4,\"#fde0ef\"],[0.5,\"#f7f7f7\"],[0.6,\"#e6f5d0\"],[0.7,\"#b8e186\"],[0.8,\"#7fbc41\"],[0.9,\"#4d9221\"],[1,\"#276419\"]],\"sequential\":[[0.0,\"#0d0887\"],[0.1111111111111111,\"#46039f\"],[0.2222222222222222,\"#7201a8\"],[0.3333333333333333,\"#9c179e\"],[0.4444444444444444,\"#bd3786\"],[0.5555555555555556,\"#d8576b\"],[0.6666666666666666,\"#ed7953\"],[0.7777777777777778,\"#fb9f3a\"],[0.8888888888888888,\"#fdca26\"],[1.0,\"#f0f921\"]],\"sequentialminus\":[[0.0,\"#0d0887\"],[0.1111111111111111,\"#46039f\"],[0.2222222222222222,\"#7201a8\"],[0.3333333333333333,\"#9c179e\"],[0.4444444444444444,\"#bd3786\"],[0.5555555555555556,\"#d8576b\"],[0.6666666666666666,\"#ed7953\"],[0.7777777777777778,\"#fb9f3a\"],[0.8888888888888888,\"#fdca26\"],[1.0,\"#f0f921\"]]},\"colorway\":[\"#636efa\",\"#EF553B\",\"#00cc96\",\"#ab63fa\",\"#FFA15A\",\"#19d3f3\",\"#FF6692\",\"#B6E880\",\"#FF97FF\",\"#FECB52\"],\"font\":{\"color\":\"#2a3f5f\"},\"geo\":{\"bgcolor\":\"white\",\"lakecolor\":\"white\",\"landcolor\":\"#E5ECF6\",\"showlakes\":true,\"showland\":true,\"subunitcolor\":\"white\"},\"hoverlabel\":{\"align\":\"left\"},\"hovermode\":\"closest\",\"mapbox\":{\"style\":\"light\"},\"paper_bgcolor\":\"white\",\"plot_bgcolor\":\"#E5ECF6\",\"polar\":{\"angularaxis\":{\"gridcolor\":\"white\",\"linecolor\":\"white\",\"ticks\":\"\"},\"bgcolor\":\"#E5ECF6\",\"radialaxis\":{\"gridcolor\":\"white\",\"linecolor\":\"white\",\"ticks\":\"\"}},\"scene\":{\"xaxis\":{\"backgroundcolor\":\"#E5ECF6\",\"gridcolor\":\"white\",\"gridwidth\":2,\"linecolor\":\"white\",\"showbackground\":true,\"ticks\":\"\",\"zerolinecolor\":\"white\"},\"yaxis\":{\"backgroundcolor\":\"#E5ECF6\",\"gridcolor\":\"white\",\"gridwidth\":2,\"linecolor\":\"white\",\"showbackground\":true,\"ticks\":\"\",\"zerolinecolor\":\"white\"},\"zaxis\":{\"backgroundcolor\":\"#E5ECF6\",\"gridcolor\":\"white\",\"gridwidth\":2,\"linecolor\":\"white\",\"showbackground\":true,\"ticks\":\"\",\"zerolinecolor\":\"white\"}},\"shapedefaults\":{\"line\":{\"color\":\"#2a3f5f\"}},\"ternary\":{\"aaxis\":{\"gridcolor\":\"white\",\"linecolor\":\"white\",\"ticks\":\"\"},\"baxis\":{\"gridcolor\":\"white\",\"linecolor\":\"white\",\"ticks\":\"\"},\"bgcolor\":\"#E5ECF6\",\"caxis\":{\"gridcolor\":\"white\",\"linecolor\":\"white\",\"ticks\":\"\"}},\"title\":{\"x\":0.05},\"xaxis\":{\"automargin\":true,\"gridcolor\":\"white\",\"linecolor\":\"white\",\"ticks\":\"\",\"title\":{\"standoff\":15},\"zerolinecolor\":\"white\",\"zerolinewidth\":2},\"yaxis\":{\"automargin\":true,\"gridcolor\":\"white\",\"linecolor\":\"white\",\"ticks\":\"\",\"title\":{\"standoff\":15},\"zerolinecolor\":\"white\",\"zerolinewidth\":2}}},\"title\":{\"text\":\"Mean Graduation Rates By Sector of Institution\"},\"xaxis\":{\"anchor\":\"y\",\"domain\":[0.0,0.94],\"title\":{\"text\":\"Sector\"}},\"yaxis\":{\"anchor\":\"x\",\"domain\":[0.0,1.0],\"title\":{\"text\":\"Mean Graduation Rate\"}},\"yaxis2\":{\"anchor\":\"x\",\"overlaying\":\"y\",\"side\":\"right\"}},                        {\"responsive\": true}                    ).then(function(){\n",
       "                            \n",
       "var gd = document.getElementById('72476ae4-2624-4e9d-93b0-37939bd1d7e6');\n",
       "var x = new MutationObserver(function (mutations, observer) {{\n",
       "        var display = window.getComputedStyle(gd).display;\n",
       "        if (!display || display === 'none') {{\n",
       "            console.log([gd, 'removed!']);\n",
       "            Plotly.purge(gd);\n",
       "            observer.disconnect();\n",
       "        }}\n",
       "}});\n",
       "\n",
       "// Listen for the removal of the full notebook cells\n",
       "var notebookContainer = gd.closest('#notebook-container');\n",
       "if (notebookContainer) {{\n",
       "    x.observe(notebookContainer, {childList: true});\n",
       "}}\n",
       "\n",
       "// Listen for the clearing of the current output cell\n",
       "var outputEl = gd.closest('.output');\n",
       "if (outputEl) {{\n",
       "    x.observe(outputEl, {childList: true});\n",
       "}}\n",
       "\n",
       "                        })                };                });            </script>        </div>"
      ]
     },
     "metadata": {},
     "output_type": "display_data"
    }
   ],
   "source": [
    "fig = make_subplots(2,1)\n",
    "\n",
    "line = go.Scatter(\n",
    "    y=[0, 1],x=[7, 7],mode= 'lines',\n",
    "    showlegend=False, hoverinfo='none'\n",
    ")\n",
    "\n",
    "bar1 =  go.Bar(\n",
    "    x=grad_rate_by_sector.index, y=grad_rate_by_sector[total], \n",
    "    text=np.round(grad_rate_by_sector[total], 1), name=\"Total Cohort\",\n",
    "    error_y=dict(type='data', array=[sector_error4, sector_error5, sector_error6]))\n",
    "\n",
    "bar2 = go.Bar(\n",
    "    x=grad_rate_by_sector.index, y=grad_rate_by_sector[black], \n",
    "    text=np.round(grad_rate_by_sector[black], 1), name=\"African American\",\n",
    "    error_y=dict(type='data', array=[sector_error1, sector_error2, sector_error3]),\n",
    ")\n",
    "fig.add_trace(bar1, 1, 1, secondary_y)\n",
    "fig.add_trace(line, 1, 1, secondary_y=True)\n",
    "\n",
    "_ = fig.update_layout(\n",
    "    title=\"Mean Graduation Rates By Sector of Institution\",\n",
    "    xaxis={\n",
    "        'title': \"Sector\"\n",
    "    },\n",
    "    yaxis={\n",
    "        'title': 'Mean Graduation Rate'\n",
    "    },\n",
    "    font=dict(\n",
    "        family=\"Courier New, monospace\",\n",
    "        size=16,\n",
    "    )\n",
    ")\n",
    "fig.show()"
   ]
  },
  {
   "cell_type": "markdown",
   "id": "a48e3b59",
   "metadata": {
    "slideshow": {
     "slide_type": "fragment"
    }
   },
   "source": [
    "<h4><li><center>Difference Between African American Graduation Rates and Total Cohort Graduation</center></li></h4>"
   ]
  },
  {
   "cell_type": "code",
   "execution_count": 18,
   "id": "655796d3",
   "metadata": {
    "cell_style": "center",
    "hide_input": false,
    "scrolled": false,
    "slideshow": {
     "slide_type": "fragment"
    }
   },
   "outputs": [
    {
     "data": {
      "application/vnd.plotly.v1+json": {
       "config": {
        "plotlyServerURL": "https://plot.ly"
       },
       "data": [
        {
         "error_y": {
          "array": [
           1.079223901098901,
           0.8622113997113994,
           2.6975609756097563
          ],
          "type": "data"
         },
         "name": "Difference of Means",
         "text": [
          5.9,
          10.7,
          11
         ],
         "type": "bar",
         "x": [
          "Private for-profit, 4-year or above",
          "Public, 4-year or above",
          "Private not-for-profit, 4-year or above"
         ],
         "y": [
          5.856432329029168,
          10.668642037574074,
          10.992196209587512
         ]
        }
       ],
       "layout": {
        "font": {
         "family": "Courier New, monospace",
         "size": 16
        },
        "template": {
         "data": {
          "bar": [
           {
            "error_x": {
             "color": "#2a3f5f"
            },
            "error_y": {
             "color": "#2a3f5f"
            },
            "marker": {
             "line": {
              "color": "#E5ECF6",
              "width": 0.5
             },
             "pattern": {
              "fillmode": "overlay",
              "size": 10,
              "solidity": 0.2
             }
            },
            "type": "bar"
           }
          ],
          "barpolar": [
           {
            "marker": {
             "line": {
              "color": "#E5ECF6",
              "width": 0.5
             },
             "pattern": {
              "fillmode": "overlay",
              "size": 10,
              "solidity": 0.2
             }
            },
            "type": "barpolar"
           }
          ],
          "carpet": [
           {
            "aaxis": {
             "endlinecolor": "#2a3f5f",
             "gridcolor": "white",
             "linecolor": "white",
             "minorgridcolor": "white",
             "startlinecolor": "#2a3f5f"
            },
            "baxis": {
             "endlinecolor": "#2a3f5f",
             "gridcolor": "white",
             "linecolor": "white",
             "minorgridcolor": "white",
             "startlinecolor": "#2a3f5f"
            },
            "type": "carpet"
           }
          ],
          "choropleth": [
           {
            "colorbar": {
             "outlinewidth": 0,
             "ticks": ""
            },
            "type": "choropleth"
           }
          ],
          "contour": [
           {
            "colorbar": {
             "outlinewidth": 0,
             "ticks": ""
            },
            "colorscale": [
             [
              0,
              "#0d0887"
             ],
             [
              0.1111111111111111,
              "#46039f"
             ],
             [
              0.2222222222222222,
              "#7201a8"
             ],
             [
              0.3333333333333333,
              "#9c179e"
             ],
             [
              0.4444444444444444,
              "#bd3786"
             ],
             [
              0.5555555555555556,
              "#d8576b"
             ],
             [
              0.6666666666666666,
              "#ed7953"
             ],
             [
              0.7777777777777778,
              "#fb9f3a"
             ],
             [
              0.8888888888888888,
              "#fdca26"
             ],
             [
              1,
              "#f0f921"
             ]
            ],
            "type": "contour"
           }
          ],
          "contourcarpet": [
           {
            "colorbar": {
             "outlinewidth": 0,
             "ticks": ""
            },
            "type": "contourcarpet"
           }
          ],
          "heatmap": [
           {
            "colorbar": {
             "outlinewidth": 0,
             "ticks": ""
            },
            "colorscale": [
             [
              0,
              "#0d0887"
             ],
             [
              0.1111111111111111,
              "#46039f"
             ],
             [
              0.2222222222222222,
              "#7201a8"
             ],
             [
              0.3333333333333333,
              "#9c179e"
             ],
             [
              0.4444444444444444,
              "#bd3786"
             ],
             [
              0.5555555555555556,
              "#d8576b"
             ],
             [
              0.6666666666666666,
              "#ed7953"
             ],
             [
              0.7777777777777778,
              "#fb9f3a"
             ],
             [
              0.8888888888888888,
              "#fdca26"
             ],
             [
              1,
              "#f0f921"
             ]
            ],
            "type": "heatmap"
           }
          ],
          "heatmapgl": [
           {
            "colorbar": {
             "outlinewidth": 0,
             "ticks": ""
            },
            "colorscale": [
             [
              0,
              "#0d0887"
             ],
             [
              0.1111111111111111,
              "#46039f"
             ],
             [
              0.2222222222222222,
              "#7201a8"
             ],
             [
              0.3333333333333333,
              "#9c179e"
             ],
             [
              0.4444444444444444,
              "#bd3786"
             ],
             [
              0.5555555555555556,
              "#d8576b"
             ],
             [
              0.6666666666666666,
              "#ed7953"
             ],
             [
              0.7777777777777778,
              "#fb9f3a"
             ],
             [
              0.8888888888888888,
              "#fdca26"
             ],
             [
              1,
              "#f0f921"
             ]
            ],
            "type": "heatmapgl"
           }
          ],
          "histogram": [
           {
            "marker": {
             "pattern": {
              "fillmode": "overlay",
              "size": 10,
              "solidity": 0.2
             }
            },
            "type": "histogram"
           }
          ],
          "histogram2d": [
           {
            "colorbar": {
             "outlinewidth": 0,
             "ticks": ""
            },
            "colorscale": [
             [
              0,
              "#0d0887"
             ],
             [
              0.1111111111111111,
              "#46039f"
             ],
             [
              0.2222222222222222,
              "#7201a8"
             ],
             [
              0.3333333333333333,
              "#9c179e"
             ],
             [
              0.4444444444444444,
              "#bd3786"
             ],
             [
              0.5555555555555556,
              "#d8576b"
             ],
             [
              0.6666666666666666,
              "#ed7953"
             ],
             [
              0.7777777777777778,
              "#fb9f3a"
             ],
             [
              0.8888888888888888,
              "#fdca26"
             ],
             [
              1,
              "#f0f921"
             ]
            ],
            "type": "histogram2d"
           }
          ],
          "histogram2dcontour": [
           {
            "colorbar": {
             "outlinewidth": 0,
             "ticks": ""
            },
            "colorscale": [
             [
              0,
              "#0d0887"
             ],
             [
              0.1111111111111111,
              "#46039f"
             ],
             [
              0.2222222222222222,
              "#7201a8"
             ],
             [
              0.3333333333333333,
              "#9c179e"
             ],
             [
              0.4444444444444444,
              "#bd3786"
             ],
             [
              0.5555555555555556,
              "#d8576b"
             ],
             [
              0.6666666666666666,
              "#ed7953"
             ],
             [
              0.7777777777777778,
              "#fb9f3a"
             ],
             [
              0.8888888888888888,
              "#fdca26"
             ],
             [
              1,
              "#f0f921"
             ]
            ],
            "type": "histogram2dcontour"
           }
          ],
          "mesh3d": [
           {
            "colorbar": {
             "outlinewidth": 0,
             "ticks": ""
            },
            "type": "mesh3d"
           }
          ],
          "parcoords": [
           {
            "line": {
             "colorbar": {
              "outlinewidth": 0,
              "ticks": ""
             }
            },
            "type": "parcoords"
           }
          ],
          "pie": [
           {
            "automargin": true,
            "type": "pie"
           }
          ],
          "scatter": [
           {
            "marker": {
             "colorbar": {
              "outlinewidth": 0,
              "ticks": ""
             }
            },
            "type": "scatter"
           }
          ],
          "scatter3d": [
           {
            "line": {
             "colorbar": {
              "outlinewidth": 0,
              "ticks": ""
             }
            },
            "marker": {
             "colorbar": {
              "outlinewidth": 0,
              "ticks": ""
             }
            },
            "type": "scatter3d"
           }
          ],
          "scattercarpet": [
           {
            "marker": {
             "colorbar": {
              "outlinewidth": 0,
              "ticks": ""
             }
            },
            "type": "scattercarpet"
           }
          ],
          "scattergeo": [
           {
            "marker": {
             "colorbar": {
              "outlinewidth": 0,
              "ticks": ""
             }
            },
            "type": "scattergeo"
           }
          ],
          "scattergl": [
           {
            "marker": {
             "colorbar": {
              "outlinewidth": 0,
              "ticks": ""
             }
            },
            "type": "scattergl"
           }
          ],
          "scattermapbox": [
           {
            "marker": {
             "colorbar": {
              "outlinewidth": 0,
              "ticks": ""
             }
            },
            "type": "scattermapbox"
           }
          ],
          "scatterpolar": [
           {
            "marker": {
             "colorbar": {
              "outlinewidth": 0,
              "ticks": ""
             }
            },
            "type": "scatterpolar"
           }
          ],
          "scatterpolargl": [
           {
            "marker": {
             "colorbar": {
              "outlinewidth": 0,
              "ticks": ""
             }
            },
            "type": "scatterpolargl"
           }
          ],
          "scatterternary": [
           {
            "marker": {
             "colorbar": {
              "outlinewidth": 0,
              "ticks": ""
             }
            },
            "type": "scatterternary"
           }
          ],
          "surface": [
           {
            "colorbar": {
             "outlinewidth": 0,
             "ticks": ""
            },
            "colorscale": [
             [
              0,
              "#0d0887"
             ],
             [
              0.1111111111111111,
              "#46039f"
             ],
             [
              0.2222222222222222,
              "#7201a8"
             ],
             [
              0.3333333333333333,
              "#9c179e"
             ],
             [
              0.4444444444444444,
              "#bd3786"
             ],
             [
              0.5555555555555556,
              "#d8576b"
             ],
             [
              0.6666666666666666,
              "#ed7953"
             ],
             [
              0.7777777777777778,
              "#fb9f3a"
             ],
             [
              0.8888888888888888,
              "#fdca26"
             ],
             [
              1,
              "#f0f921"
             ]
            ],
            "type": "surface"
           }
          ],
          "table": [
           {
            "cells": {
             "fill": {
              "color": "#EBF0F8"
             },
             "line": {
              "color": "white"
             }
            },
            "header": {
             "fill": {
              "color": "#C8D4E3"
             },
             "line": {
              "color": "white"
             }
            },
            "type": "table"
           }
          ]
         },
         "layout": {
          "annotationdefaults": {
           "arrowcolor": "#2a3f5f",
           "arrowhead": 0,
           "arrowwidth": 1
          },
          "autotypenumbers": "strict",
          "coloraxis": {
           "colorbar": {
            "outlinewidth": 0,
            "ticks": ""
           }
          },
          "colorscale": {
           "diverging": [
            [
             0,
             "#8e0152"
            ],
            [
             0.1,
             "#c51b7d"
            ],
            [
             0.2,
             "#de77ae"
            ],
            [
             0.3,
             "#f1b6da"
            ],
            [
             0.4,
             "#fde0ef"
            ],
            [
             0.5,
             "#f7f7f7"
            ],
            [
             0.6,
             "#e6f5d0"
            ],
            [
             0.7,
             "#b8e186"
            ],
            [
             0.8,
             "#7fbc41"
            ],
            [
             0.9,
             "#4d9221"
            ],
            [
             1,
             "#276419"
            ]
           ],
           "sequential": [
            [
             0,
             "#0d0887"
            ],
            [
             0.1111111111111111,
             "#46039f"
            ],
            [
             0.2222222222222222,
             "#7201a8"
            ],
            [
             0.3333333333333333,
             "#9c179e"
            ],
            [
             0.4444444444444444,
             "#bd3786"
            ],
            [
             0.5555555555555556,
             "#d8576b"
            ],
            [
             0.6666666666666666,
             "#ed7953"
            ],
            [
             0.7777777777777778,
             "#fb9f3a"
            ],
            [
             0.8888888888888888,
             "#fdca26"
            ],
            [
             1,
             "#f0f921"
            ]
           ],
           "sequentialminus": [
            [
             0,
             "#0d0887"
            ],
            [
             0.1111111111111111,
             "#46039f"
            ],
            [
             0.2222222222222222,
             "#7201a8"
            ],
            [
             0.3333333333333333,
             "#9c179e"
            ],
            [
             0.4444444444444444,
             "#bd3786"
            ],
            [
             0.5555555555555556,
             "#d8576b"
            ],
            [
             0.6666666666666666,
             "#ed7953"
            ],
            [
             0.7777777777777778,
             "#fb9f3a"
            ],
            [
             0.8888888888888888,
             "#fdca26"
            ],
            [
             1,
             "#f0f921"
            ]
           ]
          },
          "colorway": [
           "#636efa",
           "#EF553B",
           "#00cc96",
           "#ab63fa",
           "#FFA15A",
           "#19d3f3",
           "#FF6692",
           "#B6E880",
           "#FF97FF",
           "#FECB52"
          ],
          "font": {
           "color": "#2a3f5f"
          },
          "geo": {
           "bgcolor": "white",
           "lakecolor": "white",
           "landcolor": "#E5ECF6",
           "showlakes": true,
           "showland": true,
           "subunitcolor": "white"
          },
          "hoverlabel": {
           "align": "left"
          },
          "hovermode": "closest",
          "mapbox": {
           "style": "light"
          },
          "paper_bgcolor": "white",
          "plot_bgcolor": "#E5ECF6",
          "polar": {
           "angularaxis": {
            "gridcolor": "white",
            "linecolor": "white",
            "ticks": ""
           },
           "bgcolor": "#E5ECF6",
           "radialaxis": {
            "gridcolor": "white",
            "linecolor": "white",
            "ticks": ""
           }
          },
          "scene": {
           "xaxis": {
            "backgroundcolor": "#E5ECF6",
            "gridcolor": "white",
            "gridwidth": 2,
            "linecolor": "white",
            "showbackground": true,
            "ticks": "",
            "zerolinecolor": "white"
           },
           "yaxis": {
            "backgroundcolor": "#E5ECF6",
            "gridcolor": "white",
            "gridwidth": 2,
            "linecolor": "white",
            "showbackground": true,
            "ticks": "",
            "zerolinecolor": "white"
           },
           "zaxis": {
            "backgroundcolor": "#E5ECF6",
            "gridcolor": "white",
            "gridwidth": 2,
            "linecolor": "white",
            "showbackground": true,
            "ticks": "",
            "zerolinecolor": "white"
           }
          },
          "shapedefaults": {
           "line": {
            "color": "#2a3f5f"
           }
          },
          "ternary": {
           "aaxis": {
            "gridcolor": "white",
            "linecolor": "white",
            "ticks": ""
           },
           "baxis": {
            "gridcolor": "white",
            "linecolor": "white",
            "ticks": ""
           },
           "bgcolor": "#E5ECF6",
           "caxis": {
            "gridcolor": "white",
            "linecolor": "white",
            "ticks": ""
           }
          },
          "title": {
           "x": 0.05
          },
          "xaxis": {
           "automargin": true,
           "gridcolor": "white",
           "linecolor": "white",
           "ticks": "",
           "title": {
            "standoff": 15
           },
           "zerolinecolor": "white",
           "zerolinewidth": 2
          },
          "yaxis": {
           "automargin": true,
           "gridcolor": "white",
           "linecolor": "white",
           "ticks": "",
           "title": {
            "standoff": 15
           },
           "zerolinecolor": "white",
           "zerolinewidth": 2
          }
         }
        },
        "title": {
         "text": "Difference Between Black and Total Graduation Rates By Sector of Institution"
        },
        "xaxis": {
         "title": {
          "text": "Difference By Sector"
         }
        },
        "yaxis": {
         "title": {
          "text": "Difference in Graduation Rate"
         }
        }
       }
      },
      "text/html": [
       "<div>                            <div id=\"38135084-64f3-40a6-854d-f138f28ef935\" class=\"plotly-graph-div\" style=\"height:525px; width:100%;\"></div>            <script type=\"text/javascript\">                require([\"plotly\"], function(Plotly) {                    window.PLOTLYENV=window.PLOTLYENV || {};                                    if (document.getElementById(\"38135084-64f3-40a6-854d-f138f28ef935\")) {                    Plotly.newPlot(                        \"38135084-64f3-40a6-854d-f138f28ef935\",                        [{\"error_y\":{\"array\":[1.079223901098901,0.8622113997113994,2.6975609756097563],\"type\":\"data\"},\"name\":\"Difference of Means\",\"text\":[5.9,10.7,11.0],\"type\":\"bar\",\"x\":[\"Private for-profit, 4-year or above\",\"Public, 4-year or above\",\"Private not-for-profit, 4-year or above\"],\"y\":[5.856432329029168,10.668642037574074,10.992196209587512]}],                        {\"font\":{\"family\":\"Courier New, monospace\",\"size\":16},\"template\":{\"data\":{\"bar\":[{\"error_x\":{\"color\":\"#2a3f5f\"},\"error_y\":{\"color\":\"#2a3f5f\"},\"marker\":{\"line\":{\"color\":\"#E5ECF6\",\"width\":0.5},\"pattern\":{\"fillmode\":\"overlay\",\"size\":10,\"solidity\":0.2}},\"type\":\"bar\"}],\"barpolar\":[{\"marker\":{\"line\":{\"color\":\"#E5ECF6\",\"width\":0.5},\"pattern\":{\"fillmode\":\"overlay\",\"size\":10,\"solidity\":0.2}},\"type\":\"barpolar\"}],\"carpet\":[{\"aaxis\":{\"endlinecolor\":\"#2a3f5f\",\"gridcolor\":\"white\",\"linecolor\":\"white\",\"minorgridcolor\":\"white\",\"startlinecolor\":\"#2a3f5f\"},\"baxis\":{\"endlinecolor\":\"#2a3f5f\",\"gridcolor\":\"white\",\"linecolor\":\"white\",\"minorgridcolor\":\"white\",\"startlinecolor\":\"#2a3f5f\"},\"type\":\"carpet\"}],\"choropleth\":[{\"colorbar\":{\"outlinewidth\":0,\"ticks\":\"\"},\"type\":\"choropleth\"}],\"contour\":[{\"colorbar\":{\"outlinewidth\":0,\"ticks\":\"\"},\"colorscale\":[[0.0,\"#0d0887\"],[0.1111111111111111,\"#46039f\"],[0.2222222222222222,\"#7201a8\"],[0.3333333333333333,\"#9c179e\"],[0.4444444444444444,\"#bd3786\"],[0.5555555555555556,\"#d8576b\"],[0.6666666666666666,\"#ed7953\"],[0.7777777777777778,\"#fb9f3a\"],[0.8888888888888888,\"#fdca26\"],[1.0,\"#f0f921\"]],\"type\":\"contour\"}],\"contourcarpet\":[{\"colorbar\":{\"outlinewidth\":0,\"ticks\":\"\"},\"type\":\"contourcarpet\"}],\"heatmap\":[{\"colorbar\":{\"outlinewidth\":0,\"ticks\":\"\"},\"colorscale\":[[0.0,\"#0d0887\"],[0.1111111111111111,\"#46039f\"],[0.2222222222222222,\"#7201a8\"],[0.3333333333333333,\"#9c179e\"],[0.4444444444444444,\"#bd3786\"],[0.5555555555555556,\"#d8576b\"],[0.6666666666666666,\"#ed7953\"],[0.7777777777777778,\"#fb9f3a\"],[0.8888888888888888,\"#fdca26\"],[1.0,\"#f0f921\"]],\"type\":\"heatmap\"}],\"heatmapgl\":[{\"colorbar\":{\"outlinewidth\":0,\"ticks\":\"\"},\"colorscale\":[[0.0,\"#0d0887\"],[0.1111111111111111,\"#46039f\"],[0.2222222222222222,\"#7201a8\"],[0.3333333333333333,\"#9c179e\"],[0.4444444444444444,\"#bd3786\"],[0.5555555555555556,\"#d8576b\"],[0.6666666666666666,\"#ed7953\"],[0.7777777777777778,\"#fb9f3a\"],[0.8888888888888888,\"#fdca26\"],[1.0,\"#f0f921\"]],\"type\":\"heatmapgl\"}],\"histogram\":[{\"marker\":{\"pattern\":{\"fillmode\":\"overlay\",\"size\":10,\"solidity\":0.2}},\"type\":\"histogram\"}],\"histogram2d\":[{\"colorbar\":{\"outlinewidth\":0,\"ticks\":\"\"},\"colorscale\":[[0.0,\"#0d0887\"],[0.1111111111111111,\"#46039f\"],[0.2222222222222222,\"#7201a8\"],[0.3333333333333333,\"#9c179e\"],[0.4444444444444444,\"#bd3786\"],[0.5555555555555556,\"#d8576b\"],[0.6666666666666666,\"#ed7953\"],[0.7777777777777778,\"#fb9f3a\"],[0.8888888888888888,\"#fdca26\"],[1.0,\"#f0f921\"]],\"type\":\"histogram2d\"}],\"histogram2dcontour\":[{\"colorbar\":{\"outlinewidth\":0,\"ticks\":\"\"},\"colorscale\":[[0.0,\"#0d0887\"],[0.1111111111111111,\"#46039f\"],[0.2222222222222222,\"#7201a8\"],[0.3333333333333333,\"#9c179e\"],[0.4444444444444444,\"#bd3786\"],[0.5555555555555556,\"#d8576b\"],[0.6666666666666666,\"#ed7953\"],[0.7777777777777778,\"#fb9f3a\"],[0.8888888888888888,\"#fdca26\"],[1.0,\"#f0f921\"]],\"type\":\"histogram2dcontour\"}],\"mesh3d\":[{\"colorbar\":{\"outlinewidth\":0,\"ticks\":\"\"},\"type\":\"mesh3d\"}],\"parcoords\":[{\"line\":{\"colorbar\":{\"outlinewidth\":0,\"ticks\":\"\"}},\"type\":\"parcoords\"}],\"pie\":[{\"automargin\":true,\"type\":\"pie\"}],\"scatter\":[{\"marker\":{\"colorbar\":{\"outlinewidth\":0,\"ticks\":\"\"}},\"type\":\"scatter\"}],\"scatter3d\":[{\"line\":{\"colorbar\":{\"outlinewidth\":0,\"ticks\":\"\"}},\"marker\":{\"colorbar\":{\"outlinewidth\":0,\"ticks\":\"\"}},\"type\":\"scatter3d\"}],\"scattercarpet\":[{\"marker\":{\"colorbar\":{\"outlinewidth\":0,\"ticks\":\"\"}},\"type\":\"scattercarpet\"}],\"scattergeo\":[{\"marker\":{\"colorbar\":{\"outlinewidth\":0,\"ticks\":\"\"}},\"type\":\"scattergeo\"}],\"scattergl\":[{\"marker\":{\"colorbar\":{\"outlinewidth\":0,\"ticks\":\"\"}},\"type\":\"scattergl\"}],\"scattermapbox\":[{\"marker\":{\"colorbar\":{\"outlinewidth\":0,\"ticks\":\"\"}},\"type\":\"scattermapbox\"}],\"scatterpolar\":[{\"marker\":{\"colorbar\":{\"outlinewidth\":0,\"ticks\":\"\"}},\"type\":\"scatterpolar\"}],\"scatterpolargl\":[{\"marker\":{\"colorbar\":{\"outlinewidth\":0,\"ticks\":\"\"}},\"type\":\"scatterpolargl\"}],\"scatterternary\":[{\"marker\":{\"colorbar\":{\"outlinewidth\":0,\"ticks\":\"\"}},\"type\":\"scatterternary\"}],\"surface\":[{\"colorbar\":{\"outlinewidth\":0,\"ticks\":\"\"},\"colorscale\":[[0.0,\"#0d0887\"],[0.1111111111111111,\"#46039f\"],[0.2222222222222222,\"#7201a8\"],[0.3333333333333333,\"#9c179e\"],[0.4444444444444444,\"#bd3786\"],[0.5555555555555556,\"#d8576b\"],[0.6666666666666666,\"#ed7953\"],[0.7777777777777778,\"#fb9f3a\"],[0.8888888888888888,\"#fdca26\"],[1.0,\"#f0f921\"]],\"type\":\"surface\"}],\"table\":[{\"cells\":{\"fill\":{\"color\":\"#EBF0F8\"},\"line\":{\"color\":\"white\"}},\"header\":{\"fill\":{\"color\":\"#C8D4E3\"},\"line\":{\"color\":\"white\"}},\"type\":\"table\"}]},\"layout\":{\"annotationdefaults\":{\"arrowcolor\":\"#2a3f5f\",\"arrowhead\":0,\"arrowwidth\":1},\"autotypenumbers\":\"strict\",\"coloraxis\":{\"colorbar\":{\"outlinewidth\":0,\"ticks\":\"\"}},\"colorscale\":{\"diverging\":[[0,\"#8e0152\"],[0.1,\"#c51b7d\"],[0.2,\"#de77ae\"],[0.3,\"#f1b6da\"],[0.4,\"#fde0ef\"],[0.5,\"#f7f7f7\"],[0.6,\"#e6f5d0\"],[0.7,\"#b8e186\"],[0.8,\"#7fbc41\"],[0.9,\"#4d9221\"],[1,\"#276419\"]],\"sequential\":[[0.0,\"#0d0887\"],[0.1111111111111111,\"#46039f\"],[0.2222222222222222,\"#7201a8\"],[0.3333333333333333,\"#9c179e\"],[0.4444444444444444,\"#bd3786\"],[0.5555555555555556,\"#d8576b\"],[0.6666666666666666,\"#ed7953\"],[0.7777777777777778,\"#fb9f3a\"],[0.8888888888888888,\"#fdca26\"],[1.0,\"#f0f921\"]],\"sequentialminus\":[[0.0,\"#0d0887\"],[0.1111111111111111,\"#46039f\"],[0.2222222222222222,\"#7201a8\"],[0.3333333333333333,\"#9c179e\"],[0.4444444444444444,\"#bd3786\"],[0.5555555555555556,\"#d8576b\"],[0.6666666666666666,\"#ed7953\"],[0.7777777777777778,\"#fb9f3a\"],[0.8888888888888888,\"#fdca26\"],[1.0,\"#f0f921\"]]},\"colorway\":[\"#636efa\",\"#EF553B\",\"#00cc96\",\"#ab63fa\",\"#FFA15A\",\"#19d3f3\",\"#FF6692\",\"#B6E880\",\"#FF97FF\",\"#FECB52\"],\"font\":{\"color\":\"#2a3f5f\"},\"geo\":{\"bgcolor\":\"white\",\"lakecolor\":\"white\",\"landcolor\":\"#E5ECF6\",\"showlakes\":true,\"showland\":true,\"subunitcolor\":\"white\"},\"hoverlabel\":{\"align\":\"left\"},\"hovermode\":\"closest\",\"mapbox\":{\"style\":\"light\"},\"paper_bgcolor\":\"white\",\"plot_bgcolor\":\"#E5ECF6\",\"polar\":{\"angularaxis\":{\"gridcolor\":\"white\",\"linecolor\":\"white\",\"ticks\":\"\"},\"bgcolor\":\"#E5ECF6\",\"radialaxis\":{\"gridcolor\":\"white\",\"linecolor\":\"white\",\"ticks\":\"\"}},\"scene\":{\"xaxis\":{\"backgroundcolor\":\"#E5ECF6\",\"gridcolor\":\"white\",\"gridwidth\":2,\"linecolor\":\"white\",\"showbackground\":true,\"ticks\":\"\",\"zerolinecolor\":\"white\"},\"yaxis\":{\"backgroundcolor\":\"#E5ECF6\",\"gridcolor\":\"white\",\"gridwidth\":2,\"linecolor\":\"white\",\"showbackground\":true,\"ticks\":\"\",\"zerolinecolor\":\"white\"},\"zaxis\":{\"backgroundcolor\":\"#E5ECF6\",\"gridcolor\":\"white\",\"gridwidth\":2,\"linecolor\":\"white\",\"showbackground\":true,\"ticks\":\"\",\"zerolinecolor\":\"white\"}},\"shapedefaults\":{\"line\":{\"color\":\"#2a3f5f\"}},\"ternary\":{\"aaxis\":{\"gridcolor\":\"white\",\"linecolor\":\"white\",\"ticks\":\"\"},\"baxis\":{\"gridcolor\":\"white\",\"linecolor\":\"white\",\"ticks\":\"\"},\"bgcolor\":\"#E5ECF6\",\"caxis\":{\"gridcolor\":\"white\",\"linecolor\":\"white\",\"ticks\":\"\"}},\"title\":{\"x\":0.05},\"xaxis\":{\"automargin\":true,\"gridcolor\":\"white\",\"linecolor\":\"white\",\"ticks\":\"\",\"title\":{\"standoff\":15},\"zerolinecolor\":\"white\",\"zerolinewidth\":2},\"yaxis\":{\"automargin\":true,\"gridcolor\":\"white\",\"linecolor\":\"white\",\"ticks\":\"\",\"title\":{\"standoff\":15},\"zerolinecolor\":\"white\",\"zerolinewidth\":2}}},\"title\":{\"text\":\"Difference Between Black and Total Graduation Rates By Sector of Institution\"},\"xaxis\":{\"title\":{\"text\":\"Difference By Sector\"}},\"yaxis\":{\"title\":{\"text\":\"Difference in Graduation Rate\"}}},                        {\"responsive\": true}                    ).then(function(){\n",
       "                            \n",
       "var gd = document.getElementById('38135084-64f3-40a6-854d-f138f28ef935');\n",
       "var x = new MutationObserver(function (mutations, observer) {{\n",
       "        var display = window.getComputedStyle(gd).display;\n",
       "        if (!display || display === 'none') {{\n",
       "            console.log([gd, 'removed!']);\n",
       "            Plotly.purge(gd);\n",
       "            observer.disconnect();\n",
       "        }}\n",
       "}});\n",
       "\n",
       "// Listen for the removal of the full notebook cells\n",
       "var notebookContainer = gd.closest('#notebook-container');\n",
       "if (notebookContainer) {{\n",
       "    x.observe(notebookContainer, {childList: true});\n",
       "}}\n",
       "\n",
       "// Listen for the clearing of the current output cell\n",
       "var outputEl = gd.closest('.output');\n",
       "if (outputEl) {{\n",
       "    x.observe(outputEl, {childList: true});\n",
       "}}\n",
       "\n",
       "                        })                };                });            </script>        </div>"
      ]
     },
     "metadata": {},
     "output_type": "display_data"
    }
   ],
   "source": [
    "fig = go.Figure(\n",
    "    data = [\n",
    "        go.Bar(x=grad_rate_by_sector.index, y=grad_rate_by_sector[\"Mean_Difference\"], \n",
    "               text=np.round(grad_rate_by_sector[\"Mean_Difference\"], 1), name=\"Difference of Means\",\n",
    "               error_y=dict(type='data', array=[diff_error1, diff_error2, diff_error3])),\n",
    "    ]\n",
    ")\n",
    "\n",
    "_ = fig.update_layout(\n",
    "    title=\"Difference Between Black and Total Graduation Rates By Sector of Institution\",\n",
    "    xaxis={\n",
    "        'title': \"Difference By Sector\"\n",
    "    },\n",
    "    yaxis={\n",
    "        'title': 'Difference in Graduation Rate'\n",
    "    },\n",
    "    font=dict(\n",
    "        family=\"Courier New, monospace\",\n",
    "        size=16,\n",
    "    )\n",
    ")\n",
    "fig.show()"
   ]
  },
  {
   "cell_type": "markdown",
   "id": "2dcf9496",
   "metadata": {
    "hide_input": true,
    "slideshow": {
     "slide_type": "slide"
    }
   },
   "source": [
    "<h1><center>Graduation Rates By State</center></h1>"
   ]
  },
  {
   "cell_type": "code",
   "execution_count": 19,
   "id": "2a52d050",
   "metadata": {
    "slideshow": {
     "slide_type": "skip"
    }
   },
   "outputs": [],
   "source": [
    "state = df.filter(regex=\"State\").columns[0]\n",
    "all_states = df[state].unique()"
   ]
  },
  {
   "cell_type": "code",
   "execution_count": 20,
   "id": "597ee573",
   "metadata": {
    "slideshow": {
     "slide_type": "skip"
    }
   },
   "outputs": [],
   "source": [
    "state_group = df.groupby(by=state)"
   ]
  },
  {
   "cell_type": "code",
   "execution_count": 21,
   "id": "2f5eb675",
   "metadata": {
    "slideshow": {
     "slide_type": "skip"
    }
   },
   "outputs": [],
   "source": [
    "grad_rate_by_state = state_group.agg('mean').sort_values(by=black)[[black, total]].dropna()"
   ]
  },
  {
   "cell_type": "code",
   "execution_count": 22,
   "id": "ba2889e0",
   "metadata": {
    "hide_input": false,
    "slideshow": {
     "slide_type": "fragment"
    }
   },
   "outputs": [
    {
     "data": {
      "application/vnd.plotly.v1+json": {
       "config": {
        "plotlyServerURL": "https://plot.ly"
       },
       "data": [
        {
         "name": "Total Cohort",
         "text": [
          29,
          42,
          35.3,
          42,
          50.8,
          57.5
         ],
         "type": "bar",
         "x": [
          "Guam",
          "Oklahoma",
          "Delaware",
          "Wyoming",
          "North Carolina",
          "New York"
         ],
         "y": [
          29,
          42,
          35.285714285714285,
          42,
          50.82089552238806,
          57.484375
         ]
        },
        {
         "name": "African American",
         "text": [
          12.5,
          29.3,
          34,
          39,
          44,
          54
         ],
         "type": "bar",
         "x": [
          "Guam",
          "Oklahoma",
          "Delaware",
          "Wyoming",
          "North Carolina",
          "New York"
         ],
         "y": [
          12.5,
          29.333333333333332,
          34,
          39,
          43.96969696969697,
          53.99300699300699
         ]
        }
       ],
       "layout": {
        "font": {
         "family": "Courier New, monospace",
         "size": 16
        },
        "template": {
         "data": {
          "bar": [
           {
            "error_x": {
             "color": "#2a3f5f"
            },
            "error_y": {
             "color": "#2a3f5f"
            },
            "marker": {
             "line": {
              "color": "#E5ECF6",
              "width": 0.5
             },
             "pattern": {
              "fillmode": "overlay",
              "size": 10,
              "solidity": 0.2
             }
            },
            "type": "bar"
           }
          ],
          "barpolar": [
           {
            "marker": {
             "line": {
              "color": "#E5ECF6",
              "width": 0.5
             },
             "pattern": {
              "fillmode": "overlay",
              "size": 10,
              "solidity": 0.2
             }
            },
            "type": "barpolar"
           }
          ],
          "carpet": [
           {
            "aaxis": {
             "endlinecolor": "#2a3f5f",
             "gridcolor": "white",
             "linecolor": "white",
             "minorgridcolor": "white",
             "startlinecolor": "#2a3f5f"
            },
            "baxis": {
             "endlinecolor": "#2a3f5f",
             "gridcolor": "white",
             "linecolor": "white",
             "minorgridcolor": "white",
             "startlinecolor": "#2a3f5f"
            },
            "type": "carpet"
           }
          ],
          "choropleth": [
           {
            "colorbar": {
             "outlinewidth": 0,
             "ticks": ""
            },
            "type": "choropleth"
           }
          ],
          "contour": [
           {
            "colorbar": {
             "outlinewidth": 0,
             "ticks": ""
            },
            "colorscale": [
             [
              0,
              "#0d0887"
             ],
             [
              0.1111111111111111,
              "#46039f"
             ],
             [
              0.2222222222222222,
              "#7201a8"
             ],
             [
              0.3333333333333333,
              "#9c179e"
             ],
             [
              0.4444444444444444,
              "#bd3786"
             ],
             [
              0.5555555555555556,
              "#d8576b"
             ],
             [
              0.6666666666666666,
              "#ed7953"
             ],
             [
              0.7777777777777778,
              "#fb9f3a"
             ],
             [
              0.8888888888888888,
              "#fdca26"
             ],
             [
              1,
              "#f0f921"
             ]
            ],
            "type": "contour"
           }
          ],
          "contourcarpet": [
           {
            "colorbar": {
             "outlinewidth": 0,
             "ticks": ""
            },
            "type": "contourcarpet"
           }
          ],
          "heatmap": [
           {
            "colorbar": {
             "outlinewidth": 0,
             "ticks": ""
            },
            "colorscale": [
             [
              0,
              "#0d0887"
             ],
             [
              0.1111111111111111,
              "#46039f"
             ],
             [
              0.2222222222222222,
              "#7201a8"
             ],
             [
              0.3333333333333333,
              "#9c179e"
             ],
             [
              0.4444444444444444,
              "#bd3786"
             ],
             [
              0.5555555555555556,
              "#d8576b"
             ],
             [
              0.6666666666666666,
              "#ed7953"
             ],
             [
              0.7777777777777778,
              "#fb9f3a"
             ],
             [
              0.8888888888888888,
              "#fdca26"
             ],
             [
              1,
              "#f0f921"
             ]
            ],
            "type": "heatmap"
           }
          ],
          "heatmapgl": [
           {
            "colorbar": {
             "outlinewidth": 0,
             "ticks": ""
            },
            "colorscale": [
             [
              0,
              "#0d0887"
             ],
             [
              0.1111111111111111,
              "#46039f"
             ],
             [
              0.2222222222222222,
              "#7201a8"
             ],
             [
              0.3333333333333333,
              "#9c179e"
             ],
             [
              0.4444444444444444,
              "#bd3786"
             ],
             [
              0.5555555555555556,
              "#d8576b"
             ],
             [
              0.6666666666666666,
              "#ed7953"
             ],
             [
              0.7777777777777778,
              "#fb9f3a"
             ],
             [
              0.8888888888888888,
              "#fdca26"
             ],
             [
              1,
              "#f0f921"
             ]
            ],
            "type": "heatmapgl"
           }
          ],
          "histogram": [
           {
            "marker": {
             "pattern": {
              "fillmode": "overlay",
              "size": 10,
              "solidity": 0.2
             }
            },
            "type": "histogram"
           }
          ],
          "histogram2d": [
           {
            "colorbar": {
             "outlinewidth": 0,
             "ticks": ""
            },
            "colorscale": [
             [
              0,
              "#0d0887"
             ],
             [
              0.1111111111111111,
              "#46039f"
             ],
             [
              0.2222222222222222,
              "#7201a8"
             ],
             [
              0.3333333333333333,
              "#9c179e"
             ],
             [
              0.4444444444444444,
              "#bd3786"
             ],
             [
              0.5555555555555556,
              "#d8576b"
             ],
             [
              0.6666666666666666,
              "#ed7953"
             ],
             [
              0.7777777777777778,
              "#fb9f3a"
             ],
             [
              0.8888888888888888,
              "#fdca26"
             ],
             [
              1,
              "#f0f921"
             ]
            ],
            "type": "histogram2d"
           }
          ],
          "histogram2dcontour": [
           {
            "colorbar": {
             "outlinewidth": 0,
             "ticks": ""
            },
            "colorscale": [
             [
              0,
              "#0d0887"
             ],
             [
              0.1111111111111111,
              "#46039f"
             ],
             [
              0.2222222222222222,
              "#7201a8"
             ],
             [
              0.3333333333333333,
              "#9c179e"
             ],
             [
              0.4444444444444444,
              "#bd3786"
             ],
             [
              0.5555555555555556,
              "#d8576b"
             ],
             [
              0.6666666666666666,
              "#ed7953"
             ],
             [
              0.7777777777777778,
              "#fb9f3a"
             ],
             [
              0.8888888888888888,
              "#fdca26"
             ],
             [
              1,
              "#f0f921"
             ]
            ],
            "type": "histogram2dcontour"
           }
          ],
          "mesh3d": [
           {
            "colorbar": {
             "outlinewidth": 0,
             "ticks": ""
            },
            "type": "mesh3d"
           }
          ],
          "parcoords": [
           {
            "line": {
             "colorbar": {
              "outlinewidth": 0,
              "ticks": ""
             }
            },
            "type": "parcoords"
           }
          ],
          "pie": [
           {
            "automargin": true,
            "type": "pie"
           }
          ],
          "scatter": [
           {
            "marker": {
             "colorbar": {
              "outlinewidth": 0,
              "ticks": ""
             }
            },
            "type": "scatter"
           }
          ],
          "scatter3d": [
           {
            "line": {
             "colorbar": {
              "outlinewidth": 0,
              "ticks": ""
             }
            },
            "marker": {
             "colorbar": {
              "outlinewidth": 0,
              "ticks": ""
             }
            },
            "type": "scatter3d"
           }
          ],
          "scattercarpet": [
           {
            "marker": {
             "colorbar": {
              "outlinewidth": 0,
              "ticks": ""
             }
            },
            "type": "scattercarpet"
           }
          ],
          "scattergeo": [
           {
            "marker": {
             "colorbar": {
              "outlinewidth": 0,
              "ticks": ""
             }
            },
            "type": "scattergeo"
           }
          ],
          "scattergl": [
           {
            "marker": {
             "colorbar": {
              "outlinewidth": 0,
              "ticks": ""
             }
            },
            "type": "scattergl"
           }
          ],
          "scattermapbox": [
           {
            "marker": {
             "colorbar": {
              "outlinewidth": 0,
              "ticks": ""
             }
            },
            "type": "scattermapbox"
           }
          ],
          "scatterpolar": [
           {
            "marker": {
             "colorbar": {
              "outlinewidth": 0,
              "ticks": ""
             }
            },
            "type": "scatterpolar"
           }
          ],
          "scatterpolargl": [
           {
            "marker": {
             "colorbar": {
              "outlinewidth": 0,
              "ticks": ""
             }
            },
            "type": "scatterpolargl"
           }
          ],
          "scatterternary": [
           {
            "marker": {
             "colorbar": {
              "outlinewidth": 0,
              "ticks": ""
             }
            },
            "type": "scatterternary"
           }
          ],
          "surface": [
           {
            "colorbar": {
             "outlinewidth": 0,
             "ticks": ""
            },
            "colorscale": [
             [
              0,
              "#0d0887"
             ],
             [
              0.1111111111111111,
              "#46039f"
             ],
             [
              0.2222222222222222,
              "#7201a8"
             ],
             [
              0.3333333333333333,
              "#9c179e"
             ],
             [
              0.4444444444444444,
              "#bd3786"
             ],
             [
              0.5555555555555556,
              "#d8576b"
             ],
             [
              0.6666666666666666,
              "#ed7953"
             ],
             [
              0.7777777777777778,
              "#fb9f3a"
             ],
             [
              0.8888888888888888,
              "#fdca26"
             ],
             [
              1,
              "#f0f921"
             ]
            ],
            "type": "surface"
           }
          ],
          "table": [
           {
            "cells": {
             "fill": {
              "color": "#EBF0F8"
             },
             "line": {
              "color": "white"
             }
            },
            "header": {
             "fill": {
              "color": "#C8D4E3"
             },
             "line": {
              "color": "white"
             }
            },
            "type": "table"
           }
          ]
         },
         "layout": {
          "annotationdefaults": {
           "arrowcolor": "#2a3f5f",
           "arrowhead": 0,
           "arrowwidth": 1
          },
          "autotypenumbers": "strict",
          "coloraxis": {
           "colorbar": {
            "outlinewidth": 0,
            "ticks": ""
           }
          },
          "colorscale": {
           "diverging": [
            [
             0,
             "#8e0152"
            ],
            [
             0.1,
             "#c51b7d"
            ],
            [
             0.2,
             "#de77ae"
            ],
            [
             0.3,
             "#f1b6da"
            ],
            [
             0.4,
             "#fde0ef"
            ],
            [
             0.5,
             "#f7f7f7"
            ],
            [
             0.6,
             "#e6f5d0"
            ],
            [
             0.7,
             "#b8e186"
            ],
            [
             0.8,
             "#7fbc41"
            ],
            [
             0.9,
             "#4d9221"
            ],
            [
             1,
             "#276419"
            ]
           ],
           "sequential": [
            [
             0,
             "#0d0887"
            ],
            [
             0.1111111111111111,
             "#46039f"
            ],
            [
             0.2222222222222222,
             "#7201a8"
            ],
            [
             0.3333333333333333,
             "#9c179e"
            ],
            [
             0.4444444444444444,
             "#bd3786"
            ],
            [
             0.5555555555555556,
             "#d8576b"
            ],
            [
             0.6666666666666666,
             "#ed7953"
            ],
            [
             0.7777777777777778,
             "#fb9f3a"
            ],
            [
             0.8888888888888888,
             "#fdca26"
            ],
            [
             1,
             "#f0f921"
            ]
           ],
           "sequentialminus": [
            [
             0,
             "#0d0887"
            ],
            [
             0.1111111111111111,
             "#46039f"
            ],
            [
             0.2222222222222222,
             "#7201a8"
            ],
            [
             0.3333333333333333,
             "#9c179e"
            ],
            [
             0.4444444444444444,
             "#bd3786"
            ],
            [
             0.5555555555555556,
             "#d8576b"
            ],
            [
             0.6666666666666666,
             "#ed7953"
            ],
            [
             0.7777777777777778,
             "#fb9f3a"
            ],
            [
             0.8888888888888888,
             "#fdca26"
            ],
            [
             1,
             "#f0f921"
            ]
           ]
          },
          "colorway": [
           "#636efa",
           "#EF553B",
           "#00cc96",
           "#ab63fa",
           "#FFA15A",
           "#19d3f3",
           "#FF6692",
           "#B6E880",
           "#FF97FF",
           "#FECB52"
          ],
          "font": {
           "color": "#2a3f5f"
          },
          "geo": {
           "bgcolor": "white",
           "lakecolor": "white",
           "landcolor": "#E5ECF6",
           "showlakes": true,
           "showland": true,
           "subunitcolor": "white"
          },
          "hoverlabel": {
           "align": "left"
          },
          "hovermode": "closest",
          "mapbox": {
           "style": "light"
          },
          "paper_bgcolor": "white",
          "plot_bgcolor": "#E5ECF6",
          "polar": {
           "angularaxis": {
            "gridcolor": "white",
            "linecolor": "white",
            "ticks": ""
           },
           "bgcolor": "#E5ECF6",
           "radialaxis": {
            "gridcolor": "white",
            "linecolor": "white",
            "ticks": ""
           }
          },
          "scene": {
           "xaxis": {
            "backgroundcolor": "#E5ECF6",
            "gridcolor": "white",
            "gridwidth": 2,
            "linecolor": "white",
            "showbackground": true,
            "ticks": "",
            "zerolinecolor": "white"
           },
           "yaxis": {
            "backgroundcolor": "#E5ECF6",
            "gridcolor": "white",
            "gridwidth": 2,
            "linecolor": "white",
            "showbackground": true,
            "ticks": "",
            "zerolinecolor": "white"
           },
           "zaxis": {
            "backgroundcolor": "#E5ECF6",
            "gridcolor": "white",
            "gridwidth": 2,
            "linecolor": "white",
            "showbackground": true,
            "ticks": "",
            "zerolinecolor": "white"
           }
          },
          "shapedefaults": {
           "line": {
            "color": "#2a3f5f"
           }
          },
          "ternary": {
           "aaxis": {
            "gridcolor": "white",
            "linecolor": "white",
            "ticks": ""
           },
           "baxis": {
            "gridcolor": "white",
            "linecolor": "white",
            "ticks": ""
           },
           "bgcolor": "#E5ECF6",
           "caxis": {
            "gridcolor": "white",
            "linecolor": "white",
            "ticks": ""
           }
          },
          "title": {
           "x": 0.05
          },
          "xaxis": {
           "automargin": true,
           "gridcolor": "white",
           "linecolor": "white",
           "ticks": "",
           "title": {
            "standoff": 15
           },
           "zerolinecolor": "white",
           "zerolinewidth": 2
          },
          "yaxis": {
           "automargin": true,
           "gridcolor": "white",
           "linecolor": "white",
           "ticks": "",
           "title": {
            "standoff": 15
           },
           "zerolinecolor": "white",
           "zerolinewidth": 2
          }
         }
        },
        "title": {
         "text": "Mean Graduation Rates By State"
        },
        "xaxis": {
         "title": {
          "text": "State"
         }
        },
        "yaxis": {
         "title": {
          "text": "Mean Graduation Rate"
         }
        }
       }
      },
      "text/html": [
       "<div>                            <div id=\"354b1015-23aa-4b30-bfb1-658ecd6b3c79\" class=\"plotly-graph-div\" style=\"height:525px; width:100%;\"></div>            <script type=\"text/javascript\">                require([\"plotly\"], function(Plotly) {                    window.PLOTLYENV=window.PLOTLYENV || {};                                    if (document.getElementById(\"354b1015-23aa-4b30-bfb1-658ecd6b3c79\")) {                    Plotly.newPlot(                        \"354b1015-23aa-4b30-bfb1-658ecd6b3c79\",                        [{\"name\":\"Total Cohort\",\"text\":[29.0,42.0,35.3,42.0,50.8,57.5],\"type\":\"bar\",\"x\":[\"Guam\",\"Oklahoma\",\"Delaware\",\"Wyoming\",\"North Carolina\",\"New York\"],\"y\":[29.0,42.0,35.285714285714285,42.0,50.82089552238806,57.484375]},{\"name\":\"African American\",\"text\":[12.5,29.3,34.0,39.0,44.0,54.0],\"type\":\"bar\",\"x\":[\"Guam\",\"Oklahoma\",\"Delaware\",\"Wyoming\",\"North Carolina\",\"New York\"],\"y\":[12.5,29.333333333333332,34.0,39.0,43.96969696969697,53.99300699300699]}],                        {\"font\":{\"family\":\"Courier New, monospace\",\"size\":16},\"template\":{\"data\":{\"bar\":[{\"error_x\":{\"color\":\"#2a3f5f\"},\"error_y\":{\"color\":\"#2a3f5f\"},\"marker\":{\"line\":{\"color\":\"#E5ECF6\",\"width\":0.5},\"pattern\":{\"fillmode\":\"overlay\",\"size\":10,\"solidity\":0.2}},\"type\":\"bar\"}],\"barpolar\":[{\"marker\":{\"line\":{\"color\":\"#E5ECF6\",\"width\":0.5},\"pattern\":{\"fillmode\":\"overlay\",\"size\":10,\"solidity\":0.2}},\"type\":\"barpolar\"}],\"carpet\":[{\"aaxis\":{\"endlinecolor\":\"#2a3f5f\",\"gridcolor\":\"white\",\"linecolor\":\"white\",\"minorgridcolor\":\"white\",\"startlinecolor\":\"#2a3f5f\"},\"baxis\":{\"endlinecolor\":\"#2a3f5f\",\"gridcolor\":\"white\",\"linecolor\":\"white\",\"minorgridcolor\":\"white\",\"startlinecolor\":\"#2a3f5f\"},\"type\":\"carpet\"}],\"choropleth\":[{\"colorbar\":{\"outlinewidth\":0,\"ticks\":\"\"},\"type\":\"choropleth\"}],\"contour\":[{\"colorbar\":{\"outlinewidth\":0,\"ticks\":\"\"},\"colorscale\":[[0.0,\"#0d0887\"],[0.1111111111111111,\"#46039f\"],[0.2222222222222222,\"#7201a8\"],[0.3333333333333333,\"#9c179e\"],[0.4444444444444444,\"#bd3786\"],[0.5555555555555556,\"#d8576b\"],[0.6666666666666666,\"#ed7953\"],[0.7777777777777778,\"#fb9f3a\"],[0.8888888888888888,\"#fdca26\"],[1.0,\"#f0f921\"]],\"type\":\"contour\"}],\"contourcarpet\":[{\"colorbar\":{\"outlinewidth\":0,\"ticks\":\"\"},\"type\":\"contourcarpet\"}],\"heatmap\":[{\"colorbar\":{\"outlinewidth\":0,\"ticks\":\"\"},\"colorscale\":[[0.0,\"#0d0887\"],[0.1111111111111111,\"#46039f\"],[0.2222222222222222,\"#7201a8\"],[0.3333333333333333,\"#9c179e\"],[0.4444444444444444,\"#bd3786\"],[0.5555555555555556,\"#d8576b\"],[0.6666666666666666,\"#ed7953\"],[0.7777777777777778,\"#fb9f3a\"],[0.8888888888888888,\"#fdca26\"],[1.0,\"#f0f921\"]],\"type\":\"heatmap\"}],\"heatmapgl\":[{\"colorbar\":{\"outlinewidth\":0,\"ticks\":\"\"},\"colorscale\":[[0.0,\"#0d0887\"],[0.1111111111111111,\"#46039f\"],[0.2222222222222222,\"#7201a8\"],[0.3333333333333333,\"#9c179e\"],[0.4444444444444444,\"#bd3786\"],[0.5555555555555556,\"#d8576b\"],[0.6666666666666666,\"#ed7953\"],[0.7777777777777778,\"#fb9f3a\"],[0.8888888888888888,\"#fdca26\"],[1.0,\"#f0f921\"]],\"type\":\"heatmapgl\"}],\"histogram\":[{\"marker\":{\"pattern\":{\"fillmode\":\"overlay\",\"size\":10,\"solidity\":0.2}},\"type\":\"histogram\"}],\"histogram2d\":[{\"colorbar\":{\"outlinewidth\":0,\"ticks\":\"\"},\"colorscale\":[[0.0,\"#0d0887\"],[0.1111111111111111,\"#46039f\"],[0.2222222222222222,\"#7201a8\"],[0.3333333333333333,\"#9c179e\"],[0.4444444444444444,\"#bd3786\"],[0.5555555555555556,\"#d8576b\"],[0.6666666666666666,\"#ed7953\"],[0.7777777777777778,\"#fb9f3a\"],[0.8888888888888888,\"#fdca26\"],[1.0,\"#f0f921\"]],\"type\":\"histogram2d\"}],\"histogram2dcontour\":[{\"colorbar\":{\"outlinewidth\":0,\"ticks\":\"\"},\"colorscale\":[[0.0,\"#0d0887\"],[0.1111111111111111,\"#46039f\"],[0.2222222222222222,\"#7201a8\"],[0.3333333333333333,\"#9c179e\"],[0.4444444444444444,\"#bd3786\"],[0.5555555555555556,\"#d8576b\"],[0.6666666666666666,\"#ed7953\"],[0.7777777777777778,\"#fb9f3a\"],[0.8888888888888888,\"#fdca26\"],[1.0,\"#f0f921\"]],\"type\":\"histogram2dcontour\"}],\"mesh3d\":[{\"colorbar\":{\"outlinewidth\":0,\"ticks\":\"\"},\"type\":\"mesh3d\"}],\"parcoords\":[{\"line\":{\"colorbar\":{\"outlinewidth\":0,\"ticks\":\"\"}},\"type\":\"parcoords\"}],\"pie\":[{\"automargin\":true,\"type\":\"pie\"}],\"scatter\":[{\"marker\":{\"colorbar\":{\"outlinewidth\":0,\"ticks\":\"\"}},\"type\":\"scatter\"}],\"scatter3d\":[{\"line\":{\"colorbar\":{\"outlinewidth\":0,\"ticks\":\"\"}},\"marker\":{\"colorbar\":{\"outlinewidth\":0,\"ticks\":\"\"}},\"type\":\"scatter3d\"}],\"scattercarpet\":[{\"marker\":{\"colorbar\":{\"outlinewidth\":0,\"ticks\":\"\"}},\"type\":\"scattercarpet\"}],\"scattergeo\":[{\"marker\":{\"colorbar\":{\"outlinewidth\":0,\"ticks\":\"\"}},\"type\":\"scattergeo\"}],\"scattergl\":[{\"marker\":{\"colorbar\":{\"outlinewidth\":0,\"ticks\":\"\"}},\"type\":\"scattergl\"}],\"scattermapbox\":[{\"marker\":{\"colorbar\":{\"outlinewidth\":0,\"ticks\":\"\"}},\"type\":\"scattermapbox\"}],\"scatterpolar\":[{\"marker\":{\"colorbar\":{\"outlinewidth\":0,\"ticks\":\"\"}},\"type\":\"scatterpolar\"}],\"scatterpolargl\":[{\"marker\":{\"colorbar\":{\"outlinewidth\":0,\"ticks\":\"\"}},\"type\":\"scatterpolargl\"}],\"scatterternary\":[{\"marker\":{\"colorbar\":{\"outlinewidth\":0,\"ticks\":\"\"}},\"type\":\"scatterternary\"}],\"surface\":[{\"colorbar\":{\"outlinewidth\":0,\"ticks\":\"\"},\"colorscale\":[[0.0,\"#0d0887\"],[0.1111111111111111,\"#46039f\"],[0.2222222222222222,\"#7201a8\"],[0.3333333333333333,\"#9c179e\"],[0.4444444444444444,\"#bd3786\"],[0.5555555555555556,\"#d8576b\"],[0.6666666666666666,\"#ed7953\"],[0.7777777777777778,\"#fb9f3a\"],[0.8888888888888888,\"#fdca26\"],[1.0,\"#f0f921\"]],\"type\":\"surface\"}],\"table\":[{\"cells\":{\"fill\":{\"color\":\"#EBF0F8\"},\"line\":{\"color\":\"white\"}},\"header\":{\"fill\":{\"color\":\"#C8D4E3\"},\"line\":{\"color\":\"white\"}},\"type\":\"table\"}]},\"layout\":{\"annotationdefaults\":{\"arrowcolor\":\"#2a3f5f\",\"arrowhead\":0,\"arrowwidth\":1},\"autotypenumbers\":\"strict\",\"coloraxis\":{\"colorbar\":{\"outlinewidth\":0,\"ticks\":\"\"}},\"colorscale\":{\"diverging\":[[0,\"#8e0152\"],[0.1,\"#c51b7d\"],[0.2,\"#de77ae\"],[0.3,\"#f1b6da\"],[0.4,\"#fde0ef\"],[0.5,\"#f7f7f7\"],[0.6,\"#e6f5d0\"],[0.7,\"#b8e186\"],[0.8,\"#7fbc41\"],[0.9,\"#4d9221\"],[1,\"#276419\"]],\"sequential\":[[0.0,\"#0d0887\"],[0.1111111111111111,\"#46039f\"],[0.2222222222222222,\"#7201a8\"],[0.3333333333333333,\"#9c179e\"],[0.4444444444444444,\"#bd3786\"],[0.5555555555555556,\"#d8576b\"],[0.6666666666666666,\"#ed7953\"],[0.7777777777777778,\"#fb9f3a\"],[0.8888888888888888,\"#fdca26\"],[1.0,\"#f0f921\"]],\"sequentialminus\":[[0.0,\"#0d0887\"],[0.1111111111111111,\"#46039f\"],[0.2222222222222222,\"#7201a8\"],[0.3333333333333333,\"#9c179e\"],[0.4444444444444444,\"#bd3786\"],[0.5555555555555556,\"#d8576b\"],[0.6666666666666666,\"#ed7953\"],[0.7777777777777778,\"#fb9f3a\"],[0.8888888888888888,\"#fdca26\"],[1.0,\"#f0f921\"]]},\"colorway\":[\"#636efa\",\"#EF553B\",\"#00cc96\",\"#ab63fa\",\"#FFA15A\",\"#19d3f3\",\"#FF6692\",\"#B6E880\",\"#FF97FF\",\"#FECB52\"],\"font\":{\"color\":\"#2a3f5f\"},\"geo\":{\"bgcolor\":\"white\",\"lakecolor\":\"white\",\"landcolor\":\"#E5ECF6\",\"showlakes\":true,\"showland\":true,\"subunitcolor\":\"white\"},\"hoverlabel\":{\"align\":\"left\"},\"hovermode\":\"closest\",\"mapbox\":{\"style\":\"light\"},\"paper_bgcolor\":\"white\",\"plot_bgcolor\":\"#E5ECF6\",\"polar\":{\"angularaxis\":{\"gridcolor\":\"white\",\"linecolor\":\"white\",\"ticks\":\"\"},\"bgcolor\":\"#E5ECF6\",\"radialaxis\":{\"gridcolor\":\"white\",\"linecolor\":\"white\",\"ticks\":\"\"}},\"scene\":{\"xaxis\":{\"backgroundcolor\":\"#E5ECF6\",\"gridcolor\":\"white\",\"gridwidth\":2,\"linecolor\":\"white\",\"showbackground\":true,\"ticks\":\"\",\"zerolinecolor\":\"white\"},\"yaxis\":{\"backgroundcolor\":\"#E5ECF6\",\"gridcolor\":\"white\",\"gridwidth\":2,\"linecolor\":\"white\",\"showbackground\":true,\"ticks\":\"\",\"zerolinecolor\":\"white\"},\"zaxis\":{\"backgroundcolor\":\"#E5ECF6\",\"gridcolor\":\"white\",\"gridwidth\":2,\"linecolor\":\"white\",\"showbackground\":true,\"ticks\":\"\",\"zerolinecolor\":\"white\"}},\"shapedefaults\":{\"line\":{\"color\":\"#2a3f5f\"}},\"ternary\":{\"aaxis\":{\"gridcolor\":\"white\",\"linecolor\":\"white\",\"ticks\":\"\"},\"baxis\":{\"gridcolor\":\"white\",\"linecolor\":\"white\",\"ticks\":\"\"},\"bgcolor\":\"#E5ECF6\",\"caxis\":{\"gridcolor\":\"white\",\"linecolor\":\"white\",\"ticks\":\"\"}},\"title\":{\"x\":0.05},\"xaxis\":{\"automargin\":true,\"gridcolor\":\"white\",\"linecolor\":\"white\",\"ticks\":\"\",\"title\":{\"standoff\":15},\"zerolinecolor\":\"white\",\"zerolinewidth\":2},\"yaxis\":{\"automargin\":true,\"gridcolor\":\"white\",\"linecolor\":\"white\",\"ticks\":\"\",\"title\":{\"standoff\":15},\"zerolinecolor\":\"white\",\"zerolinewidth\":2}}},\"title\":{\"text\":\"Mean Graduation Rates By State\"},\"xaxis\":{\"title\":{\"text\":\"State\"}},\"yaxis\":{\"title\":{\"text\":\"Mean Graduation Rate\"}}},                        {\"responsive\": true}                    ).then(function(){\n",
       "                            \n",
       "var gd = document.getElementById('354b1015-23aa-4b30-bfb1-658ecd6b3c79');\n",
       "var x = new MutationObserver(function (mutations, observer) {{\n",
       "        var display = window.getComputedStyle(gd).display;\n",
       "        if (!display || display === 'none') {{\n",
       "            console.log([gd, 'removed!']);\n",
       "            Plotly.purge(gd);\n",
       "            observer.disconnect();\n",
       "        }}\n",
       "}});\n",
       "\n",
       "// Listen for the removal of the full notebook cells\n",
       "var notebookContainer = gd.closest('#notebook-container');\n",
       "if (notebookContainer) {{\n",
       "    x.observe(notebookContainer, {childList: true});\n",
       "}}\n",
       "\n",
       "// Listen for the clearing of the current output cell\n",
       "var outputEl = gd.closest('.output');\n",
       "if (outputEl) {{\n",
       "    x.observe(outputEl, {childList: true});\n",
       "}}\n",
       "\n",
       "                        })                };                });            </script>        </div>"
      ]
     },
     "metadata": {},
     "output_type": "display_data"
    }
   ],
   "source": [
    "state_yblack = grad_rate_by_state[black].to_numpy()[0:51:10]\n",
    "state_y = grad_rate_by_state[total].to_numpy()[0:51:10]\n",
    "\n",
    "fig = go.Figure(\n",
    "    data = [\n",
    "        go.Bar(x=grad_rate_by_state.index[0:51:10], y=state_y, \n",
    "               text=np.round(state_y, 1), name=\"Total Cohort\"),\n",
    "        go.Bar(x=grad_rate_by_state.index[0:51:10], y= state_yblack, \n",
    "               text=np.round(state_yblack, 1), name=\"African American\"),\n",
    "        \n",
    "    ]\n",
    ")\n",
    "\n",
    "_ = fig.update_layout(\n",
    "    title=\"Mean Graduation Rates By State\",\n",
    "    xaxis={\n",
    "        'title': \"State\"\n",
    "    },\n",
    "    yaxis={\n",
    "        'title': 'Mean Graduation Rate'\n",
    "    },\n",
    "    font=dict(\n",
    "        family=\"Courier New, monospace\",\n",
    "        size=16,      \n",
    "    )\n",
    ")\n",
    "fig.show()     "
   ]
  },
  {
   "cell_type": "markdown",
   "id": "e073d951",
   "metadata": {
    "slideshow": {
     "slide_type": "slide"
    }
   },
   "source": [
    "<h1><center>HBCU Graduation Rates Vs Non HBCU Schools</center></h1>"
   ]
  },
  {
   "cell_type": "code",
   "execution_count": 23,
   "id": "7f5b6ecc",
   "metadata": {
    "slideshow": {
     "slide_type": "skip"
    }
   },
   "outputs": [],
   "source": [
    "hbcu = df.filter(regex=\"Historically\").columns[0]\n",
    "hbcu_group = df.groupby(by=hbcu)\n",
    "grad_rate_hbcu = hbcu_group.agg('mean').sort_values(by=black)[[black, total]]"
   ]
  },
  {
   "cell_type": "code",
   "execution_count": 24,
   "id": "fdbaa57c",
   "metadata": {
    "slideshow": {
     "slide_type": "skip"
    }
   },
   "outputs": [],
   "source": [
    "grad_rate_hbcu = grad_rate_hbcu.drop(\"isMissing\")"
   ]
  },
  {
   "cell_type": "code",
   "execution_count": 25,
   "id": "70e63060",
   "metadata": {
    "cell_style": "split",
    "hide_input": true,
    "slideshow": {
     "slide_type": "fragment"
    }
   },
   "outputs": [
    {
     "data": {
      "application/vnd.plotly.v1+json": {
       "config": {
        "plotlyServerURL": "https://plot.ly"
       },
       "data": [
        {
         "name": "Total Cohort",
         "text": [
          33.7,
          52.2
         ],
         "type": "bar",
         "x": [
          "Yes",
          "No"
         ],
         "y": [
          33.7093023255814,
          52.207207207207205
         ]
        },
        {
         "name": "African American",
         "text": [
          33.8,
          41.6
         ],
         "type": "bar",
         "x": [
          "Yes",
          "No"
         ],
         "y": [
          33.75581395348837,
          41.589267285861716
         ]
        }
       ],
       "layout": {
        "font": {
         "family": "Courier New, monospace",
         "size": 16
        },
        "template": {
         "data": {
          "bar": [
           {
            "error_x": {
             "color": "#2a3f5f"
            },
            "error_y": {
             "color": "#2a3f5f"
            },
            "marker": {
             "line": {
              "color": "#E5ECF6",
              "width": 0.5
             },
             "pattern": {
              "fillmode": "overlay",
              "size": 10,
              "solidity": 0.2
             }
            },
            "type": "bar"
           }
          ],
          "barpolar": [
           {
            "marker": {
             "line": {
              "color": "#E5ECF6",
              "width": 0.5
             },
             "pattern": {
              "fillmode": "overlay",
              "size": 10,
              "solidity": 0.2
             }
            },
            "type": "barpolar"
           }
          ],
          "carpet": [
           {
            "aaxis": {
             "endlinecolor": "#2a3f5f",
             "gridcolor": "white",
             "linecolor": "white",
             "minorgridcolor": "white",
             "startlinecolor": "#2a3f5f"
            },
            "baxis": {
             "endlinecolor": "#2a3f5f",
             "gridcolor": "white",
             "linecolor": "white",
             "minorgridcolor": "white",
             "startlinecolor": "#2a3f5f"
            },
            "type": "carpet"
           }
          ],
          "choropleth": [
           {
            "colorbar": {
             "outlinewidth": 0,
             "ticks": ""
            },
            "type": "choropleth"
           }
          ],
          "contour": [
           {
            "colorbar": {
             "outlinewidth": 0,
             "ticks": ""
            },
            "colorscale": [
             [
              0,
              "#0d0887"
             ],
             [
              0.1111111111111111,
              "#46039f"
             ],
             [
              0.2222222222222222,
              "#7201a8"
             ],
             [
              0.3333333333333333,
              "#9c179e"
             ],
             [
              0.4444444444444444,
              "#bd3786"
             ],
             [
              0.5555555555555556,
              "#d8576b"
             ],
             [
              0.6666666666666666,
              "#ed7953"
             ],
             [
              0.7777777777777778,
              "#fb9f3a"
             ],
             [
              0.8888888888888888,
              "#fdca26"
             ],
             [
              1,
              "#f0f921"
             ]
            ],
            "type": "contour"
           }
          ],
          "contourcarpet": [
           {
            "colorbar": {
             "outlinewidth": 0,
             "ticks": ""
            },
            "type": "contourcarpet"
           }
          ],
          "heatmap": [
           {
            "colorbar": {
             "outlinewidth": 0,
             "ticks": ""
            },
            "colorscale": [
             [
              0,
              "#0d0887"
             ],
             [
              0.1111111111111111,
              "#46039f"
             ],
             [
              0.2222222222222222,
              "#7201a8"
             ],
             [
              0.3333333333333333,
              "#9c179e"
             ],
             [
              0.4444444444444444,
              "#bd3786"
             ],
             [
              0.5555555555555556,
              "#d8576b"
             ],
             [
              0.6666666666666666,
              "#ed7953"
             ],
             [
              0.7777777777777778,
              "#fb9f3a"
             ],
             [
              0.8888888888888888,
              "#fdca26"
             ],
             [
              1,
              "#f0f921"
             ]
            ],
            "type": "heatmap"
           }
          ],
          "heatmapgl": [
           {
            "colorbar": {
             "outlinewidth": 0,
             "ticks": ""
            },
            "colorscale": [
             [
              0,
              "#0d0887"
             ],
             [
              0.1111111111111111,
              "#46039f"
             ],
             [
              0.2222222222222222,
              "#7201a8"
             ],
             [
              0.3333333333333333,
              "#9c179e"
             ],
             [
              0.4444444444444444,
              "#bd3786"
             ],
             [
              0.5555555555555556,
              "#d8576b"
             ],
             [
              0.6666666666666666,
              "#ed7953"
             ],
             [
              0.7777777777777778,
              "#fb9f3a"
             ],
             [
              0.8888888888888888,
              "#fdca26"
             ],
             [
              1,
              "#f0f921"
             ]
            ],
            "type": "heatmapgl"
           }
          ],
          "histogram": [
           {
            "marker": {
             "pattern": {
              "fillmode": "overlay",
              "size": 10,
              "solidity": 0.2
             }
            },
            "type": "histogram"
           }
          ],
          "histogram2d": [
           {
            "colorbar": {
             "outlinewidth": 0,
             "ticks": ""
            },
            "colorscale": [
             [
              0,
              "#0d0887"
             ],
             [
              0.1111111111111111,
              "#46039f"
             ],
             [
              0.2222222222222222,
              "#7201a8"
             ],
             [
              0.3333333333333333,
              "#9c179e"
             ],
             [
              0.4444444444444444,
              "#bd3786"
             ],
             [
              0.5555555555555556,
              "#d8576b"
             ],
             [
              0.6666666666666666,
              "#ed7953"
             ],
             [
              0.7777777777777778,
              "#fb9f3a"
             ],
             [
              0.8888888888888888,
              "#fdca26"
             ],
             [
              1,
              "#f0f921"
             ]
            ],
            "type": "histogram2d"
           }
          ],
          "histogram2dcontour": [
           {
            "colorbar": {
             "outlinewidth": 0,
             "ticks": ""
            },
            "colorscale": [
             [
              0,
              "#0d0887"
             ],
             [
              0.1111111111111111,
              "#46039f"
             ],
             [
              0.2222222222222222,
              "#7201a8"
             ],
             [
              0.3333333333333333,
              "#9c179e"
             ],
             [
              0.4444444444444444,
              "#bd3786"
             ],
             [
              0.5555555555555556,
              "#d8576b"
             ],
             [
              0.6666666666666666,
              "#ed7953"
             ],
             [
              0.7777777777777778,
              "#fb9f3a"
             ],
             [
              0.8888888888888888,
              "#fdca26"
             ],
             [
              1,
              "#f0f921"
             ]
            ],
            "type": "histogram2dcontour"
           }
          ],
          "mesh3d": [
           {
            "colorbar": {
             "outlinewidth": 0,
             "ticks": ""
            },
            "type": "mesh3d"
           }
          ],
          "parcoords": [
           {
            "line": {
             "colorbar": {
              "outlinewidth": 0,
              "ticks": ""
             }
            },
            "type": "parcoords"
           }
          ],
          "pie": [
           {
            "automargin": true,
            "type": "pie"
           }
          ],
          "scatter": [
           {
            "marker": {
             "colorbar": {
              "outlinewidth": 0,
              "ticks": ""
             }
            },
            "type": "scatter"
           }
          ],
          "scatter3d": [
           {
            "line": {
             "colorbar": {
              "outlinewidth": 0,
              "ticks": ""
             }
            },
            "marker": {
             "colorbar": {
              "outlinewidth": 0,
              "ticks": ""
             }
            },
            "type": "scatter3d"
           }
          ],
          "scattercarpet": [
           {
            "marker": {
             "colorbar": {
              "outlinewidth": 0,
              "ticks": ""
             }
            },
            "type": "scattercarpet"
           }
          ],
          "scattergeo": [
           {
            "marker": {
             "colorbar": {
              "outlinewidth": 0,
              "ticks": ""
             }
            },
            "type": "scattergeo"
           }
          ],
          "scattergl": [
           {
            "marker": {
             "colorbar": {
              "outlinewidth": 0,
              "ticks": ""
             }
            },
            "type": "scattergl"
           }
          ],
          "scattermapbox": [
           {
            "marker": {
             "colorbar": {
              "outlinewidth": 0,
              "ticks": ""
             }
            },
            "type": "scattermapbox"
           }
          ],
          "scatterpolar": [
           {
            "marker": {
             "colorbar": {
              "outlinewidth": 0,
              "ticks": ""
             }
            },
            "type": "scatterpolar"
           }
          ],
          "scatterpolargl": [
           {
            "marker": {
             "colorbar": {
              "outlinewidth": 0,
              "ticks": ""
             }
            },
            "type": "scatterpolargl"
           }
          ],
          "scatterternary": [
           {
            "marker": {
             "colorbar": {
              "outlinewidth": 0,
              "ticks": ""
             }
            },
            "type": "scatterternary"
           }
          ],
          "surface": [
           {
            "colorbar": {
             "outlinewidth": 0,
             "ticks": ""
            },
            "colorscale": [
             [
              0,
              "#0d0887"
             ],
             [
              0.1111111111111111,
              "#46039f"
             ],
             [
              0.2222222222222222,
              "#7201a8"
             ],
             [
              0.3333333333333333,
              "#9c179e"
             ],
             [
              0.4444444444444444,
              "#bd3786"
             ],
             [
              0.5555555555555556,
              "#d8576b"
             ],
             [
              0.6666666666666666,
              "#ed7953"
             ],
             [
              0.7777777777777778,
              "#fb9f3a"
             ],
             [
              0.8888888888888888,
              "#fdca26"
             ],
             [
              1,
              "#f0f921"
             ]
            ],
            "type": "surface"
           }
          ],
          "table": [
           {
            "cells": {
             "fill": {
              "color": "#EBF0F8"
             },
             "line": {
              "color": "white"
             }
            },
            "header": {
             "fill": {
              "color": "#C8D4E3"
             },
             "line": {
              "color": "white"
             }
            },
            "type": "table"
           }
          ]
         },
         "layout": {
          "annotationdefaults": {
           "arrowcolor": "#2a3f5f",
           "arrowhead": 0,
           "arrowwidth": 1
          },
          "autotypenumbers": "strict",
          "coloraxis": {
           "colorbar": {
            "outlinewidth": 0,
            "ticks": ""
           }
          },
          "colorscale": {
           "diverging": [
            [
             0,
             "#8e0152"
            ],
            [
             0.1,
             "#c51b7d"
            ],
            [
             0.2,
             "#de77ae"
            ],
            [
             0.3,
             "#f1b6da"
            ],
            [
             0.4,
             "#fde0ef"
            ],
            [
             0.5,
             "#f7f7f7"
            ],
            [
             0.6,
             "#e6f5d0"
            ],
            [
             0.7,
             "#b8e186"
            ],
            [
             0.8,
             "#7fbc41"
            ],
            [
             0.9,
             "#4d9221"
            ],
            [
             1,
             "#276419"
            ]
           ],
           "sequential": [
            [
             0,
             "#0d0887"
            ],
            [
             0.1111111111111111,
             "#46039f"
            ],
            [
             0.2222222222222222,
             "#7201a8"
            ],
            [
             0.3333333333333333,
             "#9c179e"
            ],
            [
             0.4444444444444444,
             "#bd3786"
            ],
            [
             0.5555555555555556,
             "#d8576b"
            ],
            [
             0.6666666666666666,
             "#ed7953"
            ],
            [
             0.7777777777777778,
             "#fb9f3a"
            ],
            [
             0.8888888888888888,
             "#fdca26"
            ],
            [
             1,
             "#f0f921"
            ]
           ],
           "sequentialminus": [
            [
             0,
             "#0d0887"
            ],
            [
             0.1111111111111111,
             "#46039f"
            ],
            [
             0.2222222222222222,
             "#7201a8"
            ],
            [
             0.3333333333333333,
             "#9c179e"
            ],
            [
             0.4444444444444444,
             "#bd3786"
            ],
            [
             0.5555555555555556,
             "#d8576b"
            ],
            [
             0.6666666666666666,
             "#ed7953"
            ],
            [
             0.7777777777777778,
             "#fb9f3a"
            ],
            [
             0.8888888888888888,
             "#fdca26"
            ],
            [
             1,
             "#f0f921"
            ]
           ]
          },
          "colorway": [
           "#636efa",
           "#EF553B",
           "#00cc96",
           "#ab63fa",
           "#FFA15A",
           "#19d3f3",
           "#FF6692",
           "#B6E880",
           "#FF97FF",
           "#FECB52"
          ],
          "font": {
           "color": "#2a3f5f"
          },
          "geo": {
           "bgcolor": "white",
           "lakecolor": "white",
           "landcolor": "#E5ECF6",
           "showlakes": true,
           "showland": true,
           "subunitcolor": "white"
          },
          "hoverlabel": {
           "align": "left"
          },
          "hovermode": "closest",
          "mapbox": {
           "style": "light"
          },
          "paper_bgcolor": "white",
          "plot_bgcolor": "#E5ECF6",
          "polar": {
           "angularaxis": {
            "gridcolor": "white",
            "linecolor": "white",
            "ticks": ""
           },
           "bgcolor": "#E5ECF6",
           "radialaxis": {
            "gridcolor": "white",
            "linecolor": "white",
            "ticks": ""
           }
          },
          "scene": {
           "xaxis": {
            "backgroundcolor": "#E5ECF6",
            "gridcolor": "white",
            "gridwidth": 2,
            "linecolor": "white",
            "showbackground": true,
            "ticks": "",
            "zerolinecolor": "white"
           },
           "yaxis": {
            "backgroundcolor": "#E5ECF6",
            "gridcolor": "white",
            "gridwidth": 2,
            "linecolor": "white",
            "showbackground": true,
            "ticks": "",
            "zerolinecolor": "white"
           },
           "zaxis": {
            "backgroundcolor": "#E5ECF6",
            "gridcolor": "white",
            "gridwidth": 2,
            "linecolor": "white",
            "showbackground": true,
            "ticks": "",
            "zerolinecolor": "white"
           }
          },
          "shapedefaults": {
           "line": {
            "color": "#2a3f5f"
           }
          },
          "ternary": {
           "aaxis": {
            "gridcolor": "white",
            "linecolor": "white",
            "ticks": ""
           },
           "baxis": {
            "gridcolor": "white",
            "linecolor": "white",
            "ticks": ""
           },
           "bgcolor": "#E5ECF6",
           "caxis": {
            "gridcolor": "white",
            "linecolor": "white",
            "ticks": ""
           }
          },
          "title": {
           "x": 0.05
          },
          "xaxis": {
           "automargin": true,
           "gridcolor": "white",
           "linecolor": "white",
           "ticks": "",
           "title": {
            "standoff": 15
           },
           "zerolinecolor": "white",
           "zerolinewidth": 2
          },
          "yaxis": {
           "automargin": true,
           "gridcolor": "white",
           "linecolor": "white",
           "ticks": "",
           "title": {
            "standoff": 15
           },
           "zerolinecolor": "white",
           "zerolinewidth": 2
          }
         }
        },
        "title": {
         "text": "Mean Graduation Rates For Historically Black Colleges and Universities"
        },
        "xaxis": {
         "title": {
          "text": "Is_HBCU"
         }
        },
        "yaxis": {
         "title": {
          "text": "Mean Graduation Rate"
         }
        }
       }
      },
      "text/html": [
       "<div>                            <div id=\"2bc9b0da-309b-4415-ab46-36f6d952a15a\" class=\"plotly-graph-div\" style=\"height:525px; width:100%;\"></div>            <script type=\"text/javascript\">                require([\"plotly\"], function(Plotly) {                    window.PLOTLYENV=window.PLOTLYENV || {};                                    if (document.getElementById(\"2bc9b0da-309b-4415-ab46-36f6d952a15a\")) {                    Plotly.newPlot(                        \"2bc9b0da-309b-4415-ab46-36f6d952a15a\",                        [{\"name\":\"Total Cohort\",\"text\":[33.7,52.2],\"type\":\"bar\",\"x\":[\"Yes\",\"No\"],\"y\":[33.7093023255814,52.207207207207205]},{\"name\":\"African American\",\"text\":[33.8,41.6],\"type\":\"bar\",\"x\":[\"Yes\",\"No\"],\"y\":[33.75581395348837,41.589267285861716]}],                        {\"font\":{\"family\":\"Courier New, monospace\",\"size\":16},\"template\":{\"data\":{\"bar\":[{\"error_x\":{\"color\":\"#2a3f5f\"},\"error_y\":{\"color\":\"#2a3f5f\"},\"marker\":{\"line\":{\"color\":\"#E5ECF6\",\"width\":0.5},\"pattern\":{\"fillmode\":\"overlay\",\"size\":10,\"solidity\":0.2}},\"type\":\"bar\"}],\"barpolar\":[{\"marker\":{\"line\":{\"color\":\"#E5ECF6\",\"width\":0.5},\"pattern\":{\"fillmode\":\"overlay\",\"size\":10,\"solidity\":0.2}},\"type\":\"barpolar\"}],\"carpet\":[{\"aaxis\":{\"endlinecolor\":\"#2a3f5f\",\"gridcolor\":\"white\",\"linecolor\":\"white\",\"minorgridcolor\":\"white\",\"startlinecolor\":\"#2a3f5f\"},\"baxis\":{\"endlinecolor\":\"#2a3f5f\",\"gridcolor\":\"white\",\"linecolor\":\"white\",\"minorgridcolor\":\"white\",\"startlinecolor\":\"#2a3f5f\"},\"type\":\"carpet\"}],\"choropleth\":[{\"colorbar\":{\"outlinewidth\":0,\"ticks\":\"\"},\"type\":\"choropleth\"}],\"contour\":[{\"colorbar\":{\"outlinewidth\":0,\"ticks\":\"\"},\"colorscale\":[[0.0,\"#0d0887\"],[0.1111111111111111,\"#46039f\"],[0.2222222222222222,\"#7201a8\"],[0.3333333333333333,\"#9c179e\"],[0.4444444444444444,\"#bd3786\"],[0.5555555555555556,\"#d8576b\"],[0.6666666666666666,\"#ed7953\"],[0.7777777777777778,\"#fb9f3a\"],[0.8888888888888888,\"#fdca26\"],[1.0,\"#f0f921\"]],\"type\":\"contour\"}],\"contourcarpet\":[{\"colorbar\":{\"outlinewidth\":0,\"ticks\":\"\"},\"type\":\"contourcarpet\"}],\"heatmap\":[{\"colorbar\":{\"outlinewidth\":0,\"ticks\":\"\"},\"colorscale\":[[0.0,\"#0d0887\"],[0.1111111111111111,\"#46039f\"],[0.2222222222222222,\"#7201a8\"],[0.3333333333333333,\"#9c179e\"],[0.4444444444444444,\"#bd3786\"],[0.5555555555555556,\"#d8576b\"],[0.6666666666666666,\"#ed7953\"],[0.7777777777777778,\"#fb9f3a\"],[0.8888888888888888,\"#fdca26\"],[1.0,\"#f0f921\"]],\"type\":\"heatmap\"}],\"heatmapgl\":[{\"colorbar\":{\"outlinewidth\":0,\"ticks\":\"\"},\"colorscale\":[[0.0,\"#0d0887\"],[0.1111111111111111,\"#46039f\"],[0.2222222222222222,\"#7201a8\"],[0.3333333333333333,\"#9c179e\"],[0.4444444444444444,\"#bd3786\"],[0.5555555555555556,\"#d8576b\"],[0.6666666666666666,\"#ed7953\"],[0.7777777777777778,\"#fb9f3a\"],[0.8888888888888888,\"#fdca26\"],[1.0,\"#f0f921\"]],\"type\":\"heatmapgl\"}],\"histogram\":[{\"marker\":{\"pattern\":{\"fillmode\":\"overlay\",\"size\":10,\"solidity\":0.2}},\"type\":\"histogram\"}],\"histogram2d\":[{\"colorbar\":{\"outlinewidth\":0,\"ticks\":\"\"},\"colorscale\":[[0.0,\"#0d0887\"],[0.1111111111111111,\"#46039f\"],[0.2222222222222222,\"#7201a8\"],[0.3333333333333333,\"#9c179e\"],[0.4444444444444444,\"#bd3786\"],[0.5555555555555556,\"#d8576b\"],[0.6666666666666666,\"#ed7953\"],[0.7777777777777778,\"#fb9f3a\"],[0.8888888888888888,\"#fdca26\"],[1.0,\"#f0f921\"]],\"type\":\"histogram2d\"}],\"histogram2dcontour\":[{\"colorbar\":{\"outlinewidth\":0,\"ticks\":\"\"},\"colorscale\":[[0.0,\"#0d0887\"],[0.1111111111111111,\"#46039f\"],[0.2222222222222222,\"#7201a8\"],[0.3333333333333333,\"#9c179e\"],[0.4444444444444444,\"#bd3786\"],[0.5555555555555556,\"#d8576b\"],[0.6666666666666666,\"#ed7953\"],[0.7777777777777778,\"#fb9f3a\"],[0.8888888888888888,\"#fdca26\"],[1.0,\"#f0f921\"]],\"type\":\"histogram2dcontour\"}],\"mesh3d\":[{\"colorbar\":{\"outlinewidth\":0,\"ticks\":\"\"},\"type\":\"mesh3d\"}],\"parcoords\":[{\"line\":{\"colorbar\":{\"outlinewidth\":0,\"ticks\":\"\"}},\"type\":\"parcoords\"}],\"pie\":[{\"automargin\":true,\"type\":\"pie\"}],\"scatter\":[{\"marker\":{\"colorbar\":{\"outlinewidth\":0,\"ticks\":\"\"}},\"type\":\"scatter\"}],\"scatter3d\":[{\"line\":{\"colorbar\":{\"outlinewidth\":0,\"ticks\":\"\"}},\"marker\":{\"colorbar\":{\"outlinewidth\":0,\"ticks\":\"\"}},\"type\":\"scatter3d\"}],\"scattercarpet\":[{\"marker\":{\"colorbar\":{\"outlinewidth\":0,\"ticks\":\"\"}},\"type\":\"scattercarpet\"}],\"scattergeo\":[{\"marker\":{\"colorbar\":{\"outlinewidth\":0,\"ticks\":\"\"}},\"type\":\"scattergeo\"}],\"scattergl\":[{\"marker\":{\"colorbar\":{\"outlinewidth\":0,\"ticks\":\"\"}},\"type\":\"scattergl\"}],\"scattermapbox\":[{\"marker\":{\"colorbar\":{\"outlinewidth\":0,\"ticks\":\"\"}},\"type\":\"scattermapbox\"}],\"scatterpolar\":[{\"marker\":{\"colorbar\":{\"outlinewidth\":0,\"ticks\":\"\"}},\"type\":\"scatterpolar\"}],\"scatterpolargl\":[{\"marker\":{\"colorbar\":{\"outlinewidth\":0,\"ticks\":\"\"}},\"type\":\"scatterpolargl\"}],\"scatterternary\":[{\"marker\":{\"colorbar\":{\"outlinewidth\":0,\"ticks\":\"\"}},\"type\":\"scatterternary\"}],\"surface\":[{\"colorbar\":{\"outlinewidth\":0,\"ticks\":\"\"},\"colorscale\":[[0.0,\"#0d0887\"],[0.1111111111111111,\"#46039f\"],[0.2222222222222222,\"#7201a8\"],[0.3333333333333333,\"#9c179e\"],[0.4444444444444444,\"#bd3786\"],[0.5555555555555556,\"#d8576b\"],[0.6666666666666666,\"#ed7953\"],[0.7777777777777778,\"#fb9f3a\"],[0.8888888888888888,\"#fdca26\"],[1.0,\"#f0f921\"]],\"type\":\"surface\"}],\"table\":[{\"cells\":{\"fill\":{\"color\":\"#EBF0F8\"},\"line\":{\"color\":\"white\"}},\"header\":{\"fill\":{\"color\":\"#C8D4E3\"},\"line\":{\"color\":\"white\"}},\"type\":\"table\"}]},\"layout\":{\"annotationdefaults\":{\"arrowcolor\":\"#2a3f5f\",\"arrowhead\":0,\"arrowwidth\":1},\"autotypenumbers\":\"strict\",\"coloraxis\":{\"colorbar\":{\"outlinewidth\":0,\"ticks\":\"\"}},\"colorscale\":{\"diverging\":[[0,\"#8e0152\"],[0.1,\"#c51b7d\"],[0.2,\"#de77ae\"],[0.3,\"#f1b6da\"],[0.4,\"#fde0ef\"],[0.5,\"#f7f7f7\"],[0.6,\"#e6f5d0\"],[0.7,\"#b8e186\"],[0.8,\"#7fbc41\"],[0.9,\"#4d9221\"],[1,\"#276419\"]],\"sequential\":[[0.0,\"#0d0887\"],[0.1111111111111111,\"#46039f\"],[0.2222222222222222,\"#7201a8\"],[0.3333333333333333,\"#9c179e\"],[0.4444444444444444,\"#bd3786\"],[0.5555555555555556,\"#d8576b\"],[0.6666666666666666,\"#ed7953\"],[0.7777777777777778,\"#fb9f3a\"],[0.8888888888888888,\"#fdca26\"],[1.0,\"#f0f921\"]],\"sequentialminus\":[[0.0,\"#0d0887\"],[0.1111111111111111,\"#46039f\"],[0.2222222222222222,\"#7201a8\"],[0.3333333333333333,\"#9c179e\"],[0.4444444444444444,\"#bd3786\"],[0.5555555555555556,\"#d8576b\"],[0.6666666666666666,\"#ed7953\"],[0.7777777777777778,\"#fb9f3a\"],[0.8888888888888888,\"#fdca26\"],[1.0,\"#f0f921\"]]},\"colorway\":[\"#636efa\",\"#EF553B\",\"#00cc96\",\"#ab63fa\",\"#FFA15A\",\"#19d3f3\",\"#FF6692\",\"#B6E880\",\"#FF97FF\",\"#FECB52\"],\"font\":{\"color\":\"#2a3f5f\"},\"geo\":{\"bgcolor\":\"white\",\"lakecolor\":\"white\",\"landcolor\":\"#E5ECF6\",\"showlakes\":true,\"showland\":true,\"subunitcolor\":\"white\"},\"hoverlabel\":{\"align\":\"left\"},\"hovermode\":\"closest\",\"mapbox\":{\"style\":\"light\"},\"paper_bgcolor\":\"white\",\"plot_bgcolor\":\"#E5ECF6\",\"polar\":{\"angularaxis\":{\"gridcolor\":\"white\",\"linecolor\":\"white\",\"ticks\":\"\"},\"bgcolor\":\"#E5ECF6\",\"radialaxis\":{\"gridcolor\":\"white\",\"linecolor\":\"white\",\"ticks\":\"\"}},\"scene\":{\"xaxis\":{\"backgroundcolor\":\"#E5ECF6\",\"gridcolor\":\"white\",\"gridwidth\":2,\"linecolor\":\"white\",\"showbackground\":true,\"ticks\":\"\",\"zerolinecolor\":\"white\"},\"yaxis\":{\"backgroundcolor\":\"#E5ECF6\",\"gridcolor\":\"white\",\"gridwidth\":2,\"linecolor\":\"white\",\"showbackground\":true,\"ticks\":\"\",\"zerolinecolor\":\"white\"},\"zaxis\":{\"backgroundcolor\":\"#E5ECF6\",\"gridcolor\":\"white\",\"gridwidth\":2,\"linecolor\":\"white\",\"showbackground\":true,\"ticks\":\"\",\"zerolinecolor\":\"white\"}},\"shapedefaults\":{\"line\":{\"color\":\"#2a3f5f\"}},\"ternary\":{\"aaxis\":{\"gridcolor\":\"white\",\"linecolor\":\"white\",\"ticks\":\"\"},\"baxis\":{\"gridcolor\":\"white\",\"linecolor\":\"white\",\"ticks\":\"\"},\"bgcolor\":\"#E5ECF6\",\"caxis\":{\"gridcolor\":\"white\",\"linecolor\":\"white\",\"ticks\":\"\"}},\"title\":{\"x\":0.05},\"xaxis\":{\"automargin\":true,\"gridcolor\":\"white\",\"linecolor\":\"white\",\"ticks\":\"\",\"title\":{\"standoff\":15},\"zerolinecolor\":\"white\",\"zerolinewidth\":2},\"yaxis\":{\"automargin\":true,\"gridcolor\":\"white\",\"linecolor\":\"white\",\"ticks\":\"\",\"title\":{\"standoff\":15},\"zerolinecolor\":\"white\",\"zerolinewidth\":2}}},\"title\":{\"text\":\"Mean Graduation Rates For Historically Black Colleges and Universities\"},\"xaxis\":{\"title\":{\"text\":\"Is_HBCU\"}},\"yaxis\":{\"title\":{\"text\":\"Mean Graduation Rate\"}}},                        {\"responsive\": true}                    ).then(function(){\n",
       "                            \n",
       "var gd = document.getElementById('2bc9b0da-309b-4415-ab46-36f6d952a15a');\n",
       "var x = new MutationObserver(function (mutations, observer) {{\n",
       "        var display = window.getComputedStyle(gd).display;\n",
       "        if (!display || display === 'none') {{\n",
       "            console.log([gd, 'removed!']);\n",
       "            Plotly.purge(gd);\n",
       "            observer.disconnect();\n",
       "        }}\n",
       "}});\n",
       "\n",
       "// Listen for the removal of the full notebook cells\n",
       "var notebookContainer = gd.closest('#notebook-container');\n",
       "if (notebookContainer) {{\n",
       "    x.observe(notebookContainer, {childList: true});\n",
       "}}\n",
       "\n",
       "// Listen for the clearing of the current output cell\n",
       "var outputEl = gd.closest('.output');\n",
       "if (outputEl) {{\n",
       "    x.observe(outputEl, {childList: true});\n",
       "}}\n",
       "\n",
       "                        })                };                });            </script>        </div>"
      ]
     },
     "metadata": {},
     "output_type": "display_data"
    }
   ],
   "source": [
    "fig = go.Figure(\n",
    "    data = [\n",
    "        go.Bar(x=grad_rate_hbcu.index, y=grad_rate_hbcu[total], \n",
    "               text=np.round(grad_rate_hbcu[total], 1), name=\"Total Cohort\"),\n",
    "        go.Bar(x=grad_rate_hbcu.index, y=grad_rate_hbcu[black], \n",
    "               text=np.round(grad_rate_hbcu[black], 1), name=\"African American\"),\n",
    "    ]\n",
    ")\n",
    "\n",
    "_ = fig.update_layout(\n",
    "    title=\"Mean Graduation Rates For Historically Black Colleges and Universities\",\n",
    "    xaxis={\n",
    "        'title': \"Is_HBCU\"\n",
    "    },\n",
    "    yaxis={\n",
    "        'title': 'Mean Graduation Rate'\n",
    "    },\n",
    "    font=dict(\n",
    "        family=\"Courier New, monospace\",\n",
    "        size=16,\n",
    "    )\n",
    "    \n",
    ")\n",
    "fig.show()"
   ]
  },
  {
   "cell_type": "markdown",
   "id": "0b900868",
   "metadata": {
    "cell_style": "split",
    "hide_input": true,
    "slideshow": {
     "slide_type": "fragment"
    }
   },
   "source": [
    "<h2><center>Whats Wrong With These comparisons?</center></h2>"
   ]
  },
  {
   "cell_type": "markdown",
   "id": "773408fc",
   "metadata": {
    "cell_style": "split",
    "hide_input": false,
    "slideshow": {
     "slide_type": "fragment"
    }
   },
   "source": [
    "<h3><ol><li>Correlation Between Features</li></ol></h3>"
   ]
  },
  {
   "cell_type": "markdown",
   "id": "6edd15c7",
   "metadata": {
    "cell_style": "split",
    "slideshow": {
     "slide_type": "fragment"
    }
   },
   "source": [
    "<h3><ol start=2><li>Controlling for other Features</li></ol></h3>"
   ]
  },
  {
   "cell_type": "code",
   "execution_count": 26,
   "id": "8dfee1bb",
   "metadata": {
    "slideshow": {
     "slide_type": "skip"
    }
   },
   "outputs": [],
   "source": [
    "hbcu_df = df[df[hbcu] == 'Yes']\n",
    "hwcu_df = df[df[hbcu] == 'No']\n",
    "missing = df[df[hbcu] == 'isMissing']"
   ]
  },
  {
   "cell_type": "code",
   "execution_count": 27,
   "id": "06f5282c",
   "metadata": {
    "slideshow": {
     "slide_type": "skip"
    }
   },
   "outputs": [],
   "source": [
    "price = df.filter(regex='price').columns[2]\n",
    "test_score = df.filter(regex='Composite').columns[0]"
   ]
  },
  {
   "cell_type": "markdown",
   "id": "1a9522f3",
   "metadata": {
    "slideshow": {
     "slide_type": "slide"
    }
   },
   "source": [
    "<h1><center>HBCU Graduation Rates Vs Price</center></h1>"
   ]
  },
  {
   "cell_type": "code",
   "execution_count": 151,
   "id": "99a98dab",
   "metadata": {
    "cell_style": "center",
    "hide_input": false,
    "slideshow": {
     "slide_type": "fragment"
    }
   },
   "outputs": [
    {
     "data": {
      "application/vnd.jupyter.widget-view+json": {
       "model_id": "8d869f30ac9e4442bfad75a12d2daefb",
       "version_major": 2,
       "version_minor": 0
      },
      "text/plain": [
       "HBox(children=(Dropdown(description='Feature:', index=117, options=('Core_Revenues', 'Tuition_And_Fees', 'Gove…"
      ]
     },
     "metadata": {},
     "output_type": "display_data"
    },
    {
     "data": {
      "application/vnd.jupyter.widget-view+json": {
       "model_id": "1c06a1411ad64976a3b943d34a0741d7",
       "version_major": 2,
       "version_minor": 0
      },
      "text/plain": [
       "Output()"
      ]
     },
     "metadata": {},
     "output_type": "display_data"
    }
   ],
   "source": [
    "range_ = [12, 26]\n",
    "degree = wg.IntSlider(value=1, min=1, max=3)\n",
    "\n",
    "feature_picker = wg.Dropdown(\n",
    "    options=X.columns,\n",
    "    value=X.filter(regex=\"price\").columns[-1],\n",
    "    description='Feature:',\n",
    "    disabled=False,\n",
    ")\n",
    "target_picker = wg.Dropdown(\n",
    "    options=grad_rates.columns,\n",
    "    value=grad_rates.columns[0],\n",
    "    description='Target:',\n",
    "    disabled=False,\n",
    ")\n",
    "color_picker = wg.Dropdown(\n",
    "    options=X.filter(regex=\"Sector|Historically|State|Basic|Size and Setting|category\").columns,\n",
    "    value=X.filter(regex=\"Historically\").columns[0],\n",
    "    description='Color:',\n",
    "    disabled=False,\n",
    ")\n",
    "\n",
    "\n",
    "def fe_plot(feature, target, color):\n",
    "    \n",
    "    fig2 = go.Figure()\n",
    "    \n",
    "    fig2.add_trace(go.Scatter(\n",
    "        x=X[X[color] == 0.0][feature], y=X[X[color] == 0.0][target], mode=\"markers\", name=\"No\", hovertext=X[\"Institution Name\"]\n",
    "    ))\n",
    "    \n",
    "    fig2.add_trace(go.Scatter(\n",
    "        x=X[X[color] == 1.0][feature], y=X[X[color] != 0.0][target], mode=\"markers\", name=\"Yes\", hovertext=X[\"Institution Name\"]\n",
    "    ))\n",
    "    \n",
    "    \n",
    "    fig2.add_trace(go.Scatter(\n",
    "        x=sample[feature], y=sample_y[target], mode=\"markers\", name=\"Sample Universities\", hovertext=\"Duquesne\"\n",
    "    ))\n",
    "    \n",
    "    fig2.update_layout(\n",
    "        title=\"HBCU \" + target +  \" Vs. Price\",\n",
    "        xaxis={\n",
    "            \"title\": feature,\n",
    "            \"range\": [df[feature].min() - df[feature].std() / 10, df[feature].max() + df[feature].std() / 10]\n",
    "        },\n",
    "        yaxis={\n",
    "            \"title\": \"Graduation Rate\",\n",
    "            \"range\": [-5,105]\n",
    "        },\n",
    "        legend={\n",
    "            'orientation': 'v',\n",
    "            'title': color,\n",
    "            'x': 0.5,\n",
    "            'y': 1.1,\n",
    "            'bgcolor': \"rgba(176,196,222,0.7)\",\n",
    "            'bordercolor': \"black\",\n",
    "            'borderwidth': 2,\n",
    "            'itemclick': \"toggle\",\n",
    "        },\n",
    "        font=dict(\n",
    "            family=\"Courier New, monospace\",\n",
    "            size=14),\n",
    "        height=700\n",
    "    )\n",
    "    \n",
    "    fig2.update_traces(marker=dict(size=12,\n",
    "                                  line=dict(width=2,\n",
    "                                  color='DarkSlateGrey')),\n",
    "                      selector=dict(mode='markers'))\n",
    "    \n",
    "\n",
    "    display(fig2.show())\n",
    "    \n",
    "\n",
    "ui = wg.HBox([feature_picker, target_picker, color_picker])  \n",
    "\n",
    "func_params = {\n",
    "    'feature': feature_picker,\n",
    "    'target': target_picker,\n",
    "    'color': color_picker\n",
    "}\n",
    "\n",
    "\n",
    "output = wg.interactive_output(fe_plot, func_params)   \n",
    "\n",
    "\n",
    "display(ui, output)   "
   ]
  },
  {
   "cell_type": "code",
   "execution_count": 29,
   "id": "1a5c59fc",
   "metadata": {
    "scrolled": false,
    "slideshow": {
     "slide_type": "skip"
    }
   },
   "outputs": [
    {
     "data": {
      "text/plain": [
       "{130943, 141060, 199111}"
      ]
     },
     "execution_count": 29,
     "metadata": {},
     "output_type": "execute_result"
    }
   ],
   "source": [
    "set(df.index) - set(X_df.index)"
   ]
  },
  {
   "cell_type": "markdown",
   "id": "6365ee97",
   "metadata": {
    "slideshow": {
     "slide_type": "slide"
    }
   },
   "source": [
    "<h1><center>Human Resources (Total Instructional Staff)</center></h1>"
   ]
  },
  {
   "cell_type": "code",
   "execution_count": 149,
   "id": "d29f03f5",
   "metadata": {
    "hide_input": false,
    "scrolled": false,
    "slideshow": {
     "slide_type": "fragment"
    }
   },
   "outputs": [
    {
     "data": {
      "application/vnd.jupyter.widget-view+json": {
       "model_id": "26b3b2c7eedc4b7ba9e0c60fd373077d",
       "version_major": 2,
       "version_minor": 0
      },
      "text/plain": [
       "HBox(children=(Dropdown(description='Feature:', index=28, options=('Core_Revenues', 'Tuition_And_Fees', 'Gover…"
      ]
     },
     "metadata": {},
     "output_type": "display_data"
    },
    {
     "data": {
      "application/vnd.jupyter.widget-view+json": {
       "model_id": "c02ba9488a404cc68f24fbdefc7e578f",
       "version_major": 2,
       "version_minor": 0
      },
      "text/plain": [
       "Output()"
      ]
     },
     "metadata": {},
     "output_type": "display_data"
    }
   ],
   "source": [
    "range_ = [12, 26]\n",
    "degree = wg.IntSlider(value=1, min=1, max=3)\n",
    "\n",
    "feature_picker = wg.Dropdown(\n",
    "    options=X.columns,\n",
    "    value=X.filter(regex=\"Grand.*instructional_staff\").columns[0],\n",
    "    description='Feature:',\n",
    "    disabled=False,\n",
    ")\n",
    "target_picker = wg.Dropdown(\n",
    "    options=grad_rates.columns,\n",
    "    value=grad_rates.columns[0],\n",
    "    description='Feature:',\n",
    "    disabled=False,\n",
    ")\n",
    "color_picker = wg.Dropdown(\n",
    "    options=X.filter(regex=\"Sector|Historically|State|Basic|Size and Setting|category\").columns,\n",
    "    value=X.filter(regex=\"Historically\").columns[0],\n",
    "    description='Color:',\n",
    "    disabled=False,\n",
    ")\n",
    "\n",
    "\n",
    "def fe_plot(feature, target, color):\n",
    "    \n",
    "    fig2 = go.Figure()\n",
    "    \n",
    "    fig2.add_trace(go.Scatter(\n",
    "        x=X[X[color] == 0.0][feature], y=X[X[color] == 0.0][target], mode=\"markers\", name=\"No\", hovertext=X[\"Institution Name\"]\n",
    "    ))\n",
    "    \n",
    "    fig2.add_trace(go.Scatter(\n",
    "        x=X[X[color] == 1.0][feature], y=X[X[color] != 0.0][target], mode=\"markers\", name=\"Yes\", hovertext=X[\"Institution Name\"]\n",
    "    ))\n",
    "    \n",
    "    \n",
    "    fig2.add_trace(go.Scatter(\n",
    "        x=x_holdout[feature], y=y_holdout, mode=\"markers\", name=\"Sample Universities\", hovertext=x_holdout.index, line=dict(color=\"rgba(20,220,20,1)\")\n",
    "    ))\n",
    "    \n",
    "    fig2.update_layout(\n",
    "        title=\"Grand Total Instructional Staff\",\n",
    "        xaxis={\n",
    "            \"title\": feature,\n",
    "            \"range\": [df[feature].min() - df[feature].std() / 10, df[feature].max() + df[feature].std() / 10]\n",
    "        },\n",
    "        yaxis={\n",
    "            \"title\": \"Graduation Rate\",\n",
    "            \"range\": [-5,105]\n",
    "        },\n",
    "        legend={\n",
    "            'orientation': 'v',\n",
    "            'title': color,\n",
    "            'x': 0.5,\n",
    "            'y': 1.1,\n",
    "            'bgcolor': \"rgba(176,196,222,0.7)\",\n",
    "            'bordercolor': \"black\",\n",
    "            'borderwidth': 2,\n",
    "            'itemclick': \"toggle\",\n",
    "        },\n",
    "        font=dict(\n",
    "            family=\"Courier New, monospace\",\n",
    "            size=14),\n",
    "        height=700\n",
    "    )\n",
    "\n",
    "    fig2.update_traces(marker=dict(size=12,\n",
    "                                  line=dict(width=2,\n",
    "                                  color='DarkSlateGrey')),\n",
    "                      selector=dict(mode='markers'))\n",
    "\n",
    "    display(fig2.show())\n",
    "    \n",
    "\n",
    "ui = wg.HBox([feature_picker, target_picker, color_picker])  \n",
    "\n",
    "func_params = {\n",
    "    'feature': feature_picker,\n",
    "    'target': target_picker,\n",
    "    'color': color_picker\n",
    "}\n",
    "\n",
    "\n",
    "output = wg.interactive_output(fe_plot, func_params)   \n",
    "\n",
    "\n",
    "display(ui, output)   "
   ]
  },
  {
   "cell_type": "code",
   "execution_count": 31,
   "id": "d97998d7",
   "metadata": {
    "code_folding": [
     0
    ],
    "slideshow": {
     "slide_type": "skip"
    }
   },
   "outputs": [],
   "source": [
    "cc_ss = df.filter(regex=\"Size and Setting\").columns[0]"
   ]
  },
  {
   "cell_type": "code",
   "execution_count": 32,
   "id": "f6e6e2c6",
   "metadata": {
    "slideshow": {
     "slide_type": "skip"
    }
   },
   "outputs": [],
   "source": [
    "highly = 'highly residential'\n",
    "nonres = 'primarily nonresidential'\n",
    "res = 'primarily residential'"
   ]
  },
  {
   "cell_type": "code",
   "execution_count": 33,
   "id": "82239a5b",
   "metadata": {
    "code_folding": [],
    "slideshow": {
     "slide_type": "skip"
    }
   },
   "outputs": [],
   "source": [
    "res_level_map = df[cc_ss].map({\n",
    "    'Two-year, very small': np.nan,\n",
    "    'Two-year, small': np.nan,\n",
    "    'Two-year, medium': np.nan,\n",
    "    'Two-year, large': np.nan,\n",
    "    'Two-year, very large': np.nan,\n",
    "    \n",
    "    'Four-year, very small, primarily nonresidential': nonres,\n",
    "    'Four-year, very small, primarily residential': res,\n",
    "    'Four-year, very small, highly residential': highly,\n",
    "    \n",
    "    'Four-year, small, primarily nonresidential': nonres,\n",
    "    'Four-year, small, primarily residential': res,\n",
    "    'Four-year, small, highly residential': highly,\n",
    "    \n",
    "    'Four-year, medium, primarily nonresidential': nonres,\n",
    "    'Four-year, medium, primarily residential': res,\n",
    "    'Four-year, medium, highly residential': highly,\n",
    "    \n",
    "    \n",
    "    'Four-year, large, primarily nonresidential': nonres,\n",
    "    'Four-year, large, primarily residential': res,\n",
    "    'Four-year, large, highly residential': highly,\n",
    "    \n",
    "    'Not applicable, not in Carnegie universe (not accredited or nondegree-granting)': np.nan,\n",
    "    'Exclusively graduate/professional': np.nan,\n",
    "    'isMissing': np.nan\n",
    "})"
   ]
  },
  {
   "cell_type": "code",
   "execution_count": 34,
   "id": "67621c49",
   "metadata": {
    "slideshow": {
     "slide_type": "skip"
    }
   },
   "outputs": [],
   "source": [
    "X[\"Residential_Level\"] = res_level_map"
   ]
  },
  {
   "cell_type": "code",
   "execution_count": 35,
   "id": "312e7370",
   "metadata": {
    "slideshow": {
     "slide_type": "skip"
    }
   },
   "outputs": [],
   "source": [
    "X[\"Log_Core_Revenues\"] = np.log(X[\"Core_Revenues\"])\n",
    "X[\"Log_Revenue_Level\"] = pd.cut(X[\"Log_Core_Revenues\"], bins=3, labels=[0, 1, 2])"
   ]
  },
  {
   "cell_type": "code",
   "execution_count": 36,
   "id": "94107837",
   "metadata": {
    "slideshow": {
     "slide_type": "skip"
    }
   },
   "outputs": [],
   "source": [
    "labels = ['<=15.6', '15.6 < Rev <= 19.1', ' 19.1 < Rev <= 22.8']"
   ]
  },
  {
   "cell_type": "code",
   "execution_count": 37,
   "id": "e3b71b80",
   "metadata": {
    "slideshow": {
     "slide_type": "skip"
    }
   },
   "outputs": [],
   "source": [
    "rev_level = X[\"Log_Revenue_Level\"].dropna().unique()\n",
    "res_level = X[\"Residential_Level\"].dropna().unique()"
   ]
  },
  {
   "cell_type": "code",
   "execution_count": 38,
   "id": "2fe88991",
   "metadata": {
    "collapsed": true,
    "slideshow": {
     "slide_type": "skip"
    }
   },
   "outputs": [
    {
     "data": {
      "text/plain": [
       "UnitID\n",
       "219505    0\n",
       "444398    0\n",
       "176789    0\n",
       "224244    0\n",
       "194569    0\n",
       "202903    0\n",
       "198677    0\n",
       "436614    0\n",
       "421832    0\n",
       "192624    0\n",
       "230977    0\n",
       "208725    0\n",
       "439862    0\n",
       "194666    0\n",
       "484871    0\n",
       "207157    0\n",
       "123280    0\n",
       "181543    0\n",
       "137953    0\n",
       "137962    0\n",
       "234137    0\n",
       "197601    0\n",
       "488101    0\n",
       "Name: Log_Revenue_Level, dtype: category\n",
       "Categories (3, int64): [0 < 1 < 2]"
      ]
     },
     "execution_count": 38,
     "metadata": {},
     "output_type": "execute_result"
    }
   ],
   "source": [
    "X[X[\"Log_Revenue_Level\"] == rev_level[1]][\"Log_Revenue_Level\"][X[\"Residential_Level\"] == res_level[1]]"
   ]
  },
  {
   "cell_type": "markdown",
   "id": "7198e7f7",
   "metadata": {
    "hide_input": true,
    "slideshow": {
     "slide_type": "slide"
    }
   },
   "source": [
    "<h1><center>Residential Level</center></h1>"
   ]
  },
  {
   "cell_type": "code",
   "execution_count": 43,
   "id": "a623eae0",
   "metadata": {
    "slideshow": {
     "slide_type": "skip"
    }
   },
   "outputs": [],
   "source": [
    "# Creating one series that contains residential Level (nonresidential, residential, highly residential)\n",
    "highly_series = X_fe.filter(regex=\"highly\").sum(axis=1).replace({0: np.nan, 1: highly})\n",
    "non_series = X_fe.filter(regex=\"primarily nonresidential\").sum(axis=1).replace({0: np.nan, 1: nonres})\n",
    "res_series = X_fe.filter(regex=\"primarily residential\").sum(axis=1).replace({0: np.nan, 1: res})\n",
    "\n",
    "residential_series = pd.concat([highly_series, non_series, res_series]).dropna()\n",
    "residential_series = pd.DataFrame(residential_series).reset_index()"
   ]
  },
  {
   "cell_type": "code",
   "execution_count": 45,
   "id": "deb71095",
   "metadata": {
    "slideshow": {
     "slide_type": "skip"
    }
   },
   "outputs": [],
   "source": [
    "# merging that series back on to X_features\n",
    "X_fe = X_fe.reset_index().merge(residential_series, on=\"UnitID\", how=\"outer\")\n",
    "\n",
    "X_fe.rename({0: \"Residential_Level\"}, axis=1, inplace=True)\n",
    "# Fill missing with \"Missing\"\n",
    "X_fe.Residential_Level.fillna(\"Missing\", inplace=True)\n",
    "# Merge y onto features df\n",
    "X_fe = X_fe.merge(y.reset_index(), on=\"UnitID\", how=\"outer\")\n",
    "# Reeset the index back to \"UnitID\"\n",
    "X_fe.set_index(\"UnitID\", inplace=True)"
   ]
  },
  {
   "cell_type": "code",
   "execution_count": 49,
   "id": "29daf6ab",
   "metadata": {
    "slideshow": {
     "slide_type": "skip"
    }
   },
   "outputs": [],
   "source": [
    "import plotly.io as pio\n",
    "\n",
    "# naming a layout theme for future reference\n",
    "pio.templates[\"google\"] = go.layout.Template(\n",
    "    layout_colorway=['#4285F4', '#DB4437', '#F4B400', '#0F9D58',\n",
    "                     '#185ABC', '#B31412', '#EA8600', '#137333',\n",
    "                     '#d2e3fc', '#ceead6']\n",
    ")\n",
    "# setting Google color palette as default\n",
    "\n",
    "# pio.templates.default = \"google\""
   ]
  },
  {
   "cell_type": "code",
   "execution_count": 51,
   "id": "c169f426",
   "metadata": {
    "slideshow": {
     "slide_type": "skip"
    }
   },
   "outputs": [],
   "source": [
    "# Elastic Net Model used for predictions\n",
    "elastic_net = model_log[-1]['model']"
   ]
  },
  {
   "cell_type": "code",
   "execution_count": 52,
   "id": "4ae4c61a",
   "metadata": {
    "slideshow": {
     "slide_type": "skip"
    }
   },
   "outputs": [],
   "source": [
    "\n",
    "enet_pred = elastic_net.predict(x_test)"
   ]
  },
  {
   "cell_type": "code",
   "execution_count": 53,
   "id": "899cf28c",
   "metadata": {
    "slideshow": {
     "slide_type": "skip"
    }
   },
   "outputs": [],
   "source": [
    "\n",
    "coefs = elastic_net['classifier'].coef_\n",
    "coefs_dict = dict(zip(X_df.columns, coefs))\n",
    "sorted_coefs = {i: v for i, v in sorted(coefs_dict.items(), key=lambda x: np.abs(x[1]))}"
   ]
  },
  {
   "cell_type": "code",
   "execution_count": 54,
   "id": "eb85e139",
   "metadata": {
    "slideshow": {
     "slide_type": "skip"
    }
   },
   "outputs": [],
   "source": [
    "coefs_df = pd.DataFrame(sorted_coefs, index=[0])"
   ]
  },
  {
   "cell_type": "code",
   "execution_count": 55,
   "id": "9c9b2a6a",
   "metadata": {
    "slideshow": {
     "slide_type": "slide"
    }
   },
   "outputs": [],
   "source": [
    "sorted_df = coefs_df.iloc[:, -10:].transpose().sort_values(by=0).transpose()"
   ]
  },
  {
   "cell_type": "markdown",
   "id": "9baff90c",
   "metadata": {
    "slideshow": {
     "slide_type": "fragment"
    }
   },
   "source": [
    "<h1><center>Elastic Net Coefficients</center></h1>"
   ]
  },
  {
   "cell_type": "code",
   "execution_count": 222,
   "id": "a4f218be",
   "metadata": {},
   "outputs": [
    {
     "data": {
      "text/html": [
       "<div>\n",
       "<style scoped>\n",
       "    .dataframe tbody tr th:only-of-type {\n",
       "        vertical-align: middle;\n",
       "    }\n",
       "\n",
       "    .dataframe tbody tr th {\n",
       "        vertical-align: top;\n",
       "    }\n",
       "\n",
       "    .dataframe thead th {\n",
       "        text-align: right;\n",
       "    }\n",
       "</style>\n",
       "<table border=\"1\" class=\"dataframe\">\n",
       "  <thead>\n",
       "    <tr style=\"text-align: right;\">\n",
       "      <th></th>\n",
       "      <th>Percent of full-time first-time undergraduates awarded federal  state  local or institutional grant aid (SFA1819)</th>\n",
       "      <th>Percent of total enrollment that are Black or African American (DRVEF2013_RV)</th>\n",
       "      <th>Log_Tuition_And_Fees_As_Dollar_Amount</th>\n",
       "      <th>Government_Grants</th>\n",
       "      <th>Student_Service_Expenses</th>\n",
       "      <th>ACT Composite 75th percentile score (IC2012_RV)</th>\n",
       "      <th>Institution size category (HD2018)_Under 1,000</th>\n",
       "      <th>Total price for in-district students living off campus (with family)  2012-13 (DRVIC2012_RV)</th>\n",
       "      <th>Log_Core_Revenues</th>\n",
       "      <th>Percent of full-time first-time undergraduates awarded any financial aid (SFA1819)</th>\n",
       "    </tr>\n",
       "  </thead>\n",
       "  <tbody>\n",
       "    <tr>\n",
       "      <th>0</th>\n",
       "      <td>-4.424078</td>\n",
       "      <td>-3.05555</td>\n",
       "      <td>-2.957731</td>\n",
       "      <td>-2.63252</td>\n",
       "      <td>-2.618674</td>\n",
       "      <td>2.564262</td>\n",
       "      <td>2.570295</td>\n",
       "      <td>2.791732</td>\n",
       "      <td>3.215251</td>\n",
       "      <td>3.548572</td>\n",
       "    </tr>\n",
       "  </tbody>\n",
       "</table>\n",
       "</div>"
      ],
      "text/plain": [
       "   Percent of full-time first-time undergraduates awarded federal  state  local or institutional grant aid (SFA1819)  \\\n",
       "0                                          -4.424078                                                                   \n",
       "\n",
       "   Percent of total enrollment that are Black or African American (DRVEF2013_RV)  \\\n",
       "0                                           -3.05555                               \n",
       "\n",
       "   Log_Tuition_And_Fees_As_Dollar_Amount  Government_Grants  \\\n",
       "0                              -2.957731           -2.63252   \n",
       "\n",
       "   Student_Service_Expenses  ACT Composite 75th percentile score (IC2012_RV)  \\\n",
       "0                 -2.618674                                         2.564262   \n",
       "\n",
       "   Institution size category (HD2018)_Under 1,000  \\\n",
       "0                                        2.570295   \n",
       "\n",
       "   Total price for in-district students living off campus (with family)  2012-13 (DRVIC2012_RV)  \\\n",
       "0                                           2.791732                                              \n",
       "\n",
       "   Log_Core_Revenues  \\\n",
       "0           3.215251   \n",
       "\n",
       "   Percent of full-time first-time undergraduates awarded any financial aid (SFA1819)  \n",
       "0                                           3.548572                                   "
      ]
     },
     "execution_count": 222,
     "metadata": {},
     "output_type": "execute_result"
    }
   ],
   "source": [
    "sorted_df"
   ]
  },
  {
   "cell_type": "code",
   "execution_count": 223,
   "id": "547b68a5",
   "metadata": {
    "cell_style": "center",
    "hide_input": false,
    "scrolled": false,
    "slideshow": {
     "slide_type": "slide"
    }
   },
   "outputs": [
    {
     "data": {
      "application/vnd.plotly.v1+json": {
       "config": {
        "plotlyServerURL": "https://plot.ly"
       },
       "data": [
        {
         "orientation": "v",
         "text": [
          -4.42,
          -3.06,
          -2.96,
          -2.63,
          -2.62,
          2.56,
          2.57,
          2.79,
          3.22,
          3.55
         ],
         "type": "bar",
         "x": [
          "Percent of full-time first-time undergraduates awarded federal  state  local or institutional grant aid (SFA1819)",
          "Percent of total enrollment that are Black or African American (DRVEF2013_RV)",
          "Log_Tuition_And_Fees_As_Dollar_Amount",
          "Government_Grants",
          "Student_Service_Expenses",
          "ACT Composite 75th percentile score (IC2012_RV)",
          "Institution size category (HD2018)_Under 1,000",
          "Total price for in-district students living off campus (with family)  2012-13 (DRVIC2012_RV)",
          "Log_Core_Revenues",
          "Percent of full-time first-time undergraduates awarded any financial aid (SFA1819)"
         ],
         "y": [
          -4.4240781988802675,
          -3.0555499227636806,
          -2.957731056575193,
          -2.6325199882018473,
          -2.6186736865226434,
          2.564262445908202,
          2.5702951182424263,
          2.7917318687768287,
          3.2152511117142764,
          3.5485720596790915
         ]
        }
       ],
       "layout": {
        "barmode": "group",
        "font": {
         "size": 16
        },
        "height": 700,
        "template": {
         "data": {
          "bar": [
           {
            "error_x": {
             "color": "#2a3f5f"
            },
            "error_y": {
             "color": "#2a3f5f"
            },
            "marker": {
             "line": {
              "color": "#E5ECF6",
              "width": 0.5
             },
             "pattern": {
              "fillmode": "overlay",
              "size": 10,
              "solidity": 0.2
             }
            },
            "type": "bar"
           }
          ],
          "barpolar": [
           {
            "marker": {
             "line": {
              "color": "#E5ECF6",
              "width": 0.5
             },
             "pattern": {
              "fillmode": "overlay",
              "size": 10,
              "solidity": 0.2
             }
            },
            "type": "barpolar"
           }
          ],
          "carpet": [
           {
            "aaxis": {
             "endlinecolor": "#2a3f5f",
             "gridcolor": "white",
             "linecolor": "white",
             "minorgridcolor": "white",
             "startlinecolor": "#2a3f5f"
            },
            "baxis": {
             "endlinecolor": "#2a3f5f",
             "gridcolor": "white",
             "linecolor": "white",
             "minorgridcolor": "white",
             "startlinecolor": "#2a3f5f"
            },
            "type": "carpet"
           }
          ],
          "choropleth": [
           {
            "colorbar": {
             "outlinewidth": 0,
             "ticks": ""
            },
            "type": "choropleth"
           }
          ],
          "contour": [
           {
            "colorbar": {
             "outlinewidth": 0,
             "ticks": ""
            },
            "colorscale": [
             [
              0,
              "#0d0887"
             ],
             [
              0.1111111111111111,
              "#46039f"
             ],
             [
              0.2222222222222222,
              "#7201a8"
             ],
             [
              0.3333333333333333,
              "#9c179e"
             ],
             [
              0.4444444444444444,
              "#bd3786"
             ],
             [
              0.5555555555555556,
              "#d8576b"
             ],
             [
              0.6666666666666666,
              "#ed7953"
             ],
             [
              0.7777777777777778,
              "#fb9f3a"
             ],
             [
              0.8888888888888888,
              "#fdca26"
             ],
             [
              1,
              "#f0f921"
             ]
            ],
            "type": "contour"
           }
          ],
          "contourcarpet": [
           {
            "colorbar": {
             "outlinewidth": 0,
             "ticks": ""
            },
            "type": "contourcarpet"
           }
          ],
          "heatmap": [
           {
            "colorbar": {
             "outlinewidth": 0,
             "ticks": ""
            },
            "colorscale": [
             [
              0,
              "#0d0887"
             ],
             [
              0.1111111111111111,
              "#46039f"
             ],
             [
              0.2222222222222222,
              "#7201a8"
             ],
             [
              0.3333333333333333,
              "#9c179e"
             ],
             [
              0.4444444444444444,
              "#bd3786"
             ],
             [
              0.5555555555555556,
              "#d8576b"
             ],
             [
              0.6666666666666666,
              "#ed7953"
             ],
             [
              0.7777777777777778,
              "#fb9f3a"
             ],
             [
              0.8888888888888888,
              "#fdca26"
             ],
             [
              1,
              "#f0f921"
             ]
            ],
            "type": "heatmap"
           }
          ],
          "heatmapgl": [
           {
            "colorbar": {
             "outlinewidth": 0,
             "ticks": ""
            },
            "colorscale": [
             [
              0,
              "#0d0887"
             ],
             [
              0.1111111111111111,
              "#46039f"
             ],
             [
              0.2222222222222222,
              "#7201a8"
             ],
             [
              0.3333333333333333,
              "#9c179e"
             ],
             [
              0.4444444444444444,
              "#bd3786"
             ],
             [
              0.5555555555555556,
              "#d8576b"
             ],
             [
              0.6666666666666666,
              "#ed7953"
             ],
             [
              0.7777777777777778,
              "#fb9f3a"
             ],
             [
              0.8888888888888888,
              "#fdca26"
             ],
             [
              1,
              "#f0f921"
             ]
            ],
            "type": "heatmapgl"
           }
          ],
          "histogram": [
           {
            "marker": {
             "pattern": {
              "fillmode": "overlay",
              "size": 10,
              "solidity": 0.2
             }
            },
            "type": "histogram"
           }
          ],
          "histogram2d": [
           {
            "colorbar": {
             "outlinewidth": 0,
             "ticks": ""
            },
            "colorscale": [
             [
              0,
              "#0d0887"
             ],
             [
              0.1111111111111111,
              "#46039f"
             ],
             [
              0.2222222222222222,
              "#7201a8"
             ],
             [
              0.3333333333333333,
              "#9c179e"
             ],
             [
              0.4444444444444444,
              "#bd3786"
             ],
             [
              0.5555555555555556,
              "#d8576b"
             ],
             [
              0.6666666666666666,
              "#ed7953"
             ],
             [
              0.7777777777777778,
              "#fb9f3a"
             ],
             [
              0.8888888888888888,
              "#fdca26"
             ],
             [
              1,
              "#f0f921"
             ]
            ],
            "type": "histogram2d"
           }
          ],
          "histogram2dcontour": [
           {
            "colorbar": {
             "outlinewidth": 0,
             "ticks": ""
            },
            "colorscale": [
             [
              0,
              "#0d0887"
             ],
             [
              0.1111111111111111,
              "#46039f"
             ],
             [
              0.2222222222222222,
              "#7201a8"
             ],
             [
              0.3333333333333333,
              "#9c179e"
             ],
             [
              0.4444444444444444,
              "#bd3786"
             ],
             [
              0.5555555555555556,
              "#d8576b"
             ],
             [
              0.6666666666666666,
              "#ed7953"
             ],
             [
              0.7777777777777778,
              "#fb9f3a"
             ],
             [
              0.8888888888888888,
              "#fdca26"
             ],
             [
              1,
              "#f0f921"
             ]
            ],
            "type": "histogram2dcontour"
           }
          ],
          "mesh3d": [
           {
            "colorbar": {
             "outlinewidth": 0,
             "ticks": ""
            },
            "type": "mesh3d"
           }
          ],
          "parcoords": [
           {
            "line": {
             "colorbar": {
              "outlinewidth": 0,
              "ticks": ""
             }
            },
            "type": "parcoords"
           }
          ],
          "pie": [
           {
            "automargin": true,
            "type": "pie"
           }
          ],
          "scatter": [
           {
            "marker": {
             "colorbar": {
              "outlinewidth": 0,
              "ticks": ""
             }
            },
            "type": "scatter"
           }
          ],
          "scatter3d": [
           {
            "line": {
             "colorbar": {
              "outlinewidth": 0,
              "ticks": ""
             }
            },
            "marker": {
             "colorbar": {
              "outlinewidth": 0,
              "ticks": ""
             }
            },
            "type": "scatter3d"
           }
          ],
          "scattercarpet": [
           {
            "marker": {
             "colorbar": {
              "outlinewidth": 0,
              "ticks": ""
             }
            },
            "type": "scattercarpet"
           }
          ],
          "scattergeo": [
           {
            "marker": {
             "colorbar": {
              "outlinewidth": 0,
              "ticks": ""
             }
            },
            "type": "scattergeo"
           }
          ],
          "scattergl": [
           {
            "marker": {
             "colorbar": {
              "outlinewidth": 0,
              "ticks": ""
             }
            },
            "type": "scattergl"
           }
          ],
          "scattermapbox": [
           {
            "marker": {
             "colorbar": {
              "outlinewidth": 0,
              "ticks": ""
             }
            },
            "type": "scattermapbox"
           }
          ],
          "scatterpolar": [
           {
            "marker": {
             "colorbar": {
              "outlinewidth": 0,
              "ticks": ""
             }
            },
            "type": "scatterpolar"
           }
          ],
          "scatterpolargl": [
           {
            "marker": {
             "colorbar": {
              "outlinewidth": 0,
              "ticks": ""
             }
            },
            "type": "scatterpolargl"
           }
          ],
          "scatterternary": [
           {
            "marker": {
             "colorbar": {
              "outlinewidth": 0,
              "ticks": ""
             }
            },
            "type": "scatterternary"
           }
          ],
          "surface": [
           {
            "colorbar": {
             "outlinewidth": 0,
             "ticks": ""
            },
            "colorscale": [
             [
              0,
              "#0d0887"
             ],
             [
              0.1111111111111111,
              "#46039f"
             ],
             [
              0.2222222222222222,
              "#7201a8"
             ],
             [
              0.3333333333333333,
              "#9c179e"
             ],
             [
              0.4444444444444444,
              "#bd3786"
             ],
             [
              0.5555555555555556,
              "#d8576b"
             ],
             [
              0.6666666666666666,
              "#ed7953"
             ],
             [
              0.7777777777777778,
              "#fb9f3a"
             ],
             [
              0.8888888888888888,
              "#fdca26"
             ],
             [
              1,
              "#f0f921"
             ]
            ],
            "type": "surface"
           }
          ],
          "table": [
           {
            "cells": {
             "fill": {
              "color": "#EBF0F8"
             },
             "line": {
              "color": "white"
             }
            },
            "header": {
             "fill": {
              "color": "#C8D4E3"
             },
             "line": {
              "color": "white"
             }
            },
            "type": "table"
           }
          ]
         },
         "layout": {
          "annotationdefaults": {
           "arrowcolor": "#2a3f5f",
           "arrowhead": 0,
           "arrowwidth": 1
          },
          "autotypenumbers": "strict",
          "coloraxis": {
           "colorbar": {
            "outlinewidth": 0,
            "ticks": ""
           }
          },
          "colorscale": {
           "diverging": [
            [
             0,
             "#8e0152"
            ],
            [
             0.1,
             "#c51b7d"
            ],
            [
             0.2,
             "#de77ae"
            ],
            [
             0.3,
             "#f1b6da"
            ],
            [
             0.4,
             "#fde0ef"
            ],
            [
             0.5,
             "#f7f7f7"
            ],
            [
             0.6,
             "#e6f5d0"
            ],
            [
             0.7,
             "#b8e186"
            ],
            [
             0.8,
             "#7fbc41"
            ],
            [
             0.9,
             "#4d9221"
            ],
            [
             1,
             "#276419"
            ]
           ],
           "sequential": [
            [
             0,
             "#0d0887"
            ],
            [
             0.1111111111111111,
             "#46039f"
            ],
            [
             0.2222222222222222,
             "#7201a8"
            ],
            [
             0.3333333333333333,
             "#9c179e"
            ],
            [
             0.4444444444444444,
             "#bd3786"
            ],
            [
             0.5555555555555556,
             "#d8576b"
            ],
            [
             0.6666666666666666,
             "#ed7953"
            ],
            [
             0.7777777777777778,
             "#fb9f3a"
            ],
            [
             0.8888888888888888,
             "#fdca26"
            ],
            [
             1,
             "#f0f921"
            ]
           ],
           "sequentialminus": [
            [
             0,
             "#0d0887"
            ],
            [
             0.1111111111111111,
             "#46039f"
            ],
            [
             0.2222222222222222,
             "#7201a8"
            ],
            [
             0.3333333333333333,
             "#9c179e"
            ],
            [
             0.4444444444444444,
             "#bd3786"
            ],
            [
             0.5555555555555556,
             "#d8576b"
            ],
            [
             0.6666666666666666,
             "#ed7953"
            ],
            [
             0.7777777777777778,
             "#fb9f3a"
            ],
            [
             0.8888888888888888,
             "#fdca26"
            ],
            [
             1,
             "#f0f921"
            ]
           ]
          },
          "colorway": [
           "#636efa",
           "#EF553B",
           "#00cc96",
           "#ab63fa",
           "#FFA15A",
           "#19d3f3",
           "#FF6692",
           "#B6E880",
           "#FF97FF",
           "#FECB52"
          ],
          "font": {
           "color": "#2a3f5f"
          },
          "geo": {
           "bgcolor": "white",
           "lakecolor": "white",
           "landcolor": "#E5ECF6",
           "showlakes": true,
           "showland": true,
           "subunitcolor": "white"
          },
          "hoverlabel": {
           "align": "left"
          },
          "hovermode": "closest",
          "mapbox": {
           "style": "light"
          },
          "paper_bgcolor": "white",
          "plot_bgcolor": "#E5ECF6",
          "polar": {
           "angularaxis": {
            "gridcolor": "white",
            "linecolor": "white",
            "ticks": ""
           },
           "bgcolor": "#E5ECF6",
           "radialaxis": {
            "gridcolor": "white",
            "linecolor": "white",
            "ticks": ""
           }
          },
          "scene": {
           "xaxis": {
            "backgroundcolor": "#E5ECF6",
            "gridcolor": "white",
            "gridwidth": 2,
            "linecolor": "white",
            "showbackground": true,
            "ticks": "",
            "zerolinecolor": "white"
           },
           "yaxis": {
            "backgroundcolor": "#E5ECF6",
            "gridcolor": "white",
            "gridwidth": 2,
            "linecolor": "white",
            "showbackground": true,
            "ticks": "",
            "zerolinecolor": "white"
           },
           "zaxis": {
            "backgroundcolor": "#E5ECF6",
            "gridcolor": "white",
            "gridwidth": 2,
            "linecolor": "white",
            "showbackground": true,
            "ticks": "",
            "zerolinecolor": "white"
           }
          },
          "shapedefaults": {
           "line": {
            "color": "#2a3f5f"
           }
          },
          "ternary": {
           "aaxis": {
            "gridcolor": "white",
            "linecolor": "white",
            "ticks": ""
           },
           "baxis": {
            "gridcolor": "white",
            "linecolor": "white",
            "ticks": ""
           },
           "bgcolor": "#E5ECF6",
           "caxis": {
            "gridcolor": "white",
            "linecolor": "white",
            "ticks": ""
           }
          },
          "title": {
           "x": 0.05
          },
          "xaxis": {
           "automargin": true,
           "gridcolor": "white",
           "linecolor": "white",
           "ticks": "",
           "title": {
            "standoff": 15
           },
           "zerolinecolor": "white",
           "zerolinewidth": 2
          },
          "yaxis": {
           "automargin": true,
           "gridcolor": "white",
           "linecolor": "white",
           "ticks": "",
           "title": {
            "standoff": 15
           },
           "zerolinecolor": "white",
           "zerolinewidth": 2
          }
         }
        },
        "title": {
         "text": "Elastic Net Coefficients",
         "x": 0.5
        },
        "xaxis": {
         "tickfont": {
          "size": 12
         },
         "ticktext": [
          "% awarded grant aid",
          "% Enrollment Black",
          "($) Log Tuition + Fees",
          "(%) Government Grants",
          "(%) Student Service Expenses",
          "ACT Composite",
          "Size_Under_1K",
          "Price (in-district with family)",
          "$ Log Core Rev",
          "% Awarded any type of aid"
         ],
         "tickvals": [
          "Percent of full-time first-time undergraduates awarded federal  state  local or institutional grant aid (SFA1819)",
          "Percent of total enrollment that are Black or African American (DRVEF2013_RV)",
          "Log_Tuition_And_Fees_As_Dollar_Amount",
          "Government_Grants",
          "Student_Service_Expenses",
          "ACT Composite 75th percentile score (IC2012_RV)",
          "Institution size category (HD2018)_Under 1,000",
          "Total price for in-district students living off campus (with family)  2012-13 (DRVIC2012_RV)",
          "Log_Core_Revenues",
          "Percent of full-time first-time undergraduates awarded any financial aid (SFA1819)"
         ],
         "title": {
          "text": "Feature Name"
         }
        }
       }
      },
      "text/html": [
       "<div>                            <div id=\"db64692a-b87d-40f8-9269-8fa04604c983\" class=\"plotly-graph-div\" style=\"height:700px; width:100%;\"></div>            <script type=\"text/javascript\">                require([\"plotly\"], function(Plotly) {                    window.PLOTLYENV=window.PLOTLYENV || {};                                    if (document.getElementById(\"db64692a-b87d-40f8-9269-8fa04604c983\")) {                    Plotly.newPlot(                        \"db64692a-b87d-40f8-9269-8fa04604c983\",                        [{\"orientation\":\"v\",\"text\":[-4.42,-3.06,-2.96,-2.63,-2.62,2.56,2.57,2.79,3.22,3.55],\"type\":\"bar\",\"x\":[\"Percent of full-time first-time undergraduates awarded federal  state  local or institutional grant aid (SFA1819)\",\"Percent of total enrollment that are Black or African American (DRVEF2013_RV)\",\"Log_Tuition_And_Fees_As_Dollar_Amount\",\"Government_Grants\",\"Student_Service_Expenses\",\"ACT Composite 75th percentile score (IC2012_RV)\",\"Institution size category (HD2018)_Under 1,000\",\"Total price for in-district students living off campus (with family)  2012-13 (DRVIC2012_RV)\",\"Log_Core_Revenues\",\"Percent of full-time first-time undergraduates awarded any financial aid (SFA1819)\"],\"y\":[-4.4240781988802675,-3.0555499227636806,-2.957731056575193,-2.6325199882018473,-2.6186736865226434,2.564262445908202,2.5702951182424263,2.7917318687768287,3.2152511117142764,3.5485720596790915]}],                        {\"barmode\":\"group\",\"font\":{\"size\":16},\"height\":700,\"template\":{\"data\":{\"bar\":[{\"error_x\":{\"color\":\"#2a3f5f\"},\"error_y\":{\"color\":\"#2a3f5f\"},\"marker\":{\"line\":{\"color\":\"#E5ECF6\",\"width\":0.5},\"pattern\":{\"fillmode\":\"overlay\",\"size\":10,\"solidity\":0.2}},\"type\":\"bar\"}],\"barpolar\":[{\"marker\":{\"line\":{\"color\":\"#E5ECF6\",\"width\":0.5},\"pattern\":{\"fillmode\":\"overlay\",\"size\":10,\"solidity\":0.2}},\"type\":\"barpolar\"}],\"carpet\":[{\"aaxis\":{\"endlinecolor\":\"#2a3f5f\",\"gridcolor\":\"white\",\"linecolor\":\"white\",\"minorgridcolor\":\"white\",\"startlinecolor\":\"#2a3f5f\"},\"baxis\":{\"endlinecolor\":\"#2a3f5f\",\"gridcolor\":\"white\",\"linecolor\":\"white\",\"minorgridcolor\":\"white\",\"startlinecolor\":\"#2a3f5f\"},\"type\":\"carpet\"}],\"choropleth\":[{\"colorbar\":{\"outlinewidth\":0,\"ticks\":\"\"},\"type\":\"choropleth\"}],\"contour\":[{\"colorbar\":{\"outlinewidth\":0,\"ticks\":\"\"},\"colorscale\":[[0.0,\"#0d0887\"],[0.1111111111111111,\"#46039f\"],[0.2222222222222222,\"#7201a8\"],[0.3333333333333333,\"#9c179e\"],[0.4444444444444444,\"#bd3786\"],[0.5555555555555556,\"#d8576b\"],[0.6666666666666666,\"#ed7953\"],[0.7777777777777778,\"#fb9f3a\"],[0.8888888888888888,\"#fdca26\"],[1.0,\"#f0f921\"]],\"type\":\"contour\"}],\"contourcarpet\":[{\"colorbar\":{\"outlinewidth\":0,\"ticks\":\"\"},\"type\":\"contourcarpet\"}],\"heatmap\":[{\"colorbar\":{\"outlinewidth\":0,\"ticks\":\"\"},\"colorscale\":[[0.0,\"#0d0887\"],[0.1111111111111111,\"#46039f\"],[0.2222222222222222,\"#7201a8\"],[0.3333333333333333,\"#9c179e\"],[0.4444444444444444,\"#bd3786\"],[0.5555555555555556,\"#d8576b\"],[0.6666666666666666,\"#ed7953\"],[0.7777777777777778,\"#fb9f3a\"],[0.8888888888888888,\"#fdca26\"],[1.0,\"#f0f921\"]],\"type\":\"heatmap\"}],\"heatmapgl\":[{\"colorbar\":{\"outlinewidth\":0,\"ticks\":\"\"},\"colorscale\":[[0.0,\"#0d0887\"],[0.1111111111111111,\"#46039f\"],[0.2222222222222222,\"#7201a8\"],[0.3333333333333333,\"#9c179e\"],[0.4444444444444444,\"#bd3786\"],[0.5555555555555556,\"#d8576b\"],[0.6666666666666666,\"#ed7953\"],[0.7777777777777778,\"#fb9f3a\"],[0.8888888888888888,\"#fdca26\"],[1.0,\"#f0f921\"]],\"type\":\"heatmapgl\"}],\"histogram\":[{\"marker\":{\"pattern\":{\"fillmode\":\"overlay\",\"size\":10,\"solidity\":0.2}},\"type\":\"histogram\"}],\"histogram2d\":[{\"colorbar\":{\"outlinewidth\":0,\"ticks\":\"\"},\"colorscale\":[[0.0,\"#0d0887\"],[0.1111111111111111,\"#46039f\"],[0.2222222222222222,\"#7201a8\"],[0.3333333333333333,\"#9c179e\"],[0.4444444444444444,\"#bd3786\"],[0.5555555555555556,\"#d8576b\"],[0.6666666666666666,\"#ed7953\"],[0.7777777777777778,\"#fb9f3a\"],[0.8888888888888888,\"#fdca26\"],[1.0,\"#f0f921\"]],\"type\":\"histogram2d\"}],\"histogram2dcontour\":[{\"colorbar\":{\"outlinewidth\":0,\"ticks\":\"\"},\"colorscale\":[[0.0,\"#0d0887\"],[0.1111111111111111,\"#46039f\"],[0.2222222222222222,\"#7201a8\"],[0.3333333333333333,\"#9c179e\"],[0.4444444444444444,\"#bd3786\"],[0.5555555555555556,\"#d8576b\"],[0.6666666666666666,\"#ed7953\"],[0.7777777777777778,\"#fb9f3a\"],[0.8888888888888888,\"#fdca26\"],[1.0,\"#f0f921\"]],\"type\":\"histogram2dcontour\"}],\"mesh3d\":[{\"colorbar\":{\"outlinewidth\":0,\"ticks\":\"\"},\"type\":\"mesh3d\"}],\"parcoords\":[{\"line\":{\"colorbar\":{\"outlinewidth\":0,\"ticks\":\"\"}},\"type\":\"parcoords\"}],\"pie\":[{\"automargin\":true,\"type\":\"pie\"}],\"scatter\":[{\"marker\":{\"colorbar\":{\"outlinewidth\":0,\"ticks\":\"\"}},\"type\":\"scatter\"}],\"scatter3d\":[{\"line\":{\"colorbar\":{\"outlinewidth\":0,\"ticks\":\"\"}},\"marker\":{\"colorbar\":{\"outlinewidth\":0,\"ticks\":\"\"}},\"type\":\"scatter3d\"}],\"scattercarpet\":[{\"marker\":{\"colorbar\":{\"outlinewidth\":0,\"ticks\":\"\"}},\"type\":\"scattercarpet\"}],\"scattergeo\":[{\"marker\":{\"colorbar\":{\"outlinewidth\":0,\"ticks\":\"\"}},\"type\":\"scattergeo\"}],\"scattergl\":[{\"marker\":{\"colorbar\":{\"outlinewidth\":0,\"ticks\":\"\"}},\"type\":\"scattergl\"}],\"scattermapbox\":[{\"marker\":{\"colorbar\":{\"outlinewidth\":0,\"ticks\":\"\"}},\"type\":\"scattermapbox\"}],\"scatterpolar\":[{\"marker\":{\"colorbar\":{\"outlinewidth\":0,\"ticks\":\"\"}},\"type\":\"scatterpolar\"}],\"scatterpolargl\":[{\"marker\":{\"colorbar\":{\"outlinewidth\":0,\"ticks\":\"\"}},\"type\":\"scatterpolargl\"}],\"scatterternary\":[{\"marker\":{\"colorbar\":{\"outlinewidth\":0,\"ticks\":\"\"}},\"type\":\"scatterternary\"}],\"surface\":[{\"colorbar\":{\"outlinewidth\":0,\"ticks\":\"\"},\"colorscale\":[[0.0,\"#0d0887\"],[0.1111111111111111,\"#46039f\"],[0.2222222222222222,\"#7201a8\"],[0.3333333333333333,\"#9c179e\"],[0.4444444444444444,\"#bd3786\"],[0.5555555555555556,\"#d8576b\"],[0.6666666666666666,\"#ed7953\"],[0.7777777777777778,\"#fb9f3a\"],[0.8888888888888888,\"#fdca26\"],[1.0,\"#f0f921\"]],\"type\":\"surface\"}],\"table\":[{\"cells\":{\"fill\":{\"color\":\"#EBF0F8\"},\"line\":{\"color\":\"white\"}},\"header\":{\"fill\":{\"color\":\"#C8D4E3\"},\"line\":{\"color\":\"white\"}},\"type\":\"table\"}]},\"layout\":{\"annotationdefaults\":{\"arrowcolor\":\"#2a3f5f\",\"arrowhead\":0,\"arrowwidth\":1},\"autotypenumbers\":\"strict\",\"coloraxis\":{\"colorbar\":{\"outlinewidth\":0,\"ticks\":\"\"}},\"colorscale\":{\"diverging\":[[0,\"#8e0152\"],[0.1,\"#c51b7d\"],[0.2,\"#de77ae\"],[0.3,\"#f1b6da\"],[0.4,\"#fde0ef\"],[0.5,\"#f7f7f7\"],[0.6,\"#e6f5d0\"],[0.7,\"#b8e186\"],[0.8,\"#7fbc41\"],[0.9,\"#4d9221\"],[1,\"#276419\"]],\"sequential\":[[0.0,\"#0d0887\"],[0.1111111111111111,\"#46039f\"],[0.2222222222222222,\"#7201a8\"],[0.3333333333333333,\"#9c179e\"],[0.4444444444444444,\"#bd3786\"],[0.5555555555555556,\"#d8576b\"],[0.6666666666666666,\"#ed7953\"],[0.7777777777777778,\"#fb9f3a\"],[0.8888888888888888,\"#fdca26\"],[1.0,\"#f0f921\"]],\"sequentialminus\":[[0.0,\"#0d0887\"],[0.1111111111111111,\"#46039f\"],[0.2222222222222222,\"#7201a8\"],[0.3333333333333333,\"#9c179e\"],[0.4444444444444444,\"#bd3786\"],[0.5555555555555556,\"#d8576b\"],[0.6666666666666666,\"#ed7953\"],[0.7777777777777778,\"#fb9f3a\"],[0.8888888888888888,\"#fdca26\"],[1.0,\"#f0f921\"]]},\"colorway\":[\"#636efa\",\"#EF553B\",\"#00cc96\",\"#ab63fa\",\"#FFA15A\",\"#19d3f3\",\"#FF6692\",\"#B6E880\",\"#FF97FF\",\"#FECB52\"],\"font\":{\"color\":\"#2a3f5f\"},\"geo\":{\"bgcolor\":\"white\",\"lakecolor\":\"white\",\"landcolor\":\"#E5ECF6\",\"showlakes\":true,\"showland\":true,\"subunitcolor\":\"white\"},\"hoverlabel\":{\"align\":\"left\"},\"hovermode\":\"closest\",\"mapbox\":{\"style\":\"light\"},\"paper_bgcolor\":\"white\",\"plot_bgcolor\":\"#E5ECF6\",\"polar\":{\"angularaxis\":{\"gridcolor\":\"white\",\"linecolor\":\"white\",\"ticks\":\"\"},\"bgcolor\":\"#E5ECF6\",\"radialaxis\":{\"gridcolor\":\"white\",\"linecolor\":\"white\",\"ticks\":\"\"}},\"scene\":{\"xaxis\":{\"backgroundcolor\":\"#E5ECF6\",\"gridcolor\":\"white\",\"gridwidth\":2,\"linecolor\":\"white\",\"showbackground\":true,\"ticks\":\"\",\"zerolinecolor\":\"white\"},\"yaxis\":{\"backgroundcolor\":\"#E5ECF6\",\"gridcolor\":\"white\",\"gridwidth\":2,\"linecolor\":\"white\",\"showbackground\":true,\"ticks\":\"\",\"zerolinecolor\":\"white\"},\"zaxis\":{\"backgroundcolor\":\"#E5ECF6\",\"gridcolor\":\"white\",\"gridwidth\":2,\"linecolor\":\"white\",\"showbackground\":true,\"ticks\":\"\",\"zerolinecolor\":\"white\"}},\"shapedefaults\":{\"line\":{\"color\":\"#2a3f5f\"}},\"ternary\":{\"aaxis\":{\"gridcolor\":\"white\",\"linecolor\":\"white\",\"ticks\":\"\"},\"baxis\":{\"gridcolor\":\"white\",\"linecolor\":\"white\",\"ticks\":\"\"},\"bgcolor\":\"#E5ECF6\",\"caxis\":{\"gridcolor\":\"white\",\"linecolor\":\"white\",\"ticks\":\"\"}},\"title\":{\"x\":0.05},\"xaxis\":{\"automargin\":true,\"gridcolor\":\"white\",\"linecolor\":\"white\",\"ticks\":\"\",\"title\":{\"standoff\":15},\"zerolinecolor\":\"white\",\"zerolinewidth\":2},\"yaxis\":{\"automargin\":true,\"gridcolor\":\"white\",\"linecolor\":\"white\",\"ticks\":\"\",\"title\":{\"standoff\":15},\"zerolinecolor\":\"white\",\"zerolinewidth\":2}}},\"title\":{\"text\":\"Elastic Net Coefficients\",\"x\":0.5},\"xaxis\":{\"tickfont\":{\"size\":12},\"ticktext\":[\"% awarded grant aid\",\"% Enrollment Black\",\"($) Log Tuition + Fees\",\"(%) Government Grants\",\"(%) Student Service Expenses\",\"ACT Composite\",\"Size_Under_1K\",\"Price (in-district with family)\",\"$ Log Core Rev\",\"% Awarded any type of aid\"],\"tickvals\":[\"Percent of full-time first-time undergraduates awarded federal  state  local or institutional grant aid (SFA1819)\",\"Percent of total enrollment that are Black or African American (DRVEF2013_RV)\",\"Log_Tuition_And_Fees_As_Dollar_Amount\",\"Government_Grants\",\"Student_Service_Expenses\",\"ACT Composite 75th percentile score (IC2012_RV)\",\"Institution size category (HD2018)_Under 1,000\",\"Total price for in-district students living off campus (with family)  2012-13 (DRVIC2012_RV)\",\"Log_Core_Revenues\",\"Percent of full-time first-time undergraduates awarded any financial aid (SFA1819)\"],\"title\":{\"text\":\"Feature Name\"}}},                        {\"responsive\": true}                    ).then(function(){\n",
       "                            \n",
       "var gd = document.getElementById('db64692a-b87d-40f8-9269-8fa04604c983');\n",
       "var x = new MutationObserver(function (mutations, observer) {{\n",
       "        var display = window.getComputedStyle(gd).display;\n",
       "        if (!display || display === 'none') {{\n",
       "            console.log([gd, 'removed!']);\n",
       "            Plotly.purge(gd);\n",
       "            observer.disconnect();\n",
       "        }}\n",
       "}});\n",
       "\n",
       "// Listen for the removal of the full notebook cells\n",
       "var notebookContainer = gd.closest('#notebook-container');\n",
       "if (notebookContainer) {{\n",
       "    x.observe(notebookContainer, {childList: true});\n",
       "}}\n",
       "\n",
       "// Listen for the clearing of the current output cell\n",
       "var outputEl = gd.closest('.output');\n",
       "if (outputEl) {{\n",
       "    x.observe(outputEl, {childList: true});\n",
       "}}\n",
       "\n",
       "                        })                };                });            </script>        </div>"
      ]
     },
     "metadata": {},
     "output_type": "display_data"
    }
   ],
   "source": [
    "# plot first 5 and last 5 on plotly graph\n",
    "fig = go.Figure()\n",
    "fig.add_trace(go.Bar(\n",
    "    y=sorted_df.iloc[0,:], x=sorted_df.columns, orientation='v', text=np.round(sorted_df.iloc[0], 2)\n",
    "))\n",
    "\n",
    "fig.update_layout(\n",
    "    barmode='group',\n",
    "    title=\"Elastic Net Coefficients\",\n",
    "    title_x = 0.5,\n",
    "    height=700,\n",
    "    font={\n",
    "        \"size\": 16\n",
    "    },\n",
    "    xaxis={\n",
    "        \"tickvals\": sorted_df.columns.to_list(),\n",
    "        \"ticktext\":[\"% awarded grant aid\", \"% Enrollment Black\", \"($) Log Tuition + Fees\", \"(%) Government Grants\",\n",
    "                    \"(%) Student Service Expenses\", \"ACT Composite\", \"Size_Under_1K\", \"Price (in-district with family)\", \"$ Log Core Rev\", \"% Awarded any type of aid\"],\n",
    "        \"tickfont\": {\n",
    "            'size': 12\n",
    "        },\n",
    "        \"title\": \"Feature Name\"\n",
    "        \n",
    "        \n",
    "        \n",
    "    }\n",
    ")\n",
    "\n",
    "\n",
    "fig.show()"
   ]
  },
  {
   "cell_type": "code",
   "execution_count": 178,
   "id": "6cbc2f44",
   "metadata": {
    "collapsed": true
   },
   "outputs": [
    {
     "data": {
      "text/plain": [
       "'Percent of full-time first-time undergraduates awarded federal  state  local or institutional grant aid (SFA1819)'"
      ]
     },
     "execution_count": 178,
     "metadata": {},
     "output_type": "execute_result"
    }
   ],
   "source": [
    "aid = sorted_df.columns[0]\n",
    "aid"
   ]
  },
  {
   "cell_type": "code",
   "execution_count": 219,
   "id": "faa7dfd5",
   "metadata": {
    "slideshow": {
     "slide_type": "skip"
    }
   },
   "outputs": [],
   "source": [
    "def interperate(col, coef):\n",
    "    scaler = StandardScaler()\n",
    "    transformed = scaler.fit_transform(x_train[col].to_numpy().reshape(-1,1))\n",
    "    print(np.mean(transformed), np.std(transformed))\n",
    "    observation = np.array([[coef]])                          \n",
    "    observation = scaler.inverse_transform(observation)\n",
    "    \n",
    "    return observation[0][0] / coef\n",
    "    "
   ]
  },
  {
   "cell_type": "code",
   "execution_count": 224,
   "id": "e2fd3e94",
   "metadata": {
    "slideshow": {
     "slide_type": "skip"
    }
   },
   "outputs": [
    {
     "name": "stdout",
     "output_type": "stream",
     "text": [
      "3.808918992175537e-16 0.9999999999999999\n"
     ]
    }
   ],
   "source": [
    "coef_interpretation = interperate(aid, -4.42)"
   ]
  },
  {
   "cell_type": "markdown",
   "id": "1cea71fe",
   "metadata": {
    "slideshow": {
     "slide_type": "skip"
    }
   },
   "source": [
    ">{coef_interpretation}\n",
    "> \"This is a quote from \n",
    ">\n",
    "> <a src=\"https://www.youtube.com/watch?v=-F4WS8o-G2A\">Robert Campbell</a>\n",
    "\n",
    "```python\n",
    "print(\"this is python code\")\n",
    "```"
   ]
  },
  {
   "cell_type": "code",
   "execution_count": 39,
   "id": "eb988b8c",
   "metadata": {
    "cell_style": "center",
    "hide_input": true,
    "scrolled": false,
    "slideshow": {
     "slide_type": "fragment"
    }
   },
   "outputs": [
    {
     "data": {
      "application/vnd.plotly.v1+json": {
       "config": {
        "plotlyServerURL": "https://plot.ly"
       },
       "data": [
        {
         "box": {
          "visible": true
         },
         "meanline": {
          "visible": true
         },
         "name": "primarily nonresidential",
         "type": "violin",
         "x": [
          "primarily nonresidential",
          "primarily nonresidential",
          "primarily nonresidential",
          "primarily nonresidential",
          "primarily nonresidential",
          "primarily nonresidential",
          "primarily nonresidential",
          "primarily nonresidential",
          "primarily nonresidential",
          "primarily nonresidential",
          "primarily nonresidential",
          "primarily nonresidential",
          "primarily nonresidential",
          "primarily nonresidential",
          "primarily nonresidential",
          "primarily nonresidential",
          "primarily nonresidential",
          "primarily nonresidential",
          "primarily nonresidential",
          "primarily nonresidential",
          "primarily nonresidential",
          "primarily nonresidential",
          "primarily nonresidential",
          "primarily nonresidential",
          "primarily nonresidential",
          "primarily nonresidential",
          "primarily nonresidential",
          "primarily nonresidential",
          "primarily nonresidential",
          "primarily nonresidential",
          "primarily nonresidential",
          "primarily nonresidential",
          "primarily nonresidential",
          "primarily nonresidential",
          "primarily nonresidential",
          "primarily nonresidential",
          "primarily nonresidential",
          "primarily nonresidential",
          "primarily nonresidential",
          "primarily nonresidential",
          "primarily nonresidential",
          "primarily nonresidential",
          "primarily nonresidential",
          "primarily nonresidential",
          "primarily nonresidential",
          "primarily nonresidential",
          "primarily nonresidential",
          "primarily nonresidential",
          "primarily nonresidential",
          "primarily nonresidential",
          "primarily nonresidential",
          "primarily nonresidential",
          "primarily nonresidential",
          "primarily nonresidential",
          "primarily nonresidential",
          "primarily nonresidential",
          "primarily nonresidential",
          "primarily nonresidential",
          "primarily nonresidential",
          "primarily nonresidential",
          "primarily nonresidential",
          "primarily nonresidential",
          "primarily nonresidential",
          "primarily nonresidential",
          "primarily nonresidential",
          "primarily nonresidential",
          "primarily nonresidential",
          "primarily nonresidential",
          "primarily nonresidential",
          "primarily nonresidential",
          "primarily nonresidential",
          "primarily nonresidential",
          "primarily nonresidential",
          "primarily nonresidential",
          "primarily nonresidential",
          "primarily nonresidential",
          "primarily nonresidential",
          "primarily nonresidential",
          "primarily nonresidential",
          "primarily nonresidential",
          "primarily nonresidential",
          "primarily nonresidential",
          "primarily nonresidential",
          "primarily nonresidential",
          "primarily nonresidential",
          "primarily nonresidential",
          "primarily nonresidential",
          "primarily nonresidential",
          "primarily nonresidential",
          "primarily nonresidential",
          "primarily nonresidential",
          "primarily nonresidential",
          "primarily nonresidential",
          "primarily nonresidential",
          "primarily nonresidential",
          "primarily nonresidential",
          "primarily nonresidential",
          "primarily nonresidential",
          "primarily nonresidential",
          "primarily nonresidential",
          "primarily nonresidential",
          "primarily nonresidential",
          "primarily nonresidential",
          "primarily nonresidential",
          "primarily nonresidential",
          "primarily nonresidential",
          "primarily nonresidential",
          "primarily nonresidential",
          "primarily nonresidential",
          "primarily nonresidential",
          "primarily nonresidential",
          "primarily nonresidential",
          "primarily nonresidential",
          "primarily nonresidential",
          "primarily nonresidential",
          "primarily nonresidential",
          "primarily nonresidential",
          "primarily nonresidential",
          "primarily nonresidential",
          "primarily nonresidential",
          "primarily nonresidential",
          "primarily nonresidential",
          "primarily nonresidential",
          "primarily nonresidential",
          "primarily nonresidential",
          "primarily nonresidential",
          "primarily nonresidential",
          "primarily nonresidential",
          "primarily nonresidential",
          "primarily nonresidential",
          "primarily nonresidential",
          "primarily nonresidential",
          "primarily nonresidential",
          "primarily nonresidential",
          "primarily nonresidential",
          "primarily nonresidential",
          "primarily nonresidential",
          "primarily nonresidential",
          "primarily nonresidential",
          "primarily nonresidential",
          "primarily nonresidential",
          "primarily nonresidential",
          "primarily nonresidential",
          "primarily nonresidential",
          "primarily nonresidential",
          "primarily nonresidential",
          "primarily nonresidential",
          "primarily nonresidential",
          "primarily nonresidential",
          "primarily nonresidential",
          "primarily nonresidential",
          "primarily nonresidential",
          "primarily nonresidential",
          "primarily nonresidential",
          "primarily nonresidential",
          "primarily nonresidential",
          "primarily nonresidential",
          "primarily nonresidential",
          "primarily nonresidential",
          "primarily nonresidential",
          "primarily nonresidential",
          "primarily nonresidential",
          "primarily nonresidential",
          "primarily nonresidential",
          "primarily nonresidential",
          "primarily nonresidential",
          "primarily nonresidential",
          "primarily nonresidential",
          "primarily nonresidential",
          "primarily nonresidential",
          "primarily nonresidential",
          "primarily nonresidential",
          "primarily nonresidential",
          "primarily nonresidential",
          "primarily nonresidential",
          "primarily nonresidential",
          "primarily nonresidential",
          "primarily nonresidential",
          "primarily nonresidential",
          "primarily nonresidential",
          "primarily nonresidential",
          "primarily nonresidential",
          "primarily nonresidential",
          "primarily nonresidential",
          "primarily nonresidential",
          "primarily nonresidential",
          "primarily nonresidential",
          "primarily nonresidential",
          "primarily nonresidential",
          "primarily nonresidential",
          "primarily nonresidential",
          "primarily nonresidential",
          "primarily nonresidential",
          "primarily nonresidential",
          "primarily nonresidential",
          "primarily nonresidential",
          "primarily nonresidential",
          "primarily nonresidential",
          "primarily nonresidential",
          "primarily nonresidential",
          "primarily nonresidential",
          "primarily nonresidential",
          "primarily nonresidential",
          "primarily nonresidential",
          "primarily nonresidential",
          "primarily nonresidential",
          "primarily nonresidential",
          "primarily nonresidential",
          "primarily nonresidential",
          "primarily nonresidential",
          "primarily nonresidential",
          "primarily nonresidential",
          "primarily nonresidential",
          "primarily nonresidential",
          "primarily nonresidential",
          "primarily nonresidential",
          "primarily nonresidential",
          "primarily nonresidential",
          "primarily nonresidential",
          "primarily nonresidential",
          "primarily nonresidential",
          "primarily nonresidential",
          "primarily nonresidential",
          "primarily nonresidential",
          "primarily nonresidential",
          "primarily nonresidential",
          "primarily nonresidential",
          "primarily nonresidential",
          "primarily nonresidential",
          "primarily nonresidential",
          "primarily nonresidential",
          "primarily nonresidential",
          "primarily nonresidential",
          "primarily nonresidential",
          "primarily nonresidential",
          "primarily nonresidential",
          "primarily nonresidential",
          "primarily nonresidential",
          "primarily nonresidential",
          "primarily nonresidential",
          "primarily nonresidential",
          "primarily nonresidential",
          "primarily nonresidential",
          "primarily nonresidential",
          "primarily nonresidential",
          "primarily nonresidential",
          "primarily nonresidential",
          "primarily nonresidential",
          "primarily nonresidential",
          "primarily nonresidential",
          "primarily nonresidential",
          "primarily nonresidential",
          "primarily nonresidential",
          "primarily nonresidential",
          "primarily nonresidential",
          "primarily nonresidential",
          "primarily nonresidential",
          "primarily nonresidential",
          "primarily nonresidential",
          "primarily nonresidential",
          "primarily nonresidential",
          "primarily nonresidential",
          "primarily nonresidential",
          "primarily nonresidential",
          "primarily nonresidential",
          "primarily nonresidential",
          "primarily nonresidential",
          "primarily nonresidential",
          "primarily nonresidential",
          "primarily nonresidential",
          "primarily nonresidential",
          "primarily nonresidential",
          "primarily nonresidential",
          "primarily nonresidential",
          "primarily nonresidential",
          "primarily nonresidential",
          "primarily nonresidential",
          "primarily nonresidential",
          "primarily nonresidential",
          "primarily nonresidential",
          "primarily nonresidential",
          "primarily nonresidential",
          "primarily nonresidential",
          "primarily nonresidential",
          "primarily nonresidential",
          "primarily nonresidential",
          "primarily nonresidential",
          "primarily nonresidential",
          "primarily nonresidential",
          "primarily nonresidential",
          "primarily nonresidential",
          "primarily nonresidential",
          "primarily nonresidential",
          "primarily nonresidential",
          "primarily nonresidential",
          "primarily nonresidential",
          "primarily nonresidential",
          "primarily nonresidential",
          "primarily nonresidential",
          "primarily nonresidential",
          "primarily nonresidential",
          "primarily nonresidential",
          "primarily nonresidential",
          "primarily nonresidential",
          "primarily nonresidential",
          "primarily nonresidential",
          "primarily nonresidential",
          "primarily nonresidential",
          "primarily nonresidential",
          "primarily nonresidential",
          "primarily nonresidential",
          "primarily nonresidential",
          "primarily nonresidential",
          "primarily nonresidential",
          "primarily nonresidential",
          "primarily nonresidential",
          "primarily nonresidential",
          "primarily nonresidential",
          "primarily nonresidential",
          "primarily nonresidential",
          "primarily nonresidential",
          "primarily nonresidential",
          "primarily nonresidential",
          "primarily nonresidential",
          "primarily nonresidential",
          "primarily nonresidential",
          "primarily nonresidential",
          "primarily nonresidential",
          "primarily nonresidential",
          "primarily nonresidential",
          "primarily nonresidential",
          "primarily nonresidential",
          "primarily nonresidential",
          "primarily nonresidential",
          "primarily nonresidential",
          "primarily nonresidential",
          "primarily nonresidential",
          "primarily nonresidential",
          "primarily nonresidential",
          "primarily nonresidential",
          "primarily nonresidential",
          "primarily nonresidential",
          "primarily nonresidential",
          "primarily nonresidential",
          "primarily nonresidential",
          "primarily nonresidential",
          "primarily nonresidential",
          "primarily nonresidential",
          "primarily nonresidential",
          "primarily nonresidential",
          "primarily nonresidential",
          "primarily nonresidential",
          "primarily nonresidential",
          "primarily nonresidential",
          "primarily nonresidential",
          "primarily nonresidential",
          "primarily nonresidential",
          "primarily nonresidential",
          "primarily nonresidential",
          "primarily nonresidential",
          "primarily nonresidential",
          "primarily nonresidential",
          "primarily nonresidential",
          "primarily nonresidential",
          "primarily nonresidential",
          "primarily nonresidential",
          "primarily nonresidential",
          "primarily nonresidential",
          "primarily nonresidential",
          "primarily nonresidential",
          "primarily nonresidential",
          "primarily nonresidential",
          "primarily nonresidential",
          "primarily nonresidential",
          "primarily nonresidential",
          "primarily nonresidential",
          "primarily nonresidential",
          "primarily nonresidential",
          "primarily nonresidential",
          "primarily nonresidential",
          "primarily nonresidential",
          "primarily nonresidential",
          "primarily nonresidential",
          "primarily nonresidential",
          "primarily nonresidential",
          "primarily nonresidential",
          "primarily nonresidential",
          "primarily nonresidential",
          "primarily nonresidential",
          "primarily nonresidential",
          "primarily nonresidential",
          "primarily nonresidential",
          "primarily nonresidential",
          "primarily nonresidential",
          "primarily nonresidential",
          "primarily nonresidential",
          "primarily nonresidential",
          "primarily nonresidential",
          "primarily nonresidential",
          "primarily nonresidential",
          "primarily nonresidential",
          "primarily nonresidential",
          "primarily nonresidential",
          "primarily nonresidential",
          "primarily nonresidential",
          "primarily nonresidential",
          "primarily nonresidential",
          "primarily nonresidential",
          "primarily nonresidential",
          "primarily nonresidential",
          "primarily nonresidential",
          "primarily nonresidential",
          "primarily nonresidential",
          "primarily nonresidential",
          "primarily nonresidential",
          "primarily nonresidential",
          "primarily nonresidential",
          "primarily nonresidential",
          "primarily nonresidential",
          "primarily nonresidential",
          "primarily nonresidential",
          "primarily nonresidential",
          "primarily nonresidential",
          "primarily nonresidential",
          "primarily nonresidential",
          "primarily nonresidential",
          "primarily nonresidential",
          "primarily nonresidential",
          "primarily nonresidential",
          "primarily nonresidential",
          "primarily nonresidential",
          "primarily nonresidential",
          "primarily nonresidential",
          "primarily nonresidential",
          "primarily nonresidential",
          "primarily nonresidential",
          "primarily nonresidential",
          "primarily nonresidential",
          "primarily nonresidential",
          "primarily nonresidential",
          "primarily nonresidential",
          "primarily nonresidential",
          "primarily nonresidential",
          "primarily nonresidential",
          "primarily nonresidential",
          "primarily nonresidential",
          "primarily nonresidential",
          "primarily nonresidential",
          "primarily nonresidential",
          "primarily nonresidential",
          "primarily nonresidential",
          "primarily nonresidential",
          "primarily nonresidential",
          "primarily nonresidential",
          "primarily nonresidential",
          "primarily nonresidential",
          "primarily nonresidential",
          "primarily nonresidential",
          "primarily nonresidential",
          "primarily nonresidential",
          "primarily nonresidential",
          "primarily nonresidential",
          "primarily nonresidential",
          "primarily nonresidential",
          "primarily nonresidential",
          "primarily nonresidential",
          "primarily nonresidential",
          "primarily nonresidential",
          "primarily nonresidential",
          "primarily nonresidential",
          "primarily nonresidential",
          "primarily nonresidential",
          "primarily nonresidential",
          "primarily nonresidential",
          "primarily nonresidential",
          "primarily nonresidential",
          "primarily nonresidential",
          "primarily nonresidential",
          "primarily nonresidential",
          "primarily nonresidential",
          "primarily nonresidential",
          "primarily nonresidential",
          "primarily nonresidential",
          "primarily nonresidential",
          "primarily nonresidential",
          "primarily nonresidential",
          "primarily nonresidential",
          "primarily nonresidential",
          "primarily nonresidential",
          "primarily nonresidential",
          "primarily nonresidential",
          "primarily nonresidential",
          "primarily nonresidential",
          "primarily nonresidential",
          "primarily nonresidential",
          "primarily nonresidential",
          "primarily nonresidential",
          "primarily nonresidential",
          "primarily nonresidential",
          "primarily nonresidential",
          "primarily nonresidential",
          "primarily nonresidential",
          "primarily nonresidential",
          "primarily nonresidential",
          "primarily nonresidential",
          "primarily nonresidential",
          "primarily nonresidential",
          "primarily nonresidential",
          "primarily nonresidential",
          "primarily nonresidential",
          "primarily nonresidential",
          "primarily nonresidential",
          "primarily nonresidential",
          "primarily nonresidential",
          "primarily nonresidential",
          "primarily nonresidential",
          "primarily nonresidential",
          "primarily nonresidential",
          "primarily nonresidential",
          "primarily nonresidential",
          "primarily nonresidential",
          "primarily nonresidential",
          "primarily nonresidential",
          "primarily nonresidential",
          "primarily nonresidential",
          "primarily nonresidential",
          "primarily nonresidential",
          "primarily nonresidential",
          "primarily nonresidential",
          "primarily nonresidential",
          "primarily nonresidential",
          "primarily nonresidential",
          "primarily nonresidential",
          "primarily nonresidential",
          "primarily nonresidential",
          "primarily nonresidential",
          "primarily nonresidential",
          "primarily nonresidential",
          "primarily nonresidential",
          "primarily nonresidential",
          "primarily nonresidential",
          "primarily nonresidential",
          "primarily nonresidential",
          "primarily nonresidential",
          "primarily nonresidential",
          "primarily nonresidential",
          "primarily nonresidential",
          "primarily nonresidential",
          "primarily nonresidential",
          "primarily nonresidential",
          "primarily nonresidential",
          "primarily nonresidential",
          "primarily nonresidential",
          "primarily nonresidential",
          "primarily nonresidential",
          "primarily nonresidential",
          "primarily nonresidential",
          "primarily nonresidential",
          "primarily nonresidential",
          "primarily nonresidential",
          "primarily nonresidential",
          "primarily nonresidential",
          "primarily nonresidential",
          "primarily nonresidential",
          "primarily nonresidential",
          "primarily nonresidential",
          "primarily nonresidential",
          "primarily nonresidential",
          "primarily nonresidential",
          "primarily nonresidential",
          "primarily nonresidential",
          "primarily nonresidential",
          "primarily nonresidential",
          "primarily nonresidential",
          "primarily nonresidential",
          "primarily nonresidential",
          "primarily nonresidential",
          "primarily nonresidential",
          "primarily nonresidential",
          "primarily nonresidential",
          "primarily nonresidential",
          "primarily nonresidential",
          "primarily nonresidential",
          "primarily nonresidential",
          "primarily nonresidential",
          "primarily nonresidential",
          "primarily nonresidential",
          "primarily nonresidential",
          "primarily nonresidential",
          "primarily nonresidential",
          "primarily nonresidential",
          "primarily nonresidential",
          "primarily nonresidential",
          "primarily nonresidential",
          "primarily nonresidential",
          "primarily nonresidential",
          "primarily nonresidential",
          "primarily nonresidential",
          "primarily nonresidential",
          "primarily nonresidential",
          "primarily nonresidential",
          "primarily nonresidential",
          "primarily nonresidential",
          "primarily nonresidential",
          "primarily nonresidential",
          "primarily nonresidential",
          "primarily nonresidential",
          "primarily nonresidential",
          "primarily nonresidential",
          "primarily nonresidential",
          "primarily nonresidential",
          "primarily nonresidential",
          "primarily nonresidential",
          "primarily nonresidential",
          "primarily nonresidential",
          "primarily nonresidential",
          "primarily nonresidential",
          "primarily nonresidential",
          "primarily nonresidential",
          "primarily nonresidential",
          "primarily nonresidential",
          "primarily nonresidential",
          "primarily nonresidential",
          "primarily nonresidential",
          "primarily nonresidential",
          "primarily nonresidential",
          "primarily nonresidential",
          "primarily nonresidential",
          "primarily nonresidential",
          "primarily nonresidential",
          "primarily nonresidential",
          "primarily nonresidential",
          "primarily nonresidential",
          "primarily nonresidential",
          "primarily nonresidential",
          "primarily nonresidential",
          "primarily nonresidential",
          "primarily nonresidential",
          "primarily nonresidential",
          "primarily nonresidential",
          "primarily nonresidential",
          "primarily nonresidential",
          "primarily nonresidential",
          "primarily nonresidential",
          "primarily nonresidential",
          "primarily nonresidential",
          "primarily nonresidential",
          "primarily nonresidential",
          "primarily nonresidential",
          "primarily nonresidential",
          "primarily nonresidential",
          "primarily nonresidential",
          "primarily nonresidential",
          "primarily nonresidential",
          "primarily nonresidential",
          "primarily nonresidential",
          "primarily nonresidential",
          "primarily nonresidential",
          "primarily nonresidential",
          "primarily nonresidential",
          "primarily nonresidential",
          "primarily nonresidential",
          "primarily nonresidential",
          "primarily nonresidential",
          "primarily nonresidential",
          "primarily nonresidential",
          "primarily nonresidential",
          "primarily nonresidential",
          "primarily nonresidential",
          "primarily nonresidential",
          "primarily nonresidential",
          "primarily nonresidential",
          "primarily nonresidential",
          "primarily nonresidential",
          "primarily nonresidential",
          "primarily nonresidential",
          "primarily nonresidential",
          "primarily nonresidential",
          "primarily nonresidential",
          "primarily nonresidential",
          "primarily nonresidential",
          "primarily nonresidential",
          "primarily nonresidential",
          "primarily nonresidential",
          "primarily nonresidential",
          "primarily nonresidential",
          "primarily nonresidential",
          "primarily nonresidential",
          "primarily nonresidential",
          "primarily nonresidential",
          "primarily nonresidential",
          "primarily nonresidential",
          "primarily nonresidential",
          "primarily nonresidential",
          "primarily nonresidential",
          "primarily nonresidential",
          "primarily nonresidential",
          "primarily nonresidential",
          "primarily nonresidential",
          "primarily nonresidential",
          "primarily nonresidential",
          "primarily nonresidential",
          "primarily nonresidential",
          "primarily nonresidential",
          "primarily nonresidential",
          "primarily nonresidential",
          "primarily nonresidential",
          "primarily nonresidential",
          "primarily nonresidential",
          "primarily nonresidential",
          "primarily nonresidential",
          "primarily nonresidential",
          "primarily nonresidential",
          "primarily nonresidential",
          "primarily nonresidential",
          "primarily nonresidential",
          "primarily nonresidential",
          "primarily nonresidential",
          "primarily nonresidential",
          "primarily nonresidential",
          "primarily nonresidential",
          "primarily nonresidential",
          "primarily nonresidential",
          "primarily nonresidential",
          "primarily nonresidential",
          "primarily nonresidential",
          "primarily nonresidential",
          "primarily nonresidential",
          "primarily nonresidential",
          "primarily nonresidential",
          "primarily nonresidential",
          "primarily nonresidential",
          "primarily nonresidential",
          "primarily nonresidential",
          "primarily nonresidential",
          "primarily nonresidential",
          "primarily nonresidential",
          "primarily nonresidential",
          "primarily nonresidential",
          "primarily nonresidential",
          "primarily nonresidential",
          "primarily nonresidential",
          "primarily nonresidential",
          "primarily nonresidential",
          "primarily nonresidential",
          "primarily nonresidential",
          "primarily nonresidential",
          "primarily nonresidential",
          "primarily nonresidential",
          "primarily nonresidential",
          "primarily nonresidential",
          "primarily nonresidential",
          "primarily nonresidential",
          "primarily nonresidential",
          "primarily nonresidential",
          "primarily nonresidential",
          "primarily nonresidential",
          "primarily nonresidential",
          "primarily nonresidential",
          "primarily nonresidential",
          "primarily nonresidential",
          "primarily nonresidential",
          "primarily nonresidential",
          "primarily nonresidential",
          "primarily nonresidential",
          "primarily nonresidential",
          "primarily nonresidential",
          "primarily nonresidential",
          "primarily nonresidential",
          "primarily nonresidential",
          "primarily nonresidential",
          "primarily nonresidential",
          "primarily nonresidential",
          "primarily nonresidential",
          "primarily nonresidential",
          "primarily nonresidential",
          "primarily nonresidential",
          "primarily nonresidential",
          "primarily nonresidential",
          "primarily nonresidential",
          "primarily nonresidential",
          "primarily nonresidential",
          "primarily nonresidential",
          "primarily nonresidential",
          "primarily nonresidential",
          "primarily nonresidential",
          "primarily nonresidential",
          "primarily nonresidential",
          "primarily nonresidential",
          "primarily nonresidential",
          "primarily nonresidential",
          "primarily nonresidential",
          "primarily nonresidential",
          "primarily nonresidential",
          "primarily nonresidential",
          "primarily nonresidential",
          "primarily nonresidential",
          "primarily nonresidential",
          "primarily nonresidential",
          "primarily nonresidential",
          "primarily nonresidential",
          "primarily nonresidential",
          "primarily nonresidential",
          "primarily nonresidential",
          "primarily nonresidential",
          "primarily nonresidential",
          "primarily nonresidential",
          "primarily nonresidential",
          "primarily nonresidential",
          "primarily nonresidential",
          "primarily nonresidential",
          "primarily nonresidential",
          "primarily nonresidential",
          "primarily nonresidential",
          "primarily nonresidential",
          "primarily nonresidential",
          "primarily nonresidential",
          "primarily nonresidential",
          "primarily nonresidential",
          "primarily nonresidential",
          "primarily nonresidential",
          "primarily nonresidential",
          "primarily nonresidential",
          "primarily nonresidential",
          "primarily nonresidential",
          "primarily nonresidential",
          "primarily nonresidential",
          "primarily nonresidential",
          "primarily nonresidential",
          "primarily nonresidential",
          "primarily nonresidential",
          "primarily nonresidential",
          "primarily nonresidential",
          "primarily nonresidential",
          "primarily nonresidential",
          "primarily nonresidential",
          "primarily nonresidential",
          "primarily nonresidential",
          "primarily nonresidential",
          "primarily nonresidential",
          "primarily nonresidential",
          "primarily nonresidential"
         ],
         "y": [
          0,
          45,
          94,
          41,
          36,
          33,
          100,
          16,
          36,
          49,
          89,
          60,
          53,
          20,
          33,
          45,
          20,
          23,
          24,
          26,
          29,
          40,
          34,
          33,
          32,
          23,
          47,
          33,
          78,
          27,
          0,
          0,
          4,
          58,
          48,
          48,
          69,
          8,
          0,
          47,
          17,
          45,
          79,
          40,
          100,
          54,
          43,
          100,
          40,
          18,
          20,
          56,
          54,
          33,
          44,
          29,
          27,
          24,
          86,
          32,
          47,
          36,
          44,
          65,
          53,
          6,
          6,
          26,
          77,
          15,
          67,
          52,
          31,
          51,
          67,
          79,
          13,
          60,
          29,
          60,
          78,
          14,
          59,
          39,
          53,
          31,
          56,
          20,
          37,
          24,
          21,
          31,
          30,
          18,
          27,
          13,
          9,
          52,
          23,
          0,
          43,
          38,
          42,
          0,
          100,
          69,
          43,
          54,
          67,
          44,
          50,
          56,
          69,
          74,
          52,
          55,
          55,
          55,
          54,
          59,
          44,
          8,
          21,
          0,
          72,
          27,
          35,
          44,
          46,
          100,
          17,
          34,
          48,
          59,
          44,
          71,
          40,
          58,
          40,
          42,
          35,
          40,
          50,
          50,
          46,
          25,
          50,
          15,
          50,
          59,
          75,
          33,
          43,
          82,
          17,
          48,
          30,
          35,
          40,
          33,
          100,
          31,
          38,
          30,
          20,
          44,
          46,
          35,
          31,
          29,
          35,
          27,
          27,
          12,
          32,
          28,
          25,
          55,
          25,
          26,
          28,
          49,
          33,
          28,
          49,
          22,
          38,
          15,
          94,
          57,
          49,
          51,
          63,
          91,
          0,
          29,
          70,
          54,
          56,
          57,
          52,
          53,
          14,
          18,
          56,
          35,
          33,
          62,
          25,
          49,
          42,
          16,
          100,
          74,
          56,
          21,
          33,
          28,
          24,
          33,
          19,
          28,
          27,
          29,
          11,
          24,
          14,
          37,
          16,
          0,
          17,
          15,
          58,
          50,
          63,
          71,
          41,
          56,
          12,
          36,
          17,
          50,
          89,
          78,
          12,
          11,
          45,
          68,
          62,
          27,
          59,
          48,
          52,
          28,
          38,
          30,
          28,
          57,
          50,
          14,
          38,
          52,
          15,
          40,
          0,
          52,
          27,
          71,
          71,
          33,
          50,
          53,
          63,
          57,
          32,
          37,
          83,
          41,
          61,
          43,
          29,
          28,
          52,
          67,
          43,
          41,
          50,
          21,
          12,
          28,
          55,
          50,
          54,
          38,
          44,
          46,
          81,
          41,
          19,
          22,
          27,
          42,
          38,
          41,
          56,
          51,
          77,
          45,
          9,
          80,
          41,
          19,
          38,
          28,
          47,
          35,
          28,
          50,
          39,
          9,
          33,
          53,
          26,
          58,
          83,
          33,
          52,
          52,
          44,
          0,
          64,
          47,
          26,
          50,
          70,
          36,
          29,
          12,
          41,
          37,
          40,
          38,
          35,
          50,
          38,
          36,
          38,
          63,
          33,
          35,
          46,
          30,
          30,
          38,
          35,
          44,
          43,
          17,
          65,
          47,
          69,
          46,
          28,
          20,
          23,
          25,
          30,
          16,
          29,
          45,
          63,
          50,
          32,
          57,
          28,
          47,
          48,
          38,
          47,
          78,
          50,
          60,
          47,
          55,
          22,
          68,
          28,
          31,
          50,
          22,
          60,
          51,
          18,
          9,
          47,
          44,
          33,
          53,
          29,
          22,
          34,
          28,
          33,
          18,
          80,
          11,
          18,
          33,
          93,
          47,
          27,
          36,
          50,
          50,
          33,
          45,
          32,
          56,
          22,
          74,
          60,
          24,
          54,
          74,
          62,
          0,
          0,
          0,
          19,
          22,
          39,
          29,
          16,
          36,
          69,
          21,
          51,
          41,
          48,
          33,
          69,
          53,
          76,
          43,
          47,
          25,
          21,
          33,
          46,
          20,
          22,
          52,
          35,
          19,
          44,
          24,
          44,
          63,
          29,
          3,
          57,
          4,
          32,
          14,
          18,
          12,
          18,
          20,
          44,
          34,
          21,
          32,
          11,
          53,
          24,
          46,
          67,
          66,
          46,
          40,
          67,
          38,
          38,
          50,
          61,
          37,
          62,
          71,
          34,
          42,
          46,
          44,
          63,
          71,
          71,
          71,
          71,
          71,
          71,
          71,
          71,
          71,
          71,
          71,
          71,
          28,
          100,
          27,
          12,
          70,
          67,
          100,
          73,
          14,
          61,
          70,
          73,
          64,
          28,
          50,
          0,
          36,
          35,
          46,
          48,
          17,
          60,
          75,
          20,
          40,
          27,
          38,
          44,
          53,
          53,
          31,
          23,
          16,
          34,
          39,
          27,
          33,
          57,
          64,
          67,
          31,
          49,
          56,
          57,
          51,
          63,
          49,
          23,
          40,
          43,
          65,
          0,
          57,
          14,
          48,
          45,
          49,
          56,
          52,
          54,
          28,
          73,
          57,
          54,
          64,
          33,
          28,
          56,
          52,
          59,
          29,
          67,
          15,
          33,
          86,
          2,
          41,
          25,
          0,
          7,
          13,
          28,
          43,
          26,
          34,
          53,
          49,
          14,
          33,
          23,
          0,
          17,
          12,
          10,
          10,
          19,
          15,
          32,
          4,
          20,
          100,
          29,
          39,
          35,
          94,
          78,
          0,
          44,
          50,
          24,
          50,
          66,
          19,
          17,
          26,
          24,
          58,
          72,
          100,
          33,
          72,
          62,
          68,
          37,
          25,
          44,
          27,
          32,
          34,
          25,
          100,
          10,
          61,
          0,
          0,
          50,
          40,
          20,
          50,
          10,
          0,
          50,
          50,
          20,
          0,
          0,
          48,
          19,
          38,
          48,
          25,
          26,
          35,
          50,
          74,
          54,
          47,
          34,
          23,
          54,
          43,
          23,
          25,
          28,
          21,
          47,
          50,
          48,
          34,
          47,
          77,
          16,
          40,
          86,
          37,
          42,
          42,
          46,
          46,
          47,
          61,
          100,
          100,
          11,
          0,
          38,
          32,
          47,
          28,
          19,
          58,
          0,
          48,
          98,
          65,
          34,
          30,
          33,
          24,
          75,
          40,
          42,
          14,
          31,
          46,
          63,
          58,
          29,
          26,
          67,
          65,
          43,
          35,
          41,
          87,
          72,
          36,
          14,
          20,
          45,
          52,
          38,
          19,
          28,
          40,
          61,
          29,
          19,
          61,
          73,
          51,
          13,
          36,
          60,
          15,
          49,
          53,
          56,
          40,
          83,
          71,
          50,
          52,
          55,
          50,
          45,
          61,
          48,
          54,
          38,
          56,
          17,
          15,
          22,
          28,
          10,
          27,
          10,
          13,
          22,
          18,
          13,
          15,
          11,
          19,
          7,
          20,
          17,
          45,
          54,
          51,
          42,
          52,
          57,
          49,
          44,
          56,
          18,
          55,
          48,
          75,
          47,
          44,
          40,
          68,
          13,
          51,
          9,
          100,
          75,
          31,
          50,
          70,
          69,
          56,
          44,
          44,
          48,
          54,
          32,
          42,
          67,
          33,
          0,
          39,
          67,
          32,
          63,
          33,
          35,
          46,
          23,
          48,
          34,
          34,
          38,
          40,
          72,
          17,
          31,
          61,
          21,
          21,
          31,
          34,
          37,
          50,
          56,
          21,
          54,
          0,
          38,
          28,
          60,
          58,
          63,
          41
         ]
        },
        {
         "box": {
          "visible": true
         },
         "meanline": {
          "visible": true
         },
         "name": "primarily residential",
         "type": "violin",
         "x": [
          "primarily residential",
          "primarily residential",
          "primarily residential",
          "primarily residential",
          "primarily residential",
          "primarily residential",
          "primarily residential",
          "primarily residential",
          "primarily residential",
          "primarily residential",
          "primarily residential",
          "primarily residential",
          "primarily residential",
          "primarily residential",
          "primarily residential",
          "primarily residential",
          "primarily residential",
          "primarily residential",
          "primarily residential",
          "primarily residential",
          "primarily residential",
          "primarily residential",
          "primarily residential",
          "primarily residential",
          "primarily residential",
          "primarily residential",
          "primarily residential",
          "primarily residential",
          "primarily residential",
          "primarily residential",
          "primarily residential",
          "primarily residential",
          "primarily residential",
          "primarily residential",
          "primarily residential",
          "primarily residential",
          "primarily residential",
          "primarily residential",
          "primarily residential",
          "primarily residential",
          "primarily residential",
          "primarily residential",
          "primarily residential",
          "primarily residential",
          "primarily residential",
          "primarily residential",
          "primarily residential",
          "primarily residential",
          "primarily residential",
          "primarily residential",
          "primarily residential",
          "primarily residential",
          "primarily residential",
          "primarily residential",
          "primarily residential",
          "primarily residential",
          "primarily residential",
          "primarily residential",
          "primarily residential",
          "primarily residential",
          "primarily residential",
          "primarily residential",
          "primarily residential",
          "primarily residential",
          "primarily residential",
          "primarily residential",
          "primarily residential",
          "primarily residential",
          "primarily residential",
          "primarily residential",
          "primarily residential",
          "primarily residential",
          "primarily residential",
          "primarily residential",
          "primarily residential",
          "primarily residential",
          "primarily residential",
          "primarily residential",
          "primarily residential",
          "primarily residential",
          "primarily residential",
          "primarily residential",
          "primarily residential",
          "primarily residential",
          "primarily residential",
          "primarily residential",
          "primarily residential",
          "primarily residential",
          "primarily residential",
          "primarily residential",
          "primarily residential",
          "primarily residential",
          "primarily residential",
          "primarily residential",
          "primarily residential",
          "primarily residential",
          "primarily residential",
          "primarily residential",
          "primarily residential",
          "primarily residential",
          "primarily residential",
          "primarily residential",
          "primarily residential",
          "primarily residential",
          "primarily residential",
          "primarily residential",
          "primarily residential",
          "primarily residential",
          "primarily residential",
          "primarily residential",
          "primarily residential",
          "primarily residential",
          "primarily residential",
          "primarily residential",
          "primarily residential",
          "primarily residential",
          "primarily residential",
          "primarily residential",
          "primarily residential",
          "primarily residential",
          "primarily residential",
          "primarily residential",
          "primarily residential",
          "primarily residential",
          "primarily residential",
          "primarily residential",
          "primarily residential",
          "primarily residential",
          "primarily residential",
          "primarily residential",
          "primarily residential",
          "primarily residential",
          "primarily residential",
          "primarily residential",
          "primarily residential",
          "primarily residential",
          "primarily residential",
          "primarily residential",
          "primarily residential",
          "primarily residential",
          "primarily residential",
          "primarily residential",
          "primarily residential",
          "primarily residential",
          "primarily residential",
          "primarily residential",
          "primarily residential",
          "primarily residential",
          "primarily residential",
          "primarily residential",
          "primarily residential",
          "primarily residential",
          "primarily residential",
          "primarily residential",
          "primarily residential",
          "primarily residential",
          "primarily residential",
          "primarily residential",
          "primarily residential",
          "primarily residential",
          "primarily residential",
          "primarily residential",
          "primarily residential",
          "primarily residential",
          "primarily residential",
          "primarily residential",
          "primarily residential",
          "primarily residential",
          "primarily residential",
          "primarily residential",
          "primarily residential",
          "primarily residential",
          "primarily residential",
          "primarily residential",
          "primarily residential",
          "primarily residential",
          "primarily residential",
          "primarily residential",
          "primarily residential",
          "primarily residential",
          "primarily residential",
          "primarily residential",
          "primarily residential",
          "primarily residential",
          "primarily residential",
          "primarily residential",
          "primarily residential",
          "primarily residential",
          "primarily residential",
          "primarily residential",
          "primarily residential",
          "primarily residential",
          "primarily residential",
          "primarily residential",
          "primarily residential",
          "primarily residential",
          "primarily residential",
          "primarily residential",
          "primarily residential",
          "primarily residential",
          "primarily residential",
          "primarily residential",
          "primarily residential",
          "primarily residential",
          "primarily residential",
          "primarily residential",
          "primarily residential",
          "primarily residential",
          "primarily residential",
          "primarily residential",
          "primarily residential",
          "primarily residential",
          "primarily residential",
          "primarily residential",
          "primarily residential",
          "primarily residential",
          "primarily residential",
          "primarily residential",
          "primarily residential",
          "primarily residential",
          "primarily residential",
          "primarily residential",
          "primarily residential",
          "primarily residential",
          "primarily residential",
          "primarily residential",
          "primarily residential",
          "primarily residential",
          "primarily residential",
          "primarily residential",
          "primarily residential",
          "primarily residential",
          "primarily residential",
          "primarily residential",
          "primarily residential",
          "primarily residential",
          "primarily residential",
          "primarily residential",
          "primarily residential",
          "primarily residential",
          "primarily residential",
          "primarily residential",
          "primarily residential",
          "primarily residential",
          "primarily residential",
          "primarily residential",
          "primarily residential",
          "primarily residential",
          "primarily residential",
          "primarily residential",
          "primarily residential",
          "primarily residential",
          "primarily residential",
          "primarily residential",
          "primarily residential",
          "primarily residential",
          "primarily residential",
          "primarily residential",
          "primarily residential",
          "primarily residential",
          "primarily residential",
          "primarily residential",
          "primarily residential",
          "primarily residential",
          "primarily residential",
          "primarily residential",
          "primarily residential",
          "primarily residential",
          "primarily residential",
          "primarily residential",
          "primarily residential",
          "primarily residential",
          "primarily residential",
          "primarily residential",
          "primarily residential",
          "primarily residential",
          "primarily residential",
          "primarily residential",
          "primarily residential",
          "primarily residential",
          "primarily residential",
          "primarily residential",
          "primarily residential",
          "primarily residential",
          "primarily residential",
          "primarily residential",
          "primarily residential",
          "primarily residential",
          "primarily residential",
          "primarily residential",
          "primarily residential",
          "primarily residential",
          "primarily residential",
          "primarily residential",
          "primarily residential",
          "primarily residential",
          "primarily residential",
          "primarily residential",
          "primarily residential",
          "primarily residential",
          "primarily residential",
          "primarily residential",
          "primarily residential",
          "primarily residential",
          "primarily residential",
          "primarily residential",
          "primarily residential",
          "primarily residential",
          "primarily residential",
          "primarily residential",
          "primarily residential",
          "primarily residential",
          "primarily residential",
          "primarily residential",
          "primarily residential",
          "primarily residential",
          "primarily residential",
          "primarily residential",
          "primarily residential",
          "primarily residential",
          "primarily residential",
          "primarily residential",
          "primarily residential",
          "primarily residential",
          "primarily residential",
          "primarily residential",
          "primarily residential",
          "primarily residential",
          "primarily residential",
          "primarily residential",
          "primarily residential",
          "primarily residential",
          "primarily residential",
          "primarily residential",
          "primarily residential",
          "primarily residential",
          "primarily residential",
          "primarily residential",
          "primarily residential",
          "primarily residential",
          "primarily residential",
          "primarily residential",
          "primarily residential",
          "primarily residential",
          "primarily residential",
          "primarily residential",
          "primarily residential",
          "primarily residential",
          "primarily residential",
          "primarily residential",
          "primarily residential",
          "primarily residential",
          "primarily residential",
          "primarily residential",
          "primarily residential",
          "primarily residential",
          "primarily residential",
          "primarily residential",
          "primarily residential",
          "primarily residential",
          "primarily residential",
          "primarily residential",
          "primarily residential",
          "primarily residential",
          "primarily residential",
          "primarily residential",
          "primarily residential",
          "primarily residential",
          "primarily residential",
          "primarily residential",
          "primarily residential",
          "primarily residential",
          "primarily residential",
          "primarily residential",
          "primarily residential",
          "primarily residential",
          "primarily residential",
          "primarily residential",
          "primarily residential",
          "primarily residential",
          "primarily residential",
          "primarily residential",
          "primarily residential",
          "primarily residential",
          "primarily residential",
          "primarily residential",
          "primarily residential",
          "primarily residential",
          "primarily residential",
          "primarily residential",
          "primarily residential",
          "primarily residential",
          "primarily residential",
          "primarily residential",
          "primarily residential",
          "primarily residential",
          "primarily residential",
          "primarily residential",
          "primarily residential",
          "primarily residential",
          "primarily residential",
          "primarily residential",
          "primarily residential",
          "primarily residential",
          "primarily residential",
          "primarily residential",
          "primarily residential",
          "primarily residential",
          "primarily residential",
          "primarily residential",
          "primarily residential",
          "primarily residential",
          "primarily residential",
          "primarily residential",
          "primarily residential",
          "primarily residential",
          "primarily residential",
          "primarily residential",
          "primarily residential",
          "primarily residential",
          "primarily residential",
          "primarily residential",
          "primarily residential",
          "primarily residential",
          "primarily residential",
          "primarily residential",
          "primarily residential",
          "primarily residential",
          "primarily residential",
          "primarily residential",
          "primarily residential",
          "primarily residential",
          "primarily residential",
          "primarily residential",
          "primarily residential",
          "primarily residential",
          "primarily residential",
          "primarily residential",
          "primarily residential",
          "primarily residential",
          "primarily residential",
          "primarily residential",
          "primarily residential",
          "primarily residential",
          "primarily residential",
          "primarily residential",
          "primarily residential",
          "primarily residential",
          "primarily residential",
          "primarily residential",
          "primarily residential",
          "primarily residential",
          "primarily residential",
          "primarily residential",
          "primarily residential",
          "primarily residential",
          "primarily residential",
          "primarily residential",
          "primarily residential",
          "primarily residential",
          "primarily residential",
          "primarily residential",
          "primarily residential",
          "primarily residential",
          "primarily residential",
          "primarily residential",
          "primarily residential",
          "primarily residential",
          "primarily residential",
          "primarily residential",
          "primarily residential",
          "primarily residential",
          "primarily residential",
          "primarily residential",
          "primarily residential",
          "primarily residential",
          "primarily residential",
          "primarily residential",
          "primarily residential",
          "primarily residential",
          "primarily residential",
          "primarily residential",
          "primarily residential",
          "primarily residential",
          "primarily residential",
          "primarily residential",
          "primarily residential",
          "primarily residential",
          "primarily residential",
          "primarily residential",
          "primarily residential",
          "primarily residential",
          "primarily residential",
          "primarily residential",
          "primarily residential",
          "primarily residential",
          "primarily residential",
          "primarily residential",
          "primarily residential",
          "primarily residential",
          "primarily residential",
          "primarily residential",
          "primarily residential",
          "primarily residential",
          "primarily residential",
          "primarily residential",
          "primarily residential",
          "primarily residential",
          "primarily residential",
          "primarily residential",
          "primarily residential",
          "primarily residential",
          "primarily residential",
          "primarily residential",
          "primarily residential",
          "primarily residential",
          "primarily residential",
          "primarily residential",
          "primarily residential",
          "primarily residential",
          "primarily residential",
          "primarily residential",
          "primarily residential",
          "primarily residential",
          "primarily residential",
          "primarily residential",
          "primarily residential",
          "primarily residential",
          "primarily residential",
          "primarily residential",
          "primarily residential",
          "primarily residential",
          "primarily residential",
          "primarily residential",
          "primarily residential",
          "primarily residential",
          "primarily residential",
          "primarily residential",
          "primarily residential",
          "primarily residential"
         ],
         "y": [
          26,
          73,
          45,
          23,
          61,
          63,
          33,
          40,
          46,
          73,
          50,
          63,
          45,
          53,
          38,
          34,
          57,
          55,
          64,
          67,
          35,
          49,
          35,
          78,
          50,
          66,
          48,
          46,
          32,
          38,
          35,
          60,
          34,
          43,
          61,
          77,
          46,
          34,
          40,
          61,
          52,
          69,
          63,
          64,
          61,
          68,
          82,
          50,
          36,
          55,
          36,
          52,
          50,
          57,
          41,
          51,
          26,
          32,
          57,
          61,
          65,
          81,
          41,
          56,
          61,
          52,
          88,
          84,
          60,
          85,
          47,
          55,
          70,
          66,
          73,
          57,
          52,
          34,
          83,
          36,
          70,
          60,
          50,
          65,
          46,
          44,
          64,
          25,
          95,
          60,
          54,
          50,
          43,
          63,
          43,
          58,
          9,
          57,
          39,
          69,
          47,
          64,
          70,
          69,
          58,
          66,
          37,
          50,
          45,
          46,
          36,
          59,
          54,
          64,
          70,
          62,
          69,
          49,
          41,
          80,
          33,
          34,
          47,
          47,
          58,
          47,
          53,
          53,
          50,
          54,
          83,
          41,
          61,
          44,
          48,
          49,
          68,
          71,
          64,
          50,
          38,
          54,
          39,
          49,
          58,
          17,
          67,
          60,
          70,
          17,
          17,
          51,
          54,
          44,
          49,
          49,
          57,
          28,
          70,
          67,
          41,
          56,
          79,
          31,
          90,
          74,
          38,
          41,
          52,
          84,
          93,
          36,
          58,
          61,
          65,
          62,
          25,
          56,
          47,
          59,
          55,
          66,
          47,
          34,
          62,
          60,
          14,
          90,
          60,
          63,
          67,
          54,
          33,
          58,
          34,
          55,
          59,
          54,
          46,
          60,
          36,
          74,
          50,
          26,
          63,
          56,
          49,
          36,
          38,
          33,
          53,
          58,
          71,
          34,
          74,
          38,
          66,
          81,
          81,
          23,
          44,
          79,
          45,
          56,
          59,
          64,
          53,
          45,
          68,
          61,
          40,
          66,
          38,
          73,
          57,
          31,
          67,
          34,
          43,
          48,
          56,
          65,
          64,
          45,
          65,
          55,
          35,
          52,
          29,
          74,
          48,
          67,
          22,
          52,
          73,
          49,
          51,
          49,
          82,
          41,
          60,
          57,
          49,
          48,
          40,
          31,
          94,
          54,
          61,
          37,
          52,
          63,
          58,
          86,
          65,
          37,
          65,
          39,
          42,
          54,
          57,
          28,
          43,
          64,
          45,
          71,
          71,
          71,
          71,
          71,
          71,
          71,
          34,
          52,
          57,
          60,
          28,
          33,
          34,
          82,
          89,
          68,
          55,
          50,
          46,
          65,
          52,
          41,
          22,
          41,
          73,
          84,
          69,
          44,
          40,
          64,
          53,
          67,
          64,
          56,
          59,
          57,
          22,
          70,
          53,
          46,
          70,
          70,
          70,
          74,
          73,
          67,
          35,
          49,
          58,
          47,
          45,
          68,
          62,
          49,
          56,
          50,
          60,
          45,
          52,
          48,
          51,
          46,
          41,
          21,
          54,
          46,
          50,
          25,
          42,
          35,
          40,
          90,
          59,
          58,
          63,
          43,
          77,
          52,
          77,
          58,
          25,
          67,
          64,
          46,
          68,
          76,
          47,
          48,
          71,
          57,
          49,
          41,
          82,
          43,
          37,
          39,
          83,
          61,
          30,
          47,
          61,
          69,
          50,
          70,
          34,
          71,
          45,
          49,
          48,
          72,
          47,
          51,
          70,
          40,
          61,
          54,
          39,
          71,
          56,
          33,
          9,
          59,
          39,
          68,
          42,
          75,
          45,
          35,
          66,
          29,
          45,
          93,
          84,
          69,
          76,
          87,
          83,
          43,
          51,
          38,
          71,
          69,
          81,
          77,
          67,
          43,
          88,
          87,
          44,
          61,
          56,
          54,
          60,
          72,
          67,
          66,
          47,
          59,
          57,
          30,
          38,
          71,
          87,
          66,
          83,
          93,
          50,
          62,
          66,
          66,
          42,
          49,
          59,
          64,
          59,
          41,
          72,
          61,
          67,
          52,
          60,
          70,
          74,
          34,
          83,
          38,
          69,
          32,
          52,
          81,
          75,
          46,
          39,
          31,
          77,
          59,
          92,
          50,
          49,
          62,
          76,
          78,
          32,
          95,
          84,
          35,
          45,
          67,
          53,
          69,
          88,
          61,
          56,
          58,
          60,
          60,
          48,
          62,
          60,
          53,
          76,
          54,
          40,
          50,
          55,
          27,
          86,
          5,
          54,
          30,
          67,
          46,
          60,
          58,
          77,
          45,
          21,
          62,
          52,
          48,
          57,
          41,
          68,
          58,
          63,
          47,
          55,
          64,
          59,
          89,
          58,
          45,
          50,
          57
         ]
        },
        {
         "box": {
          "visible": true
         },
         "meanline": {
          "visible": true
         },
         "name": "highly residential",
         "type": "violin",
         "x": [
          "highly residential",
          "highly residential",
          "highly residential",
          "highly residential",
          "highly residential",
          "highly residential",
          "highly residential",
          "highly residential",
          "highly residential",
          "highly residential",
          "highly residential",
          "highly residential",
          "highly residential",
          "highly residential",
          "highly residential",
          "highly residential",
          "highly residential",
          "highly residential",
          "highly residential",
          "highly residential",
          "highly residential",
          "highly residential",
          "highly residential",
          "highly residential",
          "highly residential",
          "highly residential",
          "highly residential",
          "highly residential",
          "highly residential",
          "highly residential",
          "highly residential",
          "highly residential",
          "highly residential",
          "highly residential",
          "highly residential",
          "highly residential",
          "highly residential",
          "highly residential",
          "highly residential",
          "highly residential",
          "highly residential",
          "highly residential",
          "highly residential",
          "highly residential",
          "highly residential",
          "highly residential",
          "highly residential",
          "highly residential",
          "highly residential",
          "highly residential",
          "highly residential",
          "highly residential",
          "highly residential",
          "highly residential",
          "highly residential",
          "highly residential",
          "highly residential",
          "highly residential",
          "highly residential",
          "highly residential",
          "highly residential",
          "highly residential",
          "highly residential",
          "highly residential",
          "highly residential",
          "highly residential",
          "highly residential",
          "highly residential",
          "highly residential",
          "highly residential",
          "highly residential",
          "highly residential",
          "highly residential",
          "highly residential",
          "highly residential",
          "highly residential",
          "highly residential",
          "highly residential",
          "highly residential",
          "highly residential",
          "highly residential",
          "highly residential",
          "highly residential",
          "highly residential",
          "highly residential",
          "highly residential",
          "highly residential",
          "highly residential",
          "highly residential",
          "highly residential",
          "highly residential",
          "highly residential",
          "highly residential",
          "highly residential",
          "highly residential",
          "highly residential",
          "highly residential",
          "highly residential",
          "highly residential",
          "highly residential",
          "highly residential",
          "highly residential",
          "highly residential",
          "highly residential",
          "highly residential",
          "highly residential",
          "highly residential",
          "highly residential",
          "highly residential",
          "highly residential",
          "highly residential",
          "highly residential",
          "highly residential",
          "highly residential",
          "highly residential",
          "highly residential",
          "highly residential",
          "highly residential",
          "highly residential",
          "highly residential",
          "highly residential",
          "highly residential",
          "highly residential",
          "highly residential",
          "highly residential",
          "highly residential",
          "highly residential",
          "highly residential",
          "highly residential",
          "highly residential",
          "highly residential",
          "highly residential",
          "highly residential",
          "highly residential",
          "highly residential",
          "highly residential",
          "highly residential",
          "highly residential",
          "highly residential",
          "highly residential",
          "highly residential",
          "highly residential",
          "highly residential",
          "highly residential",
          "highly residential",
          "highly residential",
          "highly residential",
          "highly residential",
          "highly residential",
          "highly residential",
          "highly residential",
          "highly residential",
          "highly residential",
          "highly residential",
          "highly residential",
          "highly residential",
          "highly residential",
          "highly residential",
          "highly residential",
          "highly residential",
          "highly residential",
          "highly residential",
          "highly residential",
          "highly residential",
          "highly residential",
          "highly residential",
          "highly residential",
          "highly residential",
          "highly residential",
          "highly residential",
          "highly residential",
          "highly residential",
          "highly residential",
          "highly residential",
          "highly residential",
          "highly residential",
          "highly residential",
          "highly residential",
          "highly residential",
          "highly residential",
          "highly residential",
          "highly residential",
          "highly residential",
          "highly residential",
          "highly residential",
          "highly residential",
          "highly residential",
          "highly residential",
          "highly residential",
          "highly residential",
          "highly residential",
          "highly residential",
          "highly residential",
          "highly residential",
          "highly residential",
          "highly residential",
          "highly residential",
          "highly residential",
          "highly residential",
          "highly residential",
          "highly residential",
          "highly residential",
          "highly residential",
          "highly residential",
          "highly residential",
          "highly residential",
          "highly residential",
          "highly residential",
          "highly residential",
          "highly residential",
          "highly residential",
          "highly residential",
          "highly residential",
          "highly residential",
          "highly residential",
          "highly residential",
          "highly residential",
          "highly residential",
          "highly residential",
          "highly residential",
          "highly residential",
          "highly residential",
          "highly residential",
          "highly residential",
          "highly residential",
          "highly residential",
          "highly residential",
          "highly residential",
          "highly residential",
          "highly residential",
          "highly residential",
          "highly residential",
          "highly residential",
          "highly residential",
          "highly residential",
          "highly residential",
          "highly residential",
          "highly residential",
          "highly residential",
          "highly residential",
          "highly residential",
          "highly residential",
          "highly residential",
          "highly residential",
          "highly residential",
          "highly residential",
          "highly residential",
          "highly residential",
          "highly residential",
          "highly residential",
          "highly residential",
          "highly residential",
          "highly residential",
          "highly residential",
          "highly residential",
          "highly residential",
          "highly residential",
          "highly residential",
          "highly residential",
          "highly residential",
          "highly residential",
          "highly residential",
          "highly residential",
          "highly residential",
          "highly residential",
          "highly residential",
          "highly residential",
          "highly residential",
          "highly residential",
          "highly residential",
          "highly residential",
          "highly residential",
          "highly residential",
          "highly residential",
          "highly residential",
          "highly residential",
          "highly residential",
          "highly residential",
          "highly residential",
          "highly residential",
          "highly residential",
          "highly residential",
          "highly residential",
          "highly residential",
          "highly residential",
          "highly residential",
          "highly residential",
          "highly residential",
          "highly residential",
          "highly residential",
          "highly residential",
          "highly residential",
          "highly residential",
          "highly residential",
          "highly residential",
          "highly residential",
          "highly residential",
          "highly residential",
          "highly residential",
          "highly residential",
          "highly residential",
          "highly residential",
          "highly residential",
          "highly residential",
          "highly residential",
          "highly residential",
          "highly residential",
          "highly residential",
          "highly residential",
          "highly residential",
          "highly residential",
          "highly residential",
          "highly residential",
          "highly residential",
          "highly residential",
          "highly residential",
          "highly residential",
          "highly residential",
          "highly residential",
          "highly residential",
          "highly residential",
          "highly residential",
          "highly residential",
          "highly residential",
          "highly residential",
          "highly residential",
          "highly residential",
          "highly residential",
          "highly residential",
          "highly residential",
          "highly residential",
          "highly residential",
          "highly residential",
          "highly residential",
          "highly residential",
          "highly residential",
          "highly residential",
          "highly residential",
          "highly residential",
          "highly residential",
          "highly residential",
          "highly residential",
          "highly residential",
          "highly residential",
          "highly residential",
          "highly residential",
          "highly residential",
          "highly residential",
          "highly residential",
          "highly residential",
          "highly residential",
          "highly residential",
          "highly residential",
          "highly residential",
          "highly residential",
          "highly residential",
          "highly residential",
          "highly residential",
          "highly residential",
          "highly residential",
          "highly residential",
          "highly residential",
          "highly residential",
          "highly residential",
          "highly residential",
          "highly residential",
          "highly residential",
          "highly residential",
          "highly residential",
          "highly residential",
          "highly residential",
          "highly residential",
          "highly residential",
          "highly residential",
          "highly residential",
          "highly residential",
          "highly residential",
          "highly residential",
          "highly residential",
          "highly residential",
          "highly residential",
          "highly residential",
          "highly residential",
          "highly residential",
          "highly residential",
          "highly residential",
          "highly residential",
          "highly residential",
          "highly residential",
          "highly residential",
          "highly residential",
          "highly residential",
          "highly residential",
          "highly residential",
          "highly residential",
          "highly residential",
          "highly residential",
          "highly residential",
          "highly residential",
          "highly residential",
          "highly residential",
          "highly residential",
          "highly residential",
          "highly residential",
          "highly residential",
          "highly residential",
          "highly residential",
          "highly residential",
          "highly residential",
          "highly residential",
          "highly residential",
          "highly residential",
          "highly residential",
          "highly residential",
          "highly residential",
          "highly residential",
          "highly residential",
          "highly residential",
          "highly residential",
          "highly residential",
          "highly residential",
          "highly residential",
          "highly residential",
          "highly residential",
          "highly residential",
          "highly residential",
          "highly residential",
          "highly residential",
          "highly residential",
          "highly residential",
          "highly residential",
          "highly residential",
          "highly residential",
          "highly residential",
          "highly residential",
          "highly residential",
          "highly residential",
          "highly residential",
          "highly residential",
          "highly residential",
          "highly residential",
          "highly residential",
          "highly residential",
          "highly residential",
          "highly residential",
          "highly residential",
          "highly residential",
          "highly residential",
          "highly residential",
          "highly residential",
          "highly residential",
          "highly residential",
          "highly residential",
          "highly residential",
          "highly residential",
          "highly residential",
          "highly residential",
          "highly residential",
          "highly residential",
          "highly residential",
          "highly residential",
          "highly residential",
          "highly residential",
          "highly residential",
          "highly residential",
          "highly residential",
          "highly residential",
          "highly residential",
          "highly residential",
          "highly residential",
          "highly residential",
          "highly residential",
          "highly residential",
          "highly residential",
          "highly residential",
          "highly residential",
          "highly residential",
          "highly residential",
          "highly residential",
          "highly residential",
          "highly residential",
          "highly residential",
          "highly residential",
          "highly residential",
          "highly residential",
          "highly residential",
          "highly residential",
          "highly residential",
          "highly residential",
          "highly residential",
          "highly residential",
          "highly residential",
          "highly residential",
          "highly residential",
          "highly residential",
          "highly residential",
          "highly residential",
          "highly residential",
          "highly residential",
          "highly residential",
          "highly residential",
          "highly residential",
          "highly residential",
          "highly residential",
          "highly residential",
          "highly residential",
          "highly residential",
          "highly residential",
          "highly residential",
          "highly residential",
          "highly residential",
          "highly residential",
          "highly residential",
          "highly residential",
          "highly residential",
          "highly residential",
          "highly residential",
          "highly residential",
          "highly residential",
          "highly residential",
          "highly residential",
          "highly residential",
          "highly residential",
          "highly residential",
          "highly residential",
          "highly residential",
          "highly residential",
          "highly residential",
          "highly residential",
          "highly residential",
          "highly residential",
          "highly residential",
          "highly residential",
          "highly residential",
          "highly residential",
          "highly residential",
          "highly residential",
          "highly residential",
          "highly residential",
          "highly residential",
          "highly residential",
          "highly residential",
          "highly residential",
          "highly residential",
          "highly residential",
          "highly residential",
          "highly residential",
          "highly residential",
          "highly residential",
          "highly residential",
          "highly residential",
          "highly residential",
          "highly residential",
          "highly residential",
          "highly residential",
          "highly residential",
          "highly residential",
          "highly residential",
          "highly residential",
          "highly residential",
          "highly residential",
          "highly residential",
          "highly residential",
          "highly residential",
          "highly residential",
          "highly residential",
          "highly residential",
          "highly residential",
          "highly residential",
          "highly residential",
          "highly residential",
          "highly residential",
          "highly residential",
          "highly residential",
          "highly residential",
          "highly residential",
          "highly residential",
          "highly residential",
          "highly residential",
          "highly residential",
          "highly residential",
          "highly residential",
          "highly residential",
          "highly residential",
          "highly residential",
          "highly residential",
          "highly residential",
          "highly residential",
          "highly residential",
          "highly residential",
          "highly residential",
          "highly residential",
          "highly residential",
          "highly residential",
          "highly residential",
          "highly residential",
          "highly residential",
          "highly residential",
          "highly residential",
          "highly residential",
          "highly residential",
          "highly residential",
          "highly residential",
          "highly residential",
          "highly residential",
          "highly residential",
          "highly residential",
          "highly residential",
          "highly residential",
          "highly residential",
          "highly residential",
          "highly residential",
          "highly residential",
          "highly residential",
          "highly residential",
          "highly residential",
          "highly residential",
          "highly residential",
          "highly residential",
          "highly residential",
          "highly residential",
          "highly residential",
          "highly residential",
          "highly residential",
          "highly residential",
          "highly residential",
          "highly residential",
          "highly residential",
          "highly residential",
          "highly residential",
          "highly residential",
          "highly residential",
          "highly residential",
          "highly residential",
          "highly residential",
          "highly residential",
          "highly residential",
          "highly residential",
          "highly residential",
          "highly residential",
          "highly residential",
          "highly residential",
          "highly residential",
          "highly residential",
          "highly residential",
          "highly residential",
          "highly residential",
          "highly residential",
          "highly residential",
          "highly residential",
          "highly residential",
          "highly residential",
          "highly residential",
          "highly residential",
          "highly residential",
          "highly residential",
          "highly residential",
          "highly residential",
          "highly residential",
          "highly residential",
          "highly residential",
          "highly residential",
          "highly residential",
          "highly residential",
          "highly residential",
          "highly residential",
          "highly residential",
          "highly residential",
          "highly residential",
          "highly residential",
          "highly residential",
          "highly residential",
          "highly residential",
          "highly residential",
          "highly residential",
          "highly residential",
          "highly residential",
          "highly residential",
          "highly residential",
          "highly residential",
          "highly residential",
          "highly residential",
          "highly residential",
          "highly residential",
          "highly residential",
          "highly residential",
          "highly residential",
          "highly residential",
          "highly residential",
          "highly residential",
          "highly residential",
          "highly residential",
          "highly residential",
          "highly residential",
          "highly residential",
          "highly residential",
          "highly residential",
          "highly residential",
          "highly residential",
          "highly residential",
          "highly residential",
          "highly residential",
          "highly residential",
          "highly residential",
          "highly residential",
          "highly residential",
          "highly residential",
          "highly residential",
          "highly residential",
          "highly residential",
          "highly residential",
          "highly residential",
          "highly residential",
          "highly residential",
          "highly residential",
          "highly residential",
          "highly residential",
          "highly residential",
          "highly residential",
          "highly residential",
          "highly residential",
          "highly residential",
          "highly residential",
          "highly residential",
          "highly residential",
          "highly residential",
          "highly residential",
          "highly residential",
          "highly residential",
          "highly residential",
          "highly residential",
          "highly residential",
          "highly residential",
          "highly residential",
          "highly residential",
          "highly residential",
          "highly residential",
          "highly residential",
          "highly residential",
          "highly residential",
          "highly residential",
          "highly residential",
          "highly residential",
          "highly residential",
          "highly residential",
          "highly residential",
          "highly residential",
          "highly residential",
          "highly residential",
          "highly residential",
          "highly residential",
          "highly residential",
          "highly residential",
          "highly residential",
          "highly residential",
          "highly residential",
          "highly residential",
          "highly residential",
          "highly residential",
          "highly residential",
          "highly residential",
          "highly residential",
          "highly residential",
          "highly residential",
          "highly residential",
          "highly residential",
          "highly residential",
          "highly residential",
          "highly residential",
          "highly residential",
          "highly residential",
          "highly residential",
          "highly residential",
          "highly residential",
          "highly residential",
          "highly residential",
          "highly residential",
          "highly residential",
          "highly residential",
          "highly residential",
          "highly residential",
          "highly residential",
          "highly residential",
          "highly residential",
          "highly residential",
          "highly residential",
          "highly residential",
          "highly residential",
          "highly residential",
          "highly residential",
          "highly residential",
          "highly residential",
          "highly residential",
          "highly residential",
          "highly residential",
          "highly residential",
          "highly residential",
          "highly residential",
          "highly residential",
          "highly residential",
          "highly residential",
          "highly residential",
          "highly residential",
          "highly residential",
          "highly residential",
          "highly residential",
          "highly residential",
          "highly residential",
          "highly residential",
          "highly residential",
          "highly residential",
          "highly residential",
          "highly residential",
          "highly residential",
          "highly residential",
          "highly residential",
          "highly residential",
          "highly residential",
          "highly residential",
          "highly residential",
          "highly residential",
          "highly residential",
          "highly residential",
          "highly residential",
          "highly residential",
          "highly residential",
          "highly residential",
          "highly residential",
          "highly residential",
          "highly residential",
          "highly residential",
          "highly residential",
          "highly residential",
          "highly residential",
          "highly residential",
          "highly residential",
          "highly residential",
          "highly residential",
          "highly residential"
         ],
         "y": [
          61,
          30,
          50,
          73,
          30,
          33,
          40,
          70,
          70,
          57,
          41,
          39,
          57,
          52,
          74,
          50,
          22,
          67,
          44,
          100,
          75,
          79,
          95,
          60,
          67,
          19,
          59,
          78,
          65,
          60,
          66,
          8,
          16,
          68,
          65,
          70,
          71,
          71,
          72,
          58,
          42,
          68,
          93,
          16,
          38,
          14,
          65,
          33,
          77,
          69,
          92,
          55,
          91,
          68,
          46,
          81,
          45,
          72,
          75,
          24,
          65,
          63,
          76,
          90,
          68,
          69,
          34,
          46,
          50,
          54,
          44,
          67,
          73,
          33,
          82,
          74,
          69,
          41,
          48,
          54,
          66,
          49,
          36,
          94,
          88,
          95,
          87,
          40,
          20,
          59,
          65,
          96,
          45,
          81,
          58,
          84,
          90,
          60,
          82,
          55,
          60,
          94,
          67,
          63,
          76,
          73,
          62,
          92,
          90,
          63,
          67,
          57,
          66,
          84,
          55,
          51,
          58,
          75,
          59,
          54,
          39,
          67,
          47,
          28,
          7,
          84,
          45,
          70,
          26,
          27,
          78,
          74,
          51,
          91,
          44,
          79,
          63,
          78,
          76,
          66,
          39,
          89,
          62,
          91,
          50,
          80,
          90,
          71,
          83,
          51,
          95,
          58,
          40,
          72,
          39,
          47,
          63,
          64,
          84,
          58,
          66,
          69,
          58,
          65,
          81,
          22,
          70,
          52,
          52,
          69,
          54,
          95,
          91,
          41,
          44,
          35,
          42,
          60,
          82,
          84,
          83,
          51,
          100,
          54,
          75,
          81,
          69,
          95,
          81,
          64,
          52,
          44,
          57,
          53,
          58,
          40,
          27,
          66,
          44,
          26,
          39,
          69,
          68,
          85,
          82,
          41,
          66,
          67,
          54,
          90,
          74,
          45,
          50,
          56,
          83,
          63,
          43,
          29,
          37,
          50,
          51,
          59,
          36,
          68,
          35,
          77,
          85,
          65,
          49,
          96,
          58,
          83,
          51,
          68,
          56,
          72,
          82,
          45,
          95,
          90,
          81,
          85,
          69,
          65,
          66,
          69,
          46,
          35,
          55,
          22,
          33,
          56,
          89,
          85,
          56,
          78,
          93,
          68,
          63,
          60,
          41,
          69,
          51,
          69,
          31,
          65,
          97,
          92,
          46,
          59,
          90,
          4,
          51,
          63,
          39,
          71,
          52,
          65,
          86,
          54,
          77,
          65,
          66,
          51,
          40,
          48,
          65,
          81,
          75,
          35,
          65,
          70,
          63,
          70,
          77,
          71,
          64,
          31,
          74,
          11,
          91,
          72,
          76,
          58,
          59,
          52,
          52,
          65,
          49,
          63,
          32,
          78,
          86,
          42,
          63,
          43,
          88,
          35,
          42,
          45,
          91,
          64,
          74,
          54,
          51,
          88,
          41,
          47,
          77,
          51,
          45,
          42,
          22,
          18,
          59,
          79,
          74,
          78,
          60,
          46,
          52,
          77,
          45,
          28,
          27,
          47,
          50,
          38,
          74,
          68,
          24,
          66,
          67,
          37,
          80,
          83,
          62,
          75,
          67,
          51,
          54,
          91,
          47,
          94,
          67,
          54,
          71,
          54,
          55,
          59,
          71,
          88,
          60,
          51,
          55,
          58,
          84,
          46,
          82,
          30,
          69,
          72,
          51,
          68,
          71,
          61,
          95,
          76,
          69,
          60,
          33,
          41,
          54,
          58,
          68,
          66,
          75,
          100,
          29,
          50,
          22,
          79,
          45,
          70,
          32,
          50,
          43,
          93,
          40,
          25,
          63,
          59,
          57,
          72,
          65,
          14,
          57,
          32,
          23,
          43,
          62,
          58,
          67,
          72,
          69,
          46,
          54,
          62,
          25,
          50,
          83,
          63,
          69,
          68,
          84,
          55,
          53,
          71,
          40,
          65,
          48,
          54,
          64,
          50,
          85,
          54,
          59,
          36,
          45,
          69,
          51,
          59,
          62,
          89,
          48,
          54,
          55,
          52,
          61,
          58,
          68,
          36,
          32,
          52,
          51,
          86,
          86,
          48,
          47,
          77,
          37,
          65,
          100,
          55,
          55,
          64,
          28,
          44,
          64,
          55,
          51,
          66,
          63,
          69,
          57,
          69,
          13,
          57,
          20,
          48,
          71,
          71,
          86,
          44,
          44,
          45,
          38,
          85,
          54,
          75,
          93,
          62,
          22,
          36,
          70,
          71,
          98,
          80,
          41,
          87,
          59,
          53,
          77,
          6,
          32,
          36,
          12,
          19,
          38,
          72,
          51,
          68,
          76,
          67,
          38,
          85,
          89,
          80,
          93,
          67,
          67,
          67,
          70,
          62,
          67,
          76,
          49,
          67,
          74,
          86,
          49,
          71,
          28,
          73,
          64,
          78,
          16,
          73,
          75,
          75,
          64,
          81,
          40,
          79,
          67,
          79,
          78,
          83,
          73,
          69,
          59,
          78,
          76,
          61,
          91,
          78,
          29,
          45,
          90,
          68,
          65,
          8,
          17,
          60,
          37,
          80,
          81,
          72,
          45,
          88,
          89,
          89,
          35,
          55,
          44,
          81,
          55,
          31,
          40,
          45,
          26,
          69,
          75,
          56,
          74,
          74,
          84,
          86,
          39,
          69,
          69,
          61,
          77,
          60,
          58,
          94,
          46,
          53,
          75,
          65,
          85,
          60,
          27,
          82,
          76,
          63,
          64,
          61,
          80,
          67,
          61,
          44,
          60,
          75,
          35,
          76,
          72,
          94,
          34,
          83,
          43,
          34,
          75,
          6,
          14,
          15,
          62,
          77,
          6,
          32,
          12,
          55,
          72,
          66,
          86,
          77,
          96,
          53,
          70,
          81,
          65,
          58,
          79,
          44,
          53,
          84,
          52,
          70,
          64,
          46,
          15,
          50,
          70,
          63,
          50,
          67,
          83,
          76,
          40,
          75,
          94,
          86,
          41,
          52,
          46,
          82,
          85,
          89,
          80,
          85,
          92,
          15,
          58,
          33,
          92,
          75,
          95,
          84,
          71,
          82,
          68,
          59,
          82,
          85,
          45,
          58,
          58,
          60,
          51,
          65,
          41,
          82,
          59,
          58,
          59,
          55,
          55,
          66,
          56,
          68,
          76,
          62,
          91,
          75,
          67,
          68,
          96,
          96,
          28,
          40,
          57,
          81,
          76,
          76,
          89,
          87,
          55,
          38,
          83,
          64,
          44,
          53,
          71,
          17,
          72,
          45,
          77,
          81,
          71,
          93,
          59,
          91,
          90,
          79,
          38,
          29,
          48,
          43,
          41,
          74,
          71,
          88,
          61,
          65,
          46,
          43,
          62,
          75,
          41,
          94,
          73,
          95,
          42,
          51,
          66,
          81,
          38,
          53,
          91,
          55,
          73,
          29,
          50,
          92,
          45,
          54,
          51,
          51,
          65,
          61,
          59,
          70,
          79,
          89,
          75,
          53,
          90,
          72,
          75,
          65,
          20,
          36,
          69,
          90,
          64,
          63,
          42,
          34,
          58,
          39,
          95,
          55,
          50,
          51,
          63,
          59,
          63,
          85,
          73,
          51,
          97,
          7,
          0,
          100,
          37,
          25,
          20,
          88,
          33,
          17,
          14,
          81,
          49,
          25,
          23,
          25,
          8,
          17,
          82,
          30,
          20,
          0,
          76,
          71,
          74,
          67,
          47,
          63,
          42
         ]
        }
       ],
       "layout": {
        "font": {
         "family": "Courier New, Monospace",
         "size": 18
        },
        "height": 600,
        "legend": {
         "itemclick": "toggle",
         "orientation": "v",
         "title": {
          "text": "Legend"
         }
        },
        "template": {
         "data": {
          "bar": [
           {
            "error_x": {
             "color": "#2a3f5f"
            },
            "error_y": {
             "color": "#2a3f5f"
            },
            "marker": {
             "line": {
              "color": "#E5ECF6",
              "width": 0.5
             },
             "pattern": {
              "fillmode": "overlay",
              "size": 10,
              "solidity": 0.2
             }
            },
            "type": "bar"
           }
          ],
          "barpolar": [
           {
            "marker": {
             "line": {
              "color": "#E5ECF6",
              "width": 0.5
             },
             "pattern": {
              "fillmode": "overlay",
              "size": 10,
              "solidity": 0.2
             }
            },
            "type": "barpolar"
           }
          ],
          "carpet": [
           {
            "aaxis": {
             "endlinecolor": "#2a3f5f",
             "gridcolor": "white",
             "linecolor": "white",
             "minorgridcolor": "white",
             "startlinecolor": "#2a3f5f"
            },
            "baxis": {
             "endlinecolor": "#2a3f5f",
             "gridcolor": "white",
             "linecolor": "white",
             "minorgridcolor": "white",
             "startlinecolor": "#2a3f5f"
            },
            "type": "carpet"
           }
          ],
          "choropleth": [
           {
            "colorbar": {
             "outlinewidth": 0,
             "ticks": ""
            },
            "type": "choropleth"
           }
          ],
          "contour": [
           {
            "colorbar": {
             "outlinewidth": 0,
             "ticks": ""
            },
            "colorscale": [
             [
              0,
              "#0d0887"
             ],
             [
              0.1111111111111111,
              "#46039f"
             ],
             [
              0.2222222222222222,
              "#7201a8"
             ],
             [
              0.3333333333333333,
              "#9c179e"
             ],
             [
              0.4444444444444444,
              "#bd3786"
             ],
             [
              0.5555555555555556,
              "#d8576b"
             ],
             [
              0.6666666666666666,
              "#ed7953"
             ],
             [
              0.7777777777777778,
              "#fb9f3a"
             ],
             [
              0.8888888888888888,
              "#fdca26"
             ],
             [
              1,
              "#f0f921"
             ]
            ],
            "type": "contour"
           }
          ],
          "contourcarpet": [
           {
            "colorbar": {
             "outlinewidth": 0,
             "ticks": ""
            },
            "type": "contourcarpet"
           }
          ],
          "heatmap": [
           {
            "colorbar": {
             "outlinewidth": 0,
             "ticks": ""
            },
            "colorscale": [
             [
              0,
              "#0d0887"
             ],
             [
              0.1111111111111111,
              "#46039f"
             ],
             [
              0.2222222222222222,
              "#7201a8"
             ],
             [
              0.3333333333333333,
              "#9c179e"
             ],
             [
              0.4444444444444444,
              "#bd3786"
             ],
             [
              0.5555555555555556,
              "#d8576b"
             ],
             [
              0.6666666666666666,
              "#ed7953"
             ],
             [
              0.7777777777777778,
              "#fb9f3a"
             ],
             [
              0.8888888888888888,
              "#fdca26"
             ],
             [
              1,
              "#f0f921"
             ]
            ],
            "type": "heatmap"
           }
          ],
          "heatmapgl": [
           {
            "colorbar": {
             "outlinewidth": 0,
             "ticks": ""
            },
            "colorscale": [
             [
              0,
              "#0d0887"
             ],
             [
              0.1111111111111111,
              "#46039f"
             ],
             [
              0.2222222222222222,
              "#7201a8"
             ],
             [
              0.3333333333333333,
              "#9c179e"
             ],
             [
              0.4444444444444444,
              "#bd3786"
             ],
             [
              0.5555555555555556,
              "#d8576b"
             ],
             [
              0.6666666666666666,
              "#ed7953"
             ],
             [
              0.7777777777777778,
              "#fb9f3a"
             ],
             [
              0.8888888888888888,
              "#fdca26"
             ],
             [
              1,
              "#f0f921"
             ]
            ],
            "type": "heatmapgl"
           }
          ],
          "histogram": [
           {
            "marker": {
             "pattern": {
              "fillmode": "overlay",
              "size": 10,
              "solidity": 0.2
             }
            },
            "type": "histogram"
           }
          ],
          "histogram2d": [
           {
            "colorbar": {
             "outlinewidth": 0,
             "ticks": ""
            },
            "colorscale": [
             [
              0,
              "#0d0887"
             ],
             [
              0.1111111111111111,
              "#46039f"
             ],
             [
              0.2222222222222222,
              "#7201a8"
             ],
             [
              0.3333333333333333,
              "#9c179e"
             ],
             [
              0.4444444444444444,
              "#bd3786"
             ],
             [
              0.5555555555555556,
              "#d8576b"
             ],
             [
              0.6666666666666666,
              "#ed7953"
             ],
             [
              0.7777777777777778,
              "#fb9f3a"
             ],
             [
              0.8888888888888888,
              "#fdca26"
             ],
             [
              1,
              "#f0f921"
             ]
            ],
            "type": "histogram2d"
           }
          ],
          "histogram2dcontour": [
           {
            "colorbar": {
             "outlinewidth": 0,
             "ticks": ""
            },
            "colorscale": [
             [
              0,
              "#0d0887"
             ],
             [
              0.1111111111111111,
              "#46039f"
             ],
             [
              0.2222222222222222,
              "#7201a8"
             ],
             [
              0.3333333333333333,
              "#9c179e"
             ],
             [
              0.4444444444444444,
              "#bd3786"
             ],
             [
              0.5555555555555556,
              "#d8576b"
             ],
             [
              0.6666666666666666,
              "#ed7953"
             ],
             [
              0.7777777777777778,
              "#fb9f3a"
             ],
             [
              0.8888888888888888,
              "#fdca26"
             ],
             [
              1,
              "#f0f921"
             ]
            ],
            "type": "histogram2dcontour"
           }
          ],
          "mesh3d": [
           {
            "colorbar": {
             "outlinewidth": 0,
             "ticks": ""
            },
            "type": "mesh3d"
           }
          ],
          "parcoords": [
           {
            "line": {
             "colorbar": {
              "outlinewidth": 0,
              "ticks": ""
             }
            },
            "type": "parcoords"
           }
          ],
          "pie": [
           {
            "automargin": true,
            "type": "pie"
           }
          ],
          "scatter": [
           {
            "marker": {
             "colorbar": {
              "outlinewidth": 0,
              "ticks": ""
             }
            },
            "type": "scatter"
           }
          ],
          "scatter3d": [
           {
            "line": {
             "colorbar": {
              "outlinewidth": 0,
              "ticks": ""
             }
            },
            "marker": {
             "colorbar": {
              "outlinewidth": 0,
              "ticks": ""
             }
            },
            "type": "scatter3d"
           }
          ],
          "scattercarpet": [
           {
            "marker": {
             "colorbar": {
              "outlinewidth": 0,
              "ticks": ""
             }
            },
            "type": "scattercarpet"
           }
          ],
          "scattergeo": [
           {
            "marker": {
             "colorbar": {
              "outlinewidth": 0,
              "ticks": ""
             }
            },
            "type": "scattergeo"
           }
          ],
          "scattergl": [
           {
            "marker": {
             "colorbar": {
              "outlinewidth": 0,
              "ticks": ""
             }
            },
            "type": "scattergl"
           }
          ],
          "scattermapbox": [
           {
            "marker": {
             "colorbar": {
              "outlinewidth": 0,
              "ticks": ""
             }
            },
            "type": "scattermapbox"
           }
          ],
          "scatterpolar": [
           {
            "marker": {
             "colorbar": {
              "outlinewidth": 0,
              "ticks": ""
             }
            },
            "type": "scatterpolar"
           }
          ],
          "scatterpolargl": [
           {
            "marker": {
             "colorbar": {
              "outlinewidth": 0,
              "ticks": ""
             }
            },
            "type": "scatterpolargl"
           }
          ],
          "scatterternary": [
           {
            "marker": {
             "colorbar": {
              "outlinewidth": 0,
              "ticks": ""
             }
            },
            "type": "scatterternary"
           }
          ],
          "surface": [
           {
            "colorbar": {
             "outlinewidth": 0,
             "ticks": ""
            },
            "colorscale": [
             [
              0,
              "#0d0887"
             ],
             [
              0.1111111111111111,
              "#46039f"
             ],
             [
              0.2222222222222222,
              "#7201a8"
             ],
             [
              0.3333333333333333,
              "#9c179e"
             ],
             [
              0.4444444444444444,
              "#bd3786"
             ],
             [
              0.5555555555555556,
              "#d8576b"
             ],
             [
              0.6666666666666666,
              "#ed7953"
             ],
             [
              0.7777777777777778,
              "#fb9f3a"
             ],
             [
              0.8888888888888888,
              "#fdca26"
             ],
             [
              1,
              "#f0f921"
             ]
            ],
            "type": "surface"
           }
          ],
          "table": [
           {
            "cells": {
             "fill": {
              "color": "#EBF0F8"
             },
             "line": {
              "color": "white"
             }
            },
            "header": {
             "fill": {
              "color": "#C8D4E3"
             },
             "line": {
              "color": "white"
             }
            },
            "type": "table"
           }
          ]
         },
         "layout": {
          "annotationdefaults": {
           "arrowcolor": "#2a3f5f",
           "arrowhead": 0,
           "arrowwidth": 1
          },
          "autotypenumbers": "strict",
          "coloraxis": {
           "colorbar": {
            "outlinewidth": 0,
            "ticks": ""
           }
          },
          "colorscale": {
           "diverging": [
            [
             0,
             "#8e0152"
            ],
            [
             0.1,
             "#c51b7d"
            ],
            [
             0.2,
             "#de77ae"
            ],
            [
             0.3,
             "#f1b6da"
            ],
            [
             0.4,
             "#fde0ef"
            ],
            [
             0.5,
             "#f7f7f7"
            ],
            [
             0.6,
             "#e6f5d0"
            ],
            [
             0.7,
             "#b8e186"
            ],
            [
             0.8,
             "#7fbc41"
            ],
            [
             0.9,
             "#4d9221"
            ],
            [
             1,
             "#276419"
            ]
           ],
           "sequential": [
            [
             0,
             "#0d0887"
            ],
            [
             0.1111111111111111,
             "#46039f"
            ],
            [
             0.2222222222222222,
             "#7201a8"
            ],
            [
             0.3333333333333333,
             "#9c179e"
            ],
            [
             0.4444444444444444,
             "#bd3786"
            ],
            [
             0.5555555555555556,
             "#d8576b"
            ],
            [
             0.6666666666666666,
             "#ed7953"
            ],
            [
             0.7777777777777778,
             "#fb9f3a"
            ],
            [
             0.8888888888888888,
             "#fdca26"
            ],
            [
             1,
             "#f0f921"
            ]
           ],
           "sequentialminus": [
            [
             0,
             "#0d0887"
            ],
            [
             0.1111111111111111,
             "#46039f"
            ],
            [
             0.2222222222222222,
             "#7201a8"
            ],
            [
             0.3333333333333333,
             "#9c179e"
            ],
            [
             0.4444444444444444,
             "#bd3786"
            ],
            [
             0.5555555555555556,
             "#d8576b"
            ],
            [
             0.6666666666666666,
             "#ed7953"
            ],
            [
             0.7777777777777778,
             "#fb9f3a"
            ],
            [
             0.8888888888888888,
             "#fdca26"
            ],
            [
             1,
             "#f0f921"
            ]
           ]
          },
          "colorway": [
           "#636efa",
           "#EF553B",
           "#00cc96",
           "#ab63fa",
           "#FFA15A",
           "#19d3f3",
           "#FF6692",
           "#B6E880",
           "#FF97FF",
           "#FECB52"
          ],
          "font": {
           "color": "#2a3f5f"
          },
          "geo": {
           "bgcolor": "white",
           "lakecolor": "white",
           "landcolor": "#E5ECF6",
           "showlakes": true,
           "showland": true,
           "subunitcolor": "white"
          },
          "hoverlabel": {
           "align": "left"
          },
          "hovermode": "closest",
          "mapbox": {
           "style": "light"
          },
          "paper_bgcolor": "white",
          "plot_bgcolor": "#E5ECF6",
          "polar": {
           "angularaxis": {
            "gridcolor": "white",
            "linecolor": "white",
            "ticks": ""
           },
           "bgcolor": "#E5ECF6",
           "radialaxis": {
            "gridcolor": "white",
            "linecolor": "white",
            "ticks": ""
           }
          },
          "scene": {
           "xaxis": {
            "backgroundcolor": "#E5ECF6",
            "gridcolor": "white",
            "gridwidth": 2,
            "linecolor": "white",
            "showbackground": true,
            "ticks": "",
            "zerolinecolor": "white"
           },
           "yaxis": {
            "backgroundcolor": "#E5ECF6",
            "gridcolor": "white",
            "gridwidth": 2,
            "linecolor": "white",
            "showbackground": true,
            "ticks": "",
            "zerolinecolor": "white"
           },
           "zaxis": {
            "backgroundcolor": "#E5ECF6",
            "gridcolor": "white",
            "gridwidth": 2,
            "linecolor": "white",
            "showbackground": true,
            "ticks": "",
            "zerolinecolor": "white"
           }
          },
          "shapedefaults": {
           "line": {
            "color": "#2a3f5f"
           }
          },
          "ternary": {
           "aaxis": {
            "gridcolor": "white",
            "linecolor": "white",
            "ticks": ""
           },
           "baxis": {
            "gridcolor": "white",
            "linecolor": "white",
            "ticks": ""
           },
           "bgcolor": "#E5ECF6",
           "caxis": {
            "gridcolor": "white",
            "linecolor": "white",
            "ticks": ""
           }
          },
          "title": {
           "x": 0.05
          },
          "xaxis": {
           "automargin": true,
           "gridcolor": "white",
           "linecolor": "white",
           "ticks": "",
           "title": {
            "standoff": 15
           },
           "zerolinecolor": "white",
           "zerolinewidth": 2
          },
          "yaxis": {
           "automargin": true,
           "gridcolor": "white",
           "linecolor": "white",
           "ticks": "",
           "title": {
            "standoff": 15
           },
           "zerolinecolor": "white",
           "zerolinewidth": 2
          }
         }
        },
        "title": {
         "text": "Graduation Rate by Residential Level and Controlling for Revenue Level"
        },
        "width": 1200
       }
      },
      "text/html": [
       "<div>                            <div id=\"35cb0d0b-76b0-46ef-b4eb-0e96a5bc6dae\" class=\"plotly-graph-div\" style=\"height:600px; width:1200px;\"></div>            <script type=\"text/javascript\">                require([\"plotly\"], function(Plotly) {                    window.PLOTLYENV=window.PLOTLYENV || {};                                    if (document.getElementById(\"35cb0d0b-76b0-46ef-b4eb-0e96a5bc6dae\")) {                    Plotly.newPlot(                        \"35cb0d0b-76b0-46ef-b4eb-0e96a5bc6dae\",                        [{\"box\":{\"visible\":true},\"meanline\":{\"visible\":true},\"name\":\"primarily nonresidential\",\"type\":\"violin\",\"x\":[\"primarily nonresidential\",\"primarily nonresidential\",\"primarily nonresidential\",\"primarily nonresidential\",\"primarily nonresidential\",\"primarily nonresidential\",\"primarily nonresidential\",\"primarily nonresidential\",\"primarily nonresidential\",\"primarily nonresidential\",\"primarily nonresidential\",\"primarily nonresidential\",\"primarily nonresidential\",\"primarily nonresidential\",\"primarily nonresidential\",\"primarily nonresidential\",\"primarily nonresidential\",\"primarily nonresidential\",\"primarily nonresidential\",\"primarily nonresidential\",\"primarily nonresidential\",\"primarily nonresidential\",\"primarily nonresidential\",\"primarily nonresidential\",\"primarily nonresidential\",\"primarily nonresidential\",\"primarily nonresidential\",\"primarily nonresidential\",\"primarily nonresidential\",\"primarily nonresidential\",\"primarily nonresidential\",\"primarily nonresidential\",\"primarily nonresidential\",\"primarily nonresidential\",\"primarily nonresidential\",\"primarily nonresidential\",\"primarily nonresidential\",\"primarily nonresidential\",\"primarily nonresidential\",\"primarily nonresidential\",\"primarily nonresidential\",\"primarily nonresidential\",\"primarily nonresidential\",\"primarily nonresidential\",\"primarily nonresidential\",\"primarily nonresidential\",\"primarily nonresidential\",\"primarily nonresidential\",\"primarily nonresidential\",\"primarily nonresidential\",\"primarily nonresidential\",\"primarily nonresidential\",\"primarily nonresidential\",\"primarily nonresidential\",\"primarily nonresidential\",\"primarily nonresidential\",\"primarily nonresidential\",\"primarily nonresidential\",\"primarily nonresidential\",\"primarily nonresidential\",\"primarily nonresidential\",\"primarily nonresidential\",\"primarily nonresidential\",\"primarily nonresidential\",\"primarily nonresidential\",\"primarily nonresidential\",\"primarily nonresidential\",\"primarily nonresidential\",\"primarily nonresidential\",\"primarily nonresidential\",\"primarily nonresidential\",\"primarily nonresidential\",\"primarily nonresidential\",\"primarily nonresidential\",\"primarily nonresidential\",\"primarily nonresidential\",\"primarily nonresidential\",\"primarily nonresidential\",\"primarily nonresidential\",\"primarily nonresidential\",\"primarily nonresidential\",\"primarily nonresidential\",\"primarily nonresidential\",\"primarily nonresidential\",\"primarily nonresidential\",\"primarily nonresidential\",\"primarily nonresidential\",\"primarily nonresidential\",\"primarily nonresidential\",\"primarily nonresidential\",\"primarily nonresidential\",\"primarily nonresidential\",\"primarily nonresidential\",\"primarily nonresidential\",\"primarily nonresidential\",\"primarily nonresidential\",\"primarily nonresidential\",\"primarily nonresidential\",\"primarily nonresidential\",\"primarily nonresidential\",\"primarily nonresidential\",\"primarily nonresidential\",\"primarily nonresidential\",\"primarily nonresidential\",\"primarily nonresidential\",\"primarily nonresidential\",\"primarily nonresidential\",\"primarily nonresidential\",\"primarily nonresidential\",\"primarily nonresidential\",\"primarily nonresidential\",\"primarily nonresidential\",\"primarily nonresidential\",\"primarily nonresidential\",\"primarily nonresidential\",\"primarily nonresidential\",\"primarily nonresidential\",\"primarily nonresidential\",\"primarily nonresidential\",\"primarily nonresidential\",\"primarily nonresidential\",\"primarily nonresidential\",\"primarily nonresidential\",\"primarily nonresidential\",\"primarily nonresidential\",\"primarily nonresidential\",\"primarily nonresidential\",\"primarily nonresidential\",\"primarily nonresidential\",\"primarily nonresidential\",\"primarily nonresidential\",\"primarily nonresidential\",\"primarily nonresidential\",\"primarily nonresidential\",\"primarily nonresidential\",\"primarily nonresidential\",\"primarily nonresidential\",\"primarily nonresidential\",\"primarily nonresidential\",\"primarily nonresidential\",\"primarily nonresidential\",\"primarily nonresidential\",\"primarily nonresidential\",\"primarily nonresidential\",\"primarily nonresidential\",\"primarily nonresidential\",\"primarily nonresidential\",\"primarily nonresidential\",\"primarily nonresidential\",\"primarily nonresidential\",\"primarily nonresidential\",\"primarily nonresidential\",\"primarily nonresidential\",\"primarily nonresidential\",\"primarily nonresidential\",\"primarily nonresidential\",\"primarily nonresidential\",\"primarily nonresidential\",\"primarily nonresidential\",\"primarily nonresidential\",\"primarily nonresidential\",\"primarily nonresidential\",\"primarily nonresidential\",\"primarily nonresidential\",\"primarily nonresidential\",\"primarily nonresidential\",\"primarily nonresidential\",\"primarily nonresidential\",\"primarily nonresidential\",\"primarily nonresidential\",\"primarily nonresidential\",\"primarily nonresidential\",\"primarily nonresidential\",\"primarily nonresidential\",\"primarily nonresidential\",\"primarily nonresidential\",\"primarily nonresidential\",\"primarily nonresidential\",\"primarily nonresidential\",\"primarily nonresidential\",\"primarily nonresidential\",\"primarily nonresidential\",\"primarily nonresidential\",\"primarily nonresidential\",\"primarily nonresidential\",\"primarily nonresidential\",\"primarily nonresidential\",\"primarily nonresidential\",\"primarily nonresidential\",\"primarily nonresidential\",\"primarily nonresidential\",\"primarily nonresidential\",\"primarily nonresidential\",\"primarily nonresidential\",\"primarily nonresidential\",\"primarily nonresidential\",\"primarily nonresidential\",\"primarily nonresidential\",\"primarily nonresidential\",\"primarily nonresidential\",\"primarily nonresidential\",\"primarily nonresidential\",\"primarily nonresidential\",\"primarily nonresidential\",\"primarily nonresidential\",\"primarily nonresidential\",\"primarily nonresidential\",\"primarily nonresidential\",\"primarily nonresidential\",\"primarily nonresidential\",\"primarily nonresidential\",\"primarily nonresidential\",\"primarily nonresidential\",\"primarily nonresidential\",\"primarily nonresidential\",\"primarily nonresidential\",\"primarily nonresidential\",\"primarily nonresidential\",\"primarily nonresidential\",\"primarily nonresidential\",\"primarily nonresidential\",\"primarily nonresidential\",\"primarily nonresidential\",\"primarily nonresidential\",\"primarily nonresidential\",\"primarily nonresidential\",\"primarily nonresidential\",\"primarily nonresidential\",\"primarily nonresidential\",\"primarily nonresidential\",\"primarily nonresidential\",\"primarily nonresidential\",\"primarily nonresidential\",\"primarily nonresidential\",\"primarily nonresidential\",\"primarily nonresidential\",\"primarily nonresidential\",\"primarily nonresidential\",\"primarily nonresidential\",\"primarily nonresidential\",\"primarily nonresidential\",\"primarily nonresidential\",\"primarily nonresidential\",\"primarily nonresidential\",\"primarily nonresidential\",\"primarily nonresidential\",\"primarily nonresidential\",\"primarily nonresidential\",\"primarily nonresidential\",\"primarily nonresidential\",\"primarily nonresidential\",\"primarily nonresidential\",\"primarily nonresidential\",\"primarily nonresidential\",\"primarily nonresidential\",\"primarily nonresidential\",\"primarily nonresidential\",\"primarily nonresidential\",\"primarily nonresidential\",\"primarily nonresidential\",\"primarily nonresidential\",\"primarily nonresidential\",\"primarily nonresidential\",\"primarily nonresidential\",\"primarily nonresidential\",\"primarily nonresidential\",\"primarily nonresidential\",\"primarily nonresidential\",\"primarily nonresidential\",\"primarily nonresidential\",\"primarily nonresidential\",\"primarily nonresidential\",\"primarily nonresidential\",\"primarily nonresidential\",\"primarily nonresidential\",\"primarily nonresidential\",\"primarily nonresidential\",\"primarily nonresidential\",\"primarily nonresidential\",\"primarily nonresidential\",\"primarily nonresidential\",\"primarily nonresidential\",\"primarily nonresidential\",\"primarily nonresidential\",\"primarily nonresidential\",\"primarily nonresidential\",\"primarily nonresidential\",\"primarily nonresidential\",\"primarily nonresidential\",\"primarily nonresidential\",\"primarily nonresidential\",\"primarily nonresidential\",\"primarily nonresidential\",\"primarily nonresidential\",\"primarily nonresidential\",\"primarily nonresidential\",\"primarily nonresidential\",\"primarily nonresidential\",\"primarily nonresidential\",\"primarily nonresidential\",\"primarily nonresidential\",\"primarily nonresidential\",\"primarily nonresidential\",\"primarily nonresidential\",\"primarily nonresidential\",\"primarily nonresidential\",\"primarily nonresidential\",\"primarily nonresidential\",\"primarily nonresidential\",\"primarily nonresidential\",\"primarily nonresidential\",\"primarily nonresidential\",\"primarily nonresidential\",\"primarily nonresidential\",\"primarily nonresidential\",\"primarily nonresidential\",\"primarily nonresidential\",\"primarily nonresidential\",\"primarily nonresidential\",\"primarily nonresidential\",\"primarily nonresidential\",\"primarily nonresidential\",\"primarily nonresidential\",\"primarily nonresidential\",\"primarily nonresidential\",\"primarily nonresidential\",\"primarily nonresidential\",\"primarily nonresidential\",\"primarily nonresidential\",\"primarily nonresidential\",\"primarily nonresidential\",\"primarily nonresidential\",\"primarily nonresidential\",\"primarily nonresidential\",\"primarily nonresidential\",\"primarily nonresidential\",\"primarily nonresidential\",\"primarily nonresidential\",\"primarily nonresidential\",\"primarily nonresidential\",\"primarily nonresidential\",\"primarily nonresidential\",\"primarily nonresidential\",\"primarily nonresidential\",\"primarily nonresidential\",\"primarily nonresidential\",\"primarily nonresidential\",\"primarily nonresidential\",\"primarily nonresidential\",\"primarily nonresidential\",\"primarily nonresidential\",\"primarily nonresidential\",\"primarily nonresidential\",\"primarily nonresidential\",\"primarily nonresidential\",\"primarily nonresidential\",\"primarily nonresidential\",\"primarily nonresidential\",\"primarily nonresidential\",\"primarily nonresidential\",\"primarily nonresidential\",\"primarily nonresidential\",\"primarily nonresidential\",\"primarily nonresidential\",\"primarily nonresidential\",\"primarily nonresidential\",\"primarily nonresidential\",\"primarily nonresidential\",\"primarily nonresidential\",\"primarily nonresidential\",\"primarily nonresidential\",\"primarily nonresidential\",\"primarily nonresidential\",\"primarily nonresidential\",\"primarily nonresidential\",\"primarily nonresidential\",\"primarily nonresidential\",\"primarily nonresidential\",\"primarily nonresidential\",\"primarily nonresidential\",\"primarily nonresidential\",\"primarily nonresidential\",\"primarily nonresidential\",\"primarily nonresidential\",\"primarily nonresidential\",\"primarily nonresidential\",\"primarily nonresidential\",\"primarily nonresidential\",\"primarily nonresidential\",\"primarily nonresidential\",\"primarily nonresidential\",\"primarily nonresidential\",\"primarily nonresidential\",\"primarily nonresidential\",\"primarily nonresidential\",\"primarily nonresidential\",\"primarily nonresidential\",\"primarily nonresidential\",\"primarily nonresidential\",\"primarily nonresidential\",\"primarily nonresidential\",\"primarily nonresidential\",\"primarily nonresidential\",\"primarily nonresidential\",\"primarily nonresidential\",\"primarily nonresidential\",\"primarily nonresidential\",\"primarily nonresidential\",\"primarily nonresidential\",\"primarily nonresidential\",\"primarily nonresidential\",\"primarily nonresidential\",\"primarily nonresidential\",\"primarily nonresidential\",\"primarily nonresidential\",\"primarily nonresidential\",\"primarily nonresidential\",\"primarily nonresidential\",\"primarily nonresidential\",\"primarily nonresidential\",\"primarily nonresidential\",\"primarily nonresidential\",\"primarily nonresidential\",\"primarily nonresidential\",\"primarily nonresidential\",\"primarily nonresidential\",\"primarily nonresidential\",\"primarily nonresidential\",\"primarily nonresidential\",\"primarily nonresidential\",\"primarily nonresidential\",\"primarily nonresidential\",\"primarily nonresidential\",\"primarily nonresidential\",\"primarily nonresidential\",\"primarily nonresidential\",\"primarily nonresidential\",\"primarily nonresidential\",\"primarily nonresidential\",\"primarily nonresidential\",\"primarily nonresidential\",\"primarily nonresidential\",\"primarily nonresidential\",\"primarily nonresidential\",\"primarily nonresidential\",\"primarily nonresidential\",\"primarily nonresidential\",\"primarily nonresidential\",\"primarily nonresidential\",\"primarily nonresidential\",\"primarily nonresidential\",\"primarily nonresidential\",\"primarily nonresidential\",\"primarily nonresidential\",\"primarily nonresidential\",\"primarily nonresidential\",\"primarily nonresidential\",\"primarily nonresidential\",\"primarily nonresidential\",\"primarily nonresidential\",\"primarily nonresidential\",\"primarily nonresidential\",\"primarily nonresidential\",\"primarily nonresidential\",\"primarily nonresidential\",\"primarily nonresidential\",\"primarily nonresidential\",\"primarily nonresidential\",\"primarily nonresidential\",\"primarily nonresidential\",\"primarily nonresidential\",\"primarily nonresidential\",\"primarily nonresidential\",\"primarily nonresidential\",\"primarily nonresidential\",\"primarily nonresidential\",\"primarily nonresidential\",\"primarily nonresidential\",\"primarily nonresidential\",\"primarily nonresidential\",\"primarily nonresidential\",\"primarily nonresidential\",\"primarily nonresidential\",\"primarily nonresidential\",\"primarily nonresidential\",\"primarily nonresidential\",\"primarily nonresidential\",\"primarily nonresidential\",\"primarily nonresidential\",\"primarily nonresidential\",\"primarily nonresidential\",\"primarily nonresidential\",\"primarily nonresidential\",\"primarily nonresidential\",\"primarily nonresidential\",\"primarily nonresidential\",\"primarily nonresidential\",\"primarily nonresidential\",\"primarily nonresidential\",\"primarily nonresidential\",\"primarily nonresidential\",\"primarily nonresidential\",\"primarily nonresidential\",\"primarily nonresidential\",\"primarily nonresidential\",\"primarily nonresidential\",\"primarily nonresidential\",\"primarily nonresidential\",\"primarily nonresidential\",\"primarily nonresidential\",\"primarily nonresidential\",\"primarily nonresidential\",\"primarily nonresidential\",\"primarily nonresidential\",\"primarily nonresidential\",\"primarily nonresidential\",\"primarily nonresidential\",\"primarily nonresidential\",\"primarily nonresidential\",\"primarily nonresidential\",\"primarily nonresidential\",\"primarily nonresidential\",\"primarily nonresidential\",\"primarily nonresidential\",\"primarily nonresidential\",\"primarily nonresidential\",\"primarily nonresidential\",\"primarily nonresidential\",\"primarily nonresidential\",\"primarily nonresidential\",\"primarily nonresidential\",\"primarily nonresidential\",\"primarily nonresidential\",\"primarily nonresidential\",\"primarily nonresidential\",\"primarily nonresidential\",\"primarily nonresidential\",\"primarily nonresidential\",\"primarily nonresidential\",\"primarily nonresidential\",\"primarily nonresidential\",\"primarily nonresidential\",\"primarily nonresidential\",\"primarily nonresidential\",\"primarily nonresidential\",\"primarily nonresidential\",\"primarily nonresidential\",\"primarily nonresidential\",\"primarily nonresidential\",\"primarily nonresidential\",\"primarily nonresidential\",\"primarily nonresidential\",\"primarily nonresidential\",\"primarily nonresidential\",\"primarily nonresidential\",\"primarily nonresidential\",\"primarily nonresidential\",\"primarily nonresidential\",\"primarily nonresidential\",\"primarily nonresidential\",\"primarily nonresidential\",\"primarily nonresidential\",\"primarily nonresidential\",\"primarily nonresidential\",\"primarily nonresidential\",\"primarily nonresidential\",\"primarily nonresidential\",\"primarily nonresidential\",\"primarily nonresidential\",\"primarily nonresidential\",\"primarily nonresidential\",\"primarily nonresidential\",\"primarily nonresidential\",\"primarily nonresidential\",\"primarily nonresidential\",\"primarily nonresidential\",\"primarily nonresidential\",\"primarily nonresidential\",\"primarily nonresidential\",\"primarily nonresidential\",\"primarily nonresidential\",\"primarily nonresidential\",\"primarily nonresidential\",\"primarily nonresidential\",\"primarily nonresidential\",\"primarily nonresidential\",\"primarily nonresidential\",\"primarily nonresidential\",\"primarily nonresidential\",\"primarily nonresidential\",\"primarily nonresidential\",\"primarily nonresidential\",\"primarily nonresidential\",\"primarily nonresidential\",\"primarily nonresidential\",\"primarily nonresidential\",\"primarily nonresidential\",\"primarily nonresidential\",\"primarily nonresidential\",\"primarily nonresidential\",\"primarily nonresidential\",\"primarily nonresidential\",\"primarily nonresidential\",\"primarily nonresidential\",\"primarily nonresidential\",\"primarily nonresidential\",\"primarily nonresidential\",\"primarily nonresidential\",\"primarily nonresidential\",\"primarily nonresidential\",\"primarily nonresidential\",\"primarily nonresidential\",\"primarily nonresidential\",\"primarily nonresidential\",\"primarily nonresidential\",\"primarily nonresidential\",\"primarily nonresidential\",\"primarily nonresidential\",\"primarily nonresidential\",\"primarily nonresidential\",\"primarily nonresidential\",\"primarily nonresidential\",\"primarily nonresidential\",\"primarily nonresidential\",\"primarily nonresidential\",\"primarily nonresidential\",\"primarily nonresidential\",\"primarily nonresidential\",\"primarily nonresidential\",\"primarily nonresidential\",\"primarily nonresidential\",\"primarily nonresidential\",\"primarily nonresidential\",\"primarily nonresidential\",\"primarily nonresidential\",\"primarily nonresidential\",\"primarily nonresidential\",\"primarily nonresidential\",\"primarily nonresidential\",\"primarily nonresidential\",\"primarily nonresidential\",\"primarily nonresidential\",\"primarily nonresidential\",\"primarily nonresidential\",\"primarily nonresidential\",\"primarily nonresidential\",\"primarily nonresidential\",\"primarily nonresidential\",\"primarily nonresidential\",\"primarily nonresidential\",\"primarily nonresidential\",\"primarily nonresidential\",\"primarily nonresidential\",\"primarily nonresidential\",\"primarily nonresidential\",\"primarily nonresidential\",\"primarily nonresidential\",\"primarily nonresidential\",\"primarily nonresidential\",\"primarily nonresidential\",\"primarily nonresidential\",\"primarily nonresidential\",\"primarily nonresidential\",\"primarily nonresidential\",\"primarily nonresidential\",\"primarily nonresidential\",\"primarily nonresidential\",\"primarily nonresidential\",\"primarily nonresidential\",\"primarily nonresidential\",\"primarily nonresidential\",\"primarily nonresidential\",\"primarily nonresidential\",\"primarily nonresidential\",\"primarily nonresidential\",\"primarily nonresidential\",\"primarily nonresidential\",\"primarily nonresidential\",\"primarily nonresidential\",\"primarily nonresidential\",\"primarily nonresidential\",\"primarily nonresidential\",\"primarily nonresidential\",\"primarily nonresidential\",\"primarily nonresidential\",\"primarily nonresidential\",\"primarily nonresidential\",\"primarily nonresidential\",\"primarily nonresidential\",\"primarily nonresidential\",\"primarily nonresidential\",\"primarily nonresidential\",\"primarily nonresidential\",\"primarily nonresidential\",\"primarily nonresidential\",\"primarily nonresidential\",\"primarily nonresidential\",\"primarily nonresidential\",\"primarily nonresidential\",\"primarily nonresidential\",\"primarily nonresidential\",\"primarily nonresidential\",\"primarily nonresidential\",\"primarily nonresidential\",\"primarily nonresidential\",\"primarily nonresidential\",\"primarily nonresidential\",\"primarily nonresidential\",\"primarily nonresidential\",\"primarily nonresidential\",\"primarily nonresidential\",\"primarily nonresidential\",\"primarily nonresidential\",\"primarily nonresidential\",\"primarily nonresidential\",\"primarily nonresidential\",\"primarily nonresidential\",\"primarily nonresidential\",\"primarily nonresidential\",\"primarily nonresidential\",\"primarily nonresidential\",\"primarily nonresidential\",\"primarily nonresidential\",\"primarily nonresidential\",\"primarily nonresidential\",\"primarily nonresidential\",\"primarily nonresidential\",\"primarily nonresidential\",\"primarily nonresidential\",\"primarily nonresidential\",\"primarily nonresidential\",\"primarily nonresidential\",\"primarily nonresidential\",\"primarily nonresidential\",\"primarily nonresidential\",\"primarily nonresidential\",\"primarily nonresidential\",\"primarily nonresidential\",\"primarily nonresidential\",\"primarily nonresidential\",\"primarily nonresidential\",\"primarily nonresidential\",\"primarily nonresidential\",\"primarily nonresidential\",\"primarily nonresidential\",\"primarily nonresidential\",\"primarily nonresidential\",\"primarily nonresidential\",\"primarily nonresidential\",\"primarily nonresidential\",\"primarily nonresidential\",\"primarily nonresidential\",\"primarily nonresidential\",\"primarily nonresidential\",\"primarily nonresidential\",\"primarily nonresidential\",\"primarily nonresidential\",\"primarily nonresidential\",\"primarily nonresidential\",\"primarily nonresidential\",\"primarily nonresidential\",\"primarily nonresidential\",\"primarily nonresidential\",\"primarily nonresidential\",\"primarily nonresidential\",\"primarily nonresidential\",\"primarily nonresidential\",\"primarily nonresidential\",\"primarily nonresidential\",\"primarily nonresidential\",\"primarily nonresidential\",\"primarily nonresidential\",\"primarily nonresidential\",\"primarily nonresidential\",\"primarily nonresidential\",\"primarily nonresidential\",\"primarily nonresidential\",\"primarily nonresidential\",\"primarily nonresidential\",\"primarily nonresidential\",\"primarily nonresidential\",\"primarily nonresidential\",\"primarily nonresidential\",\"primarily nonresidential\",\"primarily nonresidential\",\"primarily nonresidential\",\"primarily nonresidential\",\"primarily nonresidential\",\"primarily nonresidential\",\"primarily nonresidential\",\"primarily nonresidential\",\"primarily nonresidential\",\"primarily nonresidential\",\"primarily nonresidential\",\"primarily nonresidential\",\"primarily nonresidential\",\"primarily nonresidential\",\"primarily nonresidential\",\"primarily nonresidential\",\"primarily nonresidential\",\"primarily nonresidential\",\"primarily nonresidential\",\"primarily nonresidential\",\"primarily nonresidential\",\"primarily nonresidential\",\"primarily nonresidential\",\"primarily nonresidential\",\"primarily nonresidential\",\"primarily nonresidential\",\"primarily nonresidential\",\"primarily nonresidential\",\"primarily nonresidential\",\"primarily nonresidential\",\"primarily nonresidential\",\"primarily nonresidential\",\"primarily nonresidential\",\"primarily nonresidential\",\"primarily nonresidential\",\"primarily nonresidential\",\"primarily nonresidential\",\"primarily nonresidential\",\"primarily nonresidential\",\"primarily nonresidential\",\"primarily nonresidential\",\"primarily nonresidential\",\"primarily nonresidential\",\"primarily nonresidential\",\"primarily nonresidential\",\"primarily nonresidential\",\"primarily nonresidential\",\"primarily nonresidential\",\"primarily nonresidential\",\"primarily nonresidential\",\"primarily nonresidential\",\"primarily nonresidential\",\"primarily nonresidential\",\"primarily nonresidential\",\"primarily nonresidential\",\"primarily nonresidential\",\"primarily nonresidential\",\"primarily nonresidential\",\"primarily nonresidential\"],\"y\":[0.0,45.0,94.0,41.0,36.0,33.0,100.0,16.0,36.0,49.0,89.0,60.0,53.0,20.0,33.0,45.0,20.0,23.0,24.0,26.0,29.0,40.0,34.0,33.0,32.0,23.0,47.0,33.0,78.0,27.0,0.0,0.0,4.0,58.0,48.0,48.0,69.0,8.0,0.0,47.0,17.0,45.0,79.0,40.0,100.0,54.0,43.0,100.0,40.0,18.0,20.0,56.0,54.0,33.0,44.0,29.0,27.0,24.0,86.0,32.0,47.0,36.0,44.0,65.0,53.0,6.0,6.0,26.0,77.0,15.0,67.0,52.0,31.0,51.0,67.0,79.0,13.0,60.0,29.0,60.0,78.0,14.0,59.0,39.0,53.0,31.0,56.0,20.0,37.0,24.0,21.0,31.0,30.0,18.0,27.0,13.0,9.0,52.0,23.0,0.0,43.0,38.0,42.0,0.0,100.0,69.0,43.0,54.0,67.0,44.0,50.0,56.0,69.0,74.0,52.0,55.0,55.0,55.0,54.0,59.0,44.0,8.0,21.0,0.0,72.0,27.0,35.0,44.0,46.0,100.0,17.0,34.0,48.0,59.0,44.0,71.0,40.0,58.0,40.0,42.0,35.0,40.0,50.0,50.0,46.0,25.0,50.0,15.0,50.0,59.0,75.0,33.0,43.0,82.0,17.0,48.0,30.0,35.0,40.0,33.0,100.0,31.0,38.0,30.0,20.0,44.0,46.0,35.0,31.0,29.0,35.0,27.0,27.0,12.0,32.0,28.0,25.0,55.0,25.0,26.0,28.0,49.0,33.0,28.0,49.0,22.0,38.0,15.0,94.0,57.0,49.0,51.0,63.0,91.0,0.0,29.0,70.0,54.0,56.0,57.0,52.0,53.0,14.0,18.0,56.0,35.0,33.0,62.0,25.0,49.0,42.0,16.0,100.0,74.0,56.0,21.0,33.0,28.0,24.0,33.0,19.0,28.0,27.0,29.0,11.0,24.0,14.0,37.0,16.0,0.0,17.0,15.0,58.0,50.0,63.0,71.0,41.0,56.0,12.0,36.0,17.0,50.0,89.0,78.0,12.0,11.0,45.0,68.0,62.0,27.0,59.0,48.0,52.0,28.0,38.0,30.0,28.0,57.0,50.0,14.0,38.0,52.0,15.0,40.0,0.0,52.0,27.0,71.0,71.0,33.0,50.0,53.0,63.0,57.0,32.0,37.0,83.0,41.0,61.0,43.0,29.0,28.0,52.0,67.0,43.0,41.0,50.0,21.0,12.0,28.0,55.0,50.0,54.0,38.0,44.0,46.0,81.0,41.0,19.0,22.0,27.0,42.0,38.0,41.0,56.0,51.0,77.0,45.0,9.0,80.0,41.0,19.0,38.0,28.0,47.0,35.0,28.0,50.0,39.0,9.0,33.0,53.0,26.0,58.0,83.0,33.0,52.0,52.0,44.0,0.0,64.0,47.0,26.0,50.0,70.0,36.0,29.0,12.0,41.0,37.0,40.0,38.0,35.0,50.0,38.0,36.0,38.0,63.0,33.0,35.0,46.0,30.0,30.0,38.0,35.0,44.0,43.0,17.0,65.0,47.0,69.0,46.0,28.0,20.0,23.0,25.0,30.0,16.0,29.0,45.0,63.0,50.0,32.0,57.0,28.0,47.0,48.0,38.0,47.0,78.0,50.0,60.0,47.0,55.0,22.0,68.0,28.0,31.0,50.0,22.0,60.0,51.0,18.0,9.0,47.0,44.0,33.0,53.0,29.0,22.0,34.0,28.0,33.0,18.0,80.0,11.0,18.0,33.0,93.0,47.0,27.0,36.0,50.0,50.0,33.0,45.0,32.0,56.0,22.0,74.0,60.0,24.0,54.0,74.0,62.0,0.0,0.0,0.0,19.0,22.0,39.0,29.0,16.0,36.0,69.0,21.0,51.0,41.0,48.0,33.0,69.0,53.0,76.0,43.0,47.0,25.0,21.0,33.0,46.0,20.0,22.0,52.0,35.0,19.0,44.0,24.0,44.0,63.0,29.0,3.0,57.0,4.0,32.0,14.0,18.0,12.0,18.0,20.0,44.0,34.0,21.0,32.0,11.0,53.0,24.0,46.0,67.0,66.0,46.0,40.0,67.0,38.0,38.0,50.0,61.0,37.0,62.0,71.0,34.0,42.0,46.0,44.0,63.0,71.0,71.0,71.0,71.0,71.0,71.0,71.0,71.0,71.0,71.0,71.0,71.0,28.0,100.0,27.0,12.0,70.0,67.0,100.0,73.0,14.0,61.0,70.0,73.0,64.0,28.0,50.0,0.0,36.0,35.0,46.0,48.0,17.0,60.0,75.0,20.0,40.0,27.0,38.0,44.0,53.0,53.0,31.0,23.0,16.0,34.0,39.0,27.0,33.0,57.0,64.0,67.0,31.0,49.0,56.0,57.0,51.0,63.0,49.0,23.0,40.0,43.0,65.0,0.0,57.0,14.0,48.0,45.0,49.0,56.0,52.0,54.0,28.0,73.0,57.0,54.0,64.0,33.0,28.0,56.0,52.0,59.0,29.0,67.0,15.0,33.0,86.0,2.0,41.0,25.0,0.0,7.0,13.0,28.0,43.0,26.0,34.0,53.0,49.0,14.0,33.0,23.0,0.0,17.0,12.0,10.0,10.0,19.0,15.0,32.0,4.0,20.0,100.0,29.0,39.0,35.0,94.0,78.0,0.0,44.0,50.0,24.0,50.0,66.0,19.0,17.0,26.0,24.0,58.0,72.0,100.0,33.0,72.0,62.0,68.0,37.0,25.0,44.0,27.0,32.0,34.0,25.0,100.0,10.0,61.0,0.0,0.0,50.0,40.0,20.0,50.0,10.0,0.0,50.0,50.0,20.0,0.0,0.0,48.0,19.0,38.0,48.0,25.0,26.0,35.0,50.0,74.0,54.0,47.0,34.0,23.0,54.0,43.0,23.0,25.0,28.0,21.0,47.0,50.0,48.0,34.0,47.0,77.0,16.0,40.0,86.0,37.0,42.0,42.0,46.0,46.0,47.0,61.0,100.0,100.0,11.0,0.0,38.0,32.0,47.0,28.0,19.0,58.0,0.0,48.0,98.0,65.0,34.0,30.0,33.0,24.0,75.0,40.0,42.0,14.0,31.0,46.0,63.0,58.0,29.0,26.0,67.0,65.0,43.0,35.0,41.0,87.0,72.0,36.0,14.0,20.0,45.0,52.0,38.0,19.0,28.0,40.0,61.0,29.0,19.0,61.0,73.0,51.0,13.0,36.0,60.0,15.0,49.0,53.0,56.0,40.0,83.0,71.0,50.0,52.0,55.0,50.0,45.0,61.0,48.0,54.0,38.0,56.0,17.0,15.0,22.0,28.0,10.0,27.0,10.0,13.0,22.0,18.0,13.0,15.0,11.0,19.0,7.0,20.0,17.0,45.0,54.0,51.0,42.0,52.0,57.0,49.0,44.0,56.0,18.0,55.0,48.0,75.0,47.0,44.0,40.0,68.0,13.0,51.0,9.0,100.0,75.0,31.0,50.0,70.0,69.0,56.0,44.0,44.0,48.0,54.0,32.0,42.0,67.0,33.0,0.0,39.0,67.0,32.0,63.0,33.0,35.0,46.0,23.0,48.0,34.0,34.0,38.0,40.0,72.0,17.0,31.0,61.0,21.0,21.0,31.0,34.0,37.0,50.0,56.0,21.0,54.0,0.0,38.0,28.0,60.0,58.0,63.0,41.0]},{\"box\":{\"visible\":true},\"meanline\":{\"visible\":true},\"name\":\"primarily residential\",\"type\":\"violin\",\"x\":[\"primarily residential\",\"primarily residential\",\"primarily residential\",\"primarily residential\",\"primarily residential\",\"primarily residential\",\"primarily residential\",\"primarily residential\",\"primarily residential\",\"primarily residential\",\"primarily residential\",\"primarily residential\",\"primarily residential\",\"primarily residential\",\"primarily residential\",\"primarily residential\",\"primarily residential\",\"primarily residential\",\"primarily residential\",\"primarily residential\",\"primarily residential\",\"primarily residential\",\"primarily residential\",\"primarily residential\",\"primarily residential\",\"primarily residential\",\"primarily residential\",\"primarily residential\",\"primarily residential\",\"primarily residential\",\"primarily residential\",\"primarily residential\",\"primarily residential\",\"primarily residential\",\"primarily residential\",\"primarily residential\",\"primarily residential\",\"primarily residential\",\"primarily residential\",\"primarily residential\",\"primarily residential\",\"primarily residential\",\"primarily residential\",\"primarily residential\",\"primarily residential\",\"primarily residential\",\"primarily residential\",\"primarily residential\",\"primarily residential\",\"primarily residential\",\"primarily residential\",\"primarily residential\",\"primarily residential\",\"primarily residential\",\"primarily residential\",\"primarily residential\",\"primarily residential\",\"primarily residential\",\"primarily residential\",\"primarily residential\",\"primarily residential\",\"primarily residential\",\"primarily residential\",\"primarily residential\",\"primarily residential\",\"primarily residential\",\"primarily residential\",\"primarily residential\",\"primarily residential\",\"primarily residential\",\"primarily residential\",\"primarily residential\",\"primarily residential\",\"primarily residential\",\"primarily residential\",\"primarily residential\",\"primarily residential\",\"primarily residential\",\"primarily residential\",\"primarily residential\",\"primarily residential\",\"primarily residential\",\"primarily residential\",\"primarily residential\",\"primarily residential\",\"primarily residential\",\"primarily residential\",\"primarily residential\",\"primarily residential\",\"primarily residential\",\"primarily residential\",\"primarily residential\",\"primarily residential\",\"primarily residential\",\"primarily residential\",\"primarily residential\",\"primarily residential\",\"primarily residential\",\"primarily residential\",\"primarily residential\",\"primarily residential\",\"primarily residential\",\"primarily residential\",\"primarily residential\",\"primarily residential\",\"primarily residential\",\"primarily residential\",\"primarily residential\",\"primarily residential\",\"primarily residential\",\"primarily residential\",\"primarily residential\",\"primarily residential\",\"primarily residential\",\"primarily residential\",\"primarily residential\",\"primarily residential\",\"primarily residential\",\"primarily residential\",\"primarily residential\",\"primarily residential\",\"primarily residential\",\"primarily residential\",\"primarily residential\",\"primarily residential\",\"primarily residential\",\"primarily residential\",\"primarily residential\",\"primarily residential\",\"primarily residential\",\"primarily residential\",\"primarily residential\",\"primarily residential\",\"primarily residential\",\"primarily residential\",\"primarily residential\",\"primarily residential\",\"primarily residential\",\"primarily residential\",\"primarily residential\",\"primarily residential\",\"primarily residential\",\"primarily residential\",\"primarily residential\",\"primarily residential\",\"primarily residential\",\"primarily residential\",\"primarily residential\",\"primarily residential\",\"primarily residential\",\"primarily residential\",\"primarily residential\",\"primarily residential\",\"primarily residential\",\"primarily residential\",\"primarily residential\",\"primarily residential\",\"primarily residential\",\"primarily residential\",\"primarily residential\",\"primarily residential\",\"primarily residential\",\"primarily residential\",\"primarily residential\",\"primarily residential\",\"primarily residential\",\"primarily residential\",\"primarily residential\",\"primarily residential\",\"primarily residential\",\"primarily residential\",\"primarily residential\",\"primarily residential\",\"primarily residential\",\"primarily residential\",\"primarily residential\",\"primarily residential\",\"primarily residential\",\"primarily residential\",\"primarily residential\",\"primarily residential\",\"primarily residential\",\"primarily residential\",\"primarily residential\",\"primarily residential\",\"primarily residential\",\"primarily residential\",\"primarily residential\",\"primarily residential\",\"primarily residential\",\"primarily residential\",\"primarily residential\",\"primarily residential\",\"primarily residential\",\"primarily residential\",\"primarily residential\",\"primarily residential\",\"primarily residential\",\"primarily residential\",\"primarily residential\",\"primarily residential\",\"primarily residential\",\"primarily residential\",\"primarily residential\",\"primarily residential\",\"primarily residential\",\"primarily residential\",\"primarily residential\",\"primarily residential\",\"primarily residential\",\"primarily residential\",\"primarily residential\",\"primarily residential\",\"primarily residential\",\"primarily residential\",\"primarily residential\",\"primarily residential\",\"primarily residential\",\"primarily residential\",\"primarily residential\",\"primarily residential\",\"primarily residential\",\"primarily residential\",\"primarily residential\",\"primarily residential\",\"primarily residential\",\"primarily residential\",\"primarily residential\",\"primarily residential\",\"primarily residential\",\"primarily residential\",\"primarily residential\",\"primarily residential\",\"primarily residential\",\"primarily residential\",\"primarily residential\",\"primarily residential\",\"primarily residential\",\"primarily residential\",\"primarily residential\",\"primarily residential\",\"primarily residential\",\"primarily residential\",\"primarily residential\",\"primarily residential\",\"primarily residential\",\"primarily residential\",\"primarily residential\",\"primarily residential\",\"primarily residential\",\"primarily residential\",\"primarily residential\",\"primarily residential\",\"primarily residential\",\"primarily residential\",\"primarily residential\",\"primarily residential\",\"primarily residential\",\"primarily residential\",\"primarily residential\",\"primarily residential\",\"primarily residential\",\"primarily residential\",\"primarily residential\",\"primarily residential\",\"primarily residential\",\"primarily residential\",\"primarily residential\",\"primarily residential\",\"primarily residential\",\"primarily residential\",\"primarily residential\",\"primarily residential\",\"primarily residential\",\"primarily residential\",\"primarily residential\",\"primarily residential\",\"primarily residential\",\"primarily residential\",\"primarily residential\",\"primarily residential\",\"primarily residential\",\"primarily residential\",\"primarily residential\",\"primarily residential\",\"primarily residential\",\"primarily residential\",\"primarily residential\",\"primarily residential\",\"primarily residential\",\"primarily residential\",\"primarily residential\",\"primarily residential\",\"primarily residential\",\"primarily residential\",\"primarily residential\",\"primarily residential\",\"primarily residential\",\"primarily residential\",\"primarily residential\",\"primarily residential\",\"primarily residential\",\"primarily residential\",\"primarily residential\",\"primarily residential\",\"primarily residential\",\"primarily residential\",\"primarily residential\",\"primarily residential\",\"primarily residential\",\"primarily residential\",\"primarily residential\",\"primarily residential\",\"primarily residential\",\"primarily residential\",\"primarily residential\",\"primarily residential\",\"primarily residential\",\"primarily residential\",\"primarily residential\",\"primarily residential\",\"primarily residential\",\"primarily residential\",\"primarily residential\",\"primarily residential\",\"primarily residential\",\"primarily residential\",\"primarily residential\",\"primarily residential\",\"primarily residential\",\"primarily residential\",\"primarily residential\",\"primarily residential\",\"primarily residential\",\"primarily residential\",\"primarily residential\",\"primarily residential\",\"primarily residential\",\"primarily residential\",\"primarily residential\",\"primarily residential\",\"primarily residential\",\"primarily residential\",\"primarily residential\",\"primarily residential\",\"primarily residential\",\"primarily residential\",\"primarily residential\",\"primarily residential\",\"primarily residential\",\"primarily residential\",\"primarily residential\",\"primarily residential\",\"primarily residential\",\"primarily residential\",\"primarily residential\",\"primarily residential\",\"primarily residential\",\"primarily residential\",\"primarily residential\",\"primarily residential\",\"primarily residential\",\"primarily residential\",\"primarily residential\",\"primarily residential\",\"primarily residential\",\"primarily residential\",\"primarily residential\",\"primarily residential\",\"primarily residential\",\"primarily residential\",\"primarily residential\",\"primarily residential\",\"primarily residential\",\"primarily residential\",\"primarily residential\",\"primarily residential\",\"primarily residential\",\"primarily residential\",\"primarily residential\",\"primarily residential\",\"primarily residential\",\"primarily residential\",\"primarily residential\",\"primarily residential\",\"primarily residential\",\"primarily residential\",\"primarily residential\",\"primarily residential\",\"primarily residential\",\"primarily residential\",\"primarily residential\",\"primarily residential\",\"primarily residential\",\"primarily residential\",\"primarily residential\",\"primarily residential\",\"primarily residential\",\"primarily residential\",\"primarily residential\",\"primarily residential\",\"primarily residential\",\"primarily residential\",\"primarily residential\",\"primarily residential\",\"primarily residential\",\"primarily residential\",\"primarily residential\",\"primarily residential\",\"primarily residential\",\"primarily residential\",\"primarily residential\",\"primarily residential\",\"primarily residential\",\"primarily residential\",\"primarily residential\",\"primarily residential\",\"primarily residential\",\"primarily residential\",\"primarily residential\",\"primarily residential\",\"primarily residential\",\"primarily residential\",\"primarily residential\",\"primarily residential\",\"primarily residential\",\"primarily residential\",\"primarily residential\",\"primarily residential\",\"primarily residential\",\"primarily residential\",\"primarily residential\",\"primarily residential\",\"primarily residential\",\"primarily residential\",\"primarily residential\",\"primarily residential\",\"primarily residential\",\"primarily residential\",\"primarily residential\",\"primarily residential\",\"primarily residential\",\"primarily residential\",\"primarily residential\",\"primarily residential\",\"primarily residential\",\"primarily residential\",\"primarily residential\",\"primarily residential\",\"primarily residential\",\"primarily residential\",\"primarily residential\",\"primarily residential\",\"primarily residential\",\"primarily residential\",\"primarily residential\",\"primarily residential\",\"primarily residential\",\"primarily residential\",\"primarily residential\",\"primarily residential\",\"primarily residential\",\"primarily residential\",\"primarily residential\",\"primarily residential\",\"primarily residential\",\"primarily residential\",\"primarily residential\",\"primarily residential\",\"primarily residential\",\"primarily residential\",\"primarily residential\",\"primarily residential\",\"primarily residential\",\"primarily residential\",\"primarily residential\",\"primarily residential\",\"primarily residential\",\"primarily residential\",\"primarily residential\",\"primarily residential\",\"primarily residential\",\"primarily residential\",\"primarily residential\",\"primarily residential\",\"primarily residential\",\"primarily residential\",\"primarily residential\",\"primarily residential\",\"primarily residential\",\"primarily residential\",\"primarily residential\",\"primarily residential\",\"primarily residential\",\"primarily residential\",\"primarily residential\",\"primarily residential\",\"primarily residential\",\"primarily residential\",\"primarily residential\",\"primarily residential\",\"primarily residential\",\"primarily residential\",\"primarily residential\",\"primarily residential\",\"primarily residential\",\"primarily residential\",\"primarily residential\",\"primarily residential\",\"primarily residential\",\"primarily residential\",\"primarily residential\",\"primarily residential\",\"primarily residential\",\"primarily residential\",\"primarily residential\",\"primarily residential\",\"primarily residential\",\"primarily residential\",\"primarily residential\",\"primarily residential\",\"primarily residential\",\"primarily residential\",\"primarily residential\",\"primarily residential\",\"primarily residential\",\"primarily residential\",\"primarily residential\",\"primarily residential\",\"primarily residential\",\"primarily residential\",\"primarily residential\",\"primarily residential\",\"primarily residential\",\"primarily residential\",\"primarily residential\",\"primarily residential\",\"primarily residential\",\"primarily residential\",\"primarily residential\"],\"y\":[26.0,73.0,45.0,23.0,61.0,63.0,33.0,40.0,46.0,73.0,50.0,63.0,45.0,53.0,38.0,34.0,57.0,55.0,64.0,67.0,35.0,49.0,35.0,78.0,50.0,66.0,48.0,46.0,32.0,38.0,35.0,60.0,34.0,43.0,61.0,77.0,46.0,34.0,40.0,61.0,52.0,69.0,63.0,64.0,61.0,68.0,82.0,50.0,36.0,55.0,36.0,52.0,50.0,57.0,41.0,51.0,26.0,32.0,57.0,61.0,65.0,81.0,41.0,56.0,61.0,52.0,88.0,84.0,60.0,85.0,47.0,55.0,70.0,66.0,73.0,57.0,52.0,34.0,83.0,36.0,70.0,60.0,50.0,65.0,46.0,44.0,64.0,25.0,95.0,60.0,54.0,50.0,43.0,63.0,43.0,58.0,9.0,57.0,39.0,69.0,47.0,64.0,70.0,69.0,58.0,66.0,37.0,50.0,45.0,46.0,36.0,59.0,54.0,64.0,70.0,62.0,69.0,49.0,41.0,80.0,33.0,34.0,47.0,47.0,58.0,47.0,53.0,53.0,50.0,54.0,83.0,41.0,61.0,44.0,48.0,49.0,68.0,71.0,64.0,50.0,38.0,54.0,39.0,49.0,58.0,17.0,67.0,60.0,70.0,17.0,17.0,51.0,54.0,44.0,49.0,49.0,57.0,28.0,70.0,67.0,41.0,56.0,79.0,31.0,90.0,74.0,38.0,41.0,52.0,84.0,93.0,36.0,58.0,61.0,65.0,62.0,25.0,56.0,47.0,59.0,55.0,66.0,47.0,34.0,62.0,60.0,14.0,90.0,60.0,63.0,67.0,54.0,33.0,58.0,34.0,55.0,59.0,54.0,46.0,60.0,36.0,74.0,50.0,26.0,63.0,56.0,49.0,36.0,38.0,33.0,53.0,58.0,71.0,34.0,74.0,38.0,66.0,81.0,81.0,23.0,44.0,79.0,45.0,56.0,59.0,64.0,53.0,45.0,68.0,61.0,40.0,66.0,38.0,73.0,57.0,31.0,67.0,34.0,43.0,48.0,56.0,65.0,64.0,45.0,65.0,55.0,35.0,52.0,29.0,74.0,48.0,67.0,22.0,52.0,73.0,49.0,51.0,49.0,82.0,41.0,60.0,57.0,49.0,48.0,40.0,31.0,94.0,54.0,61.0,37.0,52.0,63.0,58.0,86.0,65.0,37.0,65.0,39.0,42.0,54.0,57.0,28.0,43.0,64.0,45.0,71.0,71.0,71.0,71.0,71.0,71.0,71.0,34.0,52.0,57.0,60.0,28.0,33.0,34.0,82.0,89.0,68.0,55.0,50.0,46.0,65.0,52.0,41.0,22.0,41.0,73.0,84.0,69.0,44.0,40.0,64.0,53.0,67.0,64.0,56.0,59.0,57.0,22.0,70.0,53.0,46.0,70.0,70.0,70.0,74.0,73.0,67.0,35.0,49.0,58.0,47.0,45.0,68.0,62.0,49.0,56.0,50.0,60.0,45.0,52.0,48.0,51.0,46.0,41.0,21.0,54.0,46.0,50.0,25.0,42.0,35.0,40.0,90.0,59.0,58.0,63.0,43.0,77.0,52.0,77.0,58.0,25.0,67.0,64.0,46.0,68.0,76.0,47.0,48.0,71.0,57.0,49.0,41.0,82.0,43.0,37.0,39.0,83.0,61.0,30.0,47.0,61.0,69.0,50.0,70.0,34.0,71.0,45.0,49.0,48.0,72.0,47.0,51.0,70.0,40.0,61.0,54.0,39.0,71.0,56.0,33.0,9.0,59.0,39.0,68.0,42.0,75.0,45.0,35.0,66.0,29.0,45.0,93.0,84.0,69.0,76.0,87.0,83.0,43.0,51.0,38.0,71.0,69.0,81.0,77.0,67.0,43.0,88.0,87.0,44.0,61.0,56.0,54.0,60.0,72.0,67.0,66.0,47.0,59.0,57.0,30.0,38.0,71.0,87.0,66.0,83.0,93.0,50.0,62.0,66.0,66.0,42.0,49.0,59.0,64.0,59.0,41.0,72.0,61.0,67.0,52.0,60.0,70.0,74.0,34.0,83.0,38.0,69.0,32.0,52.0,81.0,75.0,46.0,39.0,31.0,77.0,59.0,92.0,50.0,49.0,62.0,76.0,78.0,32.0,95.0,84.0,35.0,45.0,67.0,53.0,69.0,88.0,61.0,56.0,58.0,60.0,60.0,48.0,62.0,60.0,53.0,76.0,54.0,40.0,50.0,55.0,27.0,86.0,5.0,54.0,30.0,67.0,46.0,60.0,58.0,77.0,45.0,21.0,62.0,52.0,48.0,57.0,41.0,68.0,58.0,63.0,47.0,55.0,64.0,59.0,89.0,58.0,45.0,50.0,57.0]},{\"box\":{\"visible\":true},\"meanline\":{\"visible\":true},\"name\":\"highly residential\",\"type\":\"violin\",\"x\":[\"highly residential\",\"highly residential\",\"highly residential\",\"highly residential\",\"highly residential\",\"highly residential\",\"highly residential\",\"highly residential\",\"highly residential\",\"highly residential\",\"highly residential\",\"highly residential\",\"highly residential\",\"highly residential\",\"highly residential\",\"highly residential\",\"highly residential\",\"highly residential\",\"highly residential\",\"highly residential\",\"highly residential\",\"highly residential\",\"highly residential\",\"highly residential\",\"highly residential\",\"highly residential\",\"highly residential\",\"highly residential\",\"highly residential\",\"highly residential\",\"highly residential\",\"highly residential\",\"highly residential\",\"highly residential\",\"highly residential\",\"highly residential\",\"highly residential\",\"highly residential\",\"highly residential\",\"highly residential\",\"highly residential\",\"highly residential\",\"highly residential\",\"highly residential\",\"highly residential\",\"highly residential\",\"highly residential\",\"highly residential\",\"highly residential\",\"highly residential\",\"highly residential\",\"highly residential\",\"highly residential\",\"highly residential\",\"highly residential\",\"highly residential\",\"highly residential\",\"highly residential\",\"highly residential\",\"highly residential\",\"highly residential\",\"highly residential\",\"highly residential\",\"highly residential\",\"highly residential\",\"highly residential\",\"highly residential\",\"highly residential\",\"highly residential\",\"highly residential\",\"highly residential\",\"highly residential\",\"highly residential\",\"highly residential\",\"highly residential\",\"highly residential\",\"highly residential\",\"highly residential\",\"highly residential\",\"highly residential\",\"highly residential\",\"highly residential\",\"highly residential\",\"highly residential\",\"highly residential\",\"highly residential\",\"highly residential\",\"highly residential\",\"highly residential\",\"highly residential\",\"highly residential\",\"highly residential\",\"highly residential\",\"highly residential\",\"highly residential\",\"highly residential\",\"highly residential\",\"highly residential\",\"highly residential\",\"highly residential\",\"highly residential\",\"highly residential\",\"highly residential\",\"highly residential\",\"highly residential\",\"highly residential\",\"highly residential\",\"highly residential\",\"highly residential\",\"highly residential\",\"highly residential\",\"highly residential\",\"highly residential\",\"highly residential\",\"highly residential\",\"highly residential\",\"highly residential\",\"highly residential\",\"highly residential\",\"highly residential\",\"highly residential\",\"highly residential\",\"highly residential\",\"highly residential\",\"highly residential\",\"highly residential\",\"highly residential\",\"highly residential\",\"highly residential\",\"highly residential\",\"highly residential\",\"highly residential\",\"highly residential\",\"highly residential\",\"highly residential\",\"highly residential\",\"highly residential\",\"highly residential\",\"highly residential\",\"highly residential\",\"highly residential\",\"highly residential\",\"highly residential\",\"highly residential\",\"highly residential\",\"highly residential\",\"highly residential\",\"highly residential\",\"highly residential\",\"highly residential\",\"highly residential\",\"highly residential\",\"highly residential\",\"highly residential\",\"highly residential\",\"highly residential\",\"highly residential\",\"highly residential\",\"highly residential\",\"highly residential\",\"highly residential\",\"highly residential\",\"highly residential\",\"highly residential\",\"highly residential\",\"highly residential\",\"highly residential\",\"highly residential\",\"highly residential\",\"highly residential\",\"highly residential\",\"highly residential\",\"highly residential\",\"highly residential\",\"highly residential\",\"highly residential\",\"highly residential\",\"highly residential\",\"highly residential\",\"highly residential\",\"highly residential\",\"highly residential\",\"highly residential\",\"highly residential\",\"highly residential\",\"highly residential\",\"highly residential\",\"highly residential\",\"highly residential\",\"highly residential\",\"highly residential\",\"highly residential\",\"highly residential\",\"highly residential\",\"highly residential\",\"highly residential\",\"highly residential\",\"highly residential\",\"highly residential\",\"highly residential\",\"highly residential\",\"highly residential\",\"highly residential\",\"highly residential\",\"highly residential\",\"highly residential\",\"highly residential\",\"highly residential\",\"highly residential\",\"highly residential\",\"highly residential\",\"highly residential\",\"highly residential\",\"highly residential\",\"highly residential\",\"highly residential\",\"highly residential\",\"highly residential\",\"highly residential\",\"highly residential\",\"highly residential\",\"highly residential\",\"highly residential\",\"highly residential\",\"highly residential\",\"highly residential\",\"highly residential\",\"highly residential\",\"highly residential\",\"highly residential\",\"highly residential\",\"highly residential\",\"highly residential\",\"highly residential\",\"highly residential\",\"highly residential\",\"highly residential\",\"highly residential\",\"highly residential\",\"highly residential\",\"highly residential\",\"highly residential\",\"highly residential\",\"highly residential\",\"highly residential\",\"highly residential\",\"highly residential\",\"highly residential\",\"highly residential\",\"highly residential\",\"highly residential\",\"highly residential\",\"highly residential\",\"highly residential\",\"highly residential\",\"highly residential\",\"highly residential\",\"highly residential\",\"highly residential\",\"highly residential\",\"highly residential\",\"highly residential\",\"highly residential\",\"highly residential\",\"highly residential\",\"highly residential\",\"highly residential\",\"highly residential\",\"highly residential\",\"highly residential\",\"highly residential\",\"highly residential\",\"highly residential\",\"highly residential\",\"highly residential\",\"highly residential\",\"highly residential\",\"highly residential\",\"highly residential\",\"highly residential\",\"highly residential\",\"highly residential\",\"highly residential\",\"highly residential\",\"highly residential\",\"highly residential\",\"highly residential\",\"highly residential\",\"highly residential\",\"highly residential\",\"highly residential\",\"highly residential\",\"highly residential\",\"highly residential\",\"highly residential\",\"highly residential\",\"highly residential\",\"highly residential\",\"highly residential\",\"highly residential\",\"highly residential\",\"highly residential\",\"highly residential\",\"highly residential\",\"highly residential\",\"highly residential\",\"highly residential\",\"highly residential\",\"highly residential\",\"highly residential\",\"highly residential\",\"highly residential\",\"highly residential\",\"highly residential\",\"highly residential\",\"highly residential\",\"highly residential\",\"highly residential\",\"highly residential\",\"highly residential\",\"highly residential\",\"highly residential\",\"highly residential\",\"highly residential\",\"highly residential\",\"highly residential\",\"highly residential\",\"highly residential\",\"highly residential\",\"highly residential\",\"highly residential\",\"highly residential\",\"highly residential\",\"highly residential\",\"highly residential\",\"highly residential\",\"highly residential\",\"highly residential\",\"highly residential\",\"highly residential\",\"highly residential\",\"highly residential\",\"highly residential\",\"highly residential\",\"highly residential\",\"highly residential\",\"highly residential\",\"highly residential\",\"highly residential\",\"highly residential\",\"highly residential\",\"highly residential\",\"highly residential\",\"highly residential\",\"highly residential\",\"highly residential\",\"highly residential\",\"highly residential\",\"highly residential\",\"highly residential\",\"highly residential\",\"highly residential\",\"highly residential\",\"highly residential\",\"highly residential\",\"highly residential\",\"highly residential\",\"highly residential\",\"highly residential\",\"highly residential\",\"highly residential\",\"highly residential\",\"highly residential\",\"highly residential\",\"highly residential\",\"highly residential\",\"highly residential\",\"highly residential\",\"highly residential\",\"highly residential\",\"highly residential\",\"highly residential\",\"highly residential\",\"highly residential\",\"highly residential\",\"highly residential\",\"highly residential\",\"highly residential\",\"highly residential\",\"highly residential\",\"highly residential\",\"highly residential\",\"highly residential\",\"highly residential\",\"highly residential\",\"highly residential\",\"highly residential\",\"highly residential\",\"highly residential\",\"highly residential\",\"highly residential\",\"highly residential\",\"highly residential\",\"highly residential\",\"highly residential\",\"highly residential\",\"highly residential\",\"highly residential\",\"highly residential\",\"highly residential\",\"highly residential\",\"highly residential\",\"highly residential\",\"highly residential\",\"highly residential\",\"highly residential\",\"highly residential\",\"highly residential\",\"highly residential\",\"highly residential\",\"highly residential\",\"highly residential\",\"highly residential\",\"highly residential\",\"highly residential\",\"highly residential\",\"highly residential\",\"highly residential\",\"highly residential\",\"highly residential\",\"highly residential\",\"highly residential\",\"highly residential\",\"highly residential\",\"highly residential\",\"highly residential\",\"highly residential\",\"highly residential\",\"highly residential\",\"highly residential\",\"highly residential\",\"highly residential\",\"highly residential\",\"highly residential\",\"highly residential\",\"highly residential\",\"highly residential\",\"highly residential\",\"highly residential\",\"highly residential\",\"highly residential\",\"highly residential\",\"highly residential\",\"highly residential\",\"highly residential\",\"highly residential\",\"highly residential\",\"highly residential\",\"highly residential\",\"highly residential\",\"highly residential\",\"highly residential\",\"highly residential\",\"highly residential\",\"highly residential\",\"highly residential\",\"highly residential\",\"highly residential\",\"highly residential\",\"highly residential\",\"highly residential\",\"highly residential\",\"highly residential\",\"highly residential\",\"highly residential\",\"highly residential\",\"highly residential\",\"highly residential\",\"highly residential\",\"highly residential\",\"highly residential\",\"highly residential\",\"highly residential\",\"highly residential\",\"highly residential\",\"highly residential\",\"highly residential\",\"highly residential\",\"highly residential\",\"highly residential\",\"highly residential\",\"highly residential\",\"highly residential\",\"highly residential\",\"highly residential\",\"highly residential\",\"highly residential\",\"highly residential\",\"highly residential\",\"highly residential\",\"highly residential\",\"highly residential\",\"highly residential\",\"highly residential\",\"highly residential\",\"highly residential\",\"highly residential\",\"highly residential\",\"highly residential\",\"highly residential\",\"highly residential\",\"highly residential\",\"highly residential\",\"highly residential\",\"highly residential\",\"highly residential\",\"highly residential\",\"highly residential\",\"highly residential\",\"highly residential\",\"highly residential\",\"highly residential\",\"highly residential\",\"highly residential\",\"highly residential\",\"highly residential\",\"highly residential\",\"highly residential\",\"highly residential\",\"highly residential\",\"highly residential\",\"highly residential\",\"highly residential\",\"highly residential\",\"highly residential\",\"highly residential\",\"highly residential\",\"highly residential\",\"highly residential\",\"highly residential\",\"highly residential\",\"highly residential\",\"highly residential\",\"highly residential\",\"highly residential\",\"highly residential\",\"highly residential\",\"highly residential\",\"highly residential\",\"highly residential\",\"highly residential\",\"highly residential\",\"highly residential\",\"highly residential\",\"highly residential\",\"highly residential\",\"highly residential\",\"highly residential\",\"highly residential\",\"highly residential\",\"highly residential\",\"highly residential\",\"highly residential\",\"highly residential\",\"highly residential\",\"highly residential\",\"highly residential\",\"highly residential\",\"highly residential\",\"highly residential\",\"highly residential\",\"highly residential\",\"highly residential\",\"highly residential\",\"highly residential\",\"highly residential\",\"highly residential\",\"highly residential\",\"highly residential\",\"highly residential\",\"highly residential\",\"highly residential\",\"highly residential\",\"highly residential\",\"highly residential\",\"highly residential\",\"highly residential\",\"highly residential\",\"highly residential\",\"highly residential\",\"highly residential\",\"highly residential\",\"highly residential\",\"highly residential\",\"highly residential\",\"highly residential\",\"highly residential\",\"highly residential\",\"highly residential\",\"highly residential\",\"highly residential\",\"highly residential\",\"highly residential\",\"highly residential\",\"highly residential\",\"highly residential\",\"highly residential\",\"highly residential\",\"highly residential\",\"highly residential\",\"highly residential\",\"highly residential\",\"highly residential\",\"highly residential\",\"highly residential\",\"highly residential\",\"highly residential\",\"highly residential\",\"highly residential\",\"highly residential\",\"highly residential\",\"highly residential\",\"highly residential\",\"highly residential\",\"highly residential\",\"highly residential\",\"highly residential\",\"highly residential\",\"highly residential\",\"highly residential\",\"highly residential\",\"highly residential\",\"highly residential\",\"highly residential\",\"highly residential\",\"highly residential\",\"highly residential\",\"highly residential\",\"highly residential\",\"highly residential\",\"highly residential\",\"highly residential\",\"highly residential\",\"highly residential\",\"highly residential\",\"highly residential\",\"highly residential\",\"highly residential\",\"highly residential\",\"highly residential\",\"highly residential\",\"highly residential\",\"highly residential\",\"highly residential\",\"highly residential\",\"highly residential\",\"highly residential\",\"highly residential\",\"highly residential\",\"highly residential\",\"highly residential\",\"highly residential\",\"highly residential\",\"highly residential\",\"highly residential\",\"highly residential\",\"highly residential\",\"highly residential\",\"highly residential\",\"highly residential\",\"highly residential\",\"highly residential\",\"highly residential\",\"highly residential\",\"highly residential\",\"highly residential\",\"highly residential\",\"highly residential\",\"highly residential\",\"highly residential\",\"highly residential\",\"highly residential\",\"highly residential\",\"highly residential\",\"highly residential\",\"highly residential\",\"highly residential\",\"highly residential\",\"highly residential\",\"highly residential\",\"highly residential\",\"highly residential\",\"highly residential\",\"highly residential\",\"highly residential\",\"highly residential\",\"highly residential\",\"highly residential\",\"highly residential\",\"highly residential\",\"highly residential\",\"highly residential\",\"highly residential\",\"highly residential\",\"highly residential\",\"highly residential\",\"highly residential\",\"highly residential\",\"highly residential\",\"highly residential\",\"highly residential\",\"highly residential\",\"highly residential\",\"highly residential\",\"highly residential\",\"highly residential\",\"highly residential\",\"highly residential\",\"highly residential\",\"highly residential\",\"highly residential\",\"highly residential\",\"highly residential\",\"highly residential\",\"highly residential\",\"highly residential\",\"highly residential\",\"highly residential\",\"highly residential\",\"highly residential\",\"highly residential\",\"highly residential\",\"highly residential\",\"highly residential\",\"highly residential\",\"highly residential\",\"highly residential\",\"highly residential\",\"highly residential\",\"highly residential\",\"highly residential\",\"highly residential\",\"highly residential\",\"highly residential\",\"highly residential\",\"highly residential\",\"highly residential\",\"highly residential\",\"highly residential\",\"highly residential\",\"highly residential\",\"highly residential\",\"highly residential\",\"highly residential\",\"highly residential\",\"highly residential\",\"highly residential\",\"highly residential\",\"highly residential\",\"highly residential\",\"highly residential\",\"highly residential\",\"highly residential\",\"highly residential\",\"highly residential\",\"highly residential\",\"highly residential\",\"highly residential\",\"highly residential\",\"highly residential\",\"highly residential\",\"highly residential\",\"highly residential\",\"highly residential\",\"highly residential\",\"highly residential\",\"highly residential\",\"highly residential\",\"highly residential\",\"highly residential\",\"highly residential\",\"highly residential\",\"highly residential\",\"highly residential\",\"highly residential\",\"highly residential\",\"highly residential\",\"highly residential\",\"highly residential\",\"highly residential\",\"highly residential\",\"highly residential\",\"highly residential\",\"highly residential\",\"highly residential\",\"highly residential\",\"highly residential\",\"highly residential\",\"highly residential\",\"highly residential\",\"highly residential\",\"highly residential\",\"highly residential\",\"highly residential\",\"highly residential\",\"highly residential\",\"highly residential\",\"highly residential\",\"highly residential\",\"highly residential\",\"highly residential\",\"highly residential\",\"highly residential\",\"highly residential\",\"highly residential\",\"highly residential\",\"highly residential\",\"highly residential\",\"highly residential\",\"highly residential\",\"highly residential\",\"highly residential\",\"highly residential\",\"highly residential\",\"highly residential\",\"highly residential\",\"highly residential\",\"highly residential\",\"highly residential\",\"highly residential\",\"highly residential\",\"highly residential\",\"highly residential\",\"highly residential\",\"highly residential\",\"highly residential\",\"highly residential\",\"highly residential\",\"highly residential\"],\"y\":[61.0,30.0,50.0,73.0,30.0,33.0,40.0,70.0,70.0,57.0,41.0,39.0,57.0,52.0,74.0,50.0,22.0,67.0,44.0,100.0,75.0,79.0,95.0,60.0,67.0,19.0,59.0,78.0,65.0,60.0,66.0,8.0,16.0,68.0,65.0,70.0,71.0,71.0,72.0,58.0,42.0,68.0,93.0,16.0,38.0,14.0,65.0,33.0,77.0,69.0,92.0,55.0,91.0,68.0,46.0,81.0,45.0,72.0,75.0,24.0,65.0,63.0,76.0,90.0,68.0,69.0,34.0,46.0,50.0,54.0,44.0,67.0,73.0,33.0,82.0,74.0,69.0,41.0,48.0,54.0,66.0,49.0,36.0,94.0,88.0,95.0,87.0,40.0,20.0,59.0,65.0,96.0,45.0,81.0,58.0,84.0,90.0,60.0,82.0,55.0,60.0,94.0,67.0,63.0,76.0,73.0,62.0,92.0,90.0,63.0,67.0,57.0,66.0,84.0,55.0,51.0,58.0,75.0,59.0,54.0,39.0,67.0,47.0,28.0,7.0,84.0,45.0,70.0,26.0,27.0,78.0,74.0,51.0,91.0,44.0,79.0,63.0,78.0,76.0,66.0,39.0,89.0,62.0,91.0,50.0,80.0,90.0,71.0,83.0,51.0,95.0,58.0,40.0,72.0,39.0,47.0,63.0,64.0,84.0,58.0,66.0,69.0,58.0,65.0,81.0,22.0,70.0,52.0,52.0,69.0,54.0,95.0,91.0,41.0,44.0,35.0,42.0,60.0,82.0,84.0,83.0,51.0,100.0,54.0,75.0,81.0,69.0,95.0,81.0,64.0,52.0,44.0,57.0,53.0,58.0,40.0,27.0,66.0,44.0,26.0,39.0,69.0,68.0,85.0,82.0,41.0,66.0,67.0,54.0,90.0,74.0,45.0,50.0,56.0,83.0,63.0,43.0,29.0,37.0,50.0,51.0,59.0,36.0,68.0,35.0,77.0,85.0,65.0,49.0,96.0,58.0,83.0,51.0,68.0,56.0,72.0,82.0,45.0,95.0,90.0,81.0,85.0,69.0,65.0,66.0,69.0,46.0,35.0,55.0,22.0,33.0,56.0,89.0,85.0,56.0,78.0,93.0,68.0,63.0,60.0,41.0,69.0,51.0,69.0,31.0,65.0,97.0,92.0,46.0,59.0,90.0,4.0,51.0,63.0,39.0,71.0,52.0,65.0,86.0,54.0,77.0,65.0,66.0,51.0,40.0,48.0,65.0,81.0,75.0,35.0,65.0,70.0,63.0,70.0,77.0,71.0,64.0,31.0,74.0,11.0,91.0,72.0,76.0,58.0,59.0,52.0,52.0,65.0,49.0,63.0,32.0,78.0,86.0,42.0,63.0,43.0,88.0,35.0,42.0,45.0,91.0,64.0,74.0,54.0,51.0,88.0,41.0,47.0,77.0,51.0,45.0,42.0,22.0,18.0,59.0,79.0,74.0,78.0,60.0,46.0,52.0,77.0,45.0,28.0,27.0,47.0,50.0,38.0,74.0,68.0,24.0,66.0,67.0,37.0,80.0,83.0,62.0,75.0,67.0,51.0,54.0,91.0,47.0,94.0,67.0,54.0,71.0,54.0,55.0,59.0,71.0,88.0,60.0,51.0,55.0,58.0,84.0,46.0,82.0,30.0,69.0,72.0,51.0,68.0,71.0,61.0,95.0,76.0,69.0,60.0,33.0,41.0,54.0,58.0,68.0,66.0,75.0,100.0,29.0,50.0,22.0,79.0,45.0,70.0,32.0,50.0,43.0,93.0,40.0,25.0,63.0,59.0,57.0,72.0,65.0,14.0,57.0,32.0,23.0,43.0,62.0,58.0,67.0,72.0,69.0,46.0,54.0,62.0,25.0,50.0,83.0,63.0,69.0,68.0,84.0,55.0,53.0,71.0,40.0,65.0,48.0,54.0,64.0,50.0,85.0,54.0,59.0,36.0,45.0,69.0,51.0,59.0,62.0,89.0,48.0,54.0,55.0,52.0,61.0,58.0,68.0,36.0,32.0,52.0,51.0,86.0,86.0,48.0,47.0,77.0,37.0,65.0,100.0,55.0,55.0,64.0,28.0,44.0,64.0,55.0,51.0,66.0,63.0,69.0,57.0,69.0,13.0,57.0,20.0,48.0,71.0,71.0,86.0,44.0,44.0,45.0,38.0,85.0,54.0,75.0,93.0,62.0,22.0,36.0,70.0,71.0,98.0,80.0,41.0,87.0,59.0,53.0,77.0,6.0,32.0,36.0,12.0,19.0,38.0,72.0,51.0,68.0,76.0,67.0,38.0,85.0,89.0,80.0,93.0,67.0,67.0,67.0,70.0,62.0,67.0,76.0,49.0,67.0,74.0,86.0,49.0,71.0,28.0,73.0,64.0,78.0,16.0,73.0,75.0,75.0,64.0,81.0,40.0,79.0,67.0,79.0,78.0,83.0,73.0,69.0,59.0,78.0,76.0,61.0,91.0,78.0,29.0,45.0,90.0,68.0,65.0,8.0,17.0,60.0,37.0,80.0,81.0,72.0,45.0,88.0,89.0,89.0,35.0,55.0,44.0,81.0,55.0,31.0,40.0,45.0,26.0,69.0,75.0,56.0,74.0,74.0,84.0,86.0,39.0,69.0,69.0,61.0,77.0,60.0,58.0,94.0,46.0,53.0,75.0,65.0,85.0,60.0,27.0,82.0,76.0,63.0,64.0,61.0,80.0,67.0,61.0,44.0,60.0,75.0,35.0,76.0,72.0,94.0,34.0,83.0,43.0,34.0,75.0,6.0,14.0,15.0,62.0,77.0,6.0,32.0,12.0,55.0,72.0,66.0,86.0,77.0,96.0,53.0,70.0,81.0,65.0,58.0,79.0,44.0,53.0,84.0,52.0,70.0,64.0,46.0,15.0,50.0,70.0,63.0,50.0,67.0,83.0,76.0,40.0,75.0,94.0,86.0,41.0,52.0,46.0,82.0,85.0,89.0,80.0,85.0,92.0,15.0,58.0,33.0,92.0,75.0,95.0,84.0,71.0,82.0,68.0,59.0,82.0,85.0,45.0,58.0,58.0,60.0,51.0,65.0,41.0,82.0,59.0,58.0,59.0,55.0,55.0,66.0,56.0,68.0,76.0,62.0,91.0,75.0,67.0,68.0,96.0,96.0,28.0,40.0,57.0,81.0,76.0,76.0,89.0,87.0,55.0,38.0,83.0,64.0,44.0,53.0,71.0,17.0,72.0,45.0,77.0,81.0,71.0,93.0,59.0,91.0,90.0,79.0,38.0,29.0,48.0,43.0,41.0,74.0,71.0,88.0,61.0,65.0,46.0,43.0,62.0,75.0,41.0,94.0,73.0,95.0,42.0,51.0,66.0,81.0,38.0,53.0,91.0,55.0,73.0,29.0,50.0,92.0,45.0,54.0,51.0,51.0,65.0,61.0,59.0,70.0,79.0,89.0,75.0,53.0,90.0,72.0,75.0,65.0,20.0,36.0,69.0,90.0,64.0,63.0,42.0,34.0,58.0,39.0,95.0,55.0,50.0,51.0,63.0,59.0,63.0,85.0,73.0,51.0,97.0,7.0,0.0,100.0,37.0,25.0,20.0,88.0,33.0,17.0,14.0,81.0,49.0,25.0,23.0,25.0,8.0,17.0,82.0,30.0,20.0,0.0,76.0,71.0,74.0,67.0,47.0,63.0,42.0]}],                        {\"font\":{\"family\":\"Courier New, Monospace\",\"size\":18},\"height\":600,\"legend\":{\"itemclick\":\"toggle\",\"orientation\":\"v\",\"title\":{\"text\":\"Legend\"}},\"template\":{\"data\":{\"bar\":[{\"error_x\":{\"color\":\"#2a3f5f\"},\"error_y\":{\"color\":\"#2a3f5f\"},\"marker\":{\"line\":{\"color\":\"#E5ECF6\",\"width\":0.5},\"pattern\":{\"fillmode\":\"overlay\",\"size\":10,\"solidity\":0.2}},\"type\":\"bar\"}],\"barpolar\":[{\"marker\":{\"line\":{\"color\":\"#E5ECF6\",\"width\":0.5},\"pattern\":{\"fillmode\":\"overlay\",\"size\":10,\"solidity\":0.2}},\"type\":\"barpolar\"}],\"carpet\":[{\"aaxis\":{\"endlinecolor\":\"#2a3f5f\",\"gridcolor\":\"white\",\"linecolor\":\"white\",\"minorgridcolor\":\"white\",\"startlinecolor\":\"#2a3f5f\"},\"baxis\":{\"endlinecolor\":\"#2a3f5f\",\"gridcolor\":\"white\",\"linecolor\":\"white\",\"minorgridcolor\":\"white\",\"startlinecolor\":\"#2a3f5f\"},\"type\":\"carpet\"}],\"choropleth\":[{\"colorbar\":{\"outlinewidth\":0,\"ticks\":\"\"},\"type\":\"choropleth\"}],\"contour\":[{\"colorbar\":{\"outlinewidth\":0,\"ticks\":\"\"},\"colorscale\":[[0.0,\"#0d0887\"],[0.1111111111111111,\"#46039f\"],[0.2222222222222222,\"#7201a8\"],[0.3333333333333333,\"#9c179e\"],[0.4444444444444444,\"#bd3786\"],[0.5555555555555556,\"#d8576b\"],[0.6666666666666666,\"#ed7953\"],[0.7777777777777778,\"#fb9f3a\"],[0.8888888888888888,\"#fdca26\"],[1.0,\"#f0f921\"]],\"type\":\"contour\"}],\"contourcarpet\":[{\"colorbar\":{\"outlinewidth\":0,\"ticks\":\"\"},\"type\":\"contourcarpet\"}],\"heatmap\":[{\"colorbar\":{\"outlinewidth\":0,\"ticks\":\"\"},\"colorscale\":[[0.0,\"#0d0887\"],[0.1111111111111111,\"#46039f\"],[0.2222222222222222,\"#7201a8\"],[0.3333333333333333,\"#9c179e\"],[0.4444444444444444,\"#bd3786\"],[0.5555555555555556,\"#d8576b\"],[0.6666666666666666,\"#ed7953\"],[0.7777777777777778,\"#fb9f3a\"],[0.8888888888888888,\"#fdca26\"],[1.0,\"#f0f921\"]],\"type\":\"heatmap\"}],\"heatmapgl\":[{\"colorbar\":{\"outlinewidth\":0,\"ticks\":\"\"},\"colorscale\":[[0.0,\"#0d0887\"],[0.1111111111111111,\"#46039f\"],[0.2222222222222222,\"#7201a8\"],[0.3333333333333333,\"#9c179e\"],[0.4444444444444444,\"#bd3786\"],[0.5555555555555556,\"#d8576b\"],[0.6666666666666666,\"#ed7953\"],[0.7777777777777778,\"#fb9f3a\"],[0.8888888888888888,\"#fdca26\"],[1.0,\"#f0f921\"]],\"type\":\"heatmapgl\"}],\"histogram\":[{\"marker\":{\"pattern\":{\"fillmode\":\"overlay\",\"size\":10,\"solidity\":0.2}},\"type\":\"histogram\"}],\"histogram2d\":[{\"colorbar\":{\"outlinewidth\":0,\"ticks\":\"\"},\"colorscale\":[[0.0,\"#0d0887\"],[0.1111111111111111,\"#46039f\"],[0.2222222222222222,\"#7201a8\"],[0.3333333333333333,\"#9c179e\"],[0.4444444444444444,\"#bd3786\"],[0.5555555555555556,\"#d8576b\"],[0.6666666666666666,\"#ed7953\"],[0.7777777777777778,\"#fb9f3a\"],[0.8888888888888888,\"#fdca26\"],[1.0,\"#f0f921\"]],\"type\":\"histogram2d\"}],\"histogram2dcontour\":[{\"colorbar\":{\"outlinewidth\":0,\"ticks\":\"\"},\"colorscale\":[[0.0,\"#0d0887\"],[0.1111111111111111,\"#46039f\"],[0.2222222222222222,\"#7201a8\"],[0.3333333333333333,\"#9c179e\"],[0.4444444444444444,\"#bd3786\"],[0.5555555555555556,\"#d8576b\"],[0.6666666666666666,\"#ed7953\"],[0.7777777777777778,\"#fb9f3a\"],[0.8888888888888888,\"#fdca26\"],[1.0,\"#f0f921\"]],\"type\":\"histogram2dcontour\"}],\"mesh3d\":[{\"colorbar\":{\"outlinewidth\":0,\"ticks\":\"\"},\"type\":\"mesh3d\"}],\"parcoords\":[{\"line\":{\"colorbar\":{\"outlinewidth\":0,\"ticks\":\"\"}},\"type\":\"parcoords\"}],\"pie\":[{\"automargin\":true,\"type\":\"pie\"}],\"scatter\":[{\"marker\":{\"colorbar\":{\"outlinewidth\":0,\"ticks\":\"\"}},\"type\":\"scatter\"}],\"scatter3d\":[{\"line\":{\"colorbar\":{\"outlinewidth\":0,\"ticks\":\"\"}},\"marker\":{\"colorbar\":{\"outlinewidth\":0,\"ticks\":\"\"}},\"type\":\"scatter3d\"}],\"scattercarpet\":[{\"marker\":{\"colorbar\":{\"outlinewidth\":0,\"ticks\":\"\"}},\"type\":\"scattercarpet\"}],\"scattergeo\":[{\"marker\":{\"colorbar\":{\"outlinewidth\":0,\"ticks\":\"\"}},\"type\":\"scattergeo\"}],\"scattergl\":[{\"marker\":{\"colorbar\":{\"outlinewidth\":0,\"ticks\":\"\"}},\"type\":\"scattergl\"}],\"scattermapbox\":[{\"marker\":{\"colorbar\":{\"outlinewidth\":0,\"ticks\":\"\"}},\"type\":\"scattermapbox\"}],\"scatterpolar\":[{\"marker\":{\"colorbar\":{\"outlinewidth\":0,\"ticks\":\"\"}},\"type\":\"scatterpolar\"}],\"scatterpolargl\":[{\"marker\":{\"colorbar\":{\"outlinewidth\":0,\"ticks\":\"\"}},\"type\":\"scatterpolargl\"}],\"scatterternary\":[{\"marker\":{\"colorbar\":{\"outlinewidth\":0,\"ticks\":\"\"}},\"type\":\"scatterternary\"}],\"surface\":[{\"colorbar\":{\"outlinewidth\":0,\"ticks\":\"\"},\"colorscale\":[[0.0,\"#0d0887\"],[0.1111111111111111,\"#46039f\"],[0.2222222222222222,\"#7201a8\"],[0.3333333333333333,\"#9c179e\"],[0.4444444444444444,\"#bd3786\"],[0.5555555555555556,\"#d8576b\"],[0.6666666666666666,\"#ed7953\"],[0.7777777777777778,\"#fb9f3a\"],[0.8888888888888888,\"#fdca26\"],[1.0,\"#f0f921\"]],\"type\":\"surface\"}],\"table\":[{\"cells\":{\"fill\":{\"color\":\"#EBF0F8\"},\"line\":{\"color\":\"white\"}},\"header\":{\"fill\":{\"color\":\"#C8D4E3\"},\"line\":{\"color\":\"white\"}},\"type\":\"table\"}]},\"layout\":{\"annotationdefaults\":{\"arrowcolor\":\"#2a3f5f\",\"arrowhead\":0,\"arrowwidth\":1},\"autotypenumbers\":\"strict\",\"coloraxis\":{\"colorbar\":{\"outlinewidth\":0,\"ticks\":\"\"}},\"colorscale\":{\"diverging\":[[0,\"#8e0152\"],[0.1,\"#c51b7d\"],[0.2,\"#de77ae\"],[0.3,\"#f1b6da\"],[0.4,\"#fde0ef\"],[0.5,\"#f7f7f7\"],[0.6,\"#e6f5d0\"],[0.7,\"#b8e186\"],[0.8,\"#7fbc41\"],[0.9,\"#4d9221\"],[1,\"#276419\"]],\"sequential\":[[0.0,\"#0d0887\"],[0.1111111111111111,\"#46039f\"],[0.2222222222222222,\"#7201a8\"],[0.3333333333333333,\"#9c179e\"],[0.4444444444444444,\"#bd3786\"],[0.5555555555555556,\"#d8576b\"],[0.6666666666666666,\"#ed7953\"],[0.7777777777777778,\"#fb9f3a\"],[0.8888888888888888,\"#fdca26\"],[1.0,\"#f0f921\"]],\"sequentialminus\":[[0.0,\"#0d0887\"],[0.1111111111111111,\"#46039f\"],[0.2222222222222222,\"#7201a8\"],[0.3333333333333333,\"#9c179e\"],[0.4444444444444444,\"#bd3786\"],[0.5555555555555556,\"#d8576b\"],[0.6666666666666666,\"#ed7953\"],[0.7777777777777778,\"#fb9f3a\"],[0.8888888888888888,\"#fdca26\"],[1.0,\"#f0f921\"]]},\"colorway\":[\"#636efa\",\"#EF553B\",\"#00cc96\",\"#ab63fa\",\"#FFA15A\",\"#19d3f3\",\"#FF6692\",\"#B6E880\",\"#FF97FF\",\"#FECB52\"],\"font\":{\"color\":\"#2a3f5f\"},\"geo\":{\"bgcolor\":\"white\",\"lakecolor\":\"white\",\"landcolor\":\"#E5ECF6\",\"showlakes\":true,\"showland\":true,\"subunitcolor\":\"white\"},\"hoverlabel\":{\"align\":\"left\"},\"hovermode\":\"closest\",\"mapbox\":{\"style\":\"light\"},\"paper_bgcolor\":\"white\",\"plot_bgcolor\":\"#E5ECF6\",\"polar\":{\"angularaxis\":{\"gridcolor\":\"white\",\"linecolor\":\"white\",\"ticks\":\"\"},\"bgcolor\":\"#E5ECF6\",\"radialaxis\":{\"gridcolor\":\"white\",\"linecolor\":\"white\",\"ticks\":\"\"}},\"scene\":{\"xaxis\":{\"backgroundcolor\":\"#E5ECF6\",\"gridcolor\":\"white\",\"gridwidth\":2,\"linecolor\":\"white\",\"showbackground\":true,\"ticks\":\"\",\"zerolinecolor\":\"white\"},\"yaxis\":{\"backgroundcolor\":\"#E5ECF6\",\"gridcolor\":\"white\",\"gridwidth\":2,\"linecolor\":\"white\",\"showbackground\":true,\"ticks\":\"\",\"zerolinecolor\":\"white\"},\"zaxis\":{\"backgroundcolor\":\"#E5ECF6\",\"gridcolor\":\"white\",\"gridwidth\":2,\"linecolor\":\"white\",\"showbackground\":true,\"ticks\":\"\",\"zerolinecolor\":\"white\"}},\"shapedefaults\":{\"line\":{\"color\":\"#2a3f5f\"}},\"ternary\":{\"aaxis\":{\"gridcolor\":\"white\",\"linecolor\":\"white\",\"ticks\":\"\"},\"baxis\":{\"gridcolor\":\"white\",\"linecolor\":\"white\",\"ticks\":\"\"},\"bgcolor\":\"#E5ECF6\",\"caxis\":{\"gridcolor\":\"white\",\"linecolor\":\"white\",\"ticks\":\"\"}},\"title\":{\"x\":0.05},\"xaxis\":{\"automargin\":true,\"gridcolor\":\"white\",\"linecolor\":\"white\",\"ticks\":\"\",\"title\":{\"standoff\":15},\"zerolinecolor\":\"white\",\"zerolinewidth\":2},\"yaxis\":{\"automargin\":true,\"gridcolor\":\"white\",\"linecolor\":\"white\",\"ticks\":\"\",\"title\":{\"standoff\":15},\"zerolinecolor\":\"white\",\"zerolinewidth\":2}}},\"title\":{\"text\":\"Graduation Rate by Residential Level and Controlling for Revenue Level\"},\"width\":1200},                        {\"responsive\": true}                    ).then(function(){\n",
       "                            \n",
       "var gd = document.getElementById('35cb0d0b-76b0-46ef-b4eb-0e96a5bc6dae');\n",
       "var x = new MutationObserver(function (mutations, observer) {{\n",
       "        var display = window.getComputedStyle(gd).display;\n",
       "        if (!display || display === 'none') {{\n",
       "            console.log([gd, 'removed!']);\n",
       "            Plotly.purge(gd);\n",
       "            observer.disconnect();\n",
       "        }}\n",
       "}});\n",
       "\n",
       "// Listen for the removal of the full notebook cells\n",
       "var notebookContainer = gd.closest('#notebook-container');\n",
       "if (notebookContainer) {{\n",
       "    x.observe(notebookContainer, {childList: true});\n",
       "}}\n",
       "\n",
       "// Listen for the clearing of the current output cell\n",
       "var outputEl = gd.closest('.output');\n",
       "if (outputEl) {{\n",
       "    x.observe(outputEl, {childList: true});\n",
       "}}\n",
       "\n",
       "                        })                };                });            </script>        </div>"
      ]
     },
     "metadata": {},
     "output_type": "display_data"
    }
   ],
   "source": [
    "\n",
    "fig = go.Figure()\n",
    "\n",
    "fig.add_trace(\n",
    "    go.Violin(x=X[\"Residential_Level\"][X[\"Residential_Level\"] == nonres], y=X[total][X[\"Residential_Level\"] == nonres],\n",
    "             name=nonres)\n",
    ")\n",
    "fig.add_trace(\n",
    "    go.Violin(x=X[\"Residential_Level\"][X[\"Residential_Level\"] == res], y=X[total][X[\"Residential_Level\"] == res],\n",
    "             name=res)\n",
    ")\n",
    "fig.add_trace(\n",
    "    go.Violin(x=X[\"Residential_Level\"][X[\"Residential_Level\"] == highly], y=X[total][X[\"Residential_Level\"] == highly],\n",
    "             name=highly)\n",
    ")\n",
    "\n",
    "\n",
    "fig.update_traces(box_visible=True, meanline_visible=True)\n",
    "\n",
    "fig.update_layout(\n",
    "    height=600,\n",
    "    width = 1200,\n",
    "    title=\"Graduation Rate by Residential Level and Controlling for Revenue Level\",\n",
    "    legend={\n",
    "        \"title\": \"Legend\",\n",
    "        \"orientation\": \"v\",   \n",
    "        \"itemclick\": \"toggle\"\n",
    "    },\n",
    "    font={\n",
    "       \"family\": \"Courier New, Monospace\",\n",
    "        \"size\": 18\n",
    "    }\n",
    ")\n",
    "\n",
    "fig.update_yaxes()\n"
   ]
  },
  {
   "cell_type": "code",
   "execution_count": 166,
   "id": "28103af0",
   "metadata": {
    "cell_style": "split",
    "hide_input": false,
    "slideshow": {
     "slide_type": "fragment"
    }
   },
   "outputs": [
    {
     "data": {
      "application/vnd.plotly.v1+json": {
       "config": {
        "plotlyServerURL": "https://plot.ly"
       },
       "data": [
        {
         "hovertemplate": "<b>OLS trendline</b><br>Graduation rate  total cohort (DRVGR2019) = -7.67651 * Log_Core_Revenues + 166.718<br>R<sup>2</sup>=0.243647<br><br>Residential_Level=Missing<br>Log_Core_Revenues=%{x}<br>Graduation rate  total cohort (DRVGR2019)=%{y} <b>(trend)</b><extra></extra>",
         "legendgroup": "Missing",
         "line": {
          "width": 4
         },
         "marker": {
          "color": "#636efa",
          "line": {
           "width": 2
          },
          "size": 10,
          "symbol": "circle"
         },
         "mode": "lines",
         "name": "Missing",
         "showlegend": true,
         "type": "scattergl",
         "x": [
          11.914215201667913,
          12.36518528018719,
          13.316402679152272,
          13.334775957244753,
          13.606120738957637,
          13.765709833350595,
          13.815640549515006,
          13.93147950471148,
          13.971566849531035,
          13.975785020529553,
          14.051922493655102,
          14.06357537865173,
          14.108733004161817,
          14.222973668735111,
          14.250204316732567,
          14.319787586408497,
          14.376437485979759,
          14.646863252902174,
          14.693247554206181,
          14.712833737769854,
          14.753487632025244,
          15.013865612239478,
          15.021371478676086,
          15.102332589539275,
          15.175120793497562,
          15.281060778812495,
          15.31262555113909,
          15.421301829478177,
          15.495806667749482,
          15.518803956284733,
          15.655151842429818,
          15.672470204387245,
          15.676925745614371,
          15.724912015865018,
          15.772637420961054,
          15.81196946001926,
          16.032575779303222,
          16.07279928635704,
          16.109260132470865,
          16.16697638245498,
          16.17401387385708,
          16.194663744530295,
          16.224372386758255,
          16.256791547047133,
          16.305075341780796,
          16.335089853724988,
          16.346925882413768,
          16.377686843243573,
          16.380286746586798,
          16.388306893360383,
          16.483390357768805,
          16.51472524057903,
          16.560462503437595,
          16.56724885040451,
          16.736405755171127,
          16.80965201684331,
          16.852957835187134,
          16.869345074811033,
          16.947203776638506,
          16.947203776638506,
          16.95694820708573,
          17.043760864748148,
          17.090304643555893,
          17.213826826536504,
          17.215621149283685,
          17.39258829635953,
          17.539828364770052,
          17.60348862035313,
          17.605892751075288,
          17.663261737355217,
          17.69823755541744,
          17.733996255140116,
          17.90063558390446,
          17.94697792914853,
          17.969846160940556,
          18.02026583210881,
          18.07255258624555,
          18.141003348419872,
          18.143424136984166,
          18.16709812670318,
          18.387353696183226,
          18.412037427883128,
          18.41280830748062,
          18.509660181373302,
          18.63180971235037,
          18.944996957127657,
          19.30897514636838,
          19.360905810753135,
          19.89166259288022,
          20.062447254151852
         ],
         "xaxis": "x",
         "y": [
          75.25813390983663,
          71.79625725198497,
          64.49422665866517,
          64.35318399178708,
          62.27020285670601,
          61.045115457247746,
          60.66182177761618,
          59.772582792224256,
          59.46485185858508,
          59.43247102354931,
          58.848000892256835,
          58.75854739525562,
          58.41189439736567,
          57.53492470713189,
          57.32588834491892,
          56.79173162689666,
          56.356858063578855,
          54.28093175542064,
          53.92486216760598,
          53.77450861883372,
          53.46242856235723,
          51.463634196926435,
          51.406015332501624,
          50.78451649423883,
          50.225757063729574,
          49.41250762709487,
          49.170200312856565,
          48.335945693393626,
          47.76400850111841,
          47.58746956834604,
          46.5407935539574,
          46.40784896213549,
          46.373645951986944,
          46.00527883232455,
          45.638914246827056,
          45.33698142598806,
          43.643494643425214,
          43.334718458930325,
          43.054826381607995,
          42.61176696787753,
          42.557743589442396,
          42.39922463513399,
          42.171165923560196,
          41.92229989094065,
          41.551648821384546,
          41.32124209764453,
          41.23038269612084,
          40.99424584948248,
          40.97428766350674,
          40.912720920544146,
          40.18281168340812,
          39.942269118514645,
          39.5911665282852,
          39.53907106280779,
          38.240536264116145,
          37.678260548639855,
          37.34582296837755,
          37.220026147163,
          36.6223429852287,
          36.6223429852287,
          36.547539760101074,
          35.88112145990172,
          35.523827641314455,
          34.57560827520592,
          34.56183413733959,
          33.20334392956346,
          32.07305396087082,
          31.58436532423326,
          31.56590998888862,
          31.125516348718094,
          30.857024105205085,
          30.582522062205868,
          29.303313462771712,
          28.947565951102405,
          28.77201772380738,
          28.38497057583021,
          27.98359074536529,
          27.45812773335902,
          27.439544523910115,
          27.257810887222774,
          25.567016639301954,
          25.377531707438777,
          25.37161404191795,
          24.628129590357076,
          23.690447402116348,
          21.286262149313558,
          18.492179665090163,
          18.093533361436045,
          14.019173215248031,
          12.708142926239418
         ],
         "yaxis": "y"
        },
        {
         "hovertemplate": "<b>OLS trendline</b><br>Graduation rate  total cohort (DRVGR2019) = 8.58823 * Log_Core_Revenues + -90.486<br>R<sup>2</sup>=0.411771<br><br>Residential_Level=highly residential<br>Log_Core_Revenues=%{x}<br>Graduation rate  total cohort (DRVGR2019)=%{y} <b>(trend)</b><extra></extra>",
         "legendgroup": "highly residential",
         "line": {
          "width": 4
         },
         "marker": {
          "color": "#EF553B",
          "line": {
           "width": 2
          },
          "size": 10,
          "symbol": "circle"
         },
         "mode": "lines",
         "name": "highly residential",
         "showlegend": true,
         "type": "scattergl",
         "x": [
          13.187828968679552,
          13.38745929213109,
          13.478302050362093,
          13.507088218769805,
          13.611358030175182,
          13.65538053745574,
          13.845211097733396,
          13.869064594946437,
          14.033013430519741,
          14.07801173613558,
          14.081466058524835,
          14.201155198617124,
          14.245168641669911,
          14.248187379485104,
          14.253940957370904,
          14.280848946879365,
          14.281864409868337,
          14.285249777256778,
          14.30201602976782,
          14.401384839871586,
          14.427436294747496,
          14.432968747988564,
          14.435834863356458,
          14.508309677958168,
          14.556046921778023,
          14.56027770454878,
          14.570343914339837,
          14.572265670548024,
          14.625543038002705,
          14.625871723413033,
          14.627809170832036,
          14.651495380863802,
          14.652907854831325,
          14.687884929368852,
          14.727211975024613,
          14.745539684434878,
          14.752119078533832,
          14.759039732223084,
          14.764933118686821,
          14.767195074247498,
          14.775143880984265,
          14.807890469532321,
          14.813366898847304,
          14.814171747736527,
          14.820030458352202,
          14.824153280330204,
          14.936035338102236,
          14.947949873308923,
          14.98087890721091,
          14.990580983555606,
          15.022509877768364,
          15.044548003230428,
          15.072834537787205,
          15.072964222210581,
          15.07945647780485,
          15.115844171807984,
          15.119628018974549,
          15.120188056411843,
          15.171182038411917,
          15.211534928638676,
          15.21359909356687,
          15.232202689681666,
          15.241420265897801,
          15.266516940794641,
          15.273287089693586,
          15.276821710279583,
          15.291716690028474,
          15.31903157776936,
          15.324382221632742,
          15.33844852624104,
          15.356279832056462,
          15.42300979237596,
          15.428974156439892,
          15.458630217918893,
          15.461642918305948,
          15.494450838736427,
          15.50953830114341,
          15.537343505704113,
          15.561592164783349,
          15.568556572028625,
          15.569412557733303,
          15.577889275765465,
          15.6010857774115,
          15.604686693256726,
          15.60679074568863,
          15.629080604527116,
          15.63998162114907,
          15.667346891173692,
          15.684682509623377,
          15.726806339774887,
          15.72764392588486,
          15.747842944985837,
          15.755399760300701,
          15.825658691929242,
          15.843582486554888,
          15.845707757351407,
          15.852500783708647,
          15.87598765597387,
          15.881919037052349,
          15.898163562373012,
          15.947883676314092,
          15.963756820098432,
          15.978677364526693,
          15.979539541274614,
          15.98829386612072,
          15.996673727573409,
          16.022979152396573,
          16.04303196071306,
          16.076265022938273,
          16.086799289033884,
          16.092809329657808,
          16.10268511628688,
          16.124207435892718,
          16.148922871717836,
          16.156234625397033,
          16.174584957662674,
          16.174681728823053,
          16.176932228116417,
          16.1794904231916,
          16.189027720983805,
          16.19126794979197,
          16.19580520818267,
          16.19952475099184,
          16.205140127400156,
          16.215597518169304,
          16.22595296701423,
          16.237627112782018,
          16.253010910597027,
          16.254793686971155,
          16.255181058084844,
          16.279669794286164,
          16.282082652311075,
          16.290890976955964,
          16.301402888476048,
          16.30469048096744,
          16.319501112777182,
          16.320344908925737,
          16.33678152156046,
          16.33976747982013,
          16.36832644787834,
          16.373467603011502,
          16.37432018270503,
          16.375410109668703,
          16.375410109668703,
          16.385961599522844,
          16.392434623870695,
          16.39425198149835,
          16.39630222230744,
          16.396794696567525,
          16.409562975296353,
          16.420900446428877,
          16.42328750355183,
          16.440018050195015,
          16.44297783883775,
          16.44627574545694,
          16.471351115134343,
          16.471909646283603,
          16.473549309431466,
          16.478257000316628,
          16.488631507073897,
          16.489666448743893,
          16.49399544747042,
          16.494005884817224,
          16.49451855403229,
          16.4952708121541,
          16.502775773414296,
          16.50341390052953,
          16.509101661651258,
          16.514864388343252,
          16.51627004629157,
          16.52160538189533,
          16.52332839873958,
          16.523737810058698,
          16.52906458519013,
          16.532432620792047,
          16.5387376058788,
          16.547658723343872,
          16.548390923171823,
          16.551704061578935,
          16.553038910806674,
          16.557988723273883,
          16.572250664241896,
          16.57831349268789,
          16.583144085982337,
          16.58703796721061,
          16.588069092248404,
          16.59315995336927,
          16.61000863287357,
          16.61004421895462,
          16.618702076129452,
          16.630357323113067,
          16.63793502851221,
          16.656689270545296,
          16.664944747532157,
          16.6758248031724,
          16.685583912354208,
          16.69246295543151,
          16.695908239725355,
          16.71180098813487,
          16.713070750378243,
          16.713310105844755,
          16.714276596210674,
          16.71878729833043,
          16.72212425412229,
          16.73322372082391,
          16.735043843945547,
          16.73927738559209,
          16.7414370225443,
          16.745280470535,
          16.746420910226664,
          16.746724416845225,
          16.7484702169162,
          16.752604205056887,
          16.759294691186955,
          16.761861760297645,
          16.772032298313167,
          16.776049083247095,
          16.780797283734078,
          16.787436547272854,
          16.790581447596143,
          16.79385620633716,
          16.79837251314798,
          16.799535264629814,
          16.821763791610806,
          16.823219079112597,
          16.8256969654034,
          16.82882795294506,
          16.831511722645587,
          16.832993315411404,
          16.83446025899695,
          16.836041194614417,
          16.840245119711287,
          16.844349797594404,
          16.85190807775415,
          16.853164221481823,
          16.858437914698325,
          16.861324684907395,
          16.861977152209125,
          16.864319746807926,
          16.867032678742437,
          16.867261662947428,
          16.868824380823774,
          16.8690674900346,
          16.887966066603,
          16.889220577856676,
          16.89419496424561,
          16.90673254066078,
          16.908547248781296,
          16.911765177083588,
          16.91189318174275,
          16.929934742910827,
          16.930127171627326,
          16.93026048250118,
          16.936372459204758,
          16.93713710419061,
          16.941434823295207,
          16.94314877882201,
          16.945550622667437,
          16.94682129621032,
          16.952493230809,
          16.955910979628705,
          16.96123948101037,
          16.96206890524778,
          16.97067444264939,
          16.971793743238816,
          16.97579473063223,
          16.98262565289816,
          16.986956059660034,
          16.98951453203694,
          16.995026194352963,
          16.997521797428977,
          17.00264036838526,
          17.00271576146981,
          17.00397410208174,
          17.005411639995025,
          17.006112949749937,
          17.006718985955548,
          17.007434748572933,
          17.010683229565736,
          17.02312323100684,
          17.0277699423856,
          17.03171052591851,
          17.03237788715475,
          17.032831614806817,
          17.03571761634781,
          17.03919763019765,
          17.041159314659904,
          17.05075091055342,
          17.05417669632735,
          17.06027558653913,
          17.078219557595578,
          17.095138657677385,
          17.0972089826187,
          17.097881647467176,
          17.099101038457455,
          17.10222325841355,
          17.103427775808907,
          17.10421762279035,
          17.10765914915603,
          17.111046675044474,
          17.12141974958033,
          17.128014384932538,
          17.13032501966176,
          17.131660197080514,
          17.133263828734172,
          17.133396907906892,
          17.13702997098308,
          17.137447969977988,
          17.13924432822302,
          17.14014815397655,
          17.14271490958456,
          17.145733427414378,
          17.16317719664816,
          17.168817340726807,
          17.174667738115478,
          17.176629765625314,
          17.178488839358113,
          17.18291438211917,
          17.184565735941778,
          17.195031357573317,
          17.199130694329902,
          17.202107334321294,
          17.2077048330147,
          17.20851090218902,
          17.214306859338883,
          17.21649284982961,
          17.21664127073744,
          17.216970738425132,
          17.2175919154713,
          17.223684678817367,
          17.225920869953775,
          17.240706750616514,
          17.246102132851398,
          17.24754023483859,
          17.250339504859053,
          17.262869763845707,
          17.267366769450565,
          17.267701674150405,
          17.269330623317657,
          17.273403283302976,
          17.279949714101352,
          17.28019390702361,
          17.283862224170015,
          17.286853058132852,
          17.288304649293615,
          17.30812479268469,
          17.30871853025356,
          17.3132388286075,
          17.316762423160466,
          17.323168150397873,
          17.326465195440868,
          17.327228549071474,
          17.328603723820798,
          17.329580032615784,
          17.332164330000847,
          17.338409303413588,
          17.34804887244459,
          17.348427951023417,
          17.35404471176801,
          17.371401529194376,
          17.383220213434036,
          17.38398841660964,
          17.387748661950813,
          17.38839430944012,
          17.388789355798643,
          17.3899045459582,
          17.39078185572281,
          17.396633795686316,
          17.400745911425894,
          17.406192282311302,
          17.406717286158322,
          17.417905768856432,
          17.42087752500977,
          17.422015260218842,
          17.4278964196709,
          17.442188491359968,
          17.44337219265723,
          17.444844657643152,
          17.45146327909275,
          17.452738521967284,
          17.453552113982028,
          17.45539297401185,
          17.458079703024783,
          17.458278322590658,
          17.462056459062133,
          17.467858591533755,
          17.46976251593411,
          17.4757658209516,
          17.476363693233914,
          17.47823272362364,
          17.48170537527942,
          17.482071266509642,
          17.48728670583472,
          17.492434428048085,
          17.50195988671397,
          17.504717833338947,
          17.505980496586897,
          17.5098821526259,
          17.51509364823459,
          17.523285365180502,
          17.527320121151856,
          17.52942407856169,
          17.54177697763591,
          17.542617876751283,
          17.560551843383596,
          17.57771695788167,
          17.58233637780777,
          17.582774391639294,
          17.58629946092115,
          17.587937532253232,
          17.589026934781145,
          17.591570714314845,
          17.594378260037463,
          17.595686032277037,
          17.599362862266023,
          17.60124095883673,
          17.604815992920116,
          17.60540683253647,
          17.61147253423144,
          17.6145612401809,
          17.617693317598864,
          17.619395594178982,
          17.623362073896068,
          17.624290471077376,
          17.626466263127124,
          17.629574059225487,
          17.63315587068683,
          17.63699597662623,
          17.643762248092926,
          17.643836317688805,
          17.64552594487867,
          17.64578260248479,
          17.648468710796067,
          17.65213819674807,
          17.654964074857936,
          17.656103596026906,
          17.657025666262044,
          17.66409470407177,
          17.665065558589074,
          17.672069583775876,
          17.677595876070068,
          17.678624498154537,
          17.682353251857865,
          17.682842217578358,
          17.689315903812663,
          17.69250442450502,
          17.693664756008225,
          17.703070733400004,
          17.71049584221806,
          17.712744745918982,
          17.714297856597085,
          17.71527667367641,
          17.718636542014007,
          17.72041301233309,
          17.730193382934125,
          17.730481693383453,
          17.733283799052945,
          17.734143886982576,
          17.74833410437178,
          17.75098087408688,
          17.76639573150688,
          17.76866049701402,
          17.776714146576523,
          17.776911269211162,
          17.778309221829595,
          17.781029703732283,
          17.790962569245487,
          17.791577874928542,
          17.79214083216682,
          17.801546763912597,
          17.806682357798362,
          17.80799895710624,
          17.81338335266685,
          17.818355358177282,
          17.821640346678247,
          17.825259005918266,
          17.82691866577453,
          17.8310659390201,
          17.83418484365508,
          17.837896157769052,
          17.838382874017256,
          17.842174672808298,
          17.84363739441797,
          17.850186800342414,
          17.851983799347433,
          17.86141637926056,
          17.862331169030785,
          17.869151156894606,
          17.876421596899352,
          17.88265124409502,
          17.882863056717383,
          17.8833983903725,
          17.88371593222685,
          17.886336700877845,
          17.893043967963553,
          17.895339831248712,
          17.899326875539863,
          17.905654710805543,
          17.909923451185094,
          17.918038213827682,
          17.920376129755624,
          17.926248462075762,
          17.92761099745528,
          17.930644237865057,
          17.937256159237222,
          17.938271781760374,
          17.93924997695076,
          17.944792796011104,
          17.946180331314125,
          17.949808337428916,
          17.950301924331523,
          17.957338700988664,
          17.968198616723534,
          17.974979219839376,
          17.97818972395155,
          17.98005631247074,
          17.983739039861263,
          17.98377611295578,
          17.984756232483186,
          17.993034273299294,
          17.993146376377073,
          17.99481130616144,
          17.995282657452687,
          17.99680892190747,
          17.997484361813886,
          17.999234413669825,
          18.00149110384577,
          18.00496928078019,
          18.00746991505144,
          18.007990577859147,
          18.009033385052152,
          18.011418435595814,
          18.021665734163093,
          18.02641110702989,
          18.02701901606713,
          18.030215453977036,
          18.031119245369414,
          18.031582263908994,
          18.036150372063172,
          18.037699532968638,
          18.039080837932207,
          18.04545911141045,
          18.050260594580813,
          18.051210647203234,
          18.059352346617516,
          18.06693446442923,
          18.071814333905827,
          18.071995794821465,
          18.07220466867333,
          18.077466708389917,
          18.085048316592616,
          18.085187979491646,
          18.085848334080044,
          18.08595045925156,
          18.097540598729385,
          18.097730669415252,
          18.09891717260089,
          18.099127105582223,
          18.10005337970403,
          18.102953508871664,
          18.104942128568933,
          18.105668583828628,
          18.118004268544553,
          18.120677327883524,
          18.124098179373842,
          18.13532964600076,
          18.136011953669065,
          18.13922374877248,
          18.1394289661042,
          18.1417199701753,
          18.14186650247069,
          18.147236024351756,
          18.154981769514926,
          18.16008888883902,
          18.16012600231049,
          18.163407132097692,
          18.16774568744838,
          18.178879706667296,
          18.18380651941139,
          18.19222891613465,
          18.197881783259987,
          18.208203974699646,
          18.20991503262623,
          18.21171033988807,
          18.2141625227654,
          18.215082371853903,
          18.216420905214438,
          18.217877787948687,
          18.21815207574956,
          18.218311467829633,
          18.224508341538296,
          18.235009900554687,
          18.24955744397846,
          18.250914865698384,
          18.25658409992907,
          18.257666939082792,
          18.261309795535222,
          18.273168078676772,
          18.275863019622843,
          18.27860745296782,
          18.278713872506742,
          18.284215795514623,
          18.285248757772177,
          18.289519454698283,
          18.295990155993326,
          18.30123426303774,
          18.302593497028425,
          18.303654851590643,
          18.30633600183442,
          18.31566091469878,
          18.325377055126975,
          18.331431759931775,
          18.335242674120252,
          18.343199605989327,
          18.355773866980112,
          18.37297482827304,
          18.38437404014681,
          18.385026778385654,
          18.39002955927833,
          18.39096176758363,
          18.392871044039097,
          18.394244361879327,
          18.403094030305073,
          18.403290404748283,
          18.403810010053235,
          18.406642669648438,
          18.414928964135612,
          18.419013865482025,
          18.42710116884328,
          18.430932791660663,
          18.433060072894747,
          18.433736722532924,
          18.43932705591475,
          18.440022323806033,
          18.440318083079404,
          18.44693311509643,
          18.44996343040755,
          18.451985593780776,
          18.454057491275663,
          18.458472773561624,
          18.45933326686999,
          18.468041315312202,
          18.476826361754178,
          18.495723279265864,
          18.49619006518622,
          18.50023524324081,
          18.513764228327638,
          18.518372875564822,
          18.51908904688596,
          18.52151891621273,
          18.526239526953923,
          18.538787709360065,
          18.54044575198104,
          18.543132597032496,
          18.554774084904345,
          18.55640847286356,
          18.564616572229657,
          18.565670545055678,
          18.56567440308701,
          18.569505839424256,
          18.574654265230834,
          18.57715567775034,
          18.583117043036342,
          18.58528453910658,
          18.59026441727593,
          18.59565662890517,
          18.59594876629082,
          18.596798371110115,
          18.6084663041874,
          18.624119423192198,
          18.634780378056416,
          18.644391862170004,
          18.645373542563,
          18.659244447256352,
          18.661404997090063,
          18.666598831475206,
          18.670080375735537,
          18.694358674550895,
          18.703984244433514,
          18.71051636086178,
          18.711515257236996,
          18.71230132279557,
          18.716128472989414,
          18.72073453511234,
          18.722718651529256,
          18.724008093294092,
          18.73047558209819,
          18.730951866838687,
          18.734362598666106,
          18.735599923168113,
          18.738101214167934,
          18.75301731907399,
          18.755966562772514,
          18.760406453714022,
          18.761180573208172,
          18.76234661314206,
          18.774066726181257,
          18.77914366750247,
          18.779875039657647,
          18.78460275038277,
          18.78692053356331,
          18.79191319730041,
          18.79578285987825,
          18.801660613633317,
          18.801826089452963,
          18.80375708358212,
          18.81410835793,
          18.818631019638502,
          18.84147640957513,
          18.84835734042575,
          18.85346833683692,
          18.854154877967087,
          18.869784018244317,
          18.870164829979103,
          18.888786229111894,
          18.893553497072993,
          18.90737152129751,
          18.921094354346213,
          18.931676353269992,
          18.935458722862556,
          18.95203814088777,
          18.955051442138583,
          18.95740531580802,
          18.958729529911906,
          18.976334407314198,
          18.980019247733804,
          19.010941667572492,
          19.01477497427288,
          19.025567591538124,
          19.038177024965766,
          19.038373626468474,
          19.043875054874555,
          19.049449390576104,
          19.052425456814692,
          19.054306450254803,
          19.056775843254147,
          19.060490436921636,
          19.090489740394446,
          19.094231212114202,
          19.113584544897893,
          19.1185817620998,
          19.122103586563394,
          19.133474794580923,
          19.14452413306005,
          19.147044064513736,
          19.157423668629956,
          19.173718159085375,
          19.177399770757724,
          19.178257064668,
          19.191062997542716,
          19.195053009824903,
          19.203782164114223,
          19.21469988164638,
          19.21559448965992,
          19.22024068286856,
          19.228819895435414,
          19.232970036206325,
          19.246709731201566,
          19.26917157817751,
          19.2801513576993,
          19.28403874144923,
          19.28753205353464,
          19.30418305473588,
          19.34224156448203,
          19.34314438416437,
          19.344090078346515,
          19.348023381901072,
          19.350149352940186,
          19.361140821780683,
          19.391710716714705,
          19.434384896813093,
          19.455209519062365,
          19.58592157127405,
          19.600248160834838,
          19.60955776310077,
          19.648893375449994,
          19.65988105978058,
          19.710822070165342,
          19.77236065279159,
          19.78982385975436,
          19.794221624062146,
          19.798028215753195,
          19.816425499096642,
          19.836439242639067,
          19.856581602617577,
          19.86072629535737,
          19.89101809784879,
          19.949303316976554,
          19.9797449390583,
          19.988830851309984,
          19.999566741511778,
          20.001240151510185,
          20.027234067958755,
          20.13503394454524,
          20.148130999083314,
          20.15165995425316,
          20.205172198365634,
          20.27227550394921,
          20.283907121268943,
          20.323450737436666,
          20.335464305289634,
          20.387957217260347,
          20.424617184101443,
          20.440835284427298,
          20.63468249087873,
          20.68062857081715,
          20.689822813234162,
          20.723730825822326,
          20.751190294665488,
          20.79077227383663,
          20.805466829231808,
          20.91623417755841,
          20.925024748450284,
          20.94162730028256,
          20.94903496082637,
          20.950095386614304,
          21.04584558615151,
          21.046486370606157,
          21.059744502118388,
          21.160053239972147,
          21.23892316918658,
          21.24186934380586,
          21.3267243844082,
          21.398150263995742,
          21.565299293213947,
          21.605263216263012,
          21.663270714185046,
          21.695547753580286,
          21.926747620741494,
          21.932624252199957,
          22.060224460098546,
          22.223790064910432,
          22.258245038802183,
          22.297075535467393,
          22.349720539047652,
          22.389158938237944,
          22.429529325845643,
          22.64588319500379,
          22.70891373579819
         ],
         "xaxis": "x",
         "y": [
          22.77408131263968,
          24.488552205689814,
          25.26873059812351,
          25.51595279865981,
          26.41144579585341,
          26.78952116069108,
          28.419829445426416,
          28.6246887371519,
          30.032718848409658,
          30.41917459261255,
          30.448841103637506,
          31.476758823523596,
          31.85475634269929,
          31.88068195374082,
          31.9300949970378,
          32.16118696746159,
          32.16990799594794,
          32.198982305649054,
          32.3429747183182,
          33.19637679498864,
          33.42011265001368,
          33.467626624268576,
          33.4922414788128,
          34.11467176878827,
          34.524650140953995,
          34.56098507138874,
          34.647435984214596,
          34.66394046622669,
          35.12149868774388,
          35.124321513250706,
          35.14096075497143,
          35.344383346108955,
          35.35651399571489,
          35.656905114568104,
          35.994654780654386,
          36.15205734243408,
          36.20856268431568,
          36.267998841638644,
          36.318612592991045,
          36.33803878487964,
          36.406304955815216,
          36.687540150657554,
          36.734572978616995,
          36.74148520502638,
          36.79180115226181,
          36.827208890707055,
          37.788077601372976,
          37.89040235576354,
          38.17320443304877,
          38.256528084523836,
          38.530740733326866,
          38.720009197099444,
          38.96294042780809,
          38.96405418730774,
          39.01981116377388,
          39.332317005346255,
          39.36481355055372,
          39.369623280201296,
          39.80757126499768,
          40.15413111897206,
          40.17185863965457,
          40.3316305795754,
          40.41079323309319,
          40.62632921920513,
          40.68447280695358,
          40.714828937264315,
          40.842750431306484,
          41.077336936848326,
          41.12328949056982,
          41.24409413290442,
          41.39723346703488,
          41.970325634016916,
          42.02154895723939,
          42.27624199850271,
          42.302115758730025,
          42.583877685811274,
          42.713452264961035,
          42.952249723535516,
          43.160502755780584,
          43.220314678653466,
          43.227666079734036,
          43.30046607366012,
          43.49968293713613,
          43.53060842630143,
          43.548678509992016,
          43.740108917597695,
          43.833729342490386,
          44.068748542612354,
          44.217630800232996,
          44.5793998914707,
          44.58659327262217,
          44.76006707017973,
          44.8249667290967,
          45.42836650910644,
          45.582300158300484,
          45.60055247016115,
          45.65889253475578,
          45.86060316754592,
          45.911543225342825,
          46.05105492553028,
          46.47806263997609,
          46.61438483055778,
          46.742525879915576,
          46.74993045109204,
          46.82511459585248,
          46.897082763313335,
          47.122999770353516,
          47.295217876241,
          47.58063101832752,
          47.67110170578775,
          47.722717309758195,
          47.80753282490028,
          47.99237142996361,
          48.20463324770046,
          48.26742826122043,
          48.42502511325816,
          48.42585620612468,
          48.4451840089684,
          48.46715437358691,
          48.54906286915201,
          48.56830246671899,
          48.60726947989917,
          48.63921376457256,
          48.687439901960516,
          48.77725036652808,
          48.86618533052621,
          48.9664455654146,
          49.09856514084976,
          49.1138760322485,
          49.11720286400302,
          49.32751773350199,
          49.3482399102798,
          49.42388781766729,
          49.51416651891819,
          49.542401115432654,
          49.66959821007467,
          49.676844924458294,
          49.8180063144483,
          49.84365040716705,
          50.08892135911856,
          50.1330747756941,
          50.14039692517164,
          50.149757467310025,
          50.149757467310025,
          50.24037607634929,
          50.295967890471104,
          50.31157577358729,
          50.329183710749106,
          50.333413192372404,
          50.44307009146689,
          50.540438887556775,
          50.56093948028533,
          50.70462524279185,
          50.73004458485278,
          50.75836776145664,
          50.97372077346944,
          50.97851756677073,
          50.99259936903812,
          51.03303009547554,
          51.12212873318532,
          51.13101704904102,
          51.16819548057566,
          51.16828511889804,
          51.172688039415334,
          51.17914860428144,
          51.24360292871276,
          51.24908331038134,
          51.29793110424964,
          51.347422719587456,
          51.35949483166095,
          51.40531591454632,
          51.420113577429504,
          51.42362969551107,
          51.469377259101435,
          51.49830271945436,
          51.552451373954625,
          51.62906797188876,
          51.63535627153789,
          51.66381026222143,
          51.675274252801614,
          51.717784374782894,
          51.840269186936155,
          51.89233814480036,
          51.9338243852487,
          51.96726592815381,
          51.97612146589893,
          52.01984294598964,
          52.16454326053611,
          52.16484888194222,
          52.23920454027004,
          52.33930246807594,
          52.40438153581633,
          52.56544725735111,
          52.6363471825604,
          52.72978758974628,
          52.813601052275516,
          52.87267984814261,
          52.90226873793628,
          53.03875929752451,
          53.04966430619112,
          53.05171994570185,
          53.06002038609654,
          53.0987593279458,
          53.127417867778945,
          53.222742627361015,
          53.238374261172254,
          53.27473288546349,
          53.293280341732185,
          53.326288752453934,
          53.336083109457576,
          53.33868969373984,
          53.35368302418695,
          53.38918666019214,
          53.446646085854695,
          53.46869266272054,
          53.5560395702083,
          53.590536638257845,
          53.631315270424295,
          53.68833478475315,
          53.71534390828009,
          53.743468285609964,
          53.78225536182845,
          53.79224133759098,
          53.98314501317182,
          53.99564335520574,
          54.016924009609426,
          54.04381364698449,
          54.06686247521685,
          54.079586732876834,
          54.092185180024956,
          54.10576261682448,
          54.14186688741091,
          54.177118800217926,
          54.2420310395579,
          54.25281908929577,
          54.298110773255615,
          54.322903016301666,
          54.3285065547729,
          54.34862529317104,
          54.37192457334115,
          54.373891142085,
          54.38731212075558,
          54.389399998281334,
          54.55170529782902,
          54.56247932750671,
          54.60520049595024,
          54.71287607079054,
          54.728461199333225,
          54.756097503852544,
          54.757196837152804,
          54.91214189235811,
          54.91379451420292,
          54.914939418488984,
          54.967430472834394,
          54.973997418923034,
          55.010907213907785,
          55.02562705612354,
          55.046254640607884,
          55.05716747572319,
          55.10587934779048,
          55.13523175663212,
          55.18099414565444,
          55.188117430776884,
          55.26202375492156,
          55.27163656447857,
          55.30599795963573,
          55.364663482964744,
          55.4018540070291,
          55.42382675317825,
          55.471162170211926,
          55.49259498042059,
          55.53655443891785,
          55.53720193197782,
          55.54800884906035,
          55.56035475356708,
          55.56637776220134,
          55.57158253979571,
          55.57772967291967,
          55.60562837093556,
          55.7124659495735,
          55.752372970057934,
          55.786215603040716,
          55.79194705402924,
          55.795843770917685,
          55.820629412466445,
          55.850516567633065,
          55.867363962626655,
          55.94973878270912,
          55.97916021475254,
          56.031538879312194,
          56.185645808310284,
          56.33095091088856,
          56.34873133517317,
          56.35450833479703,
          56.36498074361717,
          56.39179508296138,
          56.40213975394525,
          56.408923140538235,
          56.43847975638499,
          56.46757260377797,
          56.556658941242546,
          56.61329517849427,
          56.6331394382201,
          56.64460624737981,
          56.65837860293098,
          56.659521517314715,
          56.690723094254736,
          56.69431296526082,
          56.7097405008744,
          56.717502763240304,
          56.739546647673365,
          56.765470369430176,
          56.91528145072948,
          56.963720298537055,
          57.01396484987691,
          57.030815191041626,
          57.04678134161338,
          57.08478891540574,
          57.098971119862654,
          57.18885227295965,
          57.224058314949986,
          57.24962238024875,
          57.297694979730664,
          57.30461768622766,
          57.35439469234075,
          57.37316847882789,
          57.37444315154292,
          57.37727269542674,
          57.38260750602399,
          57.4349335516591,
          57.4541384727772,
          57.58112299890573,
          57.62745977599778,
          57.6398105249003,
          57.66385129630663,
          57.77146402739663,
          57.810085340442214,
          57.812961578630365,
          57.82695136678089,
          57.86192830255595,
          57.91815054807023,
          57.92024773275767,
          57.95175207971886,
          57.977438046091976,
          57.98990464310344,
          58.160124569377956,
          58.165223723466056,
          58.204045079970115,
          58.23430651618642,
          58.28932036732621,
          58.31763614451657,
          58.32419200015087,
          58.33600231553689,
          58.344387078846836,
          58.3665816160748,
          58.420214876588034,
          58.50300170095147,
          58.5062573145193,
          58.55449534090397,
          58.70355966018667,
          58.80506122454176,
          58.81165872917808,
          58.843952576509025,
          58.849497544870786,
          58.852890293384064,
          58.86246780162887,
          58.87000233861508,
          58.92026013794057,
          58.95557592876065,
          59.00235060804957,
          59.006859461208194,
          59.10294871053489,
          59.12847083231506,
          59.138241962603416,
          59.18875070558198,
          59.311494287261525,
          59.32166018483227,
          59.3343060510301,
          59.391148286374204,
          59.402100363955185,
          59.40908767832698,
          59.42489740545031,
          59.4479716489347,
          59.449677439210404,
          59.482124939661844,
          59.53195498085111,
          59.54830631921766,
          59.59986407625894,
          59.604998740212125,
          59.62105040083165,
          59.65087432779126,
          59.65401668539198,
          59.69880807160385,
          59.74301788776668,
          59.82482470620616,
          59.84851058283729,
          59.85935462370696,
          59.8928629384655,
          59.9376204551387,
          60.00797279452809,
          60.0426242019588,
          60.060693469578126,
          60.166782993160325,
          60.17400482716016,
          60.32802583587477,
          60.47544376654784,
          60.51511640179254,
          60.51887816479487,
          60.549152266320306,
          60.56322039770956,
          60.57257643587366,
          60.59442299652363,
          60.618534841553554,
          60.629766288764216,
          60.66134374596518,
          60.677473269021334,
          60.7081764796942,
          60.713250745503046,
          60.765344379486834,
          60.7918708928741,
          60.818769890356236,
          60.83338943110573,
          60.867454466443235,
          60.87542775385282,
          60.8941139537954,
          60.92080441774925,
          60.95156583409471,
          60.984545542515235,
          61.04265582998838,
          61.04329195662484,
          61.05780286151668,
          61.06000709576108,
          61.08307600851762,
          61.11459039344868,
          61.13885968121471,
          61.1486461497353,
          61.15656509988355,
          61.217275613983304,
          61.22561353470863,
          61.28576570552789,
          61.33322676816138,
          61.34206080997066,
          61.37408419991053,
          61.378283549393075,
          61.43388104794718,
          61.46126479318397,
          61.47122998561636,
          61.55201067153658,
          61.61577920492462,
          61.63509330445541,
          61.64843177430936,
          61.65683807933911,
          61.685693397357426,
          61.70095013091262,
          61.784946191374786,
          61.787422267478775,
          61.81148739208777,
          61.81887402401483,
          61.940742857663,
          61.963473921554936,
          62.09586024398416,
          62.11531056833593,
          62.18447715344686,
          62.18617008773464,
          62.19817602467211,
          62.22154014569634,
          62.30684586735492,
          62.31213025334242,
          62.31696505890886,
          62.3977453528108,
          62.44185100812126,
          62.453158264214125,
          62.49940068523378,
          62.54210140614799,
          62.57031363899688,
          62.60139151249629,
          62.615645051070686,
          62.651262782596206,
          62.67804864920416,
          62.709922263960465,
          62.714102294460304,
          62.746667130038105,
          62.75922931789145,
          62.81547711446905,
          62.83091015307602,
          62.91191930753621,
          62.91977573138604,
          62.97834734756796,
          63.040787549799205,
          63.09428918525356,
          63.09610828051697,
          63.100705848431005,
          63.10343297052947,
          63.125940731333856,
          63.18354427568292,
          63.203261674867434,
          63.2375033234722,
          63.29184822053719,
          63.328509139600925,
          63.39820057782629,
          63.41827913472861,
          63.46871206827859,
          63.480413833864844,
          63.506463996506824,
          63.56324869005297,
          63.571971088655374,
          63.58037205276062,
          63.627975051043165,
          63.63989152169239,
          63.67104966829095,
          63.67528870554281,
          63.73572215348284,
          63.828989594553406,
          63.88722296550847,
          63.91479550938445,
          63.93082619866112,
          63.962454304095814,
          63.962772696313834,
          63.9711901870657,
          64.04228389560313,
          64.0432466624842,
          64.05754546040686,
          64.06159353314087,
          64.07470144148652,
          64.08050227394293,
          64.09553211969211,
          64.1149130912519,
          64.14478447056865,
          64.16626048983315,
          64.17073206115293,
          64.17968792791984,
          64.20017128768637,
          64.28817743235535,
          64.32893178027268,
          64.33415264217356,
          64.36160438228612,
          64.36936634955057,
          64.37334285870674,
          64.41257481671408,
          64.4258793650169,
          64.43774232808545,
          64.49252040006016,
          64.53375663610248,
          64.54191590539509,
          64.61183868277882,
          64.67695564532795,
          64.71886508090296,
          64.72042350876455,
          64.72221736519452,
          64.76740896623079,
          64.83252155214106,
          64.83372100907269,
          64.83939228536642,
          64.84026935970556,
          64.93980812935519,
          64.94144049989342,
          64.95163046072258,
          64.95343341319878,
          64.96138846728758,
          64.98629544012633,
          65.00337416108096,
          65.00961312506357,
          65.1155548077981,
          65.13851165299488,
          65.16789070828165,
          65.26434911342363,
          65.27020892779046,
          65.29779255899459,
          65.29955501239294,
          65.31923067953531,
          65.32048913241462,
          65.36660381487124,
          65.43312604655245,
          65.47698715581234,
          65.47730589479687,
          65.50548498812904,
          65.54274549413853,
          65.63836699864473,
          65.68067959374156,
          65.75301306383813,
          65.80156118008173,
          65.89021052187414,
          65.90490547883624,
          65.92032398836571,
          65.94138389597356,
          65.94928377040631,
          65.96077940116189,
          65.97329144341717,
          65.97564708980786,
          65.9770159854603,
          66.03023615470974,
          66.12042594629028,
          66.24536357767923,
          66.25702142598686,
          66.30571010667597,
          66.3150097770808,
          66.34629546177675,
          66.44813711056148,
          66.47128188000653,
          66.4948517014972,
          66.49576565684617,
          66.54301743047316,
          66.5518887466819,
          66.58856646901515,
          66.64413833222793,
          66.68917592337257,
          66.70084933587617,
          66.70996449169351,
          66.73299082343198,
          66.81307530864322,
          66.89651974568523,
          66.94851893586016,
          66.98124793884475,
          67.04958389027561,
          67.15757452064469,
          67.3053003117937,
          67.4031993514956,
          67.40880521683675,
          67.45177024377506,
          67.45977626198945,
          67.47617356502982,
          67.4879679328557,
          67.56397091009262,
          67.56565741874121,
          67.57011990798537,
          67.59444743669908,
          67.66561202965207,
          67.70069409703703,
          67.77014970867162,
          67.80305656209936,
          67.8213261400578,
          67.82713736196732,
          67.87514842411397,
          67.88111954384101,
          67.8836595921502,
          67.94047100062613,
          67.96649604185157,
          67.98386284357011,
          68.00165677330457,
          68.03957622778924,
          68.04696634120162,
          68.12175305361743,
          68.19720104247227,
          68.35949209366129,
          68.36350095794555,
          68.39824187261166,
          68.51443189195763,
          68.55401200888514,
          68.56016265205045,
          68.5810309257808,
          68.62157261089789,
          68.7293392724153,
          68.74357892180296,
          68.76665416185276,
          68.86663392325872,
          68.88067042099902,
          68.95116345636123,
          68.96021521613918,
          68.96024834979497,
          68.99315360168862,
          69.03736946047096,
          69.05885216350953,
          69.11004973254103,
          69.1286646847135,
          69.17143301782374,
          69.21774256502911,
          69.22025150773786,
          69.22754810831483,
          69.3277549871957,
          69.46218755462925,
          69.55374627422057,
          69.63629189888744,
          69.64472279471013,
          69.76384929786786,
          69.78240459417174,
          69.82701043221621,
          69.8569107308983,
          70.06541831597875,
          70.14808491245287,
          70.20418422288154,
          70.21276297349851,
          70.2195138843667,
          70.25238232588012,
          70.2919402412549,
          70.30898028700753,
          70.32005430790713,
          70.37559858151266,
          70.37968902383759,
          70.408981169144,
          70.41960759506603,
          70.44108925446577,
          70.56919217619108,
          70.59452095585846,
          70.63265175510742,
          70.63930007044104,
          70.64931428818224,
          70.74996930051475,
          70.7935712341812,
          70.79985242558718,
          70.84045508699074,
          70.86036073925203,
          70.90323887774346,
          70.93647242533746,
          70.98695191941104,
          70.98837306361088,
          71.00495688300191,
          71.09385599546425,
          71.13269764899803,
          71.32889908477958,
          71.38799409327584,
          71.4318884998466,
          71.4377846721525,
          71.57201130478737,
          71.57528180309512,
          71.7352066394078,
          71.77614902740459,
          71.89482138099694,
          72.01267621099174,
          72.10355683890151,
          72.13604069436539,
          72.27842852972267,
          72.30430745030543,
          72.32452305594288,
          72.33589570964608,
          72.48709042475795,
          72.51873667736987,
          72.7843054939679,
          72.81722680896814,
          72.90991627538372,
          73.01820897468798,
          73.01989743337549,
          73.06714495924905,
          73.11501862965721,
          73.14057776743564,
          73.15673216946902,
          73.17793988154241,
          73.20984166185468,
          73.4674825438943,
          73.49961515906912,
          73.66582600904155,
          73.70874325373057,
          73.73898948801437,
          73.83664802419162,
          73.93154227112962,
          73.95318401901204,
          74.04232643400675,
          74.18226724620345,
          74.21388576959521,
          74.22124840584476,
          74.33122868735938,
          74.36549582575023,
          74.44046380000998,
          74.53422765614064,
          74.54191075444649,
          74.58181332476735,
          74.65549356520802,
          74.69113592369729,
          74.80913556794695,
          75.00204304902786,
          75.0963399077252,
          75.1297256487997,
          75.15972701225604,
          75.30272962030722,
          75.62958480976184,
          75.63733843175811,
          75.64546026976842,
          75.67924038063146,
          75.69749870633575,
          75.79189595557668,
          76.05443720763603,
          76.4209328301371,
          76.59977945066973,
          77.72236446187011,
          77.84540449092967,
          77.9253574852186,
          78.26318072402839,
          78.3575454710323,
          78.7950385234765,
          79.32354595104613,
          79.47352396800929,
          79.51129297408929,
          79.54398485447697,
          79.70198493311327,
          79.87386754178314,
          80.04685473783343,
          80.08245030738493,
          80.34260323791992,
          80.84317003539775,
          81.10460965085304,
          81.18264154411949,
          81.27484382553504,
          81.28921545347617,
          81.51245715532247,
          82.43826715996732,
          82.55074766093526,
          82.58105513535583,
          83.04063053134973,
          83.61692907288077,
          83.71682406372676,
          84.05643368692094,
          84.15960895633634,
          84.61043009467448,
          84.92527427767504,
          85.06455903396107,
          86.72936319504203,
          87.1239586419772,
          87.20292089948936,
          87.49413066972096,
          87.72995887084917,
          88.06989796429414,
          88.19609816812971,
          89.14739349903371,
          89.22288893312825,
          89.36547544691359,
          89.42909413053027,
          89.43820130982158,
          90.26052593101136,
          90.26602913451882,
          90.37989300139506,
          91.2413673926371,
          91.91872039010343,
          91.94402281181604,
          92.67277731527011,
          93.28619911134845,
          94.7217132178302,
          95.06493253268718,
          95.56311419690783,
          95.84031679619332,
          97.82591415370686,
          97.87638400924041,
          98.97224378949261,
          100.37698262728841,
          100.67288982633951,
          101.00637501608497,
          101.45850235196431,
          101.79720834768275,
          102.14391847316804,
          104.00201500307955,
          104.54333570875602
         ],
         "yaxis": "y"
        },
        {
         "hovertemplate": "<b>OLS trendline</b><br>Graduation rate  total cohort (DRVGR2019) = 5.31257 * Log_Core_Revenues + -41.9741<br>R<sup>2</sup>=0.277927<br><br>Residential_Level=primarily residential<br>Log_Core_Revenues=%{x}<br>Graduation rate  total cohort (DRVGR2019)=%{y} <b>(trend)</b><extra></extra>",
         "legendgroup": "primarily residential",
         "line": {
          "width": 4
         },
         "marker": {
          "color": "#00cc96",
          "line": {
           "width": 2
          },
          "size": 10,
          "symbol": "circle"
         },
         "mode": "lines",
         "name": "primarily residential",
         "showlegend": true,
         "type": "scattergl",
         "x": [
          12.843826030865126,
          13.41927324251369,
          13.64504365626041,
          13.730650683015185,
          13.970227077673947,
          14.235368260659957,
          14.254112525445473,
          14.41345435301718,
          14.646042509839713,
          14.674033184291906,
          14.704876036760083,
          14.78886229893469,
          14.917264572904632,
          14.982542887416484,
          15.012131503482484,
          15.01877861401347,
          15.034305371580794,
          15.16958023653932,
          15.21694793271274,
          15.26022216526211,
          15.270061519590147,
          15.340863353185833,
          15.47193853917734,
          15.633927375092288,
          15.754972677371914,
          15.801532781034473,
          15.802686991399913,
          15.830767782435586,
          15.895218564139293,
          15.89647019675137,
          15.92231747867332,
          15.999125836358308,
          16.024851545352043,
          16.137711790278463,
          16.14488645105687,
          16.163003909319094,
          16.17979216867726,
          16.181254095227743,
          16.18422144296472,
          16.188306274018096,
          16.19013720382329,
          16.213088507693733,
          16.21848264915677,
          16.23915199017318,
          16.250246966714695,
          16.252080153413075,
          16.294674164671783,
          16.32071979174862,
          16.353578281752988,
          16.370928792077514,
          16.381312321255482,
          16.44047171602151,
          16.46495129295922,
          16.470581693687933,
          16.479622176917264,
          16.47991624331152,
          16.52544997337679,
          16.561138584957693,
          16.569005970032993,
          16.57918150982679,
          16.580385984071864,
          16.583421858101023,
          16.592963742001793,
          16.60082194034124,
          16.601316669395562,
          16.60997157797943,
          16.64936604874132,
          16.651591785707975,
          16.659928367492462,
          16.680806757733563,
          16.693313547668136,
          16.69685743608973,
          16.71008519360558,
          16.73027005813434,
          16.73803123442343,
          16.74078458331968,
          16.74889641263463,
          16.74914942531596,
          16.752130150518056,
          16.753083917344732,
          16.7552179397053,
          16.76239743332346,
          16.765912878905958,
          16.770262907861195,
          16.77594435632323,
          16.78595651021775,
          16.79426512238091,
          16.800580187029965,
          16.80417335152654,
          16.814623660071486,
          16.81877335581151,
          16.824288219222847,
          16.835671067700858,
          16.847084959058034,
          16.872810914018025,
          16.88303642398881,
          16.88488494517677,
          16.892411581890766,
          16.91109260086729,
          16.936778052301552,
          16.93782001835846,
          16.939669335090546,
          16.949138990924123,
          16.950196186204927,
          16.95389394404506,
          16.960350401933475,
          16.963382032534906,
          16.969786419807388,
          16.9859943074152,
          16.99491684832573,
          16.99757653720124,
          17.006940034188876,
          17.007984335991562,
          17.008913608995442,
          17.018245090262553,
          17.018415402990463,
          17.0472028597877,
          17.05697227051842,
          17.05736040730078,
          17.06201563536936,
          17.065492531005923,
          17.06784843127409,
          17.074722320046014,
          17.084725327973615,
          17.089450425006408,
          17.093451803844502,
          17.095240813534943,
          17.108877487295924,
          17.120171781951587,
          17.128925028717397,
          17.135100697595924,
          17.14841071897546,
          17.15745165620786,
          17.171530466821917,
          17.175265266413888,
          17.18383348099971,
          17.185277951808587,
          17.189068155890467,
          17.19472807587016,
          17.21701712515699,
          17.217903724390766,
          17.23488738753433,
          17.235937036472386,
          17.26807991091887,
          17.29837587974011,
          17.29880693169736,
          17.306673133134847,
          17.308349914939026,
          17.308687396909537,
          17.312488493635946,
          17.31943000764047,
          17.324492445045852,
          17.330060880591642,
          17.34411089585428,
          17.352208205247845,
          17.354165170221524,
          17.359827340872688,
          17.364443285131433,
          17.37083816210158,
          17.39916784796048,
          17.41191720312738,
          17.415142728219855,
          17.420011357341107,
          17.432840303238134,
          17.4420738463452,
          17.44762493263685,
          17.448982714139483,
          17.449496270167167,
          17.461196770873396,
          17.48101160429228,
          17.483477154704634,
          17.494709506818843,
          17.497530690629574,
          17.501141541506325,
          17.502706896433416,
          17.50561493655181,
          17.51473694744173,
          17.530380708622207,
          17.53385825196668,
          17.542071440178344,
          17.54458433765552,
          17.558265936104966,
          17.572803445723476,
          17.602925507682315,
          17.603846493173513,
          17.607388470273456,
          17.63357607428937,
          17.634154230303242,
          17.644840130649282,
          17.646084867780907,
          17.64778742507118,
          17.657219633978283,
          17.666793939963554,
          17.676605444425473,
          17.67666184328784,
          17.678769509882102,
          17.68301129379057,
          17.690913063552543,
          17.705043118749316,
          17.70925571662734,
          17.721976994215844,
          17.733644314663156,
          17.734902783866076,
          17.741665909693403,
          17.74512217293164,
          17.748568803258525,
          17.757004148150685,
          17.761522518581636,
          17.76319350219892,
          17.76628039505083,
          17.772780639183054,
          17.781790339327653,
          17.784896400780895,
          17.79368354168519,
          17.811599398195558,
          17.821661389947085,
          17.822175683731068,
          17.82576715676526,
          17.8263926746468,
          17.83037328852581,
          17.835650817752015,
          17.86012693371155,
          17.895661820156878,
          17.898563593498697,
          17.924374436255572,
          17.930756179932395,
          17.931352438133803,
          17.957435950231375,
          17.958646871656136,
          17.95925132289957,
          17.959456796260774,
          17.96026001172762,
          17.98423344626737,
          17.995133757961206,
          18.00658946720116,
          18.01017146035449,
          18.022750720654248,
          18.026420036458717,
          18.031461090957333,
          18.046826476844398,
          18.04802816324815,
          18.051018543795877,
          18.05187815653472,
          18.054115220518174,
          18.05593946874676,
          18.058263228682158,
          18.05932778945009,
          18.06346929897983,
          18.063985342661525,
          18.066622259809712,
          18.067119746645417,
          18.067606780123963,
          18.071008069658085,
          18.084550448862483,
          18.089644320492745,
          18.091412913164763,
          18.09338548774079,
          18.094488170087228,
          18.10648731733531,
          18.110141628221623,
          18.13385918115593,
          18.13508341690798,
          18.140826579990872,
          18.151373037486934,
          18.154864528351204,
          18.166671717070734,
          18.16993895311191,
          18.180034917502013,
          18.18076926846893,
          18.18996788003493,
          18.198823864520755,
          18.199324432073855,
          18.199784665178633,
          18.2046606231552,
          18.219230935060153,
          18.219337174383423,
          18.23451982623569,
          18.238072065943058,
          18.255330209241837,
          18.257016888688916,
          18.26518942754,
          18.270633820519905,
          18.28208213464282,
          18.289899577415262,
          18.30223716143293,
          18.31115029062104,
          18.315634834356416,
          18.316220378593226,
          18.31674951748504,
          18.316888764165384,
          18.322890942425524,
          18.32786900644017,
          18.338360115452723,
          18.345985958118707,
          18.347381785996852,
          18.350807881815765,
          18.359555080385473,
          18.377251488897045,
          18.38448769639047,
          18.385274795722193,
          18.38691551057113,
          18.394244361879327,
          18.403930824000128,
          18.441754504193113,
          18.45248201057271,
          18.457562782228475,
          18.47001040066476,
          18.471372698571393,
          18.473887436126294,
          18.479502320081956,
          18.485413274393913,
          18.49172171265562,
          18.50950398352719,
          18.51459399395898,
          18.524951277795783,
          18.537972574542845,
          18.546051559458583,
          18.56041502507539,
          18.566563818264,
          18.575383043038315,
          18.576038780345552,
          18.621406892422424,
          18.622418742371302,
          18.627319533947574,
          18.62880058640772,
          18.631752629011643,
          18.649375323760147,
          18.65462466473453,
          18.657965814962882,
          18.66232640667021,
          18.69454905166703,
          18.6989244826331,
          18.722372365294778,
          18.73497689155851,
          18.737604308599444,
          18.737605656113427,
          18.738332000446977,
          18.742680457002823,
          18.745939082040614,
          18.753296869610676,
          18.761264061346033,
          18.779131970366883,
          18.787334716352287,
          18.789556539866325,
          18.801103219887118,
          18.80271902086411,
          18.802779485783258,
          18.81431374123617,
          18.824584306816458,
          18.833479905356505,
          18.834642988924735,
          18.840277567342405,
          18.844435387497942,
          18.84656438115352,
          18.848597835991068,
          18.850903938930177,
          18.855196525226358,
          18.861750303645447,
          18.88631349104484,
          18.887954450347184,
          18.893448194074082,
          18.900625446582676,
          18.910897406462308,
          18.92453016852776,
          18.930418650368267,
          18.932849431404414,
          18.940129085009243,
          18.94620764049763,
          18.94630728375605,
          18.975505702741888,
          18.981078369030605,
          18.98250206932957,
          19.05781931468842,
          19.07119343424691,
          19.07226886676101,
          19.114098058022968,
          19.125940559464418,
          19.13275731280313,
          19.146051406349354,
          19.147856383134965,
          19.148991162427066,
          19.161623189171408,
          19.163974401806446,
          19.166837322800877,
          19.17034288499165,
          19.177630770419707,
          19.182913335050724,
          19.190737367095036,
          19.196867794665312,
          19.19864206768406,
          19.214149910571727,
          19.218545749688847,
          19.220321086484056,
          19.242508406722592,
          19.24560464359723,
          19.248279461174437,
          19.255186591444062,
          19.263281877680647,
          19.263578939994883,
          19.2944718999532,
          19.29554819640406,
          19.301804134411395,
          19.307722134097133,
          19.321633561091634,
          19.3518550006226,
          19.352630506742706,
          19.36282209084393,
          19.383461889023266,
          19.386670952160593,
          19.387341849854067,
          19.39399344080219,
          19.404592740423997,
          19.417630851167615,
          19.438987372878074,
          19.446076970289216,
          19.450212546581195,
          19.454038575261716,
          19.45515985865197,
          19.462520995891982,
          19.463153843899978,
          19.47735574625453,
          19.492321026435217,
          19.501195329315067,
          19.511687799341924,
          19.55367072636697,
          19.566644095112977,
          19.575220617078394,
          19.58434409113832,
          19.587637287134243,
          19.606344961287874,
          19.60858708205211,
          19.613988978367132,
          19.62875114166415,
          19.646935452566936,
          19.688886710298522,
          19.73643633572928,
          19.750857500284955,
          19.75929484947636,
          19.76587887243133,
          19.771334606096854,
          19.789452476602236,
          19.791256566072256,
          19.793355274833775,
          19.79396010115226,
          19.794444438163534,
          19.818393906699203,
          19.823032858976912,
          19.82557814305075,
          19.830689190280342,
          19.844121553039567,
          19.845278366245147,
          19.852326028494176,
          19.8553669518286,
          19.85577241207332,
          19.88039892539033,
          19.888097374424714,
          19.894965061846467,
          19.928227670498917,
          19.945875728792892,
          19.95219700385091,
          19.9652140095664,
          19.966844402392955,
          19.972948645773393,
          19.980846085277516,
          20.0038216553029,
          20.02523671507953,
          20.030175292782594,
          20.05338768640774,
          20.05890095917207,
          20.083778246586483,
          20.102391041451963,
          20.107089212292145,
          20.111722606225417,
          20.15091935653217,
          20.157785616290706,
          20.179697927227533,
          20.184680167239673,
          20.216447174577397,
          20.25797912632799,
          20.279440002909926,
          20.286074060216496,
          20.301709990978743,
          20.34060179748926,
          20.362267553686948,
          20.37924195831634,
          20.388272965924106,
          20.392077781018564,
          20.434733208207497,
          20.457086500035814,
          20.53518340412535,
          20.5518273639751,
          20.556163998415773,
          20.563822173965566,
          20.57623021181182,
          20.61919030645252,
          20.623008942297627,
          20.65871800696551,
          20.668322732202174,
          20.670836105479843,
          20.704099083659496,
          20.728539365419977,
          20.757111940418202,
          20.77829359633116,
          20.80915817871628,
          20.810750490672937,
          20.836308566193306,
          20.853542062257826,
          20.859984750524028,
          20.86321086256081,
          20.86382202730138,
          20.865352416995623,
          21.016245751268556,
          21.059167029124204,
          21.10825200911325,
          21.136514804068796,
          21.155960037570374,
          21.171240479997195,
          21.264484668139154,
          21.333211643954368,
          21.375881605762835,
          21.405481332772947,
          21.41236698635031,
          21.44815604908613,
          21.45160483226784,
          21.512941999723722,
          21.51318150664237,
          21.623207442830026,
          21.644533120818483,
          21.731219742739793,
          21.75503483284122,
          21.765120102195866,
          21.790292770861882,
          21.842228477392062,
          21.88489329954769,
          21.90268638633138,
          22.02183247365202,
          22.068007043084204,
          22.07257277524268,
          22.145322051640242,
          22.83433152230922
         ],
         "xaxis": "x",
         "y": [
          26.25960266439604,
          29.316706764339173,
          30.516128090117505,
          30.97092148763211,
          32.24368806558226,
          33.65226939356917,
          33.751849628847495,
          34.59836438207111,
          35.83400545118559,
          35.982707893209465,
          36.14656273310743,
          36.5927457039091,
          37.27489188560831,
          37.621687558420504,
          37.77887917853084,
          37.81419242437808,
          37.89667942450082,
          38.61533673296046,
          38.866980976333835,
          39.09687840405718,
          39.149150671344486,
          39.525290430800055,
          40.22163664707152,
          41.082213819740204,
          41.72527556786784,
          41.97262941878461,
          41.97876124316217,
          42.1279424359233,
          42.47034178203617,
          42.476991169004336,
          42.614306686286284,
          43.02235653071247,
          43.159026183196104,
          43.75860423397283,
          43.79672012790259,
          43.89297040909749,
          43.98215922690011,
          43.989925815321826,
          44.00569006050199,
          44.02739101500845,
          44.037117959376005,
          44.159048387990566,
          44.18770514685309,
          44.297512486058665,
          44.35645533535437,
          44.366194269626945,
          44.592477973529114,
          44.73084721350523,
          44.90541027068387,
          44.99758608659799,
          45.05274932134702,
          45.36703779929664,
          45.49708728690604,
          45.52699918986366,
          45.57502739781462,
          45.57658964637773,
          45.81849081480888,
          46.00808909346365,
          46.049885134321386,
          46.10394341072458,
          46.11034226552543,
          46.126470561489995,
          46.17716249604757,
          46.21890973171992,
          46.22153801488771,
          46.267517830204866,
          46.476803748432275,
          46.48862813382925,
          46.532916815461505,
          46.643834743490785,
          46.71027795150734,
          46.72910510994008,
          46.7993785093348,
          46.90661203285974,
          46.94784383201258,
          46.962471193183006,
          47.00556586139024,
          47.006910009193504,
          47.02274532310531,
          47.027812276975624,
          47.039149422026995,
          47.07729099076049,
          47.0959670445945,
          47.11907688175198,
          47.149259979411184,
          47.20245025664359,
          47.246590347680026,
          47.28013957624388,
          47.29922851731769,
          47.354746522187156,
          47.376792074939075,
          47.40609017770879,
          47.46656236707169,
          47.527199473930466,
          47.663870433127286,
          47.71819417963765,
          47.728014579473026,
          47.76800037050889,
          47.86724460794403,
          48.003700389289506,
          48.009235907822045,
          48.01906053404197,
          48.069368751873014,
          48.074985176736945,
          48.09462977736206,
          48.12893016753205,
          48.14503591998604,
          48.179059681318094,
          48.26516523305986,
          48.312566864082356,
          48.32669664975393,
          48.376440891191294,
          48.38198881853883,
          48.38692564723941,
          48.436499802892186,
          48.43740460133108,
          48.59034000603944,
          48.64224069300836,
          48.64430269717603,
          48.66903392625585,
          48.68750518076965,
          48.70002106793197,
          48.73653908925837,
          48.78968077789325,
          48.81478319079781,
          48.836040799495436,
          48.84554504028203,
          48.91799083621325,
          48.97799257711817,
          49.02449482099716,
          49.057303499649635,
          49.1280139316511,
          49.17604455152555,
          49.250839230827665,
          49.27068061838496,
          49.31619986569257,
          49.32387371924973,
          49.34400944708676,
          49.37407817315757,
          49.49249032735568,
          49.49720044862782,
          49.58742736289072,
          49.59300369727393,
          49.76376499607804,
          49.92471447783818,
          49.9270044719143,
          49.96879422461225,
          49.9777022467983,
          49.979495143687586,
          49.999688739470756,
          50.03656602463866,
          50.063460582183495,
          50.09304329071472,
          50.1676849926714,
          50.21070252276709,
          50.22109903790067,
          50.2511797208232,
          50.27570225187881,
          50.30967548905562,
          50.46017895320698,
          50.52791080621344,
          50.545046636894455,
          50.57091157419259,
          50.6390662585943,
          50.68812011082993,
          50.7176106502188,
          50.72482396069195,
          50.727552263490196,
          50.78971200283088,
          50.89497970985656,
          50.908078121181944,
          50.967750787944865,
          50.98273852690666,
          51.00192142812878,
          51.01023748713229,
          51.02568665638498,
          51.074147985811535,
          51.157256575922446,
          51.17573127143042,
          51.219364415960825,
          51.23271436192408,
          51.305398823447064,
          51.38263037372322,
          51.542655962950235,
          51.54754876365226,
          51.566365768053274,
          51.70548927058164,
          51.7085607653854,
          51.76533036839707,
          51.771943122636586,
          51.78098807891949,
          51.83109735729937,
          51.881961536478954,
          51.934085849378505,
          51.93438547233241,
          51.945582600507166,
          51.96811737818122,
          52.010096090124094,
          52.08516300990415,
          52.10754273472274,
          52.175125423603816,
          52.23710889046717,
          52.24379459730878,
          52.27972418264106,
          52.2980858260763,
          52.31639629398721,
          52.36120966162936,
          52.385213824808716,
          52.3940910437159,
          52.410490380792595,
          52.44502338848642,
          52.49288805911782,
          52.50938923074774,
          52.55607153963989,
          52.65125079723839,
          52.704705841618676,
          52.70743806379956,
          52.726518018859565,
          52.72984112694235,
          52.750988420323,
          52.779025668411805,
          52.90905676932931,
          53.09783837230522,
          53.11325424886314,
          53.25037618049781,
          53.28427964612294,
          53.28744731008108,
          53.42601781691516,
          53.432450922815065,
          53.43566211288969,
          53.436753704685174,
          53.44102084378521,
          53.56838141402976,
          53.6262900925242,
          53.68714935984933,
          53.70617895237031,
          53.773007164338665,
          53.79250066463331,
          53.819281623970326,
          53.90091132560357,
          53.9072953697998,
          53.923181978419635,
          53.92774873202464,
          53.939633293001236,
          53.94932474101947,
          53.96166988038583,
          53.9673254349222,
          53.98932749785175,
          53.992069016488244,
          54.00607782574434,
          54.0087207598212,
          54.01130815969722,
          54.029377751432776,
          54.101322600848505,
          54.12838415494109,
          54.137779928870145,
          54.148259371122606,
          54.15411744924688,
          54.21786376950942,
          54.23727755511281,
          54.363278736191376,
          54.36978257539876,
          54.40029353635562,
          54.45632233934299,
          54.47487113203849,
          54.53759765901195,
          54.55495508206444,
          54.60859060849516,
          54.61249190005816,
          54.66136017600593,
          54.70840822130461,
          54.71106752191099,
          54.71351254290174,
          54.73941641526322,
          54.816822230011155,
          54.81738663394633,
          54.898045548067415,
          54.91691707329778,
          55.00860218284059,
          55.017562786956105,
          55.060979978877185,
          55.08990370248492,
          55.15072368272661,
          55.192254401560476,
          55.25779869115004,
          55.30515032173007,
          55.32897477819154,
          55.33208552345333,
          55.334896611321795,
          55.33563636918102,
          55.36752336662617,
          55.39396968455229,
          55.449704444797874,
          55.490217274485445,
          55.49763270902524,
          55.515834085907045,
          55.56230419831556,
          55.65631762286584,
          55.6947604880816,
          55.69894200907147,
          55.70765842300135,
          55.74659346504973,
          55.798053481649006,
          55.998994463640486,
          56.05598510165447,
          56.08297706120402,
          56.1491059164418,
          56.15634322063133,
          56.16970294213792,
          56.199532411138875,
          56.23093477489331,
          56.264448800304706,
          56.35891837472845,
          56.38595941593047,
          56.44098322044428,
          56.51015978237075,
          56.55307996237913,
          56.62938689155989,
          56.662052791204715,
          56.708905547930456,
          56.712389198854225,
          56.953410509982916,
          56.958786034556894,
          56.98482183717702,
          56.992690033349476,
          57.00837296892546,
          57.101994783884564,
          57.12988227988757,
          57.14763237729851,
          57.170798329825175,
          57.34198341533211,
          57.36522820247265,
          57.48979674111348,
          57.556759180306315,
          57.57071751956924,
          57.570724678332795,
          57.574583434088524,
          57.59768491776279,
          57.61499659424945,
          57.65408536224,
          57.69641163305364,
          57.791336166215544,
          57.83491383567879,
          57.846717430581364,
          57.90805998662776,
          57.91664404384703,
          57.91696526801579,
          57.97824181766465,
          58.03280492529409,
          58.080063423063706,
          58.08624238696002,
          58.116176484186354,
          58.138265198471544,
          58.14957562817122,
          58.16037850112825,
          58.172629836450284,
          58.19543450540996,
          58.23025191779732,
          58.36074559191076,
          58.369463304516685,
          58.39864920746584,
          58.436778870145915,
          58.491349385089435,
          58.56377439986089,
          58.59505737701788,
          58.6079710735677,
          58.64664474932978,
          58.67893750621366,
          58.67946686808679,
          58.83458553855135,
          58.86419072320426,
          58.87175423195528,
          59.27188243645787,
          59.34293339457837,
          59.348646706036845,
          59.570867249495365,
          59.63378137780701,
          59.669995863094684,
          59.740621677352706,
          59.750210744464155,
          59.756239339887316,
          59.82334787733262,
          59.8358388611117,
          59.85104833182025,
          59.86967187943519,
          59.908389287341635,
          59.936453286375425,
          59.978019011183136,
          60.010587342178795,
          60.02001329335246,
          60.10239980789886,
          60.1257530147884,
          60.135184617349935,
          60.253056328768366,
          60.26950530662809,
          60.283715464599766,
          60.32041008373888,
          60.36341686566972,
          60.36499503027005,
          60.529116069761045,
          60.5348339709448,
          60.568069085033585,
          60.59950887783562,
          60.67341431979459,
          60.83396785941747,
          60.8380877906489,
          60.892231303572544,
          61.00188169436214,
          61.018930069739596,
          61.022494261289836,
          61.05783130967069,
          61.114140840196555,
          61.18340672767151,
          61.296864763022015,
          61.33452875178382,
          61.356499293967204,
          61.37682534252379,
          61.38278224001179,
          61.421888803361384,
          61.42525085326052,
          61.50069946615886,
          61.58020357786722,
          61.62734894093259,
          61.683090931663145,
          61.90612820725997,
          61.97505014828366,
          62.020613529134195,
          62.06908263175514,
          62.08657796890728,
          62.185963813860155,
          62.19787523934309,
          62.22657319640645,
          62.304998235273274,
          62.401603675859704,
          62.62447270609029,
          62.87708346153853,
          62.95369692042176,
          62.99852093604571,
          63.033499024673674,
          63.06248299647761,
          63.1587354677435,
          63.16831982092798,
          63.17946935998134,
          63.18268254266876,
          63.18525561737127,
          63.3124888665204,
          63.33713362930759,
          63.350655631361164,
          63.37780843204263,
          63.44916881129532,
          63.45531446344562,
          63.492755668686314,
          63.50891078944301,
          63.51106482573236,
          63.64189492327172,
          63.68279347943779,
          63.719278555651854,
          63.8959885217926,
          63.989745082384815,
          64.02332730418648,
          64.09248106970357,
          64.10114264715791,
          64.1335718727891,
          64.17552757993023,
          64.29758692421294,
          64.41135594718918,
          64.4375924912862,
          64.56090997772883,
          64.59019963007358,
          64.72236198278043,
          64.82124377478989,
          64.84620314038766,
          64.87081837407604,
          65.07905388837098,
          65.115531380023,
          65.23194208503327,
          65.25841058824207,
          65.42717506638918,
          65.64781650387505,
          65.761828931877,
          65.79707283154431,
          65.88013982200336,
          66.08675530076617,
          66.20185616624882,
          66.29203389399892,
          66.34001176203869,
          66.36022511191568,
          66.58683509230038,
          66.70558853955369,
          67.120483878087,
          67.20890609452314,
          67.2319447723726,
          67.27262937279717,
          67.33854795334491,
          67.56677650116215,
          67.58706327475659,
          67.77677021188568,
          67.82779599549441,
          67.8411484691815,
          68.01786039846172,
          68.14770112765682,
          68.29949495757697,
          68.41202400598364,
          68.5759942876056,
          68.58445355773941,
          68.72023264551383,
          68.81178681487762,
          68.84601405295362,
          68.86315300181786,
          68.8663998578219,
          68.87453016154754,
          69.6761616952869,
          69.90418402618218,
          70.16495146154823,
          70.31509956303424,
          70.41840374430176,
          70.4995821777816,
          70.99494853649243,
          71.36006546692201,
          71.58675266350322,
          71.74400331129169,
          71.78058383398088,
          71.9707157665162,
          71.98903767162095,
          72.31489572134731,
          72.31616811882903,
          72.90068870353349,
          73.01398287942463,
          73.47451170278384,
          73.60103105697623,
          73.65460976527302,
          73.78834135181582,
          74.06425347399292,
          74.29091336580413,
          74.38544040052764,
          75.01841243456812,
          75.26371810755911,
          75.28797388327298,
          75.67445957064947,
          79.33487122100287
         ],
         "yaxis": "y"
        },
        {
         "hovertemplate": "<b>OLS trendline</b><br>Graduation rate  total cohort (DRVGR2019) = 1.09943 * Log_Core_Revenues + 22.4575<br>R<sup>2</sup>=0.009320<br><br>Residential_Level=primarily nonresidential<br>Log_Core_Revenues=%{x}<br>Graduation rate  total cohort (DRVGR2019)=%{y} <b>(trend)</b><extra></extra>",
         "legendgroup": "primarily nonresidential",
         "line": {
          "width": 4
         },
         "marker": {
          "color": "#ab63fa",
          "line": {
           "width": 2
          },
          "size": 10,
          "symbol": "circle"
         },
         "mode": "lines",
         "name": "primarily nonresidential",
         "showlegend": true,
         "type": "scattergl",
         "x": [
          12.269253996128299,
          12.480517491199935,
          12.538845189578224,
          12.601026031901458,
          12.633625350102342,
          12.82652815819616,
          12.82652815819616,
          12.82652815819616,
          12.832644565539617,
          12.891812459161697,
          12.940978182087106,
          12.991067199111669,
          13.04967224720968,
          13.04967224720968,
          13.09282539494605,
          13.127605612846274,
          13.231992370138169,
          13.310812787164398,
          13.412954713840744,
          13.49785438371269,
          13.51018712100442,
          13.517903394340802,
          13.525066006712386,
          13.560613147031843,
          13.621664852515359,
          13.637458673134363,
          13.682508168250179,
          13.688024853284,
          13.69122542944276,
          13.694372901855285,
          13.703252978818204,
          13.718316604972841,
          13.72321542832469,
          13.737472256791856,
          13.742818352370719,
          13.770168990543587,
          13.796021881380412,
          13.875425280803222,
          13.891016837744337,
          13.891706491665527,
          13.92514044686427,
          13.930956642854898,
          14.0114234986942,
          14.017971286724087,
          14.069617749515597,
          14.08268554004402,
          14.091680620777105,
          14.142437381741956,
          14.156451367055954,
          14.172075995907443,
          14.177101100527711,
          14.19484453597838,
          14.203070317803602,
          14.235937182312588,
          14.257526150669841,
          14.261604361911708,
          14.265855337077399,
          14.273447299279372,
          14.275833101357152,
          14.333179314000246,
          14.359727243127953,
          14.361687881432852,
          14.387355266912266,
          14.39404006282593,
          14.400419753586302,
          14.409473112738112,
          14.420447097250017,
          14.423183724640653,
          14.43061889676962,
          14.469690273300975,
          14.513985023311001,
          14.519543770086768,
          14.526198004688693,
          14.548533045076793,
          14.575261625324988,
          14.621190124726372,
          14.62808431172144,
          14.655280439803981,
          14.656325305459456,
          14.659109729484356,
          14.685276817050745,
          14.696801480125696,
          14.698330128290248,
          14.698670475551124,
          14.730674254973163,
          14.731109450572825,
          14.752556796334325,
          14.758507873027858,
          14.764714072843443,
          14.769213060148411,
          14.769673786864342,
          14.776817866784633,
          14.791288323670473,
          14.79210397748668,
          14.836084185071877,
          14.841497672026705,
          14.843193816284678,
          14.843525832052752,
          14.845923945581756,
          14.868649425982985,
          14.870047649515515,
          14.88573571771349,
          14.886514554242448,
          14.915390043399311,
          14.91653892556165,
          14.920532924780291,
          14.957891535381695,
          14.966115812859163,
          14.967399755688216,
          14.977598928581264,
          14.977598928581264,
          14.986439167117316,
          14.998453578345215,
          15.032830787765132,
          15.04891972985247,
          15.077437126421911,
          15.08139900919853,
          15.087040884155575,
          15.103398225024181,
          15.123766077329565,
          15.128152996770059,
          15.140465276075993,
          15.155208995806454,
          15.168818810331684,
          15.190799076374297,
          15.20880535872891,
          15.211575778387733,
          15.21946284619341,
          15.221168724621963,
          15.231736710009208,
          15.23915489311104,
          15.247568125684058,
          15.254646626561186,
          15.262830401721635,
          15.272219113346514,
          15.276164431027672,
          15.289865016807257,
          15.3004497599935,
          15.302181786973371,
          15.303458798646231,
          15.311164577500115,
          15.323656112996497,
          15.32725052214256,
          15.327298154610446,
          15.336041844012229,
          15.338162158988677,
          15.345814782774228,
          15.346662551999831,
          15.364119540212407,
          15.364672637747926,
          15.373885254803826,
          15.374643108897017,
          15.380106950063668,
          15.380206929482215,
          15.389657609251485,
          15.401282016127418,
          15.402468682704109,
          15.407199688517009,
          15.415801564712755,
          15.417945607490694,
          15.421714446576173,
          15.429662740743403,
          15.440769259118271,
          15.45426530161972,
          15.466030910999605,
          15.46785756540838,
          15.47744433141274,
          15.47744433141274,
          15.47744433141274,
          15.480371256685624,
          15.483503186731896,
          15.507829546091559,
          15.537704670438382,
          15.537903514481616,
          15.546852425612393,
          15.549413310772346,
          15.555537162523706,
          15.559402786997513,
          15.560565835867976,
          15.564201239688655,
          15.584494625577916,
          15.59837962441688,
          15.602299025544506,
          15.613026924414644,
          15.6192934552186,
          15.62034254166002,
          15.624584266900918,
          15.625194912241321,
          15.625245496054658,
          15.629617615939532,
          15.630697775137932,
          15.644926376340411,
          15.65529275409996,
          15.658269178323993,
          15.661819763612392,
          15.675241399348666,
          15.675373747946345,
          15.683133243717256,
          15.723702373300359,
          15.739421342948704,
          15.754143578546447,
          15.759312199965814,
          15.765833669845849,
          15.766891429576592,
          15.773638902794403,
          15.777163001469349,
          15.779495792554238,
          15.79282302392248,
          15.798439960275715,
          15.81598545863645,
          15.844781858606531,
          15.850101427974165,
          15.857074983460029,
          15.85730942073959,
          15.86355791912583,
          15.870149159092833,
          15.883182483644843,
          15.888996902605436,
          15.893019608585504,
          15.912491137541993,
          15.914688425722805,
          15.93566052771594,
          15.93644630817789,
          15.939864277946484,
          15.943933912114499,
          15.950185863922648,
          15.967361361949738,
          15.973624753838225,
          15.977521343704145,
          15.979592146418007,
          15.98063403081213,
          15.98454380098169,
          16.001786528557936,
          16.002383856300582,
          16.00599815942112,
          16.009333801762825,
          16.010232450640615,
          16.01982946647389,
          16.02208308453826,
          16.02358275324015,
          16.025435147658683,
          16.037365740548395,
          16.049665513963753,
          16.060739064542307,
          16.06168962459215,
          16.06792540992074,
          16.06792540992074,
          16.077569446021347,
          16.07908659540399,
          16.080265218916225,
          16.083313090618795,
          16.088749535097424,
          16.09087911846004,
          16.105980963574442,
          16.115630815746286,
          16.123327043332335,
          16.124141835888718,
          16.13178719256873,
          16.134170948225655,
          16.13594008774049,
          16.141819990045118,
          16.144870679181277,
          16.157059985095465,
          16.16097284411032,
          16.163463107197188,
          16.164072432704764,
          16.166722754214994,
          16.166817241348053,
          16.16887887528225,
          16.17597410550673,
          16.183557589364902,
          16.189554359768017,
          16.18959783814426,
          16.193683342073463,
          16.220777231471562,
          16.225294425981616,
          16.22736987804664,
          16.22778907599187,
          16.230367528040173,
          16.23046602008416,
          16.23281435188869,
          16.24077609692198,
          16.243758757145173,
          16.250246966714695,
          16.25088779540623,
          16.25393565169526,
          16.28009331962327,
          16.282990575542886,
          16.283036789537686,
          16.302398493708356,
          16.30460169057958,
          16.305201826519998,
          16.314785487852266,
          16.320611425033754,
          16.32767400967223,
          16.328352767682237,
          16.332796623789275,
          16.33709285805582,
          16.33990871757016,
          16.356903238185748,
          16.359614458417845,
          16.36003873840565,
          16.36122714572994,
          16.363206387183475,
          16.36862609422549,
          16.369025327453972,
          16.37077081967855,
          16.372977995538054,
          16.3756970525188,
          16.386165148052907,
          16.388596340150077,
          16.392523928623376,
          16.411010906390594,
          16.414029335028665,
          16.438122689234373,
          16.438254836054035,
          16.451120523671527,
          16.452368184290943,
          16.455130015270438,
          16.47036368873468,
          16.471930706227784,
          16.47225455231487,
          16.478505650882923,
          16.51535854603129,
          16.51583660444322,
          16.537657925444442,
          16.559583222240683,
          16.564433312308626,
          16.568110708121214,
          16.568683762971105,
          16.577600422062297,
          16.57764456967284,
          16.582567256739615,
          16.589104649650785,
          16.594578246301765,
          16.606310875322663,
          16.609981850760914,
          16.614147741508685,
          16.619044135992535,
          16.62083349664233,
          16.626890333759178,
          16.632788606945592,
          16.649840924976814,
          16.650899181442586,
          16.65555230006112,
          16.655685905056195,
          16.65571207482286,
          16.659916442956394,
          16.66348170329293,
          16.684297928839396,
          16.69204659776768,
          16.699223864156153,
          16.70054520992554,
          16.70902011005343,
          16.727492730781407,
          16.728282166578552,
          16.73905598973437,
          16.75468068105444,
          16.75645813347863,
          16.7708995244922,
          16.771566846744584,
          16.775975537295835,
          16.77808596801075,
          16.781426252555157,
          16.78500557532997,
          16.79798756738454,
          16.81702811445048,
          16.817948994854902,
          16.82562165892126,
          16.843669895003657,
          16.85217006850034,
          16.864841274508116,
          16.87518884903523,
          16.875716178657058,
          16.877154768463424,
          16.87939864610415,
          16.87974430228766,
          16.905279473444647,
          16.90793923189292,
          16.908664598534113,
          16.909019149720155,
          16.910272449265747,
          16.91680698644021,
          16.91877389483226,
          16.92053256766892,
          16.925048010427016,
          16.928308943579665,
          16.93775203870942,
          16.938653593741424,
          16.94169465588636,
          16.947988970055512,
          16.948209348591202,
          16.955212171240344,
          16.969946843462715,
          16.97625307511435,
          16.977885108323292,
          16.98007878156213,
          16.98094488797681,
          16.98780081076309,
          17.001663749752204,
          17.006439480781523,
          17.00710854241848,
          17.021233704333067,
          17.02475454525494,
          17.02884879867571,
          17.031365865659975,
          17.03460011998906,
          17.04242923223273,
          17.05058393139896,
          17.052260092138404,
          17.05506274595737,
          17.063051465437223,
          17.06896503056021,
          17.071886038893194,
          17.088375390517832,
          17.093486756513894,
          17.095392635348063,
          17.09593323338288,
          17.11071692895209,
          17.11416467401259,
          17.128558897559408,
          17.138404718169138,
          17.13877854178425,
          17.140639919628203,
          17.14205622993065,
          17.146512309400805,
          17.148769975814385,
          17.151043451492537,
          17.1613122066455,
          17.167762763443257,
          17.183754455633903,
          17.1881759803345,
          17.197190133764774,
          17.198294548894115,
          17.217221441095315,
          17.22074620816652,
          17.229176022372997,
          17.242774469748333,
          17.24846448686854,
          17.250524976619733,
          17.255934229687238,
          17.256604770314574,
          17.258807581607456,
          17.26125785680023,
          17.263650302423837,
          17.265169891209844,
          17.270807286696456,
          17.281828697481302,
          17.283445322744107,
          17.30601964937633,
          17.3065070827382,
          17.31098880198648,
          17.311883716459686,
          17.319072873004455,
          17.3213588735907,
          17.33833864498026,
          17.34884041672474,
          17.3492642737025,
          17.351302758279672,
          17.361811531981942,
          17.380235773342473,
          17.38927684352764,
          17.391919978024685,
          17.39381821904901,
          17.40241805432336,
          17.410030567681716,
          17.419846260721872,
          17.42030543872626,
          17.42632130270406,
          17.42976969331276,
          17.457784790432434,
          17.47606471176027,
          17.48084993069352,
          17.48867451806214,
          17.496790458481787,
          17.496870486173375,
          17.5198024528672,
          17.523496490256065,
          17.524992539956838,
          17.535857089491348,
          17.549529950844956,
          17.556190996319454,
          17.56956850807568,
          17.577816248331384,
          17.58510319493302,
          17.58523239992231,
          17.588023557278657,
          17.589587755845578,
          17.59535734353492,
          17.598756837973212,
          17.600609778083555,
          17.60155406330959,
          17.626130075031956,
          17.627106170960122,
          17.62841439659876,
          17.63469770792133,
          17.634905423700886,
          17.64194105569515,
          17.642096517402244,
          17.649480169055714,
          17.655122771751202,
          17.659044036634825,
          17.664680916370155,
          17.66476414313934,
          17.671153669956215,
          17.674960629562804,
          17.682703547474627,
          17.686475561858035,
          17.700645887913286,
          17.70066400848163,
          17.700983468248964,
          17.71329765194299,
          17.718755125404495,
          17.7264981675551,
          17.74563894726392,
          17.749180351922575,
          17.751891759096086,
          17.753713654503734,
          17.764117052124323,
          17.76487420262147,
          17.765977802090497,
          17.77387984848249,
          17.79674312073463,
          17.80380647893554,
          17.822967371918036,
          17.828358382311983,
          17.83099160449262,
          17.833043025957107,
          17.839241847272145,
          17.8423484116691,
          17.847457789507963,
          17.867106044342634,
          17.873727160869038,
          17.879574522179595,
          17.892694312210537,
          17.90013604259211,
          17.90877108283014,
          17.910751268525477,
          17.910956363595204,
          17.917313685803123,
          17.91952123573671,
          17.928287266318446,
          17.929245211420863,
          17.934466575012,
          17.936209229774626,
          17.946667856360534,
          17.96415984482944,
          17.968244052553693,
          17.969419478160916,
          17.97507745434552,
          17.979829170160244,
          17.98169403783905,
          17.98892914345201,
          17.9907131415552,
          17.991836163457727,
          17.9983057664864,
          17.99921062118039,
          18.004433062273115,
          18.00563288762426,
          18.019470326796302,
          18.03732988340399,
          18.039515151669967,
          18.04059094217543,
          18.041651157953268,
          18.048610817336137,
          18.049637018884145,
          18.0632078674644,
          18.067542011669314,
          18.068024414555065,
          18.071308030854592,
          18.072316980555737,
          18.075289809721372,
          18.079681759048604,
          18.08541202880855,
          18.08706299938947,
          18.088731722153764,
          18.096278226337326,
          18.100884569660074,
          18.113571173834487,
          18.120773352556622,
          18.128921865943628,
          18.129060607495326,
          18.13184196277091,
          18.132132883480946,
          18.1409105961818,
          18.143986338721753,
          18.15696980112047,
          18.162572774595944,
          18.16401558170688,
          18.170139954906865,
          18.170702760802126,
          18.170788977493768,
          18.172982542093084,
          18.177776173476346,
          18.1783480913464,
          18.18076926846893,
          18.18772569189764,
          18.196446948537982,
          18.20137176874493,
          18.20137176874493,
          18.225933620555214,
          18.226306848634238,
          18.25000576174473,
          18.255865308914956,
          18.259524579585886,
          18.263385043729034,
          18.283336996385916,
          18.285264627780276,
          18.294593619592316,
          18.301626901162535,
          18.30242070829957,
          18.3069458273446,
          18.32470133226233,
          18.346622558251585,
          18.351684943889698,
          18.361800732542807,
          18.363610669739767,
          18.37056682750937,
          18.37643623263078,
          18.376701572874396,
          18.39174274996949,
          18.394632833610764,
          18.400404360451436,
          18.40194760934494,
          18.40724075050321,
          18.417273636347474,
          18.417567853933683,
          18.41796031694405,
          18.419496012435044,
          18.42115666068603,
          18.422892885362348,
          18.431629951999184,
          18.447471544050916,
          18.456664280792037,
          18.46357170388684,
          18.46499083996723,
          18.465379655109906,
          18.47012787322534,
          18.47593648496894,
          18.47883310754944,
          18.50483826339499,
          18.50884674660516,
          18.511069743680046,
          18.517804814026245,
          18.519745656824902,
          18.52720957686173,
          18.530779799973764,
          18.539375035400155,
          18.540742062350567,
          18.541203977390797,
          18.542392461112296,
          18.55417830600464,
          18.562515484422576,
          18.58765091047912,
          18.593617972017057,
          18.601086809029525,
          18.60127873292296,
          18.62636817995652,
          18.62902453306552,
          18.63016782876908,
          18.63967971836102,
          18.647360084988286,
          18.647820659156167,
          18.655177609794553,
          18.65690337400425,
          18.661675623938844,
          18.663491117263202,
          18.6677618833855,
          18.672842329960478,
          18.691594892234917,
          18.70178136609511,
          18.705233279508008,
          18.72607567341537,
          18.746105423273285,
          18.791302153255316,
          18.81133196627467,
          18.83416693036293,
          18.836630832042584,
          18.837051897689967,
          18.848474501959853,
          18.849716788653048,
          18.853126310575067,
          18.85750885100267,
          18.859234772084978,
          18.86533353902743,
          18.877107092657656,
          18.881104886073896,
          18.902993732473238,
          18.905877379014676,
          18.913864330106385,
          18.916357663303636,
          18.944509827087103,
          18.94970769008044,
          18.952023986406086,
          18.953600156533582,
          18.95366504088687,
          18.96482098958443,
          18.96663067512346,
          18.97324316671737,
          19.012477933715555,
          19.031192841201477,
          19.042428115817494,
          19.051101094604007,
          19.056729650628625,
          19.058299537926406,
          19.060583485774746,
          19.090029894413675,
          19.094796164021954,
          19.106774296062817,
          19.125392852192316,
          19.126280073701547,
          19.139037364500002,
          19.15114824652722,
          19.163441635188494,
          19.16578832483521,
          19.181948783907206,
          19.184604687917513,
          19.18682369303967,
          19.189293737240273,
          19.1975790459732,
          19.19879552190652,
          19.20064303224239,
          19.207748316281215,
          19.209252352335536,
          19.228515026039794,
          19.23111305845843,
          19.231241785365395,
          19.23243064191558,
          19.23950444448931,
          19.25326837173518,
          19.278657721896987,
          19.297036991519207,
          19.315306299622513,
          19.319983192626196,
          19.32948880635106,
          19.33791065465998,
          19.341584925483378,
          19.355465694588272,
          19.356429133823713,
          19.36172449244619,
          19.37757584666846,
          19.382086078148802,
          19.382560330793122,
          19.384742072794864,
          19.38728482222184,
          19.39123169573452,
          19.444403510007536,
          19.456054448420872,
          19.45952275907793,
          19.464339715179214,
          19.473245896906278,
          19.474392136931733,
          19.4823714735856,
          19.493407265087093,
          19.49932908251247,
          19.503422871832434,
          19.51462531241115,
          19.538350863016447,
          19.5537090453828,
          19.56874339151182,
          19.5785254826781,
          19.608193413484987,
          19.61218160390838,
          19.631915861726736,
          19.643817180284,
          19.649019690997818,
          19.650806680132444,
          19.69849493668745,
          19.744817608378195,
          19.775299346033027,
          19.782926849839086,
          19.78879287307622,
          19.794145534458586,
          19.80923830460306,
          19.810964808112015,
          19.815443005985756,
          19.815602779422612,
          19.837749389190108,
          19.854731203827907,
          19.855632496142015,
          19.870464248461793,
          19.883677251586953,
          19.894036935580754,
          19.903064526643384,
          19.908694827076904,
          19.917778282538762,
          19.921964778478035,
          19.946587973292935,
          19.952780617795728,
          19.98946064633669,
          19.991532645607013,
          20.015436921232123,
          20.05405883572602,
          20.071251440366673,
          20.108608006840505,
          20.110991206107364,
          20.123929530976053,
          20.12878453226679,
          20.135043964155077,
          20.150691686164915,
          20.213660864548988,
          20.23452084679006,
          20.248505171725196,
          20.249383782724436,
          20.262855079029237,
          20.2794600283602,
          20.28841360780364,
          20.305888654964896,
          20.38617083584765,
          20.392523155033555,
          20.45279343297682,
          20.50457815722487,
          20.515764745684866,
          20.573477020513227,
          20.57444944215613,
          20.578228504135687,
          20.595478703003916,
          20.632731849753355,
          20.66752028384263,
          20.673697757729514,
          20.696373491566913,
          20.700479001808016,
          20.720526622722307,
          20.773454190811957,
          20.797423709355094,
          20.805958416759406,
          20.870735017760698,
          20.919536316916915,
          20.934858975935594,
          20.951875399963157,
          20.961449796129422,
          21.002494726204958,
          21.03977357767143,
          21.05364305375739,
          21.068020111188655,
          21.10379361852419,
          21.40044956997933,
          21.45144549289667,
          21.466315420052158,
          21.70972384375908,
          21.85144276311412,
          21.929442820882684
         ],
         "xaxis": "x",
         "y": [
          35.946618473348,
          36.17888737734603,
          36.24301445510009,
          36.3113777854104,
          36.34721837352068,
          36.55930103266111,
          36.55930103266111,
          36.55930103266111,
          36.566025579320666,
          36.63107639086202,
          36.685130540511885,
          36.740199785118904,
          36.80463178879214,
          36.80463178879214,
          36.852075547712225,
          36.89031387700692,
          37.00507955244875,
          37.09173688938782,
          37.204034536235504,
          37.29737557115621,
          37.31093452213861,
          37.31941800552594,
          37.32729277880254,
          37.36637428372351,
          37.43349620989944,
          37.45086037119893,
          37.50038902664727,
          37.50645422208519,
          37.50997302364769,
          37.513433441489276,
          37.52319644263103,
          37.53975780802919,
          37.54514370932003,
          37.560818059123974,
          37.56669570381763,
          37.596765748573375,
          37.62518912866473,
          37.71248741250407,
          37.729629199546395,
          37.7303874240582,
          37.76714563506715,
          37.77354012109855,
          37.86200759820635,
          37.869206416671396,
          37.92598796004164,
          37.94035504879345,
          37.95024448824696,
          38.00604786892945,
          38.021455230283685,
          38.03863337749497,
          38.04415811588969,
          38.063665737421225,
          38.07270938847142,
          38.10884412436019,
          38.13257963066282,
          38.13706332840293,
          38.14173696755826,
          38.15008377986129,
          38.152706796362914,
          38.21575480167274,
          38.24494232600021,
          38.24709790574228,
          38.27531733613548,
          38.282666784840714,
          38.2896807925388,
          38.29963430489066,
          38.31169940565124,
          38.31470812916241,
          38.32288256214169,
          38.365838709400144,
          38.41453757729593,
          38.42064901657119,
          38.42796486532874,
          38.452520623766496,
          38.48190676091038,
          38.532401817875225,
          38.5399814769013,
          38.569881649009034,
          38.5710304030829,
          38.57409167552994,
          38.60286049215775,
          38.61553102409446,
          38.61721166198062,
          38.61758584913129,
          38.652771685508895,
          38.65325015153505,
          38.676829954056075,
          38.68337273164643,
          38.69019599862244,
          38.69514230915314,
          38.69564884479156,
          38.70350324298089,
          38.71941246175096,
          38.72030921401698,
          38.768662265309416,
          38.77461400193755,
          38.77647878964112,
          38.77684381691918,
          38.779480368969296,
          38.80446538790895,
          38.806002633363185,
          38.82325052753892,
          38.8241068018655,
          38.85585330978253,
          38.85711642246832,
          38.86150753519117,
          38.90258062042218,
          38.91162261755102,
          38.91303421965293,
          38.924247471183925,
          38.924247471183925,
          38.933966672862155,
          38.94717564740431,
          38.984970898078195,
          39.00265952404666,
          39.034012335112365,
          39.03836813813447,
          39.04457097082131,
          39.06255468180075,
          39.084947659490346,
          39.08977075952485,
          39.103307218434324,
          39.11951686990055,
          39.134479874760046,
          39.15864558451304,
          39.17844218716873,
          39.18148806283007,
          39.190159322360074,
          39.19203481207883,
          39.203653546221844,
          39.211809300996876,
          39.22105904056098,
          39.22884133934441,
          39.23783880711062,
          39.248161015205895,
          39.2524986061059,
          39.26756140738199,
          39.27919856551068,
          39.2811028036668,
          39.28250678546473,
          39.29097873092903,
          39.304712269030404,
          39.30866406142404,
          39.30871642987087,
          39.31832948277224,
          39.320660615444,
          39.32907412076244,
          39.3300061815939,
          39.34919887514404,
          39.349806965805115,
          39.35993557068218,
          39.3607687763411,
          39.366775873776305,
          39.36688579390216,
          39.37727613148178,
          39.39005632449991,
          39.3913609784113,
          39.39656237647867,
          39.40601951603624,
          39.40837673570634,
          39.4125203011786,
          39.42125887465648,
          39.43346968679556,
          39.4483076075592,
          39.46124304249844,
          39.463251316655615,
          39.47379127118947,
          39.47379127118947,
          39.47379127118947,
          39.47700921343258,
          39.48045254356872,
          39.507197612918326,
          39.540043147289936,
          39.54026176190659,
          39.550100441227954,
          39.55291594889134,
          39.55964868013794,
          39.56389865413129,
          39.5651773420861,
          39.56917420515387,
          39.59148531241502,
          39.60675086248672,
          39.61105996001412,
          39.62285450744373,
          39.62974410396968,
          39.630897498491834,
          39.63556096802513,
          39.63623232832758,
          39.63628794156487,
          39.64109477056041,
          39.64228232732724,
          39.657925643299095,
          39.6693227244646,
          39.67259508721764,
          39.67649869845539,
          39.69125481437247,
          39.69140032206521,
          39.699931325387276,
          39.744534143594116,
          39.76181601167531,
          39.77800204289442,
          39.78368456761006,
          39.79085445117644,
          39.79201738135173,
          39.79943573921106,
          39.803310230336635,
          39.80587496509291,
          39.820527290248194,
          39.82670270474728,
          39.845992708791584,
          39.8776522638788,
          39.88350074492539,
          39.89116766385581,
          39.89142541065661,
          39.89829518184596,
          39.905541772567204,
          39.919870968475465,
          39.92626350079112,
          39.93068617451797,
          39.95209370963593,
          39.95450946876816,
          39.977566775203556,
          39.97843068388129,
          39.98218849396476,
          39.9866627618337,
          39.9935363298102,
          40.01241954529908,
          40.01930569081492,
          40.02358970901305,
          40.025866406539905,
          40.02701188293295,
          40.031310391919845,
          40.05026752142635,
          40.0509242399951,
          40.05489790437209,
          40.058565201415405,
          40.05955320073754,
          40.07010442421556,
          40.072582113972906,
          40.07423089103981,
          40.07626746447252,
          40.08938428682558,
          40.102906996414575,
          40.11508156285055,
          40.11612663474472,
          40.12298242884841,
          40.12298242884841,
          40.13358534770311,
          40.1352533435118,
          40.13654915465665,
          40.13990006873502,
          40.145877045497,
          40.148218368087726,
          40.16482175246268,
          40.17543106566626,
          40.18389251020368,
          40.18478831557693,
          40.19319383123944,
          40.19581459784961,
          40.19775963854863,
          40.204224165055905,
          40.207578176698355,
          40.22097943527464,
          40.225281340223106,
          40.22801920403464,
          40.22868911327653,
          40.231602949726195,
          40.23170683148215,
          40.23397344860017,
          40.24177414008875,
          40.25011163106714,
          40.25670464558007,
          40.25675244690417,
          40.261244162425555,
          40.29103193050828,
          40.29599825854163,
          40.298280067693184,
          40.298740945457524,
          40.3015757666417,
          40.30168405150701,
          40.3042658721584,
          40.313019233888824,
          40.316298452671056,
          40.32343176893619,
          40.324136313646015,
          40.32748721077833,
          40.35624567119631,
          40.35943099413544,
          40.359481803073905,
          40.380768593798116,
          40.38319084910729,
          40.38385065508599,
          40.39438719625785,
          40.40079239202273,
          40.408557192055106,
          40.409303437302114,
          40.41418913507568,
          40.41891253333277,
          40.422008366822546,
          40.44069261076169,
          40.443673400943126,
          40.44413986604502,
          40.445446433782266,
          40.44762246633822,
          40.45358104150148,
          40.454019969506476,
          40.45593901172341,
          40.45836564164186,
          40.46135504776056,
          40.472863960248404,
          40.47553687978723,
          40.47985497870791,
          40.500180071137024,
          40.503498614699524,
          40.52998751176666,
          40.53013279761909,
          40.544277688865364,
          40.5456494013069,
          40.5486858343377,
          40.56543415443059,
          40.56715697661312,
          40.56751302191894,
          40.57438565181978,
          40.614902739555944,
          40.61542833013821,
          40.639419291335855,
          40.6635245663857,
          40.66885688896227,
          40.67289991918226,
          40.67352995146432,
          40.68333317200525,
          40.68338170910397,
          40.68879384682012,
          40.69598123660541,
          40.70199905948872,
          40.714898234913115,
          40.71893420639677,
          40.72351430140009,
          40.72889753232656,
          40.73086480469818,
          40.737523858210224,
          40.74400858217082,
          40.76275637018027,
          40.76391984647971,
          40.76903561322083,
          40.769182502231466,
          40.76921127399356,
          40.773833672094334,
          40.77775341748411,
          40.800639349061704,
          40.80915844905485,
          40.81704933336114,
          40.81850205728561,
          40.82781959585766,
          40.848128903762486,
          40.84899683121639,
          40.860841869070285,
          40.87802008496125,
          40.87997426510172,
          40.89585152805144,
          40.896585200511616,
          40.9014322363048,
          40.90375250194724,
          40.90742490275605,
          40.91136010877769,
          40.92563286832474,
          40.946566570084386,
          40.94757901135908,
          40.956014549514094,
          40.97585727725338,
          40.98520260206303,
          40.99913367487219,
          41.010510083246174,
          41.01108984395337,
          41.012671469200626,
          41.015138450068,
          41.015518473994405,
          41.043592544320774,
          41.04651675599999,
          41.04731424405958,
          41.047704047396714,
          41.049081959428975,
          41.056266209538684,
          41.05842868278722,
          41.060362216132035,
          41.06532661824104,
          41.06891177794466,
          41.07929377676274,
          41.08028497119085,
          41.08362839865404,
          41.090548540976755,
          41.09079083120741,
          41.09848992726306,
          41.11468963164975,
          41.12162287638087,
          41.12341717863171,
          41.1258289633972,
          41.12678118463927,
          41.13431877494054,
          41.149560071805865,
          41.15481064200775,
          41.155546226795224,
          41.17107581876559,
          41.174946728227724,
          41.17944806318107,
          41.182215395935486,
          41.18577122420584,
          41.194378765795065,
          41.20334426661257,
          41.205187083885576,
          41.20826839867021,
          41.21705141684997,
          41.22355295318672,
          41.22676439018316,
          41.24489323742293,
          41.250512813949555,
          41.25260818962161,
          41.25320253798741,
          41.26945613999157,
          41.27324668585088,
          41.28907209158881,
          41.29989685788934,
          41.30030784986569,
          41.30235429992368,
          41.30391143047082,
          41.308810566946384,
          41.31129270757033,
          41.31379222933509,
          41.32508198151871,
          41.33217390128972,
          41.34975560804382,
          41.354616754054206,
          41.3645271625562,
          41.36574138696144,
          41.38655013343309,
          41.39042535941191,
          41.399693329280446,
          41.41464383678233,
          41.42089959828904,
          41.423164957460756,
          41.42911203923657,
          41.429849250066795,
          41.43227108146053,
          41.43496498148015,
          41.43759530207899,
          41.4392659798349,
          41.4454638876686,
          41.45758113017962,
          41.459358492510205,
          41.48417732883392,
          41.48471322649431,
          41.48964055204797,
          41.49062444566289,
          41.49852840233442,
          41.50104169432804,
          41.51970972256194,
          41.53125565960279,
          41.53172165963579,
          41.53396282571324,
          41.54551646089929,
          41.56577257919534,
          41.575712580718864,
          41.57861851556832,
          41.58070549402191,
          41.5901603897343,
          41.59852979654458,
          41.60932143976551,
          41.60982627270781,
          41.61644027922252,
          41.620231534815304,
          41.65103210403422,
          41.671129552912205,
          41.67639055437694,
          41.68499312119394,
          41.69391600957816,
          41.694003994225994,
          41.71921602988169,
          41.72327735630891,
          41.72492215454633,
          41.73686693947927,
          41.751899259758,
          41.7592225965764,
          41.77393020137478,
          41.78299799412811,
          41.791009463881,
          41.79115151540411,
          41.794220190661164,
          41.79593991363862,
          41.80228315722015,
          41.80602065501674,
          41.80805782839805,
          41.809096001578126,
          41.836115545609914,
          41.83718869235187,
          41.838626991643316,
          41.84553503713351,
          41.84576340558138,
          41.853498573134516,
          41.85366949201621,
          41.86178728196602,
          41.867990914748546,
          41.872302061340605,
          41.87849940214315,
          41.87859090394498,
          41.88561572567445,
          41.88980120189734,
          41.898313979064625,
          41.902461035546864,
          41.91804028221715,
          41.91806020446897,
          41.91841142733407,
          41.931949979980246,
          41.93795007658507,
          41.94646299034389,
          41.96750689063119,
          41.9714004084318,
          41.97438140414178,
          41.97638444612208,
          41.98782222794222,
          41.98865466004827,
          41.98986798769409,
          41.998555715094355,
          42.02369222618924,
          42.031457876697466,
          42.052523890071704,
          42.05845091534987,
          42.06134595232572,
          42.06360134157332,
          42.07041649642265,
          42.07383193886544,
          42.0794493295573,
          42.101051161972194,
          42.108330599805555,
          42.11475934984787,
          42.12918360828466,
          42.13736525158745,
          42.146858852606336,
          42.14903592328773,
          42.14926141045504,
          42.15625082555061,
          42.15867786673641,
          42.16831548214622,
          42.16936867337054,
          42.17510918428218,
          42.17702510691531,
          42.188523608980745,
          42.20775478277649,
          42.21224507321446,
          42.21353736849448,
          42.219757903314274,
          42.22498207052793,
          42.22703235740646,
          42.234986831748856,
          42.236948208389066,
          42.23818288959311,
          42.24529574931486,
          42.24629057148222,
          42.252032267028774,
          42.253351388059144,
          42.2685646497234,
          42.28819993805257,
          42.29060248215943,
          42.29178523586495,
          42.29295086628603,
          42.30060250745816,
          42.30173074169832,
          42.316650906324924,
          42.32141598381218,
          42.3219463508286,
          42.325556449008516,
          42.326665716093174,
          42.32993412634002,
          42.334762756370516,
          42.34106277273777,
          42.34287789525685,
          42.34471253501516,
          42.353009369521,
          42.35807371021389,
          42.372021712191454,
          42.379939985803375,
          42.388898685804875,
          42.3890512220873,
          42.392109120666845,
          42.39242896690648,
          42.40207942595974,
          42.4054609820042,
          42.4197353580881,
          42.42589542141488,
          42.427481683282906,
          42.434214987824475,
          42.434833752123595,
          42.434928541128514,
          42.4373402064527,
          42.44261045679663,
          42.44323923905175,
          42.44590114785167,
          42.4535492313267,
          42.463137621032416,
          42.46855210398162,
          42.46855210398162,
          42.49555608021614,
          42.49596641744372,
          42.52202165510914,
          42.52846380262115,
          42.53248690556129,
          42.53673120614502,
          42.55866693230851,
          42.56078622334424,
          42.57104277383279,
          42.578775357265,
          42.579648090690355,
          42.58462313117566,
          42.60414402221164,
          42.62824482170419,
          42.633810547876536,
          42.644932124478004,
          42.64692201927218,
          42.65456981067426,
          42.66102279628926,
          42.66131451865971,
          42.67785120294363,
          42.68102864048244,
          42.687374016020335,
          42.68907070634996,
          42.69489013149542,
          42.70592056246597,
          42.70624403338205,
          42.70667551802282,
          42.70836390393372,
          42.71018966634976,
          42.71209851956894,
          42.72170429122016,
          42.73912097374826,
          42.74922772165981,
          42.756821932818426,
          42.758382170103644,
          42.758809644178214,
          42.76402996592496,
          42.77041611362634,
          42.77360074025499,
          42.80219152468983,
          42.80659856151181,
          42.809042585710124,
          42.816447307510884,
          42.81858112352828,
          42.82678716274909,
          42.83071236435091,
          42.84016220286379,
          42.84166514993659,
          42.842172992051474,
          42.843479643781905,
          42.856437326200755,
          42.865603449732475,
          42.89323802928773,
          42.89979838105619,
          42.90800982613541,
          42.90822083254882,
          42.93580486150009,
          42.93872532925553,
          42.939982300034714,
          42.950439933378895,
          42.95888393994147,
          42.95939030786437,
          42.967478741982944,
          42.969376094677074,
          42.97462283766755,
          42.97661884102119,
          42.98131423889919,
          42.98689982176286,
          43.00751690511255,
          43.01871619497713,
          43.02251132363785,
          43.04542602543201,
          43.067447283980606,
          43.11713781349523,
          43.13915914148526,
          43.164264529805266,
          43.16697341115979,
          43.16743634232732,
          43.17999466800336,
          43.181360472202435,
          43.18510899449076,
          43.189927280117914,
          43.19182480528211,
          43.19852995759904,
          43.21147412666586,
          43.21586941083403,
          43.23993461131381,
          43.2431049717278,
          43.25188604569294,
          43.25462728486836,
          43.28557854895183,
          43.291293222659114,
          43.29383982262287,
          43.29557270746369,
          43.295644043108396,
          43.307909200305396,
          43.30989881841992,
          43.31716877376498,
          43.36030455700191,
          43.38088024164021,
          43.39323261193634,
          43.40276792364014,
          43.40895611312591,
          43.410682090450734,
          43.41319312560776,
          43.44556731812467,
          43.45080748617973,
          43.46397657438463,
          43.484446327688474,
          43.48542176344695,
          43.49944748024547,
          43.51276251744088,
          43.52627820745542,
          43.52885822267329,
          43.546625476384044,
          43.549545450388024,
          43.55198508572357,
          43.55470072033478,
          43.56380981690648,
          43.5651472440454,
          43.567178447783135,
          43.574990192712065,
          43.57664377136649,
          43.597821685268954,
          43.60067803365145,
          43.60081955955769,
          43.602126621186244,
          43.60990375452554,
          43.62503619515388,
          43.65294994586271,
          43.67315662099127,
          43.69324240139795,
          43.69838430635278,
          43.708835039835876,
          43.71809425177729,
          43.722133846298114,
          43.73739474608371,
          43.73845397770917,
          43.744275840795844,
          43.761703256123056,
          43.76666192880979,
          43.76718333522635,
          43.769582002461206,
          43.77237757120035,
          43.77671687262438,
          43.83517542941666,
          43.847984791937606,
          43.85179794818008,
          43.85709384236129,
          43.86688554379958,
          43.86814575164733,
          43.876918454089825,
          43.88905150715672,
          43.89556211630196,
          43.900062941010106,
          43.91237921266148,
          43.9384637363222,
          43.95534894493065,
          43.97187811906237,
          43.98263281945786,
          44.01525055954622,
          44.01963528591962,
          44.04133167238302,
          44.054416309728865,
          44.06013609326803,
          44.06210075833056,
          44.11453054076814,
          44.16545896160214,
          44.19897142334875,
          44.20735731107002,
          44.213806578548315,
          44.21969144186714,
          44.23628484897026,
          44.23818301447035,
          44.24310646852789,
          44.24328212784401,
          44.26763072046871,
          44.28630099510599,
          44.28729190069481,
          44.30359833761386,
          44.31812507709322,
          44.32951479894834,
          44.339439981153376,
          44.34563008849033,
          44.35561668955421,
          44.360219438472456,
          44.38729085689545,
          44.394099220787304,
          44.43442625421509,
          44.43670426726907,
          44.462985286138085,
          44.50544728245582,
          44.52434930542671,
          44.56542014328758,
          44.5680402981872,
          44.58226504882763,
          44.587602770937764,
          44.594484562720346,
          44.61168809918583,
          44.68091814786966,
          44.70385218676222,
          44.719226938679185,
          44.72019290780587,
          44.73500362191948,
          44.75325956046077,
          44.76310337225363,
          44.78231592030923,
          44.87058036068444,
          44.87756427531984,
          44.94382707854002,
          45.000760630362855,
          45.013059473758396,
          45.07650993791488,
          45.07757904504645,
          45.08173384984997,
          45.100699193500624,
          45.14165632886864,
          45.179903691267825,
          45.18669537616681,
          45.21162570236432,
          45.21613941337593,
          45.23818031985601,
          45.29637034566854,
          45.322723094398214,
          45.33210638673687,
          45.40332356561667,
          45.45697705773962,
          45.473823211001445,
          45.49253153615486,
          45.503057890948085,
          45.54818381731832,
          45.58916921316007,
          45.60441769708968,
          45.62022422992747,
          45.65955460897934,
          45.985706330958635,
          46.04177265287744,
          46.058121060262096,
          46.325730983969564,
          46.481540666391126,
          46.567296077772276
         ],
         "yaxis": "y"
        }
       ],
       "layout": {
        "font": {
         "size": 16
        },
        "height": 600,
        "legend": {
         "bgcolor": "rgba(176,196,222,0.7)",
         "bordercolor": "black",
         "borderwidth": 2,
         "font": {
          "size": 16
         },
         "itemclick": "toggle",
         "orientation": "v",
         "title": {
          "text": "Residential Level"
         },
         "tracegroupgap": 0,
         "x": 0.005,
         "y": 0.99
        },
        "margin": {
         "t": 60
        },
        "template": {
         "data": {
          "bar": [
           {
            "error_x": {
             "color": "#2a3f5f"
            },
            "error_y": {
             "color": "#2a3f5f"
            },
            "marker": {
             "line": {
              "color": "#E5ECF6",
              "width": 0.5
             },
             "pattern": {
              "fillmode": "overlay",
              "size": 10,
              "solidity": 0.2
             }
            },
            "type": "bar"
           }
          ],
          "barpolar": [
           {
            "marker": {
             "line": {
              "color": "#E5ECF6",
              "width": 0.5
             },
             "pattern": {
              "fillmode": "overlay",
              "size": 10,
              "solidity": 0.2
             }
            },
            "type": "barpolar"
           }
          ],
          "carpet": [
           {
            "aaxis": {
             "endlinecolor": "#2a3f5f",
             "gridcolor": "white",
             "linecolor": "white",
             "minorgridcolor": "white",
             "startlinecolor": "#2a3f5f"
            },
            "baxis": {
             "endlinecolor": "#2a3f5f",
             "gridcolor": "white",
             "linecolor": "white",
             "minorgridcolor": "white",
             "startlinecolor": "#2a3f5f"
            },
            "type": "carpet"
           }
          ],
          "choropleth": [
           {
            "colorbar": {
             "outlinewidth": 0,
             "ticks": ""
            },
            "type": "choropleth"
           }
          ],
          "contour": [
           {
            "colorbar": {
             "outlinewidth": 0,
             "ticks": ""
            },
            "colorscale": [
             [
              0,
              "#0d0887"
             ],
             [
              0.1111111111111111,
              "#46039f"
             ],
             [
              0.2222222222222222,
              "#7201a8"
             ],
             [
              0.3333333333333333,
              "#9c179e"
             ],
             [
              0.4444444444444444,
              "#bd3786"
             ],
             [
              0.5555555555555556,
              "#d8576b"
             ],
             [
              0.6666666666666666,
              "#ed7953"
             ],
             [
              0.7777777777777778,
              "#fb9f3a"
             ],
             [
              0.8888888888888888,
              "#fdca26"
             ],
             [
              1,
              "#f0f921"
             ]
            ],
            "type": "contour"
           }
          ],
          "contourcarpet": [
           {
            "colorbar": {
             "outlinewidth": 0,
             "ticks": ""
            },
            "type": "contourcarpet"
           }
          ],
          "heatmap": [
           {
            "colorbar": {
             "outlinewidth": 0,
             "ticks": ""
            },
            "colorscale": [
             [
              0,
              "#0d0887"
             ],
             [
              0.1111111111111111,
              "#46039f"
             ],
             [
              0.2222222222222222,
              "#7201a8"
             ],
             [
              0.3333333333333333,
              "#9c179e"
             ],
             [
              0.4444444444444444,
              "#bd3786"
             ],
             [
              0.5555555555555556,
              "#d8576b"
             ],
             [
              0.6666666666666666,
              "#ed7953"
             ],
             [
              0.7777777777777778,
              "#fb9f3a"
             ],
             [
              0.8888888888888888,
              "#fdca26"
             ],
             [
              1,
              "#f0f921"
             ]
            ],
            "type": "heatmap"
           }
          ],
          "heatmapgl": [
           {
            "colorbar": {
             "outlinewidth": 0,
             "ticks": ""
            },
            "colorscale": [
             [
              0,
              "#0d0887"
             ],
             [
              0.1111111111111111,
              "#46039f"
             ],
             [
              0.2222222222222222,
              "#7201a8"
             ],
             [
              0.3333333333333333,
              "#9c179e"
             ],
             [
              0.4444444444444444,
              "#bd3786"
             ],
             [
              0.5555555555555556,
              "#d8576b"
             ],
             [
              0.6666666666666666,
              "#ed7953"
             ],
             [
              0.7777777777777778,
              "#fb9f3a"
             ],
             [
              0.8888888888888888,
              "#fdca26"
             ],
             [
              1,
              "#f0f921"
             ]
            ],
            "type": "heatmapgl"
           }
          ],
          "histogram": [
           {
            "marker": {
             "pattern": {
              "fillmode": "overlay",
              "size": 10,
              "solidity": 0.2
             }
            },
            "type": "histogram"
           }
          ],
          "histogram2d": [
           {
            "colorbar": {
             "outlinewidth": 0,
             "ticks": ""
            },
            "colorscale": [
             [
              0,
              "#0d0887"
             ],
             [
              0.1111111111111111,
              "#46039f"
             ],
             [
              0.2222222222222222,
              "#7201a8"
             ],
             [
              0.3333333333333333,
              "#9c179e"
             ],
             [
              0.4444444444444444,
              "#bd3786"
             ],
             [
              0.5555555555555556,
              "#d8576b"
             ],
             [
              0.6666666666666666,
              "#ed7953"
             ],
             [
              0.7777777777777778,
              "#fb9f3a"
             ],
             [
              0.8888888888888888,
              "#fdca26"
             ],
             [
              1,
              "#f0f921"
             ]
            ],
            "type": "histogram2d"
           }
          ],
          "histogram2dcontour": [
           {
            "colorbar": {
             "outlinewidth": 0,
             "ticks": ""
            },
            "colorscale": [
             [
              0,
              "#0d0887"
             ],
             [
              0.1111111111111111,
              "#46039f"
             ],
             [
              0.2222222222222222,
              "#7201a8"
             ],
             [
              0.3333333333333333,
              "#9c179e"
             ],
             [
              0.4444444444444444,
              "#bd3786"
             ],
             [
              0.5555555555555556,
              "#d8576b"
             ],
             [
              0.6666666666666666,
              "#ed7953"
             ],
             [
              0.7777777777777778,
              "#fb9f3a"
             ],
             [
              0.8888888888888888,
              "#fdca26"
             ],
             [
              1,
              "#f0f921"
             ]
            ],
            "type": "histogram2dcontour"
           }
          ],
          "mesh3d": [
           {
            "colorbar": {
             "outlinewidth": 0,
             "ticks": ""
            },
            "type": "mesh3d"
           }
          ],
          "parcoords": [
           {
            "line": {
             "colorbar": {
              "outlinewidth": 0,
              "ticks": ""
             }
            },
            "type": "parcoords"
           }
          ],
          "pie": [
           {
            "automargin": true,
            "type": "pie"
           }
          ],
          "scatter": [
           {
            "marker": {
             "colorbar": {
              "outlinewidth": 0,
              "ticks": ""
             }
            },
            "type": "scatter"
           }
          ],
          "scatter3d": [
           {
            "line": {
             "colorbar": {
              "outlinewidth": 0,
              "ticks": ""
             }
            },
            "marker": {
             "colorbar": {
              "outlinewidth": 0,
              "ticks": ""
             }
            },
            "type": "scatter3d"
           }
          ],
          "scattercarpet": [
           {
            "marker": {
             "colorbar": {
              "outlinewidth": 0,
              "ticks": ""
             }
            },
            "type": "scattercarpet"
           }
          ],
          "scattergeo": [
           {
            "marker": {
             "colorbar": {
              "outlinewidth": 0,
              "ticks": ""
             }
            },
            "type": "scattergeo"
           }
          ],
          "scattergl": [
           {
            "marker": {
             "colorbar": {
              "outlinewidth": 0,
              "ticks": ""
             }
            },
            "type": "scattergl"
           }
          ],
          "scattermapbox": [
           {
            "marker": {
             "colorbar": {
              "outlinewidth": 0,
              "ticks": ""
             }
            },
            "type": "scattermapbox"
           }
          ],
          "scatterpolar": [
           {
            "marker": {
             "colorbar": {
              "outlinewidth": 0,
              "ticks": ""
             }
            },
            "type": "scatterpolar"
           }
          ],
          "scatterpolargl": [
           {
            "marker": {
             "colorbar": {
              "outlinewidth": 0,
              "ticks": ""
             }
            },
            "type": "scatterpolargl"
           }
          ],
          "scatterternary": [
           {
            "marker": {
             "colorbar": {
              "outlinewidth": 0,
              "ticks": ""
             }
            },
            "type": "scatterternary"
           }
          ],
          "surface": [
           {
            "colorbar": {
             "outlinewidth": 0,
             "ticks": ""
            },
            "colorscale": [
             [
              0,
              "#0d0887"
             ],
             [
              0.1111111111111111,
              "#46039f"
             ],
             [
              0.2222222222222222,
              "#7201a8"
             ],
             [
              0.3333333333333333,
              "#9c179e"
             ],
             [
              0.4444444444444444,
              "#bd3786"
             ],
             [
              0.5555555555555556,
              "#d8576b"
             ],
             [
              0.6666666666666666,
              "#ed7953"
             ],
             [
              0.7777777777777778,
              "#fb9f3a"
             ],
             [
              0.8888888888888888,
              "#fdca26"
             ],
             [
              1,
              "#f0f921"
             ]
            ],
            "type": "surface"
           }
          ],
          "table": [
           {
            "cells": {
             "fill": {
              "color": "#EBF0F8"
             },
             "line": {
              "color": "white"
             }
            },
            "header": {
             "fill": {
              "color": "#C8D4E3"
             },
             "line": {
              "color": "white"
             }
            },
            "type": "table"
           }
          ]
         },
         "layout": {
          "annotationdefaults": {
           "arrowcolor": "#2a3f5f",
           "arrowhead": 0,
           "arrowwidth": 1
          },
          "autotypenumbers": "strict",
          "coloraxis": {
           "colorbar": {
            "outlinewidth": 0,
            "ticks": ""
           }
          },
          "colorscale": {
           "diverging": [
            [
             0,
             "#8e0152"
            ],
            [
             0.1,
             "#c51b7d"
            ],
            [
             0.2,
             "#de77ae"
            ],
            [
             0.3,
             "#f1b6da"
            ],
            [
             0.4,
             "#fde0ef"
            ],
            [
             0.5,
             "#f7f7f7"
            ],
            [
             0.6,
             "#e6f5d0"
            ],
            [
             0.7,
             "#b8e186"
            ],
            [
             0.8,
             "#7fbc41"
            ],
            [
             0.9,
             "#4d9221"
            ],
            [
             1,
             "#276419"
            ]
           ],
           "sequential": [
            [
             0,
             "#0d0887"
            ],
            [
             0.1111111111111111,
             "#46039f"
            ],
            [
             0.2222222222222222,
             "#7201a8"
            ],
            [
             0.3333333333333333,
             "#9c179e"
            ],
            [
             0.4444444444444444,
             "#bd3786"
            ],
            [
             0.5555555555555556,
             "#d8576b"
            ],
            [
             0.6666666666666666,
             "#ed7953"
            ],
            [
             0.7777777777777778,
             "#fb9f3a"
            ],
            [
             0.8888888888888888,
             "#fdca26"
            ],
            [
             1,
             "#f0f921"
            ]
           ],
           "sequentialminus": [
            [
             0,
             "#0d0887"
            ],
            [
             0.1111111111111111,
             "#46039f"
            ],
            [
             0.2222222222222222,
             "#7201a8"
            ],
            [
             0.3333333333333333,
             "#9c179e"
            ],
            [
             0.4444444444444444,
             "#bd3786"
            ],
            [
             0.5555555555555556,
             "#d8576b"
            ],
            [
             0.6666666666666666,
             "#ed7953"
            ],
            [
             0.7777777777777778,
             "#fb9f3a"
            ],
            [
             0.8888888888888888,
             "#fdca26"
            ],
            [
             1,
             "#f0f921"
            ]
           ]
          },
          "colorway": [
           "#636efa",
           "#EF553B",
           "#00cc96",
           "#ab63fa",
           "#FFA15A",
           "#19d3f3",
           "#FF6692",
           "#B6E880",
           "#FF97FF",
           "#FECB52"
          ],
          "font": {
           "color": "#2a3f5f"
          },
          "geo": {
           "bgcolor": "white",
           "lakecolor": "white",
           "landcolor": "#E5ECF6",
           "showlakes": true,
           "showland": true,
           "subunitcolor": "white"
          },
          "hoverlabel": {
           "align": "left"
          },
          "hovermode": "closest",
          "mapbox": {
           "style": "light"
          },
          "paper_bgcolor": "white",
          "plot_bgcolor": "#E5ECF6",
          "polar": {
           "angularaxis": {
            "gridcolor": "white",
            "linecolor": "white",
            "ticks": ""
           },
           "bgcolor": "#E5ECF6",
           "radialaxis": {
            "gridcolor": "white",
            "linecolor": "white",
            "ticks": ""
           }
          },
          "scene": {
           "xaxis": {
            "backgroundcolor": "#E5ECF6",
            "gridcolor": "white",
            "gridwidth": 2,
            "linecolor": "white",
            "showbackground": true,
            "ticks": "",
            "zerolinecolor": "white"
           },
           "yaxis": {
            "backgroundcolor": "#E5ECF6",
            "gridcolor": "white",
            "gridwidth": 2,
            "linecolor": "white",
            "showbackground": true,
            "ticks": "",
            "zerolinecolor": "white"
           },
           "zaxis": {
            "backgroundcolor": "#E5ECF6",
            "gridcolor": "white",
            "gridwidth": 2,
            "linecolor": "white",
            "showbackground": true,
            "ticks": "",
            "zerolinecolor": "white"
           }
          },
          "shapedefaults": {
           "line": {
            "color": "#2a3f5f"
           }
          },
          "ternary": {
           "aaxis": {
            "gridcolor": "white",
            "linecolor": "white",
            "ticks": ""
           },
           "baxis": {
            "gridcolor": "white",
            "linecolor": "white",
            "ticks": ""
           },
           "bgcolor": "#E5ECF6",
           "caxis": {
            "gridcolor": "white",
            "linecolor": "white",
            "ticks": ""
           }
          },
          "title": {
           "x": 0.05
          },
          "xaxis": {
           "automargin": true,
           "gridcolor": "white",
           "linecolor": "white",
           "ticks": "",
           "title": {
            "standoff": 15
           },
           "zerolinecolor": "white",
           "zerolinewidth": 2
          },
          "yaxis": {
           "automargin": true,
           "gridcolor": "white",
           "linecolor": "white",
           "ticks": "",
           "title": {
            "standoff": 15
           },
           "zerolinecolor": "white",
           "zerolinewidth": 2
          }
         }
        },
        "title": {
         "text": "Impact of Residential Level On Slope"
        },
        "width": 800,
        "xaxis": {
         "anchor": "y",
         "domain": [
          0,
          1
         ],
         "range": [
          13,
          22.5
         ],
         "title": {
          "text": "Log Revenues"
         }
        },
        "yaxis": {
         "anchor": "x",
         "domain": [
          0,
          1
         ],
         "range": [
          15,
          100
         ],
         "title": {
          "text": "Graduation Rate"
         }
        }
       }
      },
      "text/html": [
       "<div>                            <div id=\"f6c5819d-fec7-4ec0-a16e-7fa68e41d45d\" class=\"plotly-graph-div\" style=\"height:600px; width:800px;\"></div>            <script type=\"text/javascript\">                require([\"plotly\"], function(Plotly) {                    window.PLOTLYENV=window.PLOTLYENV || {};                                    if (document.getElementById(\"f6c5819d-fec7-4ec0-a16e-7fa68e41d45d\")) {                    Plotly.newPlot(                        \"f6c5819d-fec7-4ec0-a16e-7fa68e41d45d\",                        [{\"hovertemplate\":\"<b>OLS trendline</b><br>Graduation rate  total cohort (DRVGR2019) = -7.67651 * Log_Core_Revenues + 166.718<br>R<sup>2</sup>=0.243647<br><br>Residential_Level=Missing<br>Log_Core_Revenues=%{x}<br>Graduation rate  total cohort (DRVGR2019)=%{y} <b>(trend)</b><extra></extra>\",\"legendgroup\":\"Missing\",\"line\":{\"width\":4},\"marker\":{\"color\":\"#636efa\",\"line\":{\"width\":2},\"size\":10,\"symbol\":\"circle\"},\"mode\":\"lines\",\"name\":\"Missing\",\"showlegend\":true,\"type\":\"scattergl\",\"x\":[11.914215201667913,12.36518528018719,13.316402679152272,13.334775957244753,13.606120738957637,13.765709833350595,13.815640549515006,13.93147950471148,13.971566849531035,13.975785020529553,14.051922493655102,14.06357537865173,14.108733004161817,14.222973668735111,14.250204316732567,14.319787586408497,14.376437485979759,14.646863252902174,14.693247554206181,14.712833737769854,14.753487632025244,15.013865612239478,15.021371478676086,15.102332589539275,15.175120793497562,15.281060778812495,15.31262555113909,15.421301829478177,15.495806667749482,15.518803956284733,15.655151842429818,15.672470204387245,15.676925745614371,15.724912015865018,15.772637420961054,15.81196946001926,16.032575779303222,16.07279928635704,16.109260132470865,16.16697638245498,16.17401387385708,16.194663744530295,16.224372386758255,16.256791547047133,16.305075341780796,16.335089853724988,16.346925882413768,16.377686843243573,16.380286746586798,16.388306893360383,16.483390357768805,16.51472524057903,16.560462503437595,16.56724885040451,16.736405755171127,16.80965201684331,16.852957835187134,16.869345074811033,16.947203776638506,16.947203776638506,16.95694820708573,17.043760864748148,17.090304643555893,17.213826826536504,17.215621149283685,17.39258829635953,17.539828364770052,17.60348862035313,17.605892751075288,17.663261737355217,17.69823755541744,17.733996255140116,17.90063558390446,17.94697792914853,17.969846160940556,18.02026583210881,18.07255258624555,18.141003348419872,18.143424136984166,18.16709812670318,18.387353696183226,18.412037427883128,18.41280830748062,18.509660181373302,18.63180971235037,18.944996957127657,19.30897514636838,19.360905810753135,19.89166259288022,20.062447254151852],\"xaxis\":\"x\",\"y\":[75.25813390983663,71.79625725198497,64.49422665866517,64.35318399178708,62.27020285670601,61.045115457247746,60.66182177761618,59.772582792224256,59.46485185858508,59.43247102354931,58.848000892256835,58.75854739525562,58.41189439736567,57.53492470713189,57.32588834491892,56.79173162689666,56.356858063578855,54.28093175542064,53.92486216760598,53.77450861883372,53.46242856235723,51.463634196926435,51.406015332501624,50.78451649423883,50.225757063729574,49.41250762709487,49.170200312856565,48.335945693393626,47.76400850111841,47.58746956834604,46.5407935539574,46.40784896213549,46.373645951986944,46.00527883232455,45.638914246827056,45.33698142598806,43.643494643425214,43.334718458930325,43.054826381607995,42.61176696787753,42.557743589442396,42.39922463513399,42.171165923560196,41.92229989094065,41.551648821384546,41.32124209764453,41.23038269612084,40.99424584948248,40.97428766350674,40.912720920544146,40.18281168340812,39.942269118514645,39.5911665282852,39.53907106280779,38.240536264116145,37.678260548639855,37.34582296837755,37.220026147163,36.6223429852287,36.6223429852287,36.547539760101074,35.88112145990172,35.523827641314455,34.57560827520592,34.56183413733959,33.20334392956346,32.07305396087082,31.58436532423326,31.56590998888862,31.125516348718094,30.857024105205085,30.582522062205868,29.303313462771712,28.947565951102405,28.77201772380738,28.38497057583021,27.98359074536529,27.45812773335902,27.439544523910115,27.257810887222774,25.567016639301954,25.377531707438777,25.37161404191795,24.628129590357076,23.690447402116348,21.286262149313558,18.492179665090163,18.093533361436045,14.019173215248031,12.708142926239418],\"yaxis\":\"y\"},{\"hovertemplate\":\"<b>OLS trendline</b><br>Graduation rate  total cohort (DRVGR2019) = 8.58823 * Log_Core_Revenues + -90.486<br>R<sup>2</sup>=0.411771<br><br>Residential_Level=highly residential<br>Log_Core_Revenues=%{x}<br>Graduation rate  total cohort (DRVGR2019)=%{y} <b>(trend)</b><extra></extra>\",\"legendgroup\":\"highly residential\",\"line\":{\"width\":4},\"marker\":{\"color\":\"#EF553B\",\"line\":{\"width\":2},\"size\":10,\"symbol\":\"circle\"},\"mode\":\"lines\",\"name\":\"highly residential\",\"showlegend\":true,\"type\":\"scattergl\",\"x\":[13.187828968679552,13.38745929213109,13.478302050362093,13.507088218769805,13.611358030175182,13.65538053745574,13.845211097733396,13.869064594946437,14.033013430519741,14.07801173613558,14.081466058524835,14.201155198617124,14.245168641669911,14.248187379485104,14.253940957370904,14.280848946879365,14.281864409868337,14.285249777256778,14.30201602976782,14.401384839871586,14.427436294747496,14.432968747988564,14.435834863356458,14.508309677958168,14.556046921778023,14.56027770454878,14.570343914339837,14.572265670548024,14.625543038002705,14.625871723413033,14.627809170832036,14.651495380863802,14.652907854831325,14.687884929368852,14.727211975024613,14.745539684434878,14.752119078533832,14.759039732223084,14.764933118686821,14.767195074247498,14.775143880984265,14.807890469532321,14.813366898847304,14.814171747736527,14.820030458352202,14.824153280330204,14.936035338102236,14.947949873308923,14.98087890721091,14.990580983555606,15.022509877768364,15.044548003230428,15.072834537787205,15.072964222210581,15.07945647780485,15.115844171807984,15.119628018974549,15.120188056411843,15.171182038411917,15.211534928638676,15.21359909356687,15.232202689681666,15.241420265897801,15.266516940794641,15.273287089693586,15.276821710279583,15.291716690028474,15.31903157776936,15.324382221632742,15.33844852624104,15.356279832056462,15.42300979237596,15.428974156439892,15.458630217918893,15.461642918305948,15.494450838736427,15.50953830114341,15.537343505704113,15.561592164783349,15.568556572028625,15.569412557733303,15.577889275765465,15.6010857774115,15.604686693256726,15.60679074568863,15.629080604527116,15.63998162114907,15.667346891173692,15.684682509623377,15.726806339774887,15.72764392588486,15.747842944985837,15.755399760300701,15.825658691929242,15.843582486554888,15.845707757351407,15.852500783708647,15.87598765597387,15.881919037052349,15.898163562373012,15.947883676314092,15.963756820098432,15.978677364526693,15.979539541274614,15.98829386612072,15.996673727573409,16.022979152396573,16.04303196071306,16.076265022938273,16.086799289033884,16.092809329657808,16.10268511628688,16.124207435892718,16.148922871717836,16.156234625397033,16.174584957662674,16.174681728823053,16.176932228116417,16.1794904231916,16.189027720983805,16.19126794979197,16.19580520818267,16.19952475099184,16.205140127400156,16.215597518169304,16.22595296701423,16.237627112782018,16.253010910597027,16.254793686971155,16.255181058084844,16.279669794286164,16.282082652311075,16.290890976955964,16.301402888476048,16.30469048096744,16.319501112777182,16.320344908925737,16.33678152156046,16.33976747982013,16.36832644787834,16.373467603011502,16.37432018270503,16.375410109668703,16.375410109668703,16.385961599522844,16.392434623870695,16.39425198149835,16.39630222230744,16.396794696567525,16.409562975296353,16.420900446428877,16.42328750355183,16.440018050195015,16.44297783883775,16.44627574545694,16.471351115134343,16.471909646283603,16.473549309431466,16.478257000316628,16.488631507073897,16.489666448743893,16.49399544747042,16.494005884817224,16.49451855403229,16.4952708121541,16.502775773414296,16.50341390052953,16.509101661651258,16.514864388343252,16.51627004629157,16.52160538189533,16.52332839873958,16.523737810058698,16.52906458519013,16.532432620792047,16.5387376058788,16.547658723343872,16.548390923171823,16.551704061578935,16.553038910806674,16.557988723273883,16.572250664241896,16.57831349268789,16.583144085982337,16.58703796721061,16.588069092248404,16.59315995336927,16.61000863287357,16.61004421895462,16.618702076129452,16.630357323113067,16.63793502851221,16.656689270545296,16.664944747532157,16.6758248031724,16.685583912354208,16.69246295543151,16.695908239725355,16.71180098813487,16.713070750378243,16.713310105844755,16.714276596210674,16.71878729833043,16.72212425412229,16.73322372082391,16.735043843945547,16.73927738559209,16.7414370225443,16.745280470535,16.746420910226664,16.746724416845225,16.7484702169162,16.752604205056887,16.759294691186955,16.761861760297645,16.772032298313167,16.776049083247095,16.780797283734078,16.787436547272854,16.790581447596143,16.79385620633716,16.79837251314798,16.799535264629814,16.821763791610806,16.823219079112597,16.8256969654034,16.82882795294506,16.831511722645587,16.832993315411404,16.83446025899695,16.836041194614417,16.840245119711287,16.844349797594404,16.85190807775415,16.853164221481823,16.858437914698325,16.861324684907395,16.861977152209125,16.864319746807926,16.867032678742437,16.867261662947428,16.868824380823774,16.8690674900346,16.887966066603,16.889220577856676,16.89419496424561,16.90673254066078,16.908547248781296,16.911765177083588,16.91189318174275,16.929934742910827,16.930127171627326,16.93026048250118,16.936372459204758,16.93713710419061,16.941434823295207,16.94314877882201,16.945550622667437,16.94682129621032,16.952493230809,16.955910979628705,16.96123948101037,16.96206890524778,16.97067444264939,16.971793743238816,16.97579473063223,16.98262565289816,16.986956059660034,16.98951453203694,16.995026194352963,16.997521797428977,17.00264036838526,17.00271576146981,17.00397410208174,17.005411639995025,17.006112949749937,17.006718985955548,17.007434748572933,17.010683229565736,17.02312323100684,17.0277699423856,17.03171052591851,17.03237788715475,17.032831614806817,17.03571761634781,17.03919763019765,17.041159314659904,17.05075091055342,17.05417669632735,17.06027558653913,17.078219557595578,17.095138657677385,17.0972089826187,17.097881647467176,17.099101038457455,17.10222325841355,17.103427775808907,17.10421762279035,17.10765914915603,17.111046675044474,17.12141974958033,17.128014384932538,17.13032501966176,17.131660197080514,17.133263828734172,17.133396907906892,17.13702997098308,17.137447969977988,17.13924432822302,17.14014815397655,17.14271490958456,17.145733427414378,17.16317719664816,17.168817340726807,17.174667738115478,17.176629765625314,17.178488839358113,17.18291438211917,17.184565735941778,17.195031357573317,17.199130694329902,17.202107334321294,17.2077048330147,17.20851090218902,17.214306859338883,17.21649284982961,17.21664127073744,17.216970738425132,17.2175919154713,17.223684678817367,17.225920869953775,17.240706750616514,17.246102132851398,17.24754023483859,17.250339504859053,17.262869763845707,17.267366769450565,17.267701674150405,17.269330623317657,17.273403283302976,17.279949714101352,17.28019390702361,17.283862224170015,17.286853058132852,17.288304649293615,17.30812479268469,17.30871853025356,17.3132388286075,17.316762423160466,17.323168150397873,17.326465195440868,17.327228549071474,17.328603723820798,17.329580032615784,17.332164330000847,17.338409303413588,17.34804887244459,17.348427951023417,17.35404471176801,17.371401529194376,17.383220213434036,17.38398841660964,17.387748661950813,17.38839430944012,17.388789355798643,17.3899045459582,17.39078185572281,17.396633795686316,17.400745911425894,17.406192282311302,17.406717286158322,17.417905768856432,17.42087752500977,17.422015260218842,17.4278964196709,17.442188491359968,17.44337219265723,17.444844657643152,17.45146327909275,17.452738521967284,17.453552113982028,17.45539297401185,17.458079703024783,17.458278322590658,17.462056459062133,17.467858591533755,17.46976251593411,17.4757658209516,17.476363693233914,17.47823272362364,17.48170537527942,17.482071266509642,17.48728670583472,17.492434428048085,17.50195988671397,17.504717833338947,17.505980496586897,17.5098821526259,17.51509364823459,17.523285365180502,17.527320121151856,17.52942407856169,17.54177697763591,17.542617876751283,17.560551843383596,17.57771695788167,17.58233637780777,17.582774391639294,17.58629946092115,17.587937532253232,17.589026934781145,17.591570714314845,17.594378260037463,17.595686032277037,17.599362862266023,17.60124095883673,17.604815992920116,17.60540683253647,17.61147253423144,17.6145612401809,17.617693317598864,17.619395594178982,17.623362073896068,17.624290471077376,17.626466263127124,17.629574059225487,17.63315587068683,17.63699597662623,17.643762248092926,17.643836317688805,17.64552594487867,17.64578260248479,17.648468710796067,17.65213819674807,17.654964074857936,17.656103596026906,17.657025666262044,17.66409470407177,17.665065558589074,17.672069583775876,17.677595876070068,17.678624498154537,17.682353251857865,17.682842217578358,17.689315903812663,17.69250442450502,17.693664756008225,17.703070733400004,17.71049584221806,17.712744745918982,17.714297856597085,17.71527667367641,17.718636542014007,17.72041301233309,17.730193382934125,17.730481693383453,17.733283799052945,17.734143886982576,17.74833410437178,17.75098087408688,17.76639573150688,17.76866049701402,17.776714146576523,17.776911269211162,17.778309221829595,17.781029703732283,17.790962569245487,17.791577874928542,17.79214083216682,17.801546763912597,17.806682357798362,17.80799895710624,17.81338335266685,17.818355358177282,17.821640346678247,17.825259005918266,17.82691866577453,17.8310659390201,17.83418484365508,17.837896157769052,17.838382874017256,17.842174672808298,17.84363739441797,17.850186800342414,17.851983799347433,17.86141637926056,17.862331169030785,17.869151156894606,17.876421596899352,17.88265124409502,17.882863056717383,17.8833983903725,17.88371593222685,17.886336700877845,17.893043967963553,17.895339831248712,17.899326875539863,17.905654710805543,17.909923451185094,17.918038213827682,17.920376129755624,17.926248462075762,17.92761099745528,17.930644237865057,17.937256159237222,17.938271781760374,17.93924997695076,17.944792796011104,17.946180331314125,17.949808337428916,17.950301924331523,17.957338700988664,17.968198616723534,17.974979219839376,17.97818972395155,17.98005631247074,17.983739039861263,17.98377611295578,17.984756232483186,17.993034273299294,17.993146376377073,17.99481130616144,17.995282657452687,17.99680892190747,17.997484361813886,17.999234413669825,18.00149110384577,18.00496928078019,18.00746991505144,18.007990577859147,18.009033385052152,18.011418435595814,18.021665734163093,18.02641110702989,18.02701901606713,18.030215453977036,18.031119245369414,18.031582263908994,18.036150372063172,18.037699532968638,18.039080837932207,18.04545911141045,18.050260594580813,18.051210647203234,18.059352346617516,18.06693446442923,18.071814333905827,18.071995794821465,18.07220466867333,18.077466708389917,18.085048316592616,18.085187979491646,18.085848334080044,18.08595045925156,18.097540598729385,18.097730669415252,18.09891717260089,18.099127105582223,18.10005337970403,18.102953508871664,18.104942128568933,18.105668583828628,18.118004268544553,18.120677327883524,18.124098179373842,18.13532964600076,18.136011953669065,18.13922374877248,18.1394289661042,18.1417199701753,18.14186650247069,18.147236024351756,18.154981769514926,18.16008888883902,18.16012600231049,18.163407132097692,18.16774568744838,18.178879706667296,18.18380651941139,18.19222891613465,18.197881783259987,18.208203974699646,18.20991503262623,18.21171033988807,18.2141625227654,18.215082371853903,18.216420905214438,18.217877787948687,18.21815207574956,18.218311467829633,18.224508341538296,18.235009900554687,18.24955744397846,18.250914865698384,18.25658409992907,18.257666939082792,18.261309795535222,18.273168078676772,18.275863019622843,18.27860745296782,18.278713872506742,18.284215795514623,18.285248757772177,18.289519454698283,18.295990155993326,18.30123426303774,18.302593497028425,18.303654851590643,18.30633600183442,18.31566091469878,18.325377055126975,18.331431759931775,18.335242674120252,18.343199605989327,18.355773866980112,18.37297482827304,18.38437404014681,18.385026778385654,18.39002955927833,18.39096176758363,18.392871044039097,18.394244361879327,18.403094030305073,18.403290404748283,18.403810010053235,18.406642669648438,18.414928964135612,18.419013865482025,18.42710116884328,18.430932791660663,18.433060072894747,18.433736722532924,18.43932705591475,18.440022323806033,18.440318083079404,18.44693311509643,18.44996343040755,18.451985593780776,18.454057491275663,18.458472773561624,18.45933326686999,18.468041315312202,18.476826361754178,18.495723279265864,18.49619006518622,18.50023524324081,18.513764228327638,18.518372875564822,18.51908904688596,18.52151891621273,18.526239526953923,18.538787709360065,18.54044575198104,18.543132597032496,18.554774084904345,18.55640847286356,18.564616572229657,18.565670545055678,18.56567440308701,18.569505839424256,18.574654265230834,18.57715567775034,18.583117043036342,18.58528453910658,18.59026441727593,18.59565662890517,18.59594876629082,18.596798371110115,18.6084663041874,18.624119423192198,18.634780378056416,18.644391862170004,18.645373542563,18.659244447256352,18.661404997090063,18.666598831475206,18.670080375735537,18.694358674550895,18.703984244433514,18.71051636086178,18.711515257236996,18.71230132279557,18.716128472989414,18.72073453511234,18.722718651529256,18.724008093294092,18.73047558209819,18.730951866838687,18.734362598666106,18.735599923168113,18.738101214167934,18.75301731907399,18.755966562772514,18.760406453714022,18.761180573208172,18.76234661314206,18.774066726181257,18.77914366750247,18.779875039657647,18.78460275038277,18.78692053356331,18.79191319730041,18.79578285987825,18.801660613633317,18.801826089452963,18.80375708358212,18.81410835793,18.818631019638502,18.84147640957513,18.84835734042575,18.85346833683692,18.854154877967087,18.869784018244317,18.870164829979103,18.888786229111894,18.893553497072993,18.90737152129751,18.921094354346213,18.931676353269992,18.935458722862556,18.95203814088777,18.955051442138583,18.95740531580802,18.958729529911906,18.976334407314198,18.980019247733804,19.010941667572492,19.01477497427288,19.025567591538124,19.038177024965766,19.038373626468474,19.043875054874555,19.049449390576104,19.052425456814692,19.054306450254803,19.056775843254147,19.060490436921636,19.090489740394446,19.094231212114202,19.113584544897893,19.1185817620998,19.122103586563394,19.133474794580923,19.14452413306005,19.147044064513736,19.157423668629956,19.173718159085375,19.177399770757724,19.178257064668,19.191062997542716,19.195053009824903,19.203782164114223,19.21469988164638,19.21559448965992,19.22024068286856,19.228819895435414,19.232970036206325,19.246709731201566,19.26917157817751,19.2801513576993,19.28403874144923,19.28753205353464,19.30418305473588,19.34224156448203,19.34314438416437,19.344090078346515,19.348023381901072,19.350149352940186,19.361140821780683,19.391710716714705,19.434384896813093,19.455209519062365,19.58592157127405,19.600248160834838,19.60955776310077,19.648893375449994,19.65988105978058,19.710822070165342,19.77236065279159,19.78982385975436,19.794221624062146,19.798028215753195,19.816425499096642,19.836439242639067,19.856581602617577,19.86072629535737,19.89101809784879,19.949303316976554,19.9797449390583,19.988830851309984,19.999566741511778,20.001240151510185,20.027234067958755,20.13503394454524,20.148130999083314,20.15165995425316,20.205172198365634,20.27227550394921,20.283907121268943,20.323450737436666,20.335464305289634,20.387957217260347,20.424617184101443,20.440835284427298,20.63468249087873,20.68062857081715,20.689822813234162,20.723730825822326,20.751190294665488,20.79077227383663,20.805466829231808,20.91623417755841,20.925024748450284,20.94162730028256,20.94903496082637,20.950095386614304,21.04584558615151,21.046486370606157,21.059744502118388,21.160053239972147,21.23892316918658,21.24186934380586,21.3267243844082,21.398150263995742,21.565299293213947,21.605263216263012,21.663270714185046,21.695547753580286,21.926747620741494,21.932624252199957,22.060224460098546,22.223790064910432,22.258245038802183,22.297075535467393,22.349720539047652,22.389158938237944,22.429529325845643,22.64588319500379,22.70891373579819],\"xaxis\":\"x\",\"y\":[22.77408131263968,24.488552205689814,25.26873059812351,25.51595279865981,26.41144579585341,26.78952116069108,28.419829445426416,28.6246887371519,30.032718848409658,30.41917459261255,30.448841103637506,31.476758823523596,31.85475634269929,31.88068195374082,31.9300949970378,32.16118696746159,32.16990799594794,32.198982305649054,32.3429747183182,33.19637679498864,33.42011265001368,33.467626624268576,33.4922414788128,34.11467176878827,34.524650140953995,34.56098507138874,34.647435984214596,34.66394046622669,35.12149868774388,35.124321513250706,35.14096075497143,35.344383346108955,35.35651399571489,35.656905114568104,35.994654780654386,36.15205734243408,36.20856268431568,36.267998841638644,36.318612592991045,36.33803878487964,36.406304955815216,36.687540150657554,36.734572978616995,36.74148520502638,36.79180115226181,36.827208890707055,37.788077601372976,37.89040235576354,38.17320443304877,38.256528084523836,38.530740733326866,38.720009197099444,38.96294042780809,38.96405418730774,39.01981116377388,39.332317005346255,39.36481355055372,39.369623280201296,39.80757126499768,40.15413111897206,40.17185863965457,40.3316305795754,40.41079323309319,40.62632921920513,40.68447280695358,40.714828937264315,40.842750431306484,41.077336936848326,41.12328949056982,41.24409413290442,41.39723346703488,41.970325634016916,42.02154895723939,42.27624199850271,42.302115758730025,42.583877685811274,42.713452264961035,42.952249723535516,43.160502755780584,43.220314678653466,43.227666079734036,43.30046607366012,43.49968293713613,43.53060842630143,43.548678509992016,43.740108917597695,43.833729342490386,44.068748542612354,44.217630800232996,44.5793998914707,44.58659327262217,44.76006707017973,44.8249667290967,45.42836650910644,45.582300158300484,45.60055247016115,45.65889253475578,45.86060316754592,45.911543225342825,46.05105492553028,46.47806263997609,46.61438483055778,46.742525879915576,46.74993045109204,46.82511459585248,46.897082763313335,47.122999770353516,47.295217876241,47.58063101832752,47.67110170578775,47.722717309758195,47.80753282490028,47.99237142996361,48.20463324770046,48.26742826122043,48.42502511325816,48.42585620612468,48.4451840089684,48.46715437358691,48.54906286915201,48.56830246671899,48.60726947989917,48.63921376457256,48.687439901960516,48.77725036652808,48.86618533052621,48.9664455654146,49.09856514084976,49.1138760322485,49.11720286400302,49.32751773350199,49.3482399102798,49.42388781766729,49.51416651891819,49.542401115432654,49.66959821007467,49.676844924458294,49.8180063144483,49.84365040716705,50.08892135911856,50.1330747756941,50.14039692517164,50.149757467310025,50.149757467310025,50.24037607634929,50.295967890471104,50.31157577358729,50.329183710749106,50.333413192372404,50.44307009146689,50.540438887556775,50.56093948028533,50.70462524279185,50.73004458485278,50.75836776145664,50.97372077346944,50.97851756677073,50.99259936903812,51.03303009547554,51.12212873318532,51.13101704904102,51.16819548057566,51.16828511889804,51.172688039415334,51.17914860428144,51.24360292871276,51.24908331038134,51.29793110424964,51.347422719587456,51.35949483166095,51.40531591454632,51.420113577429504,51.42362969551107,51.469377259101435,51.49830271945436,51.552451373954625,51.62906797188876,51.63535627153789,51.66381026222143,51.675274252801614,51.717784374782894,51.840269186936155,51.89233814480036,51.9338243852487,51.96726592815381,51.97612146589893,52.01984294598964,52.16454326053611,52.16484888194222,52.23920454027004,52.33930246807594,52.40438153581633,52.56544725735111,52.6363471825604,52.72978758974628,52.813601052275516,52.87267984814261,52.90226873793628,53.03875929752451,53.04966430619112,53.05171994570185,53.06002038609654,53.0987593279458,53.127417867778945,53.222742627361015,53.238374261172254,53.27473288546349,53.293280341732185,53.326288752453934,53.336083109457576,53.33868969373984,53.35368302418695,53.38918666019214,53.446646085854695,53.46869266272054,53.5560395702083,53.590536638257845,53.631315270424295,53.68833478475315,53.71534390828009,53.743468285609964,53.78225536182845,53.79224133759098,53.98314501317182,53.99564335520574,54.016924009609426,54.04381364698449,54.06686247521685,54.079586732876834,54.092185180024956,54.10576261682448,54.14186688741091,54.177118800217926,54.2420310395579,54.25281908929577,54.298110773255615,54.322903016301666,54.3285065547729,54.34862529317104,54.37192457334115,54.373891142085,54.38731212075558,54.389399998281334,54.55170529782902,54.56247932750671,54.60520049595024,54.71287607079054,54.728461199333225,54.756097503852544,54.757196837152804,54.91214189235811,54.91379451420292,54.914939418488984,54.967430472834394,54.973997418923034,55.010907213907785,55.02562705612354,55.046254640607884,55.05716747572319,55.10587934779048,55.13523175663212,55.18099414565444,55.188117430776884,55.26202375492156,55.27163656447857,55.30599795963573,55.364663482964744,55.4018540070291,55.42382675317825,55.471162170211926,55.49259498042059,55.53655443891785,55.53720193197782,55.54800884906035,55.56035475356708,55.56637776220134,55.57158253979571,55.57772967291967,55.60562837093556,55.7124659495735,55.752372970057934,55.786215603040716,55.79194705402924,55.795843770917685,55.820629412466445,55.850516567633065,55.867363962626655,55.94973878270912,55.97916021475254,56.031538879312194,56.185645808310284,56.33095091088856,56.34873133517317,56.35450833479703,56.36498074361717,56.39179508296138,56.40213975394525,56.408923140538235,56.43847975638499,56.46757260377797,56.556658941242546,56.61329517849427,56.6331394382201,56.64460624737981,56.65837860293098,56.659521517314715,56.690723094254736,56.69431296526082,56.7097405008744,56.717502763240304,56.739546647673365,56.765470369430176,56.91528145072948,56.963720298537055,57.01396484987691,57.030815191041626,57.04678134161338,57.08478891540574,57.098971119862654,57.18885227295965,57.224058314949986,57.24962238024875,57.297694979730664,57.30461768622766,57.35439469234075,57.37316847882789,57.37444315154292,57.37727269542674,57.38260750602399,57.4349335516591,57.4541384727772,57.58112299890573,57.62745977599778,57.6398105249003,57.66385129630663,57.77146402739663,57.810085340442214,57.812961578630365,57.82695136678089,57.86192830255595,57.91815054807023,57.92024773275767,57.95175207971886,57.977438046091976,57.98990464310344,58.160124569377956,58.165223723466056,58.204045079970115,58.23430651618642,58.28932036732621,58.31763614451657,58.32419200015087,58.33600231553689,58.344387078846836,58.3665816160748,58.420214876588034,58.50300170095147,58.5062573145193,58.55449534090397,58.70355966018667,58.80506122454176,58.81165872917808,58.843952576509025,58.849497544870786,58.852890293384064,58.86246780162887,58.87000233861508,58.92026013794057,58.95557592876065,59.00235060804957,59.006859461208194,59.10294871053489,59.12847083231506,59.138241962603416,59.18875070558198,59.311494287261525,59.32166018483227,59.3343060510301,59.391148286374204,59.402100363955185,59.40908767832698,59.42489740545031,59.4479716489347,59.449677439210404,59.482124939661844,59.53195498085111,59.54830631921766,59.59986407625894,59.604998740212125,59.62105040083165,59.65087432779126,59.65401668539198,59.69880807160385,59.74301788776668,59.82482470620616,59.84851058283729,59.85935462370696,59.8928629384655,59.9376204551387,60.00797279452809,60.0426242019588,60.060693469578126,60.166782993160325,60.17400482716016,60.32802583587477,60.47544376654784,60.51511640179254,60.51887816479487,60.549152266320306,60.56322039770956,60.57257643587366,60.59442299652363,60.618534841553554,60.629766288764216,60.66134374596518,60.677473269021334,60.7081764796942,60.713250745503046,60.765344379486834,60.7918708928741,60.818769890356236,60.83338943110573,60.867454466443235,60.87542775385282,60.8941139537954,60.92080441774925,60.95156583409471,60.984545542515235,61.04265582998838,61.04329195662484,61.05780286151668,61.06000709576108,61.08307600851762,61.11459039344868,61.13885968121471,61.1486461497353,61.15656509988355,61.217275613983304,61.22561353470863,61.28576570552789,61.33322676816138,61.34206080997066,61.37408419991053,61.378283549393075,61.43388104794718,61.46126479318397,61.47122998561636,61.55201067153658,61.61577920492462,61.63509330445541,61.64843177430936,61.65683807933911,61.685693397357426,61.70095013091262,61.784946191374786,61.787422267478775,61.81148739208777,61.81887402401483,61.940742857663,61.963473921554936,62.09586024398416,62.11531056833593,62.18447715344686,62.18617008773464,62.19817602467211,62.22154014569634,62.30684586735492,62.31213025334242,62.31696505890886,62.3977453528108,62.44185100812126,62.453158264214125,62.49940068523378,62.54210140614799,62.57031363899688,62.60139151249629,62.615645051070686,62.651262782596206,62.67804864920416,62.709922263960465,62.714102294460304,62.746667130038105,62.75922931789145,62.81547711446905,62.83091015307602,62.91191930753621,62.91977573138604,62.97834734756796,63.040787549799205,63.09428918525356,63.09610828051697,63.100705848431005,63.10343297052947,63.125940731333856,63.18354427568292,63.203261674867434,63.2375033234722,63.29184822053719,63.328509139600925,63.39820057782629,63.41827913472861,63.46871206827859,63.480413833864844,63.506463996506824,63.56324869005297,63.571971088655374,63.58037205276062,63.627975051043165,63.63989152169239,63.67104966829095,63.67528870554281,63.73572215348284,63.828989594553406,63.88722296550847,63.91479550938445,63.93082619866112,63.962454304095814,63.962772696313834,63.9711901870657,64.04228389560313,64.0432466624842,64.05754546040686,64.06159353314087,64.07470144148652,64.08050227394293,64.09553211969211,64.1149130912519,64.14478447056865,64.16626048983315,64.17073206115293,64.17968792791984,64.20017128768637,64.28817743235535,64.32893178027268,64.33415264217356,64.36160438228612,64.36936634955057,64.37334285870674,64.41257481671408,64.4258793650169,64.43774232808545,64.49252040006016,64.53375663610248,64.54191590539509,64.61183868277882,64.67695564532795,64.71886508090296,64.72042350876455,64.72221736519452,64.76740896623079,64.83252155214106,64.83372100907269,64.83939228536642,64.84026935970556,64.93980812935519,64.94144049989342,64.95163046072258,64.95343341319878,64.96138846728758,64.98629544012633,65.00337416108096,65.00961312506357,65.1155548077981,65.13851165299488,65.16789070828165,65.26434911342363,65.27020892779046,65.29779255899459,65.29955501239294,65.31923067953531,65.32048913241462,65.36660381487124,65.43312604655245,65.47698715581234,65.47730589479687,65.50548498812904,65.54274549413853,65.63836699864473,65.68067959374156,65.75301306383813,65.80156118008173,65.89021052187414,65.90490547883624,65.92032398836571,65.94138389597356,65.94928377040631,65.96077940116189,65.97329144341717,65.97564708980786,65.9770159854603,66.03023615470974,66.12042594629028,66.24536357767923,66.25702142598686,66.30571010667597,66.3150097770808,66.34629546177675,66.44813711056148,66.47128188000653,66.4948517014972,66.49576565684617,66.54301743047316,66.5518887466819,66.58856646901515,66.64413833222793,66.68917592337257,66.70084933587617,66.70996449169351,66.73299082343198,66.81307530864322,66.89651974568523,66.94851893586016,66.98124793884475,67.04958389027561,67.15757452064469,67.3053003117937,67.4031993514956,67.40880521683675,67.45177024377506,67.45977626198945,67.47617356502982,67.4879679328557,67.56397091009262,67.56565741874121,67.57011990798537,67.59444743669908,67.66561202965207,67.70069409703703,67.77014970867162,67.80305656209936,67.8213261400578,67.82713736196732,67.87514842411397,67.88111954384101,67.8836595921502,67.94047100062613,67.96649604185157,67.98386284357011,68.00165677330457,68.03957622778924,68.04696634120162,68.12175305361743,68.19720104247227,68.35949209366129,68.36350095794555,68.39824187261166,68.51443189195763,68.55401200888514,68.56016265205045,68.5810309257808,68.62157261089789,68.7293392724153,68.74357892180296,68.76665416185276,68.86663392325872,68.88067042099902,68.95116345636123,68.96021521613918,68.96024834979497,68.99315360168862,69.03736946047096,69.05885216350953,69.11004973254103,69.1286646847135,69.17143301782374,69.21774256502911,69.22025150773786,69.22754810831483,69.3277549871957,69.46218755462925,69.55374627422057,69.63629189888744,69.64472279471013,69.76384929786786,69.78240459417174,69.82701043221621,69.8569107308983,70.06541831597875,70.14808491245287,70.20418422288154,70.21276297349851,70.2195138843667,70.25238232588012,70.2919402412549,70.30898028700753,70.32005430790713,70.37559858151266,70.37968902383759,70.408981169144,70.41960759506603,70.44108925446577,70.56919217619108,70.59452095585846,70.63265175510742,70.63930007044104,70.64931428818224,70.74996930051475,70.7935712341812,70.79985242558718,70.84045508699074,70.86036073925203,70.90323887774346,70.93647242533746,70.98695191941104,70.98837306361088,71.00495688300191,71.09385599546425,71.13269764899803,71.32889908477958,71.38799409327584,71.4318884998466,71.4377846721525,71.57201130478737,71.57528180309512,71.7352066394078,71.77614902740459,71.89482138099694,72.01267621099174,72.10355683890151,72.13604069436539,72.27842852972267,72.30430745030543,72.32452305594288,72.33589570964608,72.48709042475795,72.51873667736987,72.7843054939679,72.81722680896814,72.90991627538372,73.01820897468798,73.01989743337549,73.06714495924905,73.11501862965721,73.14057776743564,73.15673216946902,73.17793988154241,73.20984166185468,73.4674825438943,73.49961515906912,73.66582600904155,73.70874325373057,73.73898948801437,73.83664802419162,73.93154227112962,73.95318401901204,74.04232643400675,74.18226724620345,74.21388576959521,74.22124840584476,74.33122868735938,74.36549582575023,74.44046380000998,74.53422765614064,74.54191075444649,74.58181332476735,74.65549356520802,74.69113592369729,74.80913556794695,75.00204304902786,75.0963399077252,75.1297256487997,75.15972701225604,75.30272962030722,75.62958480976184,75.63733843175811,75.64546026976842,75.67924038063146,75.69749870633575,75.79189595557668,76.05443720763603,76.4209328301371,76.59977945066973,77.72236446187011,77.84540449092967,77.9253574852186,78.26318072402839,78.3575454710323,78.7950385234765,79.32354595104613,79.47352396800929,79.51129297408929,79.54398485447697,79.70198493311327,79.87386754178314,80.04685473783343,80.08245030738493,80.34260323791992,80.84317003539775,81.10460965085304,81.18264154411949,81.27484382553504,81.28921545347617,81.51245715532247,82.43826715996732,82.55074766093526,82.58105513535583,83.04063053134973,83.61692907288077,83.71682406372676,84.05643368692094,84.15960895633634,84.61043009467448,84.92527427767504,85.06455903396107,86.72936319504203,87.1239586419772,87.20292089948936,87.49413066972096,87.72995887084917,88.06989796429414,88.19609816812971,89.14739349903371,89.22288893312825,89.36547544691359,89.42909413053027,89.43820130982158,90.26052593101136,90.26602913451882,90.37989300139506,91.2413673926371,91.91872039010343,91.94402281181604,92.67277731527011,93.28619911134845,94.7217132178302,95.06493253268718,95.56311419690783,95.84031679619332,97.82591415370686,97.87638400924041,98.97224378949261,100.37698262728841,100.67288982633951,101.00637501608497,101.45850235196431,101.79720834768275,102.14391847316804,104.00201500307955,104.54333570875602],\"yaxis\":\"y\"},{\"hovertemplate\":\"<b>OLS trendline</b><br>Graduation rate  total cohort (DRVGR2019) = 5.31257 * Log_Core_Revenues + -41.9741<br>R<sup>2</sup>=0.277927<br><br>Residential_Level=primarily residential<br>Log_Core_Revenues=%{x}<br>Graduation rate  total cohort (DRVGR2019)=%{y} <b>(trend)</b><extra></extra>\",\"legendgroup\":\"primarily residential\",\"line\":{\"width\":4},\"marker\":{\"color\":\"#00cc96\",\"line\":{\"width\":2},\"size\":10,\"symbol\":\"circle\"},\"mode\":\"lines\",\"name\":\"primarily residential\",\"showlegend\":true,\"type\":\"scattergl\",\"x\":[12.843826030865126,13.41927324251369,13.64504365626041,13.730650683015185,13.970227077673947,14.235368260659957,14.254112525445473,14.41345435301718,14.646042509839713,14.674033184291906,14.704876036760083,14.78886229893469,14.917264572904632,14.982542887416484,15.012131503482484,15.01877861401347,15.034305371580794,15.16958023653932,15.21694793271274,15.26022216526211,15.270061519590147,15.340863353185833,15.47193853917734,15.633927375092288,15.754972677371914,15.801532781034473,15.802686991399913,15.830767782435586,15.895218564139293,15.89647019675137,15.92231747867332,15.999125836358308,16.024851545352043,16.137711790278463,16.14488645105687,16.163003909319094,16.17979216867726,16.181254095227743,16.18422144296472,16.188306274018096,16.19013720382329,16.213088507693733,16.21848264915677,16.23915199017318,16.250246966714695,16.252080153413075,16.294674164671783,16.32071979174862,16.353578281752988,16.370928792077514,16.381312321255482,16.44047171602151,16.46495129295922,16.470581693687933,16.479622176917264,16.47991624331152,16.52544997337679,16.561138584957693,16.569005970032993,16.57918150982679,16.580385984071864,16.583421858101023,16.592963742001793,16.60082194034124,16.601316669395562,16.60997157797943,16.64936604874132,16.651591785707975,16.659928367492462,16.680806757733563,16.693313547668136,16.69685743608973,16.71008519360558,16.73027005813434,16.73803123442343,16.74078458331968,16.74889641263463,16.74914942531596,16.752130150518056,16.753083917344732,16.7552179397053,16.76239743332346,16.765912878905958,16.770262907861195,16.77594435632323,16.78595651021775,16.79426512238091,16.800580187029965,16.80417335152654,16.814623660071486,16.81877335581151,16.824288219222847,16.835671067700858,16.847084959058034,16.872810914018025,16.88303642398881,16.88488494517677,16.892411581890766,16.91109260086729,16.936778052301552,16.93782001835846,16.939669335090546,16.949138990924123,16.950196186204927,16.95389394404506,16.960350401933475,16.963382032534906,16.969786419807388,16.9859943074152,16.99491684832573,16.99757653720124,17.006940034188876,17.007984335991562,17.008913608995442,17.018245090262553,17.018415402990463,17.0472028597877,17.05697227051842,17.05736040730078,17.06201563536936,17.065492531005923,17.06784843127409,17.074722320046014,17.084725327973615,17.089450425006408,17.093451803844502,17.095240813534943,17.108877487295924,17.120171781951587,17.128925028717397,17.135100697595924,17.14841071897546,17.15745165620786,17.171530466821917,17.175265266413888,17.18383348099971,17.185277951808587,17.189068155890467,17.19472807587016,17.21701712515699,17.217903724390766,17.23488738753433,17.235937036472386,17.26807991091887,17.29837587974011,17.29880693169736,17.306673133134847,17.308349914939026,17.308687396909537,17.312488493635946,17.31943000764047,17.324492445045852,17.330060880591642,17.34411089585428,17.352208205247845,17.354165170221524,17.359827340872688,17.364443285131433,17.37083816210158,17.39916784796048,17.41191720312738,17.415142728219855,17.420011357341107,17.432840303238134,17.4420738463452,17.44762493263685,17.448982714139483,17.449496270167167,17.461196770873396,17.48101160429228,17.483477154704634,17.494709506818843,17.497530690629574,17.501141541506325,17.502706896433416,17.50561493655181,17.51473694744173,17.530380708622207,17.53385825196668,17.542071440178344,17.54458433765552,17.558265936104966,17.572803445723476,17.602925507682315,17.603846493173513,17.607388470273456,17.63357607428937,17.634154230303242,17.644840130649282,17.646084867780907,17.64778742507118,17.657219633978283,17.666793939963554,17.676605444425473,17.67666184328784,17.678769509882102,17.68301129379057,17.690913063552543,17.705043118749316,17.70925571662734,17.721976994215844,17.733644314663156,17.734902783866076,17.741665909693403,17.74512217293164,17.748568803258525,17.757004148150685,17.761522518581636,17.76319350219892,17.76628039505083,17.772780639183054,17.781790339327653,17.784896400780895,17.79368354168519,17.811599398195558,17.821661389947085,17.822175683731068,17.82576715676526,17.8263926746468,17.83037328852581,17.835650817752015,17.86012693371155,17.895661820156878,17.898563593498697,17.924374436255572,17.930756179932395,17.931352438133803,17.957435950231375,17.958646871656136,17.95925132289957,17.959456796260774,17.96026001172762,17.98423344626737,17.995133757961206,18.00658946720116,18.01017146035449,18.022750720654248,18.026420036458717,18.031461090957333,18.046826476844398,18.04802816324815,18.051018543795877,18.05187815653472,18.054115220518174,18.05593946874676,18.058263228682158,18.05932778945009,18.06346929897983,18.063985342661525,18.066622259809712,18.067119746645417,18.067606780123963,18.071008069658085,18.084550448862483,18.089644320492745,18.091412913164763,18.09338548774079,18.094488170087228,18.10648731733531,18.110141628221623,18.13385918115593,18.13508341690798,18.140826579990872,18.151373037486934,18.154864528351204,18.166671717070734,18.16993895311191,18.180034917502013,18.18076926846893,18.18996788003493,18.198823864520755,18.199324432073855,18.199784665178633,18.2046606231552,18.219230935060153,18.219337174383423,18.23451982623569,18.238072065943058,18.255330209241837,18.257016888688916,18.26518942754,18.270633820519905,18.28208213464282,18.289899577415262,18.30223716143293,18.31115029062104,18.315634834356416,18.316220378593226,18.31674951748504,18.316888764165384,18.322890942425524,18.32786900644017,18.338360115452723,18.345985958118707,18.347381785996852,18.350807881815765,18.359555080385473,18.377251488897045,18.38448769639047,18.385274795722193,18.38691551057113,18.394244361879327,18.403930824000128,18.441754504193113,18.45248201057271,18.457562782228475,18.47001040066476,18.471372698571393,18.473887436126294,18.479502320081956,18.485413274393913,18.49172171265562,18.50950398352719,18.51459399395898,18.524951277795783,18.537972574542845,18.546051559458583,18.56041502507539,18.566563818264,18.575383043038315,18.576038780345552,18.621406892422424,18.622418742371302,18.627319533947574,18.62880058640772,18.631752629011643,18.649375323760147,18.65462466473453,18.657965814962882,18.66232640667021,18.69454905166703,18.6989244826331,18.722372365294778,18.73497689155851,18.737604308599444,18.737605656113427,18.738332000446977,18.742680457002823,18.745939082040614,18.753296869610676,18.761264061346033,18.779131970366883,18.787334716352287,18.789556539866325,18.801103219887118,18.80271902086411,18.802779485783258,18.81431374123617,18.824584306816458,18.833479905356505,18.834642988924735,18.840277567342405,18.844435387497942,18.84656438115352,18.848597835991068,18.850903938930177,18.855196525226358,18.861750303645447,18.88631349104484,18.887954450347184,18.893448194074082,18.900625446582676,18.910897406462308,18.92453016852776,18.930418650368267,18.932849431404414,18.940129085009243,18.94620764049763,18.94630728375605,18.975505702741888,18.981078369030605,18.98250206932957,19.05781931468842,19.07119343424691,19.07226886676101,19.114098058022968,19.125940559464418,19.13275731280313,19.146051406349354,19.147856383134965,19.148991162427066,19.161623189171408,19.163974401806446,19.166837322800877,19.17034288499165,19.177630770419707,19.182913335050724,19.190737367095036,19.196867794665312,19.19864206768406,19.214149910571727,19.218545749688847,19.220321086484056,19.242508406722592,19.24560464359723,19.248279461174437,19.255186591444062,19.263281877680647,19.263578939994883,19.2944718999532,19.29554819640406,19.301804134411395,19.307722134097133,19.321633561091634,19.3518550006226,19.352630506742706,19.36282209084393,19.383461889023266,19.386670952160593,19.387341849854067,19.39399344080219,19.404592740423997,19.417630851167615,19.438987372878074,19.446076970289216,19.450212546581195,19.454038575261716,19.45515985865197,19.462520995891982,19.463153843899978,19.47735574625453,19.492321026435217,19.501195329315067,19.511687799341924,19.55367072636697,19.566644095112977,19.575220617078394,19.58434409113832,19.587637287134243,19.606344961287874,19.60858708205211,19.613988978367132,19.62875114166415,19.646935452566936,19.688886710298522,19.73643633572928,19.750857500284955,19.75929484947636,19.76587887243133,19.771334606096854,19.789452476602236,19.791256566072256,19.793355274833775,19.79396010115226,19.794444438163534,19.818393906699203,19.823032858976912,19.82557814305075,19.830689190280342,19.844121553039567,19.845278366245147,19.852326028494176,19.8553669518286,19.85577241207332,19.88039892539033,19.888097374424714,19.894965061846467,19.928227670498917,19.945875728792892,19.95219700385091,19.9652140095664,19.966844402392955,19.972948645773393,19.980846085277516,20.0038216553029,20.02523671507953,20.030175292782594,20.05338768640774,20.05890095917207,20.083778246586483,20.102391041451963,20.107089212292145,20.111722606225417,20.15091935653217,20.157785616290706,20.179697927227533,20.184680167239673,20.216447174577397,20.25797912632799,20.279440002909926,20.286074060216496,20.301709990978743,20.34060179748926,20.362267553686948,20.37924195831634,20.388272965924106,20.392077781018564,20.434733208207497,20.457086500035814,20.53518340412535,20.5518273639751,20.556163998415773,20.563822173965566,20.57623021181182,20.61919030645252,20.623008942297627,20.65871800696551,20.668322732202174,20.670836105479843,20.704099083659496,20.728539365419977,20.757111940418202,20.77829359633116,20.80915817871628,20.810750490672937,20.836308566193306,20.853542062257826,20.859984750524028,20.86321086256081,20.86382202730138,20.865352416995623,21.016245751268556,21.059167029124204,21.10825200911325,21.136514804068796,21.155960037570374,21.171240479997195,21.264484668139154,21.333211643954368,21.375881605762835,21.405481332772947,21.41236698635031,21.44815604908613,21.45160483226784,21.512941999723722,21.51318150664237,21.623207442830026,21.644533120818483,21.731219742739793,21.75503483284122,21.765120102195866,21.790292770861882,21.842228477392062,21.88489329954769,21.90268638633138,22.02183247365202,22.068007043084204,22.07257277524268,22.145322051640242,22.83433152230922],\"xaxis\":\"x\",\"y\":[26.25960266439604,29.316706764339173,30.516128090117505,30.97092148763211,32.24368806558226,33.65226939356917,33.751849628847495,34.59836438207111,35.83400545118559,35.982707893209465,36.14656273310743,36.5927457039091,37.27489188560831,37.621687558420504,37.77887917853084,37.81419242437808,37.89667942450082,38.61533673296046,38.866980976333835,39.09687840405718,39.149150671344486,39.525290430800055,40.22163664707152,41.082213819740204,41.72527556786784,41.97262941878461,41.97876124316217,42.1279424359233,42.47034178203617,42.476991169004336,42.614306686286284,43.02235653071247,43.159026183196104,43.75860423397283,43.79672012790259,43.89297040909749,43.98215922690011,43.989925815321826,44.00569006050199,44.02739101500845,44.037117959376005,44.159048387990566,44.18770514685309,44.297512486058665,44.35645533535437,44.366194269626945,44.592477973529114,44.73084721350523,44.90541027068387,44.99758608659799,45.05274932134702,45.36703779929664,45.49708728690604,45.52699918986366,45.57502739781462,45.57658964637773,45.81849081480888,46.00808909346365,46.049885134321386,46.10394341072458,46.11034226552543,46.126470561489995,46.17716249604757,46.21890973171992,46.22153801488771,46.267517830204866,46.476803748432275,46.48862813382925,46.532916815461505,46.643834743490785,46.71027795150734,46.72910510994008,46.7993785093348,46.90661203285974,46.94784383201258,46.962471193183006,47.00556586139024,47.006910009193504,47.02274532310531,47.027812276975624,47.039149422026995,47.07729099076049,47.0959670445945,47.11907688175198,47.149259979411184,47.20245025664359,47.246590347680026,47.28013957624388,47.29922851731769,47.354746522187156,47.376792074939075,47.40609017770879,47.46656236707169,47.527199473930466,47.663870433127286,47.71819417963765,47.728014579473026,47.76800037050889,47.86724460794403,48.003700389289506,48.009235907822045,48.01906053404197,48.069368751873014,48.074985176736945,48.09462977736206,48.12893016753205,48.14503591998604,48.179059681318094,48.26516523305986,48.312566864082356,48.32669664975393,48.376440891191294,48.38198881853883,48.38692564723941,48.436499802892186,48.43740460133108,48.59034000603944,48.64224069300836,48.64430269717603,48.66903392625585,48.68750518076965,48.70002106793197,48.73653908925837,48.78968077789325,48.81478319079781,48.836040799495436,48.84554504028203,48.91799083621325,48.97799257711817,49.02449482099716,49.057303499649635,49.1280139316511,49.17604455152555,49.250839230827665,49.27068061838496,49.31619986569257,49.32387371924973,49.34400944708676,49.37407817315757,49.49249032735568,49.49720044862782,49.58742736289072,49.59300369727393,49.76376499607804,49.92471447783818,49.9270044719143,49.96879422461225,49.9777022467983,49.979495143687586,49.999688739470756,50.03656602463866,50.063460582183495,50.09304329071472,50.1676849926714,50.21070252276709,50.22109903790067,50.2511797208232,50.27570225187881,50.30967548905562,50.46017895320698,50.52791080621344,50.545046636894455,50.57091157419259,50.6390662585943,50.68812011082993,50.7176106502188,50.72482396069195,50.727552263490196,50.78971200283088,50.89497970985656,50.908078121181944,50.967750787944865,50.98273852690666,51.00192142812878,51.01023748713229,51.02568665638498,51.074147985811535,51.157256575922446,51.17573127143042,51.219364415960825,51.23271436192408,51.305398823447064,51.38263037372322,51.542655962950235,51.54754876365226,51.566365768053274,51.70548927058164,51.7085607653854,51.76533036839707,51.771943122636586,51.78098807891949,51.83109735729937,51.881961536478954,51.934085849378505,51.93438547233241,51.945582600507166,51.96811737818122,52.010096090124094,52.08516300990415,52.10754273472274,52.175125423603816,52.23710889046717,52.24379459730878,52.27972418264106,52.2980858260763,52.31639629398721,52.36120966162936,52.385213824808716,52.3940910437159,52.410490380792595,52.44502338848642,52.49288805911782,52.50938923074774,52.55607153963989,52.65125079723839,52.704705841618676,52.70743806379956,52.726518018859565,52.72984112694235,52.750988420323,52.779025668411805,52.90905676932931,53.09783837230522,53.11325424886314,53.25037618049781,53.28427964612294,53.28744731008108,53.42601781691516,53.432450922815065,53.43566211288969,53.436753704685174,53.44102084378521,53.56838141402976,53.6262900925242,53.68714935984933,53.70617895237031,53.773007164338665,53.79250066463331,53.819281623970326,53.90091132560357,53.9072953697998,53.923181978419635,53.92774873202464,53.939633293001236,53.94932474101947,53.96166988038583,53.9673254349222,53.98932749785175,53.992069016488244,54.00607782574434,54.0087207598212,54.01130815969722,54.029377751432776,54.101322600848505,54.12838415494109,54.137779928870145,54.148259371122606,54.15411744924688,54.21786376950942,54.23727755511281,54.363278736191376,54.36978257539876,54.40029353635562,54.45632233934299,54.47487113203849,54.53759765901195,54.55495508206444,54.60859060849516,54.61249190005816,54.66136017600593,54.70840822130461,54.71106752191099,54.71351254290174,54.73941641526322,54.816822230011155,54.81738663394633,54.898045548067415,54.91691707329778,55.00860218284059,55.017562786956105,55.060979978877185,55.08990370248492,55.15072368272661,55.192254401560476,55.25779869115004,55.30515032173007,55.32897477819154,55.33208552345333,55.334896611321795,55.33563636918102,55.36752336662617,55.39396968455229,55.449704444797874,55.490217274485445,55.49763270902524,55.515834085907045,55.56230419831556,55.65631762286584,55.6947604880816,55.69894200907147,55.70765842300135,55.74659346504973,55.798053481649006,55.998994463640486,56.05598510165447,56.08297706120402,56.1491059164418,56.15634322063133,56.16970294213792,56.199532411138875,56.23093477489331,56.264448800304706,56.35891837472845,56.38595941593047,56.44098322044428,56.51015978237075,56.55307996237913,56.62938689155989,56.662052791204715,56.708905547930456,56.712389198854225,56.953410509982916,56.958786034556894,56.98482183717702,56.992690033349476,57.00837296892546,57.101994783884564,57.12988227988757,57.14763237729851,57.170798329825175,57.34198341533211,57.36522820247265,57.48979674111348,57.556759180306315,57.57071751956924,57.570724678332795,57.574583434088524,57.59768491776279,57.61499659424945,57.65408536224,57.69641163305364,57.791336166215544,57.83491383567879,57.846717430581364,57.90805998662776,57.91664404384703,57.91696526801579,57.97824181766465,58.03280492529409,58.080063423063706,58.08624238696002,58.116176484186354,58.138265198471544,58.14957562817122,58.16037850112825,58.172629836450284,58.19543450540996,58.23025191779732,58.36074559191076,58.369463304516685,58.39864920746584,58.436778870145915,58.491349385089435,58.56377439986089,58.59505737701788,58.6079710735677,58.64664474932978,58.67893750621366,58.67946686808679,58.83458553855135,58.86419072320426,58.87175423195528,59.27188243645787,59.34293339457837,59.348646706036845,59.570867249495365,59.63378137780701,59.669995863094684,59.740621677352706,59.750210744464155,59.756239339887316,59.82334787733262,59.8358388611117,59.85104833182025,59.86967187943519,59.908389287341635,59.936453286375425,59.978019011183136,60.010587342178795,60.02001329335246,60.10239980789886,60.1257530147884,60.135184617349935,60.253056328768366,60.26950530662809,60.283715464599766,60.32041008373888,60.36341686566972,60.36499503027005,60.529116069761045,60.5348339709448,60.568069085033585,60.59950887783562,60.67341431979459,60.83396785941747,60.8380877906489,60.892231303572544,61.00188169436214,61.018930069739596,61.022494261289836,61.05783130967069,61.114140840196555,61.18340672767151,61.296864763022015,61.33452875178382,61.356499293967204,61.37682534252379,61.38278224001179,61.421888803361384,61.42525085326052,61.50069946615886,61.58020357786722,61.62734894093259,61.683090931663145,61.90612820725997,61.97505014828366,62.020613529134195,62.06908263175514,62.08657796890728,62.185963813860155,62.19787523934309,62.22657319640645,62.304998235273274,62.401603675859704,62.62447270609029,62.87708346153853,62.95369692042176,62.99852093604571,63.033499024673674,63.06248299647761,63.1587354677435,63.16831982092798,63.17946935998134,63.18268254266876,63.18525561737127,63.3124888665204,63.33713362930759,63.350655631361164,63.37780843204263,63.44916881129532,63.45531446344562,63.492755668686314,63.50891078944301,63.51106482573236,63.64189492327172,63.68279347943779,63.719278555651854,63.8959885217926,63.989745082384815,64.02332730418648,64.09248106970357,64.10114264715791,64.1335718727891,64.17552757993023,64.29758692421294,64.41135594718918,64.4375924912862,64.56090997772883,64.59019963007358,64.72236198278043,64.82124377478989,64.84620314038766,64.87081837407604,65.07905388837098,65.115531380023,65.23194208503327,65.25841058824207,65.42717506638918,65.64781650387505,65.761828931877,65.79707283154431,65.88013982200336,66.08675530076617,66.20185616624882,66.29203389399892,66.34001176203869,66.36022511191568,66.58683509230038,66.70558853955369,67.120483878087,67.20890609452314,67.2319447723726,67.27262937279717,67.33854795334491,67.56677650116215,67.58706327475659,67.77677021188568,67.82779599549441,67.8411484691815,68.01786039846172,68.14770112765682,68.29949495757697,68.41202400598364,68.5759942876056,68.58445355773941,68.72023264551383,68.81178681487762,68.84601405295362,68.86315300181786,68.8663998578219,68.87453016154754,69.6761616952869,69.90418402618218,70.16495146154823,70.31509956303424,70.41840374430176,70.4995821777816,70.99494853649243,71.36006546692201,71.58675266350322,71.74400331129169,71.78058383398088,71.9707157665162,71.98903767162095,72.31489572134731,72.31616811882903,72.90068870353349,73.01398287942463,73.47451170278384,73.60103105697623,73.65460976527302,73.78834135181582,74.06425347399292,74.29091336580413,74.38544040052764,75.01841243456812,75.26371810755911,75.28797388327298,75.67445957064947,79.33487122100287],\"yaxis\":\"y\"},{\"hovertemplate\":\"<b>OLS trendline</b><br>Graduation rate  total cohort (DRVGR2019) = 1.09943 * Log_Core_Revenues + 22.4575<br>R<sup>2</sup>=0.009320<br><br>Residential_Level=primarily nonresidential<br>Log_Core_Revenues=%{x}<br>Graduation rate  total cohort (DRVGR2019)=%{y} <b>(trend)</b><extra></extra>\",\"legendgroup\":\"primarily nonresidential\",\"line\":{\"width\":4},\"marker\":{\"color\":\"#ab63fa\",\"line\":{\"width\":2},\"size\":10,\"symbol\":\"circle\"},\"mode\":\"lines\",\"name\":\"primarily nonresidential\",\"showlegend\":true,\"type\":\"scattergl\",\"x\":[12.269253996128299,12.480517491199935,12.538845189578224,12.601026031901458,12.633625350102342,12.82652815819616,12.82652815819616,12.82652815819616,12.832644565539617,12.891812459161697,12.940978182087106,12.991067199111669,13.04967224720968,13.04967224720968,13.09282539494605,13.127605612846274,13.231992370138169,13.310812787164398,13.412954713840744,13.49785438371269,13.51018712100442,13.517903394340802,13.525066006712386,13.560613147031843,13.621664852515359,13.637458673134363,13.682508168250179,13.688024853284,13.69122542944276,13.694372901855285,13.703252978818204,13.718316604972841,13.72321542832469,13.737472256791856,13.742818352370719,13.770168990543587,13.796021881380412,13.875425280803222,13.891016837744337,13.891706491665527,13.92514044686427,13.930956642854898,14.0114234986942,14.017971286724087,14.069617749515597,14.08268554004402,14.091680620777105,14.142437381741956,14.156451367055954,14.172075995907443,14.177101100527711,14.19484453597838,14.203070317803602,14.235937182312588,14.257526150669841,14.261604361911708,14.265855337077399,14.273447299279372,14.275833101357152,14.333179314000246,14.359727243127953,14.361687881432852,14.387355266912266,14.39404006282593,14.400419753586302,14.409473112738112,14.420447097250017,14.423183724640653,14.43061889676962,14.469690273300975,14.513985023311001,14.519543770086768,14.526198004688693,14.548533045076793,14.575261625324988,14.621190124726372,14.62808431172144,14.655280439803981,14.656325305459456,14.659109729484356,14.685276817050745,14.696801480125696,14.698330128290248,14.698670475551124,14.730674254973163,14.731109450572825,14.752556796334325,14.758507873027858,14.764714072843443,14.769213060148411,14.769673786864342,14.776817866784633,14.791288323670473,14.79210397748668,14.836084185071877,14.841497672026705,14.843193816284678,14.843525832052752,14.845923945581756,14.868649425982985,14.870047649515515,14.88573571771349,14.886514554242448,14.915390043399311,14.91653892556165,14.920532924780291,14.957891535381695,14.966115812859163,14.967399755688216,14.977598928581264,14.977598928581264,14.986439167117316,14.998453578345215,15.032830787765132,15.04891972985247,15.077437126421911,15.08139900919853,15.087040884155575,15.103398225024181,15.123766077329565,15.128152996770059,15.140465276075993,15.155208995806454,15.168818810331684,15.190799076374297,15.20880535872891,15.211575778387733,15.21946284619341,15.221168724621963,15.231736710009208,15.23915489311104,15.247568125684058,15.254646626561186,15.262830401721635,15.272219113346514,15.276164431027672,15.289865016807257,15.3004497599935,15.302181786973371,15.303458798646231,15.311164577500115,15.323656112996497,15.32725052214256,15.327298154610446,15.336041844012229,15.338162158988677,15.345814782774228,15.346662551999831,15.364119540212407,15.364672637747926,15.373885254803826,15.374643108897017,15.380106950063668,15.380206929482215,15.389657609251485,15.401282016127418,15.402468682704109,15.407199688517009,15.415801564712755,15.417945607490694,15.421714446576173,15.429662740743403,15.440769259118271,15.45426530161972,15.466030910999605,15.46785756540838,15.47744433141274,15.47744433141274,15.47744433141274,15.480371256685624,15.483503186731896,15.507829546091559,15.537704670438382,15.537903514481616,15.546852425612393,15.549413310772346,15.555537162523706,15.559402786997513,15.560565835867976,15.564201239688655,15.584494625577916,15.59837962441688,15.602299025544506,15.613026924414644,15.6192934552186,15.62034254166002,15.624584266900918,15.625194912241321,15.625245496054658,15.629617615939532,15.630697775137932,15.644926376340411,15.65529275409996,15.658269178323993,15.661819763612392,15.675241399348666,15.675373747946345,15.683133243717256,15.723702373300359,15.739421342948704,15.754143578546447,15.759312199965814,15.765833669845849,15.766891429576592,15.773638902794403,15.777163001469349,15.779495792554238,15.79282302392248,15.798439960275715,15.81598545863645,15.844781858606531,15.850101427974165,15.857074983460029,15.85730942073959,15.86355791912583,15.870149159092833,15.883182483644843,15.888996902605436,15.893019608585504,15.912491137541993,15.914688425722805,15.93566052771594,15.93644630817789,15.939864277946484,15.943933912114499,15.950185863922648,15.967361361949738,15.973624753838225,15.977521343704145,15.979592146418007,15.98063403081213,15.98454380098169,16.001786528557936,16.002383856300582,16.00599815942112,16.009333801762825,16.010232450640615,16.01982946647389,16.02208308453826,16.02358275324015,16.025435147658683,16.037365740548395,16.049665513963753,16.060739064542307,16.06168962459215,16.06792540992074,16.06792540992074,16.077569446021347,16.07908659540399,16.080265218916225,16.083313090618795,16.088749535097424,16.09087911846004,16.105980963574442,16.115630815746286,16.123327043332335,16.124141835888718,16.13178719256873,16.134170948225655,16.13594008774049,16.141819990045118,16.144870679181277,16.157059985095465,16.16097284411032,16.163463107197188,16.164072432704764,16.166722754214994,16.166817241348053,16.16887887528225,16.17597410550673,16.183557589364902,16.189554359768017,16.18959783814426,16.193683342073463,16.220777231471562,16.225294425981616,16.22736987804664,16.22778907599187,16.230367528040173,16.23046602008416,16.23281435188869,16.24077609692198,16.243758757145173,16.250246966714695,16.25088779540623,16.25393565169526,16.28009331962327,16.282990575542886,16.283036789537686,16.302398493708356,16.30460169057958,16.305201826519998,16.314785487852266,16.320611425033754,16.32767400967223,16.328352767682237,16.332796623789275,16.33709285805582,16.33990871757016,16.356903238185748,16.359614458417845,16.36003873840565,16.36122714572994,16.363206387183475,16.36862609422549,16.369025327453972,16.37077081967855,16.372977995538054,16.3756970525188,16.386165148052907,16.388596340150077,16.392523928623376,16.411010906390594,16.414029335028665,16.438122689234373,16.438254836054035,16.451120523671527,16.452368184290943,16.455130015270438,16.47036368873468,16.471930706227784,16.47225455231487,16.478505650882923,16.51535854603129,16.51583660444322,16.537657925444442,16.559583222240683,16.564433312308626,16.568110708121214,16.568683762971105,16.577600422062297,16.57764456967284,16.582567256739615,16.589104649650785,16.594578246301765,16.606310875322663,16.609981850760914,16.614147741508685,16.619044135992535,16.62083349664233,16.626890333759178,16.632788606945592,16.649840924976814,16.650899181442586,16.65555230006112,16.655685905056195,16.65571207482286,16.659916442956394,16.66348170329293,16.684297928839396,16.69204659776768,16.699223864156153,16.70054520992554,16.70902011005343,16.727492730781407,16.728282166578552,16.73905598973437,16.75468068105444,16.75645813347863,16.7708995244922,16.771566846744584,16.775975537295835,16.77808596801075,16.781426252555157,16.78500557532997,16.79798756738454,16.81702811445048,16.817948994854902,16.82562165892126,16.843669895003657,16.85217006850034,16.864841274508116,16.87518884903523,16.875716178657058,16.877154768463424,16.87939864610415,16.87974430228766,16.905279473444647,16.90793923189292,16.908664598534113,16.909019149720155,16.910272449265747,16.91680698644021,16.91877389483226,16.92053256766892,16.925048010427016,16.928308943579665,16.93775203870942,16.938653593741424,16.94169465588636,16.947988970055512,16.948209348591202,16.955212171240344,16.969946843462715,16.97625307511435,16.977885108323292,16.98007878156213,16.98094488797681,16.98780081076309,17.001663749752204,17.006439480781523,17.00710854241848,17.021233704333067,17.02475454525494,17.02884879867571,17.031365865659975,17.03460011998906,17.04242923223273,17.05058393139896,17.052260092138404,17.05506274595737,17.063051465437223,17.06896503056021,17.071886038893194,17.088375390517832,17.093486756513894,17.095392635348063,17.09593323338288,17.11071692895209,17.11416467401259,17.128558897559408,17.138404718169138,17.13877854178425,17.140639919628203,17.14205622993065,17.146512309400805,17.148769975814385,17.151043451492537,17.1613122066455,17.167762763443257,17.183754455633903,17.1881759803345,17.197190133764774,17.198294548894115,17.217221441095315,17.22074620816652,17.229176022372997,17.242774469748333,17.24846448686854,17.250524976619733,17.255934229687238,17.256604770314574,17.258807581607456,17.26125785680023,17.263650302423837,17.265169891209844,17.270807286696456,17.281828697481302,17.283445322744107,17.30601964937633,17.3065070827382,17.31098880198648,17.311883716459686,17.319072873004455,17.3213588735907,17.33833864498026,17.34884041672474,17.3492642737025,17.351302758279672,17.361811531981942,17.380235773342473,17.38927684352764,17.391919978024685,17.39381821904901,17.40241805432336,17.410030567681716,17.419846260721872,17.42030543872626,17.42632130270406,17.42976969331276,17.457784790432434,17.47606471176027,17.48084993069352,17.48867451806214,17.496790458481787,17.496870486173375,17.5198024528672,17.523496490256065,17.524992539956838,17.535857089491348,17.549529950844956,17.556190996319454,17.56956850807568,17.577816248331384,17.58510319493302,17.58523239992231,17.588023557278657,17.589587755845578,17.59535734353492,17.598756837973212,17.600609778083555,17.60155406330959,17.626130075031956,17.627106170960122,17.62841439659876,17.63469770792133,17.634905423700886,17.64194105569515,17.642096517402244,17.649480169055714,17.655122771751202,17.659044036634825,17.664680916370155,17.66476414313934,17.671153669956215,17.674960629562804,17.682703547474627,17.686475561858035,17.700645887913286,17.70066400848163,17.700983468248964,17.71329765194299,17.718755125404495,17.7264981675551,17.74563894726392,17.749180351922575,17.751891759096086,17.753713654503734,17.764117052124323,17.76487420262147,17.765977802090497,17.77387984848249,17.79674312073463,17.80380647893554,17.822967371918036,17.828358382311983,17.83099160449262,17.833043025957107,17.839241847272145,17.8423484116691,17.847457789507963,17.867106044342634,17.873727160869038,17.879574522179595,17.892694312210537,17.90013604259211,17.90877108283014,17.910751268525477,17.910956363595204,17.917313685803123,17.91952123573671,17.928287266318446,17.929245211420863,17.934466575012,17.936209229774626,17.946667856360534,17.96415984482944,17.968244052553693,17.969419478160916,17.97507745434552,17.979829170160244,17.98169403783905,17.98892914345201,17.9907131415552,17.991836163457727,17.9983057664864,17.99921062118039,18.004433062273115,18.00563288762426,18.019470326796302,18.03732988340399,18.039515151669967,18.04059094217543,18.041651157953268,18.048610817336137,18.049637018884145,18.0632078674644,18.067542011669314,18.068024414555065,18.071308030854592,18.072316980555737,18.075289809721372,18.079681759048604,18.08541202880855,18.08706299938947,18.088731722153764,18.096278226337326,18.100884569660074,18.113571173834487,18.120773352556622,18.128921865943628,18.129060607495326,18.13184196277091,18.132132883480946,18.1409105961818,18.143986338721753,18.15696980112047,18.162572774595944,18.16401558170688,18.170139954906865,18.170702760802126,18.170788977493768,18.172982542093084,18.177776173476346,18.1783480913464,18.18076926846893,18.18772569189764,18.196446948537982,18.20137176874493,18.20137176874493,18.225933620555214,18.226306848634238,18.25000576174473,18.255865308914956,18.259524579585886,18.263385043729034,18.283336996385916,18.285264627780276,18.294593619592316,18.301626901162535,18.30242070829957,18.3069458273446,18.32470133226233,18.346622558251585,18.351684943889698,18.361800732542807,18.363610669739767,18.37056682750937,18.37643623263078,18.376701572874396,18.39174274996949,18.394632833610764,18.400404360451436,18.40194760934494,18.40724075050321,18.417273636347474,18.417567853933683,18.41796031694405,18.419496012435044,18.42115666068603,18.422892885362348,18.431629951999184,18.447471544050916,18.456664280792037,18.46357170388684,18.46499083996723,18.465379655109906,18.47012787322534,18.47593648496894,18.47883310754944,18.50483826339499,18.50884674660516,18.511069743680046,18.517804814026245,18.519745656824902,18.52720957686173,18.530779799973764,18.539375035400155,18.540742062350567,18.541203977390797,18.542392461112296,18.55417830600464,18.562515484422576,18.58765091047912,18.593617972017057,18.601086809029525,18.60127873292296,18.62636817995652,18.62902453306552,18.63016782876908,18.63967971836102,18.647360084988286,18.647820659156167,18.655177609794553,18.65690337400425,18.661675623938844,18.663491117263202,18.6677618833855,18.672842329960478,18.691594892234917,18.70178136609511,18.705233279508008,18.72607567341537,18.746105423273285,18.791302153255316,18.81133196627467,18.83416693036293,18.836630832042584,18.837051897689967,18.848474501959853,18.849716788653048,18.853126310575067,18.85750885100267,18.859234772084978,18.86533353902743,18.877107092657656,18.881104886073896,18.902993732473238,18.905877379014676,18.913864330106385,18.916357663303636,18.944509827087103,18.94970769008044,18.952023986406086,18.953600156533582,18.95366504088687,18.96482098958443,18.96663067512346,18.97324316671737,19.012477933715555,19.031192841201477,19.042428115817494,19.051101094604007,19.056729650628625,19.058299537926406,19.060583485774746,19.090029894413675,19.094796164021954,19.106774296062817,19.125392852192316,19.126280073701547,19.139037364500002,19.15114824652722,19.163441635188494,19.16578832483521,19.181948783907206,19.184604687917513,19.18682369303967,19.189293737240273,19.1975790459732,19.19879552190652,19.20064303224239,19.207748316281215,19.209252352335536,19.228515026039794,19.23111305845843,19.231241785365395,19.23243064191558,19.23950444448931,19.25326837173518,19.278657721896987,19.297036991519207,19.315306299622513,19.319983192626196,19.32948880635106,19.33791065465998,19.341584925483378,19.355465694588272,19.356429133823713,19.36172449244619,19.37757584666846,19.382086078148802,19.382560330793122,19.384742072794864,19.38728482222184,19.39123169573452,19.444403510007536,19.456054448420872,19.45952275907793,19.464339715179214,19.473245896906278,19.474392136931733,19.4823714735856,19.493407265087093,19.49932908251247,19.503422871832434,19.51462531241115,19.538350863016447,19.5537090453828,19.56874339151182,19.5785254826781,19.608193413484987,19.61218160390838,19.631915861726736,19.643817180284,19.649019690997818,19.650806680132444,19.69849493668745,19.744817608378195,19.775299346033027,19.782926849839086,19.78879287307622,19.794145534458586,19.80923830460306,19.810964808112015,19.815443005985756,19.815602779422612,19.837749389190108,19.854731203827907,19.855632496142015,19.870464248461793,19.883677251586953,19.894036935580754,19.903064526643384,19.908694827076904,19.917778282538762,19.921964778478035,19.946587973292935,19.952780617795728,19.98946064633669,19.991532645607013,20.015436921232123,20.05405883572602,20.071251440366673,20.108608006840505,20.110991206107364,20.123929530976053,20.12878453226679,20.135043964155077,20.150691686164915,20.213660864548988,20.23452084679006,20.248505171725196,20.249383782724436,20.262855079029237,20.2794600283602,20.28841360780364,20.305888654964896,20.38617083584765,20.392523155033555,20.45279343297682,20.50457815722487,20.515764745684866,20.573477020513227,20.57444944215613,20.578228504135687,20.595478703003916,20.632731849753355,20.66752028384263,20.673697757729514,20.696373491566913,20.700479001808016,20.720526622722307,20.773454190811957,20.797423709355094,20.805958416759406,20.870735017760698,20.919536316916915,20.934858975935594,20.951875399963157,20.961449796129422,21.002494726204958,21.03977357767143,21.05364305375739,21.068020111188655,21.10379361852419,21.40044956997933,21.45144549289667,21.466315420052158,21.70972384375908,21.85144276311412,21.929442820882684],\"xaxis\":\"x\",\"y\":[35.946618473348,36.17888737734603,36.24301445510009,36.3113777854104,36.34721837352068,36.55930103266111,36.55930103266111,36.55930103266111,36.566025579320666,36.63107639086202,36.685130540511885,36.740199785118904,36.80463178879214,36.80463178879214,36.852075547712225,36.89031387700692,37.00507955244875,37.09173688938782,37.204034536235504,37.29737557115621,37.31093452213861,37.31941800552594,37.32729277880254,37.36637428372351,37.43349620989944,37.45086037119893,37.50038902664727,37.50645422208519,37.50997302364769,37.513433441489276,37.52319644263103,37.53975780802919,37.54514370932003,37.560818059123974,37.56669570381763,37.596765748573375,37.62518912866473,37.71248741250407,37.729629199546395,37.7303874240582,37.76714563506715,37.77354012109855,37.86200759820635,37.869206416671396,37.92598796004164,37.94035504879345,37.95024448824696,38.00604786892945,38.021455230283685,38.03863337749497,38.04415811588969,38.063665737421225,38.07270938847142,38.10884412436019,38.13257963066282,38.13706332840293,38.14173696755826,38.15008377986129,38.152706796362914,38.21575480167274,38.24494232600021,38.24709790574228,38.27531733613548,38.282666784840714,38.2896807925388,38.29963430489066,38.31169940565124,38.31470812916241,38.32288256214169,38.365838709400144,38.41453757729593,38.42064901657119,38.42796486532874,38.452520623766496,38.48190676091038,38.532401817875225,38.5399814769013,38.569881649009034,38.5710304030829,38.57409167552994,38.60286049215775,38.61553102409446,38.61721166198062,38.61758584913129,38.652771685508895,38.65325015153505,38.676829954056075,38.68337273164643,38.69019599862244,38.69514230915314,38.69564884479156,38.70350324298089,38.71941246175096,38.72030921401698,38.768662265309416,38.77461400193755,38.77647878964112,38.77684381691918,38.779480368969296,38.80446538790895,38.806002633363185,38.82325052753892,38.8241068018655,38.85585330978253,38.85711642246832,38.86150753519117,38.90258062042218,38.91162261755102,38.91303421965293,38.924247471183925,38.924247471183925,38.933966672862155,38.94717564740431,38.984970898078195,39.00265952404666,39.034012335112365,39.03836813813447,39.04457097082131,39.06255468180075,39.084947659490346,39.08977075952485,39.103307218434324,39.11951686990055,39.134479874760046,39.15864558451304,39.17844218716873,39.18148806283007,39.190159322360074,39.19203481207883,39.203653546221844,39.211809300996876,39.22105904056098,39.22884133934441,39.23783880711062,39.248161015205895,39.2524986061059,39.26756140738199,39.27919856551068,39.2811028036668,39.28250678546473,39.29097873092903,39.304712269030404,39.30866406142404,39.30871642987087,39.31832948277224,39.320660615444,39.32907412076244,39.3300061815939,39.34919887514404,39.349806965805115,39.35993557068218,39.3607687763411,39.366775873776305,39.36688579390216,39.37727613148178,39.39005632449991,39.3913609784113,39.39656237647867,39.40601951603624,39.40837673570634,39.4125203011786,39.42125887465648,39.43346968679556,39.4483076075592,39.46124304249844,39.463251316655615,39.47379127118947,39.47379127118947,39.47379127118947,39.47700921343258,39.48045254356872,39.507197612918326,39.540043147289936,39.54026176190659,39.550100441227954,39.55291594889134,39.55964868013794,39.56389865413129,39.5651773420861,39.56917420515387,39.59148531241502,39.60675086248672,39.61105996001412,39.62285450744373,39.62974410396968,39.630897498491834,39.63556096802513,39.63623232832758,39.63628794156487,39.64109477056041,39.64228232732724,39.657925643299095,39.6693227244646,39.67259508721764,39.67649869845539,39.69125481437247,39.69140032206521,39.699931325387276,39.744534143594116,39.76181601167531,39.77800204289442,39.78368456761006,39.79085445117644,39.79201738135173,39.79943573921106,39.803310230336635,39.80587496509291,39.820527290248194,39.82670270474728,39.845992708791584,39.8776522638788,39.88350074492539,39.89116766385581,39.89142541065661,39.89829518184596,39.905541772567204,39.919870968475465,39.92626350079112,39.93068617451797,39.95209370963593,39.95450946876816,39.977566775203556,39.97843068388129,39.98218849396476,39.9866627618337,39.9935363298102,40.01241954529908,40.01930569081492,40.02358970901305,40.025866406539905,40.02701188293295,40.031310391919845,40.05026752142635,40.0509242399951,40.05489790437209,40.058565201415405,40.05955320073754,40.07010442421556,40.072582113972906,40.07423089103981,40.07626746447252,40.08938428682558,40.102906996414575,40.11508156285055,40.11612663474472,40.12298242884841,40.12298242884841,40.13358534770311,40.1352533435118,40.13654915465665,40.13990006873502,40.145877045497,40.148218368087726,40.16482175246268,40.17543106566626,40.18389251020368,40.18478831557693,40.19319383123944,40.19581459784961,40.19775963854863,40.204224165055905,40.207578176698355,40.22097943527464,40.225281340223106,40.22801920403464,40.22868911327653,40.231602949726195,40.23170683148215,40.23397344860017,40.24177414008875,40.25011163106714,40.25670464558007,40.25675244690417,40.261244162425555,40.29103193050828,40.29599825854163,40.298280067693184,40.298740945457524,40.3015757666417,40.30168405150701,40.3042658721584,40.313019233888824,40.316298452671056,40.32343176893619,40.324136313646015,40.32748721077833,40.35624567119631,40.35943099413544,40.359481803073905,40.380768593798116,40.38319084910729,40.38385065508599,40.39438719625785,40.40079239202273,40.408557192055106,40.409303437302114,40.41418913507568,40.41891253333277,40.422008366822546,40.44069261076169,40.443673400943126,40.44413986604502,40.445446433782266,40.44762246633822,40.45358104150148,40.454019969506476,40.45593901172341,40.45836564164186,40.46135504776056,40.472863960248404,40.47553687978723,40.47985497870791,40.500180071137024,40.503498614699524,40.52998751176666,40.53013279761909,40.544277688865364,40.5456494013069,40.5486858343377,40.56543415443059,40.56715697661312,40.56751302191894,40.57438565181978,40.614902739555944,40.61542833013821,40.639419291335855,40.6635245663857,40.66885688896227,40.67289991918226,40.67352995146432,40.68333317200525,40.68338170910397,40.68879384682012,40.69598123660541,40.70199905948872,40.714898234913115,40.71893420639677,40.72351430140009,40.72889753232656,40.73086480469818,40.737523858210224,40.74400858217082,40.76275637018027,40.76391984647971,40.76903561322083,40.769182502231466,40.76921127399356,40.773833672094334,40.77775341748411,40.800639349061704,40.80915844905485,40.81704933336114,40.81850205728561,40.82781959585766,40.848128903762486,40.84899683121639,40.860841869070285,40.87802008496125,40.87997426510172,40.89585152805144,40.896585200511616,40.9014322363048,40.90375250194724,40.90742490275605,40.91136010877769,40.92563286832474,40.946566570084386,40.94757901135908,40.956014549514094,40.97585727725338,40.98520260206303,40.99913367487219,41.010510083246174,41.01108984395337,41.012671469200626,41.015138450068,41.015518473994405,41.043592544320774,41.04651675599999,41.04731424405958,41.047704047396714,41.049081959428975,41.056266209538684,41.05842868278722,41.060362216132035,41.06532661824104,41.06891177794466,41.07929377676274,41.08028497119085,41.08362839865404,41.090548540976755,41.09079083120741,41.09848992726306,41.11468963164975,41.12162287638087,41.12341717863171,41.1258289633972,41.12678118463927,41.13431877494054,41.149560071805865,41.15481064200775,41.155546226795224,41.17107581876559,41.174946728227724,41.17944806318107,41.182215395935486,41.18577122420584,41.194378765795065,41.20334426661257,41.205187083885576,41.20826839867021,41.21705141684997,41.22355295318672,41.22676439018316,41.24489323742293,41.250512813949555,41.25260818962161,41.25320253798741,41.26945613999157,41.27324668585088,41.28907209158881,41.29989685788934,41.30030784986569,41.30235429992368,41.30391143047082,41.308810566946384,41.31129270757033,41.31379222933509,41.32508198151871,41.33217390128972,41.34975560804382,41.354616754054206,41.3645271625562,41.36574138696144,41.38655013343309,41.39042535941191,41.399693329280446,41.41464383678233,41.42089959828904,41.423164957460756,41.42911203923657,41.429849250066795,41.43227108146053,41.43496498148015,41.43759530207899,41.4392659798349,41.4454638876686,41.45758113017962,41.459358492510205,41.48417732883392,41.48471322649431,41.48964055204797,41.49062444566289,41.49852840233442,41.50104169432804,41.51970972256194,41.53125565960279,41.53172165963579,41.53396282571324,41.54551646089929,41.56577257919534,41.575712580718864,41.57861851556832,41.58070549402191,41.5901603897343,41.59852979654458,41.60932143976551,41.60982627270781,41.61644027922252,41.620231534815304,41.65103210403422,41.671129552912205,41.67639055437694,41.68499312119394,41.69391600957816,41.694003994225994,41.71921602988169,41.72327735630891,41.72492215454633,41.73686693947927,41.751899259758,41.7592225965764,41.77393020137478,41.78299799412811,41.791009463881,41.79115151540411,41.794220190661164,41.79593991363862,41.80228315722015,41.80602065501674,41.80805782839805,41.809096001578126,41.836115545609914,41.83718869235187,41.838626991643316,41.84553503713351,41.84576340558138,41.853498573134516,41.85366949201621,41.86178728196602,41.867990914748546,41.872302061340605,41.87849940214315,41.87859090394498,41.88561572567445,41.88980120189734,41.898313979064625,41.902461035546864,41.91804028221715,41.91806020446897,41.91841142733407,41.931949979980246,41.93795007658507,41.94646299034389,41.96750689063119,41.9714004084318,41.97438140414178,41.97638444612208,41.98782222794222,41.98865466004827,41.98986798769409,41.998555715094355,42.02369222618924,42.031457876697466,42.052523890071704,42.05845091534987,42.06134595232572,42.06360134157332,42.07041649642265,42.07383193886544,42.0794493295573,42.101051161972194,42.108330599805555,42.11475934984787,42.12918360828466,42.13736525158745,42.146858852606336,42.14903592328773,42.14926141045504,42.15625082555061,42.15867786673641,42.16831548214622,42.16936867337054,42.17510918428218,42.17702510691531,42.188523608980745,42.20775478277649,42.21224507321446,42.21353736849448,42.219757903314274,42.22498207052793,42.22703235740646,42.234986831748856,42.236948208389066,42.23818288959311,42.24529574931486,42.24629057148222,42.252032267028774,42.253351388059144,42.2685646497234,42.28819993805257,42.29060248215943,42.29178523586495,42.29295086628603,42.30060250745816,42.30173074169832,42.316650906324924,42.32141598381218,42.3219463508286,42.325556449008516,42.326665716093174,42.32993412634002,42.334762756370516,42.34106277273777,42.34287789525685,42.34471253501516,42.353009369521,42.35807371021389,42.372021712191454,42.379939985803375,42.388898685804875,42.3890512220873,42.392109120666845,42.39242896690648,42.40207942595974,42.4054609820042,42.4197353580881,42.42589542141488,42.427481683282906,42.434214987824475,42.434833752123595,42.434928541128514,42.4373402064527,42.44261045679663,42.44323923905175,42.44590114785167,42.4535492313267,42.463137621032416,42.46855210398162,42.46855210398162,42.49555608021614,42.49596641744372,42.52202165510914,42.52846380262115,42.53248690556129,42.53673120614502,42.55866693230851,42.56078622334424,42.57104277383279,42.578775357265,42.579648090690355,42.58462313117566,42.60414402221164,42.62824482170419,42.633810547876536,42.644932124478004,42.64692201927218,42.65456981067426,42.66102279628926,42.66131451865971,42.67785120294363,42.68102864048244,42.687374016020335,42.68907070634996,42.69489013149542,42.70592056246597,42.70624403338205,42.70667551802282,42.70836390393372,42.71018966634976,42.71209851956894,42.72170429122016,42.73912097374826,42.74922772165981,42.756821932818426,42.758382170103644,42.758809644178214,42.76402996592496,42.77041611362634,42.77360074025499,42.80219152468983,42.80659856151181,42.809042585710124,42.816447307510884,42.81858112352828,42.82678716274909,42.83071236435091,42.84016220286379,42.84166514993659,42.842172992051474,42.843479643781905,42.856437326200755,42.865603449732475,42.89323802928773,42.89979838105619,42.90800982613541,42.90822083254882,42.93580486150009,42.93872532925553,42.939982300034714,42.950439933378895,42.95888393994147,42.95939030786437,42.967478741982944,42.969376094677074,42.97462283766755,42.97661884102119,42.98131423889919,42.98689982176286,43.00751690511255,43.01871619497713,43.02251132363785,43.04542602543201,43.067447283980606,43.11713781349523,43.13915914148526,43.164264529805266,43.16697341115979,43.16743634232732,43.17999466800336,43.181360472202435,43.18510899449076,43.189927280117914,43.19182480528211,43.19852995759904,43.21147412666586,43.21586941083403,43.23993461131381,43.2431049717278,43.25188604569294,43.25462728486836,43.28557854895183,43.291293222659114,43.29383982262287,43.29557270746369,43.295644043108396,43.307909200305396,43.30989881841992,43.31716877376498,43.36030455700191,43.38088024164021,43.39323261193634,43.40276792364014,43.40895611312591,43.410682090450734,43.41319312560776,43.44556731812467,43.45080748617973,43.46397657438463,43.484446327688474,43.48542176344695,43.49944748024547,43.51276251744088,43.52627820745542,43.52885822267329,43.546625476384044,43.549545450388024,43.55198508572357,43.55470072033478,43.56380981690648,43.5651472440454,43.567178447783135,43.574990192712065,43.57664377136649,43.597821685268954,43.60067803365145,43.60081955955769,43.602126621186244,43.60990375452554,43.62503619515388,43.65294994586271,43.67315662099127,43.69324240139795,43.69838430635278,43.708835039835876,43.71809425177729,43.722133846298114,43.73739474608371,43.73845397770917,43.744275840795844,43.761703256123056,43.76666192880979,43.76718333522635,43.769582002461206,43.77237757120035,43.77671687262438,43.83517542941666,43.847984791937606,43.85179794818008,43.85709384236129,43.86688554379958,43.86814575164733,43.876918454089825,43.88905150715672,43.89556211630196,43.900062941010106,43.91237921266148,43.9384637363222,43.95534894493065,43.97187811906237,43.98263281945786,44.01525055954622,44.01963528591962,44.04133167238302,44.054416309728865,44.06013609326803,44.06210075833056,44.11453054076814,44.16545896160214,44.19897142334875,44.20735731107002,44.213806578548315,44.21969144186714,44.23628484897026,44.23818301447035,44.24310646852789,44.24328212784401,44.26763072046871,44.28630099510599,44.28729190069481,44.30359833761386,44.31812507709322,44.32951479894834,44.339439981153376,44.34563008849033,44.35561668955421,44.360219438472456,44.38729085689545,44.394099220787304,44.43442625421509,44.43670426726907,44.462985286138085,44.50544728245582,44.52434930542671,44.56542014328758,44.5680402981872,44.58226504882763,44.587602770937764,44.594484562720346,44.61168809918583,44.68091814786966,44.70385218676222,44.719226938679185,44.72019290780587,44.73500362191948,44.75325956046077,44.76310337225363,44.78231592030923,44.87058036068444,44.87756427531984,44.94382707854002,45.000760630362855,45.013059473758396,45.07650993791488,45.07757904504645,45.08173384984997,45.100699193500624,45.14165632886864,45.179903691267825,45.18669537616681,45.21162570236432,45.21613941337593,45.23818031985601,45.29637034566854,45.322723094398214,45.33210638673687,45.40332356561667,45.45697705773962,45.473823211001445,45.49253153615486,45.503057890948085,45.54818381731832,45.58916921316007,45.60441769708968,45.62022422992747,45.65955460897934,45.985706330958635,46.04177265287744,46.058121060262096,46.325730983969564,46.481540666391126,46.567296077772276],\"yaxis\":\"y\"}],                        {\"font\":{\"size\":16},\"height\":600,\"legend\":{\"bgcolor\":\"rgba(176,196,222,0.7)\",\"bordercolor\":\"black\",\"borderwidth\":2,\"font\":{\"size\":16},\"itemclick\":\"toggle\",\"orientation\":\"v\",\"title\":{\"text\":\"Residential Level\"},\"tracegroupgap\":0,\"x\":0.005,\"y\":0.99},\"margin\":{\"t\":60},\"template\":{\"data\":{\"bar\":[{\"error_x\":{\"color\":\"#2a3f5f\"},\"error_y\":{\"color\":\"#2a3f5f\"},\"marker\":{\"line\":{\"color\":\"#E5ECF6\",\"width\":0.5},\"pattern\":{\"fillmode\":\"overlay\",\"size\":10,\"solidity\":0.2}},\"type\":\"bar\"}],\"barpolar\":[{\"marker\":{\"line\":{\"color\":\"#E5ECF6\",\"width\":0.5},\"pattern\":{\"fillmode\":\"overlay\",\"size\":10,\"solidity\":0.2}},\"type\":\"barpolar\"}],\"carpet\":[{\"aaxis\":{\"endlinecolor\":\"#2a3f5f\",\"gridcolor\":\"white\",\"linecolor\":\"white\",\"minorgridcolor\":\"white\",\"startlinecolor\":\"#2a3f5f\"},\"baxis\":{\"endlinecolor\":\"#2a3f5f\",\"gridcolor\":\"white\",\"linecolor\":\"white\",\"minorgridcolor\":\"white\",\"startlinecolor\":\"#2a3f5f\"},\"type\":\"carpet\"}],\"choropleth\":[{\"colorbar\":{\"outlinewidth\":0,\"ticks\":\"\"},\"type\":\"choropleth\"}],\"contour\":[{\"colorbar\":{\"outlinewidth\":0,\"ticks\":\"\"},\"colorscale\":[[0.0,\"#0d0887\"],[0.1111111111111111,\"#46039f\"],[0.2222222222222222,\"#7201a8\"],[0.3333333333333333,\"#9c179e\"],[0.4444444444444444,\"#bd3786\"],[0.5555555555555556,\"#d8576b\"],[0.6666666666666666,\"#ed7953\"],[0.7777777777777778,\"#fb9f3a\"],[0.8888888888888888,\"#fdca26\"],[1.0,\"#f0f921\"]],\"type\":\"contour\"}],\"contourcarpet\":[{\"colorbar\":{\"outlinewidth\":0,\"ticks\":\"\"},\"type\":\"contourcarpet\"}],\"heatmap\":[{\"colorbar\":{\"outlinewidth\":0,\"ticks\":\"\"},\"colorscale\":[[0.0,\"#0d0887\"],[0.1111111111111111,\"#46039f\"],[0.2222222222222222,\"#7201a8\"],[0.3333333333333333,\"#9c179e\"],[0.4444444444444444,\"#bd3786\"],[0.5555555555555556,\"#d8576b\"],[0.6666666666666666,\"#ed7953\"],[0.7777777777777778,\"#fb9f3a\"],[0.8888888888888888,\"#fdca26\"],[1.0,\"#f0f921\"]],\"type\":\"heatmap\"}],\"heatmapgl\":[{\"colorbar\":{\"outlinewidth\":0,\"ticks\":\"\"},\"colorscale\":[[0.0,\"#0d0887\"],[0.1111111111111111,\"#46039f\"],[0.2222222222222222,\"#7201a8\"],[0.3333333333333333,\"#9c179e\"],[0.4444444444444444,\"#bd3786\"],[0.5555555555555556,\"#d8576b\"],[0.6666666666666666,\"#ed7953\"],[0.7777777777777778,\"#fb9f3a\"],[0.8888888888888888,\"#fdca26\"],[1.0,\"#f0f921\"]],\"type\":\"heatmapgl\"}],\"histogram\":[{\"marker\":{\"pattern\":{\"fillmode\":\"overlay\",\"size\":10,\"solidity\":0.2}},\"type\":\"histogram\"}],\"histogram2d\":[{\"colorbar\":{\"outlinewidth\":0,\"ticks\":\"\"},\"colorscale\":[[0.0,\"#0d0887\"],[0.1111111111111111,\"#46039f\"],[0.2222222222222222,\"#7201a8\"],[0.3333333333333333,\"#9c179e\"],[0.4444444444444444,\"#bd3786\"],[0.5555555555555556,\"#d8576b\"],[0.6666666666666666,\"#ed7953\"],[0.7777777777777778,\"#fb9f3a\"],[0.8888888888888888,\"#fdca26\"],[1.0,\"#f0f921\"]],\"type\":\"histogram2d\"}],\"histogram2dcontour\":[{\"colorbar\":{\"outlinewidth\":0,\"ticks\":\"\"},\"colorscale\":[[0.0,\"#0d0887\"],[0.1111111111111111,\"#46039f\"],[0.2222222222222222,\"#7201a8\"],[0.3333333333333333,\"#9c179e\"],[0.4444444444444444,\"#bd3786\"],[0.5555555555555556,\"#d8576b\"],[0.6666666666666666,\"#ed7953\"],[0.7777777777777778,\"#fb9f3a\"],[0.8888888888888888,\"#fdca26\"],[1.0,\"#f0f921\"]],\"type\":\"histogram2dcontour\"}],\"mesh3d\":[{\"colorbar\":{\"outlinewidth\":0,\"ticks\":\"\"},\"type\":\"mesh3d\"}],\"parcoords\":[{\"line\":{\"colorbar\":{\"outlinewidth\":0,\"ticks\":\"\"}},\"type\":\"parcoords\"}],\"pie\":[{\"automargin\":true,\"type\":\"pie\"}],\"scatter\":[{\"marker\":{\"colorbar\":{\"outlinewidth\":0,\"ticks\":\"\"}},\"type\":\"scatter\"}],\"scatter3d\":[{\"line\":{\"colorbar\":{\"outlinewidth\":0,\"ticks\":\"\"}},\"marker\":{\"colorbar\":{\"outlinewidth\":0,\"ticks\":\"\"}},\"type\":\"scatter3d\"}],\"scattercarpet\":[{\"marker\":{\"colorbar\":{\"outlinewidth\":0,\"ticks\":\"\"}},\"type\":\"scattercarpet\"}],\"scattergeo\":[{\"marker\":{\"colorbar\":{\"outlinewidth\":0,\"ticks\":\"\"}},\"type\":\"scattergeo\"}],\"scattergl\":[{\"marker\":{\"colorbar\":{\"outlinewidth\":0,\"ticks\":\"\"}},\"type\":\"scattergl\"}],\"scattermapbox\":[{\"marker\":{\"colorbar\":{\"outlinewidth\":0,\"ticks\":\"\"}},\"type\":\"scattermapbox\"}],\"scatterpolar\":[{\"marker\":{\"colorbar\":{\"outlinewidth\":0,\"ticks\":\"\"}},\"type\":\"scatterpolar\"}],\"scatterpolargl\":[{\"marker\":{\"colorbar\":{\"outlinewidth\":0,\"ticks\":\"\"}},\"type\":\"scatterpolargl\"}],\"scatterternary\":[{\"marker\":{\"colorbar\":{\"outlinewidth\":0,\"ticks\":\"\"}},\"type\":\"scatterternary\"}],\"surface\":[{\"colorbar\":{\"outlinewidth\":0,\"ticks\":\"\"},\"colorscale\":[[0.0,\"#0d0887\"],[0.1111111111111111,\"#46039f\"],[0.2222222222222222,\"#7201a8\"],[0.3333333333333333,\"#9c179e\"],[0.4444444444444444,\"#bd3786\"],[0.5555555555555556,\"#d8576b\"],[0.6666666666666666,\"#ed7953\"],[0.7777777777777778,\"#fb9f3a\"],[0.8888888888888888,\"#fdca26\"],[1.0,\"#f0f921\"]],\"type\":\"surface\"}],\"table\":[{\"cells\":{\"fill\":{\"color\":\"#EBF0F8\"},\"line\":{\"color\":\"white\"}},\"header\":{\"fill\":{\"color\":\"#C8D4E3\"},\"line\":{\"color\":\"white\"}},\"type\":\"table\"}]},\"layout\":{\"annotationdefaults\":{\"arrowcolor\":\"#2a3f5f\",\"arrowhead\":0,\"arrowwidth\":1},\"autotypenumbers\":\"strict\",\"coloraxis\":{\"colorbar\":{\"outlinewidth\":0,\"ticks\":\"\"}},\"colorscale\":{\"diverging\":[[0,\"#8e0152\"],[0.1,\"#c51b7d\"],[0.2,\"#de77ae\"],[0.3,\"#f1b6da\"],[0.4,\"#fde0ef\"],[0.5,\"#f7f7f7\"],[0.6,\"#e6f5d0\"],[0.7,\"#b8e186\"],[0.8,\"#7fbc41\"],[0.9,\"#4d9221\"],[1,\"#276419\"]],\"sequential\":[[0.0,\"#0d0887\"],[0.1111111111111111,\"#46039f\"],[0.2222222222222222,\"#7201a8\"],[0.3333333333333333,\"#9c179e\"],[0.4444444444444444,\"#bd3786\"],[0.5555555555555556,\"#d8576b\"],[0.6666666666666666,\"#ed7953\"],[0.7777777777777778,\"#fb9f3a\"],[0.8888888888888888,\"#fdca26\"],[1.0,\"#f0f921\"]],\"sequentialminus\":[[0.0,\"#0d0887\"],[0.1111111111111111,\"#46039f\"],[0.2222222222222222,\"#7201a8\"],[0.3333333333333333,\"#9c179e\"],[0.4444444444444444,\"#bd3786\"],[0.5555555555555556,\"#d8576b\"],[0.6666666666666666,\"#ed7953\"],[0.7777777777777778,\"#fb9f3a\"],[0.8888888888888888,\"#fdca26\"],[1.0,\"#f0f921\"]]},\"colorway\":[\"#636efa\",\"#EF553B\",\"#00cc96\",\"#ab63fa\",\"#FFA15A\",\"#19d3f3\",\"#FF6692\",\"#B6E880\",\"#FF97FF\",\"#FECB52\"],\"font\":{\"color\":\"#2a3f5f\"},\"geo\":{\"bgcolor\":\"white\",\"lakecolor\":\"white\",\"landcolor\":\"#E5ECF6\",\"showlakes\":true,\"showland\":true,\"subunitcolor\":\"white\"},\"hoverlabel\":{\"align\":\"left\"},\"hovermode\":\"closest\",\"mapbox\":{\"style\":\"light\"},\"paper_bgcolor\":\"white\",\"plot_bgcolor\":\"#E5ECF6\",\"polar\":{\"angularaxis\":{\"gridcolor\":\"white\",\"linecolor\":\"white\",\"ticks\":\"\"},\"bgcolor\":\"#E5ECF6\",\"radialaxis\":{\"gridcolor\":\"white\",\"linecolor\":\"white\",\"ticks\":\"\"}},\"scene\":{\"xaxis\":{\"backgroundcolor\":\"#E5ECF6\",\"gridcolor\":\"white\",\"gridwidth\":2,\"linecolor\":\"white\",\"showbackground\":true,\"ticks\":\"\",\"zerolinecolor\":\"white\"},\"yaxis\":{\"backgroundcolor\":\"#E5ECF6\",\"gridcolor\":\"white\",\"gridwidth\":2,\"linecolor\":\"white\",\"showbackground\":true,\"ticks\":\"\",\"zerolinecolor\":\"white\"},\"zaxis\":{\"backgroundcolor\":\"#E5ECF6\",\"gridcolor\":\"white\",\"gridwidth\":2,\"linecolor\":\"white\",\"showbackground\":true,\"ticks\":\"\",\"zerolinecolor\":\"white\"}},\"shapedefaults\":{\"line\":{\"color\":\"#2a3f5f\"}},\"ternary\":{\"aaxis\":{\"gridcolor\":\"white\",\"linecolor\":\"white\",\"ticks\":\"\"},\"baxis\":{\"gridcolor\":\"white\",\"linecolor\":\"white\",\"ticks\":\"\"},\"bgcolor\":\"#E5ECF6\",\"caxis\":{\"gridcolor\":\"white\",\"linecolor\":\"white\",\"ticks\":\"\"}},\"title\":{\"x\":0.05},\"xaxis\":{\"automargin\":true,\"gridcolor\":\"white\",\"linecolor\":\"white\",\"ticks\":\"\",\"title\":{\"standoff\":15},\"zerolinecolor\":\"white\",\"zerolinewidth\":2},\"yaxis\":{\"automargin\":true,\"gridcolor\":\"white\",\"linecolor\":\"white\",\"ticks\":\"\",\"title\":{\"standoff\":15},\"zerolinecolor\":\"white\",\"zerolinewidth\":2}}},\"title\":{\"text\":\"Impact of Residential Level On Slope\"},\"width\":800,\"xaxis\":{\"anchor\":\"y\",\"domain\":[0.0,1.0],\"range\":[13,22.5],\"title\":{\"text\":\"Log Revenues\"}},\"yaxis\":{\"anchor\":\"x\",\"domain\":[0.0,1.0],\"range\":[15,100],\"title\":{\"text\":\"Graduation Rate\"}}},                        {\"responsive\": true}                    ).then(function(){\n",
       "                            \n",
       "var gd = document.getElementById('f6c5819d-fec7-4ec0-a16e-7fa68e41d45d');\n",
       "var x = new MutationObserver(function (mutations, observer) {{\n",
       "        var display = window.getComputedStyle(gd).display;\n",
       "        if (!display || display === 'none') {{\n",
       "            console.log([gd, 'removed!']);\n",
       "            Plotly.purge(gd);\n",
       "            observer.disconnect();\n",
       "        }}\n",
       "}});\n",
       "\n",
       "// Listen for the removal of the full notebook cells\n",
       "var notebookContainer = gd.closest('#notebook-container');\n",
       "if (notebookContainer) {{\n",
       "    x.observe(notebookContainer, {childList: true});\n",
       "}}\n",
       "\n",
       "// Listen for the clearing of the current output cell\n",
       "var outputEl = gd.closest('.output');\n",
       "if (outputEl) {{\n",
       "    x.observe(outputEl, {childList: true});\n",
       "}}\n",
       "\n",
       "                        })                };                });            </script>        </div>"
      ]
     },
     "metadata": {},
     "output_type": "display_data"
    }
   ],
   "source": [
    "fig = px.scatter(X_fe, x=\"Log_Core_Revenues\", y=total, color=\"Residential_Level\", trendline='ols')\n",
    "\n",
    "tr_line=[]\n",
    "scatter = []\n",
    "for  k, trace  in enumerate(fig.data):\n",
    "    if trace.mode is not None and trace.mode == 'lines':\n",
    "        tr_line.append(k)\n",
    "    else:\n",
    "        scatter.append(k)\n",
    "\n",
    "\n",
    "\n",
    "for id_ in tr_line:\n",
    "    fig.data[id_].update(line_width=4)\n",
    "for id_ in scatter:\n",
    "    fig.data[id_].update(opacity=0.5)\n",
    "    \n",
    "    \n",
    "fig.data = [t for t in fig.data if t.mode == \"lines\"]\n",
    "fig.update_traces(\n",
    "    marker={\n",
    "       \"line\": {\n",
    "           \"width\": 2,\n",
    "       },\n",
    "       \"size\": 10,\n",
    "    },\n",
    "    showlegend=True\n",
    "    \n",
    ")\n",
    "fig.update_layout(\n",
    "    title=\"Impact of Residential Level On Slope\",\n",
    "    font={\n",
    "        'size': 16\n",
    "    },\n",
    "    xaxis={\n",
    "        \"title\": \"Log Revenues\",\n",
    "        \"range\": [13,22.5]\n",
    "    },\n",
    "    yaxis={\n",
    "        \"title\": \"Graduation Rate\",\n",
    "        \"range\": [15,100]\n",
    "    },\n",
    "    legend={\n",
    "        'orientation': 'v',\n",
    "        'title': \"Residential Level\",\n",
    "        'x': 0.005,\n",
    "        'y': 0.99,\n",
    "        'bgcolor': \"rgba(176,196,222,0.7)\",\n",
    "        'bordercolor': \"black\",\n",
    "        'borderwidth': 2,\n",
    "        'itemclick': \"toggle\",\n",
    "        'font': {\n",
    "            'size': 16\n",
    "        }\n",
    "    },\n",
    "    height= 600,\n",
    "    width=800\n",
    ")\n",
    "\n",
    "\n",
    "\n",
    "fig.show()"
   ]
  },
  {
   "cell_type": "code",
   "execution_count": 154,
   "id": "c822a00e",
   "metadata": {
    "cell_style": "split",
    "slideshow": {
     "slide_type": "skip"
    }
   },
   "outputs": [],
   "source": [
    "name = df.loc[my_id, \"Institution Name\"]"
   ]
  },
  {
   "cell_type": "markdown",
   "id": "1f435d0d",
   "metadata": {
    "cell_style": "split",
    "slideshow": {
     "slide_type": "fragment"
    }
   },
   "source": [
    "<ul><li><h3>One Coefficient for the effect of Revenue on Graduation Rate</h3></li></ul>"
   ]
  },
  {
   "cell_type": "code",
   "execution_count": null,
   "id": "e84e2dd5",
   "metadata": {
    "cell_style": "split"
   },
   "outputs": [],
   "source": []
  },
  {
   "cell_type": "markdown",
   "id": "6988bda8",
   "metadata": {
    "slideshow": {
     "slide_type": "slide"
    }
   },
   "source": [
    "<h1><center>XGBoost Feature Importances</center></h1>"
   ]
  },
  {
   "cell_type": "code",
   "execution_count": 86,
   "id": "c0563f03",
   "metadata": {
    "slideshow": {
     "slide_type": "skip"
    }
   },
   "outputs": [],
   "source": [
    "importances = model_log[-2]['model']['classifier'].feature_importances_"
   ]
  },
  {
   "cell_type": "code",
   "execution_count": 87,
   "id": "608dd10b",
   "metadata": {
    "slideshow": {
     "slide_type": "skip"
    }
   },
   "outputs": [],
   "source": [
    "sorted_importances = sorted(list(zip(x_train.columns, importances)), key=lambda x: x[1])"
   ]
  },
  {
   "cell_type": "code",
   "execution_count": 89,
   "id": "161cb366",
   "metadata": {
    "hide_input": true,
    "scrolled": false,
    "slideshow": {
     "slide_type": "fragment"
    }
   },
   "outputs": [
    {
     "data": {
      "application/vnd.plotly.v1+json": {
       "config": {
        "plotlyServerURL": "https://plot.ly"
       },
       "data": [
        {
         "orientation": "v",
         "text": [
          "0.014",
          "0.017",
          "0.018",
          "0.018",
          "0.021",
          "0.022",
          "0.028",
          "0.048",
          "0.107",
          "0.112"
         ],
         "type": "bar",
         "x": [
          "Government_Grants",
          "Private_Gifts_As_Dollar_Amount",
          "Sector of institution (HD2018)_Private for-profit, 4-year or above",
          "Grand total (EF2013B_RV  Undergraduate  Age 25 and over total)_as_percentage",
          "Total men (EF2013B_RV  Undergraduate  Age 25 and over total)",
          "Total price for out-of-state students living off campus (not with family)  2012-13 (DRVIC2012_RV)",
          "SAT Critical Reading 75th percentile score (IC2012_RV)_isNaN",
          "ACT Composite 75th percentile score (IC2012_RV)",
          "SAT Math 75th percentile score (IC2012_RV)",
          "price*percentage of women Under 25"
         ],
         "y": [
          0.014291389845311642,
          0.01728285662829876,
          0.01775272563099861,
          0.01807950809597969,
          0.020698288455605507,
          0.02155345492064953,
          0.028468966484069824,
          0.04816218838095665,
          0.10702061653137207,
          0.11245512962341309
         ]
        }
       ],
       "layout": {
        "barmode": "group",
        "font": {
         "size": 16
        },
        "height": 800,
        "template": {
         "data": {
          "bar": [
           {
            "error_x": {
             "color": "#2a3f5f"
            },
            "error_y": {
             "color": "#2a3f5f"
            },
            "marker": {
             "line": {
              "color": "#E5ECF6",
              "width": 0.5
             },
             "pattern": {
              "fillmode": "overlay",
              "size": 10,
              "solidity": 0.2
             }
            },
            "type": "bar"
           }
          ],
          "barpolar": [
           {
            "marker": {
             "line": {
              "color": "#E5ECF6",
              "width": 0.5
             },
             "pattern": {
              "fillmode": "overlay",
              "size": 10,
              "solidity": 0.2
             }
            },
            "type": "barpolar"
           }
          ],
          "carpet": [
           {
            "aaxis": {
             "endlinecolor": "#2a3f5f",
             "gridcolor": "white",
             "linecolor": "white",
             "minorgridcolor": "white",
             "startlinecolor": "#2a3f5f"
            },
            "baxis": {
             "endlinecolor": "#2a3f5f",
             "gridcolor": "white",
             "linecolor": "white",
             "minorgridcolor": "white",
             "startlinecolor": "#2a3f5f"
            },
            "type": "carpet"
           }
          ],
          "choropleth": [
           {
            "colorbar": {
             "outlinewidth": 0,
             "ticks": ""
            },
            "type": "choropleth"
           }
          ],
          "contour": [
           {
            "colorbar": {
             "outlinewidth": 0,
             "ticks": ""
            },
            "colorscale": [
             [
              0,
              "#0d0887"
             ],
             [
              0.1111111111111111,
              "#46039f"
             ],
             [
              0.2222222222222222,
              "#7201a8"
             ],
             [
              0.3333333333333333,
              "#9c179e"
             ],
             [
              0.4444444444444444,
              "#bd3786"
             ],
             [
              0.5555555555555556,
              "#d8576b"
             ],
             [
              0.6666666666666666,
              "#ed7953"
             ],
             [
              0.7777777777777778,
              "#fb9f3a"
             ],
             [
              0.8888888888888888,
              "#fdca26"
             ],
             [
              1,
              "#f0f921"
             ]
            ],
            "type": "contour"
           }
          ],
          "contourcarpet": [
           {
            "colorbar": {
             "outlinewidth": 0,
             "ticks": ""
            },
            "type": "contourcarpet"
           }
          ],
          "heatmap": [
           {
            "colorbar": {
             "outlinewidth": 0,
             "ticks": ""
            },
            "colorscale": [
             [
              0,
              "#0d0887"
             ],
             [
              0.1111111111111111,
              "#46039f"
             ],
             [
              0.2222222222222222,
              "#7201a8"
             ],
             [
              0.3333333333333333,
              "#9c179e"
             ],
             [
              0.4444444444444444,
              "#bd3786"
             ],
             [
              0.5555555555555556,
              "#d8576b"
             ],
             [
              0.6666666666666666,
              "#ed7953"
             ],
             [
              0.7777777777777778,
              "#fb9f3a"
             ],
             [
              0.8888888888888888,
              "#fdca26"
             ],
             [
              1,
              "#f0f921"
             ]
            ],
            "type": "heatmap"
           }
          ],
          "heatmapgl": [
           {
            "colorbar": {
             "outlinewidth": 0,
             "ticks": ""
            },
            "colorscale": [
             [
              0,
              "#0d0887"
             ],
             [
              0.1111111111111111,
              "#46039f"
             ],
             [
              0.2222222222222222,
              "#7201a8"
             ],
             [
              0.3333333333333333,
              "#9c179e"
             ],
             [
              0.4444444444444444,
              "#bd3786"
             ],
             [
              0.5555555555555556,
              "#d8576b"
             ],
             [
              0.6666666666666666,
              "#ed7953"
             ],
             [
              0.7777777777777778,
              "#fb9f3a"
             ],
             [
              0.8888888888888888,
              "#fdca26"
             ],
             [
              1,
              "#f0f921"
             ]
            ],
            "type": "heatmapgl"
           }
          ],
          "histogram": [
           {
            "marker": {
             "pattern": {
              "fillmode": "overlay",
              "size": 10,
              "solidity": 0.2
             }
            },
            "type": "histogram"
           }
          ],
          "histogram2d": [
           {
            "colorbar": {
             "outlinewidth": 0,
             "ticks": ""
            },
            "colorscale": [
             [
              0,
              "#0d0887"
             ],
             [
              0.1111111111111111,
              "#46039f"
             ],
             [
              0.2222222222222222,
              "#7201a8"
             ],
             [
              0.3333333333333333,
              "#9c179e"
             ],
             [
              0.4444444444444444,
              "#bd3786"
             ],
             [
              0.5555555555555556,
              "#d8576b"
             ],
             [
              0.6666666666666666,
              "#ed7953"
             ],
             [
              0.7777777777777778,
              "#fb9f3a"
             ],
             [
              0.8888888888888888,
              "#fdca26"
             ],
             [
              1,
              "#f0f921"
             ]
            ],
            "type": "histogram2d"
           }
          ],
          "histogram2dcontour": [
           {
            "colorbar": {
             "outlinewidth": 0,
             "ticks": ""
            },
            "colorscale": [
             [
              0,
              "#0d0887"
             ],
             [
              0.1111111111111111,
              "#46039f"
             ],
             [
              0.2222222222222222,
              "#7201a8"
             ],
             [
              0.3333333333333333,
              "#9c179e"
             ],
             [
              0.4444444444444444,
              "#bd3786"
             ],
             [
              0.5555555555555556,
              "#d8576b"
             ],
             [
              0.6666666666666666,
              "#ed7953"
             ],
             [
              0.7777777777777778,
              "#fb9f3a"
             ],
             [
              0.8888888888888888,
              "#fdca26"
             ],
             [
              1,
              "#f0f921"
             ]
            ],
            "type": "histogram2dcontour"
           }
          ],
          "mesh3d": [
           {
            "colorbar": {
             "outlinewidth": 0,
             "ticks": ""
            },
            "type": "mesh3d"
           }
          ],
          "parcoords": [
           {
            "line": {
             "colorbar": {
              "outlinewidth": 0,
              "ticks": ""
             }
            },
            "type": "parcoords"
           }
          ],
          "pie": [
           {
            "automargin": true,
            "type": "pie"
           }
          ],
          "scatter": [
           {
            "marker": {
             "colorbar": {
              "outlinewidth": 0,
              "ticks": ""
             }
            },
            "type": "scatter"
           }
          ],
          "scatter3d": [
           {
            "line": {
             "colorbar": {
              "outlinewidth": 0,
              "ticks": ""
             }
            },
            "marker": {
             "colorbar": {
              "outlinewidth": 0,
              "ticks": ""
             }
            },
            "type": "scatter3d"
           }
          ],
          "scattercarpet": [
           {
            "marker": {
             "colorbar": {
              "outlinewidth": 0,
              "ticks": ""
             }
            },
            "type": "scattercarpet"
           }
          ],
          "scattergeo": [
           {
            "marker": {
             "colorbar": {
              "outlinewidth": 0,
              "ticks": ""
             }
            },
            "type": "scattergeo"
           }
          ],
          "scattergl": [
           {
            "marker": {
             "colorbar": {
              "outlinewidth": 0,
              "ticks": ""
             }
            },
            "type": "scattergl"
           }
          ],
          "scattermapbox": [
           {
            "marker": {
             "colorbar": {
              "outlinewidth": 0,
              "ticks": ""
             }
            },
            "type": "scattermapbox"
           }
          ],
          "scatterpolar": [
           {
            "marker": {
             "colorbar": {
              "outlinewidth": 0,
              "ticks": ""
             }
            },
            "type": "scatterpolar"
           }
          ],
          "scatterpolargl": [
           {
            "marker": {
             "colorbar": {
              "outlinewidth": 0,
              "ticks": ""
             }
            },
            "type": "scatterpolargl"
           }
          ],
          "scatterternary": [
           {
            "marker": {
             "colorbar": {
              "outlinewidth": 0,
              "ticks": ""
             }
            },
            "type": "scatterternary"
           }
          ],
          "surface": [
           {
            "colorbar": {
             "outlinewidth": 0,
             "ticks": ""
            },
            "colorscale": [
             [
              0,
              "#0d0887"
             ],
             [
              0.1111111111111111,
              "#46039f"
             ],
             [
              0.2222222222222222,
              "#7201a8"
             ],
             [
              0.3333333333333333,
              "#9c179e"
             ],
             [
              0.4444444444444444,
              "#bd3786"
             ],
             [
              0.5555555555555556,
              "#d8576b"
             ],
             [
              0.6666666666666666,
              "#ed7953"
             ],
             [
              0.7777777777777778,
              "#fb9f3a"
             ],
             [
              0.8888888888888888,
              "#fdca26"
             ],
             [
              1,
              "#f0f921"
             ]
            ],
            "type": "surface"
           }
          ],
          "table": [
           {
            "cells": {
             "fill": {
              "color": "#EBF0F8"
             },
             "line": {
              "color": "white"
             }
            },
            "header": {
             "fill": {
              "color": "#C8D4E3"
             },
             "line": {
              "color": "white"
             }
            },
            "type": "table"
           }
          ]
         },
         "layout": {
          "annotationdefaults": {
           "arrowcolor": "#2a3f5f",
           "arrowhead": 0,
           "arrowwidth": 1
          },
          "autotypenumbers": "strict",
          "coloraxis": {
           "colorbar": {
            "outlinewidth": 0,
            "ticks": ""
           }
          },
          "colorscale": {
           "diverging": [
            [
             0,
             "#8e0152"
            ],
            [
             0.1,
             "#c51b7d"
            ],
            [
             0.2,
             "#de77ae"
            ],
            [
             0.3,
             "#f1b6da"
            ],
            [
             0.4,
             "#fde0ef"
            ],
            [
             0.5,
             "#f7f7f7"
            ],
            [
             0.6,
             "#e6f5d0"
            ],
            [
             0.7,
             "#b8e186"
            ],
            [
             0.8,
             "#7fbc41"
            ],
            [
             0.9,
             "#4d9221"
            ],
            [
             1,
             "#276419"
            ]
           ],
           "sequential": [
            [
             0,
             "#0d0887"
            ],
            [
             0.1111111111111111,
             "#46039f"
            ],
            [
             0.2222222222222222,
             "#7201a8"
            ],
            [
             0.3333333333333333,
             "#9c179e"
            ],
            [
             0.4444444444444444,
             "#bd3786"
            ],
            [
             0.5555555555555556,
             "#d8576b"
            ],
            [
             0.6666666666666666,
             "#ed7953"
            ],
            [
             0.7777777777777778,
             "#fb9f3a"
            ],
            [
             0.8888888888888888,
             "#fdca26"
            ],
            [
             1,
             "#f0f921"
            ]
           ],
           "sequentialminus": [
            [
             0,
             "#0d0887"
            ],
            [
             0.1111111111111111,
             "#46039f"
            ],
            [
             0.2222222222222222,
             "#7201a8"
            ],
            [
             0.3333333333333333,
             "#9c179e"
            ],
            [
             0.4444444444444444,
             "#bd3786"
            ],
            [
             0.5555555555555556,
             "#d8576b"
            ],
            [
             0.6666666666666666,
             "#ed7953"
            ],
            [
             0.7777777777777778,
             "#fb9f3a"
            ],
            [
             0.8888888888888888,
             "#fdca26"
            ],
            [
             1,
             "#f0f921"
            ]
           ]
          },
          "colorway": [
           "#636efa",
           "#EF553B",
           "#00cc96",
           "#ab63fa",
           "#FFA15A",
           "#19d3f3",
           "#FF6692",
           "#B6E880",
           "#FF97FF",
           "#FECB52"
          ],
          "font": {
           "color": "#2a3f5f"
          },
          "geo": {
           "bgcolor": "white",
           "lakecolor": "white",
           "landcolor": "#E5ECF6",
           "showlakes": true,
           "showland": true,
           "subunitcolor": "white"
          },
          "hoverlabel": {
           "align": "left"
          },
          "hovermode": "closest",
          "mapbox": {
           "style": "light"
          },
          "paper_bgcolor": "white",
          "plot_bgcolor": "#E5ECF6",
          "polar": {
           "angularaxis": {
            "gridcolor": "white",
            "linecolor": "white",
            "ticks": ""
           },
           "bgcolor": "#E5ECF6",
           "radialaxis": {
            "gridcolor": "white",
            "linecolor": "white",
            "ticks": ""
           }
          },
          "scene": {
           "xaxis": {
            "backgroundcolor": "#E5ECF6",
            "gridcolor": "white",
            "gridwidth": 2,
            "linecolor": "white",
            "showbackground": true,
            "ticks": "",
            "zerolinecolor": "white"
           },
           "yaxis": {
            "backgroundcolor": "#E5ECF6",
            "gridcolor": "white",
            "gridwidth": 2,
            "linecolor": "white",
            "showbackground": true,
            "ticks": "",
            "zerolinecolor": "white"
           },
           "zaxis": {
            "backgroundcolor": "#E5ECF6",
            "gridcolor": "white",
            "gridwidth": 2,
            "linecolor": "white",
            "showbackground": true,
            "ticks": "",
            "zerolinecolor": "white"
           }
          },
          "shapedefaults": {
           "line": {
            "color": "#2a3f5f"
           }
          },
          "ternary": {
           "aaxis": {
            "gridcolor": "white",
            "linecolor": "white",
            "ticks": ""
           },
           "baxis": {
            "gridcolor": "white",
            "linecolor": "white",
            "ticks": ""
           },
           "bgcolor": "#E5ECF6",
           "caxis": {
            "gridcolor": "white",
            "linecolor": "white",
            "ticks": ""
           }
          },
          "title": {
           "x": 0.05
          },
          "xaxis": {
           "automargin": true,
           "gridcolor": "white",
           "linecolor": "white",
           "ticks": "",
           "title": {
            "standoff": 15
           },
           "zerolinecolor": "white",
           "zerolinewidth": 2
          },
          "yaxis": {
           "automargin": true,
           "gridcolor": "white",
           "linecolor": "white",
           "ticks": "",
           "title": {
            "standoff": 15
           },
           "zerolinecolor": "white",
           "zerolinewidth": 2
          }
         }
        },
        "title": {
         "text": "XGB Feature Importances",
         "x": 0.5
        },
        "xaxis": {
         "tickfont": {
          "size": 12
         },
         "ticktext": [
          "Government Grants",
          "($) Private Gifts ",
          "Is_4year_Private_for-profit",
          "(%) Grand Total Undergraduate  Age 25 and over",
          "Total Men Undergraduate  Age 25 and over",
          "Off Campus Price (w/o family)",
          "SAT Reading",
          "ACT Composite",
          "SAT MMath",
          "price*percentage of women Under 25"
         ],
         "tickvals": [
          "Government_Grants",
          "Private_Gifts_As_Dollar_Amount",
          "Sector of institution (HD2018)_Private for-profit, 4-year or above",
          "Grand total (EF2013B_RV  Undergraduate  Age 25 and over total)_as_percentage",
          "Total men (EF2013B_RV  Undergraduate  Age 25 and over total)",
          "Total price for out-of-state students living off campus (not with family)  2012-13 (DRVIC2012_RV)",
          "SAT Critical Reading 75th percentile score (IC2012_RV)_isNaN",
          "ACT Composite 75th percentile score (IC2012_RV)",
          "SAT Math 75th percentile score (IC2012_RV)",
          "price*percentage of women Under 25"
         ]
        }
       }
      },
      "text/html": [
       "<div>                            <div id=\"164ba958-42b2-4827-bf7f-408df10fc813\" class=\"plotly-graph-div\" style=\"height:800px; width:100%;\"></div>            <script type=\"text/javascript\">                require([\"plotly\"], function(Plotly) {                    window.PLOTLYENV=window.PLOTLYENV || {};                                    if (document.getElementById(\"164ba958-42b2-4827-bf7f-408df10fc813\")) {                    Plotly.newPlot(                        \"164ba958-42b2-4827-bf7f-408df10fc813\",                        [{\"orientation\":\"v\",\"text\":[\"0.014\",\"0.017\",\"0.018\",\"0.018\",\"0.021\",\"0.022\",\"0.028\",\"0.048\",\"0.107\",\"0.112\"],\"type\":\"bar\",\"x\":[\"Government_Grants\",\"Private_Gifts_As_Dollar_Amount\",\"Sector of institution (HD2018)_Private for-profit, 4-year or above\",\"Grand total (EF2013B_RV  Undergraduate  Age 25 and over total)_as_percentage\",\"Total men (EF2013B_RV  Undergraduate  Age 25 and over total)\",\"Total price for out-of-state students living off campus (not with family)  2012-13 (DRVIC2012_RV)\",\"SAT Critical Reading 75th percentile score (IC2012_RV)_isNaN\",\"ACT Composite 75th percentile score (IC2012_RV)\",\"SAT Math 75th percentile score (IC2012_RV)\",\"price*percentage of women Under 25\"],\"y\":[0.014291389845311642,0.01728285662829876,0.01775272563099861,0.01807950809597969,0.020698288455605507,0.02155345492064953,0.028468966484069824,0.04816218838095665,0.10702061653137207,0.11245512962341309]}],                        {\"barmode\":\"group\",\"font\":{\"size\":16},\"height\":800,\"template\":{\"data\":{\"bar\":[{\"error_x\":{\"color\":\"#2a3f5f\"},\"error_y\":{\"color\":\"#2a3f5f\"},\"marker\":{\"line\":{\"color\":\"#E5ECF6\",\"width\":0.5},\"pattern\":{\"fillmode\":\"overlay\",\"size\":10,\"solidity\":0.2}},\"type\":\"bar\"}],\"barpolar\":[{\"marker\":{\"line\":{\"color\":\"#E5ECF6\",\"width\":0.5},\"pattern\":{\"fillmode\":\"overlay\",\"size\":10,\"solidity\":0.2}},\"type\":\"barpolar\"}],\"carpet\":[{\"aaxis\":{\"endlinecolor\":\"#2a3f5f\",\"gridcolor\":\"white\",\"linecolor\":\"white\",\"minorgridcolor\":\"white\",\"startlinecolor\":\"#2a3f5f\"},\"baxis\":{\"endlinecolor\":\"#2a3f5f\",\"gridcolor\":\"white\",\"linecolor\":\"white\",\"minorgridcolor\":\"white\",\"startlinecolor\":\"#2a3f5f\"},\"type\":\"carpet\"}],\"choropleth\":[{\"colorbar\":{\"outlinewidth\":0,\"ticks\":\"\"},\"type\":\"choropleth\"}],\"contour\":[{\"colorbar\":{\"outlinewidth\":0,\"ticks\":\"\"},\"colorscale\":[[0.0,\"#0d0887\"],[0.1111111111111111,\"#46039f\"],[0.2222222222222222,\"#7201a8\"],[0.3333333333333333,\"#9c179e\"],[0.4444444444444444,\"#bd3786\"],[0.5555555555555556,\"#d8576b\"],[0.6666666666666666,\"#ed7953\"],[0.7777777777777778,\"#fb9f3a\"],[0.8888888888888888,\"#fdca26\"],[1.0,\"#f0f921\"]],\"type\":\"contour\"}],\"contourcarpet\":[{\"colorbar\":{\"outlinewidth\":0,\"ticks\":\"\"},\"type\":\"contourcarpet\"}],\"heatmap\":[{\"colorbar\":{\"outlinewidth\":0,\"ticks\":\"\"},\"colorscale\":[[0.0,\"#0d0887\"],[0.1111111111111111,\"#46039f\"],[0.2222222222222222,\"#7201a8\"],[0.3333333333333333,\"#9c179e\"],[0.4444444444444444,\"#bd3786\"],[0.5555555555555556,\"#d8576b\"],[0.6666666666666666,\"#ed7953\"],[0.7777777777777778,\"#fb9f3a\"],[0.8888888888888888,\"#fdca26\"],[1.0,\"#f0f921\"]],\"type\":\"heatmap\"}],\"heatmapgl\":[{\"colorbar\":{\"outlinewidth\":0,\"ticks\":\"\"},\"colorscale\":[[0.0,\"#0d0887\"],[0.1111111111111111,\"#46039f\"],[0.2222222222222222,\"#7201a8\"],[0.3333333333333333,\"#9c179e\"],[0.4444444444444444,\"#bd3786\"],[0.5555555555555556,\"#d8576b\"],[0.6666666666666666,\"#ed7953\"],[0.7777777777777778,\"#fb9f3a\"],[0.8888888888888888,\"#fdca26\"],[1.0,\"#f0f921\"]],\"type\":\"heatmapgl\"}],\"histogram\":[{\"marker\":{\"pattern\":{\"fillmode\":\"overlay\",\"size\":10,\"solidity\":0.2}},\"type\":\"histogram\"}],\"histogram2d\":[{\"colorbar\":{\"outlinewidth\":0,\"ticks\":\"\"},\"colorscale\":[[0.0,\"#0d0887\"],[0.1111111111111111,\"#46039f\"],[0.2222222222222222,\"#7201a8\"],[0.3333333333333333,\"#9c179e\"],[0.4444444444444444,\"#bd3786\"],[0.5555555555555556,\"#d8576b\"],[0.6666666666666666,\"#ed7953\"],[0.7777777777777778,\"#fb9f3a\"],[0.8888888888888888,\"#fdca26\"],[1.0,\"#f0f921\"]],\"type\":\"histogram2d\"}],\"histogram2dcontour\":[{\"colorbar\":{\"outlinewidth\":0,\"ticks\":\"\"},\"colorscale\":[[0.0,\"#0d0887\"],[0.1111111111111111,\"#46039f\"],[0.2222222222222222,\"#7201a8\"],[0.3333333333333333,\"#9c179e\"],[0.4444444444444444,\"#bd3786\"],[0.5555555555555556,\"#d8576b\"],[0.6666666666666666,\"#ed7953\"],[0.7777777777777778,\"#fb9f3a\"],[0.8888888888888888,\"#fdca26\"],[1.0,\"#f0f921\"]],\"type\":\"histogram2dcontour\"}],\"mesh3d\":[{\"colorbar\":{\"outlinewidth\":0,\"ticks\":\"\"},\"type\":\"mesh3d\"}],\"parcoords\":[{\"line\":{\"colorbar\":{\"outlinewidth\":0,\"ticks\":\"\"}},\"type\":\"parcoords\"}],\"pie\":[{\"automargin\":true,\"type\":\"pie\"}],\"scatter\":[{\"marker\":{\"colorbar\":{\"outlinewidth\":0,\"ticks\":\"\"}},\"type\":\"scatter\"}],\"scatter3d\":[{\"line\":{\"colorbar\":{\"outlinewidth\":0,\"ticks\":\"\"}},\"marker\":{\"colorbar\":{\"outlinewidth\":0,\"ticks\":\"\"}},\"type\":\"scatter3d\"}],\"scattercarpet\":[{\"marker\":{\"colorbar\":{\"outlinewidth\":0,\"ticks\":\"\"}},\"type\":\"scattercarpet\"}],\"scattergeo\":[{\"marker\":{\"colorbar\":{\"outlinewidth\":0,\"ticks\":\"\"}},\"type\":\"scattergeo\"}],\"scattergl\":[{\"marker\":{\"colorbar\":{\"outlinewidth\":0,\"ticks\":\"\"}},\"type\":\"scattergl\"}],\"scattermapbox\":[{\"marker\":{\"colorbar\":{\"outlinewidth\":0,\"ticks\":\"\"}},\"type\":\"scattermapbox\"}],\"scatterpolar\":[{\"marker\":{\"colorbar\":{\"outlinewidth\":0,\"ticks\":\"\"}},\"type\":\"scatterpolar\"}],\"scatterpolargl\":[{\"marker\":{\"colorbar\":{\"outlinewidth\":0,\"ticks\":\"\"}},\"type\":\"scatterpolargl\"}],\"scatterternary\":[{\"marker\":{\"colorbar\":{\"outlinewidth\":0,\"ticks\":\"\"}},\"type\":\"scatterternary\"}],\"surface\":[{\"colorbar\":{\"outlinewidth\":0,\"ticks\":\"\"},\"colorscale\":[[0.0,\"#0d0887\"],[0.1111111111111111,\"#46039f\"],[0.2222222222222222,\"#7201a8\"],[0.3333333333333333,\"#9c179e\"],[0.4444444444444444,\"#bd3786\"],[0.5555555555555556,\"#d8576b\"],[0.6666666666666666,\"#ed7953\"],[0.7777777777777778,\"#fb9f3a\"],[0.8888888888888888,\"#fdca26\"],[1.0,\"#f0f921\"]],\"type\":\"surface\"}],\"table\":[{\"cells\":{\"fill\":{\"color\":\"#EBF0F8\"},\"line\":{\"color\":\"white\"}},\"header\":{\"fill\":{\"color\":\"#C8D4E3\"},\"line\":{\"color\":\"white\"}},\"type\":\"table\"}]},\"layout\":{\"annotationdefaults\":{\"arrowcolor\":\"#2a3f5f\",\"arrowhead\":0,\"arrowwidth\":1},\"autotypenumbers\":\"strict\",\"coloraxis\":{\"colorbar\":{\"outlinewidth\":0,\"ticks\":\"\"}},\"colorscale\":{\"diverging\":[[0,\"#8e0152\"],[0.1,\"#c51b7d\"],[0.2,\"#de77ae\"],[0.3,\"#f1b6da\"],[0.4,\"#fde0ef\"],[0.5,\"#f7f7f7\"],[0.6,\"#e6f5d0\"],[0.7,\"#b8e186\"],[0.8,\"#7fbc41\"],[0.9,\"#4d9221\"],[1,\"#276419\"]],\"sequential\":[[0.0,\"#0d0887\"],[0.1111111111111111,\"#46039f\"],[0.2222222222222222,\"#7201a8\"],[0.3333333333333333,\"#9c179e\"],[0.4444444444444444,\"#bd3786\"],[0.5555555555555556,\"#d8576b\"],[0.6666666666666666,\"#ed7953\"],[0.7777777777777778,\"#fb9f3a\"],[0.8888888888888888,\"#fdca26\"],[1.0,\"#f0f921\"]],\"sequentialminus\":[[0.0,\"#0d0887\"],[0.1111111111111111,\"#46039f\"],[0.2222222222222222,\"#7201a8\"],[0.3333333333333333,\"#9c179e\"],[0.4444444444444444,\"#bd3786\"],[0.5555555555555556,\"#d8576b\"],[0.6666666666666666,\"#ed7953\"],[0.7777777777777778,\"#fb9f3a\"],[0.8888888888888888,\"#fdca26\"],[1.0,\"#f0f921\"]]},\"colorway\":[\"#636efa\",\"#EF553B\",\"#00cc96\",\"#ab63fa\",\"#FFA15A\",\"#19d3f3\",\"#FF6692\",\"#B6E880\",\"#FF97FF\",\"#FECB52\"],\"font\":{\"color\":\"#2a3f5f\"},\"geo\":{\"bgcolor\":\"white\",\"lakecolor\":\"white\",\"landcolor\":\"#E5ECF6\",\"showlakes\":true,\"showland\":true,\"subunitcolor\":\"white\"},\"hoverlabel\":{\"align\":\"left\"},\"hovermode\":\"closest\",\"mapbox\":{\"style\":\"light\"},\"paper_bgcolor\":\"white\",\"plot_bgcolor\":\"#E5ECF6\",\"polar\":{\"angularaxis\":{\"gridcolor\":\"white\",\"linecolor\":\"white\",\"ticks\":\"\"},\"bgcolor\":\"#E5ECF6\",\"radialaxis\":{\"gridcolor\":\"white\",\"linecolor\":\"white\",\"ticks\":\"\"}},\"scene\":{\"xaxis\":{\"backgroundcolor\":\"#E5ECF6\",\"gridcolor\":\"white\",\"gridwidth\":2,\"linecolor\":\"white\",\"showbackground\":true,\"ticks\":\"\",\"zerolinecolor\":\"white\"},\"yaxis\":{\"backgroundcolor\":\"#E5ECF6\",\"gridcolor\":\"white\",\"gridwidth\":2,\"linecolor\":\"white\",\"showbackground\":true,\"ticks\":\"\",\"zerolinecolor\":\"white\"},\"zaxis\":{\"backgroundcolor\":\"#E5ECF6\",\"gridcolor\":\"white\",\"gridwidth\":2,\"linecolor\":\"white\",\"showbackground\":true,\"ticks\":\"\",\"zerolinecolor\":\"white\"}},\"shapedefaults\":{\"line\":{\"color\":\"#2a3f5f\"}},\"ternary\":{\"aaxis\":{\"gridcolor\":\"white\",\"linecolor\":\"white\",\"ticks\":\"\"},\"baxis\":{\"gridcolor\":\"white\",\"linecolor\":\"white\",\"ticks\":\"\"},\"bgcolor\":\"#E5ECF6\",\"caxis\":{\"gridcolor\":\"white\",\"linecolor\":\"white\",\"ticks\":\"\"}},\"title\":{\"x\":0.05},\"xaxis\":{\"automargin\":true,\"gridcolor\":\"white\",\"linecolor\":\"white\",\"ticks\":\"\",\"title\":{\"standoff\":15},\"zerolinecolor\":\"white\",\"zerolinewidth\":2},\"yaxis\":{\"automargin\":true,\"gridcolor\":\"white\",\"linecolor\":\"white\",\"ticks\":\"\",\"title\":{\"standoff\":15},\"zerolinecolor\":\"white\",\"zerolinewidth\":2}}},\"title\":{\"text\":\"XGB Feature Importances\",\"x\":0.5},\"xaxis\":{\"tickfont\":{\"size\":12},\"ticktext\":[\"Government Grants\",\"($) Private Gifts \",\"Is_4year_Private_for-profit\",\"(%) Grand Total Undergraduate  Age 25 and over\",\"Total Men Undergraduate  Age 25 and over\",\"Off Campus Price (w/o family)\",\"SAT Reading\",\"ACT Composite\",\"SAT MMath\",\"price*percentage of women Under 25\"],\"tickvals\":[\"Government_Grants\",\"Private_Gifts_As_Dollar_Amount\",\"Sector of institution (HD2018)_Private for-profit, 4-year or above\",\"Grand total (EF2013B_RV  Undergraduate  Age 25 and over total)_as_percentage\",\"Total men (EF2013B_RV  Undergraduate  Age 25 and over total)\",\"Total price for out-of-state students living off campus (not with family)  2012-13 (DRVIC2012_RV)\",\"SAT Critical Reading 75th percentile score (IC2012_RV)_isNaN\",\"ACT Composite 75th percentile score (IC2012_RV)\",\"SAT Math 75th percentile score (IC2012_RV)\",\"price*percentage of women Under 25\"]}},                        {\"responsive\": true}                    ).then(function(){\n",
       "                            \n",
       "var gd = document.getElementById('164ba958-42b2-4827-bf7f-408df10fc813');\n",
       "var x = new MutationObserver(function (mutations, observer) {{\n",
       "        var display = window.getComputedStyle(gd).display;\n",
       "        if (!display || display === 'none') {{\n",
       "            console.log([gd, 'removed!']);\n",
       "            Plotly.purge(gd);\n",
       "            observer.disconnect();\n",
       "        }}\n",
       "}});\n",
       "\n",
       "// Listen for the removal of the full notebook cells\n",
       "var notebookContainer = gd.closest('#notebook-container');\n",
       "if (notebookContainer) {{\n",
       "    x.observe(notebookContainer, {childList: true});\n",
       "}}\n",
       "\n",
       "// Listen for the clearing of the current output cell\n",
       "var outputEl = gd.closest('.output');\n",
       "if (outputEl) {{\n",
       "    x.observe(outputEl, {childList: true});\n",
       "}}\n",
       "\n",
       "                        })                };                });            </script>        </div>"
      ]
     },
     "metadata": {},
     "output_type": "display_data"
    }
   ],
   "source": [
    "# plot first 5 and last 5 on plotly graph\n",
    "fig = go.Figure()\n",
    "fig.add_trace(go.Bar(\n",
    "    y=[i[1] for i in sorted_importances[-10:]], x=[i[0] for i in sorted_importances[-10:]], orientation='v', text=[np.round(i[1], 3) for i in sorted_importances[-10:]]\n",
    "))\n",
    "\n",
    "fig.update_layout(\n",
    "    barmode='group',\n",
    "    title=\"XGB Feature Importances\",\n",
    "    title_x=0.5,\n",
    "    height=800,\n",
    "    font={\n",
    "        \"size\": 16\n",
    "    },\n",
    "    xaxis={\n",
    "        \"tickvals\": [i[0] for i in sorted_importances[-10:]],\n",
    "        \"ticktext\":[\"Government Grants\", \"($) Private Gifts \", \"Is_4year_Private_for-profit\", \"(%) Grand Total Undergraduate  Age 25 and over\", \"Total Men Undergraduate  Age 25 and over\", \n",
    "                    \"Off Campus Price (w/o family)\", \"SAT Reading\", \"ACT Composite\", \"SAT MMath\", 'price*percentage of women Under 25'],\n",
    "        \"tickfont\": {\n",
    "            'size': 12\n",
    "        },\n",
    "        \n",
    "        \n",
    "        \n",
    "    }\n",
    ")\n",
    "fig.update_xaxes()\n",
    "\n",
    "fig.show()"
   ]
  },
  {
   "cell_type": "markdown",
   "id": "6ecfd62a",
   "metadata": {
    "slideshow": {
     "slide_type": "slide"
    }
   },
   "source": [
    "<h1><center>Interpretation of XGB</center></h1>"
   ]
  },
  {
   "cell_type": "markdown",
   "id": "2988e44b",
   "metadata": {
    "slideshow": {
     "slide_type": "slide"
    }
   },
   "source": [
    "<h1><center>Model Performance</center></h1>"
   ]
  },
  {
   "cell_type": "code",
   "execution_count": 90,
   "id": "211d2739",
   "metadata": {
    "slideshow": {
     "slide_type": "skip"
    }
   },
   "outputs": [],
   "source": [
    "model = model_log[-2][\"model\"]\n",
    "y_pred = model.predict(x_test)\n",
    "\n",
    "holdout_pred = model.predict(x_holdout)"
   ]
  },
  {
   "cell_type": "code",
   "execution_count": 91,
   "id": "f4ac6d5e",
   "metadata": {
    "slideshow": {
     "slide_type": "skip"
    }
   },
   "outputs": [],
   "source": [
    "enet = model_log[-1][\"model\"]\n",
    "enet_pred = enet.predict(x_test)"
   ]
  },
  {
   "cell_type": "code",
   "execution_count": 168,
   "id": "c0181931",
   "metadata": {
    "hide_input": true,
    "scrolled": false,
    "slideshow": {
     "slide_type": "fragment"
    }
   },
   "outputs": [
    {
     "data": {
      "application/vnd.plotly.v1+json": {
       "config": {
        "plotlyServerURL": "https://plot.ly"
       },
       "data": [
        {
         "marker": {
          "line": {
           "color": "DarkSlateGrey",
           "width": 2
          },
          "size": 12
         },
         "mode": "markers",
         "name": "XGB(pred, obs)",
         "type": "scatter",
         "x": [
          29.76704216003418,
          74.16468048095703,
          31.539091110229492,
          32.68876266479492,
          54.06010437011719,
          65.74899291992188,
          53.542545318603516,
          67.24430084228516,
          41.33539962768555,
          69.440673828125,
          74.24523162841797,
          22.42776107788086,
          63.53382873535156,
          61.850563049316406,
          58.50278091430664,
          49.33599853515625,
          23.43552589416504,
          62.345977783203125,
          28.40864372253418,
          44.99953842163086,
          43.64713668823242,
          77.15815734863281,
          55.405616760253906,
          39.391815185546875,
          86.27811431884766,
          28.847583770751953,
          54.223323822021484,
          45.88562774658203,
          47.170379638671875,
          62.63334274291992,
          74.93952941894531,
          92.75879669189453,
          18.658367156982422,
          36.81752395629883,
          55.28478240966797,
          53.326385498046875,
          29.43045997619629,
          57.91981506347656,
          30.260866165161133,
          56.44150924682617,
          40.83903884887695,
          52.63052749633789,
          55.090457916259766,
          42.89810562133789,
          85.9775619506836,
          45.77385711669922,
          33.1160888671875,
          85.82123565673828,
          60.31100845336914,
          60.090457916259766,
          62.91338348388672,
          27.35930061340332,
          29.272310256958008,
          74.25377655029297,
          67.15126037597656,
          37.509010314941406,
          25.742935180664062,
          93.97826385498047,
          47.3001708984375,
          51.504730224609375,
          65.02379608154297,
          51.36387252807617,
          65.01500701904297,
          29.900087356567383,
          47.94664001464844,
          48.637027740478516,
          40.958255767822266,
          92.30366516113281,
          51.434715270996094,
          38.895042419433594,
          48.35222625732422,
          53.7861442565918,
          50.520084381103516,
          48.64430618286133,
          44.8288688659668,
          35.88939666748047,
          70.74305725097656,
          30.209001541137695,
          57.305694580078125,
          40.92497253417969,
          55.29769515991211,
          61.80257034301758,
          58.06019973754883,
          44.364742279052734,
          22.638158798217773,
          81.1734390258789,
          83.89927673339844,
          83.28662109375,
          50.8598518371582,
          41.05596923828125,
          54.13117980957031,
          63.31170654296875,
          62.15516662597656,
          43.58932876586914,
          55.824275970458984,
          71.64250946044922,
          51.703582763671875,
          46.01740264892578,
          35.181190490722656,
          13.361345291137695,
          29.183244705200195,
          55.01744079589844,
          65.27139282226562,
          77.48003387451172,
          56.84040832519531,
          67.36558532714844,
          64.27342987060547,
          41.11663055419922,
          25.252580642700195,
          31.4916934967041,
          41.65018081665039,
          53.431915283203125,
          45.30327224731445,
          90.27049255371094,
          62.6236572265625,
          63.2981071472168,
          57.739768981933594,
          38.06508255004883,
          90.3718490600586,
          64.39389038085938,
          58.590354919433594,
          65.60246276855469,
          27.73062515258789,
          48.06666946411133,
          48.15550994873047,
          29.907583236694336,
          30.457603454589844,
          27.30767250061035,
          73.19256591796875,
          42.991172790527344,
          36.37674331665039,
          36.57659149169922,
          52.84497833251953,
          57.506752014160156,
          57.546539306640625,
          42.81515121459961,
          40.31061553955078,
          26.910905838012695,
          71.62335968017578,
          47.41716766357422,
          42.554744720458984,
          29.593019485473633,
          34.42720413208008,
          19.453170776367188,
          19.756969451904297,
          29.83265495300293,
          29.709177017211914,
          72.40984344482422,
          64.74835205078125,
          47.968563079833984,
          40.44265365600586,
          47.3849983215332,
          37.862648010253906,
          43.00382614135742,
          56.89216232299805,
          77.80878448486328,
          59.50946807861328,
          93.10832214355469,
          50.11073303222656,
          54.67161560058594,
          67.73234558105469,
          51.330474853515625,
          65.68366241455078,
          42.79568099975586,
          21.599641799926758,
          58.623600006103516,
          50.14506530761719,
          38.871864318847656,
          36.86266326904297,
          88.82324981689453,
          29.029605865478516,
          59.746238708496094,
          28.09648323059082,
          64.00100708007812,
          67.98554229736328,
          47.542564392089844,
          30.01200294494629,
          69.81961822509766,
          86.88877868652344,
          57.61453628540039,
          69.976806640625,
          44.013973236083984,
          41.25392532348633,
          53.4545783996582,
          47.74345779418945,
          35.11998748779297,
          56.208126068115234,
          80.59089660644531,
          38.97130584716797,
          28.284652709960938,
          44.24428939819336,
          49.33930969238281,
          45.340843200683594,
          81.76070404052734,
          30.407743453979492,
          72.34539794921875,
          33.99327850341797,
          46.237327575683594,
          78.52046203613281,
          26.041841506958008,
          58.982147216796875,
          42.327247619628906,
          47.51921081542969,
          86.20123291015625,
          51.97554016113281,
          45.03044509887695,
          83.12142181396484,
          44.36198043823242,
          66.46076965332031,
          38.49567413330078,
          35.61805725097656,
          68.53279113769531,
          52.40778350830078,
          31.84107208251953,
          61.515769958496094,
          60.58562469482422,
          57.338539123535156,
          31.22001075744629,
          33.8009147644043,
          79.23185729980469,
          26.61532211303711,
          39.02894592285156,
          58.168434143066406,
          49.02871322631836,
          47.800018310546875,
          69.23490142822266,
          46.32892990112305,
          47.209716796875,
          46.50420379638672,
          28.537704467773438,
          60.147708892822266,
          69.00405883789062
         ],
         "y": [
          41,
          81,
          33,
          46,
          52,
          70,
          50,
          66,
          39,
          71,
          77,
          33,
          57,
          64,
          45,
          41,
          24,
          60,
          30,
          46,
          63,
          75,
          64,
          41,
          91,
          35,
          52,
          46,
          33,
          65,
          63,
          94,
          19,
          44,
          50,
          60,
          41,
          65,
          33,
          63,
          34,
          58,
          56,
          71,
          88,
          48,
          31,
          85,
          51,
          58,
          52,
          27,
          26,
          79,
          76,
          32,
          23,
          96,
          48,
          41,
          51,
          54,
          50,
          29,
          54,
          44,
          32,
          96,
          51,
          43,
          63,
          64,
          37,
          61,
          58,
          62,
          65,
          28,
          66,
          41,
          59,
          52,
          47,
          34,
          50,
          85,
          72,
          96,
          48,
          49,
          54,
          66,
          73,
          52,
          64,
          86,
          77,
          33,
          35,
          11,
          7,
          58,
          71,
          75,
          55,
          78,
          71,
          41,
          0,
          31,
          14,
          59,
          33,
          91,
          69,
          63,
          54,
          34,
          88,
          68,
          100,
          71,
          41,
          88,
          38,
          33,
          25,
          47,
          75,
          46,
          20,
          25,
          81,
          71,
          56,
          30,
          50,
          12,
          100,
          50,
          40,
          33,
          50,
          7,
          19,
          19,
          34,
          74,
          67,
          50,
          66,
          58,
          35,
          34,
          50,
          77,
          17,
          91,
          49,
          58,
          73,
          35,
          54,
          36,
          0,
          68,
          46,
          33,
          58,
          90,
          25,
          42,
          28,
          71,
          71,
          45,
          53,
          71,
          91,
          59,
          61,
          50,
          22,
          60,
          33,
          44,
          56,
          81,
          35,
          31,
          94,
          47,
          45,
          79,
          22,
          73,
          36,
          52,
          78,
          26,
          62,
          32,
          50,
          82,
          56,
          50,
          81,
          40,
          57,
          38,
          35,
          67,
          50,
          53,
          67,
          63,
          50,
          28,
          53,
          81,
          21,
          42,
          59,
          46,
          47,
          71,
          64,
          45,
          57,
          23,
          62,
          70
         ]
        },
        {
         "marker": {
          "line": {
           "color": "DarkSlateGrey",
           "width": 2
          },
          "size": 12
         },
         "mode": "markers",
         "name": "ElasticNet(pred, obs)",
         "type": "scatter",
         "x": [
          26.3976231403826,
          77.79391818161726,
          36.690352010504704,
          26.894424663512073,
          58.939637858904796,
          67.4076740824423,
          43.6022513241127,
          68.5129054499676,
          41.9801328234217,
          61.825195289903135,
          73.02294729507226,
          27.10607170077804,
          71.24677595086753,
          55.99413581298111,
          66.65463627557163,
          37.156259575805564,
          32.60448761130444,
          66.82702086727716,
          38.27117659487155,
          45.319326353583584,
          47.69159856507722,
          79.7696189183628,
          51.3743870879149,
          46.97752680710683,
          88.02912245144,
          31.55915262480364,
          57.025138260122795,
          50.15090721146278,
          82.68792459085972,
          70.1461396598508,
          71.1573755258805,
          99.1929622882028,
          24.464661647044885,
          45.564306329831325,
          58.07176178037719,
          56.668988031300216,
          28.919389658100485,
          46.18762007993047,
          24.574548783027076,
          59.99853587724239,
          39.6325179989537,
          53.428131856857846,
          53.45034991928436,
          46.79587593524901,
          81.45738524665836,
          52.642972379701824,
          30.165437036847575,
          80.20124557469867,
          58.95901115116842,
          54.937528972547014,
          49.04007534261841,
          28.481444239739393,
          31.927513997716183,
          76.72707268374494,
          58.72245388244681,
          42.558866618278174,
          37.32715832051046,
          90.36729878120804,
          50.57712669658718,
          47.81119604349254,
          59.272084429540605,
          47.422025386674385,
          61.522032317211,
          29.79189466522182,
          57.43295399841672,
          51.55686642291761,
          57.69533487456889,
          98.82069885961963,
          51.85411445143971,
          39.61613490992141,
          42.32342201495893,
          56.57171631474482,
          50.128283870090776,
          50.89495049127571,
          47.67713306016225,
          38.42897110614948,
          70.93232489900686,
          41.30851598146122,
          65.1842581664717,
          40.248957492398034,
          60.806896630801276,
          48.5519922146904,
          52.909821292366715,
          44.5045535592618,
          33.14220997815894,
          79.09699787220273,
          82.60733221795162,
          87.6191305261782,
          55.39442721060799,
          41.618239851240816,
          59.83760223663299,
          74.80384086244683,
          56.980817826205936,
          45.88452418169165,
          63.365350233379885,
          66.01635337361907,
          45.23599896932537,
          42.12135114482298,
          34.34108386544664,
          36.17113071566527,
          27.154594058928236,
          66.5937796141844,
          61.47929272004684,
          77.72439793154795,
          62.79216908535501,
          86.7179827577423,
          64.0206761123072,
          45.03890950712494,
          42.109724852502474,
          43.71540834999056,
          32.63267997220949,
          64.82235342188739,
          38.51000386518247,
          84.35232817523845,
          59.68155666030829,
          51.67968403166129,
          52.677427747878234,
          34.177261039580884,
          86.79077377578822,
          63.66984136598622,
          58.97198018395984,
          54.53938584741466,
          39.561370266526296,
          59.101280091871566,
          50.12274591794463,
          42.21273851579599,
          24.41650929914932,
          32.74365858959111,
          65.66669101490461,
          45.30933266132777,
          24.434306154401376,
          35.05222835550405,
          43.927141290189056,
          52.063090770725005,
          61.95088921484744,
          35.50763905933201,
          45.83389794344252,
          30.03290090180864,
          28.257973142857644,
          41.44616868240864,
          40.70450628368862,
          38.21424654184197,
          26.334609636689276,
          12.401616838092316,
          24.24115503242207,
          37.980999831672534,
          27.180744602301314,
          74.8805496525669,
          71.35710092265288,
          46.90132584152733,
          44.052416665465216,
          52.25986047019789,
          45.474839762549564,
          35.56943491074377,
          43.95419006398612,
          79.08253444080543,
          36.814773217305344,
          93.84347833572352,
          51.52343145330376,
          62.65589510286566,
          68.22981470454211,
          50.87427468722152,
          61.548792836348376,
          36.13623542899397,
          34.166704671994225,
          63.21405896850667,
          42.46457337456148,
          31.050780113200965,
          37.101852824187525,
          94.86080761722377,
          28.812720787522604,
          69.64875197754306,
          26.283662411214962,
          60.25481049533007,
          62.00565754837486,
          50.981521637913936,
          36.527679044790766,
          68.13874751772782,
          90.55042433387628,
          57.77869138690765,
          63.34687405320022,
          49.89344526170834,
          37.66436733655759,
          52.51846871197141,
          44.83122377986856,
          27.049161026010285,
          56.81808548326149,
          80.75996495116014,
          38.95592707741094,
          26.426532350839665,
          48.76763381543246,
          48.137327677535296,
          44.18290922275599,
          74.84084674592087,
          23.121046363376045,
          69.796613835117,
          42.76130969983169,
          51.1502633781649,
          48.435306286770654,
          22.57976116417354,
          44.51412139086878,
          49.61766508969772,
          47.541638198700255,
          87.01744972895641,
          52.216861382202985,
          52.812181299448866,
          74.91841729413827,
          52.019493720220225,
          70.04331264505527,
          39.29179960852608,
          36.80528807469123,
          67.44514280247996,
          49.5630107601435,
          36.30322905993999,
          60.55464149112104,
          62.43146787167801,
          54.696035014715235,
          17.15731349934008,
          31.18141540052946,
          77.59816049810911,
          30.629847034629453,
          47.47711144127656,
          57.972565739021924,
          55.18532065213821,
          41.59537818683869,
          64.33660091182244,
          36.04834944779081,
          47.400638690360005,
          50.01422148786036,
          33.90572017780424,
          50.441438977909606,
          63.39149584905746
         ],
         "y": [
          41,
          81,
          33,
          46,
          52,
          70,
          50,
          66,
          39,
          71,
          77,
          33,
          57,
          64,
          45,
          41,
          24,
          60,
          30,
          46,
          63,
          75,
          64,
          41,
          91,
          35,
          52,
          46,
          33,
          65,
          63,
          94,
          19,
          44,
          50,
          60,
          41,
          65,
          33,
          63,
          34,
          58,
          56,
          71,
          88,
          48,
          31,
          85,
          51,
          58,
          52,
          27,
          26,
          79,
          76,
          32,
          23,
          96,
          48,
          41,
          51,
          54,
          50,
          29,
          54,
          44,
          32,
          96,
          51,
          43,
          63,
          64,
          37,
          61,
          58,
          62,
          65,
          28,
          66,
          41,
          59,
          52,
          47,
          34,
          50,
          85,
          72,
          96,
          48,
          49,
          54,
          66,
          73,
          52,
          64,
          86,
          77,
          33,
          35,
          11,
          7,
          58,
          71,
          75,
          55,
          78,
          71,
          41,
          0,
          31,
          14,
          59,
          33,
          91,
          69,
          63,
          54,
          34,
          88,
          68,
          100,
          71,
          41,
          88,
          38,
          33,
          25,
          47,
          75,
          46,
          20,
          25,
          81,
          71,
          56,
          30,
          50,
          12,
          100,
          50,
          40,
          33,
          50,
          7,
          19,
          19,
          34,
          74,
          67,
          50,
          66,
          58,
          35,
          34,
          50,
          77,
          17,
          91,
          49,
          58,
          73,
          35,
          54,
          36,
          0,
          68,
          46,
          33,
          58,
          90,
          25,
          42,
          28,
          71,
          71,
          45,
          53,
          71,
          91,
          59,
          61,
          50,
          22,
          60,
          33,
          44,
          56,
          81,
          35,
          31,
          94,
          47,
          45,
          79,
          22,
          73,
          36,
          52,
          78,
          26,
          62,
          32,
          50,
          82,
          56,
          50,
          81,
          40,
          57,
          38,
          35,
          67,
          50,
          53,
          67,
          63,
          50,
          28,
          53,
          81,
          21,
          42,
          59,
          46,
          47,
          71,
          64,
          45,
          57,
          23,
          62,
          70
         ]
        },
        {
         "hovertext": [
          "Spelman College",
          "University of Delaware",
          "University of North Carolina at Asheville"
         ],
         "marker": {
          "line": {
           "color": "DarkSlateGrey",
           "width": 2
          },
          "size": 12
         },
         "mode": "markers",
         "name": "(predicted, observed)",
         "type": "scatter",
         "x": [
          56.86893844604492,
          79.85235595703125,
          56.335594177246094
         ],
         "y": [
          75,
          81,
          59
         ]
        },
        {
         "line": {
          "width": 4
         },
         "name": "100% Accuracy",
         "type": "scatter",
         "x": [
          0,
          1.0101010101010102,
          2.0202020202020203,
          3.0303030303030303,
          4.040404040404041,
          5.050505050505051,
          6.0606060606060606,
          7.070707070707071,
          8.080808080808081,
          9.090909090909092,
          10.101010101010102,
          11.111111111111112,
          12.121212121212121,
          13.131313131313131,
          14.141414141414142,
          15.151515151515152,
          16.161616161616163,
          17.171717171717173,
          18.181818181818183,
          19.191919191919194,
          20.202020202020204,
          21.212121212121215,
          22.222222222222225,
          23.232323232323235,
          24.242424242424242,
          25.252525252525253,
          26.262626262626263,
          27.272727272727273,
          28.282828282828284,
          29.292929292929294,
          30.303030303030305,
          31.313131313131315,
          32.323232323232325,
          33.333333333333336,
          34.343434343434346,
          35.35353535353536,
          36.36363636363637,
          37.37373737373738,
          38.38383838383839,
          39.3939393939394,
          40.40404040404041,
          41.41414141414142,
          42.42424242424243,
          43.43434343434344,
          44.44444444444445,
          45.45454545454546,
          46.46464646464647,
          47.47474747474748,
          48.484848484848484,
          49.494949494949495,
          50.505050505050505,
          51.515151515151516,
          52.525252525252526,
          53.535353535353536,
          54.54545454545455,
          55.55555555555556,
          56.56565656565657,
          57.57575757575758,
          58.58585858585859,
          59.5959595959596,
          60.60606060606061,
          61.61616161616162,
          62.62626262626263,
          63.63636363636364,
          64.64646464646465,
          65.65656565656566,
          66.66666666666667,
          67.67676767676768,
          68.68686868686869,
          69.6969696969697,
          70.70707070707071,
          71.71717171717172,
          72.72727272727273,
          73.73737373737374,
          74.74747474747475,
          75.75757575757576,
          76.76767676767678,
          77.77777777777779,
          78.7878787878788,
          79.7979797979798,
          80.80808080808082,
          81.81818181818183,
          82.82828282828284,
          83.83838383838385,
          84.84848484848486,
          85.85858585858587,
          86.86868686868688,
          87.87878787878789,
          88.8888888888889,
          89.89898989898991,
          90.90909090909092,
          91.91919191919193,
          92.92929292929294,
          93.93939393939395,
          94.94949494949496,
          95.95959595959597,
          96.96969696969697,
          97.97979797979798,
          98.98989898989899,
          100
         ],
         "y": [
          0,
          1.0101010101010102,
          2.0202020202020203,
          3.0303030303030303,
          4.040404040404041,
          5.050505050505051,
          6.0606060606060606,
          7.070707070707071,
          8.080808080808081,
          9.090909090909092,
          10.101010101010102,
          11.111111111111112,
          12.121212121212121,
          13.131313131313131,
          14.141414141414142,
          15.151515151515152,
          16.161616161616163,
          17.171717171717173,
          18.181818181818183,
          19.191919191919194,
          20.202020202020204,
          21.212121212121215,
          22.222222222222225,
          23.232323232323235,
          24.242424242424242,
          25.252525252525253,
          26.262626262626263,
          27.272727272727273,
          28.282828282828284,
          29.292929292929294,
          30.303030303030305,
          31.313131313131315,
          32.323232323232325,
          33.333333333333336,
          34.343434343434346,
          35.35353535353536,
          36.36363636363637,
          37.37373737373738,
          38.38383838383839,
          39.3939393939394,
          40.40404040404041,
          41.41414141414142,
          42.42424242424243,
          43.43434343434344,
          44.44444444444445,
          45.45454545454546,
          46.46464646464647,
          47.47474747474748,
          48.484848484848484,
          49.494949494949495,
          50.505050505050505,
          51.515151515151516,
          52.525252525252526,
          53.535353535353536,
          54.54545454545455,
          55.55555555555556,
          56.56565656565657,
          57.57575757575758,
          58.58585858585859,
          59.5959595959596,
          60.60606060606061,
          61.61616161616162,
          62.62626262626263,
          63.63636363636364,
          64.64646464646465,
          65.65656565656566,
          66.66666666666667,
          67.67676767676768,
          68.68686868686869,
          69.6969696969697,
          70.70707070707071,
          71.71717171717172,
          72.72727272727273,
          73.73737373737374,
          74.74747474747475,
          75.75757575757576,
          76.76767676767678,
          77.77777777777779,
          78.7878787878788,
          79.7979797979798,
          80.80808080808082,
          81.81818181818183,
          82.82828282828284,
          83.83838383838385,
          84.84848484848486,
          85.85858585858587,
          86.86868686868688,
          87.87878787878789,
          88.8888888888889,
          89.89898989898991,
          90.90909090909092,
          91.91919191919193,
          92.92929292929294,
          93.93939393939395,
          94.94949494949496,
          95.95959595959597,
          96.96969696969697,
          97.97979797979798,
          98.98989898989899,
          100
         ]
        }
       ],
       "layout": {
        "font": {
         "family": "Courier New, monospace",
         "size": 14
        },
        "height": 700,
        "legend": {
         "bgcolor": "rgba(176,196,222,0.7)",
         "bordercolor": "black",
         "borderwidth": 2,
         "itemclick": "toggle",
         "orientation": "v",
         "title": {
          "text": "Legend"
         },
         "x": 0.01,
         "y": 0.9
        },
        "template": {
         "data": {
          "bar": [
           {
            "error_x": {
             "color": "#2a3f5f"
            },
            "error_y": {
             "color": "#2a3f5f"
            },
            "marker": {
             "line": {
              "color": "#E5ECF6",
              "width": 0.5
             },
             "pattern": {
              "fillmode": "overlay",
              "size": 10,
              "solidity": 0.2
             }
            },
            "type": "bar"
           }
          ],
          "barpolar": [
           {
            "marker": {
             "line": {
              "color": "#E5ECF6",
              "width": 0.5
             },
             "pattern": {
              "fillmode": "overlay",
              "size": 10,
              "solidity": 0.2
             }
            },
            "type": "barpolar"
           }
          ],
          "carpet": [
           {
            "aaxis": {
             "endlinecolor": "#2a3f5f",
             "gridcolor": "white",
             "linecolor": "white",
             "minorgridcolor": "white",
             "startlinecolor": "#2a3f5f"
            },
            "baxis": {
             "endlinecolor": "#2a3f5f",
             "gridcolor": "white",
             "linecolor": "white",
             "minorgridcolor": "white",
             "startlinecolor": "#2a3f5f"
            },
            "type": "carpet"
           }
          ],
          "choropleth": [
           {
            "colorbar": {
             "outlinewidth": 0,
             "ticks": ""
            },
            "type": "choropleth"
           }
          ],
          "contour": [
           {
            "colorbar": {
             "outlinewidth": 0,
             "ticks": ""
            },
            "colorscale": [
             [
              0,
              "#0d0887"
             ],
             [
              0.1111111111111111,
              "#46039f"
             ],
             [
              0.2222222222222222,
              "#7201a8"
             ],
             [
              0.3333333333333333,
              "#9c179e"
             ],
             [
              0.4444444444444444,
              "#bd3786"
             ],
             [
              0.5555555555555556,
              "#d8576b"
             ],
             [
              0.6666666666666666,
              "#ed7953"
             ],
             [
              0.7777777777777778,
              "#fb9f3a"
             ],
             [
              0.8888888888888888,
              "#fdca26"
             ],
             [
              1,
              "#f0f921"
             ]
            ],
            "type": "contour"
           }
          ],
          "contourcarpet": [
           {
            "colorbar": {
             "outlinewidth": 0,
             "ticks": ""
            },
            "type": "contourcarpet"
           }
          ],
          "heatmap": [
           {
            "colorbar": {
             "outlinewidth": 0,
             "ticks": ""
            },
            "colorscale": [
             [
              0,
              "#0d0887"
             ],
             [
              0.1111111111111111,
              "#46039f"
             ],
             [
              0.2222222222222222,
              "#7201a8"
             ],
             [
              0.3333333333333333,
              "#9c179e"
             ],
             [
              0.4444444444444444,
              "#bd3786"
             ],
             [
              0.5555555555555556,
              "#d8576b"
             ],
             [
              0.6666666666666666,
              "#ed7953"
             ],
             [
              0.7777777777777778,
              "#fb9f3a"
             ],
             [
              0.8888888888888888,
              "#fdca26"
             ],
             [
              1,
              "#f0f921"
             ]
            ],
            "type": "heatmap"
           }
          ],
          "heatmapgl": [
           {
            "colorbar": {
             "outlinewidth": 0,
             "ticks": ""
            },
            "colorscale": [
             [
              0,
              "#0d0887"
             ],
             [
              0.1111111111111111,
              "#46039f"
             ],
             [
              0.2222222222222222,
              "#7201a8"
             ],
             [
              0.3333333333333333,
              "#9c179e"
             ],
             [
              0.4444444444444444,
              "#bd3786"
             ],
             [
              0.5555555555555556,
              "#d8576b"
             ],
             [
              0.6666666666666666,
              "#ed7953"
             ],
             [
              0.7777777777777778,
              "#fb9f3a"
             ],
             [
              0.8888888888888888,
              "#fdca26"
             ],
             [
              1,
              "#f0f921"
             ]
            ],
            "type": "heatmapgl"
           }
          ],
          "histogram": [
           {
            "marker": {
             "pattern": {
              "fillmode": "overlay",
              "size": 10,
              "solidity": 0.2
             }
            },
            "type": "histogram"
           }
          ],
          "histogram2d": [
           {
            "colorbar": {
             "outlinewidth": 0,
             "ticks": ""
            },
            "colorscale": [
             [
              0,
              "#0d0887"
             ],
             [
              0.1111111111111111,
              "#46039f"
             ],
             [
              0.2222222222222222,
              "#7201a8"
             ],
             [
              0.3333333333333333,
              "#9c179e"
             ],
             [
              0.4444444444444444,
              "#bd3786"
             ],
             [
              0.5555555555555556,
              "#d8576b"
             ],
             [
              0.6666666666666666,
              "#ed7953"
             ],
             [
              0.7777777777777778,
              "#fb9f3a"
             ],
             [
              0.8888888888888888,
              "#fdca26"
             ],
             [
              1,
              "#f0f921"
             ]
            ],
            "type": "histogram2d"
           }
          ],
          "histogram2dcontour": [
           {
            "colorbar": {
             "outlinewidth": 0,
             "ticks": ""
            },
            "colorscale": [
             [
              0,
              "#0d0887"
             ],
             [
              0.1111111111111111,
              "#46039f"
             ],
             [
              0.2222222222222222,
              "#7201a8"
             ],
             [
              0.3333333333333333,
              "#9c179e"
             ],
             [
              0.4444444444444444,
              "#bd3786"
             ],
             [
              0.5555555555555556,
              "#d8576b"
             ],
             [
              0.6666666666666666,
              "#ed7953"
             ],
             [
              0.7777777777777778,
              "#fb9f3a"
             ],
             [
              0.8888888888888888,
              "#fdca26"
             ],
             [
              1,
              "#f0f921"
             ]
            ],
            "type": "histogram2dcontour"
           }
          ],
          "mesh3d": [
           {
            "colorbar": {
             "outlinewidth": 0,
             "ticks": ""
            },
            "type": "mesh3d"
           }
          ],
          "parcoords": [
           {
            "line": {
             "colorbar": {
              "outlinewidth": 0,
              "ticks": ""
             }
            },
            "type": "parcoords"
           }
          ],
          "pie": [
           {
            "automargin": true,
            "type": "pie"
           }
          ],
          "scatter": [
           {
            "marker": {
             "colorbar": {
              "outlinewidth": 0,
              "ticks": ""
             }
            },
            "type": "scatter"
           }
          ],
          "scatter3d": [
           {
            "line": {
             "colorbar": {
              "outlinewidth": 0,
              "ticks": ""
             }
            },
            "marker": {
             "colorbar": {
              "outlinewidth": 0,
              "ticks": ""
             }
            },
            "type": "scatter3d"
           }
          ],
          "scattercarpet": [
           {
            "marker": {
             "colorbar": {
              "outlinewidth": 0,
              "ticks": ""
             }
            },
            "type": "scattercarpet"
           }
          ],
          "scattergeo": [
           {
            "marker": {
             "colorbar": {
              "outlinewidth": 0,
              "ticks": ""
             }
            },
            "type": "scattergeo"
           }
          ],
          "scattergl": [
           {
            "marker": {
             "colorbar": {
              "outlinewidth": 0,
              "ticks": ""
             }
            },
            "type": "scattergl"
           }
          ],
          "scattermapbox": [
           {
            "marker": {
             "colorbar": {
              "outlinewidth": 0,
              "ticks": ""
             }
            },
            "type": "scattermapbox"
           }
          ],
          "scatterpolar": [
           {
            "marker": {
             "colorbar": {
              "outlinewidth": 0,
              "ticks": ""
             }
            },
            "type": "scatterpolar"
           }
          ],
          "scatterpolargl": [
           {
            "marker": {
             "colorbar": {
              "outlinewidth": 0,
              "ticks": ""
             }
            },
            "type": "scatterpolargl"
           }
          ],
          "scatterternary": [
           {
            "marker": {
             "colorbar": {
              "outlinewidth": 0,
              "ticks": ""
             }
            },
            "type": "scatterternary"
           }
          ],
          "surface": [
           {
            "colorbar": {
             "outlinewidth": 0,
             "ticks": ""
            },
            "colorscale": [
             [
              0,
              "#0d0887"
             ],
             [
              0.1111111111111111,
              "#46039f"
             ],
             [
              0.2222222222222222,
              "#7201a8"
             ],
             [
              0.3333333333333333,
              "#9c179e"
             ],
             [
              0.4444444444444444,
              "#bd3786"
             ],
             [
              0.5555555555555556,
              "#d8576b"
             ],
             [
              0.6666666666666666,
              "#ed7953"
             ],
             [
              0.7777777777777778,
              "#fb9f3a"
             ],
             [
              0.8888888888888888,
              "#fdca26"
             ],
             [
              1,
              "#f0f921"
             ]
            ],
            "type": "surface"
           }
          ],
          "table": [
           {
            "cells": {
             "fill": {
              "color": "#EBF0F8"
             },
             "line": {
              "color": "white"
             }
            },
            "header": {
             "fill": {
              "color": "#C8D4E3"
             },
             "line": {
              "color": "white"
             }
            },
            "type": "table"
           }
          ]
         },
         "layout": {
          "annotationdefaults": {
           "arrowcolor": "#2a3f5f",
           "arrowhead": 0,
           "arrowwidth": 1
          },
          "autotypenumbers": "strict",
          "coloraxis": {
           "colorbar": {
            "outlinewidth": 0,
            "ticks": ""
           }
          },
          "colorscale": {
           "diverging": [
            [
             0,
             "#8e0152"
            ],
            [
             0.1,
             "#c51b7d"
            ],
            [
             0.2,
             "#de77ae"
            ],
            [
             0.3,
             "#f1b6da"
            ],
            [
             0.4,
             "#fde0ef"
            ],
            [
             0.5,
             "#f7f7f7"
            ],
            [
             0.6,
             "#e6f5d0"
            ],
            [
             0.7,
             "#b8e186"
            ],
            [
             0.8,
             "#7fbc41"
            ],
            [
             0.9,
             "#4d9221"
            ],
            [
             1,
             "#276419"
            ]
           ],
           "sequential": [
            [
             0,
             "#0d0887"
            ],
            [
             0.1111111111111111,
             "#46039f"
            ],
            [
             0.2222222222222222,
             "#7201a8"
            ],
            [
             0.3333333333333333,
             "#9c179e"
            ],
            [
             0.4444444444444444,
             "#bd3786"
            ],
            [
             0.5555555555555556,
             "#d8576b"
            ],
            [
             0.6666666666666666,
             "#ed7953"
            ],
            [
             0.7777777777777778,
             "#fb9f3a"
            ],
            [
             0.8888888888888888,
             "#fdca26"
            ],
            [
             1,
             "#f0f921"
            ]
           ],
           "sequentialminus": [
            [
             0,
             "#0d0887"
            ],
            [
             0.1111111111111111,
             "#46039f"
            ],
            [
             0.2222222222222222,
             "#7201a8"
            ],
            [
             0.3333333333333333,
             "#9c179e"
            ],
            [
             0.4444444444444444,
             "#bd3786"
            ],
            [
             0.5555555555555556,
             "#d8576b"
            ],
            [
             0.6666666666666666,
             "#ed7953"
            ],
            [
             0.7777777777777778,
             "#fb9f3a"
            ],
            [
             0.8888888888888888,
             "#fdca26"
            ],
            [
             1,
             "#f0f921"
            ]
           ]
          },
          "colorway": [
           "#636efa",
           "#EF553B",
           "#00cc96",
           "#ab63fa",
           "#FFA15A",
           "#19d3f3",
           "#FF6692",
           "#B6E880",
           "#FF97FF",
           "#FECB52"
          ],
          "font": {
           "color": "#2a3f5f"
          },
          "geo": {
           "bgcolor": "white",
           "lakecolor": "white",
           "landcolor": "#E5ECF6",
           "showlakes": true,
           "showland": true,
           "subunitcolor": "white"
          },
          "hoverlabel": {
           "align": "left"
          },
          "hovermode": "closest",
          "mapbox": {
           "style": "light"
          },
          "paper_bgcolor": "white",
          "plot_bgcolor": "#E5ECF6",
          "polar": {
           "angularaxis": {
            "gridcolor": "white",
            "linecolor": "white",
            "ticks": ""
           },
           "bgcolor": "#E5ECF6",
           "radialaxis": {
            "gridcolor": "white",
            "linecolor": "white",
            "ticks": ""
           }
          },
          "scene": {
           "xaxis": {
            "backgroundcolor": "#E5ECF6",
            "gridcolor": "white",
            "gridwidth": 2,
            "linecolor": "white",
            "showbackground": true,
            "ticks": "",
            "zerolinecolor": "white"
           },
           "yaxis": {
            "backgroundcolor": "#E5ECF6",
            "gridcolor": "white",
            "gridwidth": 2,
            "linecolor": "white",
            "showbackground": true,
            "ticks": "",
            "zerolinecolor": "white"
           },
           "zaxis": {
            "backgroundcolor": "#E5ECF6",
            "gridcolor": "white",
            "gridwidth": 2,
            "linecolor": "white",
            "showbackground": true,
            "ticks": "",
            "zerolinecolor": "white"
           }
          },
          "shapedefaults": {
           "line": {
            "color": "#2a3f5f"
           }
          },
          "ternary": {
           "aaxis": {
            "gridcolor": "white",
            "linecolor": "white",
            "ticks": ""
           },
           "baxis": {
            "gridcolor": "white",
            "linecolor": "white",
            "ticks": ""
           },
           "bgcolor": "#E5ECF6",
           "caxis": {
            "gridcolor": "white",
            "linecolor": "white",
            "ticks": ""
           }
          },
          "title": {
           "x": 0.05
          },
          "xaxis": {
           "automargin": true,
           "gridcolor": "white",
           "linecolor": "white",
           "ticks": "",
           "title": {
            "standoff": 15
           },
           "zerolinecolor": "white",
           "zerolinewidth": 2
          },
          "yaxis": {
           "automargin": true,
           "gridcolor": "white",
           "linecolor": "white",
           "ticks": "",
           "title": {
            "standoff": 15
           },
           "zerolinecolor": "white",
           "zerolinewidth": 2
          }
         }
        },
        "title": {
         "text": "Model Performance"
        },
        "xaxis": {
         "range": [
          -2,
          102
         ],
         "title": {
          "text": "Predicted Value"
         }
        },
        "yaxis": {
         "range": [
          -2,
          102
         ],
         "title": {
          "text": "Observed Value"
         }
        }
       }
      },
      "text/html": [
       "<div>                            <div id=\"05a7ce54-901f-40de-9061-ef074ae33d96\" class=\"plotly-graph-div\" style=\"height:700px; width:100%;\"></div>            <script type=\"text/javascript\">                require([\"plotly\"], function(Plotly) {                    window.PLOTLYENV=window.PLOTLYENV || {};                                    if (document.getElementById(\"05a7ce54-901f-40de-9061-ef074ae33d96\")) {                    Plotly.newPlot(                        \"05a7ce54-901f-40de-9061-ef074ae33d96\",                        [{\"marker\":{\"line\":{\"color\":\"DarkSlateGrey\",\"width\":2},\"size\":12},\"mode\":\"markers\",\"name\":\"XGB(pred, obs)\",\"type\":\"scatter\",\"x\":[29.76704216003418,74.16468048095703,31.539091110229492,32.68876266479492,54.06010437011719,65.74899291992188,53.542545318603516,67.24430084228516,41.33539962768555,69.440673828125,74.24523162841797,22.42776107788086,63.53382873535156,61.850563049316406,58.50278091430664,49.33599853515625,23.43552589416504,62.345977783203125,28.40864372253418,44.99953842163086,43.64713668823242,77.15815734863281,55.405616760253906,39.391815185546875,86.27811431884766,28.847583770751953,54.223323822021484,45.88562774658203,47.170379638671875,62.63334274291992,74.93952941894531,92.75879669189453,18.658367156982422,36.81752395629883,55.28478240966797,53.326385498046875,29.43045997619629,57.91981506347656,30.260866165161133,56.44150924682617,40.83903884887695,52.63052749633789,55.090457916259766,42.89810562133789,85.9775619506836,45.77385711669922,33.1160888671875,85.82123565673828,60.31100845336914,60.090457916259766,62.91338348388672,27.35930061340332,29.272310256958008,74.25377655029297,67.15126037597656,37.509010314941406,25.742935180664062,93.97826385498047,47.3001708984375,51.504730224609375,65.02379608154297,51.36387252807617,65.01500701904297,29.900087356567383,47.94664001464844,48.637027740478516,40.958255767822266,92.30366516113281,51.434715270996094,38.895042419433594,48.35222625732422,53.7861442565918,50.520084381103516,48.64430618286133,44.8288688659668,35.88939666748047,70.74305725097656,30.209001541137695,57.305694580078125,40.92497253417969,55.29769515991211,61.80257034301758,58.06019973754883,44.364742279052734,22.638158798217773,81.1734390258789,83.89927673339844,83.28662109375,50.8598518371582,41.05596923828125,54.13117980957031,63.31170654296875,62.15516662597656,43.58932876586914,55.824275970458984,71.64250946044922,51.703582763671875,46.01740264892578,35.181190490722656,13.361345291137695,29.183244705200195,55.01744079589844,65.27139282226562,77.48003387451172,56.84040832519531,67.36558532714844,64.27342987060547,41.11663055419922,25.252580642700195,31.4916934967041,41.65018081665039,53.431915283203125,45.30327224731445,90.27049255371094,62.6236572265625,63.2981071472168,57.739768981933594,38.06508255004883,90.3718490600586,64.39389038085938,58.590354919433594,65.60246276855469,27.73062515258789,48.06666946411133,48.15550994873047,29.907583236694336,30.457603454589844,27.30767250061035,73.19256591796875,42.991172790527344,36.37674331665039,36.57659149169922,52.84497833251953,57.506752014160156,57.546539306640625,42.81515121459961,40.31061553955078,26.910905838012695,71.62335968017578,47.41716766357422,42.554744720458984,29.593019485473633,34.42720413208008,19.453170776367188,19.756969451904297,29.83265495300293,29.709177017211914,72.40984344482422,64.74835205078125,47.968563079833984,40.44265365600586,47.3849983215332,37.862648010253906,43.00382614135742,56.89216232299805,77.80878448486328,59.50946807861328,93.10832214355469,50.11073303222656,54.67161560058594,67.73234558105469,51.330474853515625,65.68366241455078,42.79568099975586,21.599641799926758,58.623600006103516,50.14506530761719,38.871864318847656,36.86266326904297,88.82324981689453,29.029605865478516,59.746238708496094,28.09648323059082,64.00100708007812,67.98554229736328,47.542564392089844,30.01200294494629,69.81961822509766,86.88877868652344,57.61453628540039,69.976806640625,44.013973236083984,41.25392532348633,53.4545783996582,47.74345779418945,35.11998748779297,56.208126068115234,80.59089660644531,38.97130584716797,28.284652709960938,44.24428939819336,49.33930969238281,45.340843200683594,81.76070404052734,30.407743453979492,72.34539794921875,33.99327850341797,46.237327575683594,78.52046203613281,26.041841506958008,58.982147216796875,42.327247619628906,47.51921081542969,86.20123291015625,51.97554016113281,45.03044509887695,83.12142181396484,44.36198043823242,66.46076965332031,38.49567413330078,35.61805725097656,68.53279113769531,52.40778350830078,31.84107208251953,61.515769958496094,60.58562469482422,57.338539123535156,31.22001075744629,33.8009147644043,79.23185729980469,26.61532211303711,39.02894592285156,58.168434143066406,49.02871322631836,47.800018310546875,69.23490142822266,46.32892990112305,47.209716796875,46.50420379638672,28.537704467773438,60.147708892822266,69.00405883789062],\"y\":[41.0,81.0,33.0,46.0,52.0,70.0,50.0,66.0,39.0,71.0,77.0,33.0,57.0,64.0,45.0,41.0,24.0,60.0,30.0,46.0,63.0,75.0,64.0,41.0,91.0,35.0,52.0,46.0,33.0,65.0,63.0,94.0,19.0,44.0,50.0,60.0,41.0,65.0,33.0,63.0,34.0,58.0,56.0,71.0,88.0,48.0,31.0,85.0,51.0,58.0,52.0,27.0,26.0,79.0,76.0,32.0,23.0,96.0,48.0,41.0,51.0,54.0,50.0,29.0,54.0,44.0,32.0,96.0,51.0,43.0,63.0,64.0,37.0,61.0,58.0,62.0,65.0,28.0,66.0,41.0,59.0,52.0,47.0,34.0,50.0,85.0,72.0,96.0,48.0,49.0,54.0,66.0,73.0,52.0,64.0,86.0,77.0,33.0,35.0,11.0,7.0,58.0,71.0,75.0,55.0,78.0,71.0,41.0,0.0,31.0,14.0,59.0,33.0,91.0,69.0,63.0,54.0,34.0,88.0,68.0,100.0,71.0,41.0,88.0,38.0,33.0,25.0,47.0,75.0,46.0,20.0,25.0,81.0,71.0,56.0,30.0,50.0,12.0,100.0,50.0,40.0,33.0,50.0,7.0,19.0,19.0,34.0,74.0,67.0,50.0,66.0,58.0,35.0,34.0,50.0,77.0,17.0,91.0,49.0,58.0,73.0,35.0,54.0,36.0,0.0,68.0,46.0,33.0,58.0,90.0,25.0,42.0,28.0,71.0,71.0,45.0,53.0,71.0,91.0,59.0,61.0,50.0,22.0,60.0,33.0,44.0,56.0,81.0,35.0,31.0,94.0,47.0,45.0,79.0,22.0,73.0,36.0,52.0,78.0,26.0,62.0,32.0,50.0,82.0,56.0,50.0,81.0,40.0,57.0,38.0,35.0,67.0,50.0,53.0,67.0,63.0,50.0,28.0,53.0,81.0,21.0,42.0,59.0,46.0,47.0,71.0,64.0,45.0,57.0,23.0,62.0,70.0]},{\"marker\":{\"line\":{\"color\":\"DarkSlateGrey\",\"width\":2},\"size\":12},\"mode\":\"markers\",\"name\":\"ElasticNet(pred, obs)\",\"type\":\"scatter\",\"x\":[26.3976231403826,77.79391818161726,36.690352010504704,26.894424663512073,58.939637858904796,67.4076740824423,43.6022513241127,68.5129054499676,41.9801328234217,61.825195289903135,73.02294729507226,27.10607170077804,71.24677595086753,55.99413581298111,66.65463627557163,37.156259575805564,32.60448761130444,66.82702086727716,38.27117659487155,45.319326353583584,47.69159856507722,79.7696189183628,51.3743870879149,46.97752680710683,88.02912245144,31.55915262480364,57.025138260122795,50.15090721146278,82.68792459085972,70.1461396598508,71.1573755258805,99.1929622882028,24.464661647044885,45.564306329831325,58.07176178037719,56.668988031300216,28.919389658100485,46.18762007993047,24.574548783027076,59.99853587724239,39.6325179989537,53.428131856857846,53.45034991928436,46.79587593524901,81.45738524665836,52.642972379701824,30.165437036847575,80.20124557469867,58.95901115116842,54.937528972547014,49.04007534261841,28.481444239739393,31.927513997716183,76.72707268374494,58.72245388244681,42.558866618278174,37.32715832051046,90.36729878120804,50.57712669658718,47.81119604349254,59.272084429540605,47.422025386674385,61.522032317211,29.79189466522182,57.43295399841672,51.55686642291761,57.69533487456889,98.82069885961963,51.85411445143971,39.61613490992141,42.32342201495893,56.57171631474482,50.128283870090776,50.89495049127571,47.67713306016225,38.42897110614948,70.93232489900686,41.30851598146122,65.1842581664717,40.248957492398034,60.806896630801276,48.5519922146904,52.909821292366715,44.5045535592618,33.14220997815894,79.09699787220273,82.60733221795162,87.6191305261782,55.39442721060799,41.618239851240816,59.83760223663299,74.80384086244683,56.980817826205936,45.88452418169165,63.365350233379885,66.01635337361907,45.23599896932537,42.12135114482298,34.34108386544664,36.17113071566527,27.154594058928236,66.5937796141844,61.47929272004684,77.72439793154795,62.79216908535501,86.7179827577423,64.0206761123072,45.03890950712494,42.109724852502474,43.71540834999056,32.63267997220949,64.82235342188739,38.51000386518247,84.35232817523845,59.68155666030829,51.67968403166129,52.677427747878234,34.177261039580884,86.79077377578822,63.66984136598622,58.97198018395984,54.53938584741466,39.561370266526296,59.101280091871566,50.12274591794463,42.21273851579599,24.41650929914932,32.74365858959111,65.66669101490461,45.30933266132777,24.434306154401376,35.05222835550405,43.927141290189056,52.063090770725005,61.95088921484744,35.50763905933201,45.83389794344252,30.03290090180864,28.257973142857644,41.44616868240864,40.70450628368862,38.21424654184197,26.334609636689276,12.401616838092316,24.24115503242207,37.980999831672534,27.180744602301314,74.8805496525669,71.35710092265288,46.90132584152733,44.052416665465216,52.25986047019789,45.474839762549564,35.56943491074377,43.95419006398612,79.08253444080543,36.814773217305344,93.84347833572352,51.52343145330376,62.65589510286566,68.22981470454211,50.87427468722152,61.548792836348376,36.13623542899397,34.166704671994225,63.21405896850667,42.46457337456148,31.050780113200965,37.101852824187525,94.86080761722377,28.812720787522604,69.64875197754306,26.283662411214962,60.25481049533007,62.00565754837486,50.981521637913936,36.527679044790766,68.13874751772782,90.55042433387628,57.77869138690765,63.34687405320022,49.89344526170834,37.66436733655759,52.51846871197141,44.83122377986856,27.049161026010285,56.81808548326149,80.75996495116014,38.95592707741094,26.426532350839665,48.76763381543246,48.137327677535296,44.18290922275599,74.84084674592087,23.121046363376045,69.796613835117,42.76130969983169,51.1502633781649,48.435306286770654,22.57976116417354,44.51412139086878,49.61766508969772,47.541638198700255,87.01744972895641,52.216861382202985,52.812181299448866,74.91841729413827,52.019493720220225,70.04331264505527,39.29179960852608,36.80528807469123,67.44514280247996,49.5630107601435,36.30322905993999,60.55464149112104,62.43146787167801,54.696035014715235,17.15731349934008,31.18141540052946,77.59816049810911,30.629847034629453,47.47711144127656,57.972565739021924,55.18532065213821,41.59537818683869,64.33660091182244,36.04834944779081,47.400638690360005,50.01422148786036,33.90572017780424,50.441438977909606,63.39149584905746],\"y\":[41.0,81.0,33.0,46.0,52.0,70.0,50.0,66.0,39.0,71.0,77.0,33.0,57.0,64.0,45.0,41.0,24.0,60.0,30.0,46.0,63.0,75.0,64.0,41.0,91.0,35.0,52.0,46.0,33.0,65.0,63.0,94.0,19.0,44.0,50.0,60.0,41.0,65.0,33.0,63.0,34.0,58.0,56.0,71.0,88.0,48.0,31.0,85.0,51.0,58.0,52.0,27.0,26.0,79.0,76.0,32.0,23.0,96.0,48.0,41.0,51.0,54.0,50.0,29.0,54.0,44.0,32.0,96.0,51.0,43.0,63.0,64.0,37.0,61.0,58.0,62.0,65.0,28.0,66.0,41.0,59.0,52.0,47.0,34.0,50.0,85.0,72.0,96.0,48.0,49.0,54.0,66.0,73.0,52.0,64.0,86.0,77.0,33.0,35.0,11.0,7.0,58.0,71.0,75.0,55.0,78.0,71.0,41.0,0.0,31.0,14.0,59.0,33.0,91.0,69.0,63.0,54.0,34.0,88.0,68.0,100.0,71.0,41.0,88.0,38.0,33.0,25.0,47.0,75.0,46.0,20.0,25.0,81.0,71.0,56.0,30.0,50.0,12.0,100.0,50.0,40.0,33.0,50.0,7.0,19.0,19.0,34.0,74.0,67.0,50.0,66.0,58.0,35.0,34.0,50.0,77.0,17.0,91.0,49.0,58.0,73.0,35.0,54.0,36.0,0.0,68.0,46.0,33.0,58.0,90.0,25.0,42.0,28.0,71.0,71.0,45.0,53.0,71.0,91.0,59.0,61.0,50.0,22.0,60.0,33.0,44.0,56.0,81.0,35.0,31.0,94.0,47.0,45.0,79.0,22.0,73.0,36.0,52.0,78.0,26.0,62.0,32.0,50.0,82.0,56.0,50.0,81.0,40.0,57.0,38.0,35.0,67.0,50.0,53.0,67.0,63.0,50.0,28.0,53.0,81.0,21.0,42.0,59.0,46.0,47.0,71.0,64.0,45.0,57.0,23.0,62.0,70.0]},{\"hovertext\":[\"Spelman College\",\"University of Delaware\",\"University of North Carolina at Asheville\"],\"marker\":{\"line\":{\"color\":\"DarkSlateGrey\",\"width\":2},\"size\":12},\"mode\":\"markers\",\"name\":\"(predicted, observed)\",\"type\":\"scatter\",\"x\":[56.86893844604492,79.85235595703125,56.335594177246094],\"y\":[75.0,81.0,59.0]},{\"line\":{\"width\":4},\"name\":\"100% Accuracy\",\"type\":\"scatter\",\"x\":[0.0,1.0101010101010102,2.0202020202020203,3.0303030303030303,4.040404040404041,5.050505050505051,6.0606060606060606,7.070707070707071,8.080808080808081,9.090909090909092,10.101010101010102,11.111111111111112,12.121212121212121,13.131313131313131,14.141414141414142,15.151515151515152,16.161616161616163,17.171717171717173,18.181818181818183,19.191919191919194,20.202020202020204,21.212121212121215,22.222222222222225,23.232323232323235,24.242424242424242,25.252525252525253,26.262626262626263,27.272727272727273,28.282828282828284,29.292929292929294,30.303030303030305,31.313131313131315,32.323232323232325,33.333333333333336,34.343434343434346,35.35353535353536,36.36363636363637,37.37373737373738,38.38383838383839,39.3939393939394,40.40404040404041,41.41414141414142,42.42424242424243,43.43434343434344,44.44444444444445,45.45454545454546,46.46464646464647,47.47474747474748,48.484848484848484,49.494949494949495,50.505050505050505,51.515151515151516,52.525252525252526,53.535353535353536,54.54545454545455,55.55555555555556,56.56565656565657,57.57575757575758,58.58585858585859,59.5959595959596,60.60606060606061,61.61616161616162,62.62626262626263,63.63636363636364,64.64646464646465,65.65656565656566,66.66666666666667,67.67676767676768,68.68686868686869,69.6969696969697,70.70707070707071,71.71717171717172,72.72727272727273,73.73737373737374,74.74747474747475,75.75757575757576,76.76767676767678,77.77777777777779,78.7878787878788,79.7979797979798,80.80808080808082,81.81818181818183,82.82828282828284,83.83838383838385,84.84848484848486,85.85858585858587,86.86868686868688,87.87878787878789,88.8888888888889,89.89898989898991,90.90909090909092,91.91919191919193,92.92929292929294,93.93939393939395,94.94949494949496,95.95959595959597,96.96969696969697,97.97979797979798,98.98989898989899,100.0],\"y\":[0.0,1.0101010101010102,2.0202020202020203,3.0303030303030303,4.040404040404041,5.050505050505051,6.0606060606060606,7.070707070707071,8.080808080808081,9.090909090909092,10.101010101010102,11.111111111111112,12.121212121212121,13.131313131313131,14.141414141414142,15.151515151515152,16.161616161616163,17.171717171717173,18.181818181818183,19.191919191919194,20.202020202020204,21.212121212121215,22.222222222222225,23.232323232323235,24.242424242424242,25.252525252525253,26.262626262626263,27.272727272727273,28.282828282828284,29.292929292929294,30.303030303030305,31.313131313131315,32.323232323232325,33.333333333333336,34.343434343434346,35.35353535353536,36.36363636363637,37.37373737373738,38.38383838383839,39.3939393939394,40.40404040404041,41.41414141414142,42.42424242424243,43.43434343434344,44.44444444444445,45.45454545454546,46.46464646464647,47.47474747474748,48.484848484848484,49.494949494949495,50.505050505050505,51.515151515151516,52.525252525252526,53.535353535353536,54.54545454545455,55.55555555555556,56.56565656565657,57.57575757575758,58.58585858585859,59.5959595959596,60.60606060606061,61.61616161616162,62.62626262626263,63.63636363636364,64.64646464646465,65.65656565656566,66.66666666666667,67.67676767676768,68.68686868686869,69.6969696969697,70.70707070707071,71.71717171717172,72.72727272727273,73.73737373737374,74.74747474747475,75.75757575757576,76.76767676767678,77.77777777777779,78.7878787878788,79.7979797979798,80.80808080808082,81.81818181818183,82.82828282828284,83.83838383838385,84.84848484848486,85.85858585858587,86.86868686868688,87.87878787878789,88.8888888888889,89.89898989898991,90.90909090909092,91.91919191919193,92.92929292929294,93.93939393939395,94.94949494949496,95.95959595959597,96.96969696969697,97.97979797979798,98.98989898989899,100.0]}],                        {\"font\":{\"family\":\"Courier New, monospace\",\"size\":14},\"height\":700,\"legend\":{\"bgcolor\":\"rgba(176,196,222,0.7)\",\"bordercolor\":\"black\",\"borderwidth\":2,\"itemclick\":\"toggle\",\"orientation\":\"v\",\"title\":{\"text\":\"Legend\"},\"x\":0.01,\"y\":0.9},\"template\":{\"data\":{\"bar\":[{\"error_x\":{\"color\":\"#2a3f5f\"},\"error_y\":{\"color\":\"#2a3f5f\"},\"marker\":{\"line\":{\"color\":\"#E5ECF6\",\"width\":0.5},\"pattern\":{\"fillmode\":\"overlay\",\"size\":10,\"solidity\":0.2}},\"type\":\"bar\"}],\"barpolar\":[{\"marker\":{\"line\":{\"color\":\"#E5ECF6\",\"width\":0.5},\"pattern\":{\"fillmode\":\"overlay\",\"size\":10,\"solidity\":0.2}},\"type\":\"barpolar\"}],\"carpet\":[{\"aaxis\":{\"endlinecolor\":\"#2a3f5f\",\"gridcolor\":\"white\",\"linecolor\":\"white\",\"minorgridcolor\":\"white\",\"startlinecolor\":\"#2a3f5f\"},\"baxis\":{\"endlinecolor\":\"#2a3f5f\",\"gridcolor\":\"white\",\"linecolor\":\"white\",\"minorgridcolor\":\"white\",\"startlinecolor\":\"#2a3f5f\"},\"type\":\"carpet\"}],\"choropleth\":[{\"colorbar\":{\"outlinewidth\":0,\"ticks\":\"\"},\"type\":\"choropleth\"}],\"contour\":[{\"colorbar\":{\"outlinewidth\":0,\"ticks\":\"\"},\"colorscale\":[[0.0,\"#0d0887\"],[0.1111111111111111,\"#46039f\"],[0.2222222222222222,\"#7201a8\"],[0.3333333333333333,\"#9c179e\"],[0.4444444444444444,\"#bd3786\"],[0.5555555555555556,\"#d8576b\"],[0.6666666666666666,\"#ed7953\"],[0.7777777777777778,\"#fb9f3a\"],[0.8888888888888888,\"#fdca26\"],[1.0,\"#f0f921\"]],\"type\":\"contour\"}],\"contourcarpet\":[{\"colorbar\":{\"outlinewidth\":0,\"ticks\":\"\"},\"type\":\"contourcarpet\"}],\"heatmap\":[{\"colorbar\":{\"outlinewidth\":0,\"ticks\":\"\"},\"colorscale\":[[0.0,\"#0d0887\"],[0.1111111111111111,\"#46039f\"],[0.2222222222222222,\"#7201a8\"],[0.3333333333333333,\"#9c179e\"],[0.4444444444444444,\"#bd3786\"],[0.5555555555555556,\"#d8576b\"],[0.6666666666666666,\"#ed7953\"],[0.7777777777777778,\"#fb9f3a\"],[0.8888888888888888,\"#fdca26\"],[1.0,\"#f0f921\"]],\"type\":\"heatmap\"}],\"heatmapgl\":[{\"colorbar\":{\"outlinewidth\":0,\"ticks\":\"\"},\"colorscale\":[[0.0,\"#0d0887\"],[0.1111111111111111,\"#46039f\"],[0.2222222222222222,\"#7201a8\"],[0.3333333333333333,\"#9c179e\"],[0.4444444444444444,\"#bd3786\"],[0.5555555555555556,\"#d8576b\"],[0.6666666666666666,\"#ed7953\"],[0.7777777777777778,\"#fb9f3a\"],[0.8888888888888888,\"#fdca26\"],[1.0,\"#f0f921\"]],\"type\":\"heatmapgl\"}],\"histogram\":[{\"marker\":{\"pattern\":{\"fillmode\":\"overlay\",\"size\":10,\"solidity\":0.2}},\"type\":\"histogram\"}],\"histogram2d\":[{\"colorbar\":{\"outlinewidth\":0,\"ticks\":\"\"},\"colorscale\":[[0.0,\"#0d0887\"],[0.1111111111111111,\"#46039f\"],[0.2222222222222222,\"#7201a8\"],[0.3333333333333333,\"#9c179e\"],[0.4444444444444444,\"#bd3786\"],[0.5555555555555556,\"#d8576b\"],[0.6666666666666666,\"#ed7953\"],[0.7777777777777778,\"#fb9f3a\"],[0.8888888888888888,\"#fdca26\"],[1.0,\"#f0f921\"]],\"type\":\"histogram2d\"}],\"histogram2dcontour\":[{\"colorbar\":{\"outlinewidth\":0,\"ticks\":\"\"},\"colorscale\":[[0.0,\"#0d0887\"],[0.1111111111111111,\"#46039f\"],[0.2222222222222222,\"#7201a8\"],[0.3333333333333333,\"#9c179e\"],[0.4444444444444444,\"#bd3786\"],[0.5555555555555556,\"#d8576b\"],[0.6666666666666666,\"#ed7953\"],[0.7777777777777778,\"#fb9f3a\"],[0.8888888888888888,\"#fdca26\"],[1.0,\"#f0f921\"]],\"type\":\"histogram2dcontour\"}],\"mesh3d\":[{\"colorbar\":{\"outlinewidth\":0,\"ticks\":\"\"},\"type\":\"mesh3d\"}],\"parcoords\":[{\"line\":{\"colorbar\":{\"outlinewidth\":0,\"ticks\":\"\"}},\"type\":\"parcoords\"}],\"pie\":[{\"automargin\":true,\"type\":\"pie\"}],\"scatter\":[{\"marker\":{\"colorbar\":{\"outlinewidth\":0,\"ticks\":\"\"}},\"type\":\"scatter\"}],\"scatter3d\":[{\"line\":{\"colorbar\":{\"outlinewidth\":0,\"ticks\":\"\"}},\"marker\":{\"colorbar\":{\"outlinewidth\":0,\"ticks\":\"\"}},\"type\":\"scatter3d\"}],\"scattercarpet\":[{\"marker\":{\"colorbar\":{\"outlinewidth\":0,\"ticks\":\"\"}},\"type\":\"scattercarpet\"}],\"scattergeo\":[{\"marker\":{\"colorbar\":{\"outlinewidth\":0,\"ticks\":\"\"}},\"type\":\"scattergeo\"}],\"scattergl\":[{\"marker\":{\"colorbar\":{\"outlinewidth\":0,\"ticks\":\"\"}},\"type\":\"scattergl\"}],\"scattermapbox\":[{\"marker\":{\"colorbar\":{\"outlinewidth\":0,\"ticks\":\"\"}},\"type\":\"scattermapbox\"}],\"scatterpolar\":[{\"marker\":{\"colorbar\":{\"outlinewidth\":0,\"ticks\":\"\"}},\"type\":\"scatterpolar\"}],\"scatterpolargl\":[{\"marker\":{\"colorbar\":{\"outlinewidth\":0,\"ticks\":\"\"}},\"type\":\"scatterpolargl\"}],\"scatterternary\":[{\"marker\":{\"colorbar\":{\"outlinewidth\":0,\"ticks\":\"\"}},\"type\":\"scatterternary\"}],\"surface\":[{\"colorbar\":{\"outlinewidth\":0,\"ticks\":\"\"},\"colorscale\":[[0.0,\"#0d0887\"],[0.1111111111111111,\"#46039f\"],[0.2222222222222222,\"#7201a8\"],[0.3333333333333333,\"#9c179e\"],[0.4444444444444444,\"#bd3786\"],[0.5555555555555556,\"#d8576b\"],[0.6666666666666666,\"#ed7953\"],[0.7777777777777778,\"#fb9f3a\"],[0.8888888888888888,\"#fdca26\"],[1.0,\"#f0f921\"]],\"type\":\"surface\"}],\"table\":[{\"cells\":{\"fill\":{\"color\":\"#EBF0F8\"},\"line\":{\"color\":\"white\"}},\"header\":{\"fill\":{\"color\":\"#C8D4E3\"},\"line\":{\"color\":\"white\"}},\"type\":\"table\"}]},\"layout\":{\"annotationdefaults\":{\"arrowcolor\":\"#2a3f5f\",\"arrowhead\":0,\"arrowwidth\":1},\"autotypenumbers\":\"strict\",\"coloraxis\":{\"colorbar\":{\"outlinewidth\":0,\"ticks\":\"\"}},\"colorscale\":{\"diverging\":[[0,\"#8e0152\"],[0.1,\"#c51b7d\"],[0.2,\"#de77ae\"],[0.3,\"#f1b6da\"],[0.4,\"#fde0ef\"],[0.5,\"#f7f7f7\"],[0.6,\"#e6f5d0\"],[0.7,\"#b8e186\"],[0.8,\"#7fbc41\"],[0.9,\"#4d9221\"],[1,\"#276419\"]],\"sequential\":[[0.0,\"#0d0887\"],[0.1111111111111111,\"#46039f\"],[0.2222222222222222,\"#7201a8\"],[0.3333333333333333,\"#9c179e\"],[0.4444444444444444,\"#bd3786\"],[0.5555555555555556,\"#d8576b\"],[0.6666666666666666,\"#ed7953\"],[0.7777777777777778,\"#fb9f3a\"],[0.8888888888888888,\"#fdca26\"],[1.0,\"#f0f921\"]],\"sequentialminus\":[[0.0,\"#0d0887\"],[0.1111111111111111,\"#46039f\"],[0.2222222222222222,\"#7201a8\"],[0.3333333333333333,\"#9c179e\"],[0.4444444444444444,\"#bd3786\"],[0.5555555555555556,\"#d8576b\"],[0.6666666666666666,\"#ed7953\"],[0.7777777777777778,\"#fb9f3a\"],[0.8888888888888888,\"#fdca26\"],[1.0,\"#f0f921\"]]},\"colorway\":[\"#636efa\",\"#EF553B\",\"#00cc96\",\"#ab63fa\",\"#FFA15A\",\"#19d3f3\",\"#FF6692\",\"#B6E880\",\"#FF97FF\",\"#FECB52\"],\"font\":{\"color\":\"#2a3f5f\"},\"geo\":{\"bgcolor\":\"white\",\"lakecolor\":\"white\",\"landcolor\":\"#E5ECF6\",\"showlakes\":true,\"showland\":true,\"subunitcolor\":\"white\"},\"hoverlabel\":{\"align\":\"left\"},\"hovermode\":\"closest\",\"mapbox\":{\"style\":\"light\"},\"paper_bgcolor\":\"white\",\"plot_bgcolor\":\"#E5ECF6\",\"polar\":{\"angularaxis\":{\"gridcolor\":\"white\",\"linecolor\":\"white\",\"ticks\":\"\"},\"bgcolor\":\"#E5ECF6\",\"radialaxis\":{\"gridcolor\":\"white\",\"linecolor\":\"white\",\"ticks\":\"\"}},\"scene\":{\"xaxis\":{\"backgroundcolor\":\"#E5ECF6\",\"gridcolor\":\"white\",\"gridwidth\":2,\"linecolor\":\"white\",\"showbackground\":true,\"ticks\":\"\",\"zerolinecolor\":\"white\"},\"yaxis\":{\"backgroundcolor\":\"#E5ECF6\",\"gridcolor\":\"white\",\"gridwidth\":2,\"linecolor\":\"white\",\"showbackground\":true,\"ticks\":\"\",\"zerolinecolor\":\"white\"},\"zaxis\":{\"backgroundcolor\":\"#E5ECF6\",\"gridcolor\":\"white\",\"gridwidth\":2,\"linecolor\":\"white\",\"showbackground\":true,\"ticks\":\"\",\"zerolinecolor\":\"white\"}},\"shapedefaults\":{\"line\":{\"color\":\"#2a3f5f\"}},\"ternary\":{\"aaxis\":{\"gridcolor\":\"white\",\"linecolor\":\"white\",\"ticks\":\"\"},\"baxis\":{\"gridcolor\":\"white\",\"linecolor\":\"white\",\"ticks\":\"\"},\"bgcolor\":\"#E5ECF6\",\"caxis\":{\"gridcolor\":\"white\",\"linecolor\":\"white\",\"ticks\":\"\"}},\"title\":{\"x\":0.05},\"xaxis\":{\"automargin\":true,\"gridcolor\":\"white\",\"linecolor\":\"white\",\"ticks\":\"\",\"title\":{\"standoff\":15},\"zerolinecolor\":\"white\",\"zerolinewidth\":2},\"yaxis\":{\"automargin\":true,\"gridcolor\":\"white\",\"linecolor\":\"white\",\"ticks\":\"\",\"title\":{\"standoff\":15},\"zerolinecolor\":\"white\",\"zerolinewidth\":2}}},\"title\":{\"text\":\"Model Performance\"},\"xaxis\":{\"range\":[-2,102],\"title\":{\"text\":\"Predicted Value\"}},\"yaxis\":{\"range\":[-2,102],\"title\":{\"text\":\"Observed Value\"}}},                        {\"responsive\": true}                    ).then(function(){\n",
       "                            \n",
       "var gd = document.getElementById('05a7ce54-901f-40de-9061-ef074ae33d96');\n",
       "var x = new MutationObserver(function (mutations, observer) {{\n",
       "        var display = window.getComputedStyle(gd).display;\n",
       "        if (!display || display === 'none') {{\n",
       "            console.log([gd, 'removed!']);\n",
       "            Plotly.purge(gd);\n",
       "            observer.disconnect();\n",
       "        }}\n",
       "}});\n",
       "\n",
       "// Listen for the removal of the full notebook cells\n",
       "var notebookContainer = gd.closest('#notebook-container');\n",
       "if (notebookContainer) {{\n",
       "    x.observe(notebookContainer, {childList: true});\n",
       "}}\n",
       "\n",
       "// Listen for the clearing of the current output cell\n",
       "var outputEl = gd.closest('.output');\n",
       "if (outputEl) {{\n",
       "    x.observe(outputEl, {childList: true});\n",
       "}}\n",
       "\n",
       "                        })                };                });            </script>        </div>"
      ]
     },
     "metadata": {},
     "output_type": "display_data"
    }
   ],
   "source": [
    "fig = go.Figure()\n",
    "fig.add_trace(\n",
    "    go.Scatter(x=y_pred, y=y_test, name=\"XGB(pred, obs)\", mode=\"markers\")\n",
    ")\n",
    "fig.add_trace(\n",
    "    go.Scatter(x=enet_pred, y=y_test, name=\"ElasticNet(pred, obs)\", mode=\"markers\")\n",
    ")\n",
    "fig.add_trace(\n",
    "    go.Scatter(x=holdout_pred, y=y_holdout, name=\"(predicted, observed)\", mode=\"markers\", hovertext=x_holdout.index)\n",
    ")\n",
    "fig.add_trace(\n",
    "    go.Scatter(x=np.linspace(0,100, 100), y=np.linspace(0,100,100), name=\"100% Accuracy\", line_width=4)\n",
    ")\n",
    "fig.update_layout(\n",
    "    title=\"Model Performance\",\n",
    "    xaxis={\n",
    "        \"title\": \"Predicted Value\",\n",
    "        \"range\": [-2, 102]\n",
    "    },\n",
    "    yaxis={\n",
    "        \"title\": \"Observed Value\",\n",
    "        \"range\": [-2, 102]\n",
    "    },\n",
    "    \n",
    "    font=dict(\n",
    "        family=\"Courier New, monospace\",\n",
    "        size=14),\n",
    "    legend={\n",
    "        'orientation': 'v',\n",
    "        'title': \"Legend\",\n",
    "        'x': 0.01,\n",
    "        'y': 0.9,\n",
    "        'bgcolor': \"rgba(176,196,222,0.7)\",\n",
    "        'bordercolor': \"black\",\n",
    "        'borderwidth': 2,\n",
    "        'itemclick': \"toggle\",\n",
    "    },\n",
    "    height=700\n",
    ")\n",
    "\n",
    "fig.update_traces(marker=dict(size=12,\n",
    "                              line=dict(width=2,\n",
    "                              color='DarkSlateGrey')),\n",
    "                  selector=dict(mode='markers'))\n",
    "fig.show()"
   ]
  },
  {
   "cell_type": "code",
   "execution_count": null,
   "id": "65e5c907",
   "metadata": {},
   "outputs": [],
   "source": []
  },
  {
   "cell_type": "code",
   "execution_count": null,
   "id": "be1bdd5f",
   "metadata": {},
   "outputs": [],
   "source": []
  },
  {
   "cell_type": "code",
   "execution_count": null,
   "id": "59f2f305",
   "metadata": {
    "hide_input": true
   },
   "outputs": [],
   "source": []
  }
 ],
 "metadata": {
  "celltoolbar": "Slideshow",
  "hide_input": false,
  "kernelspec": {
   "display_name": "Python 3 (ipykernel)",
   "language": "python",
   "name": "python3"
  },
  "language_info": {
   "codemirror_mode": {
    "name": "ipython",
    "version": 3
   },
   "file_extension": ".py",
   "mimetype": "text/x-python",
   "name": "python",
   "nbconvert_exporter": "python",
   "pygments_lexer": "ipython3",
   "version": "3.8.5"
  },
  "toc": {
   "base_numbering": 1,
   "nav_menu": {
    "height": "800.733px",
    "width": "731.733px"
   },
   "number_sections": true,
   "sideBar": false,
   "skip_h1_title": false,
   "title_cell": "Table of Contents",
   "title_sidebar": "Contents",
   "toc_cell": false,
   "toc_position": {
    "height": "46.9833px",
    "left": "1665.4px",
    "top": "0px",
    "width": "158.6px"
   },
   "toc_section_display": false,
   "toc_window_display": false
  }
 },
 "nbformat": 4,
 "nbformat_minor": 5
}
